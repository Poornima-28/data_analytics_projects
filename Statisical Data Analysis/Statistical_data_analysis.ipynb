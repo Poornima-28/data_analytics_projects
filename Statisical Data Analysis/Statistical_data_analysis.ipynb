{
 "cells": [
  {
   "cell_type": "markdown",
   "metadata": {},
   "source": [
    "## Project Description\n",
    "\n",
    "The commercial department of a telecom operator mega line wants to know which plans among the two prepaid plan they offer brings more revenue in order to adjust advertising budget\n",
    "\n",
    "**Task: Analyse client’s behaviour and determine which plan brings more revenue** \n",
    "\n",
    "\n",
    "**Plans Description:**\n",
    "Megaline rounds seconds up to minutes, and megabytes to gigabytes. For calls, each individual call is rounded up: even if the call lasted just one second, it will be counted as one minute. For web traffic, individual web sessions are not rounded up. Instead, the total for the month is rounded up. If someone uses 1025 megabytes this month, they will be charged for 2 gigabytes.\n",
    "\n",
    "1. Surf\n",
    "- Monthly charge: 20 dollars\n",
    "- 500 monthly minutes, 50 texts, and 15 GB of data\n",
    "- After exceeding the package limits:\n",
    "    - 1 minute: 3 cents\n",
    "    - 1 text message: 3 cents\n",
    "    - 1 GB of data: 10 dollars\n",
    "\n",
    "2. Ultimate\n",
    "- Monthly charge: 70 dollars\n",
    "- 3000 monthly minutes, 1000 text messages, and 30 GB of data\n",
    "- After exceeding the package limits:\n",
    "    - 1 minute: 1 cent\n",
    "    - 1 text message: 1 cent\n",
    "    - 1 GB of data: 7 dollars\n",
    "\n",
    "\n",
    "### Data Description\n",
    "\n",
    "\n",
    "The users table (data on users):\n",
    "1. user_id — unique user identifier\n",
    "2. first_name — user's name\n",
    "3. last_name — user's last name\n",
    "4. age — user's age (years)\n",
    "5. reg_date — subscription date (dd, mm, yy)\n",
    "6. churn_date — the date the user stopped using the service (if the value is missing, the calling plan was being used when this data was retrieved)\n",
    "7. city — user's city of residence\n",
    "8. plan — calling plan name\n",
    "\n",
    "The calls table (data on calls):\n",
    "1. id — unique call identifier\n",
    "2. call_date — call date\n",
    "3. duration — call duration (in minutes)\n",
    "4. user_id — the identifier of the user making the call\n",
    "5. The messages table (data on texts):\n",
    "6. id — unique text message identifier\n",
    "7. message_date — text message date\n",
    "8. user_id — the identifier of the user sending the text\n",
    "\n",
    "The internet table (data on web sessions):\n",
    "1. id — unique session identifier\n",
    "2. mb_used — the volume of data spent during the session (in megabytes)\n",
    "3. session_date — web session date\n",
    "4. user_id — user identifier\n",
    "\n",
    "The plans table (data on the plans):\n",
    "1. plan_name — calling plan name\n",
    "2. usd_monthly_fee — monthly charge in US dollars\n",
    "3. minutes_included — monthly minute allowance\n",
    "4. messages_included — monthly text allowance\n",
    "5. mb_per_month_included — data volume allowance (in megabytes)\n",
    "6. usd_per_minute — price per minute after exceeding the package limits (e.g., if the package includes 100 minutes, the 101st minute will be charged)\n",
    "7. usd_per_message — price per text after exceeding the package limits\n",
    "8. usd_per_gb — price per extra gigabyte of data after exceeding the package limits (1 GB = 1024 megabytes)"
   ]
  },
  {
   "cell_type": "code",
   "execution_count": 1,
   "metadata": {},
   "outputs": [],
   "source": [
    "import pandas as pd\n",
    "import numpy as np\n",
    "import matplotlib.pyplot as plt\n",
    "import scipy.stats\n",
    "\n",
    "plt.style.use('seaborn')"
   ]
  },
  {
   "cell_type": "code",
   "execution_count": 2,
   "metadata": {},
   "outputs": [],
   "source": [
    "calls = pd.read_csv('megaline_calls.csv')\n",
    "internet = pd.read_csv('megaline_internet.csv')\n",
    "mssges = pd.read_csv('megaline_messages.csv')\n",
    "plans = pd.read_csv('megaline_plans.csv')\n",
    "users = pd.read_csv('megaline_users.csv')"
   ]
  },
  {
   "cell_type": "code",
   "execution_count": 3,
   "metadata": {
    "scrolled": true
   },
   "outputs": [
    {
     "data": {
      "text/plain": [
       "[         id  user_id   call_date  duration\n",
       " 0   1000_93     1000  2018-12-27      8.52\n",
       " 1  1000_145     1000  2018-12-27     13.66\n",
       " 2  1000_247     1000  2018-12-27     14.48\n",
       " 3  1000_309     1000  2018-12-28      5.76\n",
       " 4  1000_380     1000  2018-12-30      4.22,\n",
       "              user_id       duration\n",
       " count  137735.000000  137735.000000\n",
       " mean     1247.658046       6.745927\n",
       " std       139.416268       5.839241\n",
       " min      1000.000000       0.000000\n",
       " 25%      1128.000000       1.290000\n",
       " 50%      1247.000000       5.980000\n",
       " 75%      1365.000000      10.690000\n",
       " max      1499.000000      37.600000]"
      ]
     },
     "execution_count": 3,
     "metadata": {},
     "output_type": "execute_result"
    }
   ],
   "source": [
    "[calls.head(),calls.describe()]"
   ]
  },
  {
   "cell_type": "markdown",
   "metadata": {},
   "source": [
    "##### Calls \n",
    "\n",
    "- The minimum call duration is 0 mins which refers to a missed call and maximum duration is 37.6 mins."
   ]
  },
  {
   "cell_type": "code",
   "execution_count": 4,
   "metadata": {},
   "outputs": [
    {
     "data": {
      "text/plain": [
       "[         id  user_id session_date  mb_used\n",
       " 0   1000_13     1000   2018-12-29    89.86\n",
       " 1  1000_204     1000   2018-12-31     0.00\n",
       " 2  1000_379     1000   2018-12-28   660.40\n",
       " 3  1000_413     1000   2018-12-26   270.99\n",
       " 4  1000_442     1000   2018-12-27   880.22,\n",
       "              user_id        mb_used\n",
       " count  104825.000000  104825.000000\n",
       " mean     1242.496361     366.713701\n",
       " std       142.053913     277.170542\n",
       " min      1000.000000       0.000000\n",
       " 25%      1122.000000     136.080000\n",
       " 50%      1236.000000     343.980000\n",
       " 75%      1367.000000     554.610000\n",
       " max      1499.000000    1693.470000]"
      ]
     },
     "execution_count": 4,
     "metadata": {},
     "output_type": "execute_result"
    }
   ],
   "source": [
    "[internet.head(),internet.describe()]"
   ]
  },
  {
   "cell_type": "markdown",
   "metadata": {},
   "source": [
    "##### internet\n",
    "- the minimum data that has been used is 0 mb and maximum is 1693.47 mb"
   ]
  },
  {
   "cell_type": "code",
   "execution_count": 5,
   "metadata": {},
   "outputs": [
    {
     "data": {
      "text/plain": [
       "[         id  user_id message_date\n",
       " 0  1000_125     1000   2018-12-27\n",
       " 1  1000_160     1000   2018-12-31\n",
       " 2  1000_223     1000   2018-12-31\n",
       " 3  1000_251     1000   2018-12-27\n",
       " 4  1000_255     1000   2018-12-26,\n",
       "             user_id\n",
       " count  76051.000000\n",
       " mean    1245.972768\n",
       " std      139.843635\n",
       " min     1000.000000\n",
       " 25%     1123.000000\n",
       " 50%     1251.000000\n",
       " 75%     1362.000000\n",
       " max     1497.000000]"
      ]
     },
     "execution_count": 5,
     "metadata": {},
     "output_type": "execute_result"
    }
   ],
   "source": [
    "[mssges.head(),mssges.describe()]"
   ]
  },
  {
   "cell_type": "markdown",
   "metadata": {},
   "source": [
    "- This data is clean"
   ]
  },
  {
   "cell_type": "code",
   "execution_count": 6,
   "metadata": {},
   "outputs": [
    {
     "data": {
      "text/html": [
       "<div>\n",
       "<style scoped>\n",
       "    .dataframe tbody tr th:only-of-type {\n",
       "        vertical-align: middle;\n",
       "    }\n",
       "\n",
       "    .dataframe tbody tr th {\n",
       "        vertical-align: top;\n",
       "    }\n",
       "\n",
       "    .dataframe thead th {\n",
       "        text-align: right;\n",
       "    }\n",
       "</style>\n",
       "<table border=\"1\" class=\"dataframe\">\n",
       "  <thead>\n",
       "    <tr style=\"text-align: right;\">\n",
       "      <th></th>\n",
       "      <th>messages_included</th>\n",
       "      <th>mb_per_month_included</th>\n",
       "      <th>minutes_included</th>\n",
       "      <th>usd_monthly_pay</th>\n",
       "      <th>usd_per_gb</th>\n",
       "      <th>usd_per_message</th>\n",
       "      <th>usd_per_minute</th>\n",
       "      <th>plan_name</th>\n",
       "    </tr>\n",
       "  </thead>\n",
       "  <tbody>\n",
       "    <tr>\n",
       "      <th>0</th>\n",
       "      <td>50</td>\n",
       "      <td>15360</td>\n",
       "      <td>500</td>\n",
       "      <td>20</td>\n",
       "      <td>10</td>\n",
       "      <td>0.03</td>\n",
       "      <td>0.03</td>\n",
       "      <td>surf</td>\n",
       "    </tr>\n",
       "    <tr>\n",
       "      <th>1</th>\n",
       "      <td>1000</td>\n",
       "      <td>30720</td>\n",
       "      <td>3000</td>\n",
       "      <td>70</td>\n",
       "      <td>7</td>\n",
       "      <td>0.01</td>\n",
       "      <td>0.01</td>\n",
       "      <td>ultimate</td>\n",
       "    </tr>\n",
       "  </tbody>\n",
       "</table>\n",
       "</div>"
      ],
      "text/plain": [
       "   messages_included  mb_per_month_included  minutes_included  \\\n",
       "0                 50                  15360               500   \n",
       "1               1000                  30720              3000   \n",
       "\n",
       "   usd_monthly_pay  usd_per_gb  usd_per_message  usd_per_minute plan_name  \n",
       "0               20          10             0.03            0.03      surf  \n",
       "1               70           7             0.01            0.01  ultimate  "
      ]
     },
     "execution_count": 6,
     "metadata": {},
     "output_type": "execute_result"
    }
   ],
   "source": [
    "plans.head()"
   ]
  },
  {
   "cell_type": "markdown",
   "metadata": {},
   "source": [
    "- There are two plans surf and ultimate and the corresponing details."
   ]
  },
  {
   "cell_type": "code",
   "execution_count": 7,
   "metadata": {},
   "outputs": [
    {
     "data": {
      "text/html": [
       "<div>\n",
       "<style scoped>\n",
       "    .dataframe tbody tr th:only-of-type {\n",
       "        vertical-align: middle;\n",
       "    }\n",
       "\n",
       "    .dataframe tbody tr th {\n",
       "        vertical-align: top;\n",
       "    }\n",
       "\n",
       "    .dataframe thead th {\n",
       "        text-align: right;\n",
       "    }\n",
       "</style>\n",
       "<table border=\"1\" class=\"dataframe\">\n",
       "  <thead>\n",
       "    <tr style=\"text-align: right;\">\n",
       "      <th></th>\n",
       "      <th>user_id</th>\n",
       "      <th>first_name</th>\n",
       "      <th>last_name</th>\n",
       "      <th>age</th>\n",
       "      <th>city</th>\n",
       "      <th>reg_date</th>\n",
       "      <th>plan</th>\n",
       "      <th>churn_date</th>\n",
       "    </tr>\n",
       "  </thead>\n",
       "  <tbody>\n",
       "    <tr>\n",
       "      <th>0</th>\n",
       "      <td>1000</td>\n",
       "      <td>Anamaria</td>\n",
       "      <td>Bauer</td>\n",
       "      <td>45</td>\n",
       "      <td>Atlanta-Sandy Springs-Roswell, GA MSA</td>\n",
       "      <td>2018-12-24</td>\n",
       "      <td>ultimate</td>\n",
       "      <td>NaN</td>\n",
       "    </tr>\n",
       "    <tr>\n",
       "      <th>1</th>\n",
       "      <td>1001</td>\n",
       "      <td>Mickey</td>\n",
       "      <td>Wilkerson</td>\n",
       "      <td>28</td>\n",
       "      <td>Seattle-Tacoma-Bellevue, WA MSA</td>\n",
       "      <td>2018-08-13</td>\n",
       "      <td>surf</td>\n",
       "      <td>NaN</td>\n",
       "    </tr>\n",
       "    <tr>\n",
       "      <th>2</th>\n",
       "      <td>1002</td>\n",
       "      <td>Carlee</td>\n",
       "      <td>Hoffman</td>\n",
       "      <td>36</td>\n",
       "      <td>Las Vegas-Henderson-Paradise, NV MSA</td>\n",
       "      <td>2018-10-21</td>\n",
       "      <td>surf</td>\n",
       "      <td>NaN</td>\n",
       "    </tr>\n",
       "    <tr>\n",
       "      <th>3</th>\n",
       "      <td>1003</td>\n",
       "      <td>Reynaldo</td>\n",
       "      <td>Jenkins</td>\n",
       "      <td>52</td>\n",
       "      <td>Tulsa, OK MSA</td>\n",
       "      <td>2018-01-28</td>\n",
       "      <td>surf</td>\n",
       "      <td>NaN</td>\n",
       "    </tr>\n",
       "    <tr>\n",
       "      <th>4</th>\n",
       "      <td>1004</td>\n",
       "      <td>Leonila</td>\n",
       "      <td>Thompson</td>\n",
       "      <td>40</td>\n",
       "      <td>Seattle-Tacoma-Bellevue, WA MSA</td>\n",
       "      <td>2018-05-23</td>\n",
       "      <td>surf</td>\n",
       "      <td>NaN</td>\n",
       "    </tr>\n",
       "    <tr>\n",
       "      <th>5</th>\n",
       "      <td>1005</td>\n",
       "      <td>Livia</td>\n",
       "      <td>Shields</td>\n",
       "      <td>31</td>\n",
       "      <td>Dallas-Fort Worth-Arlington, TX MSA</td>\n",
       "      <td>2018-11-29</td>\n",
       "      <td>surf</td>\n",
       "      <td>NaN</td>\n",
       "    </tr>\n",
       "    <tr>\n",
       "      <th>6</th>\n",
       "      <td>1006</td>\n",
       "      <td>Jesusa</td>\n",
       "      <td>Bradford</td>\n",
       "      <td>73</td>\n",
       "      <td>San Francisco-Oakland-Berkeley, CA MSA</td>\n",
       "      <td>2018-11-27</td>\n",
       "      <td>ultimate</td>\n",
       "      <td>2018-12-18</td>\n",
       "    </tr>\n",
       "    <tr>\n",
       "      <th>7</th>\n",
       "      <td>1007</td>\n",
       "      <td>Eusebio</td>\n",
       "      <td>Welch</td>\n",
       "      <td>42</td>\n",
       "      <td>Grand Rapids-Kentwood, MI MSA</td>\n",
       "      <td>2018-07-11</td>\n",
       "      <td>surf</td>\n",
       "      <td>NaN</td>\n",
       "    </tr>\n",
       "    <tr>\n",
       "      <th>8</th>\n",
       "      <td>1008</td>\n",
       "      <td>Emely</td>\n",
       "      <td>Hoffman</td>\n",
       "      <td>53</td>\n",
       "      <td>Orlando-Kissimmee-Sanford, FL MSA</td>\n",
       "      <td>2018-08-03</td>\n",
       "      <td>ultimate</td>\n",
       "      <td>NaN</td>\n",
       "    </tr>\n",
       "    <tr>\n",
       "      <th>9</th>\n",
       "      <td>1009</td>\n",
       "      <td>Gerry</td>\n",
       "      <td>Little</td>\n",
       "      <td>19</td>\n",
       "      <td>San Jose-Sunnyvale-Santa Clara, CA MSA</td>\n",
       "      <td>2018-04-22</td>\n",
       "      <td>surf</td>\n",
       "      <td>NaN</td>\n",
       "    </tr>\n",
       "  </tbody>\n",
       "</table>\n",
       "</div>"
      ],
      "text/plain": [
       "   user_id first_name  last_name  age                                    city  \\\n",
       "0     1000   Anamaria      Bauer   45   Atlanta-Sandy Springs-Roswell, GA MSA   \n",
       "1     1001     Mickey  Wilkerson   28         Seattle-Tacoma-Bellevue, WA MSA   \n",
       "2     1002     Carlee    Hoffman   36    Las Vegas-Henderson-Paradise, NV MSA   \n",
       "3     1003   Reynaldo    Jenkins   52                           Tulsa, OK MSA   \n",
       "4     1004    Leonila   Thompson   40         Seattle-Tacoma-Bellevue, WA MSA   \n",
       "5     1005      Livia    Shields   31     Dallas-Fort Worth-Arlington, TX MSA   \n",
       "6     1006     Jesusa   Bradford   73  San Francisco-Oakland-Berkeley, CA MSA   \n",
       "7     1007    Eusebio      Welch   42           Grand Rapids-Kentwood, MI MSA   \n",
       "8     1008      Emely    Hoffman   53       Orlando-Kissimmee-Sanford, FL MSA   \n",
       "9     1009      Gerry     Little   19  San Jose-Sunnyvale-Santa Clara, CA MSA   \n",
       "\n",
       "     reg_date      plan  churn_date  \n",
       "0  2018-12-24  ultimate         NaN  \n",
       "1  2018-08-13      surf         NaN  \n",
       "2  2018-10-21      surf         NaN  \n",
       "3  2018-01-28      surf         NaN  \n",
       "4  2018-05-23      surf         NaN  \n",
       "5  2018-11-29      surf         NaN  \n",
       "6  2018-11-27  ultimate  2018-12-18  \n",
       "7  2018-07-11      surf         NaN  \n",
       "8  2018-08-03  ultimate         NaN  \n",
       "9  2018-04-22      surf         NaN  "
      ]
     },
     "execution_count": 7,
     "metadata": {},
     "output_type": "execute_result"
    }
   ],
   "source": [
    "users.head(10)"
   ]
  },
  {
   "cell_type": "code",
   "execution_count": 8,
   "metadata": {},
   "outputs": [
    {
     "data": {
      "text/plain": [
       "[   user_id first_name  last_name  age                                   city  \\\n",
       " 0     1000   Anamaria      Bauer   45  Atlanta-Sandy Springs-Roswell, GA MSA   \n",
       " 1     1001     Mickey  Wilkerson   28        Seattle-Tacoma-Bellevue, WA MSA   \n",
       " 2     1002     Carlee    Hoffman   36   Las Vegas-Henderson-Paradise, NV MSA   \n",
       " 3     1003   Reynaldo    Jenkins   52                          Tulsa, OK MSA   \n",
       " 4     1004    Leonila   Thompson   40        Seattle-Tacoma-Bellevue, WA MSA   \n",
       " \n",
       "      reg_date      plan churn_date  \n",
       " 0  2018-12-24  ultimate        NaN  \n",
       " 1  2018-08-13      surf        NaN  \n",
       " 2  2018-10-21      surf        NaN  \n",
       " 3  2018-01-28      surf        NaN  \n",
       " 4  2018-05-23      surf        NaN  ,\n",
       "            user_id         age\n",
       " count   500.000000  500.000000\n",
       " mean   1249.500000   45.486000\n",
       " std     144.481833   16.972269\n",
       " min    1000.000000   18.000000\n",
       " 25%    1124.750000   30.000000\n",
       " 50%    1249.500000   46.000000\n",
       " 75%    1374.250000   61.000000\n",
       " max    1499.000000   75.000000]"
      ]
     },
     "execution_count": 8,
     "metadata": {},
     "output_type": "execute_result"
    }
   ],
   "source": [
    "[users.head(),users.describe()]"
   ]
  },
  {
   "cell_type": "markdown",
   "metadata": {},
   "source": [
    "##### Users\n",
    "- The youngest user we have is of 18 years and the oldest one is 75."
   ]
  },
  {
   "cell_type": "code",
   "execution_count": 9,
   "metadata": {},
   "outputs": [
    {
     "data": {
      "text/html": [
       "<div>\n",
       "<style scoped>\n",
       "    .dataframe tbody tr th:only-of-type {\n",
       "        vertical-align: middle;\n",
       "    }\n",
       "\n",
       "    .dataframe tbody tr th {\n",
       "        vertical-align: top;\n",
       "    }\n",
       "\n",
       "    .dataframe thead th {\n",
       "        text-align: right;\n",
       "    }\n",
       "</style>\n",
       "<table border=\"1\" class=\"dataframe\">\n",
       "  <thead>\n",
       "    <tr style=\"text-align: right;\">\n",
       "      <th></th>\n",
       "      <th>messages_included</th>\n",
       "      <th>mb_per_month_included</th>\n",
       "      <th>minutes_included</th>\n",
       "      <th>usd_monthly_pay</th>\n",
       "      <th>usd_per_gb</th>\n",
       "      <th>usd_per_message</th>\n",
       "      <th>usd_per_minute</th>\n",
       "    </tr>\n",
       "  </thead>\n",
       "  <tbody>\n",
       "    <tr>\n",
       "      <th>count</th>\n",
       "      <td>2.000000</td>\n",
       "      <td>2.000000</td>\n",
       "      <td>2.000000</td>\n",
       "      <td>2.000000</td>\n",
       "      <td>2.00000</td>\n",
       "      <td>2.000000</td>\n",
       "      <td>2.000000</td>\n",
       "    </tr>\n",
       "    <tr>\n",
       "      <th>mean</th>\n",
       "      <td>525.000000</td>\n",
       "      <td>23040.000000</td>\n",
       "      <td>1750.000000</td>\n",
       "      <td>45.000000</td>\n",
       "      <td>8.50000</td>\n",
       "      <td>0.020000</td>\n",
       "      <td>0.020000</td>\n",
       "    </tr>\n",
       "    <tr>\n",
       "      <th>std</th>\n",
       "      <td>671.751442</td>\n",
       "      <td>10861.160159</td>\n",
       "      <td>1767.766953</td>\n",
       "      <td>35.355339</td>\n",
       "      <td>2.12132</td>\n",
       "      <td>0.014142</td>\n",
       "      <td>0.014142</td>\n",
       "    </tr>\n",
       "    <tr>\n",
       "      <th>min</th>\n",
       "      <td>50.000000</td>\n",
       "      <td>15360.000000</td>\n",
       "      <td>500.000000</td>\n",
       "      <td>20.000000</td>\n",
       "      <td>7.00000</td>\n",
       "      <td>0.010000</td>\n",
       "      <td>0.010000</td>\n",
       "    </tr>\n",
       "    <tr>\n",
       "      <th>25%</th>\n",
       "      <td>287.500000</td>\n",
       "      <td>19200.000000</td>\n",
       "      <td>1125.000000</td>\n",
       "      <td>32.500000</td>\n",
       "      <td>7.75000</td>\n",
       "      <td>0.015000</td>\n",
       "      <td>0.015000</td>\n",
       "    </tr>\n",
       "    <tr>\n",
       "      <th>50%</th>\n",
       "      <td>525.000000</td>\n",
       "      <td>23040.000000</td>\n",
       "      <td>1750.000000</td>\n",
       "      <td>45.000000</td>\n",
       "      <td>8.50000</td>\n",
       "      <td>0.020000</td>\n",
       "      <td>0.020000</td>\n",
       "    </tr>\n",
       "    <tr>\n",
       "      <th>75%</th>\n",
       "      <td>762.500000</td>\n",
       "      <td>26880.000000</td>\n",
       "      <td>2375.000000</td>\n",
       "      <td>57.500000</td>\n",
       "      <td>9.25000</td>\n",
       "      <td>0.025000</td>\n",
       "      <td>0.025000</td>\n",
       "    </tr>\n",
       "    <tr>\n",
       "      <th>max</th>\n",
       "      <td>1000.000000</td>\n",
       "      <td>30720.000000</td>\n",
       "      <td>3000.000000</td>\n",
       "      <td>70.000000</td>\n",
       "      <td>10.00000</td>\n",
       "      <td>0.030000</td>\n",
       "      <td>0.030000</td>\n",
       "    </tr>\n",
       "  </tbody>\n",
       "</table>\n",
       "</div>"
      ],
      "text/plain": [
       "       messages_included  mb_per_month_included  minutes_included  \\\n",
       "count           2.000000               2.000000          2.000000   \n",
       "mean          525.000000           23040.000000       1750.000000   \n",
       "std           671.751442           10861.160159       1767.766953   \n",
       "min            50.000000           15360.000000        500.000000   \n",
       "25%           287.500000           19200.000000       1125.000000   \n",
       "50%           525.000000           23040.000000       1750.000000   \n",
       "75%           762.500000           26880.000000       2375.000000   \n",
       "max          1000.000000           30720.000000       3000.000000   \n",
       "\n",
       "       usd_monthly_pay  usd_per_gb  usd_per_message  usd_per_minute  \n",
       "count         2.000000     2.00000         2.000000        2.000000  \n",
       "mean         45.000000     8.50000         0.020000        0.020000  \n",
       "std          35.355339     2.12132         0.014142        0.014142  \n",
       "min          20.000000     7.00000         0.010000        0.010000  \n",
       "25%          32.500000     7.75000         0.015000        0.015000  \n",
       "50%          45.000000     8.50000         0.020000        0.020000  \n",
       "75%          57.500000     9.25000         0.025000        0.025000  \n",
       "max          70.000000    10.00000         0.030000        0.030000  "
      ]
     },
     "execution_count": 9,
     "metadata": {},
     "output_type": "execute_result"
    }
   ],
   "source": [
    "plans.describe()"
   ]
  },
  {
   "cell_type": "code",
   "execution_count": 10,
   "metadata": {},
   "outputs": [
    {
     "name": "stdout",
     "output_type": "stream",
     "text": [
      "the null values for calls: id           0\n",
      "user_id      0\n",
      "call_date    0\n",
      "duration     0\n",
      "dtype: int64\n",
      "the null values for internet: id              0\n",
      "user_id         0\n",
      "session_date    0\n",
      "mb_used         0\n",
      "dtype: int64\n",
      "the null values for mssges: id              0\n",
      "user_id         0\n",
      "message_date    0\n",
      "dtype: int64\n",
      "the null values for plans: messages_included        0\n",
      "mb_per_month_included    0\n",
      "minutes_included         0\n",
      "usd_monthly_pay          0\n",
      "usd_per_gb               0\n",
      "usd_per_message          0\n",
      "usd_per_minute           0\n",
      "plan_name                0\n",
      "dtype: int64\n",
      "the null values for users: user_id         0\n",
      "first_name      0\n",
      "last_name       0\n",
      "age             0\n",
      "city            0\n",
      "reg_date        0\n",
      "plan            0\n",
      "churn_date    466\n",
      "dtype: int64\n"
     ]
    }
   ],
   "source": [
    "#looking for null values\n",
    "print('the null values for calls:',calls.isnull().sum())\n",
    "print('the null values for internet:',internet.isnull().sum())\n",
    "print('the null values for mssges:',mssges.isnull().sum())\n",
    "print('the null values for plans:',plans.isnull().sum())\n",
    "print('the null values for users:',users.isnull().sum())"
   ]
  },
  {
   "cell_type": "markdown",
   "metadata": {},
   "source": [
    "##### As we can see the only null values are in users['churn_date'] "
   ]
  },
  {
   "cell_type": "markdown",
   "metadata": {},
   "source": [
    "### Data Preprocessing"
   ]
  },
  {
   "cell_type": "code",
   "execution_count": 11,
   "metadata": {},
   "outputs": [
    {
     "data": {
      "text/plain": [
       "137254"
      ]
     },
     "execution_count": 11,
     "metadata": {},
     "output_type": "execute_result"
    }
   ],
   "source": [
    "calls['user_id'].duplicated().sum()"
   ]
  },
  {
   "cell_type": "code",
   "execution_count": 12,
   "metadata": {},
   "outputs": [],
   "source": [
    "users['first_name'] = users['first_name'].str.lower()"
   ]
  },
  {
   "cell_type": "code",
   "execution_count": 13,
   "metadata": {},
   "outputs": [
    {
     "data": {
      "text/plain": [
       "42"
      ]
     },
     "execution_count": 13,
     "metadata": {},
     "output_type": "execute_result"
    }
   ],
   "source": [
    "users['first_name'].duplicated().sum()"
   ]
  },
  {
   "cell_type": "code",
   "execution_count": 14,
   "metadata": {},
   "outputs": [
    {
     "data": {
      "text/plain": [
       "0    anamaria\n",
       "1      mickey\n",
       "2      carlee\n",
       "3    reynaldo\n",
       "4     leonila\n",
       "Name: first_name, dtype: object"
      ]
     },
     "execution_count": 14,
     "metadata": {},
     "output_type": "execute_result"
    }
   ],
   "source": [
    "users['first_name'].head()"
   ]
  },
  {
   "cell_type": "code",
   "execution_count": 15,
   "metadata": {},
   "outputs": [
    {
     "data": {
      "text/plain": [
       "0"
      ]
     },
     "execution_count": 15,
     "metadata": {},
     "output_type": "execute_result"
    }
   ],
   "source": [
    "users['user_id'].duplicated().sum()"
   ]
  },
  {
   "cell_type": "markdown",
   "metadata": {},
   "source": [
    "###### As names can be common and they can have duplicate values so its better to use 'user_id' as it is unique"
   ]
  },
  {
   "cell_type": "code",
   "execution_count": 16,
   "metadata": {},
   "outputs": [],
   "source": [
    "#Taking month out of the given date\n",
    "internet['month'] = pd.DatetimeIndex(internet['session_date']).month"
   ]
  },
  {
   "cell_type": "code",
   "execution_count": 17,
   "metadata": {},
   "outputs": [
    {
     "data": {
      "text/plain": [
       "0    12\n",
       "1    12\n",
       "2    12\n",
       "3    12\n",
       "4    12\n",
       "Name: month, dtype: int64"
      ]
     },
     "execution_count": 17,
     "metadata": {},
     "output_type": "execute_result"
    }
   ],
   "source": [
    "internet['month'].head()"
   ]
  },
  {
   "cell_type": "code",
   "execution_count": 18,
   "metadata": {},
   "outputs": [],
   "source": [
    "calls['month'] = pd.DatetimeIndex(calls['call_date']).month"
   ]
  },
  {
   "cell_type": "code",
   "execution_count": 19,
   "metadata": {},
   "outputs": [],
   "source": [
    "mssges['month'] = pd.DatetimeIndex(mssges['message_date']).month"
   ]
  },
  {
   "cell_type": "markdown",
   "metadata": {},
   "source": [
    "- Extracted month from the each date which was given in data."
   ]
  },
  {
   "cell_type": "code",
   "execution_count": 20,
   "metadata": {},
   "outputs": [],
   "source": [
    "#Grouping the call data\n",
    "calls_grouped = calls.groupby(\n",
    "    by = ['user_id','month'])['duration'].sum().to_frame(name = 'duration').reset_index()"
   ]
  },
  {
   "cell_type": "code",
   "execution_count": 21,
   "metadata": {},
   "outputs": [
    {
     "data": {
      "text/html": [
       "<div>\n",
       "<style scoped>\n",
       "    .dataframe tbody tr th:only-of-type {\n",
       "        vertical-align: middle;\n",
       "    }\n",
       "\n",
       "    .dataframe tbody tr th {\n",
       "        vertical-align: top;\n",
       "    }\n",
       "\n",
       "    .dataframe thead th {\n",
       "        text-align: right;\n",
       "    }\n",
       "</style>\n",
       "<table border=\"1\" class=\"dataframe\">\n",
       "  <thead>\n",
       "    <tr style=\"text-align: right;\">\n",
       "      <th></th>\n",
       "      <th>user_id</th>\n",
       "      <th>month</th>\n",
       "      <th>duration</th>\n",
       "    </tr>\n",
       "  </thead>\n",
       "  <tbody>\n",
       "    <tr>\n",
       "      <th>0</th>\n",
       "      <td>1000</td>\n",
       "      <td>12</td>\n",
       "      <td>116.83</td>\n",
       "    </tr>\n",
       "    <tr>\n",
       "      <th>1</th>\n",
       "      <td>1001</td>\n",
       "      <td>8</td>\n",
       "      <td>171.14</td>\n",
       "    </tr>\n",
       "    <tr>\n",
       "      <th>2</th>\n",
       "      <td>1001</td>\n",
       "      <td>9</td>\n",
       "      <td>297.69</td>\n",
       "    </tr>\n",
       "    <tr>\n",
       "      <th>3</th>\n",
       "      <td>1001</td>\n",
       "      <td>10</td>\n",
       "      <td>374.11</td>\n",
       "    </tr>\n",
       "    <tr>\n",
       "      <th>4</th>\n",
       "      <td>1001</td>\n",
       "      <td>11</td>\n",
       "      <td>404.59</td>\n",
       "    </tr>\n",
       "  </tbody>\n",
       "</table>\n",
       "</div>"
      ],
      "text/plain": [
       "   user_id  month  duration\n",
       "0     1000     12    116.83\n",
       "1     1001      8    171.14\n",
       "2     1001      9    297.69\n",
       "3     1001     10    374.11\n",
       "4     1001     11    404.59"
      ]
     },
     "execution_count": 21,
     "metadata": {},
     "output_type": "execute_result"
    }
   ],
   "source": [
    "calls_grouped.head()"
   ]
  },
  {
   "cell_type": "code",
   "execution_count": 22,
   "metadata": {},
   "outputs": [],
   "source": [
    "#Grouping the internet data\n",
    "internet_grouped = internet.groupby(by = ['user_id','month'])['mb_used'].sum().to_frame(name = 'mb_used').reset_index()"
   ]
  },
  {
   "cell_type": "code",
   "execution_count": 23,
   "metadata": {},
   "outputs": [
    {
     "data": {
      "text/html": [
       "<div>\n",
       "<style scoped>\n",
       "    .dataframe tbody tr th:only-of-type {\n",
       "        vertical-align: middle;\n",
       "    }\n",
       "\n",
       "    .dataframe tbody tr th {\n",
       "        vertical-align: top;\n",
       "    }\n",
       "\n",
       "    .dataframe thead th {\n",
       "        text-align: right;\n",
       "    }\n",
       "</style>\n",
       "<table border=\"1\" class=\"dataframe\">\n",
       "  <thead>\n",
       "    <tr style=\"text-align: right;\">\n",
       "      <th></th>\n",
       "      <th>user_id</th>\n",
       "      <th>month</th>\n",
       "      <th>mb_used</th>\n",
       "    </tr>\n",
       "  </thead>\n",
       "  <tbody>\n",
       "    <tr>\n",
       "      <th>0</th>\n",
       "      <td>1000</td>\n",
       "      <td>12</td>\n",
       "      <td>1901.47</td>\n",
       "    </tr>\n",
       "    <tr>\n",
       "      <th>1</th>\n",
       "      <td>1001</td>\n",
       "      <td>8</td>\n",
       "      <td>6919.15</td>\n",
       "    </tr>\n",
       "    <tr>\n",
       "      <th>2</th>\n",
       "      <td>1001</td>\n",
       "      <td>9</td>\n",
       "      <td>13314.82</td>\n",
       "    </tr>\n",
       "    <tr>\n",
       "      <th>3</th>\n",
       "      <td>1001</td>\n",
       "      <td>10</td>\n",
       "      <td>22330.49</td>\n",
       "    </tr>\n",
       "    <tr>\n",
       "      <th>4</th>\n",
       "      <td>1001</td>\n",
       "      <td>11</td>\n",
       "      <td>18504.30</td>\n",
       "    </tr>\n",
       "  </tbody>\n",
       "</table>\n",
       "</div>"
      ],
      "text/plain": [
       "   user_id  month   mb_used\n",
       "0     1000     12   1901.47\n",
       "1     1001      8   6919.15\n",
       "2     1001      9  13314.82\n",
       "3     1001     10  22330.49\n",
       "4     1001     11  18504.30"
      ]
     },
     "execution_count": 23,
     "metadata": {},
     "output_type": "execute_result"
    }
   ],
   "source": [
    "internet_grouped.head()"
   ]
  },
  {
   "cell_type": "code",
   "execution_count": 24,
   "metadata": {},
   "outputs": [],
   "source": [
    "#Grouping the mssges data\n",
    "mssges_grouped = mssges.groupby(by = ['user_id','month']).agg({'message_date':'count'})"
   ]
  },
  {
   "cell_type": "code",
   "execution_count": 25,
   "metadata": {},
   "outputs": [
    {
     "data": {
      "text/html": [
       "<div>\n",
       "<style scoped>\n",
       "    .dataframe tbody tr th:only-of-type {\n",
       "        vertical-align: middle;\n",
       "    }\n",
       "\n",
       "    .dataframe tbody tr th {\n",
       "        vertical-align: top;\n",
       "    }\n",
       "\n",
       "    .dataframe thead th {\n",
       "        text-align: right;\n",
       "    }\n",
       "</style>\n",
       "<table border=\"1\" class=\"dataframe\">\n",
       "  <thead>\n",
       "    <tr style=\"text-align: right;\">\n",
       "      <th></th>\n",
       "      <th></th>\n",
       "      <th>message_date</th>\n",
       "    </tr>\n",
       "    <tr>\n",
       "      <th>user_id</th>\n",
       "      <th>month</th>\n",
       "      <th></th>\n",
       "    </tr>\n",
       "  </thead>\n",
       "  <tbody>\n",
       "    <tr>\n",
       "      <th>1000</th>\n",
       "      <th>12</th>\n",
       "      <td>11</td>\n",
       "    </tr>\n",
       "    <tr>\n",
       "      <th rowspan=\"4\" valign=\"top\">1001</th>\n",
       "      <th>8</th>\n",
       "      <td>30</td>\n",
       "    </tr>\n",
       "    <tr>\n",
       "      <th>9</th>\n",
       "      <td>44</td>\n",
       "    </tr>\n",
       "    <tr>\n",
       "      <th>10</th>\n",
       "      <td>53</td>\n",
       "    </tr>\n",
       "    <tr>\n",
       "      <th>11</th>\n",
       "      <td>36</td>\n",
       "    </tr>\n",
       "  </tbody>\n",
       "</table>\n",
       "</div>"
      ],
      "text/plain": [
       "               message_date\n",
       "user_id month              \n",
       "1000    12               11\n",
       "1001    8                30\n",
       "        9                44\n",
       "        10               53\n",
       "        11               36"
      ]
     },
     "execution_count": 25,
     "metadata": {},
     "output_type": "execute_result"
    }
   ],
   "source": [
    "mssges_grouped.head()"
   ]
  },
  {
   "cell_type": "code",
   "execution_count": 26,
   "metadata": {},
   "outputs": [],
   "source": [
    "#Converting mb to gb\n",
    "internet['gb_used'] = internet['mb_used']/1024"
   ]
  },
  {
   "cell_type": "code",
   "execution_count": 27,
   "metadata": {},
   "outputs": [],
   "source": [
    "internet['gb_used'] = internet['gb_used'].apply(np.ceil)"
   ]
  },
  {
   "cell_type": "code",
   "execution_count": 28,
   "metadata": {},
   "outputs": [
    {
     "data": {
      "text/plain": [
       "0    1.0\n",
       "1    0.0\n",
       "2    1.0\n",
       "3    1.0\n",
       "4    1.0\n",
       "Name: gb_used, dtype: float64"
      ]
     },
     "execution_count": 28,
     "metadata": {},
     "output_type": "execute_result"
    }
   ],
   "source": [
    "internet['gb_used'].head()"
   ]
  },
  {
   "cell_type": "markdown",
   "metadata": {},
   "source": [
    "- If someone uses 1025 megabytes this month, they will be charged for 2 gigabytes.This is the reason to apply np.ceil function."
   ]
  },
  {
   "cell_type": "code",
   "execution_count": 29,
   "metadata": {},
   "outputs": [],
   "source": [
    "internet_gb = internet.groupby(by = ['user_id','month'])['gb_used'].sum().to_frame(name = 'gb_used').reset_index()"
   ]
  },
  {
   "cell_type": "code",
   "execution_count": 30,
   "metadata": {},
   "outputs": [
    {
     "data": {
      "text/html": [
       "<div>\n",
       "<style scoped>\n",
       "    .dataframe tbody tr th:only-of-type {\n",
       "        vertical-align: middle;\n",
       "    }\n",
       "\n",
       "    .dataframe tbody tr th {\n",
       "        vertical-align: top;\n",
       "    }\n",
       "\n",
       "    .dataframe thead th {\n",
       "        text-align: right;\n",
       "    }\n",
       "</style>\n",
       "<table border=\"1\" class=\"dataframe\">\n",
       "  <thead>\n",
       "    <tr style=\"text-align: right;\">\n",
       "      <th></th>\n",
       "      <th>user_id</th>\n",
       "      <th>month</th>\n",
       "      <th>gb_used</th>\n",
       "    </tr>\n",
       "  </thead>\n",
       "  <tbody>\n",
       "    <tr>\n",
       "      <th>0</th>\n",
       "      <td>1000</td>\n",
       "      <td>12</td>\n",
       "      <td>4.0</td>\n",
       "    </tr>\n",
       "    <tr>\n",
       "      <th>1</th>\n",
       "      <td>1001</td>\n",
       "      <td>8</td>\n",
       "      <td>21.0</td>\n",
       "    </tr>\n",
       "    <tr>\n",
       "      <th>2</th>\n",
       "      <td>1001</td>\n",
       "      <td>9</td>\n",
       "      <td>41.0</td>\n",
       "    </tr>\n",
       "    <tr>\n",
       "      <th>3</th>\n",
       "      <td>1001</td>\n",
       "      <td>10</td>\n",
       "      <td>50.0</td>\n",
       "    </tr>\n",
       "    <tr>\n",
       "      <th>4</th>\n",
       "      <td>1001</td>\n",
       "      <td>11</td>\n",
       "      <td>49.0</td>\n",
       "    </tr>\n",
       "  </tbody>\n",
       "</table>\n",
       "</div>"
      ],
      "text/plain": [
       "   user_id  month  gb_used\n",
       "0     1000     12      4.0\n",
       "1     1001      8     21.0\n",
       "2     1001      9     41.0\n",
       "3     1001     10     50.0\n",
       "4     1001     11     49.0"
      ]
     },
     "execution_count": 30,
     "metadata": {},
     "output_type": "execute_result"
    }
   ],
   "source": [
    "internet_gb.head()"
   ]
  },
  {
   "cell_type": "code",
   "execution_count": 31,
   "metadata": {},
   "outputs": [],
   "source": [
    "#calls in hrs\n",
    "calls['hrs_duration'] = calls['duration']/60"
   ]
  },
  {
   "cell_type": "code",
   "execution_count": 32,
   "metadata": {},
   "outputs": [],
   "source": [
    "calls_inhrs = calls.groupby(by = ['user_id','month'])['hrs_duration'].sum().to_frame(name = 'hrs_duration').reset_index()"
   ]
  },
  {
   "cell_type": "code",
   "execution_count": 33,
   "metadata": {},
   "outputs": [
    {
     "data": {
      "text/html": [
       "<div>\n",
       "<style scoped>\n",
       "    .dataframe tbody tr th:only-of-type {\n",
       "        vertical-align: middle;\n",
       "    }\n",
       "\n",
       "    .dataframe tbody tr th {\n",
       "        vertical-align: top;\n",
       "    }\n",
       "\n",
       "    .dataframe thead th {\n",
       "        text-align: right;\n",
       "    }\n",
       "</style>\n",
       "<table border=\"1\" class=\"dataframe\">\n",
       "  <thead>\n",
       "    <tr style=\"text-align: right;\">\n",
       "      <th></th>\n",
       "      <th>user_id</th>\n",
       "      <th>month</th>\n",
       "      <th>hrs_duration</th>\n",
       "    </tr>\n",
       "  </thead>\n",
       "  <tbody>\n",
       "    <tr>\n",
       "      <th>0</th>\n",
       "      <td>1000</td>\n",
       "      <td>12</td>\n",
       "      <td>1.947167</td>\n",
       "    </tr>\n",
       "    <tr>\n",
       "      <th>1</th>\n",
       "      <td>1001</td>\n",
       "      <td>8</td>\n",
       "      <td>2.852333</td>\n",
       "    </tr>\n",
       "    <tr>\n",
       "      <th>2</th>\n",
       "      <td>1001</td>\n",
       "      <td>9</td>\n",
       "      <td>4.961500</td>\n",
       "    </tr>\n",
       "    <tr>\n",
       "      <th>3</th>\n",
       "      <td>1001</td>\n",
       "      <td>10</td>\n",
       "      <td>6.235167</td>\n",
       "    </tr>\n",
       "    <tr>\n",
       "      <th>4</th>\n",
       "      <td>1001</td>\n",
       "      <td>11</td>\n",
       "      <td>6.743167</td>\n",
       "    </tr>\n",
       "  </tbody>\n",
       "</table>\n",
       "</div>"
      ],
      "text/plain": [
       "   user_id  month  hrs_duration\n",
       "0     1000     12      1.947167\n",
       "1     1001      8      2.852333\n",
       "2     1001      9      4.961500\n",
       "3     1001     10      6.235167\n",
       "4     1001     11      6.743167"
      ]
     },
     "execution_count": 33,
     "metadata": {},
     "output_type": "execute_result"
    }
   ],
   "source": [
    "calls_inhrs.head()"
   ]
  },
  {
   "cell_type": "code",
   "execution_count": 34,
   "metadata": {},
   "outputs": [],
   "source": [
    "#merging the tables\n",
    "telecom2 = pd.merge(calls_grouped,mssges_grouped,how = 'outer',on = ['user_id','month'])"
   ]
  },
  {
   "cell_type": "code",
   "execution_count": 35,
   "metadata": {},
   "outputs": [
    {
     "data": {
      "text/html": [
       "<div>\n",
       "<style scoped>\n",
       "    .dataframe tbody tr th:only-of-type {\n",
       "        vertical-align: middle;\n",
       "    }\n",
       "\n",
       "    .dataframe tbody tr th {\n",
       "        vertical-align: top;\n",
       "    }\n",
       "\n",
       "    .dataframe thead th {\n",
       "        text-align: right;\n",
       "    }\n",
       "</style>\n",
       "<table border=\"1\" class=\"dataframe\">\n",
       "  <thead>\n",
       "    <tr style=\"text-align: right;\">\n",
       "      <th></th>\n",
       "      <th>user_id</th>\n",
       "      <th>month</th>\n",
       "      <th>duration</th>\n",
       "      <th>message_date</th>\n",
       "    </tr>\n",
       "  </thead>\n",
       "  <tbody>\n",
       "    <tr>\n",
       "      <th>0</th>\n",
       "      <td>1000</td>\n",
       "      <td>12</td>\n",
       "      <td>116.83</td>\n",
       "      <td>11.0</td>\n",
       "    </tr>\n",
       "    <tr>\n",
       "      <th>1</th>\n",
       "      <td>1001</td>\n",
       "      <td>8</td>\n",
       "      <td>171.14</td>\n",
       "      <td>30.0</td>\n",
       "    </tr>\n",
       "    <tr>\n",
       "      <th>2</th>\n",
       "      <td>1001</td>\n",
       "      <td>9</td>\n",
       "      <td>297.69</td>\n",
       "      <td>44.0</td>\n",
       "    </tr>\n",
       "    <tr>\n",
       "      <th>3</th>\n",
       "      <td>1001</td>\n",
       "      <td>10</td>\n",
       "      <td>374.11</td>\n",
       "      <td>53.0</td>\n",
       "    </tr>\n",
       "    <tr>\n",
       "      <th>4</th>\n",
       "      <td>1001</td>\n",
       "      <td>11</td>\n",
       "      <td>404.59</td>\n",
       "      <td>36.0</td>\n",
       "    </tr>\n",
       "  </tbody>\n",
       "</table>\n",
       "</div>"
      ],
      "text/plain": [
       "   user_id  month  duration  message_date\n",
       "0     1000     12    116.83          11.0\n",
       "1     1001      8    171.14          30.0\n",
       "2     1001      9    297.69          44.0\n",
       "3     1001     10    374.11          53.0\n",
       "4     1001     11    404.59          36.0"
      ]
     },
     "execution_count": 35,
     "metadata": {},
     "output_type": "execute_result"
    }
   ],
   "source": [
    "telecom2.head()"
   ]
  },
  {
   "cell_type": "code",
   "execution_count": 36,
   "metadata": {},
   "outputs": [],
   "source": [
    "telecom2 = pd.merge(telecom2,internet_gb,how = 'outer',on = ['user_id','month'])"
   ]
  },
  {
   "cell_type": "code",
   "execution_count": 37,
   "metadata": {},
   "outputs": [
    {
     "data": {
      "text/html": [
       "<div>\n",
       "<style scoped>\n",
       "    .dataframe tbody tr th:only-of-type {\n",
       "        vertical-align: middle;\n",
       "    }\n",
       "\n",
       "    .dataframe tbody tr th {\n",
       "        vertical-align: top;\n",
       "    }\n",
       "\n",
       "    .dataframe thead th {\n",
       "        text-align: right;\n",
       "    }\n",
       "</style>\n",
       "<table border=\"1\" class=\"dataframe\">\n",
       "  <thead>\n",
       "    <tr style=\"text-align: right;\">\n",
       "      <th></th>\n",
       "      <th>user_id</th>\n",
       "      <th>month</th>\n",
       "      <th>duration</th>\n",
       "      <th>message_date</th>\n",
       "      <th>gb_used</th>\n",
       "    </tr>\n",
       "  </thead>\n",
       "  <tbody>\n",
       "    <tr>\n",
       "      <th>0</th>\n",
       "      <td>1000</td>\n",
       "      <td>12</td>\n",
       "      <td>116.83</td>\n",
       "      <td>11.0</td>\n",
       "      <td>4.0</td>\n",
       "    </tr>\n",
       "    <tr>\n",
       "      <th>1</th>\n",
       "      <td>1001</td>\n",
       "      <td>8</td>\n",
       "      <td>171.14</td>\n",
       "      <td>30.0</td>\n",
       "      <td>21.0</td>\n",
       "    </tr>\n",
       "    <tr>\n",
       "      <th>2</th>\n",
       "      <td>1001</td>\n",
       "      <td>9</td>\n",
       "      <td>297.69</td>\n",
       "      <td>44.0</td>\n",
       "      <td>41.0</td>\n",
       "    </tr>\n",
       "    <tr>\n",
       "      <th>3</th>\n",
       "      <td>1001</td>\n",
       "      <td>10</td>\n",
       "      <td>374.11</td>\n",
       "      <td>53.0</td>\n",
       "      <td>50.0</td>\n",
       "    </tr>\n",
       "    <tr>\n",
       "      <th>4</th>\n",
       "      <td>1001</td>\n",
       "      <td>11</td>\n",
       "      <td>404.59</td>\n",
       "      <td>36.0</td>\n",
       "      <td>49.0</td>\n",
       "    </tr>\n",
       "  </tbody>\n",
       "</table>\n",
       "</div>"
      ],
      "text/plain": [
       "   user_id  month  duration  message_date  gb_used\n",
       "0     1000     12    116.83          11.0      4.0\n",
       "1     1001      8    171.14          30.0     21.0\n",
       "2     1001      9    297.69          44.0     41.0\n",
       "3     1001     10    374.11          53.0     50.0\n",
       "4     1001     11    404.59          36.0     49.0"
      ]
     },
     "execution_count": 37,
     "metadata": {},
     "output_type": "execute_result"
    }
   ],
   "source": [
    "telecom2.head()"
   ]
  },
  {
   "cell_type": "code",
   "execution_count": 38,
   "metadata": {},
   "outputs": [],
   "source": [
    "telecom2 = pd.merge(telecom2,users,how = 'outer',on = 'user_id')"
   ]
  },
  {
   "cell_type": "code",
   "execution_count": 39,
   "metadata": {},
   "outputs": [
    {
     "data": {
      "text/html": [
       "<div>\n",
       "<style scoped>\n",
       "    .dataframe tbody tr th:only-of-type {\n",
       "        vertical-align: middle;\n",
       "    }\n",
       "\n",
       "    .dataframe tbody tr th {\n",
       "        vertical-align: top;\n",
       "    }\n",
       "\n",
       "    .dataframe thead th {\n",
       "        text-align: right;\n",
       "    }\n",
       "</style>\n",
       "<table border=\"1\" class=\"dataframe\">\n",
       "  <thead>\n",
       "    <tr style=\"text-align: right;\">\n",
       "      <th></th>\n",
       "      <th>user_id</th>\n",
       "      <th>month</th>\n",
       "      <th>duration</th>\n",
       "      <th>message_date</th>\n",
       "      <th>gb_used</th>\n",
       "      <th>first_name</th>\n",
       "      <th>last_name</th>\n",
       "      <th>age</th>\n",
       "      <th>city</th>\n",
       "      <th>reg_date</th>\n",
       "      <th>plan</th>\n",
       "      <th>churn_date</th>\n",
       "    </tr>\n",
       "  </thead>\n",
       "  <tbody>\n",
       "    <tr>\n",
       "      <th>0</th>\n",
       "      <td>1000</td>\n",
       "      <td>12.0</td>\n",
       "      <td>116.83</td>\n",
       "      <td>11.0</td>\n",
       "      <td>4.0</td>\n",
       "      <td>anamaria</td>\n",
       "      <td>Bauer</td>\n",
       "      <td>45</td>\n",
       "      <td>Atlanta-Sandy Springs-Roswell, GA MSA</td>\n",
       "      <td>2018-12-24</td>\n",
       "      <td>ultimate</td>\n",
       "      <td>NaN</td>\n",
       "    </tr>\n",
       "    <tr>\n",
       "      <th>1</th>\n",
       "      <td>1001</td>\n",
       "      <td>8.0</td>\n",
       "      <td>171.14</td>\n",
       "      <td>30.0</td>\n",
       "      <td>21.0</td>\n",
       "      <td>mickey</td>\n",
       "      <td>Wilkerson</td>\n",
       "      <td>28</td>\n",
       "      <td>Seattle-Tacoma-Bellevue, WA MSA</td>\n",
       "      <td>2018-08-13</td>\n",
       "      <td>surf</td>\n",
       "      <td>NaN</td>\n",
       "    </tr>\n",
       "    <tr>\n",
       "      <th>2</th>\n",
       "      <td>1001</td>\n",
       "      <td>9.0</td>\n",
       "      <td>297.69</td>\n",
       "      <td>44.0</td>\n",
       "      <td>41.0</td>\n",
       "      <td>mickey</td>\n",
       "      <td>Wilkerson</td>\n",
       "      <td>28</td>\n",
       "      <td>Seattle-Tacoma-Bellevue, WA MSA</td>\n",
       "      <td>2018-08-13</td>\n",
       "      <td>surf</td>\n",
       "      <td>NaN</td>\n",
       "    </tr>\n",
       "    <tr>\n",
       "      <th>3</th>\n",
       "      <td>1001</td>\n",
       "      <td>10.0</td>\n",
       "      <td>374.11</td>\n",
       "      <td>53.0</td>\n",
       "      <td>50.0</td>\n",
       "      <td>mickey</td>\n",
       "      <td>Wilkerson</td>\n",
       "      <td>28</td>\n",
       "      <td>Seattle-Tacoma-Bellevue, WA MSA</td>\n",
       "      <td>2018-08-13</td>\n",
       "      <td>surf</td>\n",
       "      <td>NaN</td>\n",
       "    </tr>\n",
       "    <tr>\n",
       "      <th>4</th>\n",
       "      <td>1001</td>\n",
       "      <td>11.0</td>\n",
       "      <td>404.59</td>\n",
       "      <td>36.0</td>\n",
       "      <td>49.0</td>\n",
       "      <td>mickey</td>\n",
       "      <td>Wilkerson</td>\n",
       "      <td>28</td>\n",
       "      <td>Seattle-Tacoma-Bellevue, WA MSA</td>\n",
       "      <td>2018-08-13</td>\n",
       "      <td>surf</td>\n",
       "      <td>NaN</td>\n",
       "    </tr>\n",
       "  </tbody>\n",
       "</table>\n",
       "</div>"
      ],
      "text/plain": [
       "   user_id  month  duration  message_date  gb_used first_name  last_name  age  \\\n",
       "0     1000   12.0    116.83          11.0      4.0   anamaria      Bauer   45   \n",
       "1     1001    8.0    171.14          30.0     21.0     mickey  Wilkerson   28   \n",
       "2     1001    9.0    297.69          44.0     41.0     mickey  Wilkerson   28   \n",
       "3     1001   10.0    374.11          53.0     50.0     mickey  Wilkerson   28   \n",
       "4     1001   11.0    404.59          36.0     49.0     mickey  Wilkerson   28   \n",
       "\n",
       "                                    city    reg_date      plan churn_date  \n",
       "0  Atlanta-Sandy Springs-Roswell, GA MSA  2018-12-24  ultimate        NaN  \n",
       "1        Seattle-Tacoma-Bellevue, WA MSA  2018-08-13      surf        NaN  \n",
       "2        Seattle-Tacoma-Bellevue, WA MSA  2018-08-13      surf        NaN  \n",
       "3        Seattle-Tacoma-Bellevue, WA MSA  2018-08-13      surf        NaN  \n",
       "4        Seattle-Tacoma-Bellevue, WA MSA  2018-08-13      surf        NaN  "
      ]
     },
     "execution_count": 39,
     "metadata": {},
     "output_type": "execute_result"
    }
   ],
   "source": [
    "telecom2.head()"
   ]
  },
  {
   "cell_type": "code",
   "execution_count": 40,
   "metadata": {},
   "outputs": [],
   "source": [
    "# Defined a function to find the total revenue for each plan\n",
    "def total_revenue(row):\n",
    "    \n",
    "    #assigning required columns to variables\n",
    "    plan = row['plan']\n",
    "    monthly_minutes = row['duration']\n",
    "    messages = row['message_date']\n",
    "    internet_usage = row['gb_used']\n",
    "    \n",
    "    #separating surf rows \n",
    "    if plan == 'surf':\n",
    "        \n",
    "        #Calculate revenue for calls (surf plan)\n",
    "        if monthly_minutes >= 500:\n",
    "            revenue_calls = (0.03)*(monthly_minutes - 500) \n",
    "        else:\n",
    "            revenue_calls = 0\n",
    "            \n",
    "        if messages >= 50:\n",
    "            revenue_messages = 0.03*(messages - 50)\n",
    "        else :\n",
    "            revenue_messages = 0\n",
    "            \n",
    "        if internet_usage >= 15:\n",
    "            revenue_internet_usage = 10*(internet_usage - 15)\n",
    "        else :\n",
    "            revenue_internet_usage = 0\n",
    " \n",
    "        cost = 20 + revenue_messages + revenue_internet_usage + revenue_calls\n",
    " \n",
    " \n",
    "    #Separate Ultimate rows\n",
    "    elif plan == 'ultimate':\n",
    "        \n",
    "        #calculate revenue for calls (ultimate plan)\n",
    "        if monthly_minutes >= 3000:\n",
    "            revenue_calls = (0.01)*(monthly_minutes - 3000) \n",
    "        else:\n",
    "            revenue_calls = 0\n",
    "            \n",
    "        if messages >= 1000:\n",
    "            revenue_messages = 0.01*(messages - 1000)\n",
    "        else :\n",
    "            revenue_messages = 0\n",
    "            \n",
    "        if internet_usage >= 30:\n",
    "            revenue_internet_usage = 7*(internet_usage - 30)\n",
    "        else :\n",
    "            revenue_internet_usage = 0\n",
    " \n",
    "        cost = 70 + revenue_messages + revenue_internet_usage + revenue_calls\n",
    " \n",
    "    return cost"
   ]
  },
  {
   "cell_type": "markdown",
   "metadata": {},
   "source": [
    "- Revenue cost according to each plan"
   ]
  },
  {
   "cell_type": "code",
   "execution_count": 41,
   "metadata": {},
   "outputs": [
    {
     "data": {
      "text/html": [
       "<div>\n",
       "<style scoped>\n",
       "    .dataframe tbody tr th:only-of-type {\n",
       "        vertical-align: middle;\n",
       "    }\n",
       "\n",
       "    .dataframe tbody tr th {\n",
       "        vertical-align: top;\n",
       "    }\n",
       "\n",
       "    .dataframe thead th {\n",
       "        text-align: right;\n",
       "    }\n",
       "</style>\n",
       "<table border=\"1\" class=\"dataframe\">\n",
       "  <thead>\n",
       "    <tr style=\"text-align: right;\">\n",
       "      <th></th>\n",
       "      <th>user_id</th>\n",
       "      <th>month</th>\n",
       "      <th>duration</th>\n",
       "      <th>message_date</th>\n",
       "      <th>gb_used</th>\n",
       "      <th>first_name</th>\n",
       "      <th>last_name</th>\n",
       "      <th>age</th>\n",
       "      <th>city</th>\n",
       "      <th>reg_date</th>\n",
       "      <th>plan</th>\n",
       "      <th>churn_date</th>\n",
       "      <th>total_cost</th>\n",
       "    </tr>\n",
       "  </thead>\n",
       "  <tbody>\n",
       "    <tr>\n",
       "      <th>0</th>\n",
       "      <td>1000</td>\n",
       "      <td>12.0</td>\n",
       "      <td>116.83</td>\n",
       "      <td>11.0</td>\n",
       "      <td>4.0</td>\n",
       "      <td>anamaria</td>\n",
       "      <td>Bauer</td>\n",
       "      <td>45</td>\n",
       "      <td>Atlanta-Sandy Springs-Roswell, GA MSA</td>\n",
       "      <td>2018-12-24</td>\n",
       "      <td>ultimate</td>\n",
       "      <td>NaN</td>\n",
       "      <td>70.00</td>\n",
       "    </tr>\n",
       "    <tr>\n",
       "      <th>1</th>\n",
       "      <td>1001</td>\n",
       "      <td>8.0</td>\n",
       "      <td>171.14</td>\n",
       "      <td>30.0</td>\n",
       "      <td>21.0</td>\n",
       "      <td>mickey</td>\n",
       "      <td>Wilkerson</td>\n",
       "      <td>28</td>\n",
       "      <td>Seattle-Tacoma-Bellevue, WA MSA</td>\n",
       "      <td>2018-08-13</td>\n",
       "      <td>surf</td>\n",
       "      <td>NaN</td>\n",
       "      <td>80.00</td>\n",
       "    </tr>\n",
       "    <tr>\n",
       "      <th>2</th>\n",
       "      <td>1001</td>\n",
       "      <td>9.0</td>\n",
       "      <td>297.69</td>\n",
       "      <td>44.0</td>\n",
       "      <td>41.0</td>\n",
       "      <td>mickey</td>\n",
       "      <td>Wilkerson</td>\n",
       "      <td>28</td>\n",
       "      <td>Seattle-Tacoma-Bellevue, WA MSA</td>\n",
       "      <td>2018-08-13</td>\n",
       "      <td>surf</td>\n",
       "      <td>NaN</td>\n",
       "      <td>280.00</td>\n",
       "    </tr>\n",
       "    <tr>\n",
       "      <th>3</th>\n",
       "      <td>1001</td>\n",
       "      <td>10.0</td>\n",
       "      <td>374.11</td>\n",
       "      <td>53.0</td>\n",
       "      <td>50.0</td>\n",
       "      <td>mickey</td>\n",
       "      <td>Wilkerson</td>\n",
       "      <td>28</td>\n",
       "      <td>Seattle-Tacoma-Bellevue, WA MSA</td>\n",
       "      <td>2018-08-13</td>\n",
       "      <td>surf</td>\n",
       "      <td>NaN</td>\n",
       "      <td>370.09</td>\n",
       "    </tr>\n",
       "    <tr>\n",
       "      <th>4</th>\n",
       "      <td>1001</td>\n",
       "      <td>11.0</td>\n",
       "      <td>404.59</td>\n",
       "      <td>36.0</td>\n",
       "      <td>49.0</td>\n",
       "      <td>mickey</td>\n",
       "      <td>Wilkerson</td>\n",
       "      <td>28</td>\n",
       "      <td>Seattle-Tacoma-Bellevue, WA MSA</td>\n",
       "      <td>2018-08-13</td>\n",
       "      <td>surf</td>\n",
       "      <td>NaN</td>\n",
       "      <td>360.00</td>\n",
       "    </tr>\n",
       "  </tbody>\n",
       "</table>\n",
       "</div>"
      ],
      "text/plain": [
       "   user_id  month  duration  message_date  gb_used first_name  last_name  age  \\\n",
       "0     1000   12.0    116.83          11.0      4.0   anamaria      Bauer   45   \n",
       "1     1001    8.0    171.14          30.0     21.0     mickey  Wilkerson   28   \n",
       "2     1001    9.0    297.69          44.0     41.0     mickey  Wilkerson   28   \n",
       "3     1001   10.0    374.11          53.0     50.0     mickey  Wilkerson   28   \n",
       "4     1001   11.0    404.59          36.0     49.0     mickey  Wilkerson   28   \n",
       "\n",
       "                                    city    reg_date      plan churn_date  \\\n",
       "0  Atlanta-Sandy Springs-Roswell, GA MSA  2018-12-24  ultimate        NaN   \n",
       "1        Seattle-Tacoma-Bellevue, WA MSA  2018-08-13      surf        NaN   \n",
       "2        Seattle-Tacoma-Bellevue, WA MSA  2018-08-13      surf        NaN   \n",
       "3        Seattle-Tacoma-Bellevue, WA MSA  2018-08-13      surf        NaN   \n",
       "4        Seattle-Tacoma-Bellevue, WA MSA  2018-08-13      surf        NaN   \n",
       "\n",
       "   total_cost  \n",
       "0       70.00  \n",
       "1       80.00  \n",
       "2      280.00  \n",
       "3      370.09  \n",
       "4      360.00  "
      ]
     },
     "execution_count": 41,
     "metadata": {},
     "output_type": "execute_result"
    }
   ],
   "source": [
    "#final table\n",
    "telecom2['total_cost'] = telecom2.apply(total_revenue,axis=1)\n",
    "telecom2.head()"
   ]
  },
  {
   "cell_type": "markdown",
   "metadata": {},
   "source": [
    "- Merged table containing data of five tables."
   ]
  },
  {
   "cell_type": "code",
   "execution_count": 42,
   "metadata": {},
   "outputs": [
    {
     "data": {
      "text/plain": [
       "user_id            0\n",
       "month             10\n",
       "duration          45\n",
       "message_date     497\n",
       "gb_used           26\n",
       "first_name         0\n",
       "last_name          0\n",
       "age                0\n",
       "city               0\n",
       "reg_date           0\n",
       "plan               0\n",
       "churn_date      2143\n",
       "total_cost         0\n",
       "dtype: int64"
      ]
     },
     "execution_count": 42,
     "metadata": {},
     "output_type": "execute_result"
    }
   ],
   "source": [
    "telecom2.isnull().sum()"
   ]
  },
  {
   "cell_type": "code",
   "execution_count": 43,
   "metadata": {},
   "outputs": [],
   "source": [
    "#Filling the missing values\n",
    "telecom2['message_date']=telecom2['message_date'].fillna(0)\n",
    "telecom2['duration'] = telecom2['duration'].fillna(1)\n",
    "telecom2['gb_used'] = telecom2['gb_used'].fillna(0.5)"
   ]
  },
  {
   "cell_type": "markdown",
   "metadata": {},
   "source": [
    "#### Conclusion\n",
    "- As messages can be zero so we replaced NaN values with zero.\n",
    "- The minimum duration of any call will be 1 minute, so we replaced NaN values with 1.\n",
    "- The data which can be used minimum can be 500mb as streaming services and social networking sites also consumes data while surfing, so replaced NaN values with 0.5."
   ]
  },
  {
   "cell_type": "markdown",
   "metadata": {},
   "source": [
    "### Analyze the Data"
   ]
  },
  {
   "cell_type": "markdown",
   "metadata": {},
   "source": [
    "- Describing the customers' behavior. Finding the minutes, texts, and volume of data the users of each plan require per month. Calculating the mean, dispersion, and standard deviation. Ploting histograms. Describing the distributions."
   ]
  },
  {
   "cell_type": "code",
   "execution_count": 44,
   "metadata": {},
   "outputs": [],
   "source": [
    "call_per_user = calls['duration'].round()"
   ]
  },
  {
   "cell_type": "code",
   "execution_count": 45,
   "metadata": {},
   "outputs": [
    {
     "data": {
      "text/plain": [
       "6.7459270337967"
      ]
     },
     "execution_count": 45,
     "metadata": {},
     "output_type": "execute_result"
    }
   ],
   "source": [
    "#Mean of the calls duration\n",
    "calls['duration'].mean()"
   ]
  },
  {
   "cell_type": "code",
   "execution_count": 46,
   "metadata": {},
   "outputs": [
    {
     "name": "stdout",
     "output_type": "stream",
     "text": [
      "Standard deviation for calls is: 5.839219940162848\n"
     ]
    }
   ],
   "source": [
    "#standard deviation\n",
    "standard_deviation_calls = np.std(calls['duration'])\n",
    "print('Standard deviation for calls is:',standard_deviation_calls)"
   ]
  },
  {
   "cell_type": "code",
   "execution_count": 47,
   "metadata": {},
   "outputs": [
    {
     "data": {
      "text/plain": [
       "0          9\n",
       "1         14\n",
       "2         14\n",
       "3          6\n",
       "4          4\n",
       "          ..\n",
       "137730     9\n",
       "137731    11\n",
       "137732     8\n",
       "137733     0\n",
       "137734    14\n",
       "Name: duration, Length: 137735, dtype: int64"
      ]
     },
     "execution_count": 47,
     "metadata": {},
     "output_type": "execute_result"
    }
   ],
   "source": [
    "#changing the data type\n",
    "call_per_user.astype(int)"
   ]
  },
  {
   "cell_type": "code",
   "execution_count": 48,
   "metadata": {},
   "outputs": [
    {
     "data": {
      "image/png": "[encoded data removed]",
      "text/plain": [
       "<Figure size 504x360 with 1 Axes>"
      ]
     },
     "metadata": {},
     "output_type": "display_data"
    }
   ],
   "source": [
    "usercalls = call_per_user.hist(bins = 20,grid = True,figsize = (7,5))\n",
    "usercalls.set_xlabel('Call Duration');\n",
    "plt.title('Call Histogram',loc = 'left',fontsize=24,color=\"green\" );"
   ]
  },
  {
   "cell_type": "markdown",
   "metadata": {},
   "source": [
    "- The peak is at zero mins because most of the users prefers talking under 5 mins. There are less users who likes to talk more than 15 mins"
   ]
  },
  {
   "cell_type": "code",
   "execution_count": 49,
   "metadata": {},
   "outputs": [],
   "source": [
    "text_per_user = mssges_grouped['message_date']"
   ]
  },
  {
   "cell_type": "code",
   "execution_count": 50,
   "metadata": {},
   "outputs": [
    {
     "data": {
      "image/png": "[encoded data removed]",
      "text/plain": [
       "<Figure size 504x360 with 1 Axes>"
      ]
     },
     "metadata": {},
     "output_type": "display_data"
    }
   ],
   "source": [
    "text_hist = text_per_user.plot(kind='hist',grid = True,figsize = (7,5),alpha = 0.7,color = '#CB4335');\n",
    "text_hist.set_xlabel('No. of messages')\n",
    "plt.title('Message Histogram',loc = 'left',fontsize=24,color=\"green\" );"
   ]
  },
  {
   "cell_type": "markdown",
   "metadata": {},
   "source": [
    "- Most of the messages are from 1-50"
   ]
  },
  {
   "cell_type": "code",
   "execution_count": 51,
   "metadata": {},
   "outputs": [
    {
     "data": {
      "text/plain": [
       "42.110188261351055"
      ]
     },
     "execution_count": 51,
     "metadata": {},
     "output_type": "execute_result"
    }
   ],
   "source": [
    "#mean of text messages\n",
    "text_per_user.mean()"
   ]
  },
  {
   "cell_type": "code",
   "execution_count": 52,
   "metadata": {},
   "outputs": [
    {
     "name": "stdout",
     "output_type": "stream",
     "text": [
      "Standard deviation for texts is: 33.113759695003296\n"
     ]
    }
   ],
   "source": [
    "#standard deviation for texts \n",
    "standard_deviation_txt = np.std(text_per_user)\n",
    "print('Standard deviation for texts is:',standard_deviation_txt)"
   ]
  },
  {
   "cell_type": "code",
   "execution_count": 53,
   "metadata": {},
   "outputs": [
    {
     "data": {
      "image/png": "[encoded data removed]",
      "text/plain": [
       "<Figure size 576x396 with 1 Axes>"
      ]
     },
     "metadata": {},
     "output_type": "display_data"
    }
   ],
   "source": [
    "data_hist = internet_gb['gb_used'].plot(kind = 'hist',grid = True,color = '#27AE60',bins = 20);\n",
    "data_hist.set_xlabel('Data consumed in GB')\n",
    "plt.title('Data consumed by users',loc = 'left',fontsize=24,color=\"green\" );"
   ]
  },
  {
   "cell_type": "markdown",
   "metadata": {},
   "source": [
    "- Most of the consumers had used the data between 40 - 60 gb. Data usage is more because nowadays users prefer using internet than any other old school methods."
   ]
  },
  {
   "cell_type": "code",
   "execution_count": 54,
   "metadata": {},
   "outputs": [
    {
     "data": {
      "text/plain": [
       "40.71980676328502"
      ]
     },
     "execution_count": 54,
     "metadata": {},
     "output_type": "execute_result"
    }
   ],
   "source": [
    "#Mean of internet used\n",
    "internet_gb['gb_used'].mean()"
   ]
  },
  {
   "cell_type": "code",
   "execution_count": 55,
   "metadata": {},
   "outputs": [
    {
     "name": "stdout",
     "output_type": "stream",
     "text": [
      "Standard deviation for internet is: 17.165643147340244\n"
     ]
    }
   ],
   "source": [
    "#Standard deviation for internet\n",
    "standard_deviation_internet = np.std(internet_gb['gb_used'])\n",
    "print('Standard deviation for internet is:',standard_deviation_internet)"
   ]
  },
  {
   "cell_type": "code",
   "execution_count": 56,
   "metadata": {},
   "outputs": [
    {
     "data": {
      "text/html": [
       "<div>\n",
       "<style scoped>\n",
       "    .dataframe tbody tr th:only-of-type {\n",
       "        vertical-align: middle;\n",
       "    }\n",
       "\n",
       "    .dataframe tbody tr th {\n",
       "        vertical-align: top;\n",
       "    }\n",
       "\n",
       "    .dataframe thead th {\n",
       "        text-align: right;\n",
       "    }\n",
       "</style>\n",
       "<table border=\"1\" class=\"dataframe\">\n",
       "  <thead>\n",
       "    <tr style=\"text-align: right;\">\n",
       "      <th></th>\n",
       "      <th>id</th>\n",
       "      <th>user_id</th>\n",
       "      <th>call_date</th>\n",
       "      <th>duration</th>\n",
       "      <th>month</th>\n",
       "      <th>hrs_duration</th>\n",
       "    </tr>\n",
       "  </thead>\n",
       "  <tbody>\n",
       "    <tr>\n",
       "      <th>0</th>\n",
       "      <td>1000_93</td>\n",
       "      <td>1000</td>\n",
       "      <td>2018-12-27</td>\n",
       "      <td>8.52</td>\n",
       "      <td>12</td>\n",
       "      <td>0.142000</td>\n",
       "    </tr>\n",
       "    <tr>\n",
       "      <th>1</th>\n",
       "      <td>1000_145</td>\n",
       "      <td>1000</td>\n",
       "      <td>2018-12-27</td>\n",
       "      <td>13.66</td>\n",
       "      <td>12</td>\n",
       "      <td>0.227667</td>\n",
       "    </tr>\n",
       "    <tr>\n",
       "      <th>2</th>\n",
       "      <td>1000_247</td>\n",
       "      <td>1000</td>\n",
       "      <td>2018-12-27</td>\n",
       "      <td>14.48</td>\n",
       "      <td>12</td>\n",
       "      <td>0.241333</td>\n",
       "    </tr>\n",
       "    <tr>\n",
       "      <th>3</th>\n",
       "      <td>1000_309</td>\n",
       "      <td>1000</td>\n",
       "      <td>2018-12-28</td>\n",
       "      <td>5.76</td>\n",
       "      <td>12</td>\n",
       "      <td>0.096000</td>\n",
       "    </tr>\n",
       "    <tr>\n",
       "      <th>4</th>\n",
       "      <td>1000_380</td>\n",
       "      <td>1000</td>\n",
       "      <td>2018-12-30</td>\n",
       "      <td>4.22</td>\n",
       "      <td>12</td>\n",
       "      <td>0.070333</td>\n",
       "    </tr>\n",
       "  </tbody>\n",
       "</table>\n",
       "</div>"
      ],
      "text/plain": [
       "         id  user_id   call_date  duration  month  hrs_duration\n",
       "0   1000_93     1000  2018-12-27      8.52     12      0.142000\n",
       "1  1000_145     1000  2018-12-27     13.66     12      0.227667\n",
       "2  1000_247     1000  2018-12-27     14.48     12      0.241333\n",
       "3  1000_309     1000  2018-12-28      5.76     12      0.096000\n",
       "4  1000_380     1000  2018-12-30      4.22     12      0.070333"
      ]
     },
     "execution_count": 56,
     "metadata": {},
     "output_type": "execute_result"
    }
   ],
   "source": [
    "calls.head()"
   ]
  },
  {
   "cell_type": "code",
   "execution_count": 57,
   "metadata": {},
   "outputs": [
    {
     "data": {
      "image/png": "[encoded data removed]",
      "text/plain": [
       "<Figure size 720x432 with 1 Axes>"
      ]
     },
     "metadata": {},
     "output_type": "display_data"
    }
   ],
   "source": [
    "surf_plan = telecom2.query('plan == \"surf\"')['total_cost']\n",
    "ultimate_plan = telecom2.query('plan == \"ultimate\"')['total_cost']\n",
    "plt.figure(figsize = (10,6))\n",
    "plt.hist(surf_plan,bins = 20,alpha = 0.5,label = 'surf',density = True)\n",
    "plt.hist(ultimate_plan,bins = 20,alpha = 0.5,label = 'ultimate',density = True)\n",
    "plt.xlabel('Monthly Revenue')\n",
    "plt.ylabel('frequency')\n",
    "plt.title('Average Revenue')\n",
    "plt.legend()\n",
    "plt.show()"
   ]
  },
  {
   "cell_type": "markdown",
   "metadata": {},
   "source": [
    "###### This is the histogram explaining the average revenue from both the data plans, surf and ultimate. As we can see ultimate has th higher frequency than surf because pricing of ultimate is more than surf. Possible distribution: Normal"
   ]
  },
  {
   "cell_type": "markdown",
   "metadata": {},
   "source": [
    "Note : \n",
    "- Possible distribution was an attempt to guess the distribution. Q-Q plot could be used to test the guess of the distribution (future attempts due to lack of time (; )"
   ]
  },
  {
   "cell_type": "code",
   "execution_count": 58,
   "metadata": {},
   "outputs": [],
   "source": [
    "#Finding IQR and both lower & upper outlier limit\n",
    "Q3_dl = telecom2['duration'].quantile(0.75)\n",
    "Q1_dl = telecom2['duration'].quantile(0.25)\n",
    "IQR_duration = Q3_dl - Q1_dl\n",
    "up_duration = Q3_dl + (1.5*IQR_duration)\n",
    "down_duration = Q1_dl - (1.5*IQR_duration)"
   ]
  },
  {
   "cell_type": "code",
   "execution_count": 59,
   "metadata": {},
   "outputs": [],
   "source": [
    "import sys\n",
    "import warnings\n",
    "if not sys.warnoptions:\n",
    "       warnings.simplefilter(\"ignore\")"
   ]
  },
  {
   "cell_type": "code",
   "execution_count": 60,
   "metadata": {},
   "outputs": [
    {
     "data": {
      "image/png": "[encoded data removed]",
      "text/plain": [
       "<Figure size 720x360 with 1 Axes>"
      ]
     },
     "metadata": {},
     "output_type": "display_data"
    }
   ],
   "source": [
    "box1 = telecom2.boxplot(column = 'duration',by = 'plan',figsize = (10,5)).set(title='Outliers for call duration', xlabel='plan type', ylabel='duration');\n"
   ]
  },
  {
   "cell_type": "markdown",
   "metadata": {},
   "source": [
    "###### For both the plans, most of the calls lasted for a duration less than 1000 minutes"
   ]
  },
  {
   "cell_type": "markdown",
   "metadata": {},
   "source": [
    "## Test the Hypotheses"
   ]
  },
  {
   "cell_type": "markdown",
   "metadata": {},
   "source": [
    "###### - Ho = \"The average revenue from users of Ultimate and Surf calling plans are not different.\"\n",
    "###### - H1 = \"The average revenue from users of Ultimate and Surf calling plans are different.\""
   ]
  },
  {
   "cell_type": "code",
   "execution_count": 61,
   "metadata": {},
   "outputs": [
    {
     "name": "stdout",
     "output_type": "stream",
     "text": [
      "Statistics = 316867.500,p = 0.00000\n",
      "Different distribution\n"
     ]
    }
   ],
   "source": [
    "# Wilcoxon-Mann-whitney-Test\n",
    "from scipy.stats import mannwhitneyu\n",
    "stat,p = mannwhitneyu(surf_plan,ultimate_plan)\n",
    "print(('Statistics = %.3f,p = %.5f')% (stat,p))\n",
    "alpha = 0.05\n",
    "if p > alpha:\n",
    "    print('Same distribution')\n",
    "else:\n",
    "    print('Different distribution')"
   ]
  },
  {
   "cell_type": "markdown",
   "metadata": {},
   "source": [
    "###### Since p-value < alpha, null hypothesis can be rejected. "
   ]
  },
  {
   "cell_type": "markdown",
   "metadata": {},
   "source": [
    "###### the plan data is normally distributed  especially in this assumption, where the distribution is made up of a uniformly distribution cost of the tariff plan and a random value of plan for exceeding the tariff limits with log-normal distribution. So its better to use Mann-whitney test here."
   ]
  },
  {
   "cell_type": "code",
   "execution_count": 62,
   "metadata": {},
   "outputs": [
    {
     "data": {
      "text/plain": [
       "1     80.00\n",
       "2    280.00\n",
       "3    370.09\n",
       "4    360.00\n",
       "5    420.00\n",
       "Name: total_cost, dtype: float64"
      ]
     },
     "execution_count": 62,
     "metadata": {},
     "output_type": "execute_result"
    }
   ],
   "source": [
    "surf_plan.head()"
   ]
  },
  {
   "cell_type": "code",
   "execution_count": 63,
   "metadata": {},
   "outputs": [],
   "source": [
    "ny_region = telecom2.query('city == \"New York-Newark-Jersey City, NY-NJ-PA MSA\"').groupby('user_id')['total_cost'].apply(lambda grp : grp.mean())"
   ]
  },
  {
   "cell_type": "code",
   "execution_count": 64,
   "metadata": {},
   "outputs": [],
   "source": [
    "othr_region = telecom2.query('city != \"New York-Newark-Jersey City,NY-NJ-PA MSA\"').groupby('user_id')['total_cost']"
   ]
  },
  {
   "cell_type": "code",
   "execution_count": 65,
   "metadata": {},
   "outputs": [],
   "source": [
    "ny_region = ny_region.astype(int)"
   ]
  },
  {
   "cell_type": "code",
   "execution_count": 66,
   "metadata": {},
   "outputs": [],
   "source": [
    "othr_region = othr_region.apply(lambda grp: grp.astype(int))"
   ]
  },
  {
   "cell_type": "code",
   "execution_count": 67,
   "metadata": {},
   "outputs": [],
   "source": [
    "ny_region_smple = ny_region.sample(50)\n",
    "othr_region_smple = othr_region.sample(50)"
   ]
  },
  {
   "cell_type": "markdown",
   "metadata": {},
   "source": [
    "###### - Ho = \"The average revenue from users in NY-NJ area is not different from that of the users from other regions.\"\n",
    "###### - H1 = \"The average revenue from users in NY-NJ area is different from that of the users from other regions.\""
   ]
  },
  {
   "cell_type": "code",
   "execution_count": 68,
   "metadata": {},
   "outputs": [
    {
     "name": "stdout",
     "output_type": "stream",
     "text": [
      "Statistics = 1218.500,p = 0.41535\n",
      "Same distribution\n"
     ]
    }
   ],
   "source": [
    "#Wilcoxon-Mannwhitney-Test\n",
    "from scipy.stats import mannwhitneyu\n",
    "stat,p = mannwhitneyu(ny_region_smple,othr_region_smple)\n",
    "print(('Statistics = %.3f,p = %.5f')% (stat,p))\n",
    "alpha = 0.05\n",
    "if p > alpha:\n",
    "    print('Same distribution')\n",
    "else:\n",
    "    print('Different distribution')"
   ]
  },
  {
   "cell_type": "markdown",
   "metadata": {},
   "source": [
    "- Since p-value > alpha, the null hypotheses cannot be rejected"
   ]
  },
  {
   "cell_type": "markdown",
   "metadata": {},
   "source": [
    "##### From the average revenue histogram we can see that the revenue data is normally distributed  especially in this assumption, where the distribution is made up of a uniformly distributed cost of the tariff plan and a random value of revenue for exceeding the tariff limits with log-normal distribution. So its better to use Mann-whitney test here.\n",
    "\n",
    "- the ny_region data type was float so for better calculations we converted it to int type\n",
    "- The ny_region and othr_region both had different counts.\n",
    "- We took same samples from each dataframe to avoid errors in Mannwhitneyu \n",
    "- As p-value is small  means that such an extreme observed outcome would be very unlikely under the null hypothesis\n",
    "-  For a significance level of 0.05, expect to obtain sample means in the critical region 5% of the time when the null hypothesis is true"
   ]
  },
  {
   "cell_type": "markdown",
   "metadata": {},
   "source": [
    "# Overall Conclusion"
   ]
  },
  {
   "cell_type": "markdown",
   "metadata": {},
   "source": [
    "- Most of the data from all five tables was clean,there weren't any null values except churn_date which was not useful\n",
    "- The data was in different tables so we merged the tables to get the data on single dataframe\n",
    "- Created a function which can provide the revenue cost according to different plan.\n",
    "- Rounded the internet gb used because If someone uses 1025 megabytes this month, they will be charged for 2 gigabytes\n",
    "- Conclusion from histograms\n",
    "  -The peak is at zero mins because most of the users prefers talking under 5 mins. There are less users who likes to talk more than 15 mins\n",
    "  -Most of the messages are from 1-50\n",
    "  -Most of the consumers had used the data between 40 - 60 gb\n",
    "- The histogram explaining the average revenue from both the data plans, surf and ultimate. As we can see ultimate has the higher frequency than surf because pricing of ultimate is more than surf.\n",
    "-  the revenue data is normally distributed  especially in this assumption, where the distribution is made up of a uniformly distributed cost of the tariff plan and a random value of revenue for exceeding the tariff limits with log-normal distribution. So its better to use Mann-whitney test here\n",
    "- As p-value is small  means that such an extreme observed outcome would be very unlikely under the null hypothesis\n",
    "-  For a significance level of 0.05, expect to obtain sample means in the critical region 5% of the time when the null hypothesis is true\n",
    "\n",
    "##### General Suggestion\n",
    "- Introducing another plan in between Surf and Ultimate might increase the revenue. \n",
    "- Keeping the marketing startegies on Surf plan the same and increasing it for Ultimate plan might help. Some additional offers on Ultimate plan (like extra free data) for soemtime might also help. \n"
   ]
  },
  {
   "cell_type": "code",
   "execution_count": null,
   "metadata": {},
   "outputs": [],
   "source": []
  }
 ],
 "metadata": {
  "kernelspec": {
   "display_name": "Python 3",
   "language": "python",
   "name": "python3"
  },
  "language_info": {
   "codemirror_mode": {
    "name": "ipython",
    "version": 3
   },
   "file_extension": ".py",
   "mimetype": "text/x-python",
   "name": "python",
   "nbconvert_exporter": "python",
   "pygments_lexer": "ipython3",
   "version": "3.8.8"
  },
  "toc": {
   "base_numbering": 1,
   "nav_menu": {},
   "number_sections": true,
   "sideBar": true,
   "skip_h1_title": true,
   "title_cell": "Table of Contents",
   "title_sidebar": "Contents",
   "toc_cell": false,
   "toc_position": {},
   "toc_section_display": true,
   "toc_window_display": false
  }
 },
 "nbformat": 4,
 "nbformat_minor": 2
}
