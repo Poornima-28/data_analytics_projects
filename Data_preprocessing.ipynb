{
 "cells": [
  {
   "cell_type": "markdown",
   "id": "45313db2",
   "metadata": {},
   "source": [
    "## Project Description\n",
    "\n",
    "**Goal : Build a credit score for each customer**\n",
    "\n",
    "**Task : Identitfy the relationship between customer's marital status, number of children and loan defaulting**\n",
    "\n",
    "### Data Description \n",
    "\n",
    "children: the number of children in the family\n",
    "\n",
    "days_employed: how long the customer has been working\n",
    "\n",
    "dob_years: the customer’s age\n",
    "\n",
    "education: the customer’s education level\n",
    "\n",
    "education_id: identifier for the customer’s education\n",
    "\n",
    "family_status: the customer’s marital status\n",
    "\n",
    "family_status_id: identifier for the customer’s marital status\n",
    "\n",
    "gender: the customer’s gender\n",
    "\n",
    "income_type: the customer’s income type\n",
    "\n",
    "debt: whether the customer has ever defaulted on a loan\n",
    "\n",
    "total_income: monthly income\n",
    "\n",
    "purpose: reason for taking out a loan"
   ]
  },
  {
   "cell_type": "code",
   "execution_count": 1,
   "id": "152f8c33",
   "metadata": {},
   "outputs": [],
   "source": [
    "#import libraries\n",
    "\n",
    "import pandas as pd\n",
    "import numpy as np\n",
    "import matplotlib.pyplot as plt\n",
    "import seaborn as sns"
   ]
  },
  {
   "cell_type": "code",
   "execution_count": 2,
   "id": "c4768a2f",
   "metadata": {},
   "outputs": [
    {
     "data": {
      "text/html": [
       "<div>\n",
       "<style scoped>\n",
       "    .dataframe tbody tr th:only-of-type {\n",
       "        vertical-align: middle;\n",
       "    }\n",
       "\n",
       "    .dataframe tbody tr th {\n",
       "        vertical-align: top;\n",
       "    }\n",
       "\n",
       "    .dataframe thead th {\n",
       "        text-align: right;\n",
       "    }\n",
       "</style>\n",
       "<table border=\"1\" class=\"dataframe\">\n",
       "  <thead>\n",
       "    <tr style=\"text-align: right;\">\n",
       "      <th></th>\n",
       "      <th>children</th>\n",
       "      <th>days_employed</th>\n",
       "      <th>dob_years</th>\n",
       "      <th>education</th>\n",
       "      <th>education_id</th>\n",
       "      <th>family_status</th>\n",
       "      <th>family_status_id</th>\n",
       "      <th>gender</th>\n",
       "      <th>income_type</th>\n",
       "      <th>debt</th>\n",
       "      <th>total_income</th>\n",
       "      <th>purpose</th>\n",
       "    </tr>\n",
       "  </thead>\n",
       "  <tbody>\n",
       "    <tr>\n",
       "      <th>0</th>\n",
       "      <td>1</td>\n",
       "      <td>-8437.673028</td>\n",
       "      <td>42</td>\n",
       "      <td>bachelor's degree</td>\n",
       "      <td>0</td>\n",
       "      <td>married</td>\n",
       "      <td>0</td>\n",
       "      <td>F</td>\n",
       "      <td>employee</td>\n",
       "      <td>0</td>\n",
       "      <td>40620.102</td>\n",
       "      <td>purchase of the house</td>\n",
       "    </tr>\n",
       "    <tr>\n",
       "      <th>1</th>\n",
       "      <td>1</td>\n",
       "      <td>-4024.803754</td>\n",
       "      <td>36</td>\n",
       "      <td>secondary education</td>\n",
       "      <td>1</td>\n",
       "      <td>married</td>\n",
       "      <td>0</td>\n",
       "      <td>F</td>\n",
       "      <td>employee</td>\n",
       "      <td>0</td>\n",
       "      <td>17932.802</td>\n",
       "      <td>car purchase</td>\n",
       "    </tr>\n",
       "    <tr>\n",
       "      <th>2</th>\n",
       "      <td>0</td>\n",
       "      <td>-5623.422610</td>\n",
       "      <td>33</td>\n",
       "      <td>Secondary Education</td>\n",
       "      <td>1</td>\n",
       "      <td>married</td>\n",
       "      <td>0</td>\n",
       "      <td>M</td>\n",
       "      <td>employee</td>\n",
       "      <td>0</td>\n",
       "      <td>23341.752</td>\n",
       "      <td>purchase of the house</td>\n",
       "    </tr>\n",
       "    <tr>\n",
       "      <th>3</th>\n",
       "      <td>3</td>\n",
       "      <td>-4124.747207</td>\n",
       "      <td>32</td>\n",
       "      <td>secondary education</td>\n",
       "      <td>1</td>\n",
       "      <td>married</td>\n",
       "      <td>0</td>\n",
       "      <td>M</td>\n",
       "      <td>employee</td>\n",
       "      <td>0</td>\n",
       "      <td>42820.568</td>\n",
       "      <td>supplementary education</td>\n",
       "    </tr>\n",
       "    <tr>\n",
       "      <th>4</th>\n",
       "      <td>0</td>\n",
       "      <td>340266.072047</td>\n",
       "      <td>53</td>\n",
       "      <td>secondary education</td>\n",
       "      <td>1</td>\n",
       "      <td>civil partnership</td>\n",
       "      <td>1</td>\n",
       "      <td>F</td>\n",
       "      <td>retiree</td>\n",
       "      <td>0</td>\n",
       "      <td>25378.572</td>\n",
       "      <td>to have a wedding</td>\n",
       "    </tr>\n",
       "  </tbody>\n",
       "</table>\n",
       "</div>"
      ],
      "text/plain": [
       "   children  days_employed  dob_years            education  education_id  \\\n",
       "0         1   -8437.673028         42    bachelor's degree             0   \n",
       "1         1   -4024.803754         36  secondary education             1   \n",
       "2         0   -5623.422610         33  Secondary Education             1   \n",
       "3         3   -4124.747207         32  secondary education             1   \n",
       "4         0  340266.072047         53  secondary education             1   \n",
       "\n",
       "       family_status  family_status_id gender income_type  debt  total_income  \\\n",
       "0            married                 0      F    employee     0     40620.102   \n",
       "1            married                 0      F    employee     0     17932.802   \n",
       "2            married                 0      M    employee     0     23341.752   \n",
       "3            married                 0      M    employee     0     42820.568   \n",
       "4  civil partnership                 1      F     retiree     0     25378.572   \n",
       "\n",
       "                   purpose  \n",
       "0    purchase of the house  \n",
       "1             car purchase  \n",
       "2    purchase of the house  \n",
       "3  supplementary education  \n",
       "4        to have a wedding  "
      ]
     },
     "execution_count": 2,
     "metadata": {},
     "output_type": "execute_result"
    }
   ],
   "source": [
    "#reading file \n",
    "\n",
    "cscore = pd.read_csv('credit_scoring_eng.csv', na_values = [' '])\n",
    "cscore.head()"
   ]
  },
  {
   "cell_type": "code",
   "execution_count": 3,
   "id": "28fdc784",
   "metadata": {},
   "outputs": [
    {
     "data": {
      "text/plain": [
       "(21525, 12)"
      ]
     },
     "execution_count": 3,
     "metadata": {},
     "output_type": "execute_result"
    }
   ],
   "source": [
    "cscore.shape"
   ]
  },
  {
   "cell_type": "code",
   "execution_count": 4,
   "id": "7e276743",
   "metadata": {},
   "outputs": [
    {
     "name": "stdout",
     "output_type": "stream",
     "text": [
      "<class 'pandas.core.frame.DataFrame'>\n",
      "RangeIndex: 21525 entries, 0 to 21524\n",
      "Data columns (total 12 columns):\n",
      " #   Column            Non-Null Count  Dtype  \n",
      "---  ------            --------------  -----  \n",
      " 0   children          21525 non-null  int64  \n",
      " 1   days_employed     19351 non-null  float64\n",
      " 2   dob_years         21525 non-null  int64  \n",
      " 3   education         21525 non-null  object \n",
      " 4   education_id      21525 non-null  int64  \n",
      " 5   family_status     21525 non-null  object \n",
      " 6   family_status_id  21525 non-null  int64  \n",
      " 7   gender            21525 non-null  object \n",
      " 8   income_type       21525 non-null  object \n",
      " 9   debt              21525 non-null  int64  \n",
      " 10  total_income      19351 non-null  float64\n",
      " 11  purpose           21525 non-null  object \n",
      "dtypes: float64(2), int64(5), object(5)\n",
      "memory usage: 2.0+ MB\n"
     ]
    }
   ],
   "source": [
    "#General information\n",
    "\n",
    "cscore.info()"
   ]
  },
  {
   "cell_type": "code",
   "execution_count": 5,
   "id": "c4e5eb59",
   "metadata": {},
   "outputs": [
    {
     "data": {
      "text/html": [
       "<div>\n",
       "<style scoped>\n",
       "    .dataframe tbody tr th:only-of-type {\n",
       "        vertical-align: middle;\n",
       "    }\n",
       "\n",
       "    .dataframe tbody tr th {\n",
       "        vertical-align: top;\n",
       "    }\n",
       "\n",
       "    .dataframe thead th {\n",
       "        text-align: right;\n",
       "    }\n",
       "</style>\n",
       "<table border=\"1\" class=\"dataframe\">\n",
       "  <thead>\n",
       "    <tr style=\"text-align: right;\">\n",
       "      <th></th>\n",
       "      <th>children</th>\n",
       "      <th>days_employed</th>\n",
       "      <th>dob_years</th>\n",
       "      <th>education_id</th>\n",
       "      <th>family_status_id</th>\n",
       "      <th>debt</th>\n",
       "      <th>total_income</th>\n",
       "    </tr>\n",
       "  </thead>\n",
       "  <tbody>\n",
       "    <tr>\n",
       "      <th>count</th>\n",
       "      <td>21525.000000</td>\n",
       "      <td>19351.000000</td>\n",
       "      <td>21525.000000</td>\n",
       "      <td>21525.000000</td>\n",
       "      <td>21525.000000</td>\n",
       "      <td>21525.000000</td>\n",
       "      <td>19351.000000</td>\n",
       "    </tr>\n",
       "    <tr>\n",
       "      <th>mean</th>\n",
       "      <td>0.538908</td>\n",
       "      <td>63046.497661</td>\n",
       "      <td>43.293380</td>\n",
       "      <td>0.817236</td>\n",
       "      <td>0.972544</td>\n",
       "      <td>0.080883</td>\n",
       "      <td>26787.568355</td>\n",
       "    </tr>\n",
       "    <tr>\n",
       "      <th>std</th>\n",
       "      <td>1.381587</td>\n",
       "      <td>140827.311974</td>\n",
       "      <td>12.574584</td>\n",
       "      <td>0.548138</td>\n",
       "      <td>1.420324</td>\n",
       "      <td>0.272661</td>\n",
       "      <td>16475.450632</td>\n",
       "    </tr>\n",
       "    <tr>\n",
       "      <th>min</th>\n",
       "      <td>-1.000000</td>\n",
       "      <td>-18388.949901</td>\n",
       "      <td>0.000000</td>\n",
       "      <td>0.000000</td>\n",
       "      <td>0.000000</td>\n",
       "      <td>0.000000</td>\n",
       "      <td>3306.762000</td>\n",
       "    </tr>\n",
       "    <tr>\n",
       "      <th>25%</th>\n",
       "      <td>0.000000</td>\n",
       "      <td>-2747.423625</td>\n",
       "      <td>33.000000</td>\n",
       "      <td>1.000000</td>\n",
       "      <td>0.000000</td>\n",
       "      <td>0.000000</td>\n",
       "      <td>16488.504500</td>\n",
       "    </tr>\n",
       "    <tr>\n",
       "      <th>50%</th>\n",
       "      <td>0.000000</td>\n",
       "      <td>-1203.369529</td>\n",
       "      <td>42.000000</td>\n",
       "      <td>1.000000</td>\n",
       "      <td>0.000000</td>\n",
       "      <td>0.000000</td>\n",
       "      <td>23202.870000</td>\n",
       "    </tr>\n",
       "    <tr>\n",
       "      <th>75%</th>\n",
       "      <td>1.000000</td>\n",
       "      <td>-291.095954</td>\n",
       "      <td>53.000000</td>\n",
       "      <td>1.000000</td>\n",
       "      <td>1.000000</td>\n",
       "      <td>0.000000</td>\n",
       "      <td>32549.611000</td>\n",
       "    </tr>\n",
       "    <tr>\n",
       "      <th>max</th>\n",
       "      <td>20.000000</td>\n",
       "      <td>401755.400475</td>\n",
       "      <td>75.000000</td>\n",
       "      <td>4.000000</td>\n",
       "      <td>4.000000</td>\n",
       "      <td>1.000000</td>\n",
       "      <td>362496.645000</td>\n",
       "    </tr>\n",
       "  </tbody>\n",
       "</table>\n",
       "</div>"
      ],
      "text/plain": [
       "           children  days_employed     dob_years  education_id  \\\n",
       "count  21525.000000   19351.000000  21525.000000  21525.000000   \n",
       "mean       0.538908   63046.497661     43.293380      0.817236   \n",
       "std        1.381587  140827.311974     12.574584      0.548138   \n",
       "min       -1.000000  -18388.949901      0.000000      0.000000   \n",
       "25%        0.000000   -2747.423625     33.000000      1.000000   \n",
       "50%        0.000000   -1203.369529     42.000000      1.000000   \n",
       "75%        1.000000    -291.095954     53.000000      1.000000   \n",
       "max       20.000000  401755.400475     75.000000      4.000000   \n",
       "\n",
       "       family_status_id          debt   total_income  \n",
       "count      21525.000000  21525.000000   19351.000000  \n",
       "mean           0.972544      0.080883   26787.568355  \n",
       "std            1.420324      0.272661   16475.450632  \n",
       "min            0.000000      0.000000    3306.762000  \n",
       "25%            0.000000      0.000000   16488.504500  \n",
       "50%            0.000000      0.000000   23202.870000  \n",
       "75%            1.000000      0.000000   32549.611000  \n",
       "max            4.000000      1.000000  362496.645000  "
      ]
     },
     "execution_count": 5,
     "metadata": {},
     "output_type": "execute_result"
    }
   ],
   "source": [
    "#Descriptive statistics \n",
    "\n",
    "cscore.describe()"
   ]
  },
  {
   "cell_type": "code",
   "execution_count": 6,
   "id": "ac4b1057",
   "metadata": {},
   "outputs": [
    {
     "data": {
      "text/html": [
       "<div>\n",
       "<style scoped>\n",
       "    .dataframe tbody tr th:only-of-type {\n",
       "        vertical-align: middle;\n",
       "    }\n",
       "\n",
       "    .dataframe tbody tr th {\n",
       "        vertical-align: top;\n",
       "    }\n",
       "\n",
       "    .dataframe thead th {\n",
       "        text-align: right;\n",
       "    }\n",
       "</style>\n",
       "<table border=\"1\" class=\"dataframe\">\n",
       "  <thead>\n",
       "    <tr style=\"text-align: right;\">\n",
       "      <th></th>\n",
       "      <th>education</th>\n",
       "      <th>family_status</th>\n",
       "      <th>gender</th>\n",
       "      <th>income_type</th>\n",
       "      <th>purpose</th>\n",
       "    </tr>\n",
       "  </thead>\n",
       "  <tbody>\n",
       "    <tr>\n",
       "      <th>count</th>\n",
       "      <td>21525</td>\n",
       "      <td>21525</td>\n",
       "      <td>21525</td>\n",
       "      <td>21525</td>\n",
       "      <td>21525</td>\n",
       "    </tr>\n",
       "    <tr>\n",
       "      <th>unique</th>\n",
       "      <td>15</td>\n",
       "      <td>5</td>\n",
       "      <td>3</td>\n",
       "      <td>8</td>\n",
       "      <td>38</td>\n",
       "    </tr>\n",
       "    <tr>\n",
       "      <th>top</th>\n",
       "      <td>secondary education</td>\n",
       "      <td>married</td>\n",
       "      <td>F</td>\n",
       "      <td>employee</td>\n",
       "      <td>wedding ceremony</td>\n",
       "    </tr>\n",
       "    <tr>\n",
       "      <th>freq</th>\n",
       "      <td>13750</td>\n",
       "      <td>12380</td>\n",
       "      <td>14236</td>\n",
       "      <td>11119</td>\n",
       "      <td>797</td>\n",
       "    </tr>\n",
       "  </tbody>\n",
       "</table>\n",
       "</div>"
      ],
      "text/plain": [
       "                  education family_status gender income_type           purpose\n",
       "count                 21525         21525  21525       21525             21525\n",
       "unique                   15             5      3           8                38\n",
       "top     secondary education       married      F    employee  wedding ceremony\n",
       "freq                  13750         12380  14236       11119               797"
      ]
     },
     "execution_count": 6,
     "metadata": {},
     "output_type": "execute_result"
    }
   ],
   "source": [
    "cscore.describe(include = 'object')"
   ]
  },
  {
   "cell_type": "markdown",
   "id": "484b08cf",
   "metadata": {},
   "source": [
    "### Data Preprocessing "
   ]
  },
  {
   "cell_type": "code",
   "execution_count": 7,
   "id": "2b2284e9",
   "metadata": {},
   "outputs": [
    {
     "data": {
      "text/plain": [
       "children               0\n",
       "days_employed       2174\n",
       "dob_years              0\n",
       "education              0\n",
       "education_id           0\n",
       "family_status          0\n",
       "family_status_id       0\n",
       "gender                 0\n",
       "income_type            0\n",
       "debt                   0\n",
       "total_income        2174\n",
       "purpose                0\n",
       "dtype: int64"
      ]
     },
     "execution_count": 7,
     "metadata": {},
     "output_type": "execute_result"
    }
   ],
   "source": [
    "#Check for missing values \n",
    "\n",
    "cscore.isnull().sum()"
   ]
  },
  {
   "cell_type": "code",
   "execution_count": 8,
   "id": "fc165968",
   "metadata": {},
   "outputs": [
    {
     "data": {
      "image/png": "[encoded data removed]",
      "text/plain": [
       "<Figure size 432x288 with 1 Axes>"
      ]
     },
     "metadata": {
      "needs_background": "light"
     },
     "output_type": "display_data"
    },
    {
     "data": {
      "image/png": "[encoded data removed]",
      "text/plain": [
       "<Figure size 432x288 with 1 Axes>"
      ]
     },
     "metadata": {
      "needs_background": "light"
     },
     "output_type": "display_data"
    }
   ],
   "source": [
    "# checking dirtibuting of days_emplyed and total_income \n",
    "\n",
    "plt.hist(cscore.days_employed, bins = 'fd')\n",
    "plt.title('Plot before filtering', fontsize = 16)\n",
    "plt.show()\n",
    "\n",
    "\n",
    "plt.hist(cscore.days_employed, bins = 'fd')\n",
    "plt.title('Plot after filtering', fontsize = 16)\n",
    "plt.xlim(325000,415000)\n",
    "plt.ylim(0,30)\n",
    "plt.show()\n",
    "\n",
    "\n",
    "#Changin values to positive\n",
    "cscore.days_employed = cscore.days_employed.abs()\n",
    "\n",
    "#replacing NAs with 0\n",
    "cscore.loc[cscore.days_employed.isnull(),'days_employed'] = 0"
   ]
  },
  {
   "cell_type": "markdown",
   "id": "9386ab0e",
   "metadata": {},
   "source": [
    "> - The data column seems to be extremely corrupt and is thus excluded from the analysis. However, the values are turned to absolute values and missing values repplaced with 0 for the purpose of tidiness"
   ]
  },
  {
   "cell_type": "code",
   "execution_count": 9,
   "id": "d26b7075",
   "metadata": {},
   "outputs": [
    {
     "data": {
      "image/png": "[encoded data removed]",
      "text/plain": [
       "<Figure size 432x288 with 1 Axes>"
      ]
     },
     "metadata": {
      "needs_background": "light"
     },
     "output_type": "display_data"
    },
    {
     "data": {
      "image/png": "[encoded data removed]",
      "text/plain": [
       "<Figure size 432x288 with 1 Axes>"
      ]
     },
     "metadata": {
      "needs_background": "light"
     },
     "output_type": "display_data"
    }
   ],
   "source": [
    "#Checking distribution for ttoal_income \n",
    "\n",
    "plt.hist(cscore.total_income, bins = 'fd')\n",
    "plt.title('Plot before filtering',fontsize = 16)\n",
    "plt.show()\n",
    "\n",
    "plt.hist(cscore.total_income, bins = 'fd')\n",
    "plt.title('Plot after filtering',fontsize = 16)\n",
    "plt.xlim(3000,150000)\n",
    "plt.axvline(cscore.total_income.mean(), color='black', linestyle='dashed', linewidth=1)\n",
    "plt.axvline(cscore.total_income.median(), color='grey', linestyle='dashed', linewidth=1)\n",
    "plt.show()\n"
   ]
  },
  {
   "cell_type": "markdown",
   "id": "e04bd38c",
   "metadata": {},
   "source": [
    "> - Since the total_income seems normally distributed, null values in the column can be replaced with the mean value. However, other columns can be used to infer missing values in this column "
   ]
  },
  {
   "cell_type": "code",
   "execution_count": 10,
   "id": "93d73e38",
   "metadata": {},
   "outputs": [
    {
     "data": {
      "text/plain": [
       " 0     14149\n",
       " 1      4818\n",
       " 2      2055\n",
       " 3       330\n",
       " 20       76\n",
       "-1        47\n",
       " 4        41\n",
       " 5         9\n",
       "Name: children, dtype: int64"
      ]
     },
     "execution_count": 10,
     "metadata": {},
     "output_type": "execute_result"
    }
   ],
   "source": [
    "# outliers in children \n",
    "\n",
    "cscore.children.value_counts()"
   ]
  },
  {
   "cell_type": "markdown",
   "id": "9e35b2d2",
   "metadata": {},
   "source": [
    "> - There cannot be -1 children, and having 20 children seems to be an outlier (could have been a typo). So the first one to be replaced with 0 and the second one with 2"
   ]
  },
  {
   "cell_type": "code",
   "execution_count": 11,
   "id": "dc0f909a",
   "metadata": {},
   "outputs": [
    {
     "data": {
      "text/plain": [
       "0    14196\n",
       "1     4818\n",
       "2     2131\n",
       "3      330\n",
       "4       41\n",
       "5        9\n",
       "Name: children, dtype: int64"
      ]
     },
     "execution_count": 11,
     "metadata": {},
     "output_type": "execute_result"
    }
   ],
   "source": [
    "# fixing outliers and erros in children col\n",
    "\n",
    "cscore.children = cscore.children.replace([-1,20],[0,2])\n",
    "cscore.children.value_counts()"
   ]
  },
  {
   "cell_type": "code",
   "execution_count": 12,
   "id": "f909cdf9",
   "metadata": {},
   "outputs": [
    {
     "data": {
      "text/plain": [
       "101"
      ]
     },
     "execution_count": 12,
     "metadata": {},
     "output_type": "execute_result"
    }
   ],
   "source": [
    "# outliers in dob_years\n",
    "\n",
    "cscore[(cscore.dob_years <=0) | (cscore.dob_years >100)].dob_years.count()"
   ]
  },
  {
   "cell_type": "markdown",
   "id": "801b205e",
   "metadata": {},
   "source": [
    "> - There are 101 rows with the value 0. This can be considered as a form of a missing value and an be replaced. \n",
    "> - Columns like fmaily_status and children can be used to infer this missing value"
   ]
  },
  {
   "cell_type": "code",
   "execution_count": 13,
   "id": "be0207af",
   "metadata": {},
   "outputs": [
    {
     "data": {
      "text/plain": [
       "married              12380\n",
       "civil partnership     4177\n",
       "unmarried             2813\n",
       "divorced              1195\n",
       "widow / widower        960\n",
       "Name: family_status, dtype: int64"
      ]
     },
     "execution_count": 13,
     "metadata": {},
     "output_type": "execute_result"
    }
   ],
   "source": [
    "#checking for errors in family_status \n",
    "\n",
    "cscore.family_status.value_counts()"
   ]
  },
  {
   "cell_type": "code",
   "execution_count": 14,
   "id": "5c82d061",
   "metadata": {},
   "outputs": [
    {
     "data": {
      "text/plain": [
       "0    12380\n",
       "1     4177\n",
       "4     2813\n",
       "3     1195\n",
       "2      960\n",
       "Name: family_status_id, dtype: int64"
      ]
     },
     "execution_count": 14,
     "metadata": {},
     "output_type": "execute_result"
    }
   ],
   "source": [
    "# errors in family_id col\n",
    "\n",
    "cscore.family_status_id.value_counts()"
   ]
  },
  {
   "cell_type": "code",
   "execution_count": 15,
   "id": "d1f0da7d",
   "metadata": {},
   "outputs": [
    {
     "data": {
      "text/html": [
       "<div>\n",
       "<style scoped>\n",
       "    .dataframe tbody tr th:only-of-type {\n",
       "        vertical-align: middle;\n",
       "    }\n",
       "\n",
       "    .dataframe tbody tr th {\n",
       "        vertical-align: top;\n",
       "    }\n",
       "\n",
       "    .dataframe thead th {\n",
       "        text-align: right;\n",
       "    }\n",
       "</style>\n",
       "<table border=\"1\" class=\"dataframe\">\n",
       "  <thead>\n",
       "    <tr style=\"text-align: right;\">\n",
       "      <th></th>\n",
       "      <th>children</th>\n",
       "      <th>days_employed</th>\n",
       "      <th>dob_years</th>\n",
       "      <th>education</th>\n",
       "      <th>education_id</th>\n",
       "      <th>family_status</th>\n",
       "      <th>family_status_id</th>\n",
       "      <th>gender</th>\n",
       "      <th>income_type</th>\n",
       "      <th>debt</th>\n",
       "      <th>total_income</th>\n",
       "      <th>purpose</th>\n",
       "      <th>mean_age</th>\n",
       "    </tr>\n",
       "  </thead>\n",
       "  <tbody>\n",
       "    <tr>\n",
       "      <th>0</th>\n",
       "      <td>1</td>\n",
       "      <td>8437.673028</td>\n",
       "      <td>42</td>\n",
       "      <td>bachelor's degree</td>\n",
       "      <td>0</td>\n",
       "      <td>married</td>\n",
       "      <td>0</td>\n",
       "      <td>F</td>\n",
       "      <td>employee</td>\n",
       "      <td>0</td>\n",
       "      <td>40620.102</td>\n",
       "      <td>purchase of the house</td>\n",
       "      <td>38.255198</td>\n",
       "    </tr>\n",
       "    <tr>\n",
       "      <th>1</th>\n",
       "      <td>1</td>\n",
       "      <td>4024.803754</td>\n",
       "      <td>36</td>\n",
       "      <td>secondary education</td>\n",
       "      <td>1</td>\n",
       "      <td>married</td>\n",
       "      <td>0</td>\n",
       "      <td>F</td>\n",
       "      <td>employee</td>\n",
       "      <td>0</td>\n",
       "      <td>17932.802</td>\n",
       "      <td>car purchase</td>\n",
       "      <td>38.255198</td>\n",
       "    </tr>\n",
       "    <tr>\n",
       "      <th>2</th>\n",
       "      <td>0</td>\n",
       "      <td>5623.422610</td>\n",
       "      <td>33</td>\n",
       "      <td>Secondary Education</td>\n",
       "      <td>1</td>\n",
       "      <td>married</td>\n",
       "      <td>0</td>\n",
       "      <td>M</td>\n",
       "      <td>employee</td>\n",
       "      <td>0</td>\n",
       "      <td>23341.752</td>\n",
       "      <td>purchase of the house</td>\n",
       "      <td>47.596892</td>\n",
       "    </tr>\n",
       "  </tbody>\n",
       "</table>\n",
       "</div>"
      ],
      "text/plain": [
       "   children  days_employed  dob_years            education  education_id  \\\n",
       "0         1    8437.673028         42    bachelor's degree             0   \n",
       "1         1    4024.803754         36  secondary education             1   \n",
       "2         0    5623.422610         33  Secondary Education             1   \n",
       "\n",
       "  family_status  family_status_id gender income_type  debt  total_income  \\\n",
       "0       married                 0      F    employee     0     40620.102   \n",
       "1       married                 0      F    employee     0     17932.802   \n",
       "2       married                 0      M    employee     0     23341.752   \n",
       "\n",
       "                 purpose   mean_age  \n",
       "0  purchase of the house  38.255198  \n",
       "1           car purchase  38.255198  \n",
       "2  purchase of the house  47.596892  "
      ]
     },
     "execution_count": 15,
     "metadata": {},
     "output_type": "execute_result"
    }
   ],
   "source": [
    "# replace missing value in dob_years\n",
    "\n",
    "cscore['mean_age'] = cscore.groupby(['family_status','children']).dob_years.transform('mean')\n",
    "cscore.head(3)"
   ]
  },
  {
   "cell_type": "code",
   "execution_count": 16,
   "id": "9e7ab8ed",
   "metadata": {},
   "outputs": [],
   "source": [
    "mask = cscore[(cscore.dob_years <=0) | (cscore.dob_years > 100)] .index.to_list()\n",
    "  \n",
    "cscore.loc[mask, 'dob_years'] = cscore.mean_age"
   ]
  },
  {
   "cell_type": "code",
   "execution_count": 17,
   "id": "dac42ef6",
   "metadata": {},
   "outputs": [
    {
     "data": {
      "text/html": [
       "<div>\n",
       "<style scoped>\n",
       "    .dataframe tbody tr th:only-of-type {\n",
       "        vertical-align: middle;\n",
       "    }\n",
       "\n",
       "    .dataframe tbody tr th {\n",
       "        vertical-align: top;\n",
       "    }\n",
       "\n",
       "    .dataframe thead th {\n",
       "        text-align: right;\n",
       "    }\n",
       "</style>\n",
       "<table border=\"1\" class=\"dataframe\">\n",
       "  <thead>\n",
       "    <tr style=\"text-align: right;\">\n",
       "      <th></th>\n",
       "      <th>children</th>\n",
       "      <th>days_employed</th>\n",
       "      <th>dob_years</th>\n",
       "      <th>education</th>\n",
       "      <th>education_id</th>\n",
       "      <th>family_status</th>\n",
       "      <th>family_status_id</th>\n",
       "      <th>gender</th>\n",
       "      <th>income_type</th>\n",
       "      <th>debt</th>\n",
       "      <th>total_income</th>\n",
       "      <th>purpose</th>\n",
       "      <th>mean_age</th>\n",
       "    </tr>\n",
       "  </thead>\n",
       "  <tbody>\n",
       "    <tr>\n",
       "      <th>99</th>\n",
       "      <td>0</td>\n",
       "      <td>346541.618895</td>\n",
       "      <td>47.596892</td>\n",
       "      <td>Secondary Education</td>\n",
       "      <td>1</td>\n",
       "      <td>married</td>\n",
       "      <td>0</td>\n",
       "      <td>F</td>\n",
       "      <td>retiree</td>\n",
       "      <td>0</td>\n",
       "      <td>11406.644</td>\n",
       "      <td>car</td>\n",
       "      <td>47.596892</td>\n",
       "    </tr>\n",
       "    <tr>\n",
       "      <th>149</th>\n",
       "      <td>0</td>\n",
       "      <td>2664.273168</td>\n",
       "      <td>48.611675</td>\n",
       "      <td>secondary education</td>\n",
       "      <td>1</td>\n",
       "      <td>divorced</td>\n",
       "      <td>3</td>\n",
       "      <td>F</td>\n",
       "      <td>employee</td>\n",
       "      <td>0</td>\n",
       "      <td>11228.230</td>\n",
       "      <td>housing transactions</td>\n",
       "      <td>48.611675</td>\n",
       "    </tr>\n",
       "    <tr>\n",
       "      <th>270</th>\n",
       "      <td>3</td>\n",
       "      <td>1872.663186</td>\n",
       "      <td>36.044177</td>\n",
       "      <td>secondary education</td>\n",
       "      <td>1</td>\n",
       "      <td>married</td>\n",
       "      <td>0</td>\n",
       "      <td>F</td>\n",
       "      <td>employee</td>\n",
       "      <td>0</td>\n",
       "      <td>16346.633</td>\n",
       "      <td>housing renovation</td>\n",
       "      <td>36.044177</td>\n",
       "    </tr>\n",
       "  </tbody>\n",
       "</table>\n",
       "</div>"
      ],
      "text/plain": [
       "     children  days_employed  dob_years            education  education_id  \\\n",
       "99          0  346541.618895  47.596892  Secondary Education             1   \n",
       "149         0    2664.273168  48.611675  secondary education             1   \n",
       "270         3    1872.663186  36.044177  secondary education             1   \n",
       "\n",
       "    family_status  family_status_id gender income_type  debt  total_income  \\\n",
       "99        married                 0      F     retiree     0     11406.644   \n",
       "149      divorced                 3      F    employee     0     11228.230   \n",
       "270       married                 0      F    employee     0     16346.633   \n",
       "\n",
       "                  purpose   mean_age  \n",
       "99                    car  47.596892  \n",
       "149  housing transactions  48.611675  \n",
       "270    housing renovation  36.044177  "
      ]
     },
     "execution_count": 17,
     "metadata": {},
     "output_type": "execute_result"
    }
   ],
   "source": [
    "cscore.iloc[mask].head(3)"
   ]
  },
  {
   "cell_type": "code",
   "execution_count": 18,
   "id": "9c454f91",
   "metadata": {},
   "outputs": [
    {
     "data": {
      "text/plain": [
       "secondary education    13750\n",
       "bachelor's degree       4718\n",
       "SECONDARY EDUCATION      772\n",
       "Secondary Education      711\n",
       "some college             668\n",
       "BACHELOR'S DEGREE        274\n",
       "Bachelor's Degree        268\n",
       "primary education        250\n",
       "Some College              47\n",
       "SOME COLLEGE              29\n",
       "PRIMARY EDUCATION         17\n",
       "Primary Education         15\n",
       "graduate degree            4\n",
       "GRADUATE DEGREE            1\n",
       "Graduate Degree            1\n",
       "Name: education, dtype: int64"
      ]
     },
     "execution_count": 18,
     "metadata": {},
     "output_type": "execute_result"
    }
   ],
   "source": [
    "# errors in education \n",
    "\n",
    "cscore.education.value_counts()"
   ]
  },
  {
   "cell_type": "markdown",
   "id": "a2abc088",
   "metadata": {},
   "source": [
    "> - This shows that there are many duplicates. This can be addressed by lowercasing all the values"
   ]
  },
  {
   "cell_type": "code",
   "execution_count": 19,
   "id": "92ae1f7a",
   "metadata": {},
   "outputs": [
    {
     "data": {
      "text/plain": [
       "secondary education    15233\n",
       "bachelor's degree       5260\n",
       "some college             744\n",
       "primary education        282\n",
       "graduate degree            6\n",
       "Name: education, dtype: int64"
      ]
     },
     "execution_count": 19,
     "metadata": {},
     "output_type": "execute_result"
    }
   ],
   "source": [
    "# lowercase values in education col\n",
    "\n",
    "cscore.education = cscore.education.str.lower()\n",
    "\n",
    "cscore.education.value_counts()"
   ]
  },
  {
   "cell_type": "code",
   "execution_count": 20,
   "id": "92ba6fa4",
   "metadata": {},
   "outputs": [
    {
     "data": {
      "text/plain": [
       "1    15233\n",
       "0     5260\n",
       "2      744\n",
       "3      282\n",
       "4        6\n",
       "Name: education_id, dtype: int64"
      ]
     },
     "execution_count": 20,
     "metadata": {},
     "output_type": "execute_result"
    }
   ],
   "source": [
    "# error in education_id col \n",
    "\n",
    "cscore.education_id.value_counts()"
   ]
  },
  {
   "cell_type": "code",
   "execution_count": 21,
   "id": "f159a031",
   "metadata": {},
   "outputs": [
    {
     "data": {
      "text/plain": [
       "F      14236\n",
       "M       7288\n",
       "XNA        1\n",
       "Name: gender, dtype: int64"
      ]
     },
     "execution_count": 21,
     "metadata": {},
     "output_type": "execute_result"
    }
   ],
   "source": [
    "# erros in gender\n",
    "\n",
    "cscore.gender.value_counts()"
   ]
  },
  {
   "cell_type": "markdown",
   "id": "e44be800",
   "metadata": {},
   "source": [
    "> - There is one typo in the gender column. This can be replace with the mode of its own column "
   ]
  },
  {
   "cell_type": "code",
   "execution_count": 22,
   "id": "799042c6",
   "metadata": {},
   "outputs": [
    {
     "data": {
      "text/plain": [
       "F    14237\n",
       "M     7288\n",
       "Name: gender, dtype: int64"
      ]
     },
     "execution_count": 22,
     "metadata": {},
     "output_type": "execute_result"
    }
   ],
   "source": [
    "# replacing missing value in gender col\n",
    "\n",
    "cscore.gender.replace('XNA',cscore.gender.mode()[0], inplace = True)\n",
    "cscore.gender.value_counts()"
   ]
  },
  {
   "cell_type": "code",
   "execution_count": 23,
   "id": "13e1549e",
   "metadata": {},
   "outputs": [
    {
     "data": {
      "text/plain": [
       "employee                       11119\n",
       "business                        5085\n",
       "retiree                         3856\n",
       "civil servant                   1459\n",
       "entrepreneur                       2\n",
       "unemployed                         2\n",
       "paternity / maternity leave        1\n",
       "student                            1\n",
       "Name: income_type, dtype: int64"
      ]
     },
     "execution_count": 23,
     "metadata": {},
     "output_type": "execute_result"
    }
   ],
   "source": [
    "# errors in income_type \n",
    "\n",
    "cscore.income_type.value_counts()"
   ]
  },
  {
   "cell_type": "code",
   "execution_count": 24,
   "id": "087f4eab",
   "metadata": {},
   "outputs": [
    {
     "data": {
      "text/plain": [
       "wedding ceremony                            797\n",
       "having a wedding                            777\n",
       "to have a wedding                           774\n",
       "real estate transactions                    676\n",
       "buy commercial real estate                  664\n",
       "buying property for renting out             653\n",
       "housing transactions                        653\n",
       "transactions with commercial real estate    651\n",
       "housing                                     647\n",
       "purchase of the house                       647\n",
       "purchase of the house for my family         641\n",
       "construction of own property                635\n",
       "property                                    634\n",
       "transactions with my real estate            630\n",
       "building a real estate                      626\n",
       "buy real estate                             624\n",
       "purchase of my own house                    620\n",
       "building a property                         620\n",
       "housing renovation                          612\n",
       "buy residential real estate                 607\n",
       "buying my own car                           505\n",
       "going to university                         496\n",
       "car                                         495\n",
       "second-hand car purchase                    489\n",
       "to own a car                                480\n",
       "buying a second-hand car                    479\n",
       "cars                                        478\n",
       "to buy a car                                472\n",
       "supplementary education                     462\n",
       "car purchase                                462\n",
       "purchase of a car                           455\n",
       "university education                        453\n",
       "education                                   447\n",
       "to get a supplementary education            447\n",
       "getting an education                        443\n",
       "profile education                           436\n",
       "getting higher education                    426\n",
       "to become educated                          412\n",
       "Name: purpose, dtype: int64"
      ]
     },
     "execution_count": 24,
     "metadata": {},
     "output_type": "execute_result"
    }
   ],
   "source": [
    "# errors in purpose column \n",
    "\n",
    "cscore.purpose.value_counts()"
   ]
  },
  {
   "cell_type": "markdown",
   "id": "896562c7",
   "metadata": {},
   "source": [
    "> - Although there seems to be a lot of reasons fro taking the loan, it all boils down to only 4 reasons and they are wedding, real estate, car purchase and education.\n",
    "> - So these must be processed to group them into respective categories"
   ]
  },
  {
   "cell_type": "code",
   "execution_count": 25,
   "id": "373a8685",
   "metadata": {},
   "outputs": [],
   "source": [
    "def purpose_cat(val):\n",
    "    \n",
    "    if 'wedding' in val.split():\n",
    "        return 'wedding'\n",
    "    elif any(x in val.split() for x in ['real estate','property','housing','house']):\n",
    "        return 'real estate'\n",
    "    elif 'car' in val.split():\n",
    "        return 'car purchase'\n",
    "    elif 'education' in val.split():\n",
    "        return 'education'"
   ]
  },
  {
   "cell_type": "code",
   "execution_count": 26,
   "id": "cf36c844",
   "metadata": {},
   "outputs": [],
   "source": [
    "cscore.purpose = cscore.purpose.apply(purpose_cat)"
   ]
  },
  {
   "cell_type": "code",
   "execution_count": 27,
   "id": "90429c82",
   "metadata": {},
   "outputs": [
    {
     "data": {
      "text/plain": [
       "real estate     6362\n",
       "car purchase    3837\n",
       "education       3114\n",
       "wedding         2348\n",
       "Name: purpose, dtype: int64"
      ]
     },
     "execution_count": 27,
     "metadata": {},
     "output_type": "execute_result"
    }
   ],
   "source": [
    "cscore.purpose.value_counts()"
   ]
  },
  {
   "cell_type": "code",
   "execution_count": 28,
   "id": "d297d3a9",
   "metadata": {},
   "outputs": [
    {
     "data": {
      "text/html": [
       "<div>\n",
       "<style scoped>\n",
       "    .dataframe tbody tr th:only-of-type {\n",
       "        vertical-align: middle;\n",
       "    }\n",
       "\n",
       "    .dataframe tbody tr th {\n",
       "        vertical-align: top;\n",
       "    }\n",
       "\n",
       "    .dataframe thead th {\n",
       "        text-align: right;\n",
       "    }\n",
       "</style>\n",
       "<table border=\"1\" class=\"dataframe\">\n",
       "  <thead>\n",
       "    <tr style=\"text-align: right;\">\n",
       "      <th></th>\n",
       "      <th>children</th>\n",
       "      <th>days_employed</th>\n",
       "      <th>dob_years</th>\n",
       "      <th>education</th>\n",
       "      <th>education_id</th>\n",
       "      <th>family_status</th>\n",
       "      <th>family_status_id</th>\n",
       "      <th>gender</th>\n",
       "      <th>income_type</th>\n",
       "      <th>debt</th>\n",
       "      <th>total_income</th>\n",
       "      <th>purpose</th>\n",
       "      <th>mean_age</th>\n",
       "      <th>income_fill</th>\n",
       "    </tr>\n",
       "  </thead>\n",
       "  <tbody>\n",
       "    <tr>\n",
       "      <th>26</th>\n",
       "      <td>0</td>\n",
       "      <td>0.000000</td>\n",
       "      <td>41.0</td>\n",
       "      <td>secondary education</td>\n",
       "      <td>1</td>\n",
       "      <td>married</td>\n",
       "      <td>0</td>\n",
       "      <td>M</td>\n",
       "      <td>civil servant</td>\n",
       "      <td>0</td>\n",
       "      <td>NaN</td>\n",
       "      <td>education</td>\n",
       "      <td>47.596892</td>\n",
       "      <td>24648.816597</td>\n",
       "    </tr>\n",
       "    <tr>\n",
       "      <th>27</th>\n",
       "      <td>0</td>\n",
       "      <td>529.191635</td>\n",
       "      <td>28.0</td>\n",
       "      <td>bachelor's degree</td>\n",
       "      <td>0</td>\n",
       "      <td>married</td>\n",
       "      <td>0</td>\n",
       "      <td>M</td>\n",
       "      <td>employee</td>\n",
       "      <td>0</td>\n",
       "      <td>49415.837</td>\n",
       "      <td>real estate</td>\n",
       "      <td>47.596892</td>\n",
       "      <td>30650.288996</td>\n",
       "    </tr>\n",
       "    <tr>\n",
       "      <th>28</th>\n",
       "      <td>1</td>\n",
       "      <td>717.274324</td>\n",
       "      <td>26.0</td>\n",
       "      <td>bachelor's degree</td>\n",
       "      <td>0</td>\n",
       "      <td>married</td>\n",
       "      <td>0</td>\n",
       "      <td>F</td>\n",
       "      <td>employee</td>\n",
       "      <td>0</td>\n",
       "      <td>30058.118</td>\n",
       "      <td>real estate</td>\n",
       "      <td>38.255198</td>\n",
       "      <td>30650.288996</td>\n",
       "    </tr>\n",
       "    <tr>\n",
       "      <th>29</th>\n",
       "      <td>0</td>\n",
       "      <td>0.000000</td>\n",
       "      <td>63.0</td>\n",
       "      <td>secondary education</td>\n",
       "      <td>1</td>\n",
       "      <td>unmarried</td>\n",
       "      <td>4</td>\n",
       "      <td>F</td>\n",
       "      <td>retiree</td>\n",
       "      <td>0</td>\n",
       "      <td>NaN</td>\n",
       "      <td>None</td>\n",
       "      <td>38.811454</td>\n",
       "      <td>21071.829349</td>\n",
       "    </tr>\n",
       "  </tbody>\n",
       "</table>\n",
       "</div>"
      ],
      "text/plain": [
       "    children  days_employed  dob_years            education  education_id  \\\n",
       "26         0       0.000000       41.0  secondary education             1   \n",
       "27         0     529.191635       28.0    bachelor's degree             0   \n",
       "28         1     717.274324       26.0    bachelor's degree             0   \n",
       "29         0       0.000000       63.0  secondary education             1   \n",
       "\n",
       "   family_status  family_status_id gender    income_type  debt  total_income  \\\n",
       "26       married                 0      M  civil servant     0           NaN   \n",
       "27       married                 0      M       employee     0     49415.837   \n",
       "28       married                 0      F       employee     0     30058.118   \n",
       "29     unmarried                 4      F        retiree     0           NaN   \n",
       "\n",
       "        purpose   mean_age   income_fill  \n",
       "26    education  47.596892  24648.816597  \n",
       "27  real estate  47.596892  30650.288996  \n",
       "28  real estate  38.255198  30650.288996  \n",
       "29         None  38.811454  21071.829349  "
      ]
     },
     "execution_count": 28,
     "metadata": {},
     "output_type": "execute_result"
    }
   ],
   "source": [
    "# Fill missing values in total_income \n",
    "\n",
    "cscore['income_fill'] = cscore.groupby(['education','income_type']).total_income.transform('mean')\n",
    "cscore.iloc[26:30,:]"
   ]
  },
  {
   "cell_type": "code",
   "execution_count": 29,
   "id": "fc4e84ca",
   "metadata": {},
   "outputs": [
    {
     "data": {
      "text/html": [
       "<div>\n",
       "<style scoped>\n",
       "    .dataframe tbody tr th:only-of-type {\n",
       "        vertical-align: middle;\n",
       "    }\n",
       "\n",
       "    .dataframe tbody tr th {\n",
       "        vertical-align: top;\n",
       "    }\n",
       "\n",
       "    .dataframe thead th {\n",
       "        text-align: right;\n",
       "    }\n",
       "</style>\n",
       "<table border=\"1\" class=\"dataframe\">\n",
       "  <thead>\n",
       "    <tr style=\"text-align: right;\">\n",
       "      <th></th>\n",
       "      <th>children</th>\n",
       "      <th>days_employed</th>\n",
       "      <th>dob_years</th>\n",
       "      <th>education</th>\n",
       "      <th>education_id</th>\n",
       "      <th>family_status</th>\n",
       "      <th>family_status_id</th>\n",
       "      <th>gender</th>\n",
       "      <th>income_type</th>\n",
       "      <th>debt</th>\n",
       "      <th>total_income</th>\n",
       "      <th>purpose</th>\n",
       "      <th>mean_age</th>\n",
       "      <th>income_fill</th>\n",
       "    </tr>\n",
       "  </thead>\n",
       "  <tbody>\n",
       "    <tr>\n",
       "      <th>26</th>\n",
       "      <td>0</td>\n",
       "      <td>0.000000</td>\n",
       "      <td>41.0</td>\n",
       "      <td>secondary education</td>\n",
       "      <td>1</td>\n",
       "      <td>married</td>\n",
       "      <td>0</td>\n",
       "      <td>M</td>\n",
       "      <td>civil servant</td>\n",
       "      <td>0</td>\n",
       "      <td>24648.816597</td>\n",
       "      <td>education</td>\n",
       "      <td>47.596892</td>\n",
       "      <td>24648.816597</td>\n",
       "    </tr>\n",
       "    <tr>\n",
       "      <th>27</th>\n",
       "      <td>0</td>\n",
       "      <td>529.191635</td>\n",
       "      <td>28.0</td>\n",
       "      <td>bachelor's degree</td>\n",
       "      <td>0</td>\n",
       "      <td>married</td>\n",
       "      <td>0</td>\n",
       "      <td>M</td>\n",
       "      <td>employee</td>\n",
       "      <td>0</td>\n",
       "      <td>49415.837000</td>\n",
       "      <td>real estate</td>\n",
       "      <td>47.596892</td>\n",
       "      <td>30650.288996</td>\n",
       "    </tr>\n",
       "    <tr>\n",
       "      <th>28</th>\n",
       "      <td>1</td>\n",
       "      <td>717.274324</td>\n",
       "      <td>26.0</td>\n",
       "      <td>bachelor's degree</td>\n",
       "      <td>0</td>\n",
       "      <td>married</td>\n",
       "      <td>0</td>\n",
       "      <td>F</td>\n",
       "      <td>employee</td>\n",
       "      <td>0</td>\n",
       "      <td>30058.118000</td>\n",
       "      <td>real estate</td>\n",
       "      <td>38.255198</td>\n",
       "      <td>30650.288996</td>\n",
       "    </tr>\n",
       "    <tr>\n",
       "      <th>29</th>\n",
       "      <td>0</td>\n",
       "      <td>0.000000</td>\n",
       "      <td>63.0</td>\n",
       "      <td>secondary education</td>\n",
       "      <td>1</td>\n",
       "      <td>unmarried</td>\n",
       "      <td>4</td>\n",
       "      <td>F</td>\n",
       "      <td>retiree</td>\n",
       "      <td>0</td>\n",
       "      <td>21071.829349</td>\n",
       "      <td>None</td>\n",
       "      <td>38.811454</td>\n",
       "      <td>21071.829349</td>\n",
       "    </tr>\n",
       "  </tbody>\n",
       "</table>\n",
       "</div>"
      ],
      "text/plain": [
       "    children  days_employed  dob_years            education  education_id  \\\n",
       "26         0       0.000000       41.0  secondary education             1   \n",
       "27         0     529.191635       28.0    bachelor's degree             0   \n",
       "28         1     717.274324       26.0    bachelor's degree             0   \n",
       "29         0       0.000000       63.0  secondary education             1   \n",
       "\n",
       "   family_status  family_status_id gender    income_type  debt  total_income  \\\n",
       "26       married                 0      M  civil servant     0  24648.816597   \n",
       "27       married                 0      M       employee     0  49415.837000   \n",
       "28       married                 0      F       employee     0  30058.118000   \n",
       "29     unmarried                 4      F        retiree     0  21071.829349   \n",
       "\n",
       "        purpose   mean_age   income_fill  \n",
       "26    education  47.596892  24648.816597  \n",
       "27  real estate  47.596892  30650.288996  \n",
       "28  real estate  38.255198  30650.288996  \n",
       "29         None  38.811454  21071.829349  "
      ]
     },
     "execution_count": 29,
     "metadata": {},
     "output_type": "execute_result"
    }
   ],
   "source": [
    "mask = cscore[cscore.total_income.isnull()].index.to_list()\n",
    "\n",
    "cscore.loc[mask,'total_income'] = cscore.income_fill\n",
    "\n",
    "cscore.iloc[26:30,:]"
   ]
  },
  {
   "cell_type": "code",
   "execution_count": 30,
   "id": "f1c05fca",
   "metadata": {},
   "outputs": [
    {
     "data": {
      "text/plain": [
       "adults          10252\n",
       "young_adults     5977\n",
       "elderly          5296\n",
       "Name: group, dtype: int64"
      ]
     },
     "execution_count": 30,
     "metadata": {},
     "output_type": "execute_result"
    }
   ],
   "source": [
    "# categorising age\n",
    "\n",
    "group_names = ['young_adults','adults','elderly']\n",
    "cscore['group'] = pd.qcut(cscore.dob_years, [0,0.25,0.75,1], labels = group_names)\n",
    "\n",
    "cscore.group.value_counts()"
   ]
  },
  {
   "cell_type": "code",
   "execution_count": 31,
   "id": "f8c98f55",
   "metadata": {},
   "outputs": [
    {
     "data": {
      "text/plain": [
       "adults          10252\n",
       "young_adults     5977\n",
       "elderly          5296\n",
       "Name: group, dtype: int64"
      ]
     },
     "execution_count": 31,
     "metadata": {},
     "output_type": "execute_result"
    }
   ],
   "source": [
    "# categorising total_income \n",
    "\n",
    "group_names = ['very low','low','moderate','high','very high']\n",
    "cscore['income_group'] = pd.qcut(cscore.total_income, [0,0.20,0.40,0.60,0.70,1], labels = group_names)\n",
    "\n",
    "cscore.group.value_counts()"
   ]
  },
  {
   "cell_type": "code",
   "execution_count": 32,
   "id": "ba2fbd3a",
   "metadata": {},
   "outputs": [
    {
     "data": {
      "text/plain": [
       "327"
      ]
     },
     "execution_count": 32,
     "metadata": {},
     "output_type": "execute_result"
    }
   ],
   "source": [
    "# checking for dulicate data\n",
    "\n",
    "cscore.duplicated().sum()"
   ]
  },
  {
   "cell_type": "code",
   "execution_count": 33,
   "id": "d3996933",
   "metadata": {},
   "outputs": [
    {
     "data": {
      "text/plain": [
       "0"
      ]
     },
     "execution_count": 33,
     "metadata": {},
     "output_type": "execute_result"
    }
   ],
   "source": [
    "# removing duplicates \n",
    "cscore.drop_duplicates(keep = 'first', inplace = True)\n",
    "\n",
    "cscore.duplicated().sum()"
   ]
  },
  {
   "cell_type": "code",
   "execution_count": 34,
   "id": "09e41a8a",
   "metadata": {},
   "outputs": [],
   "source": [
    "# dropping added cols\n",
    "\n",
    "cscore.drop(['mean_age','income_fill', 'family_status_id', 'education_id', 'days_employed'], axis = 1, inplace = True)"
   ]
  },
  {
   "cell_type": "markdown",
   "id": "dac52895",
   "metadata": {},
   "source": [
    "> **Summary of step:**\n",
    "> - Since the number of children cannot be -1 , it was replaced with 0 and 20 seemed to be an outlier, it was considered as a human error and replaced with 2\n",
    "> - dob_years and total_income columns has missing values. Since days_employed seemed to be too much corrupt even after taking the absolute values, this column is excluded from further analysis. However, the two columns datatype was changed to integer type initially. Total income’s missing value was replaced with the help of two other columns that is education and income type\n",
    "> - Column education had some duplicates due to case sensitivity which was fixed by Turing each value to their lowercases\n",
    "> - Column gender had juts one missing value. So this could easily be replaced with the mode of the column which was Female\n",
    "> - Lastly, the column purpose had many values but having a closer look at it, it was seen that all the purpose boils down to four main reason. Each value was processed to fit them into one of the 4 categories\n",
    "> - A new column categorsing the group based on age was added \n",
    "> - Some of the redundant columns such as family_status_id and education_id is removed \n",
    "\n",
    "> **possible reasons**:\n",
    "> - Presensce of missing values or wrong values could be due to human error or on purpose to no leak sensitive information\n",
    "> - Presence of duplicates maybe due to collection of data from different sources which stored the customers information mutiple times "
   ]
  },
  {
   "cell_type": "markdown",
   "id": "0f219df6",
   "metadata": {},
   "source": [
    "### EDA"
   ]
  },
  {
   "cell_type": "code",
   "execution_count": 35,
   "id": "8e1be9a0",
   "metadata": {},
   "outputs": [],
   "source": [
    "def relation(data,col1,col2='debt'):\n",
    "    \n",
    "    \n",
    "    df = pd.crosstab(index = data[col1], columns = data[col2])\n",
    "    df['no'] = round((df[0] / (df[0] + df[1]))*100,2)\n",
    "    df['yes'] = round((df[1] / (df[0] + df[1]))*100,2)\n",
    "    sns.heatmap(df[['no','yes']], annot=True, fmt = '.3g')\n",
    "    plt.title('Relation between {} & {}'.format(col1,col2), fontsize=16)\n",
    "    plt.show()\n",
    "    \n",
    "    if col1 == 'income_group':\n",
    "        sns.displot(data = cscore, x= 'total_income' , hue = 'debt', palette = ['black','blue'])\n",
    "        plt.xlim(0,100000)\n",
    "        plt.show()\n",
    "    \n",
    "    "
   ]
  },
  {
   "cell_type": "code",
   "execution_count": 36,
   "id": "2dbcc049",
   "metadata": {},
   "outputs": [
    {
     "data": {
      "image/png": "[encoded data removed]",
      "text/plain": [
       "<Figure size 432x288 with 2 Axes>"
      ]
     },
     "metadata": {
      "needs_background": "light"
     },
     "output_type": "display_data"
    },
    {
     "data": {
      "image/png": "[encoded data removed]",
      "text/plain": [
       "<Figure size 432x288 with 2 Axes>"
      ]
     },
     "metadata": {
      "needs_background": "light"
     },
     "output_type": "display_data"
    },
    {
     "data": {
      "image/png": "[encoded data removed]",
      "text/plain": [
       "<Figure size 432x288 with 2 Axes>"
      ]
     },
     "metadata": {
      "needs_background": "light"
     },
     "output_type": "display_data"
    },
    {
     "data": {
      "image/png": "[encoded data removed]",
      "text/plain": [
       "<Figure size 432x288 with 2 Axes>"
      ]
     },
     "metadata": {
      "needs_background": "light"
     },
     "output_type": "display_data"
    },
    {
     "data": {
      "image/png": "[encoded data removed]",
      "text/plain": [
       "<Figure size 402.375x360 with 1 Axes>"
      ]
     },
     "metadata": {
      "needs_background": "light"
     },
     "output_type": "display_data"
    }
   ],
   "source": [
    "cols = ['children','family_status','purpose','income_group']\n",
    "const = 'debt'\n",
    "\n",
    "for i in cols:\n",
    "    relation(cscore,i,const)"
   ]
  },
  {
   "cell_type": "markdown",
   "id": "c0bc09a9",
   "metadata": {},
   "source": [
    "**Relationship between heaving children and defaulting**\n",
    "\n",
    "- For customer having a particular number of children, the ratio of customers having debt to total customers with particular number of customers is calculated\n",
    "- Since there is not too much difference in the percentage of defaulted customers having different number of children , it can be shown that there is no direct relationship between having kids and repaying loans\n",
    "- The customers with 5 children count can be considered as outliers. The percenatge difference could be due to the insadequate number of records"
   ]
  },
  {
   "cell_type": "markdown",
   "id": "3ddc6b06",
   "metadata": {},
   "source": [
    "**Relationship between marital status and defaulting**\n",
    "\n",
    "- {civil-partnership: 9.4% ,divorced: 7.12% , married: 7.65%, unmarried: 9.82%, widow: 6.65%}\n",
    "- agg() function is used to get the total number of customers for a particular family status and the number of customers who have defaulted.\n",
    "- Although customers who are unmarried or in a civil citenship have slighlty higher % of default rate, it is not very evident that marital staus is correlated to repaying loan on time."
   ]
  },
  {
   "cell_type": "markdown",
   "id": "9390ccae",
   "metadata": {},
   "source": [
    "**Relationship between purpose and defaulting**\n",
    "\n",
    "- Customers who take loan for buying a car have higher default rate. \n",
    "- however since the rate of default is less compared to those who dont default , purpose may also not directly correlates with defaulting alone"
   ]
  },
  {
   "cell_type": "markdown",
   "id": "de727fd2",
   "metadata": {},
   "source": [
    "**Relationship between total_income and defaulting**\n",
    "\n",
    "- Again, the ratio of defaulted ones to the total is taken\n",
    "- Since there is no significant difference between the different income level customer, this correlation can be ruled out"
   ]
  },
  {
   "cell_type": "code",
   "execution_count": 37,
   "id": "4fe795c2",
   "metadata": {},
   "outputs": [
    {
     "data": {
      "text/plain": [
       "<AxesSubplot:>"
      ]
     },
     "execution_count": 37,
     "metadata": {},
     "output_type": "execute_result"
    },
    {
     "data": {
      "image/png": "[encoded data removed]",
      "text/plain": [
       "<Figure size 432x288 with 2 Axes>"
      ]
     },
     "metadata": {
      "needs_background": "light"
     },
     "output_type": "display_data"
    }
   ],
   "source": [
    "# check correlation matrix \n",
    "\n",
    "cm = cscore.corr()\n",
    "sns.heatmap(cm, annot= True)"
   ]
  },
  {
   "cell_type": "markdown",
   "id": "48b139ed",
   "metadata": {},
   "source": [
    "### General conclusion:\n",
    "\n",
    "- The data set had to preprocessed to fill in missing values, remove duplicate records and change the data types\n",
    "- some of the columns were analysed to check its direct correlation with defaulting. It seemed that none of the columns alone can prove whether or not a customer would default. \n",
    "- Combining attributes might reveal more than just considering one "
   ]
  },
  {
   "cell_type": "code",
   "execution_count": null,
   "id": "74f0858d",
   "metadata": {},
   "outputs": [],
   "source": []
  }
 ],
 "metadata": {
  "kernelspec": {
   "display_name": "Python 3",
   "language": "python",
   "name": "python3"
  },
  "language_info": {
   "codemirror_mode": {
    "name": "ipython",
    "version": 3
   },
   "file_extension": ".py",
   "mimetype": "text/x-python",
   "name": "python",
   "nbconvert_exporter": "python",
   "pygments_lexer": "ipython3",
   "version": "3.8.8"
  }
 },
 "nbformat": 4,
 "nbformat_minor": 5
}
