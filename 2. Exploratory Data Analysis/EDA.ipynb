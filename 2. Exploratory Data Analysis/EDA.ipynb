{
 "cells": [
  {
   "cell_type": "markdown",
   "id": "dcc4f40b",
   "metadata": {},
   "source": [
    "## Project Description\n",
    "\n",
    "Hundreds of free advertisements for vehicles are published on the company’s site every day. Being an analyst at Crankshaft List requires studying the data over the last few years and determine which factors influence the price of a vehicle\n",
    "\n",
    "\n",
    "**Task: Find factors that influence the price of a vehicle**\n",
    "\n",
    "\n",
    "### Description of the data\n",
    "\n",
    "The dataset contains the following fields:\n",
    "1. price\n",
    "2. model_year\n",
    "3. model\n",
    "4. condition\n",
    "5. cylinders\n",
    "6. fuel — gas, diesel, etc.\n",
    "7. odometer — the vehicle's mileage when the ad was published\n",
    "8. transmission\n",
    "9. paint_color\n",
    "10. is_4wd — whether the vehicle has 4-wheel drive (Boolean type)\n",
    "11. date_posted — the date the ad was published\n",
    "12. days_listed — from publication to removal"
   ]
  },
  {
   "cell_type": "code",
   "execution_count": 1,
   "id": "81d46bbc",
   "metadata": {},
   "outputs": [],
   "source": [
    "# importing libarraies \n",
    "import pandas as pd\n",
    "import matplotlib.pyplot as plt \n",
    "import numpy as np \n",
    "import seaborn as sns \n",
    "import random\n",
    "\n",
    "import warnings\n",
    "warnings.simplefilter(action='ignore', category=FutureWarning)\n",
    "\n",
    "plt.style.use('seaborn')"
   ]
  },
  {
   "cell_type": "code",
   "execution_count": 2,
   "id": "aa0b4adb",
   "metadata": {},
   "outputs": [],
   "source": [
    "# plt.style.available"
   ]
  },
  {
   "cell_type": "code",
   "execution_count": 3,
   "id": "de3c7617",
   "metadata": {},
   "outputs": [
    {
     "data": {
      "text/html": [
       "<div>\n",
       "<style scoped>\n",
       "    .dataframe tbody tr th:only-of-type {\n",
       "        vertical-align: middle;\n",
       "    }\n",
       "\n",
       "    .dataframe tbody tr th {\n",
       "        vertical-align: top;\n",
       "    }\n",
       "\n",
       "    .dataframe thead th {\n",
       "        text-align: right;\n",
       "    }\n",
       "</style>\n",
       "<table border=\"1\" class=\"dataframe\">\n",
       "  <thead>\n",
       "    <tr style=\"text-align: right;\">\n",
       "      <th></th>\n",
       "      <th>price</th>\n",
       "      <th>model_year</th>\n",
       "      <th>model</th>\n",
       "      <th>condition</th>\n",
       "      <th>cylinders</th>\n",
       "      <th>fuel</th>\n",
       "      <th>odometer</th>\n",
       "      <th>transmission</th>\n",
       "      <th>type</th>\n",
       "      <th>paint_color</th>\n",
       "      <th>is_4wd</th>\n",
       "      <th>date_posted</th>\n",
       "      <th>days_listed</th>\n",
       "    </tr>\n",
       "  </thead>\n",
       "  <tbody>\n",
       "    <tr>\n",
       "      <th>0</th>\n",
       "      <td>9400</td>\n",
       "      <td>2011.0</td>\n",
       "      <td>bmw x5</td>\n",
       "      <td>good</td>\n",
       "      <td>6.0</td>\n",
       "      <td>gas</td>\n",
       "      <td>145000.0</td>\n",
       "      <td>automatic</td>\n",
       "      <td>SUV</td>\n",
       "      <td>NaN</td>\n",
       "      <td>1.0</td>\n",
       "      <td>2018-06-23</td>\n",
       "      <td>19</td>\n",
       "    </tr>\n",
       "    <tr>\n",
       "      <th>1</th>\n",
       "      <td>25500</td>\n",
       "      <td>NaN</td>\n",
       "      <td>ford f-150</td>\n",
       "      <td>good</td>\n",
       "      <td>6.0</td>\n",
       "      <td>gas</td>\n",
       "      <td>88705.0</td>\n",
       "      <td>automatic</td>\n",
       "      <td>pickup</td>\n",
       "      <td>white</td>\n",
       "      <td>1.0</td>\n",
       "      <td>2018-10-19</td>\n",
       "      <td>50</td>\n",
       "    </tr>\n",
       "    <tr>\n",
       "      <th>2</th>\n",
       "      <td>5500</td>\n",
       "      <td>2013.0</td>\n",
       "      <td>hyundai sonata</td>\n",
       "      <td>like new</td>\n",
       "      <td>4.0</td>\n",
       "      <td>gas</td>\n",
       "      <td>110000.0</td>\n",
       "      <td>automatic</td>\n",
       "      <td>sedan</td>\n",
       "      <td>red</td>\n",
       "      <td>NaN</td>\n",
       "      <td>2019-02-07</td>\n",
       "      <td>79</td>\n",
       "    </tr>\n",
       "    <tr>\n",
       "      <th>3</th>\n",
       "      <td>1500</td>\n",
       "      <td>2003.0</td>\n",
       "      <td>ford f-150</td>\n",
       "      <td>fair</td>\n",
       "      <td>8.0</td>\n",
       "      <td>gas</td>\n",
       "      <td>NaN</td>\n",
       "      <td>automatic</td>\n",
       "      <td>pickup</td>\n",
       "      <td>NaN</td>\n",
       "      <td>NaN</td>\n",
       "      <td>2019-03-22</td>\n",
       "      <td>9</td>\n",
       "    </tr>\n",
       "    <tr>\n",
       "      <th>4</th>\n",
       "      <td>14900</td>\n",
       "      <td>2017.0</td>\n",
       "      <td>chrysler 200</td>\n",
       "      <td>excellent</td>\n",
       "      <td>4.0</td>\n",
       "      <td>gas</td>\n",
       "      <td>80903.0</td>\n",
       "      <td>automatic</td>\n",
       "      <td>sedan</td>\n",
       "      <td>black</td>\n",
       "      <td>NaN</td>\n",
       "      <td>2019-04-02</td>\n",
       "      <td>28</td>\n",
       "    </tr>\n",
       "  </tbody>\n",
       "</table>\n",
       "</div>"
      ],
      "text/plain": [
       "   price  model_year           model  condition  cylinders fuel  odometer  \\\n",
       "0   9400      2011.0          bmw x5       good        6.0  gas  145000.0   \n",
       "1  25500         NaN      ford f-150       good        6.0  gas   88705.0   \n",
       "2   5500      2013.0  hyundai sonata   like new        4.0  gas  110000.0   \n",
       "3   1500      2003.0      ford f-150       fair        8.0  gas       NaN   \n",
       "4  14900      2017.0    chrysler 200  excellent        4.0  gas   80903.0   \n",
       "\n",
       "  transmission    type paint_color  is_4wd date_posted  days_listed  \n",
       "0    automatic     SUV         NaN     1.0  2018-06-23           19  \n",
       "1    automatic  pickup       white     1.0  2018-10-19           50  \n",
       "2    automatic   sedan         red     NaN  2019-02-07           79  \n",
       "3    automatic  pickup         NaN     NaN  2019-03-22            9  \n",
       "4    automatic   sedan       black     NaN  2019-04-02           28  "
      ]
     },
     "execution_count": 3,
     "metadata": {},
     "output_type": "execute_result"
    }
   ],
   "source": [
    "# reading data\n",
    "\n",
    "vehicle = pd.read_csv('vehicles_us.csv', na_values = ' ')\n",
    "vehicle.head()"
   ]
  },
  {
   "cell_type": "code",
   "execution_count": 4,
   "id": "59d656bb",
   "metadata": {},
   "outputs": [
    {
     "data": {
      "text/plain": [
       "(51525, 13)"
      ]
     },
     "execution_count": 4,
     "metadata": {},
     "output_type": "execute_result"
    }
   ],
   "source": [
    "vehicle.shape"
   ]
  },
  {
   "cell_type": "code",
   "execution_count": 5,
   "id": "9f17cf0d",
   "metadata": {},
   "outputs": [
    {
     "name": "stdout",
     "output_type": "stream",
     "text": [
      "<class 'pandas.core.frame.DataFrame'>\n",
      "RangeIndex: 51525 entries, 0 to 51524\n",
      "Data columns (total 13 columns):\n",
      " #   Column        Non-Null Count  Dtype  \n",
      "---  ------        --------------  -----  \n",
      " 0   price         51525 non-null  int64  \n",
      " 1   model_year    47906 non-null  float64\n",
      " 2   model         51525 non-null  object \n",
      " 3   condition     51525 non-null  object \n",
      " 4   cylinders     46265 non-null  float64\n",
      " 5   fuel          51525 non-null  object \n",
      " 6   odometer      43633 non-null  float64\n",
      " 7   transmission  51525 non-null  object \n",
      " 8   type          51525 non-null  object \n",
      " 9   paint_color   42258 non-null  object \n",
      " 10  is_4wd        25572 non-null  float64\n",
      " 11  date_posted   51525 non-null  object \n",
      " 12  days_listed   51525 non-null  int64  \n",
      "dtypes: float64(4), int64(2), object(7)\n",
      "memory usage: 5.1+ MB\n"
     ]
    }
   ],
   "source": [
    "#General Information\n",
    "\n",
    "vehicle.info()"
   ]
  },
  {
   "cell_type": "code",
   "execution_count": 6,
   "id": "f7140b5e",
   "metadata": {},
   "outputs": [
    {
     "data": {
      "text/html": [
       "<div>\n",
       "<style scoped>\n",
       "    .dataframe tbody tr th:only-of-type {\n",
       "        vertical-align: middle;\n",
       "    }\n",
       "\n",
       "    .dataframe tbody tr th {\n",
       "        vertical-align: top;\n",
       "    }\n",
       "\n",
       "    .dataframe thead th {\n",
       "        text-align: right;\n",
       "    }\n",
       "</style>\n",
       "<table border=\"1\" class=\"dataframe\">\n",
       "  <thead>\n",
       "    <tr style=\"text-align: right;\">\n",
       "      <th></th>\n",
       "      <th>price</th>\n",
       "      <th>model_year</th>\n",
       "      <th>model</th>\n",
       "      <th>condition</th>\n",
       "      <th>cylinders</th>\n",
       "      <th>fuel</th>\n",
       "      <th>odometer</th>\n",
       "      <th>transmission</th>\n",
       "      <th>type</th>\n",
       "      <th>paint_color</th>\n",
       "      <th>is_4wd</th>\n",
       "      <th>date_posted</th>\n",
       "      <th>days_listed</th>\n",
       "    </tr>\n",
       "  </thead>\n",
       "  <tbody>\n",
       "    <tr>\n",
       "      <th>count</th>\n",
       "      <td>51525.000000</td>\n",
       "      <td>47906.000000</td>\n",
       "      <td>51525</td>\n",
       "      <td>51525</td>\n",
       "      <td>46265.000000</td>\n",
       "      <td>51525</td>\n",
       "      <td>43633.000000</td>\n",
       "      <td>51525</td>\n",
       "      <td>51525</td>\n",
       "      <td>42258</td>\n",
       "      <td>25572.0</td>\n",
       "      <td>51525</td>\n",
       "      <td>51525.00000</td>\n",
       "    </tr>\n",
       "    <tr>\n",
       "      <th>unique</th>\n",
       "      <td>NaN</td>\n",
       "      <td>NaN</td>\n",
       "      <td>100</td>\n",
       "      <td>6</td>\n",
       "      <td>NaN</td>\n",
       "      <td>5</td>\n",
       "      <td>NaN</td>\n",
       "      <td>3</td>\n",
       "      <td>13</td>\n",
       "      <td>12</td>\n",
       "      <td>NaN</td>\n",
       "      <td>354</td>\n",
       "      <td>NaN</td>\n",
       "    </tr>\n",
       "    <tr>\n",
       "      <th>top</th>\n",
       "      <td>NaN</td>\n",
       "      <td>NaN</td>\n",
       "      <td>ford f-150</td>\n",
       "      <td>excellent</td>\n",
       "      <td>NaN</td>\n",
       "      <td>gas</td>\n",
       "      <td>NaN</td>\n",
       "      <td>automatic</td>\n",
       "      <td>SUV</td>\n",
       "      <td>white</td>\n",
       "      <td>NaN</td>\n",
       "      <td>2019-03-17</td>\n",
       "      <td>NaN</td>\n",
       "    </tr>\n",
       "    <tr>\n",
       "      <th>freq</th>\n",
       "      <td>NaN</td>\n",
       "      <td>NaN</td>\n",
       "      <td>2796</td>\n",
       "      <td>24773</td>\n",
       "      <td>NaN</td>\n",
       "      <td>47288</td>\n",
       "      <td>NaN</td>\n",
       "      <td>46902</td>\n",
       "      <td>12405</td>\n",
       "      <td>10029</td>\n",
       "      <td>NaN</td>\n",
       "      <td>186</td>\n",
       "      <td>NaN</td>\n",
       "    </tr>\n",
       "    <tr>\n",
       "      <th>mean</th>\n",
       "      <td>12132.464920</td>\n",
       "      <td>2009.750470</td>\n",
       "      <td>NaN</td>\n",
       "      <td>NaN</td>\n",
       "      <td>6.125235</td>\n",
       "      <td>NaN</td>\n",
       "      <td>115553.461738</td>\n",
       "      <td>NaN</td>\n",
       "      <td>NaN</td>\n",
       "      <td>NaN</td>\n",
       "      <td>1.0</td>\n",
       "      <td>NaN</td>\n",
       "      <td>39.55476</td>\n",
       "    </tr>\n",
       "    <tr>\n",
       "      <th>std</th>\n",
       "      <td>10040.803015</td>\n",
       "      <td>6.282065</td>\n",
       "      <td>NaN</td>\n",
       "      <td>NaN</td>\n",
       "      <td>1.660360</td>\n",
       "      <td>NaN</td>\n",
       "      <td>65094.611341</td>\n",
       "      <td>NaN</td>\n",
       "      <td>NaN</td>\n",
       "      <td>NaN</td>\n",
       "      <td>0.0</td>\n",
       "      <td>NaN</td>\n",
       "      <td>28.20427</td>\n",
       "    </tr>\n",
       "    <tr>\n",
       "      <th>min</th>\n",
       "      <td>1.000000</td>\n",
       "      <td>1908.000000</td>\n",
       "      <td>NaN</td>\n",
       "      <td>NaN</td>\n",
       "      <td>3.000000</td>\n",
       "      <td>NaN</td>\n",
       "      <td>0.000000</td>\n",
       "      <td>NaN</td>\n",
       "      <td>NaN</td>\n",
       "      <td>NaN</td>\n",
       "      <td>1.0</td>\n",
       "      <td>NaN</td>\n",
       "      <td>0.00000</td>\n",
       "    </tr>\n",
       "    <tr>\n",
       "      <th>25%</th>\n",
       "      <td>5000.000000</td>\n",
       "      <td>2006.000000</td>\n",
       "      <td>NaN</td>\n",
       "      <td>NaN</td>\n",
       "      <td>4.000000</td>\n",
       "      <td>NaN</td>\n",
       "      <td>70000.000000</td>\n",
       "      <td>NaN</td>\n",
       "      <td>NaN</td>\n",
       "      <td>NaN</td>\n",
       "      <td>1.0</td>\n",
       "      <td>NaN</td>\n",
       "      <td>19.00000</td>\n",
       "    </tr>\n",
       "    <tr>\n",
       "      <th>50%</th>\n",
       "      <td>9000.000000</td>\n",
       "      <td>2011.000000</td>\n",
       "      <td>NaN</td>\n",
       "      <td>NaN</td>\n",
       "      <td>6.000000</td>\n",
       "      <td>NaN</td>\n",
       "      <td>113000.000000</td>\n",
       "      <td>NaN</td>\n",
       "      <td>NaN</td>\n",
       "      <td>NaN</td>\n",
       "      <td>1.0</td>\n",
       "      <td>NaN</td>\n",
       "      <td>33.00000</td>\n",
       "    </tr>\n",
       "    <tr>\n",
       "      <th>75%</th>\n",
       "      <td>16839.000000</td>\n",
       "      <td>2014.000000</td>\n",
       "      <td>NaN</td>\n",
       "      <td>NaN</td>\n",
       "      <td>8.000000</td>\n",
       "      <td>NaN</td>\n",
       "      <td>155000.000000</td>\n",
       "      <td>NaN</td>\n",
       "      <td>NaN</td>\n",
       "      <td>NaN</td>\n",
       "      <td>1.0</td>\n",
       "      <td>NaN</td>\n",
       "      <td>53.00000</td>\n",
       "    </tr>\n",
       "    <tr>\n",
       "      <th>max</th>\n",
       "      <td>375000.000000</td>\n",
       "      <td>2019.000000</td>\n",
       "      <td>NaN</td>\n",
       "      <td>NaN</td>\n",
       "      <td>12.000000</td>\n",
       "      <td>NaN</td>\n",
       "      <td>990000.000000</td>\n",
       "      <td>NaN</td>\n",
       "      <td>NaN</td>\n",
       "      <td>NaN</td>\n",
       "      <td>1.0</td>\n",
       "      <td>NaN</td>\n",
       "      <td>271.00000</td>\n",
       "    </tr>\n",
       "  </tbody>\n",
       "</table>\n",
       "</div>"
      ],
      "text/plain": [
       "                price    model_year       model  condition     cylinders  \\\n",
       "count    51525.000000  47906.000000       51525      51525  46265.000000   \n",
       "unique            NaN           NaN         100          6           NaN   \n",
       "top               NaN           NaN  ford f-150  excellent           NaN   \n",
       "freq              NaN           NaN        2796      24773           NaN   \n",
       "mean     12132.464920   2009.750470         NaN        NaN      6.125235   \n",
       "std      10040.803015      6.282065         NaN        NaN      1.660360   \n",
       "min          1.000000   1908.000000         NaN        NaN      3.000000   \n",
       "25%       5000.000000   2006.000000         NaN        NaN      4.000000   \n",
       "50%       9000.000000   2011.000000         NaN        NaN      6.000000   \n",
       "75%      16839.000000   2014.000000         NaN        NaN      8.000000   \n",
       "max     375000.000000   2019.000000         NaN        NaN     12.000000   \n",
       "\n",
       "         fuel       odometer transmission   type paint_color   is_4wd  \\\n",
       "count   51525   43633.000000        51525  51525       42258  25572.0   \n",
       "unique      5            NaN            3     13          12      NaN   \n",
       "top       gas            NaN    automatic    SUV       white      NaN   \n",
       "freq    47288            NaN        46902  12405       10029      NaN   \n",
       "mean      NaN  115553.461738          NaN    NaN         NaN      1.0   \n",
       "std       NaN   65094.611341          NaN    NaN         NaN      0.0   \n",
       "min       NaN       0.000000          NaN    NaN         NaN      1.0   \n",
       "25%       NaN   70000.000000          NaN    NaN         NaN      1.0   \n",
       "50%       NaN  113000.000000          NaN    NaN         NaN      1.0   \n",
       "75%       NaN  155000.000000          NaN    NaN         NaN      1.0   \n",
       "max       NaN  990000.000000          NaN    NaN         NaN      1.0   \n",
       "\n",
       "       date_posted  days_listed  \n",
       "count        51525  51525.00000  \n",
       "unique         354          NaN  \n",
       "top     2019-03-17          NaN  \n",
       "freq           186          NaN  \n",
       "mean           NaN     39.55476  \n",
       "std            NaN     28.20427  \n",
       "min            NaN      0.00000  \n",
       "25%            NaN     19.00000  \n",
       "50%            NaN     33.00000  \n",
       "75%            NaN     53.00000  \n",
       "max            NaN    271.00000  "
      ]
     },
     "execution_count": 6,
     "metadata": {},
     "output_type": "execute_result"
    }
   ],
   "source": [
    "#Descritive statistics \n",
    "\n",
    "vehicle.describe(include = 'all')"
   ]
  },
  {
   "cell_type": "markdown",
   "id": "d201cb0a",
   "metadata": {},
   "source": [
    "### Data preprocessing "
   ]
  },
  {
   "cell_type": "code",
   "execution_count": 7,
   "id": "39841688",
   "metadata": {},
   "outputs": [
    {
     "data": {
      "text/plain": [
       "price               0\n",
       "model_year       3619\n",
       "model               0\n",
       "condition           0\n",
       "cylinders        5260\n",
       "fuel                0\n",
       "odometer         7892\n",
       "transmission        0\n",
       "type                0\n",
       "paint_color      9267\n",
       "is_4wd          25953\n",
       "date_posted         0\n",
       "days_listed         0\n",
       "dtype: int64"
      ]
     },
     "execution_count": 7,
     "metadata": {},
     "output_type": "execute_result"
    }
   ],
   "source": [
    "#checking missing values \n",
    "\n",
    "vehicle.isnull().sum()"
   ]
  },
  {
   "cell_type": "code",
   "execution_count": 8,
   "id": "35c1f00d",
   "metadata": {},
   "outputs": [],
   "source": [
    "# dropping is_4wd col\n",
    "\n",
    "vehicle.drop('is_4wd', axis = 1, inplace = True)\n"
   ]
  },
  {
   "cell_type": "markdown",
   "id": "fdaab8f7",
   "metadata": {},
   "source": [
    "> - is_4wd column is dropped as it has about 50% of missign values. "
   ]
  },
  {
   "cell_type": "code",
   "execution_count": 9,
   "id": "6096b66b",
   "metadata": {},
   "outputs": [],
   "source": [
    "# replacing missing values in model_year with 0\n",
    "\n",
    "vehicle.model_year.fillna(0,inplace = True)\n"
   ]
  },
  {
   "cell_type": "code",
   "execution_count": 10,
   "id": "c2a81d4e",
   "metadata": {},
   "outputs": [
    {
     "data": {
      "text/plain": [
       "8.0     15844\n",
       "6.0     15700\n",
       "4.0     13864\n",
       "10.0      549\n",
       "5.0       272\n",
       "3.0        34\n",
       "12.0        2\n",
       "Name: cylinders, dtype: int64"
      ]
     },
     "execution_count": 10,
     "metadata": {},
     "output_type": "execute_result"
    }
   ],
   "source": [
    "#Replacing missing values in cylinders\n",
    "\n",
    "vehicle.cylinders.value_counts()"
   ]
  },
  {
   "cell_type": "markdown",
   "id": "02fc67d4",
   "metadata": {},
   "source": [
    "> - since taking the mode might skew the results, missing values can be inferred from column model transmission and type. Missing values in this case is missing at random "
   ]
  },
  {
   "cell_type": "code",
   "execution_count": 11,
   "id": "f0de2200",
   "metadata": {},
   "outputs": [],
   "source": [
    "vehicle['cyl'] = vehicle.groupby(['model','fuel','transmission','type']).cylinders.transform('median')\n",
    "\n",
    "mask = vehicle[vehicle.cylinders.isnull()].index.to_list()\n",
    "\n",
    "vehicle.loc[mask,'cylinders'] = vehicle.cyl"
   ]
  },
  {
   "cell_type": "code",
   "execution_count": 12,
   "id": "22df728b",
   "metadata": {},
   "outputs": [
    {
     "data": {
      "text/html": [
       "<div>\n",
       "<style scoped>\n",
       "    .dataframe tbody tr th:only-of-type {\n",
       "        vertical-align: middle;\n",
       "    }\n",
       "\n",
       "    .dataframe tbody tr th {\n",
       "        vertical-align: top;\n",
       "    }\n",
       "\n",
       "    .dataframe thead th {\n",
       "        text-align: right;\n",
       "    }\n",
       "</style>\n",
       "<table border=\"1\" class=\"dataframe\">\n",
       "  <thead>\n",
       "    <tr style=\"text-align: right;\">\n",
       "      <th></th>\n",
       "      <th>price</th>\n",
       "      <th>model_year</th>\n",
       "      <th>model</th>\n",
       "      <th>condition</th>\n",
       "      <th>cylinders</th>\n",
       "      <th>fuel</th>\n",
       "      <th>odometer</th>\n",
       "      <th>transmission</th>\n",
       "      <th>type</th>\n",
       "      <th>paint_color</th>\n",
       "      <th>date_posted</th>\n",
       "      <th>days_listed</th>\n",
       "      <th>cyl</th>\n",
       "    </tr>\n",
       "  </thead>\n",
       "  <tbody>\n",
       "    <tr>\n",
       "      <th>2321</th>\n",
       "      <td>1700</td>\n",
       "      <td>1991.0</td>\n",
       "      <td>toyota corolla</td>\n",
       "      <td>good</td>\n",
       "      <td>NaN</td>\n",
       "      <td>gas</td>\n",
       "      <td>209000.0</td>\n",
       "      <td>manual</td>\n",
       "      <td>hatchback</td>\n",
       "      <td>NaN</td>\n",
       "      <td>2019-03-03</td>\n",
       "      <td>14</td>\n",
       "      <td>NaN</td>\n",
       "    </tr>\n",
       "    <tr>\n",
       "      <th>2432</th>\n",
       "      <td>7900</td>\n",
       "      <td>2011.0</td>\n",
       "      <td>toyota prius</td>\n",
       "      <td>good</td>\n",
       "      <td>NaN</td>\n",
       "      <td>electric</td>\n",
       "      <td>78466.0</td>\n",
       "      <td>automatic</td>\n",
       "      <td>sedan</td>\n",
       "      <td>NaN</td>\n",
       "      <td>2018-09-13</td>\n",
       "      <td>34</td>\n",
       "      <td>NaN</td>\n",
       "    </tr>\n",
       "    <tr>\n",
       "      <th>6892</th>\n",
       "      <td>21000</td>\n",
       "      <td>2015.0</td>\n",
       "      <td>jeep grand cherokee</td>\n",
       "      <td>like new</td>\n",
       "      <td>NaN</td>\n",
       "      <td>gas</td>\n",
       "      <td>75000.0</td>\n",
       "      <td>automatic</td>\n",
       "      <td>hatchback</td>\n",
       "      <td>grey</td>\n",
       "      <td>2018-10-05</td>\n",
       "      <td>12</td>\n",
       "      <td>NaN</td>\n",
       "    </tr>\n",
       "    <tr>\n",
       "      <th>7933</th>\n",
       "      <td>1850</td>\n",
       "      <td>1991.0</td>\n",
       "      <td>jeep wrangler</td>\n",
       "      <td>good</td>\n",
       "      <td>NaN</td>\n",
       "      <td>gas</td>\n",
       "      <td>137000.0</td>\n",
       "      <td>other</td>\n",
       "      <td>offroad</td>\n",
       "      <td>red</td>\n",
       "      <td>2019-02-25</td>\n",
       "      <td>22</td>\n",
       "      <td>NaN</td>\n",
       "    </tr>\n",
       "    <tr>\n",
       "      <th>8874</th>\n",
       "      <td>5500</td>\n",
       "      <td>2012.0</td>\n",
       "      <td>nissan altima</td>\n",
       "      <td>excellent</td>\n",
       "      <td>NaN</td>\n",
       "      <td>diesel</td>\n",
       "      <td>127000.0</td>\n",
       "      <td>automatic</td>\n",
       "      <td>coupe</td>\n",
       "      <td>white</td>\n",
       "      <td>2018-07-19</td>\n",
       "      <td>53</td>\n",
       "      <td>NaN</td>\n",
       "    </tr>\n",
       "  </tbody>\n",
       "</table>\n",
       "</div>"
      ],
      "text/plain": [
       "      price  model_year                model  condition  cylinders      fuel  \\\n",
       "2321   1700      1991.0       toyota corolla       good        NaN       gas   \n",
       "2432   7900      2011.0         toyota prius       good        NaN  electric   \n",
       "6892  21000      2015.0  jeep grand cherokee   like new        NaN       gas   \n",
       "7933   1850      1991.0        jeep wrangler       good        NaN       gas   \n",
       "8874   5500      2012.0        nissan altima  excellent        NaN    diesel   \n",
       "\n",
       "      odometer transmission       type paint_color date_posted  days_listed  \\\n",
       "2321  209000.0       manual  hatchback         NaN  2019-03-03           14   \n",
       "2432   78466.0    automatic      sedan         NaN  2018-09-13           34   \n",
       "6892   75000.0    automatic  hatchback        grey  2018-10-05           12   \n",
       "7933  137000.0        other    offroad         red  2019-02-25           22   \n",
       "8874  127000.0    automatic      coupe       white  2018-07-19           53   \n",
       "\n",
       "      cyl  \n",
       "2321  NaN  \n",
       "2432  NaN  \n",
       "6892  NaN  \n",
       "7933  NaN  \n",
       "8874  NaN  "
      ]
     },
     "execution_count": 12,
     "metadata": {},
     "output_type": "execute_result"
    }
   ],
   "source": [
    "vehicle[vehicle.cylinders.isnull()].head()"
   ]
  },
  {
   "cell_type": "markdown",
   "id": "9cb6876a",
   "metadata": {},
   "source": [
    "> - For some model, no information about the cylinder is present to replace with median. So these values can be replaced with 0 "
   ]
  },
  {
   "cell_type": "code",
   "execution_count": 13,
   "id": "80689dd4",
   "metadata": {},
   "outputs": [],
   "source": [
    "vehicle.cylinders.fillna(0,inplace = True)"
   ]
  },
  {
   "cell_type": "code",
   "execution_count": 14,
   "id": "c445b937",
   "metadata": {},
   "outputs": [
    {
     "data": {
      "image/png": "[encoded data removed]",
      "text/plain": [
       "<Figure size 576x396 with 1 Axes>"
      ]
     },
     "metadata": {},
     "output_type": "display_data"
    }
   ],
   "source": [
    "#Replacing missing values in odometer\n",
    "\n",
    "#check distribution \n",
    "sns.distplot(vehicle.odometer, bins='fd')\n",
    "plt.axvline(vehicle.odometer.mean(), color='black', linestyle='dashed', linewidth=1)\n",
    "plt.axvline(vehicle.odometer.median(), color='purple', linestyle='dashed', linewidth=1)\n",
    "plt.title('Odometer Distribution', fontsize=16)\n",
    "plt.show()"
   ]
  },
  {
   "cell_type": "markdown",
   "id": "c912f5c0",
   "metadata": {},
   "source": [
    "> - Since the distribution is normal, the missing values can be replaced with the mean value. However, since there are too many missing values, filling every missing value with mean might skew the result\n",
    "> - So the missing values is replaced with 0"
   ]
  },
  {
   "cell_type": "code",
   "execution_count": 15,
   "id": "1660364e",
   "metadata": {},
   "outputs": [],
   "source": [
    "# Reaplace missing values in odometer\n",
    "\n",
    "vehicle.odometer.fillna(0, inplace = True)"
   ]
  },
  {
   "cell_type": "code",
   "execution_count": 16,
   "id": "64572f68",
   "metadata": {},
   "outputs": [
    {
     "data": {
      "text/plain": [
       "white     10029\n",
       "black      7692\n",
       "silver     6244\n",
       "grey       5037\n",
       "blue       4475\n",
       "red        4421\n",
       "green      1396\n",
       "brown      1223\n",
       "custom     1153\n",
       "yellow      255\n",
       "orange      231\n",
       "purple      102\n",
       "Name: paint_color, dtype: int64"
      ]
     },
     "execution_count": 16,
     "metadata": {},
     "output_type": "execute_result"
    }
   ],
   "source": [
    "#missing values in paint \n",
    "\n",
    "vehicle.paint_color.value_counts()"
   ]
  },
  {
   "cell_type": "markdown",
   "id": "7b5ff21d",
   "metadata": {},
   "source": [
    "> - Some of the models have missing values in paint_color. The missing values in this column can be replaced with 'UNKNOWN' instead of imputation"
   ]
  },
  {
   "cell_type": "code",
   "execution_count": 17,
   "id": "c4242c08",
   "metadata": {},
   "outputs": [],
   "source": [
    "vehicle.paint_color.fillna('unknown', inplace = True)"
   ]
  },
  {
   "cell_type": "code",
   "execution_count": 18,
   "id": "c71eb6d3",
   "metadata": {},
   "outputs": [],
   "source": [
    "# cars and their respective colors \n",
    "\n",
    "# paint = vehicle[~vehicle.paint_color.isnull()].groupby('model').paint_color.unique().to_frame().reset_index()\n",
    "\n",
    "# paint.head()"
   ]
  },
  {
   "cell_type": "code",
   "execution_count": 19,
   "id": "2fb2892e",
   "metadata": {},
   "outputs": [],
   "source": [
    "# random.choice(list(paint[paint.model == 'bmw x5'].paint_color[1]))"
   ]
  },
  {
   "cell_type": "code",
   "execution_count": 20,
   "id": "69ee89ab",
   "metadata": {},
   "outputs": [],
   "source": [
    "# model_paint = {}\n",
    "# models = list(vehicle[vehicle.paint_color.isnull()].model.unique())#.to_list()\n",
    "\n",
    "# for mod in models:\n",
    "#     color = random.choice(list(paint[paint.model == mod].paint_color[1]))"
   ]
  },
  {
   "cell_type": "code",
   "execution_count": 21,
   "id": "6e285ba9",
   "metadata": {},
   "outputs": [
    {
     "data": {
      "text/plain": [
       "price            0\n",
       "model_year       0\n",
       "model            0\n",
       "condition        0\n",
       "cylinders        0\n",
       "fuel             0\n",
       "odometer         0\n",
       "transmission     0\n",
       "type             0\n",
       "paint_color      0\n",
       "date_posted      0\n",
       "days_listed      0\n",
       "cyl             35\n",
       "dtype: int64"
      ]
     },
     "execution_count": 21,
     "metadata": {},
     "output_type": "execute_result"
    }
   ],
   "source": [
    "vehicle.isnull().sum()"
   ]
  },
  {
   "cell_type": "code",
   "execution_count": 22,
   "id": "9324e427",
   "metadata": {},
   "outputs": [],
   "source": [
    "#changing datatypes\n",
    "\n",
    "vehicle.model_year = vehicle.model_year.astype('int')\n",
    "\n",
    "vehicle.cylinders = vehicle.cylinders.astype('int')\n",
    "\n",
    "vehicle.date_posted = pd.to_datetime(vehicle.date_posted)"
   ]
  },
  {
   "cell_type": "markdown",
   "id": "3625588a",
   "metadata": {},
   "source": [
    "> - Some columns datatypes can be changed from float to int to save memory, and the date_posted column's data type must be datetime "
   ]
  },
  {
   "cell_type": "code",
   "execution_count": 23,
   "id": "30ad237e",
   "metadata": {},
   "outputs": [],
   "source": [
    "# removing unwanted columns\n",
    "\n",
    "vehicle.drop('cyl', axis=1, inplace = True)"
   ]
  },
  {
   "cell_type": "markdown",
   "id": "5636c7ab",
   "metadata": {},
   "source": [
    "### Feature Engineering"
   ]
  },
  {
   "cell_type": "code",
   "execution_count": 24,
   "id": "902330f7",
   "metadata": {},
   "outputs": [
    {
     "data": {
      "text/html": [
       "<div>\n",
       "<style scoped>\n",
       "    .dataframe tbody tr th:only-of-type {\n",
       "        vertical-align: middle;\n",
       "    }\n",
       "\n",
       "    .dataframe tbody tr th {\n",
       "        vertical-align: top;\n",
       "    }\n",
       "\n",
       "    .dataframe thead th {\n",
       "        text-align: right;\n",
       "    }\n",
       "</style>\n",
       "<table border=\"1\" class=\"dataframe\">\n",
       "  <thead>\n",
       "    <tr style=\"text-align: right;\">\n",
       "      <th></th>\n",
       "      <th>price</th>\n",
       "      <th>model_year</th>\n",
       "      <th>model</th>\n",
       "      <th>condition</th>\n",
       "      <th>cylinders</th>\n",
       "      <th>fuel</th>\n",
       "      <th>odometer</th>\n",
       "      <th>transmission</th>\n",
       "      <th>type</th>\n",
       "      <th>paint_color</th>\n",
       "      <th>date_posted</th>\n",
       "      <th>days_listed</th>\n",
       "      <th>month</th>\n",
       "      <th>week</th>\n",
       "      <th>year</th>\n",
       "    </tr>\n",
       "  </thead>\n",
       "  <tbody>\n",
       "    <tr>\n",
       "      <th>0</th>\n",
       "      <td>9400</td>\n",
       "      <td>2011</td>\n",
       "      <td>bmw x5</td>\n",
       "      <td>good</td>\n",
       "      <td>6</td>\n",
       "      <td>gas</td>\n",
       "      <td>145000.0</td>\n",
       "      <td>automatic</td>\n",
       "      <td>SUV</td>\n",
       "      <td>unknown</td>\n",
       "      <td>2018-06-23</td>\n",
       "      <td>19</td>\n",
       "      <td>6</td>\n",
       "      <td>25</td>\n",
       "      <td>2018</td>\n",
       "    </tr>\n",
       "    <tr>\n",
       "      <th>1</th>\n",
       "      <td>25500</td>\n",
       "      <td>0</td>\n",
       "      <td>ford f-150</td>\n",
       "      <td>good</td>\n",
       "      <td>6</td>\n",
       "      <td>gas</td>\n",
       "      <td>88705.0</td>\n",
       "      <td>automatic</td>\n",
       "      <td>pickup</td>\n",
       "      <td>white</td>\n",
       "      <td>2018-10-19</td>\n",
       "      <td>50</td>\n",
       "      <td>10</td>\n",
       "      <td>42</td>\n",
       "      <td>2018</td>\n",
       "    </tr>\n",
       "    <tr>\n",
       "      <th>2</th>\n",
       "      <td>5500</td>\n",
       "      <td>2013</td>\n",
       "      <td>hyundai sonata</td>\n",
       "      <td>like new</td>\n",
       "      <td>4</td>\n",
       "      <td>gas</td>\n",
       "      <td>110000.0</td>\n",
       "      <td>automatic</td>\n",
       "      <td>sedan</td>\n",
       "      <td>red</td>\n",
       "      <td>2019-02-07</td>\n",
       "      <td>79</td>\n",
       "      <td>2</td>\n",
       "      <td>6</td>\n",
       "      <td>2019</td>\n",
       "    </tr>\n",
       "  </tbody>\n",
       "</table>\n",
       "</div>"
      ],
      "text/plain": [
       "   price  model_year           model condition  cylinders fuel  odometer  \\\n",
       "0   9400        2011          bmw x5      good          6  gas  145000.0   \n",
       "1  25500           0      ford f-150      good          6  gas   88705.0   \n",
       "2   5500        2013  hyundai sonata  like new          4  gas  110000.0   \n",
       "\n",
       "  transmission    type paint_color date_posted  days_listed  month  week  year  \n",
       "0    automatic     SUV     unknown  2018-06-23           19      6    25  2018  \n",
       "1    automatic  pickup       white  2018-10-19           50     10    42  2018  \n",
       "2    automatic   sedan         red  2019-02-07           79      2     6  2019  "
      ]
     },
     "execution_count": 24,
     "metadata": {},
     "output_type": "execute_result"
    }
   ],
   "source": [
    "# adding week, month and year the ad was placed\n",
    "\n",
    "vehicle['month'] = vehicle.date_posted.dt.month\n",
    "\n",
    "vehicle['week'] = vehicle.date_posted.dt.isocalendar().week\n",
    "\n",
    "vehicle['year'] = vehicle.date_posted.dt.year\n",
    "\n",
    "vehicle.head(3)"
   ]
  },
  {
   "cell_type": "markdown",
   "id": "2ba50648",
   "metadata": {},
   "source": [
    "> - Extracting month, week and year from the date_posted column for further analysis"
   ]
  },
  {
   "cell_type": "code",
   "execution_count": 25,
   "id": "cd2b1aaa",
   "metadata": {},
   "outputs": [
    {
     "data": {
      "text/html": [
       "<div>\n",
       "<style scoped>\n",
       "    .dataframe tbody tr th:only-of-type {\n",
       "        vertical-align: middle;\n",
       "    }\n",
       "\n",
       "    .dataframe tbody tr th {\n",
       "        vertical-align: top;\n",
       "    }\n",
       "\n",
       "    .dataframe thead th {\n",
       "        text-align: right;\n",
       "    }\n",
       "</style>\n",
       "<table border=\"1\" class=\"dataframe\">\n",
       "  <thead>\n",
       "    <tr style=\"text-align: right;\">\n",
       "      <th></th>\n",
       "      <th>price</th>\n",
       "      <th>model_year</th>\n",
       "      <th>model</th>\n",
       "      <th>condition</th>\n",
       "      <th>cylinders</th>\n",
       "      <th>fuel</th>\n",
       "      <th>odometer</th>\n",
       "      <th>transmission</th>\n",
       "      <th>type</th>\n",
       "      <th>paint_color</th>\n",
       "      <th>date_posted</th>\n",
       "      <th>days_listed</th>\n",
       "      <th>month</th>\n",
       "      <th>week</th>\n",
       "      <th>year</th>\n",
       "      <th>age</th>\n",
       "    </tr>\n",
       "  </thead>\n",
       "  <tbody>\n",
       "    <tr>\n",
       "      <th>0</th>\n",
       "      <td>9400</td>\n",
       "      <td>2011</td>\n",
       "      <td>bmw x5</td>\n",
       "      <td>good</td>\n",
       "      <td>6</td>\n",
       "      <td>gas</td>\n",
       "      <td>145000.0</td>\n",
       "      <td>automatic</td>\n",
       "      <td>SUV</td>\n",
       "      <td>unknown</td>\n",
       "      <td>2018-06-23</td>\n",
       "      <td>19</td>\n",
       "      <td>6</td>\n",
       "      <td>25</td>\n",
       "      <td>2018</td>\n",
       "      <td>7.0</td>\n",
       "    </tr>\n",
       "    <tr>\n",
       "      <th>1</th>\n",
       "      <td>25500</td>\n",
       "      <td>0</td>\n",
       "      <td>ford f-150</td>\n",
       "      <td>good</td>\n",
       "      <td>6</td>\n",
       "      <td>gas</td>\n",
       "      <td>88705.0</td>\n",
       "      <td>automatic</td>\n",
       "      <td>pickup</td>\n",
       "      <td>white</td>\n",
       "      <td>2018-10-19</td>\n",
       "      <td>50</td>\n",
       "      <td>10</td>\n",
       "      <td>42</td>\n",
       "      <td>2018</td>\n",
       "      <td>0.0</td>\n",
       "    </tr>\n",
       "    <tr>\n",
       "      <th>2</th>\n",
       "      <td>5500</td>\n",
       "      <td>2013</td>\n",
       "      <td>hyundai sonata</td>\n",
       "      <td>like new</td>\n",
       "      <td>4</td>\n",
       "      <td>gas</td>\n",
       "      <td>110000.0</td>\n",
       "      <td>automatic</td>\n",
       "      <td>sedan</td>\n",
       "      <td>red</td>\n",
       "      <td>2019-02-07</td>\n",
       "      <td>79</td>\n",
       "      <td>2</td>\n",
       "      <td>6</td>\n",
       "      <td>2019</td>\n",
       "      <td>6.0</td>\n",
       "    </tr>\n",
       "    <tr>\n",
       "      <th>3</th>\n",
       "      <td>1500</td>\n",
       "      <td>2003</td>\n",
       "      <td>ford f-150</td>\n",
       "      <td>fair</td>\n",
       "      <td>8</td>\n",
       "      <td>gas</td>\n",
       "      <td>0.0</td>\n",
       "      <td>automatic</td>\n",
       "      <td>pickup</td>\n",
       "      <td>unknown</td>\n",
       "      <td>2019-03-22</td>\n",
       "      <td>9</td>\n",
       "      <td>3</td>\n",
       "      <td>12</td>\n",
       "      <td>2019</td>\n",
       "      <td>16.0</td>\n",
       "    </tr>\n",
       "    <tr>\n",
       "      <th>4</th>\n",
       "      <td>14900</td>\n",
       "      <td>2017</td>\n",
       "      <td>chrysler 200</td>\n",
       "      <td>excellent</td>\n",
       "      <td>4</td>\n",
       "      <td>gas</td>\n",
       "      <td>80903.0</td>\n",
       "      <td>automatic</td>\n",
       "      <td>sedan</td>\n",
       "      <td>black</td>\n",
       "      <td>2019-04-02</td>\n",
       "      <td>28</td>\n",
       "      <td>4</td>\n",
       "      <td>14</td>\n",
       "      <td>2019</td>\n",
       "      <td>2.0</td>\n",
       "    </tr>\n",
       "  </tbody>\n",
       "</table>\n",
       "</div>"
      ],
      "text/plain": [
       "   price  model_year           model  condition  cylinders fuel  odometer  \\\n",
       "0   9400        2011          bmw x5       good          6  gas  145000.0   \n",
       "1  25500           0      ford f-150       good          6  gas   88705.0   \n",
       "2   5500        2013  hyundai sonata   like new          4  gas  110000.0   \n",
       "3   1500        2003      ford f-150       fair          8  gas       0.0   \n",
       "4  14900        2017    chrysler 200  excellent          4  gas   80903.0   \n",
       "\n",
       "  transmission    type paint_color date_posted  days_listed  month  week  \\\n",
       "0    automatic     SUV     unknown  2018-06-23           19      6    25   \n",
       "1    automatic  pickup       white  2018-10-19           50     10    42   \n",
       "2    automatic   sedan         red  2019-02-07           79      2     6   \n",
       "3    automatic  pickup     unknown  2019-03-22            9      3    12   \n",
       "4    automatic   sedan       black  2019-04-02           28      4    14   \n",
       "\n",
       "   year   age  \n",
       "0  2018   7.0  \n",
       "1  2018   0.0  \n",
       "2  2019   6.0  \n",
       "3  2019  16.0  \n",
       "4  2019   2.0  "
      ]
     },
     "execution_count": 25,
     "metadata": {},
     "output_type": "execute_result"
    }
   ],
   "source": [
    "# Adding vehicle age column \n",
    "\n",
    "vehicle['age'] = vehicle.loc[vehicle.model_year != 0, 'year'] - vehicle.loc[~vehicle.model_year != 0, 'model_year']\n",
    "vehicle.age.fillna(0, inplace = True)\n",
    "vehicle.head()"
   ]
  },
  {
   "cell_type": "markdown",
   "id": "4bcb51e7",
   "metadata": {},
   "source": [
    "> - Calculating the age of the vehicle using its model year and the year posted"
   ]
  },
  {
   "cell_type": "code",
   "execution_count": 26,
   "id": "2da01f94",
   "metadata": {},
   "outputs": [],
   "source": [
    "# relace string values in condition to numeric scale \n",
    "\n",
    "string_values = {'new':5,\n",
    "                'like new':4,\n",
    "                'excellent':3,\n",
    "                'good':2,\n",
    "                'fair':1,\n",
    "                'salvage':0}\n",
    "\n",
    "\n",
    "vehicle['condition_scale'] = vehicle.condition.apply(lambda x: string_values[x])"
   ]
  },
  {
   "cell_type": "code",
   "execution_count": 27,
   "id": "62a75a42",
   "metadata": {},
   "outputs": [
    {
     "data": {
      "text/html": [
       "<div>\n",
       "<style scoped>\n",
       "    .dataframe tbody tr th:only-of-type {\n",
       "        vertical-align: middle;\n",
       "    }\n",
       "\n",
       "    .dataframe tbody tr th {\n",
       "        vertical-align: top;\n",
       "    }\n",
       "\n",
       "    .dataframe thead th {\n",
       "        text-align: right;\n",
       "    }\n",
       "</style>\n",
       "<table border=\"1\" class=\"dataframe\">\n",
       "  <thead>\n",
       "    <tr style=\"text-align: right;\">\n",
       "      <th></th>\n",
       "      <th>price</th>\n",
       "      <th>model_year</th>\n",
       "      <th>model</th>\n",
       "      <th>condition</th>\n",
       "      <th>cylinders</th>\n",
       "      <th>fuel</th>\n",
       "      <th>odometer</th>\n",
       "      <th>transmission</th>\n",
       "      <th>type</th>\n",
       "      <th>paint_color</th>\n",
       "      <th>date_posted</th>\n",
       "      <th>days_listed</th>\n",
       "      <th>month</th>\n",
       "      <th>week</th>\n",
       "      <th>year</th>\n",
       "      <th>age</th>\n",
       "      <th>condition_scale</th>\n",
       "    </tr>\n",
       "  </thead>\n",
       "  <tbody>\n",
       "    <tr>\n",
       "      <th>0</th>\n",
       "      <td>9400</td>\n",
       "      <td>2011</td>\n",
       "      <td>bmw x5</td>\n",
       "      <td>good</td>\n",
       "      <td>6</td>\n",
       "      <td>gas</td>\n",
       "      <td>145000.0</td>\n",
       "      <td>automatic</td>\n",
       "      <td>SUV</td>\n",
       "      <td>unknown</td>\n",
       "      <td>2018-06-23</td>\n",
       "      <td>19</td>\n",
       "      <td>6</td>\n",
       "      <td>25</td>\n",
       "      <td>2018</td>\n",
       "      <td>7.0</td>\n",
       "      <td>2</td>\n",
       "    </tr>\n",
       "    <tr>\n",
       "      <th>1</th>\n",
       "      <td>25500</td>\n",
       "      <td>0</td>\n",
       "      <td>ford f-150</td>\n",
       "      <td>good</td>\n",
       "      <td>6</td>\n",
       "      <td>gas</td>\n",
       "      <td>88705.0</td>\n",
       "      <td>automatic</td>\n",
       "      <td>pickup</td>\n",
       "      <td>white</td>\n",
       "      <td>2018-10-19</td>\n",
       "      <td>50</td>\n",
       "      <td>10</td>\n",
       "      <td>42</td>\n",
       "      <td>2018</td>\n",
       "      <td>0.0</td>\n",
       "      <td>2</td>\n",
       "    </tr>\n",
       "    <tr>\n",
       "      <th>2</th>\n",
       "      <td>5500</td>\n",
       "      <td>2013</td>\n",
       "      <td>hyundai sonata</td>\n",
       "      <td>like new</td>\n",
       "      <td>4</td>\n",
       "      <td>gas</td>\n",
       "      <td>110000.0</td>\n",
       "      <td>automatic</td>\n",
       "      <td>sedan</td>\n",
       "      <td>red</td>\n",
       "      <td>2019-02-07</td>\n",
       "      <td>79</td>\n",
       "      <td>2</td>\n",
       "      <td>6</td>\n",
       "      <td>2019</td>\n",
       "      <td>6.0</td>\n",
       "      <td>4</td>\n",
       "    </tr>\n",
       "  </tbody>\n",
       "</table>\n",
       "</div>"
      ],
      "text/plain": [
       "   price  model_year           model condition  cylinders fuel  odometer  \\\n",
       "0   9400        2011          bmw x5      good          6  gas  145000.0   \n",
       "1  25500           0      ford f-150      good          6  gas   88705.0   \n",
       "2   5500        2013  hyundai sonata  like new          4  gas  110000.0   \n",
       "\n",
       "  transmission    type paint_color date_posted  days_listed  month  week  \\\n",
       "0    automatic     SUV     unknown  2018-06-23           19      6    25   \n",
       "1    automatic  pickup       white  2018-10-19           50     10    42   \n",
       "2    automatic   sedan         red  2019-02-07           79      2     6   \n",
       "\n",
       "   year  age  condition_scale  \n",
       "0  2018  7.0                2  \n",
       "1  2018  0.0                2  \n",
       "2  2019  6.0                4  "
      ]
     },
     "execution_count": 27,
     "metadata": {},
     "output_type": "execute_result"
    }
   ],
   "source": [
    "vehicle.head(3)"
   ]
  },
  {
   "cell_type": "markdown",
   "id": "8fa304ff",
   "metadata": {},
   "source": [
    "### Exploratory Data Analysis"
   ]
  },
  {
   "cell_type": "markdown",
   "id": "ccb661ff",
   "metadata": {},
   "source": [
    "**1. Study the following parameters: price, vehicle's age when the ad was placed, number of cylinders, and condition. Plot histograms for each of these parameters. Study how outliers affect the form and readability of the histograms.**"
   ]
  },
  {
   "cell_type": "code",
   "execution_count": 28,
   "id": "bbf32a7a",
   "metadata": {},
   "outputs": [
    {
     "data": {
      "image/png": "[encoded data removed]",
      "text/plain": [
       "<Figure size 576x396 with 1 Axes>"
      ]
     },
     "metadata": {},
     "output_type": "display_data"
    }
   ],
   "source": [
    "#distribution of price\n",
    "\n",
    "#with outliers\n",
    "plt.hist(vehicle.price, bins = 'fd', color = 'navy')\n",
    "plt.title('Price distribution', fontsize=16)\n",
    "plt.xlabel('Price',fontsize=13)\n",
    "plt.ylabel('Frequency',fontsize=13)\n",
    "plt.show()\n",
    "\n",
    "\n",
    "# print(' ')\n",
    "\n",
    "\n",
    "# #without outliers\n",
    "# plt.hist(vehicle.price, bins = 'fd', color = 'navy', edgecolor = 'white')\n",
    "# plt.title('Price distribution without outliers', fontsize=16)\n",
    "# plt.xlabel('Price',fontsize=13)\n",
    "# plt.ylabel('Frequency',fontsize=13)\n",
    "# plt.xlim(0,70000)\n",
    "# plt.show()\n"
   ]
  },
  {
   "cell_type": "markdown",
   "id": "e68f338d",
   "metadata": {},
   "source": [
    "> - In the first plot, the plot seems to be cluttered due to the presence of an outlier, whereas in the second plot, the outlier is removed by seting the xlim range. This improves readability considerably\n",
    "> - The number of bins is specified as fd which uses freedman-Diaconis rule for optimal number of bins selecttion "
   ]
  },
  {
   "cell_type": "code",
   "execution_count": 29,
   "id": "ed1c228e",
   "metadata": {},
   "outputs": [
    {
     "data": {
      "image/png": "[encoded data removed]",
      "text/plain": [
       "<Figure size 576x396 with 1 Axes>"
      ]
     },
     "metadata": {},
     "output_type": "display_data"
    }
   ],
   "source": [
    "# ditribution of vehicle's age \n",
    "\n",
    "plt.hist(vehicle.age,bins= 110, color = '#5D8233', edgecolor= 'white')\n",
    "plt.title(\"Vehicle's age distribution\", fontsize = 16)\n",
    "plt.xlabel('Age', fontsize=13)\n",
    "plt.ylabel('Frequency',fontsize=13)\n",
    "plt.xlim(0,60)\n",
    "plt.show()\n",
    "\n",
    "# plt.hist(vehicle.age,bins= 110, color = '#5D8233', edgecolor= 'white')\n",
    "# plt.title(\"Vehicle's age distribution Without outliers\", fontsize = 16)\n",
    "# plt.xlabel('Age', fontsize=13)\n",
    "# plt.ylabel('Frequency',fontsize=13)\n",
    "# plt.xlim(1,33)\n",
    "# plt.show()"
   ]
  },
  {
   "cell_type": "markdown",
   "id": "8f8cde26",
   "metadata": {},
   "source": [
    "> - The outlier in this case is the value 0 with extremely large count and the vehicles whose age is > 35 with very less count "
   ]
  },
  {
   "cell_type": "code",
   "execution_count": 30,
   "id": "4965eded",
   "metadata": {},
   "outputs": [
    {
     "data": {
      "image/png": "[encoded data removed]",
      "text/plain": [
       "<Figure size 576x396 with 1 Axes>"
      ]
     },
     "metadata": {},
     "output_type": "display_data"
    }
   ],
   "source": [
    "# distribution of number of cylinders\n",
    "\n",
    "plt.hist(vehicle.cylinders,width = 0.5 ,color = '#8D2828')\n",
    "plt.title('Cylinders distribution',fontsize=16)\n",
    "plt.xlabel('No. of cylinders',fontsize=13)\n",
    "plt.ylabel('Frequency',fontsize=13)\n",
    "plt.show()"
   ]
  },
  {
   "cell_type": "markdown",
   "id": "0581d691",
   "metadata": {},
   "source": [
    "> - The vehicles with cylinders 3,7 and 12 are too less compared to the other cylinders"
   ]
  },
  {
   "cell_type": "code",
   "execution_count": 31,
   "id": "877d743c",
   "metadata": {},
   "outputs": [
    {
     "data": {
      "image/png": "[encoded data removed]",
      "text/plain": [
       "<Figure size 576x396 with 1 Axes>"
      ]
     },
     "metadata": {},
     "output_type": "display_data"
    }
   ],
   "source": [
    "# Distribution of condition\n",
    "\n",
    "condition = vehicle.groupby('condition').condition.count().to_frame()\n",
    "\n",
    "plt.bar(condition.index, condition.condition, color = ['#301B3F','#E9896A','#387C6D','#630000','#B68973','purple'])\n",
    "plt.title('Condition of vehicle distribution', fontsize=16)\n",
    "plt.xlabel('condition',fontsize=13)\n",
    "plt.ylabel('Frequency',fontsize=13)\n",
    "plt.show()"
   ]
  },
  {
   "cell_type": "markdown",
   "id": "fe751046",
   "metadata": {},
   "source": [
    "> - Most of the vehciles sold are either in excellent, good condition or like new. Those vehicles that are just fair are sold less while those that are new and salvage are sold the least"
   ]
  },
  {
   "cell_type": "markdown",
   "id": "e06870dd",
   "metadata": {},
   "source": [
    "**2. Determine the upper limits of outliers, remove the outliers and store them in a separate DataFrame, and continue your work with the filtered data.**"
   ]
  },
  {
   "cell_type": "code",
   "execution_count": 32,
   "id": "1baca018",
   "metadata": {},
   "outputs": [],
   "source": [
    "#Price\n",
    "p_q1 = vehicle.price.quantile(0.25)\n",
    "p_q3 = vehicle.price.quantile(0.75)\n",
    "p_iqr = p_q3 - p_q1\n",
    "p_upper = p_q3 + 1.5 * p_iqr\n",
    "p_lower = p_q1 - 1.5 * p_iqr\n",
    "\n",
    "\n",
    "#age\n",
    "a_q1 = vehicle.age.quantile(0.25)\n",
    "a_q3 = vehicle.age.quantile(0.75)\n",
    "a_iqr = a_q3 - a_q1\n",
    "a_upper = a_q3 + 1.5 * a_iqr\n",
    "a_lower = a_q1 - 1.5 * a_iqr"
   ]
  },
  {
   "cell_type": "code",
   "execution_count": 33,
   "id": "bcd3e1d9",
   "metadata": {},
   "outputs": [],
   "source": [
    "price_outliers = vehicle[(vehicle.price >p_upper) | (vehicle.price <p_lower)].index.to_list()\n",
    "age_outliers = vehicle[(vehicle.age >a_upper) | (vehicle.age <a_lower)].index.to_list()"
   ]
  },
  {
   "cell_type": "code",
   "execution_count": 34,
   "id": "43757e04",
   "metadata": {},
   "outputs": [
    {
     "data": {
      "text/plain": [
       "638"
      ]
     },
     "execution_count": 34,
     "metadata": {},
     "output_type": "execute_result"
    }
   ],
   "source": [
    "len(age_outliers)"
   ]
  },
  {
   "cell_type": "code",
   "execution_count": 35,
   "id": "f1a48b0d",
   "metadata": {},
   "outputs": [
    {
     "data": {
      "text/plain": [
       "1646"
      ]
     },
     "execution_count": 35,
     "metadata": {},
     "output_type": "execute_result"
    }
   ],
   "source": [
    "len(price_outliers)"
   ]
  },
  {
   "cell_type": "code",
   "execution_count": 36,
   "id": "68a7bf37",
   "metadata": {},
   "outputs": [
    {
     "data": {
      "text/plain": [
       "2284"
      ]
     },
     "execution_count": 36,
     "metadata": {},
     "output_type": "execute_result"
    }
   ],
   "source": [
    "outliers = price_outliers + age_outliers\n",
    "\n",
    "len(outliers)"
   ]
  },
  {
   "cell_type": "code",
   "execution_count": 37,
   "id": "3bb640c5",
   "metadata": {},
   "outputs": [
    {
     "data": {
      "text/plain": [
       "(49274, 17)"
      ]
     },
     "execution_count": 37,
     "metadata": {},
     "output_type": "execute_result"
    }
   ],
   "source": [
    "vehicles = vehicle[~vehicle.index.isin(outliers) ].copy()\n",
    "vehicles.shape"
   ]
  },
  {
   "cell_type": "markdown",
   "id": "146194ef",
   "metadata": {},
   "source": [
    "> - The outliers in the price and age column were identified and the dataset was filtered accorrdingly"
   ]
  },
  {
   "cell_type": "markdown",
   "id": "34357407",
   "metadata": {},
   "source": [
    "**3. Use the filetered data to plot the histograms and compare with the previos plots**"
   ]
  },
  {
   "cell_type": "code",
   "execution_count": 38,
   "id": "522d17f1",
   "metadata": {},
   "outputs": [
    {
     "data": {
      "image/png": "[encoded data removed]",
      "text/plain": [
       "<Figure size 576x396 with 1 Axes>"
      ]
     },
     "metadata": {},
     "output_type": "display_data"
    }
   ],
   "source": [
    "#Price distribution without outliers\n",
    "plt.hist(vehicles.price, bins = 'fd', color = 'navy', edgecolor = 'white')\n",
    "plt.title('Price distribution without outliers', fontsize=16)\n",
    "plt.xlabel('Price',fontsize=13)\n",
    "plt.ylabel('Frequency',fontsize=13)\n",
    "plt.show()"
   ]
  },
  {
   "cell_type": "code",
   "execution_count": 39,
   "id": "a5bb8401",
   "metadata": {},
   "outputs": [
    {
     "data": {
      "text/plain": [
       "excellent    736\n",
       "like new     391\n",
       "good         240\n",
       "new           46\n",
       "fair           1\n",
       "Name: condition, dtype: int64"
      ]
     },
     "execution_count": 39,
     "metadata": {},
     "output_type": "execute_result"
    }
   ],
   "source": [
    "vehicle[vehicle.price > 35000].condition.value_counts()"
   ]
  },
  {
   "cell_type": "markdown",
   "id": "a9b8422c",
   "metadata": {},
   "source": [
    "> - Any price that is above 36000 is considered to be outliers\n",
    "> - The vehicles that were posted for more price were those which are mostly in excellent condition"
   ]
  },
  {
   "cell_type": "code",
   "execution_count": 40,
   "id": "c4c61ea4",
   "metadata": {},
   "outputs": [
    {
     "data": {
      "image/png": "[encoded data removed]",
      "text/plain": [
       "<Figure size 576x396 with 1 Axes>"
      ]
     },
     "metadata": {},
     "output_type": "display_data"
    }
   ],
   "source": [
    "# age distribution without outliers\n",
    "plt.hist(vehicles.age,bins='fd', color = '#5D8233', edgecolor= 'white')\n",
    "plt.title(\"Vehicle's age distribution Without outliers\", fontsize = 16)\n",
    "plt.xlabel('Age', fontsize=13)\n",
    "plt.ylabel('Frequency',fontsize=13)\n",
    "plt.show()"
   ]
  },
  {
   "cell_type": "markdown",
   "id": "b8ae7fb7",
   "metadata": {},
   "source": [
    "> - There were not many vehicle which were more than 25 years old "
   ]
  },
  {
   "cell_type": "markdown",
   "id": "d2dacb11",
   "metadata": {},
   "source": [
    "**3. Study how many days advertisements were displayed (days_listed). Plot a histogram. Calculate the mean and median**"
   ]
  },
  {
   "cell_type": "code",
   "execution_count": 41,
   "id": "15156a29",
   "metadata": {},
   "outputs": [
    {
     "data": {
      "image/png": "[encoded data removed]",
      "text/plain": [
       "<Figure size 576x396 with 1 Axes>"
      ]
     },
     "metadata": {},
     "output_type": "display_data"
    }
   ],
   "source": [
    "# distribution of ads displayed \n",
    "\n",
    "plt.hist(vehicles.days_listed, bins = 'fd', color = '#94B5C0')\n",
    "plt.title('Distribution of days listed', fontsize=16)\n",
    "plt.xlabel('Days Listed',fontsize=13)\n",
    "plt.ylabel('Frequency',fontsize=13)\n",
    "plt.axvline(vehicles.days_listed.mean(), color='black', linestyle='dashed', linewidth=1)\n",
    "plt.axvline(vehicles.days_listed.median(), color='red', linestyle='dashed', linewidth=1)\n",
    "plt.show()\n"
   ]
  },
  {
   "cell_type": "code",
   "execution_count": 42,
   "id": "00bf60a9",
   "metadata": {},
   "outputs": [
    {
     "name": "stdout",
     "output_type": "stream",
     "text": [
      "Typical lifetime of ads displayed is 33.0\n"
     ]
    }
   ],
   "source": [
    "print('Typical lifetime of ads displayed is {}'.format(vehicles.days_listed.median()))"
   ]
  },
  {
   "cell_type": "markdown",
   "id": "df8ba6cc",
   "metadata": {},
   "source": [
    "> - Since the distribution of days listed is right skewed, median is considered to be an appropriate measure for central tendency"
   ]
  },
  {
   "cell_type": "code",
   "execution_count": 43,
   "id": "89067260",
   "metadata": {},
   "outputs": [
    {
     "data": {
      "image/png": "[encoded data removed]",
      "text/plain": [
       "<Figure size 720x504 with 1 Axes>"
      ]
     },
     "metadata": {},
     "output_type": "display_data"
    }
   ],
   "source": [
    "fig = plt.figure(figsize =(10, 7))\n",
    " \n",
    "# Creating plot\n",
    "# plt.boxplot(vehicles.days_listed, )\n",
    "# plt.ylabel('days_listed',fontsize=13)\n",
    "# plt.title('Days_listed Box plot', fontsize=16)\n",
    "# # show plot\n",
    "# plt.show()\n",
    "\n",
    "sns.boxplot(x =vehicles.days_listed)\n",
    "plt.title('Detecting abnormalities in days listed', fontsize=16)\n",
    "plt.show()"
   ]
  },
  {
   "cell_type": "code",
   "execution_count": 44,
   "id": "e7760e7e",
   "metadata": {},
   "outputs": [
    {
     "name": "stdout",
     "output_type": "stream",
     "text": [
      "34.0 104.0 -32.0\n"
     ]
    }
   ],
   "source": [
    "# finding outliers \n",
    "\n",
    "# finding the 1st quartile\n",
    "q1 = np.quantile(vehicles.days_listed, 0.25)\n",
    " \n",
    "# finding the 3rd quartile\n",
    "q3 = np.quantile(vehicles.days_listed, 0.75)\n",
    "med = np.median(vehicles.days_listed)\n",
    " \n",
    "# finding the iqr region\n",
    "iqr = q3-q1\n",
    " \n",
    "# finding upper and lower whiskers\n",
    "upper_bound = q3+(1.5*iqr)\n",
    "lower_bound = q1-(1.5*iqr)\n",
    "print(iqr, upper_bound, lower_bound)"
   ]
  },
  {
   "cell_type": "code",
   "execution_count": 45,
   "id": "52875ed8",
   "metadata": {},
   "outputs": [],
   "source": [
    "quick = vehicles[(vehicles.days_listed < lower_bound)]\n",
    "late = vehicles[(vehicles.days_listed > upper_bound)]"
   ]
  },
  {
   "cell_type": "code",
   "execution_count": 46,
   "id": "434c175b",
   "metadata": {},
   "outputs": [
    {
     "data": {
      "text/html": [
       "<div>\n",
       "<style scoped>\n",
       "    .dataframe tbody tr th:only-of-type {\n",
       "        vertical-align: middle;\n",
       "    }\n",
       "\n",
       "    .dataframe tbody tr th {\n",
       "        vertical-align: top;\n",
       "    }\n",
       "\n",
       "    .dataframe thead th {\n",
       "        text-align: right;\n",
       "    }\n",
       "</style>\n",
       "<table border=\"1\" class=\"dataframe\">\n",
       "  <thead>\n",
       "    <tr style=\"text-align: right;\">\n",
       "      <th></th>\n",
       "      <th>price</th>\n",
       "      <th>model_year</th>\n",
       "      <th>model</th>\n",
       "      <th>condition</th>\n",
       "      <th>cylinders</th>\n",
       "      <th>fuel</th>\n",
       "      <th>odometer</th>\n",
       "      <th>transmission</th>\n",
       "      <th>type</th>\n",
       "      <th>paint_color</th>\n",
       "      <th>date_posted</th>\n",
       "      <th>days_listed</th>\n",
       "      <th>month</th>\n",
       "      <th>week</th>\n",
       "      <th>year</th>\n",
       "      <th>age</th>\n",
       "      <th>condition_scale</th>\n",
       "    </tr>\n",
       "  </thead>\n",
       "  <tbody>\n",
       "  </tbody>\n",
       "</table>\n",
       "</div>"
      ],
      "text/plain": [
       "Empty DataFrame\n",
       "Columns: [price, model_year, model, condition, cylinders, fuel, odometer, transmission, type, paint_color, date_posted, days_listed, month, week, year, age, condition_scale]\n",
       "Index: []"
      ]
     },
     "execution_count": 46,
     "metadata": {},
     "output_type": "execute_result"
    }
   ],
   "source": [
    "quick"
   ]
  },
  {
   "cell_type": "markdown",
   "id": "b99bd716",
   "metadata": {},
   "source": [
    "> - There are no ads that has been removed quickly "
   ]
  },
  {
   "cell_type": "code",
   "execution_count": 47,
   "id": "00ab3ff2",
   "metadata": {},
   "outputs": [
    {
     "data": {
      "text/html": [
       "<div>\n",
       "<style scoped>\n",
       "    .dataframe tbody tr th:only-of-type {\n",
       "        vertical-align: middle;\n",
       "    }\n",
       "\n",
       "    .dataframe tbody tr th {\n",
       "        vertical-align: top;\n",
       "    }\n",
       "\n",
       "    .dataframe thead th {\n",
       "        text-align: right;\n",
       "    }\n",
       "</style>\n",
       "<table border=\"1\" class=\"dataframe\">\n",
       "  <thead>\n",
       "    <tr style=\"text-align: right;\">\n",
       "      <th></th>\n",
       "      <th>price</th>\n",
       "      <th>model_year</th>\n",
       "      <th>model</th>\n",
       "      <th>condition</th>\n",
       "      <th>cylinders</th>\n",
       "      <th>fuel</th>\n",
       "      <th>odometer</th>\n",
       "      <th>transmission</th>\n",
       "      <th>type</th>\n",
       "      <th>paint_color</th>\n",
       "      <th>date_posted</th>\n",
       "      <th>days_listed</th>\n",
       "      <th>month</th>\n",
       "      <th>week</th>\n",
       "      <th>year</th>\n",
       "      <th>age</th>\n",
       "      <th>condition_scale</th>\n",
       "    </tr>\n",
       "  </thead>\n",
       "  <tbody>\n",
       "    <tr>\n",
       "      <th>15</th>\n",
       "      <td>17990</td>\n",
       "      <td>2013</td>\n",
       "      <td>ram 1500</td>\n",
       "      <td>excellent</td>\n",
       "      <td>8</td>\n",
       "      <td>gas</td>\n",
       "      <td>0.0</td>\n",
       "      <td>automatic</td>\n",
       "      <td>pickup</td>\n",
       "      <td>red</td>\n",
       "      <td>2018-05-15</td>\n",
       "      <td>111</td>\n",
       "      <td>5</td>\n",
       "      <td>20</td>\n",
       "      <td>2018</td>\n",
       "      <td>5.0</td>\n",
       "      <td>3</td>\n",
       "    </tr>\n",
       "    <tr>\n",
       "      <th>34</th>\n",
       "      <td>9500</td>\n",
       "      <td>2008</td>\n",
       "      <td>toyota highlander</td>\n",
       "      <td>good</td>\n",
       "      <td>6</td>\n",
       "      <td>gas</td>\n",
       "      <td>149799.0</td>\n",
       "      <td>automatic</td>\n",
       "      <td>SUV</td>\n",
       "      <td>unknown</td>\n",
       "      <td>2018-06-04</td>\n",
       "      <td>121</td>\n",
       "      <td>6</td>\n",
       "      <td>23</td>\n",
       "      <td>2018</td>\n",
       "      <td>10.0</td>\n",
       "      <td>2</td>\n",
       "    </tr>\n",
       "    <tr>\n",
       "      <th>51</th>\n",
       "      <td>3800</td>\n",
       "      <td>2012</td>\n",
       "      <td>ford focus</td>\n",
       "      <td>good</td>\n",
       "      <td>4</td>\n",
       "      <td>gas</td>\n",
       "      <td>130323.0</td>\n",
       "      <td>automatic</td>\n",
       "      <td>sedan</td>\n",
       "      <td>black</td>\n",
       "      <td>2018-11-29</td>\n",
       "      <td>261</td>\n",
       "      <td>11</td>\n",
       "      <td>48</td>\n",
       "      <td>2018</td>\n",
       "      <td>6.0</td>\n",
       "      <td>2</td>\n",
       "    </tr>\n",
       "    <tr>\n",
       "      <th>89</th>\n",
       "      <td>18800</td>\n",
       "      <td>2015</td>\n",
       "      <td>chevrolet camaro lt coupe 2d</td>\n",
       "      <td>good</td>\n",
       "      <td>6</td>\n",
       "      <td>gas</td>\n",
       "      <td>33926.0</td>\n",
       "      <td>other</td>\n",
       "      <td>coupe</td>\n",
       "      <td>grey</td>\n",
       "      <td>2019-01-16</td>\n",
       "      <td>152</td>\n",
       "      <td>1</td>\n",
       "      <td>3</td>\n",
       "      <td>2019</td>\n",
       "      <td>4.0</td>\n",
       "      <td>2</td>\n",
       "    </tr>\n",
       "    <tr>\n",
       "      <th>104</th>\n",
       "      <td>22900</td>\n",
       "      <td>2014</td>\n",
       "      <td>ford f150 supercrew cab xlt</td>\n",
       "      <td>good</td>\n",
       "      <td>6</td>\n",
       "      <td>gas</td>\n",
       "      <td>73711.0</td>\n",
       "      <td>automatic</td>\n",
       "      <td>pickup</td>\n",
       "      <td>white</td>\n",
       "      <td>2019-02-27</td>\n",
       "      <td>141</td>\n",
       "      <td>2</td>\n",
       "      <td>9</td>\n",
       "      <td>2019</td>\n",
       "      <td>5.0</td>\n",
       "      <td>2</td>\n",
       "    </tr>\n",
       "  </tbody>\n",
       "</table>\n",
       "</div>"
      ],
      "text/plain": [
       "     price  model_year                         model  condition  cylinders  \\\n",
       "15   17990        2013                      ram 1500  excellent          8   \n",
       "34    9500        2008             toyota highlander       good          6   \n",
       "51    3800        2012                    ford focus       good          4   \n",
       "89   18800        2015  chevrolet camaro lt coupe 2d       good          6   \n",
       "104  22900        2014   ford f150 supercrew cab xlt       good          6   \n",
       "\n",
       "    fuel  odometer transmission    type paint_color date_posted  days_listed  \\\n",
       "15   gas       0.0    automatic  pickup         red  2018-05-15          111   \n",
       "34   gas  149799.0    automatic     SUV     unknown  2018-06-04          121   \n",
       "51   gas  130323.0    automatic   sedan       black  2018-11-29          261   \n",
       "89   gas   33926.0        other   coupe        grey  2019-01-16          152   \n",
       "104  gas   73711.0    automatic  pickup       white  2019-02-27          141   \n",
       "\n",
       "     month  week  year   age  condition_scale  \n",
       "15       5    20  2018   5.0                3  \n",
       "34       6    23  2018  10.0                2  \n",
       "51      11    48  2018   6.0                2  \n",
       "89       1     3  2019   4.0                2  \n",
       "104      2     9  2019   5.0                2  "
      ]
     },
     "execution_count": 47,
     "metadata": {},
     "output_type": "execute_result"
    }
   ],
   "source": [
    "late.head()"
   ]
  },
  {
   "cell_type": "code",
   "execution_count": 48,
   "id": "53b58e30",
   "metadata": {},
   "outputs": [
    {
     "data": {
      "image/png": "[encoded data removed]",
      "text/plain": [
       "<Figure size 576x396 with 1 Axes>"
      ]
     },
     "metadata": {},
     "output_type": "display_data"
    }
   ],
   "source": [
    "plt.hist(late.price, bins='fd', color ='navy',edgecolor='white')\n",
    "plt.title('Distribution of price', fontsize=16)\n",
    "plt.xlabel('Price',fontsize=13)\n",
    "plt.ylabel('Frequency',fontsize=13)\n",
    "plt.show()"
   ]
  },
  {
   "cell_type": "markdown",
   "id": "19a4636c",
   "metadata": {},
   "source": [
    "> - There were more number of vehicles listed for a long time whose price range lies between 4000 to 8000"
   ]
  },
  {
   "cell_type": "code",
   "execution_count": 49,
   "id": "10746974",
   "metadata": {},
   "outputs": [
    {
     "data": {
      "text/plain": [
       "chevrolet silverado 1500      68\n",
       "ford f-150                    68\n",
       "ram 1500                      53\n",
       "chevrolet silverado           39\n",
       "jeep wrangler                 36\n",
       "                              ..\n",
       "nissan frontier                5\n",
       "nissan maxima                  5\n",
       "hyundai santa fe               4\n",
       "jeep grand cherokee laredo     3\n",
       "dodge dakota                   2\n",
       "Name: model, Length: 99, dtype: int64"
      ]
     },
     "execution_count": 49,
     "metadata": {},
     "output_type": "execute_result"
    }
   ],
   "source": [
    "late.model.value_counts()"
   ]
  },
  {
   "cell_type": "markdown",
   "id": "9863c5c5",
   "metadata": {},
   "source": [
    "> - The reason for the ads lasting for long could be due to the low demand of a particular car model. In our case, example could be ford or chevrolet"
   ]
  },
  {
   "cell_type": "code",
   "execution_count": 50,
   "id": "0a111a27",
   "metadata": {},
   "outputs": [
    {
     "data": {
      "text/plain": [
       "excellent    0.497406\n",
       "good         0.396239\n",
       "like new     0.077821\n",
       "fair         0.025292\n",
       "salvage      0.002594\n",
       "new          0.000649\n",
       "Name: condition, dtype: float64"
      ]
     },
     "execution_count": 50,
     "metadata": {},
     "output_type": "execute_result"
    }
   ],
   "source": [
    "late.condition.value_counts(normalize = True)"
   ]
  },
  {
   "cell_type": "markdown",
   "id": "832ce934",
   "metadata": {},
   "source": [
    "> - The vehicles that are in excellent / good condition are mostly stayed up for a long time\n",
    "> - The reason could be due to disagreement between the buyer and the seller on various other factors like price"
   ]
  },
  {
   "cell_type": "code",
   "execution_count": 51,
   "id": "80433ba4",
   "metadata": {},
   "outputs": [
    {
     "data": {
      "text/plain": [
       "SUV            0.258755\n",
       "sedan          0.245136\n",
       "truck          0.212711\n",
       "pickup         0.118029\n",
       "coupe          0.044747\n",
       "wagon          0.039559\n",
       "mini-van       0.031128\n",
       "hatchback      0.019455\n",
       "van            0.016213\n",
       "convertible    0.005837\n",
       "offroad        0.005188\n",
       "other          0.003243\n",
       "Name: type, dtype: float64"
      ]
     },
     "execution_count": 51,
     "metadata": {},
     "output_type": "execute_result"
    }
   ],
   "source": [
    "late.type.value_counts(normalize=True)"
   ]
  },
  {
   "cell_type": "markdown",
   "id": "97072ab7",
   "metadata": {},
   "source": [
    "> - Larger vehicels seemed to stay posted for long compared to the smaller vehicles "
   ]
  },
  {
   "cell_type": "code",
   "execution_count": 52,
   "id": "5b02abac",
   "metadata": {},
   "outputs": [
    {
     "data": {
      "image/png": "[encoded data removed]",
      "text/plain": [
       "<Figure size 576x396 with 1 Axes>"
      ]
     },
     "metadata": {},
     "output_type": "display_data"
    }
   ],
   "source": [
    "plt.hist(late.age, bins = 'fd', color ='navy', edgecolor='white')\n",
    "# plt.xlim(1,70)\n",
    "plt.title('Distribution of age', fontsize=16)\n",
    "plt.xlabel('age',fontsize=13)\n",
    "plt.ylabel('Frequency',fontsize=13)\n",
    "plt.show()"
   ]
  },
  {
   "cell_type": "markdown",
   "id": "e369013a",
   "metadata": {},
   "source": [
    "> - Vehcile whose age was not mentioned was listed for a long time along with those vehicles whose age is 6"
   ]
  },
  {
   "cell_type": "code",
   "execution_count": 53,
   "id": "e7f60ede",
   "metadata": {},
   "outputs": [
    {
     "data": {
      "text/plain": [
       "sedan          32\n",
       "SUV            24\n",
       "truck          17\n",
       "pickup         10\n",
       "wagon           7\n",
       "hatchback       2\n",
       "coupe           2\n",
       "mini-van        1\n",
       "van             1\n",
       "convertible     1\n",
       "Name: type, dtype: int64"
      ]
     },
     "execution_count": 53,
     "metadata": {},
     "output_type": "execute_result"
    }
   ],
   "source": [
    "late[late.age == 6].type.value_counts()"
   ]
  },
  {
   "cell_type": "markdown",
   "id": "9e18ffd2",
   "metadata": {},
   "source": [
    "> - Heavy weight vehicles normally remain posted for a long time. This explains why vehicles which are 6 years old reamin posted for long "
   ]
  },
  {
   "cell_type": "markdown",
   "id": "24dd538a",
   "metadata": {},
   "source": [
    "**3. Analyze the number of ads and the average price for each type of vehicle. Plot a graph showing the dependence of the number of ads on the vehicle type. Select the two types with the greatest number of ads.**"
   ]
  },
  {
   "cell_type": "code",
   "execution_count": 54,
   "id": "7f4730b4",
   "metadata": {},
   "outputs": [
    {
     "data": {
      "text/html": [
       "<div>\n",
       "<style scoped>\n",
       "    .dataframe tbody tr th:only-of-type {\n",
       "        vertical-align: middle;\n",
       "    }\n",
       "\n",
       "    .dataframe tbody tr th {\n",
       "        vertical-align: top;\n",
       "    }\n",
       "\n",
       "    .dataframe thead th {\n",
       "        text-align: right;\n",
       "    }\n",
       "</style>\n",
       "<table border=\"1\" class=\"dataframe\">\n",
       "  <thead>\n",
       "    <tr style=\"text-align: right;\">\n",
       "      <th></th>\n",
       "      <th>date_posted</th>\n",
       "      <th>price</th>\n",
       "    </tr>\n",
       "    <tr>\n",
       "      <th>type</th>\n",
       "      <th></th>\n",
       "      <th></th>\n",
       "    </tr>\n",
       "  </thead>\n",
       "  <tbody>\n",
       "    <tr>\n",
       "      <th>sedan</th>\n",
       "      <td>12116</td>\n",
       "      <td>6943.974084</td>\n",
       "    </tr>\n",
       "    <tr>\n",
       "      <th>SUV</th>\n",
       "      <td>12039</td>\n",
       "      <td>10383.641582</td>\n",
       "    </tr>\n",
       "    <tr>\n",
       "      <th>truck</th>\n",
       "      <td>11441</td>\n",
       "      <td>14914.862162</td>\n",
       "    </tr>\n",
       "    <tr>\n",
       "      <th>pickup</th>\n",
       "      <td>6515</td>\n",
       "      <td>14756.620875</td>\n",
       "    </tr>\n",
       "    <tr>\n",
       "      <th>coupe</th>\n",
       "      <td>2060</td>\n",
       "      <td>13365.068932</td>\n",
       "    </tr>\n",
       "    <tr>\n",
       "      <th>wagon</th>\n",
       "      <td>1529</td>\n",
       "      <td>8888.711576</td>\n",
       "    </tr>\n",
       "    <tr>\n",
       "      <th>mini-van</th>\n",
       "      <td>1157</td>\n",
       "      <td>8004.687986</td>\n",
       "    </tr>\n",
       "    <tr>\n",
       "      <th>hatchback</th>\n",
       "      <td>1022</td>\n",
       "      <td>6806.649706</td>\n",
       "    </tr>\n",
       "    <tr>\n",
       "      <th>van</th>\n",
       "      <td>587</td>\n",
       "      <td>8784.521295</td>\n",
       "    </tr>\n",
       "    <tr>\n",
       "      <th>convertible</th>\n",
       "      <td>359</td>\n",
       "      <td>12760.529248</td>\n",
       "    </tr>\n",
       "    <tr>\n",
       "      <th>other</th>\n",
       "      <td>240</td>\n",
       "      <td>10435.054167</td>\n",
       "    </tr>\n",
       "    <tr>\n",
       "      <th>offroad</th>\n",
       "      <td>186</td>\n",
       "      <td>14102.779570</td>\n",
       "    </tr>\n",
       "    <tr>\n",
       "      <th>bus</th>\n",
       "      <td>23</td>\n",
       "      <td>17445.913043</td>\n",
       "    </tr>\n",
       "  </tbody>\n",
       "</table>\n",
       "</div>"
      ],
      "text/plain": [
       "             date_posted         price\n",
       "type                                  \n",
       "sedan              12116   6943.974084\n",
       "SUV                12039  10383.641582\n",
       "truck              11441  14914.862162\n",
       "pickup              6515  14756.620875\n",
       "coupe               2060  13365.068932\n",
       "wagon               1529   8888.711576\n",
       "mini-van            1157   8004.687986\n",
       "hatchback           1022   6806.649706\n",
       "van                  587   8784.521295\n",
       "convertible          359  12760.529248\n",
       "other                240  10435.054167\n",
       "offroad              186  14102.779570\n",
       "bus                   23  17445.913043"
      ]
     },
     "execution_count": 54,
     "metadata": {},
     "output_type": "execute_result"
    }
   ],
   "source": [
    "df = vehicles.groupby('type').agg({'date_posted':'count','price':'mean'}).sort_values('date_posted',ascending = False)\n",
    "df"
   ]
  },
  {
   "cell_type": "code",
   "execution_count": 55,
   "id": "262dd0c9",
   "metadata": {
    "scrolled": false
   },
   "outputs": [
    {
     "data": {
      "image/png": "[encoded data removed]",
      "text/plain": [
       "<Figure size 576x396 with 1 Axes>"
      ]
     },
     "metadata": {},
     "output_type": "display_data"
    }
   ],
   "source": [
    "plt.bar(df.index, df.date_posted, color = '#54436B')\n",
    "plt.xticks(rotation = 45)\n",
    "plt.title('Vehicle type vs number of ads', fontsize=16)\n",
    "plt.xlabel('Vehicle Type', fontsize=13)\n",
    "plt.ylabel('No of ads', fontsize=13)\n",
    "plt.show()"
   ]
  },
  {
   "cell_type": "markdown",
   "id": "e65128c9",
   "metadata": {},
   "source": [
    "> - The number of ads posted for the larger vehicles are greater than that of smaller vehicles \n",
    "> - Since these vehicles are already there in long listing list, it can be assumed that the vehicles were not sold which resulted in repeated posting of ads for the same vehicles \n",
    "> - Another reaosn could be that the site is specifically used for selling large vehicles. Large vehicles are popular on the site and its ads count is very much greater than that of smaller vehicles"
   ]
  },
  {
   "cell_type": "markdown",
   "id": "0b661cd6",
   "metadata": {},
   "source": [
    "**4. What factors impact the price most? Take each of the popular types you detected at the previous stage and study whether the price depends on age, condition, transmission type, and color. For categorical variables (transmission type and color), plot box-and-whisker charts, and create scatterplots for the rest. When analyzing categorical variables, note that the categories must have at least 50 ads; otherwise, their parameters won't be valid for analysis.**"
   ]
  },
  {
   "cell_type": "code",
   "execution_count": 56,
   "id": "61f40882",
   "metadata": {},
   "outputs": [],
   "source": [
    "suv = vehicles[vehicles.type=='SUV']\n",
    "truck = vehicles[vehicles.type=='truck']\n",
    "sedan = vehicles[vehicles.type=='sedan']"
   ]
  },
  {
   "cell_type": "code",
   "execution_count": 57,
   "id": "e739ebbe",
   "metadata": {},
   "outputs": [
    {
     "name": "stdout",
     "output_type": "stream",
     "text": [
      "-----------SUV--------------------\n",
      "Correlation between the price and on age:  -0.5238514522748883\n",
      "Correlation between the price and on condition:  0.2696899746594271\n",
      "-----------Truck-----------------\n",
      "Correlation between the price and on age:  -0.5527110904194136\n",
      "Correlation between the price and on condition:  0.28836992709372483\n",
      "-----------sedan-----------------\n",
      "Correlation between the price and on age:  -0.5606377620097339\n",
      "Correlation between the price and on condition:  0.2980151995360723\n"
     ]
    }
   ],
   "source": [
    "print('-----------SUV--------------------')\n",
    "#Finding correlation between the price and on age, mileage, condition, transmission type, and color of SUVs\n",
    "print('Correlation between the price and on age: ',suv.price.corr(suv.age))\n",
    "# print('Correlation between the price and on mileage: ',adtype1['price'].corr(adtype1['mileage']))\n",
    "print('Correlation between the price and on condition: ',suv.price.corr(suv.condition_scale))\n",
    "\n",
    "\n",
    "print('-----------Truck-----------------')\n",
    "# #Finding correlation between the price and on age, mileage, condition, transmission type, and color of SUVs\n",
    "print('Correlation between the price and on age: ',truck.price.corr(truck.age))\n",
    "# print('Correlation between the price and on mileage: ',adtype2['price'].corr(adtype2['mileage']))\n",
    "print('Correlation between the price and on condition: ',truck.price.corr(truck.condition_scale))\n",
    "\n",
    "\n",
    "\n",
    "print('-----------sedan-----------------')\n",
    "# #Finding correlation between the price and on age, mileage, condition, transmission type, and color of SUVs\n",
    "print('Correlation between the price and on age: ',sedan.price.corr(sedan.age))\n",
    "# print('Correlation between the price and on mileage: ',adtype2['price'].corr(adtype2['mileage']))\n",
    "print('Correlation between the price and on condition: ',sedan.price.corr(sedan.condition_scale))\n",
    "\n",
    "# value_list2 = ['orange','purple','yellow']\n",
    "# boolean_series2 = ~(adtype2.paint_color.isin(value_list2))\n",
    "# truck_df = adtype2[boolean_series2]"
   ]
  },
  {
   "cell_type": "markdown",
   "id": "26327a60",
   "metadata": {},
   "source": [
    "> - Calculating correlation reveals that there is modest negative correlation between price and age for each one of the popular types\n",
    "> - There is also weak correlation between price and condition"
   ]
  },
  {
   "cell_type": "markdown",
   "id": "8ad9ceca",
   "metadata": {},
   "source": [
    "**Plots for SUV vehicle type**"
   ]
  },
  {
   "cell_type": "code",
   "execution_count": 58,
   "id": "01be5726",
   "metadata": {
    "scrolled": false
   },
   "outputs": [],
   "source": [
    "# # plotting the realtions \n",
    "\n",
    "# sns.jointplot(data=suv, x=\"age\", y=\"price\")\n",
    "# # plt.title('SUV - age vs price', fontsize=22)\n",
    "# plt.show()"
   ]
  },
  {
   "cell_type": "code",
   "execution_count": 59,
   "id": "d87979bd",
   "metadata": {},
   "outputs": [
    {
     "data": {
      "image/png": "[encoded data removed]",
      "text/plain": [
       "<Figure size 432x432 with 3 Axes>"
      ]
     },
     "metadata": {},
     "output_type": "display_data"
    }
   ],
   "source": [
    "# Price vs condition scale\n",
    "sns.jointplot(data=suv, x=\"condition_scale\", y=\"price\" ,hue = 'age')\n",
    "plt.show()"
   ]
  },
  {
   "cell_type": "markdown",
   "id": "045ce049",
   "metadata": {},
   "source": [
    "> - SUVs that are in good, excellent or like new are sold for higher price, but the same vehicles are sold for lower price as it gets older\n",
    "> - low age, good condition of the vehicle are two factors that influence price"
   ]
  },
  {
   "cell_type": "code",
   "execution_count": 60,
   "id": "09136074",
   "metadata": {},
   "outputs": [
    {
     "data": {
      "image/png": "[encoded data removed]",
      "text/plain": [
       "<Figure size 576x396 with 1 Axes>"
      ]
     },
     "metadata": {},
     "output_type": "display_data"
    }
   ],
   "source": [
    "# price vs transmission type\n",
    "\n",
    "sns.boxplot(x = suv.transmission, y = suv.price)\n",
    "plt.title('SUV - price vs transmission type', fontsize=16)\n",
    "plt.show()"
   ]
  },
  {
   "cell_type": "markdown",
   "id": "ae32c9f3",
   "metadata": {},
   "source": [
    "> - SUVs with manual transmission are priced more, followed by automatic transmission and at last other types of transmission"
   ]
  },
  {
   "cell_type": "code",
   "execution_count": 61,
   "id": "b1797ac1",
   "metadata": {},
   "outputs": [
    {
     "data": {
      "image/png": "[encoded data removed]",
      "text/plain": [
       "<Figure size 576x396 with 1 Axes>"
      ]
     },
     "metadata": {},
     "output_type": "display_data"
    }
   ],
   "source": [
    "# price vs paint_color \n",
    "\n",
    "sns.boxplot(x = suv.paint_color, y = suv.price)\n",
    "plt.title('SUV - price vs paint color', fontsize=16)\n",
    "plt.show()"
   ]
  },
  {
   "cell_type": "markdown",
   "id": "cfd00827",
   "metadata": {},
   "source": [
    "- SUV’s with orange color seems to be in demand and purple with least demand"
   ]
  },
  {
   "cell_type": "markdown",
   "id": "4d3fd4cd",
   "metadata": {},
   "source": [
    "**Plots for truck vehicle type**"
   ]
  },
  {
   "cell_type": "code",
   "execution_count": 62,
   "id": "66d1b986",
   "metadata": {},
   "outputs": [],
   "source": [
    "# sns.jointplot(data=truck, x=\"age\", y=\"price\" )\n",
    "# # plt.title('SUV - age vs price', fontsize=22)\n",
    "# plt.show()"
   ]
  },
  {
   "cell_type": "code",
   "execution_count": 63,
   "id": "af61b665",
   "metadata": {},
   "outputs": [
    {
     "data": {
      "image/png": "[encoded data removed]",
      "text/plain": [
       "<Figure size 432x432 with 3 Axes>"
      ]
     },
     "metadata": {},
     "output_type": "display_data"
    }
   ],
   "source": [
    "# Price vs condition scale\n",
    "sns.jointplot(data=truck, x=\"condition_scale\", y=\"price\" ,hue = 'age')\n",
    "plt.show()"
   ]
  },
  {
   "cell_type": "markdown",
   "id": "d8adfc2c",
   "metadata": {},
   "source": [
    "> - Like SUVs, truck also sells for lesser price if the vehicle's age is more and vice versa"
   ]
  },
  {
   "cell_type": "code",
   "execution_count": 64,
   "id": "0edde60c",
   "metadata": {},
   "outputs": [
    {
     "data": {
      "image/png": "[encoded data removed]",
      "text/plain": [
       "<Figure size 576x396 with 1 Axes>"
      ]
     },
     "metadata": {},
     "output_type": "display_data"
    }
   ],
   "source": [
    "# price vs transmission type\n",
    "\n",
    "sns.boxplot(x = truck.transmission, y = truck.price)\n",
    "plt.title('Truck - price vs transmission type', fontsize=16)\n",
    "plt.show()"
   ]
  },
  {
   "cell_type": "markdown",
   "id": "0ce3ff82",
   "metadata": {},
   "source": [
    "> - Unlike SUV, truck with automatic transmissiong type is priced more than the manual transmission type"
   ]
  },
  {
   "cell_type": "code",
   "execution_count": 65,
   "id": "cd30b8a9",
   "metadata": {},
   "outputs": [
    {
     "data": {
      "image/png": "[encoded data removed]",
      "text/plain": [
       "<Figure size 576x396 with 1 Axes>"
      ]
     },
     "metadata": {},
     "output_type": "display_data"
    }
   ],
   "source": [
    "# price vs paint_color \n",
    "\n",
    "sns.boxplot(x = truck.paint_color, y = truck.price)\n",
    "plt.title('Truck - price vs paint color', fontsize=16)\n",
    "plt.show()"
   ]
  },
  {
   "cell_type": "markdown",
   "id": "9abc389e",
   "metadata": {},
   "source": [
    "- Trucks in yellow color seems to be more in demand and orange has the least demand\n"
   ]
  },
  {
   "cell_type": "markdown",
   "id": "cc3b9523",
   "metadata": {},
   "source": [
    "**Plots for sedan**"
   ]
  },
  {
   "cell_type": "code",
   "execution_count": 66,
   "id": "2dde01ae",
   "metadata": {},
   "outputs": [],
   "source": [
    "# sns.jointplot(data=sedan, x=\"age\", y=\"price\" ,)\n",
    "# # plt.title('SUV - age vs price', fontsize=22)\n",
    "# plt.show()"
   ]
  },
  {
   "cell_type": "code",
   "execution_count": 67,
   "id": "f0799e9e",
   "metadata": {},
   "outputs": [
    {
     "data": {
      "image/png": "[encoded data removed]",
      "text/plain": [
       "<Figure size 432x432 with 3 Axes>"
      ]
     },
     "metadata": {},
     "output_type": "display_data"
    }
   ],
   "source": [
    "# Price vs condition scale\n",
    "sns.jointplot(data=sedan, x=\"condition_scale\", y=\"price\" ,hue = 'age')\n",
    "plt.show()"
   ]
  },
  {
   "cell_type": "markdown",
   "id": "814d1695",
   "metadata": {},
   "source": [
    "> - Age and condition affect price in similar way as it was for SUV and trucks"
   ]
  },
  {
   "cell_type": "code",
   "execution_count": 68,
   "id": "0e330fdf",
   "metadata": {},
   "outputs": [
    {
     "data": {
      "image/png": "[encoded data removed]",
      "text/plain": [
       "<Figure size 576x396 with 1 Axes>"
      ]
     },
     "metadata": {},
     "output_type": "display_data"
    }
   ],
   "source": [
    "# price vs transmission type\n",
    "\n",
    "sns.boxplot(x = sedan.transmission, y = sedan.price)\n",
    "plt.title('Sedan - price vs transmission type', fontsize=16)\n",
    "plt.show()"
   ]
  },
  {
   "cell_type": "markdown",
   "id": "a290c754",
   "metadata": {},
   "source": [
    "> - In case of sedan, automatic transmisison is sold for more price than the one with manual transmission"
   ]
  },
  {
   "cell_type": "code",
   "execution_count": 69,
   "id": "d0ac98c1",
   "metadata": {},
   "outputs": [
    {
     "data": {
      "image/png": "[encoded data removed]",
      "text/plain": [
       "<Figure size 576x396 with 1 Axes>"
      ]
     },
     "metadata": {},
     "output_type": "display_data"
    }
   ],
   "source": [
    "# price vs paint_color \n",
    "\n",
    "sns.boxplot(x = sedan.paint_color, y = sedan.price)\n",
    "plt.title('Sedan - price vs paint color', fontsize=16)\n",
    "plt.show()"
   ]
  },
  {
   "cell_type": "markdown",
   "id": "13a39f0f",
   "metadata": {},
   "source": [
    "- Sedan’s in orange color is more preferred and expensive while sedan's in yellow is priced less\n"
   ]
  },
  {
   "cell_type": "markdown",
   "id": "7ad6b318",
   "metadata": {},
   "source": [
    "### Conclusion\n",
    "\n",
    "- Columns with missing values were found and dropped or filled \n",
    "- Datatypes of some columns were changed to suit the analysis\n",
    "- Month, week and year columns were extracted from date_posted column\n",
    "- Vehicle’s age column was added with the help of model_year column and year column \n",
    "- A new column to hold the numeric values of the string values in condition was added\n",
    "- Histogram was plotted for some of the numeric columns and bar plot for the categorical ones to study the distribution in detail\n",
    "- Outlier was calculated for some of the numeric columns using interquartile range and the dataset was filtered to remove outliers\n",
    "- Outliers for the number of days ad was displayed was calculated. There were no ads that was removed quickly, but there were many ads that was posted for a long period of time. Reasons could be because of the dissatisfaction of the seller in factors like price, low demand for a particular type or model\n",
    "- The number of ads posted for large vehicles like sedan, SUV and trucks were more compared to others\n",
    "\n",
    "**Factors that influence price of a vehicle:**\n",
    "- Age is one important factor that influence price. The greater the age of the vehicle , the lesser is its price\n",
    "- Second factor that influence price is condition. Vehicles that are in good, excellent or like new are sold more and are priced more. However, even if the vehicle is in this condiiton, if the age is more, the price is sell.\n",
    "- The other factors like transmision type and paint_color also influences price but it is specific to vehicle types and cannot be generalised"
   ]
  },
  {
   "cell_type": "code",
   "execution_count": null,
   "id": "c5380075",
   "metadata": {},
   "outputs": [],
   "source": []
  }
 ],
 "metadata": {
  "kernelspec": {
   "display_name": "Python 3",
   "language": "python",
   "name": "python3"
  },
  "language_info": {
   "codemirror_mode": {
    "name": "ipython",
    "version": 3
   },
   "file_extension": ".py",
   "mimetype": "text/x-python",
   "name": "python",
   "nbconvert_exporter": "python",
   "pygments_lexer": "ipython3",
   "version": "3.8.8"
  }
 },
 "nbformat": 4,
 "nbformat_minor": 5
}
