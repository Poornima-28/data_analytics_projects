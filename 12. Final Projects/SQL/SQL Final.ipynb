{
 "cells": [
  {
   "cell_type": "markdown",
   "id": "72850419",
   "metadata": {},
   "source": [
    "# Project Description\n",
    "\n",
    "\n",
    "Due to the global pandemic, more people were at home and reading books. This attracted the attention of startups that rushed to develop new apps for book lovers. The given database of one of the service competing in market consists data on books , publishers etc., This information must be used to generate a value proposition for a new product\n",
    "\n",
    "### Data Description:\n",
    "\n",
    "books:\n",
    "1. Contains data on books:\n",
    "2. book_id\n",
    "3. author_id\n",
    "4. title\n",
    "5. num_pages — number of pages\n",
    "6. publication_date\n",
    "7. publisher_id\n",
    "\n",
    "authors:\n",
    "1. Contains data on authors:\n",
    "2. author_id\n",
    "3. author\n",
    "\n",
    "publishers:\n",
    "1. publisher_id\n",
    "2. publisher\n",
    "\n",
    "ratings:\n",
    "1. rating_id\n",
    "2. book_id\n",
    "3. username — the name of the user who rated the book\n",
    "4. rating\n",
    "\n",
    "reviews:\n",
    "1. review_id\n",
    "2. book_id\n",
    "3. username — the name of the user who reviewed the book\n",
    "4. text — the text of the review\n",
    "\n"
   ]
  },
  {
   "cell_type": "code",
   "execution_count": 1,
   "id": "79c37a82",
   "metadata": {},
   "outputs": [
    {
     "name": "stdout",
     "output_type": "stream",
     "text": [
      "Defaulting to user installation because normal site-packages is not writeable\n",
      "Requirement already satisfied: psycopg2-binary in /opt/conda/lib/python3.7/site-packages (2.8.4)\n"
     ]
    }
   ],
   "source": [
    "!pip install psycopg2-binary"
   ]
  },
  {
   "cell_type": "code",
   "execution_count": 2,
   "id": "a2bad8aa",
   "metadata": {},
   "outputs": [],
   "source": [
    "# import libraries\n",
    "import pandas as pd\n",
    "from sqlalchemy import create_engine"
   ]
  },
  {
   "cell_type": "code",
   "execution_count": 3,
   "id": "31f935b0",
   "metadata": {},
   "outputs": [],
   "source": [
    "db_config = {'user': 'praktikum_student',         # user name\n",
    "             'pwd': 'Sdf4$2;d-d30pp', # password\n",
    "             'host': 'rc1b-wcoijxj3yxfsf3fs.mdb.yandexcloud.net',\n",
    "             'port': 6432,              # connection port\n",
    "             'db': 'data-analyst-final-project-db'}          # the name of the data base\n",
    "\n",
    "connection_string = 'postgresql://{}:{}@{}:{}/{}'.format(db_config['user'],\n",
    "                                                                     db_config['pwd'],\n",
    "                                                                       db_config['host'],\n",
    "                                                                       db_config['port'],\n",
    "                                                                       db_config['db'])\n",
    "\n",
    "engine = create_engine(connection_string, connect_args={'sslmode':'require'})"
   ]
  },
  {
   "cell_type": "code",
   "execution_count": 4,
   "id": "f6403be5",
   "metadata": {},
   "outputs": [
    {
     "data": {
      "text/html": [
       "<div>\n",
       "<style scoped>\n",
       "    .dataframe tbody tr th:only-of-type {\n",
       "        vertical-align: middle;\n",
       "    }\n",
       "\n",
       "    .dataframe tbody tr th {\n",
       "        vertical-align: top;\n",
       "    }\n",
       "\n",
       "    .dataframe thead th {\n",
       "        text-align: right;\n",
       "    }\n",
       "</style>\n",
       "<table border=\"1\" class=\"dataframe\">\n",
       "  <thead>\n",
       "    <tr style=\"text-align: right;\">\n",
       "      <th></th>\n",
       "      <th>book_id</th>\n",
       "      <th>author_id</th>\n",
       "      <th>title</th>\n",
       "      <th>num_pages</th>\n",
       "      <th>publication_date</th>\n",
       "      <th>publisher_id</th>\n",
       "    </tr>\n",
       "  </thead>\n",
       "  <tbody>\n",
       "    <tr>\n",
       "      <td>0</td>\n",
       "      <td>1</td>\n",
       "      <td>546</td>\n",
       "      <td>'Salem's Lot</td>\n",
       "      <td>594</td>\n",
       "      <td>2005-11-01</td>\n",
       "      <td>93</td>\n",
       "    </tr>\n",
       "    <tr>\n",
       "      <td>1</td>\n",
       "      <td>2</td>\n",
       "      <td>465</td>\n",
       "      <td>1 000 Places to See Before You Die</td>\n",
       "      <td>992</td>\n",
       "      <td>2003-05-22</td>\n",
       "      <td>336</td>\n",
       "    </tr>\n",
       "    <tr>\n",
       "      <td>2</td>\n",
       "      <td>3</td>\n",
       "      <td>407</td>\n",
       "      <td>13 Little Blue Envelopes (Little Blue Envelope...</td>\n",
       "      <td>322</td>\n",
       "      <td>2010-12-21</td>\n",
       "      <td>135</td>\n",
       "    </tr>\n",
       "    <tr>\n",
       "      <td>3</td>\n",
       "      <td>4</td>\n",
       "      <td>82</td>\n",
       "      <td>1491: New Revelations of the Americas Before C...</td>\n",
       "      <td>541</td>\n",
       "      <td>2006-10-10</td>\n",
       "      <td>309</td>\n",
       "    </tr>\n",
       "    <tr>\n",
       "      <td>4</td>\n",
       "      <td>5</td>\n",
       "      <td>125</td>\n",
       "      <td>1776</td>\n",
       "      <td>386</td>\n",
       "      <td>2006-07-04</td>\n",
       "      <td>268</td>\n",
       "    </tr>\n",
       "  </tbody>\n",
       "</table>\n",
       "</div>"
      ],
      "text/plain": [
       "   book_id  author_id                                              title  \\\n",
       "0        1        546                                       'Salem's Lot   \n",
       "1        2        465                 1 000 Places to See Before You Die   \n",
       "2        3        407  13 Little Blue Envelopes (Little Blue Envelope...   \n",
       "3        4         82  1491: New Revelations of the Americas Before C...   \n",
       "4        5        125                                               1776   \n",
       "\n",
       "   num_pages publication_date  publisher_id  \n",
       "0        594       2005-11-01            93  \n",
       "1        992       2003-05-22           336  \n",
       "2        322       2010-12-21           135  \n",
       "3        541       2006-10-10           309  \n",
       "4        386       2006-07-04           268  "
      ]
     },
     "execution_count": 4,
     "metadata": {},
     "output_type": "execute_result"
    }
   ],
   "source": [
    "#reading books dataset\n",
    "\n",
    "query = 'SELECT * FROM books'\n",
    "\n",
    "books = pd.io.sql.read_sql(query, con = engine)\n",
    "books.head()"
   ]
  },
  {
   "cell_type": "code",
   "execution_count": 5,
   "id": "4605238f",
   "metadata": {},
   "outputs": [
    {
     "data": {
      "text/html": [
       "<div>\n",
       "<style scoped>\n",
       "    .dataframe tbody tr th:only-of-type {\n",
       "        vertical-align: middle;\n",
       "    }\n",
       "\n",
       "    .dataframe tbody tr th {\n",
       "        vertical-align: top;\n",
       "    }\n",
       "\n",
       "    .dataframe thead th {\n",
       "        text-align: right;\n",
       "    }\n",
       "</style>\n",
       "<table border=\"1\" class=\"dataframe\">\n",
       "  <thead>\n",
       "    <tr style=\"text-align: right;\">\n",
       "      <th></th>\n",
       "      <th>author_id</th>\n",
       "      <th>author</th>\n",
       "    </tr>\n",
       "  </thead>\n",
       "  <tbody>\n",
       "    <tr>\n",
       "      <td>0</td>\n",
       "      <td>1</td>\n",
       "      <td>A.S. Byatt</td>\n",
       "    </tr>\n",
       "    <tr>\n",
       "      <td>1</td>\n",
       "      <td>2</td>\n",
       "      <td>Aesop/Laura Harris/Laura Gibbs</td>\n",
       "    </tr>\n",
       "    <tr>\n",
       "      <td>2</td>\n",
       "      <td>3</td>\n",
       "      <td>Agatha Christie</td>\n",
       "    </tr>\n",
       "    <tr>\n",
       "      <td>3</td>\n",
       "      <td>4</td>\n",
       "      <td>Alan Brennert</td>\n",
       "    </tr>\n",
       "    <tr>\n",
       "      <td>4</td>\n",
       "      <td>5</td>\n",
       "      <td>Alan Moore/David   Lloyd</td>\n",
       "    </tr>\n",
       "  </tbody>\n",
       "</table>\n",
       "</div>"
      ],
      "text/plain": [
       "   author_id                          author\n",
       "0          1                      A.S. Byatt\n",
       "1          2  Aesop/Laura Harris/Laura Gibbs\n",
       "2          3                 Agatha Christie\n",
       "3          4                   Alan Brennert\n",
       "4          5        Alan Moore/David   Lloyd"
      ]
     },
     "execution_count": 5,
     "metadata": {},
     "output_type": "execute_result"
    }
   ],
   "source": [
    "#reading authors dataset\n",
    "\n",
    "query = 'SELECT * FROM authors'\n",
    "\n",
    "authors = pd.io.sql.read_sql(query, con = engine)\n",
    "authors.head()"
   ]
  },
  {
   "cell_type": "code",
   "execution_count": 6,
   "id": "a1d5037d",
   "metadata": {},
   "outputs": [
    {
     "data": {
      "text/html": [
       "<div>\n",
       "<style scoped>\n",
       "    .dataframe tbody tr th:only-of-type {\n",
       "        vertical-align: middle;\n",
       "    }\n",
       "\n",
       "    .dataframe tbody tr th {\n",
       "        vertical-align: top;\n",
       "    }\n",
       "\n",
       "    .dataframe thead th {\n",
       "        text-align: right;\n",
       "    }\n",
       "</style>\n",
       "<table border=\"1\" class=\"dataframe\">\n",
       "  <thead>\n",
       "    <tr style=\"text-align: right;\">\n",
       "      <th></th>\n",
       "      <th>publisher_id</th>\n",
       "      <th>publisher</th>\n",
       "    </tr>\n",
       "  </thead>\n",
       "  <tbody>\n",
       "    <tr>\n",
       "      <td>0</td>\n",
       "      <td>1</td>\n",
       "      <td>Ace</td>\n",
       "    </tr>\n",
       "    <tr>\n",
       "      <td>1</td>\n",
       "      <td>2</td>\n",
       "      <td>Ace Book</td>\n",
       "    </tr>\n",
       "    <tr>\n",
       "      <td>2</td>\n",
       "      <td>3</td>\n",
       "      <td>Ace Books</td>\n",
       "    </tr>\n",
       "    <tr>\n",
       "      <td>3</td>\n",
       "      <td>4</td>\n",
       "      <td>Ace Hardcover</td>\n",
       "    </tr>\n",
       "    <tr>\n",
       "      <td>4</td>\n",
       "      <td>5</td>\n",
       "      <td>Addison Wesley Publishing Company</td>\n",
       "    </tr>\n",
       "  </tbody>\n",
       "</table>\n",
       "</div>"
      ],
      "text/plain": [
       "   publisher_id                          publisher\n",
       "0             1                                Ace\n",
       "1             2                           Ace Book\n",
       "2             3                          Ace Books\n",
       "3             4                      Ace Hardcover\n",
       "4             5  Addison Wesley Publishing Company"
      ]
     },
     "execution_count": 6,
     "metadata": {},
     "output_type": "execute_result"
    }
   ],
   "source": [
    "#reading publishers\n",
    "\n",
    "\n",
    "query = 'SELECT * FROM publishers'\n",
    "\n",
    "publishers = pd.io.sql.read_sql(query, con = engine)\n",
    "publishers.head()"
   ]
  },
  {
   "cell_type": "code",
   "execution_count": 7,
   "id": "78b7085b",
   "metadata": {},
   "outputs": [
    {
     "data": {
      "text/html": [
       "<div>\n",
       "<style scoped>\n",
       "    .dataframe tbody tr th:only-of-type {\n",
       "        vertical-align: middle;\n",
       "    }\n",
       "\n",
       "    .dataframe tbody tr th {\n",
       "        vertical-align: top;\n",
       "    }\n",
       "\n",
       "    .dataframe thead th {\n",
       "        text-align: right;\n",
       "    }\n",
       "</style>\n",
       "<table border=\"1\" class=\"dataframe\">\n",
       "  <thead>\n",
       "    <tr style=\"text-align: right;\">\n",
       "      <th></th>\n",
       "      <th>rating_id</th>\n",
       "      <th>book_id</th>\n",
       "      <th>username</th>\n",
       "      <th>rating</th>\n",
       "    </tr>\n",
       "  </thead>\n",
       "  <tbody>\n",
       "    <tr>\n",
       "      <td>0</td>\n",
       "      <td>1</td>\n",
       "      <td>1</td>\n",
       "      <td>ryanfranco</td>\n",
       "      <td>4</td>\n",
       "    </tr>\n",
       "    <tr>\n",
       "      <td>1</td>\n",
       "      <td>2</td>\n",
       "      <td>1</td>\n",
       "      <td>grantpatricia</td>\n",
       "      <td>2</td>\n",
       "    </tr>\n",
       "    <tr>\n",
       "      <td>2</td>\n",
       "      <td>3</td>\n",
       "      <td>1</td>\n",
       "      <td>brandtandrea</td>\n",
       "      <td>5</td>\n",
       "    </tr>\n",
       "    <tr>\n",
       "      <td>3</td>\n",
       "      <td>4</td>\n",
       "      <td>2</td>\n",
       "      <td>lorichen</td>\n",
       "      <td>3</td>\n",
       "    </tr>\n",
       "    <tr>\n",
       "      <td>4</td>\n",
       "      <td>5</td>\n",
       "      <td>2</td>\n",
       "      <td>mariokeller</td>\n",
       "      <td>2</td>\n",
       "    </tr>\n",
       "  </tbody>\n",
       "</table>\n",
       "</div>"
      ],
      "text/plain": [
       "   rating_id  book_id       username  rating\n",
       "0          1        1     ryanfranco       4\n",
       "1          2        1  grantpatricia       2\n",
       "2          3        1   brandtandrea       5\n",
       "3          4        2       lorichen       3\n",
       "4          5        2    mariokeller       2"
      ]
     },
     "execution_count": 7,
     "metadata": {},
     "output_type": "execute_result"
    }
   ],
   "source": [
    "#reading ratings\n",
    "\n",
    "\n",
    "query = 'SELECT * FROM ratings'\n",
    "\n",
    "ratings = pd.io.sql.read_sql(query, con = engine)\n",
    "ratings.head()"
   ]
  },
  {
   "cell_type": "code",
   "execution_count": 8,
   "id": "c6708c39",
   "metadata": {},
   "outputs": [
    {
     "data": {
      "text/html": [
       "<div>\n",
       "<style scoped>\n",
       "    .dataframe tbody tr th:only-of-type {\n",
       "        vertical-align: middle;\n",
       "    }\n",
       "\n",
       "    .dataframe tbody tr th {\n",
       "        vertical-align: top;\n",
       "    }\n",
       "\n",
       "    .dataframe thead th {\n",
       "        text-align: right;\n",
       "    }\n",
       "</style>\n",
       "<table border=\"1\" class=\"dataframe\">\n",
       "  <thead>\n",
       "    <tr style=\"text-align: right;\">\n",
       "      <th></th>\n",
       "      <th>review_id</th>\n",
       "      <th>book_id</th>\n",
       "      <th>username</th>\n",
       "      <th>text</th>\n",
       "    </tr>\n",
       "  </thead>\n",
       "  <tbody>\n",
       "    <tr>\n",
       "      <td>0</td>\n",
       "      <td>1</td>\n",
       "      <td>1</td>\n",
       "      <td>brandtandrea</td>\n",
       "      <td>Mention society tell send professor analysis. ...</td>\n",
       "    </tr>\n",
       "    <tr>\n",
       "      <td>1</td>\n",
       "      <td>2</td>\n",
       "      <td>1</td>\n",
       "      <td>ryanfranco</td>\n",
       "      <td>Foot glass pretty audience hit themselves. Amo...</td>\n",
       "    </tr>\n",
       "    <tr>\n",
       "      <td>2</td>\n",
       "      <td>3</td>\n",
       "      <td>2</td>\n",
       "      <td>lorichen</td>\n",
       "      <td>Listen treat keep worry. Miss husband tax but ...</td>\n",
       "    </tr>\n",
       "    <tr>\n",
       "      <td>3</td>\n",
       "      <td>4</td>\n",
       "      <td>3</td>\n",
       "      <td>johnsonamanda</td>\n",
       "      <td>Finally month interesting blue could nature cu...</td>\n",
       "    </tr>\n",
       "    <tr>\n",
       "      <td>4</td>\n",
       "      <td>5</td>\n",
       "      <td>3</td>\n",
       "      <td>scotttamara</td>\n",
       "      <td>Nation purpose heavy give wait song will. List...</td>\n",
       "    </tr>\n",
       "  </tbody>\n",
       "</table>\n",
       "</div>"
      ],
      "text/plain": [
       "   review_id  book_id       username  \\\n",
       "0          1        1   brandtandrea   \n",
       "1          2        1     ryanfranco   \n",
       "2          3        2       lorichen   \n",
       "3          4        3  johnsonamanda   \n",
       "4          5        3    scotttamara   \n",
       "\n",
       "                                                text  \n",
       "0  Mention society tell send professor analysis. ...  \n",
       "1  Foot glass pretty audience hit themselves. Amo...  \n",
       "2  Listen treat keep worry. Miss husband tax but ...  \n",
       "3  Finally month interesting blue could nature cu...  \n",
       "4  Nation purpose heavy give wait song will. List...  "
      ]
     },
     "execution_count": 8,
     "metadata": {},
     "output_type": "execute_result"
    }
   ],
   "source": [
    "#reading reviews\n",
    "\n",
    "\n",
    "query = 'SELECT * FROM reviews'\n",
    "\n",
    "reviews = pd.io.sql.read_sql(query, con = engine)\n",
    "reviews.head()"
   ]
  },
  {
   "cell_type": "markdown",
   "id": "a7046348",
   "metadata": {},
   "source": [
    "### Tasks"
   ]
  },
  {
   "cell_type": "code",
   "execution_count": 9,
   "id": "9f827dae",
   "metadata": {},
   "outputs": [
    {
     "name": "stdout",
     "output_type": "stream",
     "text": [
      "TASK 1 - Find the number of books released after January 1, 2000.\n",
      "\n",
      "   count\n",
      "0    819\n",
      "\n",
      "\n",
      "\n",
      "TASK 2 - Find the number of user reviews and the average rating for each book.\n",
      "\n",
      "                                   title  user_review  avg_rating\n",
      "0                Twilight (Twilight  #1)            7    3.662500\n",
      "1                               The Road            6    3.772727\n",
      "2                         The Book Thief            6    4.264151\n",
      "3                       The Glass Castle            6    4.206897\n",
      "4                    Water for Elephants            6    3.977273\n",
      "..                                   ...          ...         ...\n",
      "989    Naked Empire (Sword of Truth  #8)            1    3.500000\n",
      "990                  Moo  Baa  La La La!            1    3.000000\n",
      "991  Merrick (The Vampire Chronicles #7)            1    4.000000\n",
      "992                            Babyville            1    3.500000\n",
      "993                           Lysistrata            1    4.000000\n",
      "\n",
      "[994 rows x 3 columns]\n",
      "\n",
      "\n",
      "\n",
      "TASK 3 - Identify the publisher that has released the greatest number of books with more than 50 pages \n",
      "\n",
      "       publisher  count\n",
      "0  Penguin Books     42\n",
      "\n",
      "\n",
      "\n",
      "TASK 4 - Identify the author with the highest average book rating (look only at books with at least 50 ratings)\n",
      "\n",
      "                       author       avg\n",
      "0  J.K. Rowling/Mary GrandPré  4.288462\n",
      "\n",
      "\n",
      "\n",
      "TASK 5 - Find the average number of text reviews among users who rated more than 50 books\n",
      "\n",
      "         avg\n",
      "0  24.333333\n",
      "\n",
      "\n",
      "\n"
     ]
    }
   ],
   "source": [
    "query_list = {'TASK 1 - Find the number of books released after January 1, 2000.' : \"SELECT count(*) FROM books where publication_date > cast('2000-01-01' as date)\",\n",
    "             'TASK 2 - Find the number of user reviews and the average rating for each book.' : 'SELECT books.title, COUNT(DISTINCT review_id) as user_review, AVG(rating) as avg_rating from reviews INNER JOIN ratings on reviews.book_id = ratings.book_id INNER JOIN books ON books.book_id = reviews.book_id group by books.book_id ORDER BY user_review DESC ',\n",
    "             'TASK 3 - Identify the publisher that has released the greatest number of books with more than 50 pages ': '''SELECT  publisher,count(books.book_id) \n",
    "                FROM publishers INNER JOIN books ON publishers.publisher_id = books.publisher_id \n",
    "                WHERE books.num_pages > 50\n",
    "                GROUP BY publishers.publisher\n",
    "                ORDER BY COUNT(books.book_id) DESC \n",
    "                LIMIT 1''',\n",
    "              'TASK 4 - Identify the author with the highest average book rating (look only at books with at least 50 ratings)':\n",
    "                '''SELECT author, AVG(rating)\n",
    "                FROM books, authors, ratings\n",
    "                WHERE books.book_id = ratings.book_id\n",
    "                AND authors.author_id = books.author_id\n",
    "                group by authors.author\n",
    "                HAVING count(rating) > 50\n",
    "                LIMIT 1''',\n",
    "              'TASK 5 - Find the average number of text reviews among users who rated more than 50 books' : '''\n",
    "            SELECT AVG(count)\n",
    "            FROM(SELECT count(review_id)\n",
    "            FROM reviews \n",
    "            WHERE username in \n",
    "            (SELECT username from ratings\n",
    "            GROUP BY username\n",
    "            HAVING count(rating_id)>50)\n",
    "            GROUP BY username) a\n",
    "            '''}\n",
    "\n",
    "\n",
    "for key in query_list:\n",
    "    print(key)\n",
    "    print('')\n",
    "    print(pd.io.sql.read_sql(query_list[key], con = engine))\n",
    "    print('')\n",
    "    print('')\n",
    "    print('')"
   ]
  },
  {
   "cell_type": "markdown",
   "id": "3e4c69bf",
   "metadata": {},
   "source": [
    "### Conclusion\n",
    "\n",
    "- There were a total of 819 books released after jan 1st 2000\n",
    "- The number of user reviews and the average rating for each book was found. Books should be considered in a way that both the user reviews as well as rating is more\n",
    "- Penguin Books is the publisher that released the greatest number of books consisting of more than 50 pages\n",
    "- There are a total of 43 authors who have equally the highest average rating for their books \n",
    "- The average number of text reviews among those users who rated more than 50 books is 24.33"
   ]
  },
  {
   "cell_type": "code",
   "execution_count": null,
   "id": "523be739",
   "metadata": {},
   "outputs": [],
   "source": []
  }
 ],
 "metadata": {
  "ExecuteTimeLog": [
   {
    "duration": 2405,
    "start_time": "2021-07-08T16:04:12.244Z"
   },
   {
    "duration": 597,
    "start_time": "2021-07-08T16:04:14.651Z"
   },
   {
    "duration": 23,
    "start_time": "2021-07-08T16:04:15.250Z"
   },
   {
    "duration": 273,
    "start_time": "2021-07-08T16:04:15.274Z"
   },
   {
    "duration": 68,
    "start_time": "2021-07-08T16:04:15.549Z"
   },
   {
    "duration": 68,
    "start_time": "2021-07-08T16:04:15.619Z"
   },
   {
    "duration": 98,
    "start_time": "2021-07-08T16:04:15.688Z"
   },
   {
    "duration": 83,
    "start_time": "2021-07-08T16:04:15.788Z"
   },
   {
    "duration": 349,
    "start_time": "2021-07-08T16:04:15.873Z"
   },
   {
    "duration": 114,
    "start_time": "2021-07-08T16:04:16.224Z"
   },
   {
    "duration": 99,
    "start_time": "2021-07-08T16:04:58.370Z"
   },
   {
    "duration": 99,
    "start_time": "2021-07-08T16:05:11.260Z"
   },
   {
    "duration": 101,
    "start_time": "2021-07-08T16:05:40.993Z"
   },
   {
    "duration": 390,
    "start_time": "2021-07-08T16:07:00.502Z"
   },
   {
    "duration": 317,
    "start_time": "2021-07-08T16:07:18.868Z"
   },
   {
    "duration": 102,
    "start_time": "2021-07-08T16:07:36.992Z"
   },
   {
    "duration": 387,
    "start_time": "2021-07-08T16:10:59.978Z"
   },
   {
    "duration": 253,
    "start_time": "2021-07-08T16:14:25.903Z"
   },
   {
    "duration": 812,
    "start_time": "2021-07-08T16:14:31.938Z"
   },
   {
    "duration": 25,
    "start_time": "2021-07-08T16:14:44.778Z"
   },
   {
    "duration": 24,
    "start_time": "2021-07-08T16:15:17.187Z"
   },
   {
    "duration": 8,
    "start_time": "2021-07-08T16:16:01.152Z"
   },
   {
    "duration": 6,
    "start_time": "2021-07-08T16:16:07.414Z"
   },
   {
    "duration": 6,
    "start_time": "2021-07-08T16:16:10.574Z"
   },
   {
    "duration": 259,
    "start_time": "2021-07-08T16:16:16.788Z"
   },
   {
    "duration": 6,
    "start_time": "2021-07-08T16:16:40.256Z"
   },
   {
    "duration": 7,
    "start_time": "2021-07-08T16:16:59.885Z"
   },
   {
    "duration": 8,
    "start_time": "2021-07-08T16:17:26.985Z"
   },
   {
    "duration": 4,
    "start_time": "2021-07-08T16:17:34.984Z"
   },
   {
    "duration": 10,
    "start_time": "2021-07-08T16:17:42.448Z"
   },
   {
    "duration": 8,
    "start_time": "2021-07-08T16:17:51.695Z"
   },
   {
    "duration": 7,
    "start_time": "2021-07-08T16:32:03.465Z"
   },
   {
    "duration": 8,
    "start_time": "2021-07-08T16:32:08.124Z"
   },
   {
    "duration": 5,
    "start_time": "2021-07-08T16:32:12.120Z"
   },
   {
    "duration": 285,
    "start_time": "2021-07-08T16:32:22.594Z"
   },
   {
    "duration": 4,
    "start_time": "2021-07-08T16:32:35.555Z"
   },
   {
    "duration": 17,
    "start_time": "2021-07-08T16:32:37.240Z"
   },
   {
    "duration": 4,
    "start_time": "2021-07-08T16:32:41.017Z"
   },
   {
    "duration": 9,
    "start_time": "2021-07-08T16:33:26.138Z"
   },
   {
    "duration": 8,
    "start_time": "2021-07-08T16:33:41.910Z"
   },
   {
    "duration": 8,
    "start_time": "2021-07-08T16:34:21.330Z"
   },
   {
    "duration": 320,
    "start_time": "2021-07-08T16:40:36.795Z"
   },
   {
    "duration": 317,
    "start_time": "2021-07-08T16:40:57.353Z"
   },
   {
    "duration": 74,
    "start_time": "2021-07-08T16:41:10.483Z"
   },
   {
    "duration": 74,
    "start_time": "2021-07-08T16:41:22.876Z"
   },
   {
    "duration": 2025,
    "start_time": "2021-07-08T16:42:20.846Z"
   },
   {
    "duration": 598,
    "start_time": "2021-07-08T16:42:22.873Z"
   },
   {
    "duration": 23,
    "start_time": "2021-07-08T16:42:23.473Z"
   },
   {
    "duration": 287,
    "start_time": "2021-07-08T16:42:23.497Z"
   },
   {
    "duration": 76,
    "start_time": "2021-07-08T16:42:23.786Z"
   },
   {
    "duration": 74,
    "start_time": "2021-07-08T16:42:23.864Z"
   },
   {
    "duration": 110,
    "start_time": "2021-07-08T16:42:23.939Z"
   },
   {
    "duration": 88,
    "start_time": "2021-07-08T16:42:24.051Z"
   },
   {
    "duration": 362,
    "start_time": "2021-07-08T16:42:24.142Z"
   },
   {
    "duration": 386,
    "start_time": "2021-07-08T16:42:47.768Z"
   },
   {
    "duration": 390,
    "start_time": "2021-07-08T16:42:57.158Z"
   },
   {
    "duration": 387,
    "start_time": "2021-07-08T16:43:12.094Z"
   },
   {
    "duration": 4026,
    "start_time": "2021-07-08T23:29:07.480Z"
   },
   {
    "duration": 802,
    "start_time": "2021-07-08T23:29:11.510Z"
   },
   {
    "duration": 415,
    "start_time": "2021-07-08T23:29:12.314Z"
   },
   {
    "duration": 156,
    "start_time": "2021-07-08T23:29:12.732Z"
   },
   {
    "duration": 16,
    "start_time": "2021-07-08T23:29:12.891Z"
   },
   {
    "duration": 15,
    "start_time": "2021-07-08T23:29:12.909Z"
   },
   {
    "duration": 58,
    "start_time": "2021-07-08T23:29:12.927Z"
   },
   {
    "duration": 26,
    "start_time": "2021-07-08T23:29:12.989Z"
   },
   {
    "duration": 63,
    "start_time": "2021-07-08T23:29:13.018Z"
   },
   {
    "duration": 3621,
    "start_time": "2021-07-17T10:15:29.889Z"
   },
   {
    "duration": 801,
    "start_time": "2021-07-17T10:15:33.513Z"
   },
   {
    "duration": 46,
    "start_time": "2021-07-17T10:15:34.317Z"
   },
   {
    "duration": 257,
    "start_time": "2021-07-17T10:15:34.366Z"
   },
   {
    "duration": 67,
    "start_time": "2021-07-17T10:15:34.626Z"
   },
   {
    "duration": 70,
    "start_time": "2021-07-17T10:15:34.695Z"
   },
   {
    "duration": 106,
    "start_time": "2021-07-17T10:15:34.768Z"
   },
   {
    "duration": 83,
    "start_time": "2021-07-17T10:15:34.877Z"
   },
   {
    "duration": 316,
    "start_time": "2021-07-17T10:15:34.963Z"
   }
  ],
  "kernelspec": {
   "display_name": "Python 3",
   "language": "python",
   "name": "python3"
  },
  "language_info": {
   "codemirror_mode": {
    "name": "ipython",
    "version": 3
   },
   "file_extension": ".py",
   "mimetype": "text/x-python",
   "name": "python",
   "nbconvert_exporter": "python",
   "pygments_lexer": "ipython3",
   "version": "3.8.8"
  },
  "toc": {
   "base_numbering": 1,
   "nav_menu": {},
   "number_sections": true,
   "sideBar": true,
   "skip_h1_title": true,
   "title_cell": "Table of Contents",
   "title_sidebar": "Contents",
   "toc_cell": false,
   "toc_position": {},
   "toc_section_display": true,
   "toc_window_display": false
  }
 },
 "nbformat": 4,
 "nbformat_minor": 5
}
