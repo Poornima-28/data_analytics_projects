{
 "cells": [
  {
   "cell_type": "markdown",
   "metadata": {},
   "source": [
    "# Project Description \n",
    "\n",
    "A new function is being developed by the virtual telephony service ‘CallMeMaybe’ that gives information to the supervisors about ineffective operators. An operators is considered to be ineffective if they have many missed call or long waiting times in additions to less outgoing calls\n",
    "\n",
    "\n",
    "**Task : Find the ineffective operators based on incoming / outgoing calls and waiting times**"
   ]
  },
  {
   "cell_type": "markdown",
   "metadata": {},
   "source": [
    "### Data Description \n",
    "\n",
    "\n",
    "<br>\n",
    "\n",
    "**telecom_dataset_us.csv:**\n",
    "- `user_id` — client account ID\n",
    "- `date` — date the statistics were retrieved\n",
    "- `direction` — call direction (`out` for outgoing, `in` for incoming)\n",
    "- `internal` — whether the call was internal (between a client's operators)\n",
    "- `operator_id` — operator identifier\n",
    "- `is_missed_call` — whether the call was missed\n",
    "- `calls_count` — number of calls\n",
    "- `call_duration` — call duration (excluding waiting time)\n",
    "- `total_call_duration` — call duration (including waiting time)\n",
    "\n",
    "<br>\n",
    "\n",
    "**telecom_clients_us.csv:**\n",
    "- `user_id`\n",
    "- `tariff_plan` — client's current plan\n",
    "- `date_start` — client's registration date"
   ]
  },
  {
   "cell_type": "markdown",
   "metadata": {},
   "source": [
    "### **CONTENTS:**\n",
    "\n",
    "<br>\n",
    "\n",
    "**STEP 1: DATA PREPROCESSING**\n",
    "1. Check for column name correctness\n",
    "2. Change the datatype wherever necessary \n",
    "3. Check for duplicates \n",
    "4. Check for missing values and fill in missing values if necessary\n",
    "5. Check for incorrectness of the data values\n",
    "6. Categorize the data if necessary\n",
    "7. Add additional columns if necessary\n",
    "8. Extract month, week and day from the date column \n",
    "\n",
    "<br>\n",
    "\n",
    "**STEP 2: EXPLORATORY DATA ANALYSIS**\n",
    "1. Find the number of clients and operators in the dataset\n",
    "2. Plot the number of clients registered on each day\n",
    "3. Plot the frequency of the operator usage on each day\n",
    "4. Plot the share of outgoing calls vs incoming calls \n",
    "5. Plot the share of internal vs external calls\n",
    "6. Plot the share of missed calls vs attended calls\n",
    "7. Find the top 10 clients based on their calls \n",
    "8. Find the top 10 operators being used by clients\n",
    "9. Find the average number of calls made for each plan \n",
    "10.Find the operators with max and min average waiting time\n",
    "11. Find PLan that has more call counts and duration\n",
    "\n",
    "<br>\n",
    "\n",
    "**STEP 3: ANALYSE THE DATA**\n",
    "\n",
    "- For each client:\n",
    "    1. Find the list of operators they use and its count\n",
    "\n",
    "\n",
    "- For each operator:\n",
    "    1. Find The number of incoming, outgoing ,missed calls and waiting time in a month \n",
    "    2. Find the monthly call duration \n",
    "    3. Find the number of interanl and external calls made in a month\n",
    "    4. Find the plan for which the operator is used the most \n",
    "    \n",
    "<br>\n",
    "\n",
    "**STEP 4 : IDENTIFYING INEFFECTIVE OPERATORS:**\n",
    "\n",
    "- A threshold is set for each metric to identify effective and ineffective operator \n",
    "- An operator is considered to be ineffective if it meets all or atleast 2 of the following conditions:\n",
    "    1. the number of missed calls / incoming calls is above 65% of the total missed/incoming calls\n",
    "    2. the number of outgoing calls is below 35% of the total outgoing call \n",
    "    3. the wait duration is above 65% of the total wait durations \n",
    "\n",
    "\n",
    "<br>\n",
    "\n",
    "**STEP 5 : HYPOTHESIS TESTING**\n",
    "- Daily call duration for effective operator is more than that of ineffective operator's Daily call duration \n",
    "\n",
    "\n",
    "<br>\n",
    "\n",
    "**STEP 6 : OVERALL CONCLUSION**\n",
    "\n",
    "\n",
    "PS: Please provide some suggestions if something is to be included or something you feel is important for me to analyse"
   ]
  },
  {
   "cell_type": "code",
   "execution_count": 1,
   "metadata": {},
   "outputs": [],
   "source": [
    "#importing libraries\n",
    "\n",
    "import pandas as pd\n",
    "import numpy as np\n",
    "import matplotlib.pyplot as plt \n",
    "import seaborn as sns\n",
    "import random\n",
    "import datetime as dt\n",
    "from scipy.stats import ttest_ind\n",
    "from scipy.stats import ttest_rel\n",
    "\n",
    "from pandas.plotting import register_matplotlib_converters\n",
    "register_matplotlib_converters()\n",
    "pd.options.display.max_colwidth = 100\n",
    "\n",
    "#plt.style.use('dark_background')"
   ]
  },
  {
   "cell_type": "code",
   "execution_count": 2,
   "metadata": {},
   "outputs": [
    {
     "data": {
      "text/html": [
       "<div>\n",
       "<style scoped>\n",
       "    .dataframe tbody tr th:only-of-type {\n",
       "        vertical-align: middle;\n",
       "    }\n",
       "\n",
       "    .dataframe tbody tr th {\n",
       "        vertical-align: top;\n",
       "    }\n",
       "\n",
       "    .dataframe thead th {\n",
       "        text-align: right;\n",
       "    }\n",
       "</style>\n",
       "<table border=\"1\" class=\"dataframe\">\n",
       "  <thead>\n",
       "    <tr style=\"text-align: right;\">\n",
       "      <th></th>\n",
       "      <th>user_id</th>\n",
       "      <th>date</th>\n",
       "      <th>direction</th>\n",
       "      <th>internal</th>\n",
       "      <th>operator_id</th>\n",
       "      <th>is_missed_call</th>\n",
       "      <th>calls_count</th>\n",
       "      <th>call_duration</th>\n",
       "      <th>total_call_duration</th>\n",
       "    </tr>\n",
       "  </thead>\n",
       "  <tbody>\n",
       "    <tr>\n",
       "      <th>0</th>\n",
       "      <td>166377</td>\n",
       "      <td>2019-08-04 00:00:00+03:00</td>\n",
       "      <td>in</td>\n",
       "      <td>False</td>\n",
       "      <td>NaN</td>\n",
       "      <td>True</td>\n",
       "      <td>2</td>\n",
       "      <td>0</td>\n",
       "      <td>4</td>\n",
       "    </tr>\n",
       "    <tr>\n",
       "      <th>1</th>\n",
       "      <td>166377</td>\n",
       "      <td>2019-08-05 00:00:00+03:00</td>\n",
       "      <td>out</td>\n",
       "      <td>True</td>\n",
       "      <td>880022.0</td>\n",
       "      <td>True</td>\n",
       "      <td>3</td>\n",
       "      <td>0</td>\n",
       "      <td>5</td>\n",
       "    </tr>\n",
       "    <tr>\n",
       "      <th>2</th>\n",
       "      <td>166377</td>\n",
       "      <td>2019-08-05 00:00:00+03:00</td>\n",
       "      <td>out</td>\n",
       "      <td>True</td>\n",
       "      <td>880020.0</td>\n",
       "      <td>True</td>\n",
       "      <td>1</td>\n",
       "      <td>0</td>\n",
       "      <td>1</td>\n",
       "    </tr>\n",
       "    <tr>\n",
       "      <th>3</th>\n",
       "      <td>166377</td>\n",
       "      <td>2019-08-05 00:00:00+03:00</td>\n",
       "      <td>out</td>\n",
       "      <td>True</td>\n",
       "      <td>880020.0</td>\n",
       "      <td>False</td>\n",
       "      <td>1</td>\n",
       "      <td>10</td>\n",
       "      <td>18</td>\n",
       "    </tr>\n",
       "    <tr>\n",
       "      <th>4</th>\n",
       "      <td>166377</td>\n",
       "      <td>2019-08-05 00:00:00+03:00</td>\n",
       "      <td>out</td>\n",
       "      <td>False</td>\n",
       "      <td>880022.0</td>\n",
       "      <td>True</td>\n",
       "      <td>3</td>\n",
       "      <td>0</td>\n",
       "      <td>25</td>\n",
       "    </tr>\n",
       "  </tbody>\n",
       "</table>\n",
       "</div>"
      ],
      "text/plain": [
       "   user_id                       date direction internal  operator_id  \\\n",
       "0   166377  2019-08-04 00:00:00+03:00        in    False          NaN   \n",
       "1   166377  2019-08-05 00:00:00+03:00       out     True     880022.0   \n",
       "2   166377  2019-08-05 00:00:00+03:00       out     True     880020.0   \n",
       "3   166377  2019-08-05 00:00:00+03:00       out     True     880020.0   \n",
       "4   166377  2019-08-05 00:00:00+03:00       out    False     880022.0   \n",
       "\n",
       "   is_missed_call  calls_count  call_duration  total_call_duration  \n",
       "0            True            2              0                    4  \n",
       "1            True            3              0                    5  \n",
       "2            True            1              0                    1  \n",
       "3           False            1             10                   18  \n",
       "4            True            3              0                   25  "
      ]
     },
     "execution_count": 2,
     "metadata": {},
     "output_type": "execute_result"
    }
   ],
   "source": [
    "#reading data\n",
    "\n",
    "operator = pd.read_csv('telecom_dataset_us.csv', na_values = ' ')\n",
    "operator.head()"
   ]
  },
  {
   "cell_type": "code",
   "execution_count": 3,
   "metadata": {},
   "outputs": [
    {
     "data": {
      "text/html": [
       "<div>\n",
       "<style scoped>\n",
       "    .dataframe tbody tr th:only-of-type {\n",
       "        vertical-align: middle;\n",
       "    }\n",
       "\n",
       "    .dataframe tbody tr th {\n",
       "        vertical-align: top;\n",
       "    }\n",
       "\n",
       "    .dataframe thead th {\n",
       "        text-align: right;\n",
       "    }\n",
       "</style>\n",
       "<table border=\"1\" class=\"dataframe\">\n",
       "  <thead>\n",
       "    <tr style=\"text-align: right;\">\n",
       "      <th></th>\n",
       "      <th>user_id</th>\n",
       "      <th>tariff_plan</th>\n",
       "      <th>date_start</th>\n",
       "    </tr>\n",
       "  </thead>\n",
       "  <tbody>\n",
       "    <tr>\n",
       "      <th>0</th>\n",
       "      <td>166713</td>\n",
       "      <td>A</td>\n",
       "      <td>2019-08-15</td>\n",
       "    </tr>\n",
       "    <tr>\n",
       "      <th>1</th>\n",
       "      <td>166901</td>\n",
       "      <td>A</td>\n",
       "      <td>2019-08-23</td>\n",
       "    </tr>\n",
       "    <tr>\n",
       "      <th>2</th>\n",
       "      <td>168527</td>\n",
       "      <td>A</td>\n",
       "      <td>2019-10-29</td>\n",
       "    </tr>\n",
       "    <tr>\n",
       "      <th>3</th>\n",
       "      <td>167097</td>\n",
       "      <td>A</td>\n",
       "      <td>2019-09-01</td>\n",
       "    </tr>\n",
       "    <tr>\n",
       "      <th>4</th>\n",
       "      <td>168193</td>\n",
       "      <td>A</td>\n",
       "      <td>2019-10-16</td>\n",
       "    </tr>\n",
       "  </tbody>\n",
       "</table>\n",
       "</div>"
      ],
      "text/plain": [
       "   user_id tariff_plan  date_start\n",
       "0   166713           A  2019-08-15\n",
       "1   166901           A  2019-08-23\n",
       "2   168527           A  2019-10-29\n",
       "3   167097           A  2019-09-01\n",
       "4   168193           A  2019-10-16"
      ]
     },
     "execution_count": 3,
     "metadata": {},
     "output_type": "execute_result"
    }
   ],
   "source": [
    "clients = pd.read_csv('telecom_clients_us.csv', na_values = ' ')\n",
    "clients.head()"
   ]
  },
  {
   "cell_type": "code",
   "execution_count": 4,
   "metadata": {},
   "outputs": [
    {
     "data": {
      "text/plain": [
       "[(53902, 9), (732, 3)]"
      ]
     },
     "execution_count": 4,
     "metadata": {},
     "output_type": "execute_result"
    }
   ],
   "source": [
    "[operator.shape, clients.shape]"
   ]
  },
  {
   "cell_type": "code",
   "execution_count": 5,
   "metadata": {},
   "outputs": [
    {
     "name": "stdout",
     "output_type": "stream",
     "text": [
      "<class 'pandas.core.frame.DataFrame'>\n",
      "RangeIndex: 53902 entries, 0 to 53901\n",
      "Data columns (total 9 columns):\n",
      " #   Column               Non-Null Count  Dtype  \n",
      "---  ------               --------------  -----  \n",
      " 0   user_id              53902 non-null  int64  \n",
      " 1   date                 53902 non-null  object \n",
      " 2   direction            53902 non-null  object \n",
      " 3   internal             53785 non-null  object \n",
      " 4   operator_id          45730 non-null  float64\n",
      " 5   is_missed_call       53902 non-null  bool   \n",
      " 6   calls_count          53902 non-null  int64  \n",
      " 7   call_duration        53902 non-null  int64  \n",
      " 8   total_call_duration  53902 non-null  int64  \n",
      "dtypes: bool(1), float64(1), int64(4), object(3)\n",
      "memory usage: 3.3+ MB\n"
     ]
    }
   ],
   "source": [
    "# General information \n",
    "\n",
    "operator.info()"
   ]
  },
  {
   "cell_type": "code",
   "execution_count": 6,
   "metadata": {},
   "outputs": [
    {
     "name": "stdout",
     "output_type": "stream",
     "text": [
      "<class 'pandas.core.frame.DataFrame'>\n",
      "RangeIndex: 732 entries, 0 to 731\n",
      "Data columns (total 3 columns):\n",
      " #   Column       Non-Null Count  Dtype \n",
      "---  ------       --------------  ----- \n",
      " 0   user_id      732 non-null    int64 \n",
      " 1   tariff_plan  732 non-null    object\n",
      " 2   date_start   732 non-null    object\n",
      "dtypes: int64(1), object(2)\n",
      "memory usage: 17.3+ KB\n"
     ]
    }
   ],
   "source": [
    "clients.info()"
   ]
  },
  {
   "cell_type": "code",
   "execution_count": 7,
   "metadata": {},
   "outputs": [
    {
     "data": {
      "text/html": [
       "<div>\n",
       "<style scoped>\n",
       "    .dataframe tbody tr th:only-of-type {\n",
       "        vertical-align: middle;\n",
       "    }\n",
       "\n",
       "    .dataframe tbody tr th {\n",
       "        vertical-align: top;\n",
       "    }\n",
       "\n",
       "    .dataframe thead th {\n",
       "        text-align: right;\n",
       "    }\n",
       "</style>\n",
       "<table border=\"1\" class=\"dataframe\">\n",
       "  <thead>\n",
       "    <tr style=\"text-align: right;\">\n",
       "      <th></th>\n",
       "      <th>user_id</th>\n",
       "      <th>date</th>\n",
       "      <th>direction</th>\n",
       "      <th>internal</th>\n",
       "      <th>operator_id</th>\n",
       "      <th>is_missed_call</th>\n",
       "      <th>calls_count</th>\n",
       "      <th>call_duration</th>\n",
       "      <th>total_call_duration</th>\n",
       "    </tr>\n",
       "  </thead>\n",
       "  <tbody>\n",
       "    <tr>\n",
       "      <th>count</th>\n",
       "      <td>53902.000000</td>\n",
       "      <td>53902</td>\n",
       "      <td>53902</td>\n",
       "      <td>53785</td>\n",
       "      <td>45730.000000</td>\n",
       "      <td>53902</td>\n",
       "      <td>53902.000000</td>\n",
       "      <td>53902.000000</td>\n",
       "      <td>53902.000000</td>\n",
       "    </tr>\n",
       "    <tr>\n",
       "      <th>unique</th>\n",
       "      <td>NaN</td>\n",
       "      <td>119</td>\n",
       "      <td>2</td>\n",
       "      <td>2</td>\n",
       "      <td>NaN</td>\n",
       "      <td>2</td>\n",
       "      <td>NaN</td>\n",
       "      <td>NaN</td>\n",
       "      <td>NaN</td>\n",
       "    </tr>\n",
       "    <tr>\n",
       "      <th>top</th>\n",
       "      <td>NaN</td>\n",
       "      <td>2019-11-25 00:00:00+03:00</td>\n",
       "      <td>out</td>\n",
       "      <td>False</td>\n",
       "      <td>NaN</td>\n",
       "      <td>False</td>\n",
       "      <td>NaN</td>\n",
       "      <td>NaN</td>\n",
       "      <td>NaN</td>\n",
       "    </tr>\n",
       "    <tr>\n",
       "      <th>freq</th>\n",
       "      <td>NaN</td>\n",
       "      <td>1220</td>\n",
       "      <td>31917</td>\n",
       "      <td>47621</td>\n",
       "      <td>NaN</td>\n",
       "      <td>30334</td>\n",
       "      <td>NaN</td>\n",
       "      <td>NaN</td>\n",
       "      <td>NaN</td>\n",
       "    </tr>\n",
       "    <tr>\n",
       "      <th>mean</th>\n",
       "      <td>167295.344477</td>\n",
       "      <td>NaN</td>\n",
       "      <td>NaN</td>\n",
       "      <td>NaN</td>\n",
       "      <td>916535.993002</td>\n",
       "      <td>NaN</td>\n",
       "      <td>16.451245</td>\n",
       "      <td>866.684427</td>\n",
       "      <td>1157.133297</td>\n",
       "    </tr>\n",
       "    <tr>\n",
       "      <th>std</th>\n",
       "      <td>598.883775</td>\n",
       "      <td>NaN</td>\n",
       "      <td>NaN</td>\n",
       "      <td>NaN</td>\n",
       "      <td>21254.123136</td>\n",
       "      <td>NaN</td>\n",
       "      <td>62.917170</td>\n",
       "      <td>3731.791202</td>\n",
       "      <td>4403.468763</td>\n",
       "    </tr>\n",
       "    <tr>\n",
       "      <th>min</th>\n",
       "      <td>166377.000000</td>\n",
       "      <td>NaN</td>\n",
       "      <td>NaN</td>\n",
       "      <td>NaN</td>\n",
       "      <td>879896.000000</td>\n",
       "      <td>NaN</td>\n",
       "      <td>1.000000</td>\n",
       "      <td>0.000000</td>\n",
       "      <td>0.000000</td>\n",
       "    </tr>\n",
       "    <tr>\n",
       "      <th>25%</th>\n",
       "      <td>166782.000000</td>\n",
       "      <td>NaN</td>\n",
       "      <td>NaN</td>\n",
       "      <td>NaN</td>\n",
       "      <td>900788.000000</td>\n",
       "      <td>NaN</td>\n",
       "      <td>1.000000</td>\n",
       "      <td>0.000000</td>\n",
       "      <td>47.000000</td>\n",
       "    </tr>\n",
       "    <tr>\n",
       "      <th>50%</th>\n",
       "      <td>167162.000000</td>\n",
       "      <td>NaN</td>\n",
       "      <td>NaN</td>\n",
       "      <td>NaN</td>\n",
       "      <td>913938.000000</td>\n",
       "      <td>NaN</td>\n",
       "      <td>4.000000</td>\n",
       "      <td>38.000000</td>\n",
       "      <td>210.000000</td>\n",
       "    </tr>\n",
       "    <tr>\n",
       "      <th>75%</th>\n",
       "      <td>167819.000000</td>\n",
       "      <td>NaN</td>\n",
       "      <td>NaN</td>\n",
       "      <td>NaN</td>\n",
       "      <td>937708.000000</td>\n",
       "      <td>NaN</td>\n",
       "      <td>12.000000</td>\n",
       "      <td>572.000000</td>\n",
       "      <td>902.000000</td>\n",
       "    </tr>\n",
       "    <tr>\n",
       "      <th>max</th>\n",
       "      <td>168606.000000</td>\n",
       "      <td>NaN</td>\n",
       "      <td>NaN</td>\n",
       "      <td>NaN</td>\n",
       "      <td>973286.000000</td>\n",
       "      <td>NaN</td>\n",
       "      <td>4817.000000</td>\n",
       "      <td>144395.000000</td>\n",
       "      <td>166155.000000</td>\n",
       "    </tr>\n",
       "  </tbody>\n",
       "</table>\n",
       "</div>"
      ],
      "text/plain": [
       "              user_id                       date direction internal  \\\n",
       "count    53902.000000                      53902     53902    53785   \n",
       "unique            NaN                        119         2        2   \n",
       "top               NaN  2019-11-25 00:00:00+03:00       out    False   \n",
       "freq              NaN                       1220     31917    47621   \n",
       "mean    167295.344477                        NaN       NaN      NaN   \n",
       "std        598.883775                        NaN       NaN      NaN   \n",
       "min     166377.000000                        NaN       NaN      NaN   \n",
       "25%     166782.000000                        NaN       NaN      NaN   \n",
       "50%     167162.000000                        NaN       NaN      NaN   \n",
       "75%     167819.000000                        NaN       NaN      NaN   \n",
       "max     168606.000000                        NaN       NaN      NaN   \n",
       "\n",
       "          operator_id is_missed_call   calls_count  call_duration  \\\n",
       "count    45730.000000          53902  53902.000000   53902.000000   \n",
       "unique            NaN              2           NaN            NaN   \n",
       "top               NaN          False           NaN            NaN   \n",
       "freq              NaN          30334           NaN            NaN   \n",
       "mean    916535.993002            NaN     16.451245     866.684427   \n",
       "std      21254.123136            NaN     62.917170    3731.791202   \n",
       "min     879896.000000            NaN      1.000000       0.000000   \n",
       "25%     900788.000000            NaN      1.000000       0.000000   \n",
       "50%     913938.000000            NaN      4.000000      38.000000   \n",
       "75%     937708.000000            NaN     12.000000     572.000000   \n",
       "max     973286.000000            NaN   4817.000000  144395.000000   \n",
       "\n",
       "        total_call_duration  \n",
       "count          53902.000000  \n",
       "unique                  NaN  \n",
       "top                     NaN  \n",
       "freq                    NaN  \n",
       "mean            1157.133297  \n",
       "std             4403.468763  \n",
       "min                0.000000  \n",
       "25%               47.000000  \n",
       "50%              210.000000  \n",
       "75%              902.000000  \n",
       "max           166155.000000  "
      ]
     },
     "execution_count": 7,
     "metadata": {},
     "output_type": "execute_result"
    }
   ],
   "source": [
    "# Descriptive statistics\n",
    "\n",
    "operator.describe(include = 'all')"
   ]
  },
  {
   "cell_type": "code",
   "execution_count": 8,
   "metadata": {
    "scrolled": true
   },
   "outputs": [
    {
     "data": {
      "text/html": [
       "<div>\n",
       "<style scoped>\n",
       "    .dataframe tbody tr th:only-of-type {\n",
       "        vertical-align: middle;\n",
       "    }\n",
       "\n",
       "    .dataframe tbody tr th {\n",
       "        vertical-align: top;\n",
       "    }\n",
       "\n",
       "    .dataframe thead th {\n",
       "        text-align: right;\n",
       "    }\n",
       "</style>\n",
       "<table border=\"1\" class=\"dataframe\">\n",
       "  <thead>\n",
       "    <tr style=\"text-align: right;\">\n",
       "      <th></th>\n",
       "      <th>user_id</th>\n",
       "      <th>tariff_plan</th>\n",
       "      <th>date_start</th>\n",
       "    </tr>\n",
       "  </thead>\n",
       "  <tbody>\n",
       "    <tr>\n",
       "      <th>count</th>\n",
       "      <td>732.000000</td>\n",
       "      <td>732</td>\n",
       "      <td>732</td>\n",
       "    </tr>\n",
       "    <tr>\n",
       "      <th>unique</th>\n",
       "      <td>NaN</td>\n",
       "      <td>3</td>\n",
       "      <td>73</td>\n",
       "    </tr>\n",
       "    <tr>\n",
       "      <th>top</th>\n",
       "      <td>NaN</td>\n",
       "      <td>C</td>\n",
       "      <td>2019-09-24</td>\n",
       "    </tr>\n",
       "    <tr>\n",
       "      <th>freq</th>\n",
       "      <td>NaN</td>\n",
       "      <td>395</td>\n",
       "      <td>24</td>\n",
       "    </tr>\n",
       "    <tr>\n",
       "      <th>mean</th>\n",
       "      <td>167431.927596</td>\n",
       "      <td>NaN</td>\n",
       "      <td>NaN</td>\n",
       "    </tr>\n",
       "    <tr>\n",
       "      <th>std</th>\n",
       "      <td>633.810383</td>\n",
       "      <td>NaN</td>\n",
       "      <td>NaN</td>\n",
       "    </tr>\n",
       "    <tr>\n",
       "      <th>min</th>\n",
       "      <td>166373.000000</td>\n",
       "      <td>NaN</td>\n",
       "      <td>NaN</td>\n",
       "    </tr>\n",
       "    <tr>\n",
       "      <th>25%</th>\n",
       "      <td>166900.750000</td>\n",
       "      <td>NaN</td>\n",
       "      <td>NaN</td>\n",
       "    </tr>\n",
       "    <tr>\n",
       "      <th>50%</th>\n",
       "      <td>167432.000000</td>\n",
       "      <td>NaN</td>\n",
       "      <td>NaN</td>\n",
       "    </tr>\n",
       "    <tr>\n",
       "      <th>75%</th>\n",
       "      <td>167973.000000</td>\n",
       "      <td>NaN</td>\n",
       "      <td>NaN</td>\n",
       "    </tr>\n",
       "    <tr>\n",
       "      <th>max</th>\n",
       "      <td>168606.000000</td>\n",
       "      <td>NaN</td>\n",
       "      <td>NaN</td>\n",
       "    </tr>\n",
       "  </tbody>\n",
       "</table>\n",
       "</div>"
      ],
      "text/plain": [
       "              user_id tariff_plan  date_start\n",
       "count      732.000000         732         732\n",
       "unique            NaN           3          73\n",
       "top               NaN           C  2019-09-24\n",
       "freq              NaN         395          24\n",
       "mean    167431.927596         NaN         NaN\n",
       "std        633.810383         NaN         NaN\n",
       "min     166373.000000         NaN         NaN\n",
       "25%     166900.750000         NaN         NaN\n",
       "50%     167432.000000         NaN         NaN\n",
       "75%     167973.000000         NaN         NaN\n",
       "max     168606.000000         NaN         NaN"
      ]
     },
     "execution_count": 8,
     "metadata": {},
     "output_type": "execute_result"
    }
   ],
   "source": [
    "clients.describe(include = 'all')"
   ]
  },
  {
   "cell_type": "markdown",
   "metadata": {},
   "source": [
    "### Data Preprocessing "
   ]
  },
  {
   "cell_type": "markdown",
   "metadata": {},
   "source": [
    "**Missing Values**"
   ]
  },
  {
   "cell_type": "code",
   "execution_count": 9,
   "metadata": {},
   "outputs": [
    {
     "data": {
      "text/plain": [
       "user_id                   0\n",
       "date                      0\n",
       "direction                 0\n",
       "internal                117\n",
       "operator_id            8172\n",
       "is_missed_call            0\n",
       "calls_count               0\n",
       "call_duration             0\n",
       "total_call_duration       0\n",
       "dtype: int64"
      ]
     },
     "execution_count": 9,
     "metadata": {},
     "output_type": "execute_result"
    }
   ],
   "source": [
    "#Check for missing values \n",
    "\n",
    "operator.isnull().sum()"
   ]
  },
  {
   "cell_type": "code",
   "execution_count": 10,
   "metadata": {},
   "outputs": [
    {
     "data": {
      "text/plain": [
       "user_id        0\n",
       "tariff_plan    0\n",
       "date_start     0\n",
       "dtype: int64"
      ]
     },
     "execution_count": 10,
     "metadata": {},
     "output_type": "execute_result"
    }
   ],
   "source": [
    "clients.isnull().sum()"
   ]
  },
  {
   "cell_type": "markdown",
   "metadata": {},
   "source": [
    "> - operator data consists of some missing values in operator_id and internal columns whereas the clients data has no missing values \n",
    "> - The missing value in operator_id column in missing completely at random. So, the values can be replaced with 0\n",
    "> - The missing values in interanl column in missing completely at random. So this can be filled by taking the mode or the rows can also be dropped since the proportion of missing values to the total rows is very less"
   ]
  },
  {
   "cell_type": "code",
   "execution_count": 11,
   "metadata": {},
   "outputs": [],
   "source": [
    "# filling missing values in operator_id \n",
    "\n",
    "operator.operator_id.fillna(0, inplace = True)\n",
    "#operator.operator_id.fillna(random.choice(operator[(operator.user_id == 166377) & (~operator.operator_id.isnull())].operator_id.unique()),inplace = True)"
   ]
  },
  {
   "cell_type": "code",
   "execution_count": 12,
   "metadata": {},
   "outputs": [],
   "source": [
    "# fill missing values in internal \n",
    "\n",
    "operator.internal.fillna(operator.internal.mode()[0],inplace=True)"
   ]
  },
  {
   "cell_type": "markdown",
   "metadata": {},
   "source": [
    "**Convert Datatypes**"
   ]
  },
  {
   "cell_type": "code",
   "execution_count": 13,
   "metadata": {},
   "outputs": [],
   "source": [
    "# change data types in operator\n",
    "\n",
    "#Date -> object to datetime \n",
    "operator['date'] = pd.to_datetime(operator.date.str.split(' ',n=1, expand = True)[0])"
   ]
  },
  {
   "cell_type": "code",
   "execution_count": 14,
   "metadata": {},
   "outputs": [],
   "source": [
    "#operator_id -> float to int\n",
    "operator.operator_id = operator.operator_id.apply( lambda x: int(x))"
   ]
  },
  {
   "cell_type": "code",
   "execution_count": 15,
   "metadata": {},
   "outputs": [],
   "source": [
    "# Change datatypes in clients\n",
    "\n",
    "#date_start -> object to datetime \n",
    "clients.date_start = pd.to_datetime(clients.date_start)"
   ]
  },
  {
   "cell_type": "markdown",
   "metadata": {},
   "source": [
    "> - The date columns in both the datasets are changed from object type to datetime type using to_datetime function \n",
    "> - The operator id from operator dataset is changed from int to float using astype "
   ]
  },
  {
   "cell_type": "code",
   "execution_count": 16,
   "metadata": {},
   "outputs": [
    {
     "name": "stdout",
     "output_type": "stream",
     "text": [
      "<class 'pandas.core.frame.DataFrame'>\n",
      "RangeIndex: 53902 entries, 0 to 53901\n",
      "Data columns (total 9 columns):\n",
      " #   Column               Non-Null Count  Dtype         \n",
      "---  ------               --------------  -----         \n",
      " 0   user_id              53902 non-null  int64         \n",
      " 1   date                 53902 non-null  datetime64[ns]\n",
      " 2   direction            53902 non-null  object        \n",
      " 3   internal             53902 non-null  bool          \n",
      " 4   operator_id          53902 non-null  int64         \n",
      " 5   is_missed_call       53902 non-null  bool          \n",
      " 6   calls_count          53902 non-null  int64         \n",
      " 7   call_duration        53902 non-null  int64         \n",
      " 8   total_call_duration  53902 non-null  int64         \n",
      "dtypes: bool(2), datetime64[ns](1), int64(5), object(1)\n",
      "memory usage: 3.0+ MB\n"
     ]
    }
   ],
   "source": [
    "operator.info()"
   ]
  },
  {
   "cell_type": "code",
   "execution_count": 17,
   "metadata": {},
   "outputs": [
    {
     "name": "stdout",
     "output_type": "stream",
     "text": [
      "<class 'pandas.core.frame.DataFrame'>\n",
      "RangeIndex: 732 entries, 0 to 731\n",
      "Data columns (total 3 columns):\n",
      " #   Column       Non-Null Count  Dtype         \n",
      "---  ------       --------------  -----         \n",
      " 0   user_id      732 non-null    int64         \n",
      " 1   tariff_plan  732 non-null    object        \n",
      " 2   date_start   732 non-null    datetime64[ns]\n",
      "dtypes: datetime64[ns](1), int64(1), object(1)\n",
      "memory usage: 17.3+ KB\n"
     ]
    }
   ],
   "source": [
    "clients.info()"
   ]
  },
  {
   "cell_type": "markdown",
   "metadata": {},
   "source": [
    "**Feature Engineering**"
   ]
  },
  {
   "cell_type": "code",
   "execution_count": 18,
   "metadata": {},
   "outputs": [
    {
     "data": {
      "text/html": [
       "<div>\n",
       "<style scoped>\n",
       "    .dataframe tbody tr th:only-of-type {\n",
       "        vertical-align: middle;\n",
       "    }\n",
       "\n",
       "    .dataframe tbody tr th {\n",
       "        vertical-align: top;\n",
       "    }\n",
       "\n",
       "    .dataframe thead th {\n",
       "        text-align: right;\n",
       "    }\n",
       "</style>\n",
       "<table border=\"1\" class=\"dataframe\">\n",
       "  <thead>\n",
       "    <tr style=\"text-align: right;\">\n",
       "      <th></th>\n",
       "      <th>user_id</th>\n",
       "      <th>date</th>\n",
       "      <th>direction</th>\n",
       "      <th>internal</th>\n",
       "      <th>operator_id</th>\n",
       "      <th>is_missed_call</th>\n",
       "      <th>calls_count</th>\n",
       "      <th>call_duration</th>\n",
       "      <th>total_call_duration</th>\n",
       "      <th>wait_time</th>\n",
       "    </tr>\n",
       "  </thead>\n",
       "  <tbody>\n",
       "    <tr>\n",
       "      <th>0</th>\n",
       "      <td>166377</td>\n",
       "      <td>2019-08-04</td>\n",
       "      <td>in</td>\n",
       "      <td>False</td>\n",
       "      <td>0</td>\n",
       "      <td>True</td>\n",
       "      <td>2</td>\n",
       "      <td>0</td>\n",
       "      <td>4</td>\n",
       "      <td>4</td>\n",
       "    </tr>\n",
       "    <tr>\n",
       "      <th>1</th>\n",
       "      <td>166377</td>\n",
       "      <td>2019-08-05</td>\n",
       "      <td>out</td>\n",
       "      <td>True</td>\n",
       "      <td>880022</td>\n",
       "      <td>True</td>\n",
       "      <td>3</td>\n",
       "      <td>0</td>\n",
       "      <td>5</td>\n",
       "      <td>5</td>\n",
       "    </tr>\n",
       "    <tr>\n",
       "      <th>2</th>\n",
       "      <td>166377</td>\n",
       "      <td>2019-08-05</td>\n",
       "      <td>out</td>\n",
       "      <td>True</td>\n",
       "      <td>880020</td>\n",
       "      <td>True</td>\n",
       "      <td>1</td>\n",
       "      <td>0</td>\n",
       "      <td>1</td>\n",
       "      <td>1</td>\n",
       "    </tr>\n",
       "  </tbody>\n",
       "</table>\n",
       "</div>"
      ],
      "text/plain": [
       "   user_id       date direction  internal  operator_id  is_missed_call  \\\n",
       "0   166377 2019-08-04        in     False            0            True   \n",
       "1   166377 2019-08-05       out      True       880022            True   \n",
       "2   166377 2019-08-05       out      True       880020            True   \n",
       "\n",
       "   calls_count  call_duration  total_call_duration  wait_time  \n",
       "0            2              0                    4          4  \n",
       "1            3              0                    5          5  \n",
       "2            1              0                    1          1  "
      ]
     },
     "execution_count": 18,
     "metadata": {},
     "output_type": "execute_result"
    }
   ],
   "source": [
    "#Adding waiting time col\n",
    "\n",
    "operator['wait_time'] = operator.total_call_duration - operator.call_duration\n",
    "operator.head(3)"
   ]
  },
  {
   "cell_type": "markdown",
   "metadata": {},
   "source": [
    "> - call duration is without waiting time and total_call_duration is with waiting time. So waiting time is found by subtracting the two columns "
   ]
  },
  {
   "cell_type": "code",
   "execution_count": 19,
   "metadata": {},
   "outputs": [
    {
     "name": "stderr",
     "output_type": "stream",
     "text": [
      "<ipython-input-19-152db13b7fef>:5: FutureWarning: Series.dt.weekofyear and Series.dt.week have been deprecated.  Please use Series.dt.isocalendar().week instead.\n",
      "  operator['week'] = operator.date.dt.week\n"
     ]
    }
   ],
   "source": [
    "#extract month, week and day of week in operator\n",
    "\n",
    "operator['month'] = operator.date.map(lambda x: x.strftime('%Y-%m'))\n",
    "\n",
    "operator['week'] = operator.date.dt.week\n",
    "\n",
    "operator['day'] = operator.date.dt.dayofweek"
   ]
  },
  {
   "cell_type": "code",
   "execution_count": 20,
   "metadata": {},
   "outputs": [],
   "source": [
    "# extract month from clients\n",
    "\n",
    "clients['month'] = clients.date_start.map(lambda x: x.strftime('%Y-%m'))"
   ]
  },
  {
   "cell_type": "markdown",
   "metadata": {},
   "source": [
    "> - Month , week and day is extrated from the date column in operators fro further analysis\n",
    "> - Similar operation is performed on client's date column "
   ]
  },
  {
   "cell_type": "code",
   "execution_count": 109,
   "metadata": {},
   "outputs": [
    {
     "data": {
      "image/png": "[encoded data removed]",
      "text/plain": [
       "<Figure size 864x288 with 1 Axes>"
      ]
     },
     "metadata": {
      "needs_background": "light"
     },
     "output_type": "display_data"
    }
   ],
   "source": [
    "plt.figure(figsize=(12,4))\n",
    "plt.scatter(x=operator.date, y = operator.calls_count, marker = 'o', alpha = 0.4, c=operator.calls_count ,cmap=\"RdYlGn\")\n",
    "plt.title('Calls_count per day', fontsize=16)\n",
    "plt.xlabel('Date', fontsize=13)\n",
    "plt.ylabel('Calls_count', fontsize=13)\n",
    "plt.show()"
   ]
  },
  {
   "cell_type": "code",
   "execution_count": 110,
   "metadata": {},
   "outputs": [
    {
     "data": {
      "image/png": "[encoded data removed]",
      "text/plain": [
       "<Figure size 864x288 with 1 Axes>"
      ]
     },
     "metadata": {
      "needs_background": "light"
     },
     "output_type": "display_data"
    }
   ],
   "source": [
    "plt.figure(figsize=(12,4))\n",
    "plt.scatter(x=operator.date, y = operator.call_duration, marker = 'o', alpha = 0.4, c=operator.calls_count ,cmap=\"viridis\")\n",
    "plt.title('Calls_count per day', fontsize=16)\n",
    "plt.xlabel('Date', fontsize=13)\n",
    "plt.ylabel('Call_count', fontsize=13)\n",
    "plt.show()"
   ]
  },
  {
   "cell_type": "markdown",
   "metadata": {},
   "source": [
    "### Exploartory Data Analysis"
   ]
  },
  {
   "cell_type": "markdown",
   "metadata": {},
   "source": [
    "**1. Find the number of clients and operators in the dataset**"
   ]
  },
  {
   "cell_type": "code",
   "execution_count": 21,
   "metadata": {},
   "outputs": [
    {
     "name": "stdout",
     "output_type": "stream",
     "text": [
      "The total number of clients: 732\n",
      "\n",
      "The total number of operators: 1093\n"
     ]
    }
   ],
   "source": [
    "# Number of clients \n",
    "\n",
    "print('The total number of clients: {}'.format(clients.user_id.nunique()))\n",
    "\n",
    "#Number of operators\n",
    "print('')\n",
    "print('The total number of operators: {}'.format(operator.operator_id.nunique()))"
   ]
  },
  {
   "cell_type": "markdown",
   "metadata": {},
   "source": [
    "> - There are a total of 732 unique clients and 1092 unique operators in the dataset"
   ]
  },
  {
   "cell_type": "markdown",
   "metadata": {},
   "source": [
    "**2. Plot the number of clients registered on each day**"
   ]
  },
  {
   "cell_type": "code",
   "execution_count": 22,
   "metadata": {},
   "outputs": [
    {
     "data": {
      "image/png": "[encoded data removed]",
      "text/plain": [
       "<Figure size 936x432 with 1 Axes>"
      ]
     },
     "metadata": {
      "needs_background": "light"
     },
     "output_type": "display_data"
    }
   ],
   "source": [
    "#Plot of number of clients registered per day\n",
    "\n",
    "client_registrations =  clients.groupby('month').user_id.nunique().to_frame()\n",
    "\n",
    "\n",
    "plt.figure(figsize =(13,6))\n",
    "plt.bar(client_registrations.index ,client_registrations.user_id, color = 'navy', width = 0.5 )\n",
    "plt.xlabel('Date',fontsize = 13)\n",
    "plt.ylabel('Frequency', fontsize = 13)\n",
    "plt.title('Number of clients registered per Month', fontsize= 16)\n",
    "plt.show()"
   ]
  },
  {
   "cell_type": "markdown",
   "metadata": {},
   "source": [
    "> - The number of clients registered in the month of August seems to be more than the number of registration on any other month"
   ]
  },
  {
   "cell_type": "markdown",
   "metadata": {},
   "source": [
    "**3. Plot the frequency of the operator usage on each day**"
   ]
  },
  {
   "cell_type": "code",
   "execution_count": 23,
   "metadata": {},
   "outputs": [
    {
     "data": {
      "image/png": "[encoded data removed]",
      "text/plain": [
       "<Figure size 936x432 with 1 Axes>"
      ]
     },
     "metadata": {
      "needs_background": "light"
     },
     "output_type": "display_data"
    }
   ],
   "source": [
    "operator_usage = operator.groupby('date').operator_id.count().to_frame()\n",
    "\n",
    "plt.figure(figsize=(13,6))\n",
    "plt.bar(operator_usage.index, operator_usage.operator_id, color = 'green', edgecolor = 'black')\n",
    "plt.xlabel('Date',fontsize = 13)\n",
    "plt.ylabel('Frequency', fontsize = 13)\n",
    "plt.title('Number of times operators are used per day', fontsize= 16)\n",
    "plt.show()"
   ]
  },
  {
   "cell_type": "markdown",
   "metadata": {},
   "source": [
    "> - The operators were least used in the month of august and then the usage gradually increased\n",
    "> - The operators are increasingly being used during the weekdays and is least used during the weekend. This explains the sudden drop in the plot"
   ]
  },
  {
   "cell_type": "markdown",
   "metadata": {},
   "source": [
    "**4. Plot the share of outgoing calls vs incoming calls**"
   ]
  },
  {
   "cell_type": "code",
   "execution_count": 24,
   "metadata": {},
   "outputs": [
    {
     "data": {
      "image/png": "[encoded data removed]",
      "text/plain": [
       "<Figure size 432x288 with 1 Axes>"
      ]
     },
     "metadata": {},
     "output_type": "display_data"
    }
   ],
   "source": [
    "#share of outgoing vs incoming calls\n",
    "\n",
    "plt.pie(operator.direction.value_counts(),\n",
    "        labels =operator.direction.value_counts().index , \n",
    "        shadow = True, \n",
    "        textprops = {'fontsize':15},\n",
    "        autopct='%1.2f',\n",
    "       colors = ['#548CA8','#EEEEEE'])\n",
    "plt.title('Share of outgoing vs incoming calls', fontsize=16)\n",
    "plt.show()"
   ]
  },
  {
   "cell_type": "markdown",
   "metadata": {},
   "source": [
    "> - The number of incoming calls is less for all clients compared to the number of outgoing calls"
   ]
  },
  {
   "cell_type": "markdown",
   "metadata": {},
   "source": [
    "**5. Plot the share of internal vs external calls**"
   ]
  },
  {
   "cell_type": "code",
   "execution_count": 25,
   "metadata": {},
   "outputs": [
    {
     "data": {
      "image/png": "[encoded data removed]",
      "text/plain": [
       "<Figure size 432x288 with 1 Axes>"
      ]
     },
     "metadata": {},
     "output_type": "display_data"
    }
   ],
   "source": [
    "#share of internal vs external calls\n",
    "\n",
    "plt.pie(operator.internal.value_counts(),\n",
    "        labels =operator.internal.value_counts().index , \n",
    "        shadow = True, \n",
    "        textprops = {'fontsize':15},\n",
    "        autopct='%1.2f',\n",
    "       colors = ['#F7DAD9','#FFF5DA'])\n",
    "plt.title('Share of internal vs external calls', fontsize=16)\n",
    "plt.show()"
   ]
  },
  {
   "cell_type": "markdown",
   "metadata": {},
   "source": [
    "> - Only nearly 11% of the total calls made by the operators are internal calls and the rest 89% are external calls"
   ]
  },
  {
   "cell_type": "markdown",
   "metadata": {},
   "source": [
    "**6. Plot the share of missed calls vs attended calls**"
   ]
  },
  {
   "cell_type": "code",
   "execution_count": 26,
   "metadata": {},
   "outputs": [
    {
     "data": {
      "image/png": "[encoded data removed]",
      "text/plain": [
       "<Figure size 432x288 with 1 Axes>"
      ]
     },
     "metadata": {},
     "output_type": "display_data"
    }
   ],
   "source": [
    "plt.pie(operator.is_missed_call.value_counts(),\n",
    "        labels =operator.is_missed_call.value_counts().index , \n",
    "        shadow = True, \n",
    "        textprops = {'fontsize':15},\n",
    "        autopct='%1.2f',\n",
    "       colors = ['#5E8B7E','#DFEEEA'])\n",
    "plt.title('Share of missed vs received calls', fontsize=16)\n",
    "plt.show()"
   ]
  },
  {
   "cell_type": "markdown",
   "metadata": {},
   "source": [
    "> - 56% of the total calls are missed calls. This could be because of the ineffective operator "
   ]
  },
  {
   "cell_type": "markdown",
   "metadata": {},
   "source": [
    "**7. Find the top 10 clients based on their calls**"
   ]
  },
  {
   "cell_type": "code",
   "execution_count": 27,
   "metadata": {},
   "outputs": [
    {
     "data": {
      "text/html": [
       "<div>\n",
       "<style scoped>\n",
       "    .dataframe tbody tr th:only-of-type {\n",
       "        vertical-align: middle;\n",
       "    }\n",
       "\n",
       "    .dataframe tbody tr th {\n",
       "        vertical-align: top;\n",
       "    }\n",
       "\n",
       "    .dataframe thead th {\n",
       "        text-align: right;\n",
       "    }\n",
       "</style>\n",
       "<table border=\"1\" class=\"dataframe\">\n",
       "  <thead>\n",
       "    <tr style=\"text-align: right;\">\n",
       "      <th></th>\n",
       "      <th>calls_count</th>\n",
       "    </tr>\n",
       "    <tr>\n",
       "      <th>user_id</th>\n",
       "      <th></th>\n",
       "    </tr>\n",
       "  </thead>\n",
       "  <tbody>\n",
       "    <tr>\n",
       "      <th>166582</th>\n",
       "      <td>159526</td>\n",
       "    </tr>\n",
       "    <tr>\n",
       "      <th>167626</th>\n",
       "      <td>103183</td>\n",
       "    </tr>\n",
       "    <tr>\n",
       "      <th>168361</th>\n",
       "      <td>90391</td>\n",
       "    </tr>\n",
       "    <tr>\n",
       "      <th>167827</th>\n",
       "      <td>42615</td>\n",
       "    </tr>\n",
       "    <tr>\n",
       "      <th>168252</th>\n",
       "      <td>28698</td>\n",
       "    </tr>\n",
       "    <tr>\n",
       "      <th>168062</th>\n",
       "      <td>27701</td>\n",
       "    </tr>\n",
       "    <tr>\n",
       "      <th>168187</th>\n",
       "      <td>23624</td>\n",
       "    </tr>\n",
       "    <tr>\n",
       "      <th>166405</th>\n",
       "      <td>19182</td>\n",
       "    </tr>\n",
       "    <tr>\n",
       "      <th>167285</th>\n",
       "      <td>16824</td>\n",
       "    </tr>\n",
       "    <tr>\n",
       "      <th>167125</th>\n",
       "      <td>16735</td>\n",
       "    </tr>\n",
       "  </tbody>\n",
       "</table>\n",
       "</div>"
      ],
      "text/plain": [
       "         calls_count\n",
       "user_id             \n",
       "166582        159526\n",
       "167626        103183\n",
       "168361         90391\n",
       "167827         42615\n",
       "168252         28698\n",
       "168062         27701\n",
       "168187         23624\n",
       "166405         19182\n",
       "167285         16824\n",
       "167125         16735"
      ]
     },
     "execution_count": 27,
     "metadata": {},
     "output_type": "execute_result"
    }
   ],
   "source": [
    "#including missed calls\n",
    "\n",
    "top_clients = operator.groupby('user_id').calls_count.sum().sort_values(ascending = False).to_frame()#[:10]#.reset_index()\n",
    "top_clients[:10]"
   ]
  },
  {
   "cell_type": "code",
   "execution_count": 28,
   "metadata": {},
   "outputs": [],
   "source": [
    "#excluding missed calls\n",
    "\n",
    "missed_count = operator[operator.is_missed_call==True].groupby('user_id').is_missed_call.count().to_frame()\n",
    "\n",
    "user_calls = top_clients.merge(missed_count, on = 'user_id', how = 'left', ).fillna(0)"
   ]
  },
  {
   "cell_type": "code",
   "execution_count": 29,
   "metadata": {},
   "outputs": [
    {
     "data": {
      "text/html": [
       "<div>\n",
       "<style scoped>\n",
       "    .dataframe tbody tr th:only-of-type {\n",
       "        vertical-align: middle;\n",
       "    }\n",
       "\n",
       "    .dataframe tbody tr th {\n",
       "        vertical-align: top;\n",
       "    }\n",
       "\n",
       "    .dataframe thead th {\n",
       "        text-align: right;\n",
       "    }\n",
       "</style>\n",
       "<table border=\"1\" class=\"dataframe\">\n",
       "  <thead>\n",
       "    <tr style=\"text-align: right;\">\n",
       "      <th></th>\n",
       "      <th>total_calls</th>\n",
       "    </tr>\n",
       "    <tr>\n",
       "      <th>user_id</th>\n",
       "      <th></th>\n",
       "    </tr>\n",
       "  </thead>\n",
       "  <tbody>\n",
       "    <tr>\n",
       "      <th>166582</th>\n",
       "      <td>159130.0</td>\n",
       "    </tr>\n",
       "    <tr>\n",
       "      <th>167626</th>\n",
       "      <td>102508.0</td>\n",
       "    </tr>\n",
       "    <tr>\n",
       "      <th>168361</th>\n",
       "      <td>89731.0</td>\n",
       "    </tr>\n",
       "    <tr>\n",
       "      <th>167827</th>\n",
       "      <td>42447.0</td>\n",
       "    </tr>\n",
       "    <tr>\n",
       "      <th>168252</th>\n",
       "      <td>28371.0</td>\n",
       "    </tr>\n",
       "    <tr>\n",
       "      <th>168062</th>\n",
       "      <td>27185.0</td>\n",
       "    </tr>\n",
       "    <tr>\n",
       "      <th>168187</th>\n",
       "      <td>22789.0</td>\n",
       "    </tr>\n",
       "    <tr>\n",
       "      <th>166405</th>\n",
       "      <td>18725.0</td>\n",
       "    </tr>\n",
       "    <tr>\n",
       "      <th>167285</th>\n",
       "      <td>16771.0</td>\n",
       "    </tr>\n",
       "    <tr>\n",
       "      <th>167125</th>\n",
       "      <td>16367.0</td>\n",
       "    </tr>\n",
       "  </tbody>\n",
       "</table>\n",
       "</div>"
      ],
      "text/plain": [
       "         total_calls\n",
       "user_id             \n",
       "166582      159130.0\n",
       "167626      102508.0\n",
       "168361       89731.0\n",
       "167827       42447.0\n",
       "168252       28371.0\n",
       "168062       27185.0\n",
       "168187       22789.0\n",
       "166405       18725.0\n",
       "167285       16771.0\n",
       "167125       16367.0"
      ]
     },
     "execution_count": 29,
     "metadata": {},
     "output_type": "execute_result"
    }
   ],
   "source": [
    "user_calls['total_calls'] = user_calls.calls_count - user_calls.is_missed_call\n",
    "user_calls.sort_values('total_calls', ascending = False).total_calls[:10].to_frame()"
   ]
  },
  {
   "cell_type": "markdown",
   "metadata": {},
   "source": [
    "> - The client with the most calls is 166582. These clients are considered to be valuable if they dont come under the ineffective operators list\n",
    "> - Since the call count also includes missed calls, its cannot be concluded that these are the most valuable clients"
   ]
  },
  {
   "cell_type": "markdown",
   "metadata": {},
   "source": [
    "**8. Find how many operators are being used by a single client**"
   ]
  },
  {
   "cell_type": "code",
   "execution_count": 30,
   "metadata": {},
   "outputs": [
    {
     "data": {
      "text/html": [
       "<div>\n",
       "<style scoped>\n",
       "    .dataframe tbody tr th:only-of-type {\n",
       "        vertical-align: middle;\n",
       "    }\n",
       "\n",
       "    .dataframe tbody tr th {\n",
       "        vertical-align: top;\n",
       "    }\n",
       "\n",
       "    .dataframe thead th {\n",
       "        text-align: right;\n",
       "    }\n",
       "</style>\n",
       "<table border=\"1\" class=\"dataframe\">\n",
       "  <thead>\n",
       "    <tr style=\"text-align: right;\">\n",
       "      <th></th>\n",
       "      <th>user_id</th>\n",
       "    </tr>\n",
       "    <tr>\n",
       "      <th>operator_id</th>\n",
       "      <th></th>\n",
       "    </tr>\n",
       "  </thead>\n",
       "  <tbody>\n",
       "    <tr>\n",
       "      <th>0</th>\n",
       "      <td>305</td>\n",
       "    </tr>\n",
       "  </tbody>\n",
       "</table>\n",
       "</div>"
      ],
      "text/plain": [
       "             user_id\n",
       "operator_id         \n",
       "0                305"
      ]
     },
     "execution_count": 30,
     "metadata": {},
     "output_type": "execute_result"
    }
   ],
   "source": [
    "op_count = operator.groupby('operator_id').user_id.nunique().sort_values(ascending=False).to_frame()\n",
    "op_count[op_count.user_id > 1]"
   ]
  },
  {
   "cell_type": "markdown",
   "metadata": {},
   "source": [
    "> - There are no operators that are used by moore than 1 client"
   ]
  },
  {
   "cell_type": "markdown",
   "metadata": {},
   "source": [
    "**9. Find the average number of calls made for each plan**"
   ]
  },
  {
   "cell_type": "code",
   "execution_count": 31,
   "metadata": {},
   "outputs": [],
   "source": [
    "op_cli = operator.merge(clients, on ='user_id', how = 'inner')\n",
    "avg_call = op_cli.groupby('tariff_plan').calls_count.mean().sort_values(ascending = False).to_frame()"
   ]
  },
  {
   "cell_type": "code",
   "execution_count": 32,
   "metadata": {},
   "outputs": [
    {
     "data": {
      "image/png": "[encoded data removed]",
      "text/plain": [
       "<Figure size 432x288 with 1 Axes>"
      ]
     },
     "metadata": {
      "needs_background": "light"
     },
     "output_type": "display_data"
    }
   ],
   "source": [
    "plt.bar(avg_call.index, avg_call.calls_count, color = ['#1EAE98','#F54748','#343F56'],)\n",
    "plt.title('Average number of calls made in each tariff plan', fontsize = 16)\n",
    "plt.xlabel('Tariff Plan', fontsize=13)\n",
    "plt.ylabel('Average calls', fontsize=13)\n",
    "plt.show()"
   ]
  },
  {
   "cell_type": "markdown",
   "metadata": {},
   "source": [
    "> - This shows that Plan A is the most preferred plan by the majority of the clients"
   ]
  },
  {
   "cell_type": "markdown",
   "metadata": {},
   "source": [
    "**10. Find the operators with max and min average waiting time**"
   ]
  },
  {
   "cell_type": "code",
   "execution_count": 33,
   "metadata": {},
   "outputs": [
    {
     "data": {
      "text/plain": [
       "[952734]"
      ]
     },
     "execution_count": 33,
     "metadata": {},
     "output_type": "execute_result"
    }
   ],
   "source": [
    "avg_wait =((operator.groupby(['operator_id']).wait_time.sum() /  operator.groupby(['operator_id']).total_call_duration.sum()) *100).sort_values(ascending = False).to_frame()\n",
    "avg_wait.columns = ['avg_wait_time']\n",
    "\n",
    "# decalring min and max wait variable\n",
    "min_wait = avg_wait.avg_wait_time.min()\n",
    "max_wait = avg_wait.avg_wait_time.max()\n",
    "\n",
    "\n",
    "#finding the operator with min wait time\n",
    "avg_wait[avg_wait.avg_wait_time == min_wait].index.to_list()"
   ]
  },
  {
   "cell_type": "markdown",
   "metadata": {},
   "source": [
    "> - This operator is the only one to respond to calls soon"
   ]
  },
  {
   "cell_type": "code",
   "execution_count": 34,
   "metadata": {},
   "outputs": [
    {
     "data": {
      "text/plain": [
       "array([937716, 885682, 937872, 937778, 937772, 937770, 891976, 937710,\n",
       "       936296, 905308, 909308, 932246, 928284, 928282, 924572, 919418,\n",
       "       914272, 905480, 962904, 969262, 941826, 970258, 945074, 970250,\n",
       "       899076, 945898, 954284, 883018, 969284])"
      ]
     },
     "execution_count": 34,
     "metadata": {},
     "output_type": "execute_result"
    }
   ],
   "source": [
    "#finding the operators with max wait time\n",
    "avg_wait[avg_wait.avg_wait_time == max_wait].index.values#.to_list()"
   ]
  },
  {
   "cell_type": "code",
   "execution_count": 35,
   "metadata": {},
   "outputs": [
    {
     "data": {
      "image/png": "[encoded data removed]",
      "text/plain": [
       "<Figure size 432x288 with 1 Axes>"
      ]
     },
     "metadata": {
      "needs_background": "light"
     },
     "output_type": "display_data"
    }
   ],
   "source": [
    "#plot for average wait time \n",
    "\n",
    "plt.hist(avg_wait.avg_wait_time, bins = 'fd', color = 'navy', edgecolor = 'white')\n",
    "plt.title('Average wait time distribution', fontsize= 16)\n",
    "plt.xlabel('Average wait time', fontsize =13)\n",
    "plt.ylabel('Frequency', fontsize = 13)\n",
    "plt.show()"
   ]
  },
  {
   "cell_type": "markdown",
   "metadata": {},
   "source": [
    "> - These were all the operators who were making the clients wait the most.\n",
    "> - There are about 35 operator whose wait time equal 100"
   ]
  },
  {
   "cell_type": "markdown",
   "metadata": {},
   "source": [
    "**11. Find PLan that has more call counts and duration**"
   ]
  },
  {
   "cell_type": "code",
   "execution_count": 36,
   "metadata": {},
   "outputs": [],
   "source": [
    "df = operator.merge(clients, on='user_id',how='inner')"
   ]
  },
  {
   "cell_type": "code",
   "execution_count": 37,
   "metadata": {},
   "outputs": [
    {
     "data": {
      "image/png": "[encoded data removed]",
      "text/plain": [
       "<Figure size 432x288 with 1 Axes>"
      ]
     },
     "metadata": {
      "needs_background": "light"
     },
     "output_type": "display_data"
    }
   ],
   "source": [
    "sns.scatterplot(data=df, x=\"call_duration\", y=\"calls_count\", hue=\"tariff_plan\", alpha = 0.75, edgecolor = 'grey')\n",
    "plt.title('Calls count vs call duration scatter plot', fontsize=16)\n",
    "plt.show()"
   ]
  },
  {
   "cell_type": "markdown",
   "metadata": {},
   "source": [
    "> - The scatter plot reveals that there are more missed call count for tarrif plan A at call duration 0 sec"
   ]
  },
  {
   "cell_type": "markdown",
   "metadata": {},
   "source": [
    "### ANALYSE THE DATA"
   ]
  },
  {
   "cell_type": "markdown",
   "metadata": {},
   "source": [
    "**1. Find the list of operators each clients use and which clients use more operators**"
   ]
  },
  {
   "cell_type": "code",
   "execution_count": 38,
   "metadata": {
    "scrolled": false
   },
   "outputs": [
    {
     "data": {
      "text/html": [
       "<div>\n",
       "<style scoped>\n",
       "    .dataframe tbody tr th:only-of-type {\n",
       "        vertical-align: middle;\n",
       "    }\n",
       "\n",
       "    .dataframe tbody tr th {\n",
       "        vertical-align: top;\n",
       "    }\n",
       "\n",
       "    .dataframe thead th {\n",
       "        text-align: right;\n",
       "    }\n",
       "</style>\n",
       "<table border=\"1\" class=\"dataframe\">\n",
       "  <thead>\n",
       "    <tr style=\"text-align: right;\">\n",
       "      <th></th>\n",
       "      <th>user_id</th>\n",
       "      <th>operators_list</th>\n",
       "      <th>number</th>\n",
       "    </tr>\n",
       "  </thead>\n",
       "  <tbody>\n",
       "    <tr>\n",
       "      <th>252</th>\n",
       "      <td>168187</td>\n",
       "      <td>[937958, 937984, 937960, 937962, 937956, 937902, 937762, 937888, 937708, 937966, 937854, 937760,...</td>\n",
       "      <td>50</td>\n",
       "    </tr>\n",
       "    <tr>\n",
       "      <th>170</th>\n",
       "      <td>167626</td>\n",
       "      <td>[919164, 919194, 919166, 919188, 919196, 919482, 919190, 919314, 919318, 919490, 919192, 919202,...</td>\n",
       "      <td>48</td>\n",
       "    </tr>\n",
       "    <tr>\n",
       "      <th>156</th>\n",
       "      <td>167497</td>\n",
       "      <td>[914426, 914848, 915958, 914870, 917252, 920928, 924948, 917378, 918958, 922114, 917446, 918956,...</td>\n",
       "      <td>30</td>\n",
       "    </tr>\n",
       "    <tr>\n",
       "      <th>259</th>\n",
       "      <td>168252</td>\n",
       "      <td>[939716, 939718, 940616, 940624, 940788, 940782, 940634, 940610, 940630, 940568, 940772, 940842,...</td>\n",
       "      <td>28</td>\n",
       "    </tr>\n",
       "    <tr>\n",
       "      <th>270</th>\n",
       "      <td>168361</td>\n",
       "      <td>[945322, 945282, 945290, 945302, 945298, 945074, 945312, 945284, 945278, 945280, 945286, 945316,...</td>\n",
       "      <td>27</td>\n",
       "    </tr>\n",
       "    <tr>\n",
       "      <th>236</th>\n",
       "      <td>168062</td>\n",
       "      <td>[947610, 947604, 947616, 951506, 951492, 947652, 947598, 947612, 947658, 951508, 947592, 947646,...</td>\n",
       "      <td>27</td>\n",
       "    </tr>\n",
       "    <tr>\n",
       "      <th>35</th>\n",
       "      <td>166680</td>\n",
       "      <td>[891744, 891746, 908984, 915614, 916596, 917234, 919418, 932050, 932088, 932502, 932500, 932498,...</td>\n",
       "      <td>21</td>\n",
       "    </tr>\n",
       "    <tr>\n",
       "      <th>16</th>\n",
       "      <td>166520</td>\n",
       "      <td>[885682, 884946, 890234, 890232, 892028, 893674, 891192, 897894, 909452, 910902, 910926, 923250,...</td>\n",
       "      <td>18</td>\n",
       "    </tr>\n",
       "    <tr>\n",
       "      <th>28</th>\n",
       "      <td>166658</td>\n",
       "      <td>[890404, 890406, 890416, 890402, 890412, 890410, 891166, 891152, 891154, 891158, 890420, 890422,...</td>\n",
       "      <td>17</td>\n",
       "    </tr>\n",
       "    <tr>\n",
       "      <th>66</th>\n",
       "      <td>166916</td>\n",
       "      <td>[906396, 906398, 906392, 906394, 906402, 906404, 906400, 906408, 906410, 906406, 906412, 928282,...</td>\n",
       "      <td>16</td>\n",
       "    </tr>\n",
       "  </tbody>\n",
       "</table>\n",
       "</div>"
      ],
      "text/plain": [
       "     user_id  \\\n",
       "252   168187   \n",
       "170   167626   \n",
       "156   167497   \n",
       "259   168252   \n",
       "270   168361   \n",
       "236   168062   \n",
       "35    166680   \n",
       "16    166520   \n",
       "28    166658   \n",
       "66    166916   \n",
       "\n",
       "                                                                                          operators_list  \\\n",
       "252  [937958, 937984, 937960, 937962, 937956, 937902, 937762, 937888, 937708, 937966, 937854, 937760,...   \n",
       "170  [919164, 919194, 919166, 919188, 919196, 919482, 919190, 919314, 919318, 919490, 919192, 919202,...   \n",
       "156  [914426, 914848, 915958, 914870, 917252, 920928, 924948, 917378, 918958, 922114, 917446, 918956,...   \n",
       "259  [939716, 939718, 940616, 940624, 940788, 940782, 940634, 940610, 940630, 940568, 940772, 940842,...   \n",
       "270  [945322, 945282, 945290, 945302, 945298, 945074, 945312, 945284, 945278, 945280, 945286, 945316,...   \n",
       "236  [947610, 947604, 947616, 951506, 951492, 947652, 947598, 947612, 947658, 951508, 947592, 947646,...   \n",
       "35   [891744, 891746, 908984, 915614, 916596, 917234, 919418, 932050, 932088, 932502, 932500, 932498,...   \n",
       "16   [885682, 884946, 890234, 890232, 892028, 893674, 891192, 897894, 909452, 910902, 910926, 923250,...   \n",
       "28   [890404, 890406, 890416, 890402, 890412, 890410, 891166, 891152, 891154, 891158, 890420, 890422,...   \n",
       "66   [906396, 906398, 906392, 906394, 906402, 906404, 906400, 906408, 906410, 906406, 906412, 928282,...   \n",
       "\n",
       "     number  \n",
       "252      50  \n",
       "170      48  \n",
       "156      30  \n",
       "259      28  \n",
       "270      27  \n",
       "236      27  \n",
       "35       21  \n",
       "16       18  \n",
       "28       17  \n",
       "66       16  "
      ]
     },
     "execution_count": 38,
     "metadata": {},
     "output_type": "execute_result"
    }
   ],
   "source": [
    "co = operator[operator.operator_id != 0].groupby('user_id').agg({'operator_id':['unique','nunique']}).reset_index()\n",
    "co.columns = ['user_id','operators_list','number']\n",
    "co.sort_values(by = 'number', ascending=False)[:10]"
   ]
  },
  {
   "cell_type": "code",
   "execution_count": 39,
   "metadata": {},
   "outputs": [
    {
     "data": {
      "image/png": "[encoded data removed]",
      "text/plain": [
       "<Figure size 720x432 with 1 Axes>"
      ]
     },
     "metadata": {
      "needs_background": "light"
     },
     "output_type": "display_data"
    }
   ],
   "source": [
    "plt.figure(figsize=(10,6))\n",
    "plt.bar(co.user_id[:10], co.number[:10], width=1, color = 'grey',edgecolor = 'black')\n",
    "plt.title('Number of operators clients use', fontsize=16)\n",
    "plt.xlabel('Client ID', fontsize = 13)\n",
    "plt.ylabel('Operator Count', fontsize = 13)\n",
    "plt.show()\n"
   ]
  },
  {
   "cell_type": "markdown",
   "metadata": {},
   "source": [
    "> - 168187 and 167626 are the clients that uses more number of operators "
   ]
  },
  {
   "cell_type": "markdown",
   "metadata": {},
   "source": [
    "**2. Find The number of incoming, outgoing ,missed calls and waiting time in a month for each operator**"
   ]
  },
  {
   "cell_type": "code",
   "execution_count": 40,
   "metadata": {},
   "outputs": [],
   "source": [
    "operator.drop(operator[operator.operator_id == 0].index, axis = 0, inplace = True)"
   ]
  },
  {
   "cell_type": "code",
   "execution_count": 41,
   "metadata": {},
   "outputs": [
    {
     "data": {
      "text/html": [
       "<div>\n",
       "<style scoped>\n",
       "    .dataframe tbody tr th:only-of-type {\n",
       "        vertical-align: middle;\n",
       "    }\n",
       "\n",
       "    .dataframe tbody tr th {\n",
       "        vertical-align: top;\n",
       "    }\n",
       "\n",
       "    .dataframe thead th {\n",
       "        text-align: right;\n",
       "    }\n",
       "</style>\n",
       "<table border=\"1\" class=\"dataframe\">\n",
       "  <thead>\n",
       "    <tr style=\"text-align: right;\">\n",
       "      <th></th>\n",
       "      <th>direction</th>\n",
       "      <th>in</th>\n",
       "      <th>out</th>\n",
       "    </tr>\n",
       "    <tr>\n",
       "      <th>month</th>\n",
       "      <th>operator_id</th>\n",
       "      <th></th>\n",
       "      <th></th>\n",
       "    </tr>\n",
       "  </thead>\n",
       "  <tbody>\n",
       "    <tr>\n",
       "      <th rowspan=\"5\" valign=\"top\">2019-08</th>\n",
       "      <th>879896</th>\n",
       "      <td>15</td>\n",
       "      <td>54</td>\n",
       "    </tr>\n",
       "    <tr>\n",
       "      <th>879898</th>\n",
       "      <td>11</td>\n",
       "      <td>43</td>\n",
       "    </tr>\n",
       "    <tr>\n",
       "      <th>880020</th>\n",
       "      <td>1</td>\n",
       "      <td>8</td>\n",
       "    </tr>\n",
       "    <tr>\n",
       "      <th>880022</th>\n",
       "      <td>0</td>\n",
       "      <td>8</td>\n",
       "    </tr>\n",
       "    <tr>\n",
       "      <th>880026</th>\n",
       "      <td>4</td>\n",
       "      <td>37</td>\n",
       "    </tr>\n",
       "  </tbody>\n",
       "</table>\n",
       "</div>"
      ],
      "text/plain": [
       "direction            in  out\n",
       "month   operator_id         \n",
       "2019-08 879896       15   54\n",
       "        879898       11   43\n",
       "        880020        1    8\n",
       "        880022        0    8\n",
       "        880026        4   37"
      ]
     },
     "execution_count": 41,
     "metadata": {},
     "output_type": "execute_result"
    }
   ],
   "source": [
    "in_out = pd.crosstab(index = [operator.month,operator.operator_id], columns = [operator.direction])#.reset_index()\n",
    "in_out.head()"
   ]
  },
  {
   "cell_type": "code",
   "execution_count": 42,
   "metadata": {},
   "outputs": [
    {
     "data": {
      "text/html": [
       "<div>\n",
       "<style scoped>\n",
       "    .dataframe tbody tr th:only-of-type {\n",
       "        vertical-align: middle;\n",
       "    }\n",
       "\n",
       "    .dataframe tbody tr th {\n",
       "        vertical-align: top;\n",
       "    }\n",
       "\n",
       "    .dataframe thead th {\n",
       "        text-align: right;\n",
       "    }\n",
       "</style>\n",
       "<table border=\"1\" class=\"dataframe\">\n",
       "  <thead>\n",
       "    <tr style=\"text-align: right;\">\n",
       "      <th></th>\n",
       "      <th>is_missed_call</th>\n",
       "      <th>False</th>\n",
       "      <th>True</th>\n",
       "    </tr>\n",
       "    <tr>\n",
       "      <th>month</th>\n",
       "      <th>operator_id</th>\n",
       "      <th></th>\n",
       "      <th></th>\n",
       "    </tr>\n",
       "  </thead>\n",
       "  <tbody>\n",
       "    <tr>\n",
       "      <th rowspan=\"5\" valign=\"top\">2019-08</th>\n",
       "      <th>879896</th>\n",
       "      <td>44</td>\n",
       "      <td>25</td>\n",
       "    </tr>\n",
       "    <tr>\n",
       "      <th>879898</th>\n",
       "      <td>33</td>\n",
       "      <td>21</td>\n",
       "    </tr>\n",
       "    <tr>\n",
       "      <th>880020</th>\n",
       "      <td>5</td>\n",
       "      <td>4</td>\n",
       "    </tr>\n",
       "    <tr>\n",
       "      <th>880022</th>\n",
       "      <td>3</td>\n",
       "      <td>5</td>\n",
       "    </tr>\n",
       "    <tr>\n",
       "      <th>880026</th>\n",
       "      <td>23</td>\n",
       "      <td>18</td>\n",
       "    </tr>\n",
       "  </tbody>\n",
       "</table>\n",
       "</div>"
      ],
      "text/plain": [
       "is_missed_call       False  True \n",
       "month   operator_id              \n",
       "2019-08 879896          44     25\n",
       "        879898          33     21\n",
       "        880020           5      4\n",
       "        880022           3      5\n",
       "        880026          23     18"
      ]
     },
     "execution_count": 42,
     "metadata": {},
     "output_type": "execute_result"
    }
   ],
   "source": [
    "missed = pd.crosstab(index =[operator.month,operator.operator_id], columns = operator.is_missed_call)#.reset_index()\n",
    "missed.head()"
   ]
  },
  {
   "cell_type": "code",
   "execution_count": 43,
   "metadata": {
    "scrolled": true
   },
   "outputs": [
    {
     "data": {
      "text/html": [
       "<div>\n",
       "<style scoped>\n",
       "    .dataframe tbody tr th:only-of-type {\n",
       "        vertical-align: middle;\n",
       "    }\n",
       "\n",
       "    .dataframe tbody tr th {\n",
       "        vertical-align: top;\n",
       "    }\n",
       "\n",
       "    .dataframe thead th {\n",
       "        text-align: right;\n",
       "    }\n",
       "</style>\n",
       "<table border=\"1\" class=\"dataframe\">\n",
       "  <thead>\n",
       "    <tr style=\"text-align: right;\">\n",
       "      <th></th>\n",
       "      <th></th>\n",
       "      <th>wait_time</th>\n",
       "    </tr>\n",
       "    <tr>\n",
       "      <th>month</th>\n",
       "      <th>operator_id</th>\n",
       "      <th></th>\n",
       "    </tr>\n",
       "  </thead>\n",
       "  <tbody>\n",
       "    <tr>\n",
       "      <th rowspan=\"5\" valign=\"top\">2019-08</th>\n",
       "      <th>879896</th>\n",
       "      <td>11946</td>\n",
       "    </tr>\n",
       "    <tr>\n",
       "      <th>879898</th>\n",
       "      <td>18861</td>\n",
       "    </tr>\n",
       "    <tr>\n",
       "      <th>880020</th>\n",
       "      <td>248</td>\n",
       "    </tr>\n",
       "    <tr>\n",
       "      <th>880022</th>\n",
       "      <td>110</td>\n",
       "    </tr>\n",
       "    <tr>\n",
       "      <th>880026</th>\n",
       "      <td>4177</td>\n",
       "    </tr>\n",
       "  </tbody>\n",
       "</table>\n",
       "</div>"
      ],
      "text/plain": [
       "                     wait_time\n",
       "month   operator_id           \n",
       "2019-08 879896           11946\n",
       "        879898           18861\n",
       "        880020             248\n",
       "        880022             110\n",
       "        880026            4177"
      ]
     },
     "execution_count": 43,
     "metadata": {},
     "output_type": "execute_result"
    }
   ],
   "source": [
    "wait = operator.groupby(['month','operator_id']).wait_time.sum().to_frame()\n",
    "wait.head()"
   ]
  },
  {
   "cell_type": "markdown",
   "metadata": {},
   "source": [
    "**3. Find the monthly call duration for each operator**"
   ]
  },
  {
   "cell_type": "code",
   "execution_count": 44,
   "metadata": {},
   "outputs": [
    {
     "data": {
      "text/html": [
       "<div>\n",
       "<style scoped>\n",
       "    .dataframe tbody tr th:only-of-type {\n",
       "        vertical-align: middle;\n",
       "    }\n",
       "\n",
       "    .dataframe tbody tr th {\n",
       "        vertical-align: top;\n",
       "    }\n",
       "\n",
       "    .dataframe thead th {\n",
       "        text-align: right;\n",
       "    }\n",
       "</style>\n",
       "<table border=\"1\" class=\"dataframe\">\n",
       "  <thead>\n",
       "    <tr style=\"text-align: right;\">\n",
       "      <th></th>\n",
       "      <th></th>\n",
       "      <th>total_call_duration</th>\n",
       "    </tr>\n",
       "    <tr>\n",
       "      <th>month</th>\n",
       "      <th>operator_id</th>\n",
       "      <th></th>\n",
       "    </tr>\n",
       "  </thead>\n",
       "  <tbody>\n",
       "    <tr>\n",
       "      <th rowspan=\"5\" valign=\"top\">2019-08</th>\n",
       "      <th>879896</th>\n",
       "      <td>77750</td>\n",
       "    </tr>\n",
       "    <tr>\n",
       "      <th>879898</th>\n",
       "      <td>108975</td>\n",
       "    </tr>\n",
       "    <tr>\n",
       "      <th>880020</th>\n",
       "      <td>1326</td>\n",
       "    </tr>\n",
       "    <tr>\n",
       "      <th>880022</th>\n",
       "      <td>1986</td>\n",
       "    </tr>\n",
       "    <tr>\n",
       "      <th>880026</th>\n",
       "      <td>43776</td>\n",
       "    </tr>\n",
       "  </tbody>\n",
       "</table>\n",
       "</div>"
      ],
      "text/plain": [
       "                     total_call_duration\n",
       "month   operator_id                     \n",
       "2019-08 879896                     77750\n",
       "        879898                    108975\n",
       "        880020                      1326\n",
       "        880022                      1986\n",
       "        880026                     43776"
      ]
     },
     "execution_count": 44,
     "metadata": {},
     "output_type": "execute_result"
    }
   ],
   "source": [
    "#monthly call duration with wait time\n",
    "\n",
    "call_dur_1 = operator.groupby(['month','operator_id']).total_call_duration.sum().to_frame()\n",
    "call_dur_1.head()"
   ]
  },
  {
   "cell_type": "code",
   "execution_count": 45,
   "metadata": {},
   "outputs": [
    {
     "data": {
      "text/html": [
       "<div>\n",
       "<style scoped>\n",
       "    .dataframe tbody tr th:only-of-type {\n",
       "        vertical-align: middle;\n",
       "    }\n",
       "\n",
       "    .dataframe tbody tr th {\n",
       "        vertical-align: top;\n",
       "    }\n",
       "\n",
       "    .dataframe thead th {\n",
       "        text-align: right;\n",
       "    }\n",
       "</style>\n",
       "<table border=\"1\" class=\"dataframe\">\n",
       "  <thead>\n",
       "    <tr style=\"text-align: right;\">\n",
       "      <th></th>\n",
       "      <th></th>\n",
       "      <th>call_duration</th>\n",
       "    </tr>\n",
       "    <tr>\n",
       "      <th>month</th>\n",
       "      <th>operator_id</th>\n",
       "      <th></th>\n",
       "    </tr>\n",
       "  </thead>\n",
       "  <tbody>\n",
       "    <tr>\n",
       "      <th rowspan=\"5\" valign=\"top\">2019-08</th>\n",
       "      <th>879896</th>\n",
       "      <td>65804</td>\n",
       "    </tr>\n",
       "    <tr>\n",
       "      <th>879898</th>\n",
       "      <td>90114</td>\n",
       "    </tr>\n",
       "    <tr>\n",
       "      <th>880020</th>\n",
       "      <td>1078</td>\n",
       "    </tr>\n",
       "    <tr>\n",
       "      <th>880022</th>\n",
       "      <td>1876</td>\n",
       "    </tr>\n",
       "    <tr>\n",
       "      <th>880026</th>\n",
       "      <td>39599</td>\n",
       "    </tr>\n",
       "  </tbody>\n",
       "</table>\n",
       "</div>"
      ],
      "text/plain": [
       "                     call_duration\n",
       "month   operator_id               \n",
       "2019-08 879896               65804\n",
       "        879898               90114\n",
       "        880020                1078\n",
       "        880022                1876\n",
       "        880026               39599"
      ]
     },
     "execution_count": 45,
     "metadata": {},
     "output_type": "execute_result"
    }
   ],
   "source": [
    "call_dur_2 = operator.groupby(['month','operator_id']).call_duration.sum().to_frame()\n",
    "call_dur_2.head()"
   ]
  },
  {
   "cell_type": "markdown",
   "metadata": {},
   "source": [
    "**4. Find the number of interanl and external calls made in a month**"
   ]
  },
  {
   "cell_type": "code",
   "execution_count": 46,
   "metadata": {},
   "outputs": [
    {
     "data": {
      "text/html": [
       "<div>\n",
       "<style scoped>\n",
       "    .dataframe tbody tr th:only-of-type {\n",
       "        vertical-align: middle;\n",
       "    }\n",
       "\n",
       "    .dataframe tbody tr th {\n",
       "        vertical-align: top;\n",
       "    }\n",
       "\n",
       "    .dataframe thead th {\n",
       "        text-align: right;\n",
       "    }\n",
       "</style>\n",
       "<table border=\"1\" class=\"dataframe\">\n",
       "  <thead>\n",
       "    <tr style=\"text-align: right;\">\n",
       "      <th></th>\n",
       "      <th>internal</th>\n",
       "      <th>False</th>\n",
       "      <th>True</th>\n",
       "    </tr>\n",
       "    <tr>\n",
       "      <th>month</th>\n",
       "      <th>operator_id</th>\n",
       "      <th></th>\n",
       "      <th></th>\n",
       "    </tr>\n",
       "  </thead>\n",
       "  <tbody>\n",
       "    <tr>\n",
       "      <th rowspan=\"5\" valign=\"top\">2019-08</th>\n",
       "      <th>879896</th>\n",
       "      <td>60</td>\n",
       "      <td>9</td>\n",
       "    </tr>\n",
       "    <tr>\n",
       "      <th>879898</th>\n",
       "      <td>52</td>\n",
       "      <td>2</td>\n",
       "    </tr>\n",
       "    <tr>\n",
       "      <th>880020</th>\n",
       "      <td>7</td>\n",
       "      <td>2</td>\n",
       "    </tr>\n",
       "    <tr>\n",
       "      <th>880022</th>\n",
       "      <td>6</td>\n",
       "      <td>2</td>\n",
       "    </tr>\n",
       "    <tr>\n",
       "      <th>880026</th>\n",
       "      <td>38</td>\n",
       "      <td>3</td>\n",
       "    </tr>\n",
       "  </tbody>\n",
       "</table>\n",
       "</div>"
      ],
      "text/plain": [
       "internal             False  True \n",
       "month   operator_id              \n",
       "2019-08 879896          60      9\n",
       "        879898          52      2\n",
       "        880020           7      2\n",
       "        880022           6      2\n",
       "        880026          38      3"
      ]
     },
     "execution_count": 46,
     "metadata": {},
     "output_type": "execute_result"
    }
   ],
   "source": [
    "in_ext = pd.crosstab(index =[operator.month,operator.operator_id], columns = operator.internal)\n",
    "in_ext.head()"
   ]
  },
  {
   "cell_type": "markdown",
   "metadata": {},
   "source": [
    "> - The number of missed, incoming, outgoing and internal/external calls are calculated and shown in the cross tab"
   ]
  },
  {
   "cell_type": "markdown",
   "metadata": {},
   "source": [
    "**5. Find the plan for which the operator is used the most**"
   ]
  },
  {
   "cell_type": "code",
   "execution_count": 47,
   "metadata": {},
   "outputs": [],
   "source": [
    "top_plan = op_cli.groupby('tariff_plan').agg({'operator_id':'nunique'}).sort_values('operator_id',ascending= False)"
   ]
  },
  {
   "cell_type": "code",
   "execution_count": 48,
   "metadata": {
    "scrolled": false
   },
   "outputs": [
    {
     "data": {
      "image/png": "[encoded data removed]",
      "text/plain": [
       "<Figure size 432x288 with 1 Axes>"
      ]
     },
     "metadata": {
      "needs_background": "light"
     },
     "output_type": "display_data"
    }
   ],
   "source": [
    "plt.bar(top_plan.index, top_plan.operator_id, color = ['#4C4C6D','#B8DFD8','#FFE194'], edgecolor = 'black')\n",
    "plt.title('Number of operators per plan')\n",
    "plt.show()"
   ]
  },
  {
   "cell_type": "markdown",
   "metadata": {},
   "source": [
    "> - Plan B seems to be the plan that utilises most of the operators "
   ]
  },
  {
   "cell_type": "markdown",
   "metadata": {},
   "source": [
    "### IDENTIFYING INEFFECTIVE OPERATORS"
   ]
  },
  {
   "cell_type": "code",
   "execution_count": 49,
   "metadata": {},
   "outputs": [
    {
     "data": {
      "text/html": [
       "<div>\n",
       "<style scoped>\n",
       "    .dataframe tbody tr th:only-of-type {\n",
       "        vertical-align: middle;\n",
       "    }\n",
       "\n",
       "    .dataframe tbody tr th {\n",
       "        vertical-align: top;\n",
       "    }\n",
       "\n",
       "    .dataframe thead th {\n",
       "        text-align: right;\n",
       "    }\n",
       "</style>\n",
       "<table border=\"1\" class=\"dataframe\">\n",
       "  <thead>\n",
       "    <tr style=\"text-align: right;\">\n",
       "      <th></th>\n",
       "      <th>is_missed_call</th>\n",
       "    </tr>\n",
       "    <tr>\n",
       "      <th>operator_id</th>\n",
       "      <th></th>\n",
       "    </tr>\n",
       "  </thead>\n",
       "  <tbody>\n",
       "    <tr>\n",
       "      <th>885876</th>\n",
       "      <td>135</td>\n",
       "    </tr>\n",
       "    <tr>\n",
       "      <th>891410</th>\n",
       "      <td>131</td>\n",
       "    </tr>\n",
       "    <tr>\n",
       "      <th>893804</th>\n",
       "      <td>130</td>\n",
       "    </tr>\n",
       "    <tr>\n",
       "      <th>901880</th>\n",
       "      <td>128</td>\n",
       "    </tr>\n",
       "    <tr>\n",
       "      <th>891414</th>\n",
       "      <td>126</td>\n",
       "    </tr>\n",
       "  </tbody>\n",
       "</table>\n",
       "</div>"
      ],
      "text/plain": [
       "             is_missed_call\n",
       "operator_id                \n",
       "885876                  135\n",
       "891410                  131\n",
       "893804                  130\n",
       "901880                  128\n",
       "891414                  126"
      ]
     },
     "execution_count": 49,
     "metadata": {},
     "output_type": "execute_result"
    }
   ],
   "source": [
    "missed = operator[operator.is_missed_call == True].groupby('operator_id').is_missed_call.count().sort_values(ascending=False).to_frame()\n",
    "missed.head()"
   ]
  },
  {
   "cell_type": "code",
   "execution_count": 50,
   "metadata": {},
   "outputs": [
    {
     "data": {
      "text/html": [
       "<div>\n",
       "<style scoped>\n",
       "    .dataframe tbody tr th:only-of-type {\n",
       "        vertical-align: middle;\n",
       "    }\n",
       "\n",
       "    .dataframe tbody tr th {\n",
       "        vertical-align: top;\n",
       "    }\n",
       "\n",
       "    .dataframe thead th {\n",
       "        text-align: right;\n",
       "    }\n",
       "</style>\n",
       "<table border=\"1\" class=\"dataframe\">\n",
       "  <thead>\n",
       "    <tr style=\"text-align: right;\">\n",
       "      <th></th>\n",
       "      <th>direction</th>\n",
       "    </tr>\n",
       "    <tr>\n",
       "      <th>operator_id</th>\n",
       "      <th></th>\n",
       "    </tr>\n",
       "  </thead>\n",
       "  <tbody>\n",
       "    <tr>\n",
       "      <th>901880</th>\n",
       "      <td>121</td>\n",
       "    </tr>\n",
       "    <tr>\n",
       "      <th>908960</th>\n",
       "      <td>116</td>\n",
       "    </tr>\n",
       "    <tr>\n",
       "      <th>893804</th>\n",
       "      <td>116</td>\n",
       "    </tr>\n",
       "    <tr>\n",
       "      <th>885890</th>\n",
       "      <td>103</td>\n",
       "    </tr>\n",
       "    <tr>\n",
       "      <th>885876</th>\n",
       "      <td>103</td>\n",
       "    </tr>\n",
       "  </tbody>\n",
       "</table>\n",
       "</div>"
      ],
      "text/plain": [
       "             direction\n",
       "operator_id           \n",
       "901880             121\n",
       "908960             116\n",
       "893804             116\n",
       "885890             103\n",
       "885876             103"
      ]
     },
     "execution_count": 50,
     "metadata": {},
     "output_type": "execute_result"
    }
   ],
   "source": [
    "incoming = operator[operator.direction =='in'].groupby('operator_id').direction.count().sort_values(ascending=False).to_frame()\n",
    "incoming.head()"
   ]
  },
  {
   "cell_type": "code",
   "execution_count": 51,
   "metadata": {},
   "outputs": [
    {
     "data": {
      "text/html": [
       "<div>\n",
       "<style scoped>\n",
       "    .dataframe tbody tr th:only-of-type {\n",
       "        vertical-align: middle;\n",
       "    }\n",
       "\n",
       "    .dataframe tbody tr th {\n",
       "        vertical-align: top;\n",
       "    }\n",
       "\n",
       "    .dataframe thead th {\n",
       "        text-align: right;\n",
       "    }\n",
       "</style>\n",
       "<table border=\"1\" class=\"dataframe\">\n",
       "  <thead>\n",
       "    <tr style=\"text-align: right;\">\n",
       "      <th></th>\n",
       "      <th>direction</th>\n",
       "    </tr>\n",
       "    <tr>\n",
       "      <th>operator_id</th>\n",
       "      <th></th>\n",
       "    </tr>\n",
       "  </thead>\n",
       "  <tbody>\n",
       "    <tr>\n",
       "      <th>901884</th>\n",
       "      <td>246</td>\n",
       "    </tr>\n",
       "    <tr>\n",
       "      <th>885876</th>\n",
       "      <td>216</td>\n",
       "    </tr>\n",
       "    <tr>\n",
       "      <th>901880</th>\n",
       "      <td>216</td>\n",
       "    </tr>\n",
       "    <tr>\n",
       "      <th>887276</th>\n",
       "      <td>215</td>\n",
       "    </tr>\n",
       "    <tr>\n",
       "      <th>891414</th>\n",
       "      <td>212</td>\n",
       "    </tr>\n",
       "  </tbody>\n",
       "</table>\n",
       "</div>"
      ],
      "text/plain": [
       "             direction\n",
       "operator_id           \n",
       "901884             246\n",
       "885876             216\n",
       "901880             216\n",
       "887276             215\n",
       "891414             212"
      ]
     },
     "execution_count": 51,
     "metadata": {},
     "output_type": "execute_result"
    }
   ],
   "source": [
    "outgoing = operator[operator.direction =='out'].groupby('operator_id').direction.count().sort_values(ascending=False).to_frame()\n",
    "outgoing.head()"
   ]
  },
  {
   "cell_type": "code",
   "execution_count": 52,
   "metadata": {},
   "outputs": [
    {
     "data": {
      "text/html": [
       "<div>\n",
       "<style scoped>\n",
       "    .dataframe tbody tr th:only-of-type {\n",
       "        vertical-align: middle;\n",
       "    }\n",
       "\n",
       "    .dataframe tbody tr th {\n",
       "        vertical-align: top;\n",
       "    }\n",
       "\n",
       "    .dataframe thead th {\n",
       "        text-align: right;\n",
       "    }\n",
       "</style>\n",
       "<table border=\"1\" class=\"dataframe\">\n",
       "  <thead>\n",
       "    <tr style=\"text-align: right;\">\n",
       "      <th></th>\n",
       "      <th>wait_time</th>\n",
       "    </tr>\n",
       "    <tr>\n",
       "      <th>operator_id</th>\n",
       "      <th></th>\n",
       "    </tr>\n",
       "  </thead>\n",
       "  <tbody>\n",
       "    <tr>\n",
       "      <th>885890</th>\n",
       "      <td>1586416</td>\n",
       "    </tr>\n",
       "    <tr>\n",
       "      <th>885876</th>\n",
       "      <td>1536381</td>\n",
       "    </tr>\n",
       "    <tr>\n",
       "      <th>925922</th>\n",
       "      <td>466688</td>\n",
       "    </tr>\n",
       "    <tr>\n",
       "      <th>929428</th>\n",
       "      <td>372774</td>\n",
       "    </tr>\n",
       "    <tr>\n",
       "      <th>929426</th>\n",
       "      <td>225526</td>\n",
       "    </tr>\n",
       "  </tbody>\n",
       "</table>\n",
       "</div>"
      ],
      "text/plain": [
       "             wait_time\n",
       "operator_id           \n",
       "885890         1586416\n",
       "885876         1536381\n",
       "925922          466688\n",
       "929428          372774\n",
       "929426          225526"
      ]
     },
     "execution_count": 52,
     "metadata": {},
     "output_type": "execute_result"
    }
   ],
   "source": [
    "waiting = operator.groupby('operator_id').wait_time.sum().sort_values(ascending = False).to_frame()\n",
    "waiting.head()"
   ]
  },
  {
   "cell_type": "code",
   "execution_count": 53,
   "metadata": {},
   "outputs": [],
   "source": [
    "# taking 80% quantiles from each distribution\n",
    "\n",
    "missed_quant = round(missed.is_missed_call.quantile(0.9))\n",
    "incoming_quant = round(incoming.direction.quantile(0.9))\n",
    "outgoing_quant = round(outgoing.direction.quantile(0.1))\n",
    "waiting_quant = round(waiting.wait_time.quantile(0.9))"
   ]
  },
  {
   "cell_type": "code",
   "execution_count": 54,
   "metadata": {},
   "outputs": [],
   "source": [
    "# finding the list of operators in each case\n",
    "\n",
    "a = missed[missed.is_missed_call > missed_quant].index.to_list()\n",
    "b = incoming[incoming.direction > incoming_quant].index.to_list()\n",
    "c = outgoing[outgoing.direction < outgoing_quant].index.to_list()\n",
    "d = waiting[waiting.wait_time > waiting_quant].index.to_list()\n",
    "\n",
    "#op_list = set(a + op2 + op3 + op4)"
   ]
  },
  {
   "cell_type": "code",
   "execution_count": 55,
   "metadata": {
    "scrolled": false
   },
   "outputs": [
    {
     "name": "stdout",
     "output_type": "stream",
     "text": [
      "[930816, 970240, 941826, 905480, 914440, 899082, 970250, 891918, 913938, 891410, 970258, 935956, 913942, 930326, 879898, 928284, 966686, 895266, 937770, 937772, 882478, 969262, 908080, 937778, 891192, 905538, 940610, 969284, 969288, 891976, 883018, 914256, 937720, 962904, 905308, 906076, 902238, 900192, 914272, 915556, 893804, 891250, 885876, 944246, 890234, 945274, 919418, 905470, 885890, 931458, 930692, 963716, 923526, 905862, 956292, 947596, 909452, 938896, 929424, 937872, 932246, 904344, 946072, 924572, 960674, 945058, 906406, 919206, 949420, 954284, 919214, 944560, 899250, 939698, 945074, 883898, 955068, 914626, 948170, 918988, 955086, 954318, 941816, 921818, 907998, 937956, 921318, 954086, 945898, 937710, 937716, 901880, 958458, 901884, 882686]\n"
     ]
    }
   ],
   "source": [
    "#ineffective = list(set(((set(a).intersection(set(b))).intersection(set(d)))))#.union(set(c))))\n",
    "\n",
    "ineffective = list(set((set(set(a).intersection(set(b))).intersection(set(d))).union(set(c))))\n",
    "print(ineffective)"
   ]
  },
  {
   "cell_type": "markdown",
   "metadata": {},
   "source": [
    "> - The number of missed, incoming , outgoing calls and wait time for each operator is calculated\n",
    "> - For missed , incoming and wait time, a cut off of 90% quantile range is taken and for outgoing call 10% quantile range is taken as the cut off\n",
    "> - The operators that lie above 90% range in missed, incoming and wait time and below 10% of outgoing are considered to be ineffevtive operators.\n",
    "> - Since missed call, waiting time are related to incoming call, intersection of these set along with the union of operators in the outgoing call list is taken and considered to be the list of ineffective operators "
   ]
  },
  {
   "cell_type": "code",
   "execution_count": 56,
   "metadata": {},
   "outputs": [],
   "source": [
    "eff_op = operator[~operator.operator_id.isin(ineffective)]"
   ]
  },
  {
   "cell_type": "code",
   "execution_count": 57,
   "metadata": {},
   "outputs": [],
   "source": [
    "ineff_op = operator[operator.operator_id.isin(ineffective)]"
   ]
  },
  {
   "cell_type": "code",
   "execution_count": 58,
   "metadata": {},
   "outputs": [
    {
     "data": {
      "text/html": [
       "<div>\n",
       "<style scoped>\n",
       "    .dataframe tbody tr th:only-of-type {\n",
       "        vertical-align: middle;\n",
       "    }\n",
       "\n",
       "    .dataframe tbody tr th {\n",
       "        vertical-align: top;\n",
       "    }\n",
       "\n",
       "    .dataframe thead th {\n",
       "        text-align: right;\n",
       "    }\n",
       "</style>\n",
       "<table border=\"1\" class=\"dataframe\">\n",
       "  <thead>\n",
       "    <tr style=\"text-align: right;\">\n",
       "      <th></th>\n",
       "      <th></th>\n",
       "      <th>calls_count</th>\n",
       "    </tr>\n",
       "    <tr>\n",
       "      <th>user_id</th>\n",
       "      <th>operator_id</th>\n",
       "      <th></th>\n",
       "    </tr>\n",
       "  </thead>\n",
       "  <tbody>\n",
       "    <tr>\n",
       "      <th>167827</th>\n",
       "      <th>929428</th>\n",
       "      <td>24572</td>\n",
       "    </tr>\n",
       "    <tr>\n",
       "      <th>166582</th>\n",
       "      <th>925922</th>\n",
       "      <td>22210</td>\n",
       "    </tr>\n",
       "    <tr>\n",
       "      <th>167285</th>\n",
       "      <th>908640</th>\n",
       "      <td>16699</td>\n",
       "    </tr>\n",
       "    <tr>\n",
       "      <th>167827</th>\n",
       "      <th>929426</th>\n",
       "      <td>12041</td>\n",
       "    </tr>\n",
       "    <tr>\n",
       "      <th rowspan=\"2\" valign=\"top\">168361</th>\n",
       "      <th>945286</th>\n",
       "      <td>7919</td>\n",
       "    </tr>\n",
       "    <tr>\n",
       "      <th>945302</th>\n",
       "      <td>7059</td>\n",
       "    </tr>\n",
       "    <tr>\n",
       "      <th>168253</th>\n",
       "      <th>952948</th>\n",
       "      <td>5423</td>\n",
       "    </tr>\n",
       "    <tr>\n",
       "      <th>167112</th>\n",
       "      <th>904016</th>\n",
       "      <td>5175</td>\n",
       "    </tr>\n",
       "    <tr>\n",
       "      <th>167626</th>\n",
       "      <th>919364</th>\n",
       "      <td>5096</td>\n",
       "    </tr>\n",
       "    <tr>\n",
       "      <th>168361</th>\n",
       "      <th>945322</th>\n",
       "      <td>5015</td>\n",
       "    </tr>\n",
       "  </tbody>\n",
       "</table>\n",
       "</div>"
      ],
      "text/plain": [
       "                     calls_count\n",
       "user_id operator_id             \n",
       "167827  929428             24572\n",
       "166582  925922             22210\n",
       "167285  908640             16699\n",
       "167827  929426             12041\n",
       "168361  945286              7919\n",
       "        945302              7059\n",
       "168253  952948              5423\n",
       "167112  904016              5175\n",
       "167626  919364              5096\n",
       "168361  945322              5015"
      ]
     },
     "execution_count": 58,
     "metadata": {},
     "output_type": "execute_result"
    }
   ],
   "source": [
    "# Find the most valuable clients and most used operators \n",
    "\n",
    "eff_op.groupby(['user_id','operator_id']).calls_count.sum().sort_values(ascending = False)[:10].to_frame()"
   ]
  },
  {
   "cell_type": "markdown",
   "metadata": {},
   "source": [
    "> - Now that we have found the ineffective operators and effective operators, we can exclude the ineffective ones to find the effective ones and the clients who use those are considered to be valuable "
   ]
  },
  {
   "cell_type": "markdown",
   "metadata": {},
   "source": [
    "### Hypothesis testing "
   ]
  },
  {
   "cell_type": "markdown",
   "metadata": {},
   "source": [
    "> - Ho : Daily call duration for effective operator is same as ineffective operators\n",
    "> - H1 : Daily call duration for effective operator is not the same as ineffective operators "
   ]
  },
  {
   "cell_type": "code",
   "execution_count": 59,
   "metadata": {},
   "outputs": [],
   "source": [
    "#taking samples from eff_op\n",
    "\n",
    "eff_sample = eff_op.sample(ineff_op.shape[0], random_state = 0)\n",
    "eff_call = eff_sample.groupby('date').call_duration.sum()\n",
    "\n",
    "\n",
    "ineff_call = ineff_op.groupby('date').call_duration.sum()"
   ]
  },
  {
   "cell_type": "code",
   "execution_count": 60,
   "metadata": {},
   "outputs": [
    {
     "name": "stdout",
     "output_type": "stream",
     "text": [
      "stat=2574.000, p=0.0000000000\n",
      "Reject H0\n"
     ]
    }
   ],
   "source": [
    "from scipy.stats import mannwhitneyu\n",
    "data1 = eff_call\n",
    "data2 = ineff_call\n",
    "stat, p = mannwhitneyu(data1, data2)\n",
    "print('stat=%.3f, p=%.10f' % (stat, p))\n",
    "if p < 0.05:\n",
    "    print('Reject H0')\n",
    "else:\n",
    "    print('Failed to reject H0')"
   ]
  },
  {
   "cell_type": "markdown",
   "metadata": {},
   "source": [
    "> - Mannwhitneyu test was selected to find if the distribution in both the sample is equal or not \n",
    "> - Alpha value of 0.05 was chosen as its the most common values \n",
    "> - Based on the test, the null hypothesis has been rejected which means that the daily call duration for effective operators is not the same as that or ineffective operators\n"
   ]
  },
  {
   "cell_type": "markdown",
   "metadata": {},
   "source": [
    "### Conclusion"
   ]
  },
  {
   "cell_type": "markdown",
   "metadata": {},
   "source": [
    "- Missing values in the operator_id column was inferred from user_id columns and filled, missing vales in internal column was filled using mode in the operators dataset. The clients data had no missing values\n",
    "- All the date columns in both the dataset were changed form object to date time and operator_id was changed from float to int \n",
    "- Wait time column was added by subtracting total_call_duration with call_duration. A few other columns such as month, day and week columns were extracted in both the datasets\n",
    "- There were more number of clients registered in the month of August and the least registrations were in September\n",
    "- The operators were used increasingly on the weekdays with a drastic fall during the weekend\n",
    "- The number of outgoing calls are more compared to incoming, the number of external calls are more compared  to internal\n",
    "- The number of missed calls is only nearly 13% less than the number of received calls \n",
    "- The top 10 clients and the operators were found, but the operators also included the missed calls. This was later filtered after finding and excluding the ineffective operators\n",
    "- The average number of calls is nearly 30% more for Plan A compared to plan B and C. This shows that clients preferred Plan A\n",
    "- A few operators with the maximum and minimum wait_time was found\n",
    "- The scatter plot of call duration vs calls count revealed that Plan A has more number of missed calls compared to any other plan. \n",
    "- Top 10 clients who uses more number of operators were found \n",
    "- The number of missed, incoming, outgoing and internal/external calls are calculated and shown in the cross tab\n",
    "- Majority of the operators are being used in Plan B\n",
    "- The number of missed, incoming and outgoing call along with wait_time for each operator is calculated. Ineffective operator is taken as the union of operators in the incoming call operators and outgoing call operators\n",
    "- Finally, once the ineffective operators are found and removed, the most useful operator and the most valuable clients are found\n",
    "- Hypothesis testing was performed to check if the daily call duration for both effective and ineffective operators are same. It was statistically proven that the call duration was not the same \n",
    "\n",
    "\n",
    "Recommendaions :\n",
    "- All the ineffective operators can be removed. \n",
    "- These operators can be betetr distributed among future clients\n",
    "\n",
    "\n",
    "\n",
    "\n",
    "\n",
    "\n",
    "\n"
   ]
  },
  {
   "cell_type": "markdown",
   "metadata": {},
   "source": [
    "#### Tableau dashborad Link : https://public.tableau.com/app/profile/poornima.venkatesha3162/viz/Telecom_operator/Dashboard1\n",
    "\n",
    "#### Presentation Link : https://drive.google.com/file/d/1CBmaNCroCCxW5PoDBjKwR_fpaR0D7dld/view?usp=sharing"
   ]
  },
  {
   "cell_type": "code",
   "execution_count": null,
   "metadata": {},
   "outputs": [],
   "source": []
  }
 ],
 "metadata": {
  "ExecuteTimeLog": [
   {
    "duration": 1117,
    "start_time": "2021-07-07T13:29:08.170Z"
   },
   {
    "duration": 1915,
    "start_time": "2021-07-07T13:29:16.350Z"
   },
   {
    "duration": 73,
    "start_time": "2021-07-07T13:29:24.790Z"
   },
   {
    "duration": 29,
    "start_time": "2021-07-07T13:29:37.559Z"
   },
   {
    "duration": 3,
    "start_time": "2021-07-07T13:29:45.166Z"
   },
   {
    "duration": 11,
    "start_time": "2021-07-07T13:29:51.353Z"
   },
   {
    "duration": 7,
    "start_time": "2021-07-07T13:29:58.765Z"
   },
   {
    "duration": 60,
    "start_time": "2021-07-07T13:30:06.691Z"
   },
   {
    "duration": 15,
    "start_time": "2021-07-07T13:30:22.713Z"
   },
   {
    "duration": 11,
    "start_time": "2021-07-07T13:31:50.394Z"
   },
   {
    "duration": 5,
    "start_time": "2021-07-07T13:31:58.034Z"
   },
   {
    "duration": 7,
    "start_time": "2021-07-07T13:33:10.375Z"
   },
   {
    "duration": 9,
    "start_time": "2021-07-07T13:33:45.706Z"
   },
   {
    "duration": 92,
    "start_time": "2021-07-07T13:34:08.784Z"
   },
   {
    "duration": 32,
    "start_time": "2021-07-07T13:34:15.754Z"
   },
   {
    "duration": 5,
    "start_time": "2021-07-07T13:34:23.057Z"
   },
   {
    "duration": 96,
    "start_time": "2021-07-07T13:34:38.985Z"
   },
   {
    "duration": 12,
    "start_time": "2021-07-07T13:34:52.883Z"
   },
   {
    "duration": 6,
    "start_time": "2021-07-07T13:34:57.203Z"
   },
   {
    "duration": 21,
    "start_time": "2021-07-07T13:35:14.244Z"
   },
   {
    "duration": 563,
    "start_time": "2021-07-07T13:35:56.671Z"
   },
   {
    "duration": 315,
    "start_time": "2021-07-07T13:36:12.646Z"
   },
   {
    "duration": 7,
    "start_time": "2021-07-07T13:36:15.782Z"
   },
   {
    "duration": 5,
    "start_time": "2021-07-07T13:37:58.918Z"
   },
   {
    "duration": 10,
    "start_time": "2021-07-07T13:39:45.439Z"
   },
   {
    "duration": 10,
    "start_time": "2021-07-07T13:39:57.787Z"
   },
   {
    "duration": 245,
    "start_time": "2021-07-07T13:40:41.931Z"
   },
   {
    "duration": 8,
    "start_time": "2021-07-07T13:40:56.585Z"
   },
   {
    "duration": 13,
    "start_time": "2021-07-07T13:41:01.123Z"
   },
   {
    "duration": 6,
    "start_time": "2021-07-07T13:41:19.260Z"
   },
   {
    "duration": 1150,
    "start_time": "2021-07-07T13:41:31.604Z"
   },
   {
    "duration": 1209,
    "start_time": "2021-07-07T13:41:36.659Z"
   },
   {
    "duration": 179,
    "start_time": "2021-07-07T13:41:57.923Z"
   },
   {
    "duration": 316,
    "start_time": "2021-07-07T13:44:00.288Z"
   },
   {
    "duration": 302,
    "start_time": "2021-07-07T13:44:11.917Z"
   },
   {
    "duration": 5,
    "start_time": "2021-07-07T13:44:43.645Z"
   },
   {
    "duration": 433,
    "start_time": "2021-07-07T13:44:47.139Z"
   },
   {
    "duration": 466,
    "start_time": "2021-07-07T13:44:53.586Z"
   },
   {
    "duration": 427,
    "start_time": "2021-07-07T13:45:19.573Z"
   },
   {
    "duration": 374,
    "start_time": "2021-07-07T13:46:08.000Z"
   },
   {
    "duration": 226,
    "start_time": "2021-07-07T13:46:27.384Z"
   },
   {
    "duration": 118,
    "start_time": "2021-07-07T13:46:30.570Z"
   },
   {
    "duration": 333,
    "start_time": "2021-07-07T13:46:33.669Z"
   },
   {
    "duration": 322,
    "start_time": "2021-07-07T13:46:40.646Z"
   },
   {
    "duration": 307,
    "start_time": "2021-07-07T13:46:47.694Z"
   },
   {
    "duration": 1132,
    "start_time": "2021-07-07T14:09:44.420Z"
   },
   {
    "duration": 64,
    "start_time": "2021-07-07T14:09:45.553Z"
   },
   {
    "duration": 28,
    "start_time": "2021-07-07T14:09:45.619Z"
   },
   {
    "duration": 10,
    "start_time": "2021-07-07T14:09:45.649Z"
   },
   {
    "duration": 35,
    "start_time": "2021-07-07T14:09:45.661Z"
   },
   {
    "duration": 6,
    "start_time": "2021-07-07T14:09:45.698Z"
   },
   {
    "duration": 95,
    "start_time": "2021-07-07T14:09:45.705Z"
   },
   {
    "duration": 18,
    "start_time": "2021-07-07T14:09:45.802Z"
   },
   {
    "duration": 20,
    "start_time": "2021-07-07T14:09:45.823Z"
   },
   {
    "duration": 16,
    "start_time": "2021-07-07T14:09:45.845Z"
   },
   {
    "duration": 16,
    "start_time": "2021-07-07T14:09:45.863Z"
   },
   {
    "duration": 11,
    "start_time": "2021-07-07T14:09:45.880Z"
   },
   {
    "duration": 92,
    "start_time": "2021-07-07T14:09:45.893Z"
   },
   {
    "duration": 23,
    "start_time": "2021-07-07T14:09:45.987Z"
   },
   {
    "duration": 8,
    "start_time": "2021-07-07T14:09:46.011Z"
   },
   {
    "duration": 27,
    "start_time": "2021-07-07T14:09:46.020Z"
   },
   {
    "duration": 6,
    "start_time": "2021-07-07T14:09:46.049Z"
   },
   {
    "duration": 22,
    "start_time": "2021-07-07T14:09:46.057Z"
   },
   {
    "duration": 312,
    "start_time": "2021-07-07T14:09:46.081Z"
   },
   {
    "duration": 7,
    "start_time": "2021-07-07T14:09:46.394Z"
   },
   {
    "duration": 10,
    "start_time": "2021-07-07T14:09:46.402Z"
   },
   {
    "duration": 319,
    "start_time": "2021-07-07T14:09:46.413Z"
   },
   {
    "duration": 362,
    "start_time": "2021-07-07T14:09:46.733Z"
   },
   {
    "duration": 17,
    "start_time": "2021-07-07T14:09:57.615Z"
   },
   {
    "duration": 9,
    "start_time": "2021-07-07T14:10:07.016Z"
   },
   {
    "duration": 12,
    "start_time": "2021-07-07T14:10:11.258Z"
   },
   {
    "duration": 385,
    "start_time": "2021-07-07T14:10:59.937Z"
   },
   {
    "duration": 434,
    "start_time": "2021-07-07T14:11:09.234Z"
   },
   {
    "duration": 375,
    "start_time": "2021-07-07T14:11:18.268Z"
   },
   {
    "duration": 316,
    "start_time": "2021-07-07T14:11:28.798Z"
   },
   {
    "duration": 377,
    "start_time": "2021-07-07T14:11:41.839Z"
   },
   {
    "duration": 394,
    "start_time": "2021-07-07T14:14:24.689Z"
   },
   {
    "duration": 77,
    "start_time": "2021-07-07T14:15:34.824Z"
   },
   {
    "duration": 79,
    "start_time": "2021-07-07T14:16:52.019Z"
   },
   {
    "duration": 150,
    "start_time": "2021-07-07T14:17:48.455Z"
   },
   {
    "duration": 69,
    "start_time": "2021-07-07T14:18:05.074Z"
   },
   {
    "duration": 84,
    "start_time": "2021-07-07T14:18:47.816Z"
   },
   {
    "duration": 83,
    "start_time": "2021-07-07T14:18:53.580Z"
   },
   {
    "duration": 81,
    "start_time": "2021-07-07T14:18:58.084Z"
   },
   {
    "duration": 84,
    "start_time": "2021-07-07T14:19:02.682Z"
   },
   {
    "duration": 74,
    "start_time": "2021-07-07T14:19:22.093Z"
   },
   {
    "duration": 75,
    "start_time": "2021-07-07T14:26:18.076Z"
   },
   {
    "duration": 76,
    "start_time": "2021-07-07T14:26:40.782Z"
   },
   {
    "duration": 74,
    "start_time": "2021-07-07T14:27:18.207Z"
   },
   {
    "duration": 263,
    "start_time": "2021-07-07T14:46:04.306Z"
   },
   {
    "duration": 7,
    "start_time": "2021-07-07T14:46:09.412Z"
   },
   {
    "duration": 4,
    "start_time": "2021-07-07T14:46:15.990Z"
   },
   {
    "duration": 7,
    "start_time": "2021-07-07T14:46:19.921Z"
   },
   {
    "duration": 7,
    "start_time": "2021-07-07T14:46:31.726Z"
   },
   {
    "duration": 7,
    "start_time": "2021-07-07T14:46:38.263Z"
   },
   {
    "duration": 7,
    "start_time": "2021-07-07T14:47:18.959Z"
   },
   {
    "duration": 8,
    "start_time": "2021-07-07T14:47:29.988Z"
   },
   {
    "duration": 410,
    "start_time": "2021-07-07T14:48:19.960Z"
   },
   {
    "duration": 10,
    "start_time": "2021-07-07T14:48:36.867Z"
   },
   {
    "duration": 5,
    "start_time": "2021-07-07T14:49:12.517Z"
   },
   {
    "duration": 252,
    "start_time": "2021-07-07T14:49:15.988Z"
   },
   {
    "duration": 994,
    "start_time": "2021-07-07T15:45:44.685Z"
   },
   {
    "duration": 63,
    "start_time": "2021-07-07T15:45:45.681Z"
   },
   {
    "duration": 28,
    "start_time": "2021-07-07T15:45:45.746Z"
   },
   {
    "duration": 5,
    "start_time": "2021-07-07T15:45:45.776Z"
   },
   {
    "duration": 12,
    "start_time": "2021-07-07T15:45:45.783Z"
   },
   {
    "duration": 5,
    "start_time": "2021-07-07T15:45:45.796Z"
   },
   {
    "duration": 48,
    "start_time": "2021-07-07T15:45:45.803Z"
   },
   {
    "duration": 18,
    "start_time": "2021-07-07T15:45:45.852Z"
   },
   {
    "duration": 11,
    "start_time": "2021-07-07T15:45:45.872Z"
   },
   {
    "duration": 6,
    "start_time": "2021-07-07T15:45:45.886Z"
   },
   {
    "duration": 6,
    "start_time": "2021-07-07T15:45:45.893Z"
   },
   {
    "duration": 9,
    "start_time": "2021-07-07T15:45:45.900Z"
   },
   {
    "duration": 106,
    "start_time": "2021-07-07T15:45:45.910Z"
   },
   {
    "duration": 26,
    "start_time": "2021-07-07T15:45:46.017Z"
   },
   {
    "duration": 7,
    "start_time": "2021-07-07T15:45:46.044Z"
   },
   {
    "duration": 13,
    "start_time": "2021-07-07T15:45:46.052Z"
   },
   {
    "duration": 4,
    "start_time": "2021-07-07T15:45:46.066Z"
   },
   {
    "duration": 16,
    "start_time": "2021-07-07T15:45:46.072Z"
   },
   {
    "duration": 370,
    "start_time": "2021-07-07T15:45:46.090Z"
   },
   {
    "duration": 10,
    "start_time": "2021-07-07T15:45:46.462Z"
   },
   {
    "duration": 17,
    "start_time": "2021-07-07T15:45:46.474Z"
   },
   {
    "duration": 318,
    "start_time": "2021-07-07T15:45:46.493Z"
   },
   {
    "duration": 411,
    "start_time": "2021-07-07T15:45:46.813Z"
   },
   {
    "duration": 87,
    "start_time": "2021-07-07T15:45:47.226Z"
   },
   {
    "duration": 145,
    "start_time": "2021-07-07T15:45:47.315Z"
   },
   {
    "duration": 83,
    "start_time": "2021-07-07T15:45:47.466Z"
   },
   {
    "duration": 10,
    "start_time": "2021-07-07T15:45:47.552Z"
   },
   {
    "duration": 6,
    "start_time": "2021-07-07T15:47:17.395Z"
   },
   {
    "duration": 185,
    "start_time": "2021-07-07T15:47:28.065Z"
   },
   {
    "duration": 177,
    "start_time": "2021-07-07T15:48:05.752Z"
   },
   {
    "duration": 6,
    "start_time": "2021-07-07T15:48:08.017Z"
   },
   {
    "duration": 183,
    "start_time": "2021-07-07T15:48:15.618Z"
   },
   {
    "duration": 180,
    "start_time": "2021-07-07T15:48:21.447Z"
   },
   {
    "duration": 982,
    "start_time": "2021-07-07T15:48:39.379Z"
   },
   {
    "duration": 65,
    "start_time": "2021-07-07T15:48:40.362Z"
   },
   {
    "duration": 28,
    "start_time": "2021-07-07T15:48:40.429Z"
   },
   {
    "duration": 5,
    "start_time": "2021-07-07T15:48:40.459Z"
   },
   {
    "duration": 12,
    "start_time": "2021-07-07T15:48:40.466Z"
   },
   {
    "duration": 5,
    "start_time": "2021-07-07T15:48:40.479Z"
   },
   {
    "duration": 48,
    "start_time": "2021-07-07T15:48:40.485Z"
   },
   {
    "duration": 17,
    "start_time": "2021-07-07T15:48:40.534Z"
   },
   {
    "duration": 11,
    "start_time": "2021-07-07T15:48:40.553Z"
   },
   {
    "duration": 4,
    "start_time": "2021-07-07T15:48:40.566Z"
   },
   {
    "duration": 6,
    "start_time": "2021-07-07T15:48:40.572Z"
   },
   {
    "duration": 12,
    "start_time": "2021-07-07T15:48:40.579Z"
   },
   {
    "duration": 103,
    "start_time": "2021-07-07T15:48:40.593Z"
   },
   {
    "duration": 22,
    "start_time": "2021-07-07T15:48:40.698Z"
   },
   {
    "duration": 6,
    "start_time": "2021-07-07T15:48:40.722Z"
   },
   {
    "duration": 19,
    "start_time": "2021-07-07T15:48:40.729Z"
   },
   {
    "duration": 4,
    "start_time": "2021-07-07T15:48:40.750Z"
   },
   {
    "duration": 15,
    "start_time": "2021-07-07T15:48:40.756Z"
   },
   {
    "duration": 309,
    "start_time": "2021-07-07T15:48:40.772Z"
   },
   {
    "duration": 7,
    "start_time": "2021-07-07T15:48:41.082Z"
   },
   {
    "duration": 7,
    "start_time": "2021-07-07T15:48:41.090Z"
   },
   {
    "duration": 311,
    "start_time": "2021-07-07T15:48:41.098Z"
   },
   {
    "duration": 408,
    "start_time": "2021-07-07T15:48:41.411Z"
   },
   {
    "duration": 88,
    "start_time": "2021-07-07T15:48:41.821Z"
   },
   {
    "duration": 141,
    "start_time": "2021-07-07T15:48:41.911Z"
   },
   {
    "duration": 73,
    "start_time": "2021-07-07T15:48:42.053Z"
   },
   {
    "duration": 196,
    "start_time": "2021-07-07T15:48:42.129Z"
   },
   {
    "duration": 13,
    "start_time": "2021-07-07T15:48:42.327Z"
   },
   {
    "duration": 9,
    "start_time": "2021-07-07T15:48:52.302Z"
   },
   {
    "duration": 177,
    "start_time": "2021-07-07T15:49:17.359Z"
   },
   {
    "duration": 180,
    "start_time": "2021-07-07T15:49:48.512Z"
   },
   {
    "duration": 9,
    "start_time": "2021-07-07T15:50:02.958Z"
   },
   {
    "duration": 10,
    "start_time": "2021-07-07T15:50:06.941Z"
   },
   {
    "duration": 165,
    "start_time": "2021-07-07T15:50:07.272Z"
   },
   {
    "duration": 177,
    "start_time": "2021-07-07T15:50:24.892Z"
   },
   {
    "duration": 11,
    "start_time": "2021-07-07T15:50:45.380Z"
   },
   {
    "duration": 182,
    "start_time": "2021-07-07T15:50:46.669Z"
   },
   {
    "duration": 10,
    "start_time": "2021-07-07T15:50:58.752Z"
   },
   {
    "duration": 180,
    "start_time": "2021-07-07T15:51:01.878Z"
   },
   {
    "duration": 179,
    "start_time": "2021-07-07T15:51:07.126Z"
   },
   {
    "duration": 1106,
    "start_time": "2021-07-07T15:51:40.200Z"
   },
   {
    "duration": 65,
    "start_time": "2021-07-07T15:51:41.308Z"
   },
   {
    "duration": 29,
    "start_time": "2021-07-07T15:51:41.375Z"
   },
   {
    "duration": 6,
    "start_time": "2021-07-07T15:51:41.405Z"
   },
   {
    "duration": 13,
    "start_time": "2021-07-07T15:51:41.412Z"
   },
   {
    "duration": 4,
    "start_time": "2021-07-07T15:51:41.427Z"
   },
   {
    "duration": 49,
    "start_time": "2021-07-07T15:51:41.432Z"
   },
   {
    "duration": 12,
    "start_time": "2021-07-07T15:51:41.483Z"
   },
   {
    "duration": 11,
    "start_time": "2021-07-07T15:51:41.497Z"
   },
   {
    "duration": 4,
    "start_time": "2021-07-07T15:51:41.510Z"
   },
   {
    "duration": 26,
    "start_time": "2021-07-07T15:51:41.516Z"
   },
   {
    "duration": 8,
    "start_time": "2021-07-07T15:51:41.543Z"
   },
   {
    "duration": 89,
    "start_time": "2021-07-07T15:51:41.552Z"
   },
   {
    "duration": 21,
    "start_time": "2021-07-07T15:51:41.643Z"
   },
   {
    "duration": 6,
    "start_time": "2021-07-07T15:51:41.665Z"
   },
   {
    "duration": 14,
    "start_time": "2021-07-07T15:51:41.672Z"
   },
   {
    "duration": 5,
    "start_time": "2021-07-07T15:51:41.687Z"
   },
   {
    "duration": 12,
    "start_time": "2021-07-07T15:51:41.694Z"
   },
   {
    "duration": 305,
    "start_time": "2021-07-07T15:51:41.707Z"
   },
   {
    "duration": 7,
    "start_time": "2021-07-07T15:51:42.014Z"
   },
   {
    "duration": 14,
    "start_time": "2021-07-07T15:51:42.022Z"
   },
   {
    "duration": 304,
    "start_time": "2021-07-07T15:51:42.041Z"
   },
   {
    "duration": 405,
    "start_time": "2021-07-07T15:51:42.346Z"
   },
   {
    "duration": 91,
    "start_time": "2021-07-07T15:51:42.752Z"
   },
   {
    "duration": 135,
    "start_time": "2021-07-07T15:51:42.845Z"
   },
   {
    "duration": 82,
    "start_time": "2021-07-07T15:51:42.981Z"
   },
   {
    "duration": 9,
    "start_time": "2021-07-07T15:51:43.066Z"
   },
   {
    "duration": 207,
    "start_time": "2021-07-07T15:51:43.077Z"
   },
   {
    "duration": 204,
    "start_time": "2021-07-07T15:57:37.643Z"
   },
   {
    "duration": 10,
    "start_time": "2021-07-07T15:58:01.119Z"
   },
   {
    "duration": 182,
    "start_time": "2021-07-07T15:58:04.578Z"
   },
   {
    "duration": 7,
    "start_time": "2021-07-07T15:58:31.082Z"
   },
   {
    "duration": 10,
    "start_time": "2021-07-07T15:58:36.708Z"
   },
   {
    "duration": 9,
    "start_time": "2021-07-07T15:58:49.699Z"
   },
   {
    "duration": 288,
    "start_time": "2021-07-07T15:59:14.149Z"
   },
   {
    "duration": 325,
    "start_time": "2021-07-07T16:00:43.025Z"
   },
   {
    "duration": 32,
    "start_time": "2021-07-07T16:01:07.515Z"
   },
   {
    "duration": 6,
    "start_time": "2021-07-07T16:01:28.375Z"
   },
   {
    "duration": 9,
    "start_time": "2021-07-07T16:01:50.221Z"
   },
   {
    "duration": 9,
    "start_time": "2021-07-07T16:01:58.673Z"
   },
   {
    "duration": 53,
    "start_time": "2021-07-07T16:13:03.915Z"
   },
   {
    "duration": 23,
    "start_time": "2021-07-07T16:13:12.679Z"
   },
   {
    "duration": 23,
    "start_time": "2021-07-07T16:13:16.124Z"
   },
   {
    "duration": 251,
    "start_time": "2021-07-07T16:14:19.385Z"
   },
   {
    "duration": 235,
    "start_time": "2021-07-07T16:14:22.890Z"
   },
   {
    "duration": 9,
    "start_time": "2021-07-07T16:14:26.869Z"
   },
   {
    "duration": 7,
    "start_time": "2021-07-07T16:15:17.396Z"
   },
   {
    "duration": 7,
    "start_time": "2021-07-07T16:15:28.631Z"
   },
   {
    "duration": 7,
    "start_time": "2021-07-07T16:16:04.971Z"
   },
   {
    "duration": 11,
    "start_time": "2021-07-07T16:16:14.521Z"
   },
   {
    "duration": 7,
    "start_time": "2021-07-07T16:16:36.359Z"
   },
   {
    "duration": 253,
    "start_time": "2021-07-07T16:16:47.444Z"
   },
   {
    "duration": 8,
    "start_time": "2021-07-07T16:16:51.789Z"
   },
   {
    "duration": 7,
    "start_time": "2021-07-07T16:17:06.275Z"
   },
   {
    "duration": 9,
    "start_time": "2021-07-07T16:17:12.961Z"
   },
   {
    "duration": 9,
    "start_time": "2021-07-07T16:17:17.831Z"
   },
   {
    "duration": 122,
    "start_time": "2021-07-07T16:17:36.601Z"
   },
   {
    "duration": 29,
    "start_time": "2021-07-07T16:17:49.872Z"
   },
   {
    "duration": 119,
    "start_time": "2021-07-07T16:17:58.567Z"
   },
   {
    "duration": 642,
    "start_time": "2021-07-07T16:26:33.802Z"
   },
   {
    "duration": 358,
    "start_time": "2021-07-07T16:26:41.525Z"
   },
   {
    "duration": 124,
    "start_time": "2021-07-07T16:26:47.759Z"
   },
   {
    "duration": 126,
    "start_time": "2021-07-07T16:27:10.897Z"
   },
   {
    "duration": 130,
    "start_time": "2021-07-07T16:27:29.733Z"
   },
   {
    "duration": 198,
    "start_time": "2021-07-07T16:28:16.587Z"
   },
   {
    "duration": 132,
    "start_time": "2021-07-07T16:28:32.952Z"
   },
   {
    "duration": 88,
    "start_time": "2021-07-07T16:29:15.807Z"
   },
   {
    "duration": 11,
    "start_time": "2021-07-07T16:37:41.709Z"
   },
   {
    "duration": 15,
    "start_time": "2021-07-07T16:37:57.225Z"
   },
   {
    "duration": 18,
    "start_time": "2021-07-07T16:38:26.243Z"
   },
   {
    "duration": 10,
    "start_time": "2021-07-07T16:38:37.400Z"
   },
   {
    "duration": 5,
    "start_time": "2021-07-07T16:38:47.726Z"
   },
   {
    "duration": 7,
    "start_time": "2021-07-07T16:38:52.091Z"
   },
   {
    "duration": 252,
    "start_time": "2021-07-07T16:39:29.430Z"
   },
   {
    "duration": 11,
    "start_time": "2021-07-07T16:39:33.241Z"
   },
   {
    "duration": 9,
    "start_time": "2021-07-07T16:40:07.776Z"
   },
   {
    "duration": 9,
    "start_time": "2021-07-07T16:40:18.167Z"
   },
   {
    "duration": 10,
    "start_time": "2021-07-07T16:40:34.944Z"
   },
   {
    "duration": 9,
    "start_time": "2021-07-07T16:40:41.954Z"
   },
   {
    "duration": 11,
    "start_time": "2021-07-07T16:41:15.083Z"
   },
   {
    "duration": 11,
    "start_time": "2021-07-07T16:41:43.768Z"
   },
   {
    "duration": 1012,
    "start_time": "2021-07-09T09:42:26.810Z"
   },
   {
    "duration": 113,
    "start_time": "2021-07-09T09:42:27.824Z"
   },
   {
    "duration": 78,
    "start_time": "2021-07-09T09:42:27.939Z"
   },
   {
    "duration": 4,
    "start_time": "2021-07-09T09:42:28.019Z"
   },
   {
    "duration": 12,
    "start_time": "2021-07-09T09:42:28.024Z"
   },
   {
    "duration": 5,
    "start_time": "2021-07-09T09:42:28.038Z"
   },
   {
    "duration": 50,
    "start_time": "2021-07-09T09:42:28.044Z"
   },
   {
    "duration": 14,
    "start_time": "2021-07-09T09:42:28.097Z"
   },
   {
    "duration": 10,
    "start_time": "2021-07-09T09:42:28.113Z"
   },
   {
    "duration": 4,
    "start_time": "2021-07-09T09:42:28.125Z"
   },
   {
    "duration": 8,
    "start_time": "2021-07-09T09:42:28.131Z"
   },
   {
    "duration": 10,
    "start_time": "2021-07-09T09:42:28.141Z"
   },
   {
    "duration": 114,
    "start_time": "2021-07-09T09:42:28.153Z"
   },
   {
    "duration": 29,
    "start_time": "2021-07-09T09:42:28.269Z"
   },
   {
    "duration": 5,
    "start_time": "2021-07-09T09:42:28.299Z"
   },
   {
    "duration": 12,
    "start_time": "2021-07-09T09:42:28.306Z"
   },
   {
    "duration": 5,
    "start_time": "2021-07-09T09:42:28.320Z"
   },
   {
    "duration": 15,
    "start_time": "2021-07-09T09:42:28.327Z"
   },
   {
    "duration": 349,
    "start_time": "2021-07-09T09:42:28.344Z"
   },
   {
    "duration": 7,
    "start_time": "2021-07-09T09:42:28.694Z"
   },
   {
    "duration": 7,
    "start_time": "2021-07-09T09:42:28.703Z"
   },
   {
    "duration": 359,
    "start_time": "2021-07-09T09:42:28.711Z"
   },
   {
    "duration": 481,
    "start_time": "2021-07-09T09:42:29.073Z"
   },
   {
    "duration": 96,
    "start_time": "2021-07-09T09:42:29.556Z"
   },
   {
    "duration": 147,
    "start_time": "2021-07-09T09:42:29.654Z"
   },
   {
    "duration": 93,
    "start_time": "2021-07-09T09:42:29.803Z"
   },
   {
    "duration": 9,
    "start_time": "2021-07-09T09:42:29.898Z"
   },
   {
    "duration": 9,
    "start_time": "2021-07-09T09:42:29.909Z"
   },
   {
    "duration": 36,
    "start_time": "2021-07-09T09:42:29.919Z"
   },
   {
    "duration": 190,
    "start_time": "2021-07-09T09:42:29.957Z"
   },
   {
    "duration": 14,
    "start_time": "2021-07-09T09:42:30.149Z"
   },
   {
    "duration": 15,
    "start_time": "2021-07-09T09:43:37.859Z"
   },
   {
    "duration": 977,
    "start_time": "2021-07-09T09:43:45.045Z"
   },
   {
    "duration": 67,
    "start_time": "2021-07-09T09:43:46.024Z"
   },
   {
    "duration": 30,
    "start_time": "2021-07-09T09:43:46.093Z"
   },
   {
    "duration": 16,
    "start_time": "2021-07-09T09:43:46.125Z"
   },
   {
    "duration": 28,
    "start_time": "2021-07-09T09:43:46.142Z"
   },
   {
    "duration": 5,
    "start_time": "2021-07-09T09:43:46.171Z"
   },
   {
    "duration": 63,
    "start_time": "2021-07-09T09:43:46.177Z"
   },
   {
    "duration": 15,
    "start_time": "2021-07-09T09:43:46.242Z"
   },
   {
    "duration": 15,
    "start_time": "2021-07-09T09:43:46.259Z"
   },
   {
    "duration": 13,
    "start_time": "2021-07-09T09:43:46.276Z"
   },
   {
    "duration": 9,
    "start_time": "2021-07-09T09:43:46.291Z"
   },
   {
    "duration": 14,
    "start_time": "2021-07-09T09:43:46.301Z"
   },
   {
    "duration": 102,
    "start_time": "2021-07-09T09:43:46.317Z"
   },
   {
    "duration": 25,
    "start_time": "2021-07-09T09:43:46.420Z"
   },
   {
    "duration": 11,
    "start_time": "2021-07-09T09:43:46.447Z"
   },
   {
    "duration": 20,
    "start_time": "2021-07-09T09:43:46.459Z"
   },
   {
    "duration": 6,
    "start_time": "2021-07-09T09:43:46.484Z"
   },
   {
    "duration": 23,
    "start_time": "2021-07-09T09:43:46.491Z"
   },
   {
    "duration": 316,
    "start_time": "2021-07-09T09:43:46.516Z"
   },
   {
    "duration": 7,
    "start_time": "2021-07-09T09:43:46.834Z"
   },
   {
    "duration": 8,
    "start_time": "2021-07-09T09:43:46.842Z"
   },
   {
    "duration": 386,
    "start_time": "2021-07-09T09:43:46.851Z"
   },
   {
    "duration": 465,
    "start_time": "2021-07-09T09:43:47.239Z"
   },
   {
    "duration": 100,
    "start_time": "2021-07-09T09:43:47.706Z"
   },
   {
    "duration": 148,
    "start_time": "2021-07-09T09:43:47.808Z"
   },
   {
    "duration": 89,
    "start_time": "2021-07-09T09:43:47.958Z"
   },
   {
    "duration": 9,
    "start_time": "2021-07-09T09:43:48.048Z"
   },
   {
    "duration": 28,
    "start_time": "2021-07-09T09:43:48.059Z"
   },
   {
    "duration": 34,
    "start_time": "2021-07-09T09:43:48.088Z"
   },
   {
    "duration": 170,
    "start_time": "2021-07-09T09:43:48.124Z"
   },
   {
    "duration": 13,
    "start_time": "2021-07-09T09:43:48.296Z"
   },
   {
    "duration": 7,
    "start_time": "2021-07-09T09:44:17.112Z"
   },
   {
    "duration": 11,
    "start_time": "2021-07-09T09:44:47.863Z"
   },
   {
    "duration": 5,
    "start_time": "2021-07-09T09:44:52.898Z"
   },
   {
    "duration": 66,
    "start_time": "2021-07-09T09:44:52.905Z"
   },
   {
    "duration": 29,
    "start_time": "2021-07-09T09:44:52.973Z"
   },
   {
    "duration": 4,
    "start_time": "2021-07-09T09:44:53.004Z"
   },
   {
    "duration": 14,
    "start_time": "2021-07-09T09:44:53.009Z"
   },
   {
    "duration": 5,
    "start_time": "2021-07-09T09:44:53.025Z"
   },
   {
    "duration": 63,
    "start_time": "2021-07-09T09:44:53.032Z"
   },
   {
    "duration": 14,
    "start_time": "2021-07-09T09:44:53.097Z"
   },
   {
    "duration": 12,
    "start_time": "2021-07-09T09:44:53.113Z"
   },
   {
    "duration": 5,
    "start_time": "2021-07-09T09:44:53.126Z"
   },
   {
    "duration": 6,
    "start_time": "2021-07-09T09:44:53.133Z"
   },
   {
    "duration": 7,
    "start_time": "2021-07-09T09:44:56.948Z"
   },
   {
    "duration": 11,
    "start_time": "2021-07-09T09:44:57.367Z"
   },
   {
    "duration": 12,
    "start_time": "2021-07-09T09:45:05.548Z"
   },
   {
    "duration": 10,
    "start_time": "2021-07-09T09:45:07.203Z"
   },
   {
    "duration": 10,
    "start_time": "2021-07-09T09:45:07.457Z"
   },
   {
    "duration": 276,
    "start_time": "2021-07-09T09:45:30.640Z"
   },
   {
    "duration": 1098,
    "start_time": "2021-07-09T09:45:42.064Z"
   },
   {
    "duration": 68,
    "start_time": "2021-07-09T09:45:43.163Z"
   },
   {
    "duration": 31,
    "start_time": "2021-07-09T09:45:43.234Z"
   },
   {
    "duration": 8,
    "start_time": "2021-07-09T09:45:43.266Z"
   },
   {
    "duration": 14,
    "start_time": "2021-07-09T09:45:43.275Z"
   },
   {
    "duration": 5,
    "start_time": "2021-07-09T09:45:43.291Z"
   },
   {
    "duration": 56,
    "start_time": "2021-07-09T09:45:43.297Z"
   },
   {
    "duration": 14,
    "start_time": "2021-07-09T09:45:43.354Z"
   },
   {
    "duration": 11,
    "start_time": "2021-07-09T09:45:43.386Z"
   },
   {
    "duration": 5,
    "start_time": "2021-07-09T09:45:43.399Z"
   },
   {
    "duration": 11,
    "start_time": "2021-07-09T09:45:43.405Z"
   },
   {
    "duration": 8,
    "start_time": "2021-07-09T09:45:43.417Z"
   },
   {
    "duration": 109,
    "start_time": "2021-07-09T09:45:43.427Z"
   },
   {
    "duration": 26,
    "start_time": "2021-07-09T09:45:43.538Z"
   },
   {
    "duration": 6,
    "start_time": "2021-07-09T09:45:43.566Z"
   },
   {
    "duration": 21,
    "start_time": "2021-07-09T09:45:43.574Z"
   },
   {
    "duration": 5,
    "start_time": "2021-07-09T09:45:43.596Z"
   },
   {
    "duration": 12,
    "start_time": "2021-07-09T09:45:43.603Z"
   },
   {
    "duration": 332,
    "start_time": "2021-07-09T09:45:43.616Z"
   },
   {
    "duration": 8,
    "start_time": "2021-07-09T09:45:43.950Z"
   },
   {
    "duration": 9,
    "start_time": "2021-07-09T09:45:43.960Z"
   },
   {
    "duration": 374,
    "start_time": "2021-07-09T09:45:43.971Z"
   },
   {
    "duration": 483,
    "start_time": "2021-07-09T09:45:44.346Z"
   },
   {
    "duration": 108,
    "start_time": "2021-07-09T09:45:44.831Z"
   },
   {
    "duration": 159,
    "start_time": "2021-07-09T09:45:44.941Z"
   },
   {
    "duration": 95,
    "start_time": "2021-07-09T09:45:45.102Z"
   },
   {
    "duration": 9,
    "start_time": "2021-07-09T09:45:45.201Z"
   },
   {
    "duration": 14,
    "start_time": "2021-07-09T09:45:45.212Z"
   },
   {
    "duration": 46,
    "start_time": "2021-07-09T09:45:45.228Z"
   },
   {
    "duration": 157,
    "start_time": "2021-07-09T09:45:45.284Z"
   },
   {
    "duration": 15,
    "start_time": "2021-07-09T09:45:45.443Z"
   },
   {
    "duration": 12,
    "start_time": "2021-07-09T09:45:55.462Z"
   },
   {
    "duration": 12,
    "start_time": "2021-07-09T09:46:02.927Z"
   },
   {
    "duration": 13,
    "start_time": "2021-07-09T09:46:08.403Z"
   },
   {
    "duration": 14,
    "start_time": "2021-07-09T09:47:03.725Z"
   },
   {
    "duration": 9,
    "start_time": "2021-07-09T09:47:22.396Z"
   },
   {
    "duration": 14,
    "start_time": "2021-07-09T09:47:30.256Z"
   },
   {
    "duration": 72,
    "start_time": "2021-07-09T09:47:52.899Z"
   },
   {
    "duration": 59,
    "start_time": "2021-07-09T09:47:55.696Z"
   },
   {
    "duration": 294,
    "start_time": "2021-07-09T09:47:58.562Z"
   },
   {
    "duration": 10,
    "start_time": "2021-07-09T09:48:13.614Z"
   },
   {
    "duration": 17,
    "start_time": "2021-07-09T09:48:18.090Z"
   },
   {
    "duration": 4,
    "start_time": "2021-07-09T09:48:24.246Z"
   },
   {
    "duration": 4,
    "start_time": "2021-07-09T09:48:33.854Z"
   },
   {
    "duration": 13,
    "start_time": "2021-07-09T09:53:29.199Z"
   },
   {
    "duration": 12,
    "start_time": "2021-07-09T09:53:42.250Z"
   },
   {
    "duration": 13,
    "start_time": "2021-07-09T09:53:47.270Z"
   },
   {
    "duration": 14,
    "start_time": "2021-07-09T09:55:07.265Z"
   },
   {
    "duration": 11,
    "start_time": "2021-07-09T09:55:17.705Z"
   },
   {
    "duration": 5,
    "start_time": "2021-07-09T09:55:19.827Z"
   },
   {
    "duration": 5,
    "start_time": "2021-07-09T09:55:30.575Z"
   },
   {
    "duration": 187,
    "start_time": "2021-07-09T09:55:41.580Z"
   },
   {
    "duration": 5,
    "start_time": "2021-07-09T09:55:44.371Z"
   },
   {
    "duration": 233,
    "start_time": "2021-07-09T10:11:54.648Z"
   },
   {
    "duration": 195,
    "start_time": "2021-07-09T10:12:06.690Z"
   },
   {
    "duration": 185,
    "start_time": "2021-07-09T10:12:13.139Z"
   },
   {
    "duration": 201,
    "start_time": "2021-07-09T10:12:21.619Z"
   },
   {
    "duration": 197,
    "start_time": "2021-07-09T10:12:26.828Z"
   },
   {
    "duration": 284,
    "start_time": "2021-07-09T10:12:43.883Z"
   },
   {
    "duration": 202,
    "start_time": "2021-07-09T10:12:52.972Z"
   },
   {
    "duration": 276,
    "start_time": "2021-07-09T10:12:56.998Z"
   },
   {
    "duration": 217,
    "start_time": "2021-07-09T10:13:45.129Z"
   },
   {
    "duration": 751,
    "start_time": "2021-07-09T10:13:57.420Z"
   },
   {
    "duration": 597,
    "start_time": "2021-07-09T10:14:35.118Z"
   },
   {
    "duration": 189,
    "start_time": "2021-07-09T10:15:36.870Z"
   },
   {
    "duration": 183,
    "start_time": "2021-07-09T10:15:43.317Z"
   },
   {
    "duration": 25,
    "start_time": "2021-07-09T10:16:15.146Z"
   },
   {
    "duration": 191,
    "start_time": "2021-07-09T10:16:15.633Z"
   },
   {
    "duration": 22,
    "start_time": "2021-07-09T10:16:17.964Z"
   },
   {
    "duration": 206,
    "start_time": "2021-07-09T10:16:18.241Z"
   },
   {
    "duration": 2568,
    "start_time": "2021-07-09T10:16:24.907Z"
   },
   {
    "duration": 181,
    "start_time": "2021-07-09T10:18:18.434Z"
   },
   {
    "duration": 206,
    "start_time": "2021-07-09T10:18:21.350Z"
   },
   {
    "duration": 200,
    "start_time": "2021-07-09T10:18:33.238Z"
   },
   {
    "duration": 43,
    "start_time": "2021-07-09T11:57:33.325Z"
   },
   {
    "duration": 2490,
    "start_time": "2021-07-09T11:57:38.581Z"
   },
   {
    "duration": 20,
    "start_time": "2021-07-09T11:57:58.180Z"
   },
   {
    "duration": 2575,
    "start_time": "2021-07-09T11:57:58.510Z"
   },
   {
    "duration": 2576,
    "start_time": "2021-07-09T12:53:47.726Z"
   },
   {
    "duration": 2649,
    "start_time": "2021-07-09T12:53:54.407Z"
   },
   {
    "duration": 2856,
    "start_time": "2021-07-09T12:54:20.875Z"
   },
   {
    "duration": 2521,
    "start_time": "2021-07-09T12:55:01.159Z"
   },
   {
    "duration": 2651,
    "start_time": "2021-07-09T12:56:22.988Z"
   },
   {
    "duration": 2445,
    "start_time": "2021-07-09T12:56:31.316Z"
   },
   {
    "duration": 54,
    "start_time": "2021-07-09T13:30:45.398Z"
   },
   {
    "duration": 67,
    "start_time": "2021-07-09T13:30:52.605Z"
   },
   {
    "duration": 64,
    "start_time": "2021-07-09T13:30:55.769Z"
   },
   {
    "duration": 59,
    "start_time": "2021-07-09T13:31:00.715Z"
   },
   {
    "duration": 286,
    "start_time": "2021-07-09T13:32:04.960Z"
   },
   {
    "duration": 50,
    "start_time": "2021-07-09T13:32:10.195Z"
   },
   {
    "duration": 60,
    "start_time": "2021-07-09T13:32:12.901Z"
   },
   {
    "duration": 78,
    "start_time": "2021-07-09T13:32:24.192Z"
   },
   {
    "duration": 71,
    "start_time": "2021-07-09T13:33:03.659Z"
   },
   {
    "duration": 66,
    "start_time": "2021-07-09T13:33:21.750Z"
   },
   {
    "duration": 64,
    "start_time": "2021-07-09T13:33:25.537Z"
   },
   {
    "duration": 72,
    "start_time": "2021-07-09T13:33:31.283Z"
   },
   {
    "duration": 69,
    "start_time": "2021-07-09T13:33:39.669Z"
   },
   {
    "duration": 261,
    "start_time": "2021-07-09T13:33:52.455Z"
   },
   {
    "duration": 65,
    "start_time": "2021-07-09T13:33:58.022Z"
   },
   {
    "duration": 61,
    "start_time": "2021-07-09T13:34:25.583Z"
   },
   {
    "duration": 232,
    "start_time": "2021-07-09T13:34:42.728Z"
   },
   {
    "duration": 254,
    "start_time": "2021-07-09T13:34:54.047Z"
   },
   {
    "duration": 69,
    "start_time": "2021-07-09T13:35:00.401Z"
   },
   {
    "duration": 4467,
    "start_time": "2021-07-09T13:35:03.628Z"
   },
   {
    "duration": 82,
    "start_time": "2021-07-09T13:35:30.594Z"
   },
   {
    "duration": 59,
    "start_time": "2021-07-09T13:35:32.368Z"
   },
   {
    "duration": 78,
    "start_time": "2021-07-09T13:35:33.944Z"
   },
   {
    "duration": 63,
    "start_time": "2021-07-09T13:35:43.746Z"
   },
   {
    "duration": 296,
    "start_time": "2021-07-09T13:35:59.111Z"
   },
   {
    "duration": 819,
    "start_time": "2021-07-09T13:36:07.044Z"
   },
   {
    "duration": 231,
    "start_time": "2021-07-09T13:36:17.596Z"
   },
   {
    "duration": 241,
    "start_time": "2021-07-09T13:36:23.123Z"
   },
   {
    "duration": 54,
    "start_time": "2021-07-09T13:36:34.102Z"
   },
   {
    "duration": 64,
    "start_time": "2021-07-09T13:36:36.665Z"
   },
   {
    "duration": 234,
    "start_time": "2021-07-09T13:37:06.094Z"
   },
   {
    "duration": 67,
    "start_time": "2021-07-09T13:37:22.776Z"
   },
   {
    "duration": 248,
    "start_time": "2021-07-09T13:37:36.995Z"
   },
   {
    "duration": 64,
    "start_time": "2021-07-09T13:37:43.666Z"
   },
   {
    "duration": 1074,
    "start_time": "2021-07-09T13:37:52.933Z"
   },
   {
    "duration": 72,
    "start_time": "2021-07-09T13:37:54.009Z"
   },
   {
    "duration": 30,
    "start_time": "2021-07-09T13:37:54.083Z"
   },
   {
    "duration": 4,
    "start_time": "2021-07-09T13:37:54.115Z"
   },
   {
    "duration": 14,
    "start_time": "2021-07-09T13:37:54.121Z"
   },
   {
    "duration": 6,
    "start_time": "2021-07-09T13:37:54.137Z"
   },
   {
    "duration": 74,
    "start_time": "2021-07-09T13:37:54.145Z"
   },
   {
    "duration": 16,
    "start_time": "2021-07-09T13:37:54.221Z"
   },
   {
    "duration": 13,
    "start_time": "2021-07-09T13:37:54.240Z"
   },
   {
    "duration": 6,
    "start_time": "2021-07-09T13:37:54.256Z"
   },
   {
    "duration": 7,
    "start_time": "2021-07-09T13:37:54.285Z"
   },
   {
    "duration": 17,
    "start_time": "2021-07-09T13:37:54.293Z"
   },
   {
    "duration": 95,
    "start_time": "2021-07-09T13:37:54.311Z"
   },
   {
    "duration": 23,
    "start_time": "2021-07-09T13:37:54.408Z"
   },
   {
    "duration": 18,
    "start_time": "2021-07-09T13:37:54.433Z"
   },
   {
    "duration": 25,
    "start_time": "2021-07-09T13:37:54.453Z"
   },
   {
    "duration": 6,
    "start_time": "2021-07-09T13:37:54.480Z"
   },
   {
    "duration": 13,
    "start_time": "2021-07-09T13:37:54.488Z"
   },
   {
    "duration": 360,
    "start_time": "2021-07-09T13:37:54.502Z"
   },
   {
    "duration": 7,
    "start_time": "2021-07-09T13:37:54.864Z"
   },
   {
    "duration": 15,
    "start_time": "2021-07-09T13:37:54.872Z"
   },
   {
    "duration": 383,
    "start_time": "2021-07-09T13:37:54.889Z"
   },
   {
    "duration": 482,
    "start_time": "2021-07-09T13:37:55.273Z"
   },
   {
    "duration": 104,
    "start_time": "2021-07-09T13:37:55.756Z"
   },
   {
    "duration": 165,
    "start_time": "2021-07-09T13:37:55.861Z"
   },
   {
    "duration": 99,
    "start_time": "2021-07-09T13:37:56.028Z"
   },
   {
    "duration": 9,
    "start_time": "2021-07-09T13:37:56.131Z"
   },
   {
    "duration": 8,
    "start_time": "2021-07-09T13:37:56.142Z"
   },
   {
    "duration": 64,
    "start_time": "2021-07-09T13:37:56.152Z"
   },
   {
    "duration": 173,
    "start_time": "2021-07-09T13:37:56.218Z"
   },
   {
    "duration": 13,
    "start_time": "2021-07-09T13:37:56.393Z"
   },
   {
    "duration": 4,
    "start_time": "2021-07-09T13:37:56.407Z"
   },
   {
    "duration": 20,
    "start_time": "2021-07-09T13:37:56.413Z"
   },
   {
    "duration": 2569,
    "start_time": "2021-07-09T13:37:56.435Z"
   },
   {
    "duration": 314,
    "start_time": "2021-07-09T13:37:59.005Z"
   },
   {
    "duration": 991,
    "start_time": "2021-07-09T13:58:52.039Z"
   },
   {
    "duration": 69,
    "start_time": "2021-07-09T13:58:53.032Z"
   },
   {
    "duration": 40,
    "start_time": "2021-07-09T13:58:53.104Z"
   },
   {
    "duration": 4,
    "start_time": "2021-07-09T13:58:53.146Z"
   },
   {
    "duration": 13,
    "start_time": "2021-07-09T13:58:53.152Z"
   },
   {
    "duration": 6,
    "start_time": "2021-07-09T13:58:53.167Z"
   },
   {
    "duration": 58,
    "start_time": "2021-07-09T13:58:53.175Z"
   },
   {
    "duration": 15,
    "start_time": "2021-07-09T13:58:53.237Z"
   },
   {
    "duration": 31,
    "start_time": "2021-07-09T13:58:53.255Z"
   },
   {
    "duration": 6,
    "start_time": "2021-07-09T13:58:53.288Z"
   },
   {
    "duration": 15,
    "start_time": "2021-07-09T13:58:53.296Z"
   },
   {
    "duration": 9,
    "start_time": "2021-07-09T13:58:53.313Z"
   },
   {
    "duration": 103,
    "start_time": "2021-07-09T13:58:53.324Z"
   },
   {
    "duration": 24,
    "start_time": "2021-07-09T13:58:53.428Z"
   },
   {
    "duration": 6,
    "start_time": "2021-07-09T13:58:53.453Z"
   },
   {
    "duration": 29,
    "start_time": "2021-07-09T13:58:53.460Z"
   },
   {
    "duration": 5,
    "start_time": "2021-07-09T13:58:53.491Z"
   },
   {
    "duration": 16,
    "start_time": "2021-07-09T13:58:53.497Z"
   },
   {
    "duration": 334,
    "start_time": "2021-07-09T13:58:53.514Z"
   },
   {
    "duration": 8,
    "start_time": "2021-07-09T13:58:53.850Z"
   },
   {
    "duration": 7,
    "start_time": "2021-07-09T13:58:53.860Z"
   },
   {
    "duration": 368,
    "start_time": "2021-07-09T13:58:53.869Z"
   },
   {
    "duration": 476,
    "start_time": "2021-07-09T13:58:54.240Z"
   },
   {
    "duration": 105,
    "start_time": "2021-07-09T13:58:54.718Z"
   },
   {
    "duration": 152,
    "start_time": "2021-07-09T13:58:54.825Z"
   },
   {
    "duration": 87,
    "start_time": "2021-07-09T13:58:54.979Z"
   },
   {
    "duration": 18,
    "start_time": "2021-07-09T13:58:55.067Z"
   },
   {
    "duration": 7,
    "start_time": "2021-07-09T13:58:55.087Z"
   },
   {
    "duration": 34,
    "start_time": "2021-07-09T13:58:55.096Z"
   },
   {
    "duration": 173,
    "start_time": "2021-07-09T13:58:55.132Z"
   },
   {
    "duration": 13,
    "start_time": "2021-07-09T13:58:55.306Z"
   },
   {
    "duration": 4,
    "start_time": "2021-07-09T13:58:55.320Z"
   },
   {
    "duration": 20,
    "start_time": "2021-07-09T13:58:55.325Z"
   },
   {
    "duration": 2492,
    "start_time": "2021-07-09T13:58:55.346Z"
   },
   {
    "duration": 311,
    "start_time": "2021-07-09T13:58:57.839Z"
   },
   {
    "duration": 230,
    "start_time": "2021-07-09T13:59:41.527Z"
   },
   {
    "duration": 59,
    "start_time": "2021-07-09T13:59:49.294Z"
   },
   {
    "duration": 13,
    "start_time": "2021-07-09T13:59:52.774Z"
   },
   {
    "duration": 189,
    "start_time": "2021-07-09T14:00:08.662Z"
   },
   {
    "duration": 14,
    "start_time": "2021-07-09T14:00:15.121Z"
   },
   {
    "duration": 67,
    "start_time": "2021-07-09T14:00:26.740Z"
   },
   {
    "duration": 789,
    "start_time": "2021-07-09T14:00:38.409Z"
   },
   {
    "duration": 67,
    "start_time": "2021-07-09T14:00:44.949Z"
   },
   {
    "duration": 4,
    "start_time": "2021-07-09T14:06:03.619Z"
   },
   {
    "duration": 65,
    "start_time": "2021-07-09T14:06:04.441Z"
   },
   {
    "duration": 42,
    "start_time": "2021-07-09T14:06:04.719Z"
   },
   {
    "duration": 4,
    "start_time": "2021-07-09T14:06:05.182Z"
   },
   {
    "duration": 13,
    "start_time": "2021-07-09T14:06:05.707Z"
   },
   {
    "duration": 7,
    "start_time": "2021-07-09T14:06:06.051Z"
   },
   {
    "duration": 57,
    "start_time": "2021-07-09T14:06:06.280Z"
   },
   {
    "duration": 17,
    "start_time": "2021-07-09T14:06:06.574Z"
   },
   {
    "duration": 12,
    "start_time": "2021-07-09T14:06:07.368Z"
   },
   {
    "duration": 5,
    "start_time": "2021-07-09T14:06:07.552Z"
   },
   {
    "duration": 6,
    "start_time": "2021-07-09T14:06:07.929Z"
   },
   {
    "duration": 8,
    "start_time": "2021-07-09T14:06:08.113Z"
   },
   {
    "duration": 91,
    "start_time": "2021-07-09T14:06:08.493Z"
   },
   {
    "duration": 24,
    "start_time": "2021-07-09T14:06:08.685Z"
   },
   {
    "duration": 5,
    "start_time": "2021-07-09T14:06:08.908Z"
   },
   {
    "duration": 12,
    "start_time": "2021-07-09T14:06:09.292Z"
   },
   {
    "duration": 6,
    "start_time": "2021-07-09T14:06:09.486Z"
   },
   {
    "duration": 13,
    "start_time": "2021-07-09T14:06:09.897Z"
   },
   {
    "duration": 320,
    "start_time": "2021-07-09T14:06:10.297Z"
   },
   {
    "duration": 7,
    "start_time": "2021-07-09T14:06:10.619Z"
   },
   {
    "duration": 5,
    "start_time": "2021-07-09T14:06:11.321Z"
   },
   {
    "duration": 360,
    "start_time": "2021-07-09T14:06:11.699Z"
   },
   {
    "duration": 469,
    "start_time": "2021-07-09T14:06:12.128Z"
   },
   {
    "duration": 96,
    "start_time": "2021-07-09T14:06:12.599Z"
   },
   {
    "duration": 150,
    "start_time": "2021-07-09T14:06:12.954Z"
   },
   {
    "duration": 91,
    "start_time": "2021-07-09T14:06:13.400Z"
   },
   {
    "duration": 10,
    "start_time": "2021-07-09T14:06:13.844Z"
   },
   {
    "duration": 9,
    "start_time": "2021-07-09T14:06:14.275Z"
   },
   {
    "duration": 32,
    "start_time": "2021-07-09T14:06:14.788Z"
   },
   {
    "duration": 162,
    "start_time": "2021-07-09T14:06:15.018Z"
   },
   {
    "duration": 12,
    "start_time": "2021-07-09T14:06:15.624Z"
   },
   {
    "duration": 5,
    "start_time": "2021-07-09T14:06:15.904Z"
   },
   {
    "duration": 25,
    "start_time": "2021-07-09T14:06:16.434Z"
   },
   {
    "duration": 2486,
    "start_time": "2021-07-09T14:06:16.671Z"
   },
   {
    "duration": 79,
    "start_time": "2021-07-09T14:06:19.158Z"
   },
   {
    "duration": 9,
    "start_time": "2021-07-09T15:39:58.249Z"
   },
   {
    "duration": 9,
    "start_time": "2021-07-09T15:40:01.071Z"
   },
   {
    "duration": 179,
    "start_time": "2021-07-09T15:41:23.533Z"
   },
   {
    "duration": 182,
    "start_time": "2021-07-09T15:41:50.430Z"
   },
   {
    "duration": 184,
    "start_time": "2021-07-09T15:41:57.354Z"
   },
   {
    "duration": 191,
    "start_time": "2021-07-09T15:42:36.420Z"
   },
   {
    "duration": 184,
    "start_time": "2021-07-09T15:42:54.791Z"
   },
   {
    "duration": 188,
    "start_time": "2021-07-09T15:43:01.125Z"
   },
   {
    "duration": 189,
    "start_time": "2021-07-09T15:43:03.420Z"
   },
   {
    "duration": 191,
    "start_time": "2021-07-09T15:43:46.146Z"
   },
   {
    "duration": 35,
    "start_time": "2021-07-09T15:44:15.410Z"
   },
   {
    "duration": 141,
    "start_time": "2021-07-09T15:44:30.045Z"
   },
   {
    "duration": 43,
    "start_time": "2021-07-09T15:45:16.887Z"
   },
   {
    "duration": 56,
    "start_time": "2021-07-09T15:46:04.911Z"
   },
   {
    "duration": 2688,
    "start_time": "2021-07-09T15:51:16.335Z"
   },
   {
    "duration": 55,
    "start_time": "2021-07-09T15:51:29.963Z"
   },
   {
    "duration": 43,
    "start_time": "2021-07-09T15:52:18.665Z"
   },
   {
    "duration": 43,
    "start_time": "2021-07-09T15:52:58.851Z"
   },
   {
    "duration": 36,
    "start_time": "2021-07-09T15:53:04.427Z"
   },
   {
    "duration": 48,
    "start_time": "2021-07-09T15:53:10.533Z"
   },
   {
    "duration": 60,
    "start_time": "2021-07-09T15:53:24.057Z"
   },
   {
    "duration": 43,
    "start_time": "2021-07-09T15:53:34.213Z"
   },
   {
    "duration": 47,
    "start_time": "2021-07-09T15:54:14.029Z"
   },
   {
    "duration": 51,
    "start_time": "2021-07-09T15:54:24.468Z"
   },
   {
    "duration": 44,
    "start_time": "2021-07-09T15:54:29.413Z"
   },
   {
    "duration": 67,
    "start_time": "2021-07-09T15:54:39.122Z"
   },
   {
    "duration": 5,
    "start_time": "2021-07-09T15:54:44.101Z"
   },
   {
    "duration": 45,
    "start_time": "2021-07-09T15:58:27.940Z"
   },
   {
    "duration": 44,
    "start_time": "2021-07-09T15:58:34.695Z"
   },
   {
    "duration": 37,
    "start_time": "2021-07-09T15:58:51.535Z"
   },
   {
    "duration": 42,
    "start_time": "2021-07-09T15:59:00.278Z"
   },
   {
    "duration": 42,
    "start_time": "2021-07-09T15:59:05.929Z"
   },
   {
    "duration": 1326,
    "start_time": "2021-07-09T15:59:31.336Z"
   },
   {
    "duration": 1310,
    "start_time": "2021-07-09T15:59:35.655Z"
   },
   {
    "duration": 183,
    "start_time": "2021-07-09T15:59:58.104Z"
   },
   {
    "duration": 219,
    "start_time": "2021-07-09T16:00:03.345Z"
   },
   {
    "duration": 184,
    "start_time": "2021-07-09T16:00:09.908Z"
   },
   {
    "duration": 201,
    "start_time": "2021-07-09T16:00:24.233Z"
   },
   {
    "duration": 188,
    "start_time": "2021-07-09T16:01:08.678Z"
   },
   {
    "duration": 181,
    "start_time": "2021-07-09T16:01:18.550Z"
   },
   {
    "duration": 14,
    "start_time": "2021-07-09T16:01:39.726Z"
   },
   {
    "duration": 19,
    "start_time": "2021-07-09T16:01:44.857Z"
   },
   {
    "duration": 41,
    "start_time": "2021-07-09T16:02:00.473Z"
   },
   {
    "duration": 19,
    "start_time": "2021-07-09T16:02:01.226Z"
   },
   {
    "duration": 40,
    "start_time": "2021-07-09T16:02:06.367Z"
   },
   {
    "duration": 41,
    "start_time": "2021-07-09T16:02:07.048Z"
   },
   {
    "duration": 17,
    "start_time": "2021-07-09T16:02:17.535Z"
   },
   {
    "duration": 16,
    "start_time": "2021-07-09T16:02:22.581Z"
   },
   {
    "duration": 13,
    "start_time": "2021-07-09T16:13:46.333Z"
   },
   {
    "duration": 19,
    "start_time": "2021-07-09T16:13:50.725Z"
   },
   {
    "duration": 21,
    "start_time": "2021-07-09T16:14:12.682Z"
   },
   {
    "duration": 15,
    "start_time": "2021-07-09T16:14:25.608Z"
   },
   {
    "duration": 41,
    "start_time": "2021-07-09T16:24:29.440Z"
   },
   {
    "duration": 53,
    "start_time": "2021-07-09T16:24:48.113Z"
   },
   {
    "duration": 185,
    "start_time": "2021-07-09T16:33:33.845Z"
   },
   {
    "duration": 28,
    "start_time": "2021-07-09T16:33:36.675Z"
   },
   {
    "duration": 12,
    "start_time": "2021-07-09T16:34:28.598Z"
   },
   {
    "duration": 179,
    "start_time": "2021-07-09T16:34:51.930Z"
   },
   {
    "duration": 12,
    "start_time": "2021-07-09T16:35:15.603Z"
   },
   {
    "duration": 11,
    "start_time": "2021-07-09T16:35:52.930Z"
   },
   {
    "duration": 14,
    "start_time": "2021-07-09T16:41:05.864Z"
   },
   {
    "duration": 156,
    "start_time": "2021-07-09T16:41:19.061Z"
   },
   {
    "duration": 224,
    "start_time": "2021-07-09T16:41:29.418Z"
   },
   {
    "duration": 11,
    "start_time": "2021-07-09T16:41:32.943Z"
   },
   {
    "duration": 154,
    "start_time": "2021-07-09T16:42:58.861Z"
   },
   {
    "duration": 153,
    "start_time": "2021-07-09T16:43:12.691Z"
   },
   {
    "duration": 12,
    "start_time": "2021-07-09T16:43:30.514Z"
   },
   {
    "duration": 10,
    "start_time": "2021-07-09T16:43:33.918Z"
   },
   {
    "duration": 332,
    "start_time": "2021-07-09T16:47:03.209Z"
   },
   {
    "duration": 317,
    "start_time": "2021-07-09T16:47:07.471Z"
   },
   {
    "duration": 172,
    "start_time": "2021-07-09T16:47:09.826Z"
   },
   {
    "duration": 2700,
    "start_time": "2021-07-09T16:48:14.078Z"
   },
   {
    "duration": 2696,
    "start_time": "2021-07-09T16:48:25.287Z"
   },
   {
    "duration": 2622,
    "start_time": "2021-07-09T16:48:42.103Z"
   },
   {
    "duration": 168,
    "start_time": "2021-07-09T16:49:01.176Z"
   },
   {
    "duration": 167,
    "start_time": "2021-07-09T16:49:13.388Z"
   },
   {
    "duration": 158,
    "start_time": "2021-07-09T16:49:17.833Z"
   },
   {
    "duration": 244,
    "start_time": "2021-07-09T16:49:24.614Z"
   },
   {
    "duration": 1065,
    "start_time": "2021-07-09T19:00:12.971Z"
   },
   {
    "duration": 71,
    "start_time": "2021-07-09T19:00:14.038Z"
   },
   {
    "duration": 40,
    "start_time": "2021-07-09T19:00:14.111Z"
   },
   {
    "duration": 5,
    "start_time": "2021-07-09T19:00:14.152Z"
   },
   {
    "duration": 13,
    "start_time": "2021-07-09T19:00:14.159Z"
   },
   {
    "duration": 6,
    "start_time": "2021-07-09T19:00:14.173Z"
   },
   {
    "duration": 54,
    "start_time": "2021-07-09T19:00:14.180Z"
   },
   {
    "duration": 14,
    "start_time": "2021-07-09T19:00:14.236Z"
   },
   {
    "duration": 12,
    "start_time": "2021-07-09T19:00:14.252Z"
   },
   {
    "duration": 22,
    "start_time": "2021-07-09T19:00:14.265Z"
   },
   {
    "duration": 6,
    "start_time": "2021-07-09T19:00:14.289Z"
   },
   {
    "duration": 13,
    "start_time": "2021-07-09T19:00:14.297Z"
   },
   {
    "duration": 111,
    "start_time": "2021-07-09T19:00:14.312Z"
   },
   {
    "duration": 23,
    "start_time": "2021-07-09T19:00:14.425Z"
   },
   {
    "duration": 7,
    "start_time": "2021-07-09T19:00:14.450Z"
   },
   {
    "duration": 27,
    "start_time": "2021-07-09T19:00:14.459Z"
   },
   {
    "duration": 6,
    "start_time": "2021-07-09T19:00:14.488Z"
   },
   {
    "duration": 14,
    "start_time": "2021-07-09T19:00:14.496Z"
   },
   {
    "duration": 340,
    "start_time": "2021-07-09T19:00:14.512Z"
   },
   {
    "duration": 7,
    "start_time": "2021-07-09T19:00:14.854Z"
   },
   {
    "duration": 7,
    "start_time": "2021-07-09T19:00:14.862Z"
   },
   {
    "duration": 373,
    "start_time": "2021-07-09T19:00:14.870Z"
   },
   {
    "duration": 497,
    "start_time": "2021-07-09T19:00:15.246Z"
   },
   {
    "duration": 109,
    "start_time": "2021-07-09T19:00:15.745Z"
   },
   {
    "duration": 166,
    "start_time": "2021-07-09T19:00:15.856Z"
   },
   {
    "duration": 93,
    "start_time": "2021-07-09T19:00:16.023Z"
   },
   {
    "duration": 10,
    "start_time": "2021-07-09T19:00:16.117Z"
   },
   {
    "duration": 10,
    "start_time": "2021-07-09T19:00:16.128Z"
   },
   {
    "duration": 61,
    "start_time": "2021-07-09T19:00:16.140Z"
   },
   {
    "duration": 168,
    "start_time": "2021-07-09T19:00:16.202Z"
   },
   {
    "duration": 20,
    "start_time": "2021-07-09T19:00:16.372Z"
   },
   {
    "duration": 4,
    "start_time": "2021-07-09T19:00:16.393Z"
   },
   {
    "duration": 22,
    "start_time": "2021-07-09T19:00:16.399Z"
   },
   {
    "duration": 2501,
    "start_time": "2021-07-09T19:00:16.422Z"
   },
   {
    "duration": 75,
    "start_time": "2021-07-09T19:00:18.925Z"
   },
   {
    "duration": 39,
    "start_time": "2021-07-09T19:00:19.002Z"
   },
   {
    "duration": 51,
    "start_time": "2021-07-09T19:00:19.042Z"
   },
   {
    "duration": 13,
    "start_time": "2021-07-09T19:00:19.094Z"
   },
   {
    "duration": 12,
    "start_time": "2021-07-09T19:00:19.109Z"
   },
   {
    "duration": 13,
    "start_time": "2021-07-09T19:00:19.123Z"
   },
   {
    "duration": 66,
    "start_time": "2021-07-09T19:00:19.137Z"
   },
   {
    "duration": 10,
    "start_time": "2021-07-09T19:00:19.204Z"
   },
   {
    "duration": 168,
    "start_time": "2021-07-09T19:00:19.216Z"
   },
   {
    "duration": 1015,
    "start_time": "2021-07-09T19:05:46.608Z"
   },
   {
    "duration": 69,
    "start_time": "2021-07-09T19:05:47.624Z"
   },
   {
    "duration": 29,
    "start_time": "2021-07-09T19:05:47.695Z"
   },
   {
    "duration": 8,
    "start_time": "2021-07-09T19:05:47.726Z"
   },
   {
    "duration": 14,
    "start_time": "2021-07-09T19:05:47.735Z"
   },
   {
    "duration": 5,
    "start_time": "2021-07-09T19:05:47.750Z"
   },
   {
    "duration": 55,
    "start_time": "2021-07-09T19:05:47.757Z"
   },
   {
    "duration": 14,
    "start_time": "2021-07-09T19:05:47.813Z"
   },
   {
    "duration": 9,
    "start_time": "2021-07-09T19:05:47.830Z"
   },
   {
    "duration": 5,
    "start_time": "2021-07-09T19:05:47.841Z"
   },
   {
    "duration": 5,
    "start_time": "2021-07-09T19:05:47.847Z"
   },
   {
    "duration": 36,
    "start_time": "2021-07-09T19:05:47.854Z"
   },
   {
    "duration": 98,
    "start_time": "2021-07-09T19:05:47.891Z"
   },
   {
    "duration": 24,
    "start_time": "2021-07-09T19:05:47.991Z"
   },
   {
    "duration": 10,
    "start_time": "2021-07-09T19:05:48.017Z"
   },
   {
    "duration": 14,
    "start_time": "2021-07-09T19:05:48.029Z"
   },
   {
    "duration": 6,
    "start_time": "2021-07-09T19:05:48.044Z"
   },
   {
    "duration": 14,
    "start_time": "2021-07-09T19:05:48.051Z"
   },
   {
    "duration": 339,
    "start_time": "2021-07-09T19:05:48.066Z"
   },
   {
    "duration": 7,
    "start_time": "2021-07-09T19:05:48.407Z"
   },
   {
    "duration": 6,
    "start_time": "2021-07-09T19:05:48.415Z"
   },
   {
    "duration": 361,
    "start_time": "2021-07-09T19:05:48.423Z"
   },
   {
    "duration": 454,
    "start_time": "2021-07-09T19:05:48.786Z"
   },
   {
    "duration": 99,
    "start_time": "2021-07-09T19:05:49.242Z"
   },
   {
    "duration": 154,
    "start_time": "2021-07-09T19:05:49.343Z"
   },
   {
    "duration": 89,
    "start_time": "2021-07-09T19:05:49.499Z"
   },
   {
    "duration": 9,
    "start_time": "2021-07-09T19:05:49.591Z"
   },
   {
    "duration": 8,
    "start_time": "2021-07-09T19:05:49.602Z"
   },
   {
    "duration": 35,
    "start_time": "2021-07-09T19:05:49.611Z"
   },
   {
    "duration": 175,
    "start_time": "2021-07-09T19:05:49.647Z"
   },
   {
    "duration": 11,
    "start_time": "2021-07-09T19:05:49.824Z"
   },
   {
    "duration": 4,
    "start_time": "2021-07-09T19:05:49.836Z"
   },
   {
    "duration": 30,
    "start_time": "2021-07-09T19:05:49.842Z"
   },
   {
    "duration": 2459,
    "start_time": "2021-07-09T19:05:49.874Z"
   },
   {
    "duration": 72,
    "start_time": "2021-07-09T19:05:52.334Z"
   },
   {
    "duration": 37,
    "start_time": "2021-07-09T19:05:52.407Z"
   },
   {
    "duration": 50,
    "start_time": "2021-07-09T19:05:52.446Z"
   },
   {
    "duration": 13,
    "start_time": "2021-07-09T19:05:52.498Z"
   },
   {
    "duration": 19,
    "start_time": "2021-07-09T19:05:52.513Z"
   },
   {
    "duration": 13,
    "start_time": "2021-07-09T19:05:52.533Z"
   },
   {
    "duration": 57,
    "start_time": "2021-07-09T19:05:52.548Z"
   },
   {
    "duration": 9,
    "start_time": "2021-07-09T19:05:52.607Z"
   },
   {
    "duration": 172,
    "start_time": "2021-07-09T19:05:52.617Z"
   },
   {
    "duration": 295,
    "start_time": "2021-07-10T10:02:46.556Z"
   },
   {
    "duration": 1229,
    "start_time": "2021-07-10T10:02:55.470Z"
   },
   {
    "duration": 70,
    "start_time": "2021-07-10T10:02:56.701Z"
   },
   {
    "duration": 29,
    "start_time": "2021-07-10T10:02:56.773Z"
   },
   {
    "duration": 5,
    "start_time": "2021-07-10T10:02:56.804Z"
   },
   {
    "duration": 21,
    "start_time": "2021-07-10T10:02:56.810Z"
   },
   {
    "duration": 13,
    "start_time": "2021-07-10T10:02:56.833Z"
   },
   {
    "duration": 65,
    "start_time": "2021-07-10T10:02:56.847Z"
   },
   {
    "duration": 14,
    "start_time": "2021-07-10T10:02:56.915Z"
   },
   {
    "duration": 17,
    "start_time": "2021-07-10T10:02:56.931Z"
   },
   {
    "duration": 14,
    "start_time": "2021-07-10T10:02:56.950Z"
   },
   {
    "duration": 17,
    "start_time": "2021-07-10T10:02:56.966Z"
   },
   {
    "duration": 22,
    "start_time": "2021-07-10T10:02:56.984Z"
   },
   {
    "duration": 103,
    "start_time": "2021-07-10T10:02:57.008Z"
   },
   {
    "duration": 37,
    "start_time": "2021-07-10T10:02:57.113Z"
   },
   {
    "duration": 25,
    "start_time": "2021-07-10T10:02:57.151Z"
   },
   {
    "duration": 34,
    "start_time": "2021-07-10T10:02:57.178Z"
   },
   {
    "duration": 15,
    "start_time": "2021-07-10T10:02:57.214Z"
   },
   {
    "duration": 31,
    "start_time": "2021-07-10T10:02:57.231Z"
   },
   {
    "duration": 350,
    "start_time": "2021-07-10T10:02:57.264Z"
   },
   {
    "duration": 7,
    "start_time": "2021-07-10T10:02:57.616Z"
   },
   {
    "duration": 38,
    "start_time": "2021-07-10T10:02:57.625Z"
   },
   {
    "duration": 352,
    "start_time": "2021-07-10T10:02:57.664Z"
   },
   {
    "duration": 460,
    "start_time": "2021-07-10T10:02:58.020Z"
   },
   {
    "duration": 105,
    "start_time": "2021-07-10T10:02:58.482Z"
   },
   {
    "duration": 158,
    "start_time": "2021-07-10T10:02:58.588Z"
   },
   {
    "duration": 95,
    "start_time": "2021-07-10T10:02:58.748Z"
   },
   {
    "duration": 11,
    "start_time": "2021-07-10T10:02:58.845Z"
   },
   {
    "duration": 9,
    "start_time": "2021-07-10T10:02:58.858Z"
   },
   {
    "duration": 37,
    "start_time": "2021-07-10T10:02:58.869Z"
   },
   {
    "duration": 181,
    "start_time": "2021-07-10T10:02:58.908Z"
   },
   {
    "duration": 12,
    "start_time": "2021-07-10T10:02:59.091Z"
   },
   {
    "duration": 5,
    "start_time": "2021-07-10T10:02:59.105Z"
   },
   {
    "duration": 40,
    "start_time": "2021-07-10T10:02:59.111Z"
   },
   {
    "duration": 2737,
    "start_time": "2021-07-10T10:02:59.153Z"
   },
   {
    "duration": 76,
    "start_time": "2021-07-10T10:03:01.891Z"
   },
   {
    "duration": 40,
    "start_time": "2021-07-10T10:03:01.969Z"
   },
   {
    "duration": 56,
    "start_time": "2021-07-10T10:03:02.010Z"
   },
   {
    "duration": 13,
    "start_time": "2021-07-10T10:03:02.068Z"
   },
   {
    "duration": 14,
    "start_time": "2021-07-10T10:03:02.083Z"
   },
   {
    "duration": 13,
    "start_time": "2021-07-10T10:03:02.098Z"
   },
   {
    "duration": 61,
    "start_time": "2021-07-10T10:03:02.113Z"
   },
   {
    "duration": 9,
    "start_time": "2021-07-10T10:03:02.175Z"
   },
   {
    "duration": 160,
    "start_time": "2021-07-10T10:03:02.186Z"
   },
   {
    "duration": 9,
    "start_time": "2021-07-10T10:03:02.348Z"
   },
   {
    "duration": 8,
    "start_time": "2021-07-10T10:03:28.107Z"
   },
   {
    "duration": 8,
    "start_time": "2021-07-10T10:04:29.249Z"
   },
   {
    "duration": 5,
    "start_time": "2021-07-10T10:04:47.595Z"
   },
   {
    "duration": 8,
    "start_time": "2021-07-10T10:37:18.486Z"
   },
   {
    "duration": 1089,
    "start_time": "2021-07-10T10:37:32.292Z"
   },
   {
    "duration": 67,
    "start_time": "2021-07-10T10:37:33.383Z"
   },
   {
    "duration": 29,
    "start_time": "2021-07-10T10:37:33.452Z"
   },
   {
    "duration": 12,
    "start_time": "2021-07-10T10:37:33.483Z"
   },
   {
    "duration": 28,
    "start_time": "2021-07-10T10:37:33.497Z"
   },
   {
    "duration": 11,
    "start_time": "2021-07-10T10:37:33.527Z"
   },
   {
    "duration": 54,
    "start_time": "2021-07-10T10:37:33.540Z"
   },
   {
    "duration": 14,
    "start_time": "2021-07-10T10:37:33.596Z"
   },
   {
    "duration": 17,
    "start_time": "2021-07-10T10:37:33.613Z"
   },
   {
    "duration": 9,
    "start_time": "2021-07-10T10:37:33.632Z"
   },
   {
    "duration": 9,
    "start_time": "2021-07-10T10:37:33.643Z"
   },
   {
    "duration": 19,
    "start_time": "2021-07-10T10:37:33.654Z"
   },
   {
    "duration": 96,
    "start_time": "2021-07-10T10:37:33.674Z"
   },
   {
    "duration": 23,
    "start_time": "2021-07-10T10:37:33.772Z"
   },
   {
    "duration": 8,
    "start_time": "2021-07-10T10:37:33.796Z"
   },
   {
    "duration": 20,
    "start_time": "2021-07-10T10:37:33.805Z"
   },
   {
    "duration": 5,
    "start_time": "2021-07-10T10:37:33.827Z"
   },
   {
    "duration": 12,
    "start_time": "2021-07-10T10:37:33.840Z"
   },
   {
    "duration": 322,
    "start_time": "2021-07-10T10:37:33.853Z"
   },
   {
    "duration": 8,
    "start_time": "2021-07-10T10:37:34.177Z"
   },
   {
    "duration": 8,
    "start_time": "2021-07-10T10:37:34.186Z"
   },
   {
    "duration": 329,
    "start_time": "2021-07-10T10:37:34.195Z"
   },
   {
    "duration": 435,
    "start_time": "2021-07-10T10:37:34.527Z"
   },
   {
    "duration": 100,
    "start_time": "2021-07-10T10:37:34.963Z"
   },
   {
    "duration": 151,
    "start_time": "2021-07-10T10:37:35.065Z"
   },
   {
    "duration": 86,
    "start_time": "2021-07-10T10:37:35.218Z"
   },
   {
    "duration": 9,
    "start_time": "2021-07-10T10:37:35.309Z"
   },
   {
    "duration": 26,
    "start_time": "2021-07-10T10:37:35.320Z"
   },
   {
    "duration": 34,
    "start_time": "2021-07-10T10:37:35.348Z"
   },
   {
    "duration": 151,
    "start_time": "2021-07-10T10:37:35.384Z"
   },
   {
    "duration": 11,
    "start_time": "2021-07-10T10:37:35.537Z"
   },
   {
    "duration": 4,
    "start_time": "2021-07-10T10:37:35.549Z"
   },
   {
    "duration": 19,
    "start_time": "2021-07-10T10:37:35.555Z"
   },
   {
    "duration": 2537,
    "start_time": "2021-07-10T10:37:35.575Z"
   },
   {
    "duration": 74,
    "start_time": "2021-07-10T10:37:38.113Z"
   },
   {
    "duration": 39,
    "start_time": "2021-07-10T10:37:38.189Z"
   },
   {
    "duration": 44,
    "start_time": "2021-07-10T10:37:38.230Z"
   },
   {
    "duration": 13,
    "start_time": "2021-07-10T10:37:38.275Z"
   },
   {
    "duration": 12,
    "start_time": "2021-07-10T10:37:38.289Z"
   },
   {
    "duration": 12,
    "start_time": "2021-07-10T10:37:38.303Z"
   },
   {
    "duration": 36,
    "start_time": "2021-07-10T10:37:38.341Z"
   },
   {
    "duration": 10,
    "start_time": "2021-07-10T10:37:38.379Z"
   },
   {
    "duration": 160,
    "start_time": "2021-07-10T10:37:38.390Z"
   },
   {
    "duration": 10,
    "start_time": "2021-07-10T10:37:38.551Z"
   },
   {
    "duration": 8,
    "start_time": "2021-07-10T10:38:39.855Z"
   },
   {
    "duration": 330,
    "start_time": "2021-07-10T10:44:50.999Z"
   },
   {
    "duration": 255,
    "start_time": "2021-07-10T10:44:53.730Z"
   },
   {
    "duration": 88,
    "start_time": "2021-07-10T10:44:57.341Z"
   },
   {
    "duration": 10,
    "start_time": "2021-07-10T10:45:01.138Z"
   },
   {
    "duration": 4,
    "start_time": "2021-07-10T10:46:18.157Z"
   },
   {
    "duration": 1096,
    "start_time": "2021-07-10T10:46:23.495Z"
   },
   {
    "duration": 72,
    "start_time": "2021-07-10T10:46:24.593Z"
   },
   {
    "duration": 30,
    "start_time": "2021-07-10T10:46:24.667Z"
   },
   {
    "duration": 6,
    "start_time": "2021-07-10T10:46:24.699Z"
   },
   {
    "duration": 15,
    "start_time": "2021-07-10T10:46:24.706Z"
   },
   {
    "duration": 7,
    "start_time": "2021-07-10T10:46:24.722Z"
   },
   {
    "duration": 58,
    "start_time": "2021-07-10T10:46:24.730Z"
   },
   {
    "duration": 15,
    "start_time": "2021-07-10T10:46:24.790Z"
   },
   {
    "duration": 14,
    "start_time": "2021-07-10T10:46:24.807Z"
   },
   {
    "duration": 19,
    "start_time": "2021-07-10T10:46:24.823Z"
   },
   {
    "duration": 8,
    "start_time": "2021-07-10T10:46:24.844Z"
   },
   {
    "duration": 10,
    "start_time": "2021-07-10T10:46:24.855Z"
   },
   {
    "duration": 117,
    "start_time": "2021-07-10T10:46:24.866Z"
   },
   {
    "duration": 23,
    "start_time": "2021-07-10T10:46:24.985Z"
   },
   {
    "duration": 10,
    "start_time": "2021-07-10T10:46:25.010Z"
   },
   {
    "duration": 5,
    "start_time": "2021-07-10T10:46:25.022Z"
   },
   {
    "duration": 26,
    "start_time": "2021-07-10T10:46:25.028Z"
   },
   {
    "duration": 7,
    "start_time": "2021-07-10T10:46:25.056Z"
   },
   {
    "duration": 16,
    "start_time": "2021-07-10T10:46:25.064Z"
   },
   {
    "duration": 344,
    "start_time": "2021-07-10T10:46:25.081Z"
   },
   {
    "duration": 8,
    "start_time": "2021-07-10T10:46:25.426Z"
   },
   {
    "duration": 6,
    "start_time": "2021-07-10T10:46:25.440Z"
   },
   {
    "duration": 357,
    "start_time": "2021-07-10T10:46:25.450Z"
   },
   {
    "duration": 471,
    "start_time": "2021-07-10T10:46:25.809Z"
   },
   {
    "duration": 101,
    "start_time": "2021-07-10T10:46:26.282Z"
   },
   {
    "duration": 149,
    "start_time": "2021-07-10T10:46:26.385Z"
   },
   {
    "duration": 89,
    "start_time": "2021-07-10T10:46:26.536Z"
   },
   {
    "duration": 25,
    "start_time": "2021-07-10T10:46:26.627Z"
   },
   {
    "duration": 14,
    "start_time": "2021-07-10T10:46:26.654Z"
   },
   {
    "duration": 36,
    "start_time": "2021-07-10T10:46:26.669Z"
   },
   {
    "duration": 187,
    "start_time": "2021-07-10T10:46:26.707Z"
   },
   {
    "duration": 10,
    "start_time": "2021-07-10T10:46:26.896Z"
   },
   {
    "duration": 4,
    "start_time": "2021-07-10T10:46:26.907Z"
   },
   {
    "duration": 37,
    "start_time": "2021-07-10T10:46:26.912Z"
   },
   {
    "duration": 2614,
    "start_time": "2021-07-10T10:46:26.952Z"
   },
   {
    "duration": 62,
    "start_time": "2021-07-10T10:46:29.568Z"
   },
   {
    "duration": 52,
    "start_time": "2021-07-10T10:46:29.632Z"
   },
   {
    "duration": 71,
    "start_time": "2021-07-10T10:46:29.685Z"
   },
   {
    "duration": 14,
    "start_time": "2021-07-10T10:46:29.757Z"
   },
   {
    "duration": 13,
    "start_time": "2021-07-10T10:46:29.772Z"
   },
   {
    "duration": 12,
    "start_time": "2021-07-10T10:46:29.786Z"
   },
   {
    "duration": 65,
    "start_time": "2021-07-10T10:46:29.800Z"
   },
   {
    "duration": 9,
    "start_time": "2021-07-10T10:46:29.866Z"
   },
   {
    "duration": 163,
    "start_time": "2021-07-10T10:46:29.877Z"
   },
   {
    "duration": 13,
    "start_time": "2021-07-10T10:46:30.043Z"
   },
   {
    "duration": 8,
    "start_time": "2021-07-10T10:46:43.046Z"
   },
   {
    "duration": 10,
    "start_time": "2021-07-10T10:46:44.408Z"
   },
   {
    "duration": 9,
    "start_time": "2021-07-10T10:50:23.045Z"
   },
   {
    "duration": 8,
    "start_time": "2021-07-10T10:51:11.399Z"
   },
   {
    "duration": 1061,
    "start_time": "2021-07-10T10:51:18.719Z"
   },
   {
    "duration": 70,
    "start_time": "2021-07-10T10:51:19.781Z"
   },
   {
    "duration": 29,
    "start_time": "2021-07-10T10:51:19.853Z"
   },
   {
    "duration": 4,
    "start_time": "2021-07-10T10:51:19.884Z"
   },
   {
    "duration": 15,
    "start_time": "2021-07-10T10:51:19.889Z"
   },
   {
    "duration": 5,
    "start_time": "2021-07-10T10:51:19.905Z"
   },
   {
    "duration": 54,
    "start_time": "2021-07-10T10:51:19.911Z"
   },
   {
    "duration": 14,
    "start_time": "2021-07-10T10:51:19.967Z"
   },
   {
    "duration": 10,
    "start_time": "2021-07-10T10:51:19.983Z"
   },
   {
    "duration": 4,
    "start_time": "2021-07-10T10:51:19.995Z"
   },
   {
    "duration": 13,
    "start_time": "2021-07-10T10:51:20.001Z"
   },
   {
    "duration": 27,
    "start_time": "2021-07-10T10:51:20.016Z"
   },
   {
    "duration": 103,
    "start_time": "2021-07-10T10:51:20.045Z"
   },
   {
    "duration": 23,
    "start_time": "2021-07-10T10:51:20.150Z"
   },
   {
    "duration": 6,
    "start_time": "2021-07-10T10:51:20.175Z"
   },
   {
    "duration": 5,
    "start_time": "2021-07-10T10:51:20.182Z"
   },
   {
    "duration": 17,
    "start_time": "2021-07-10T10:51:20.188Z"
   },
   {
    "duration": 5,
    "start_time": "2021-07-10T10:51:20.207Z"
   },
   {
    "duration": 34,
    "start_time": "2021-07-10T10:51:20.213Z"
   },
   {
    "duration": 323,
    "start_time": "2021-07-10T10:51:20.248Z"
   },
   {
    "duration": 8,
    "start_time": "2021-07-10T10:51:20.572Z"
   },
   {
    "duration": 7,
    "start_time": "2021-07-10T10:51:20.582Z"
   },
   {
    "duration": 348,
    "start_time": "2021-07-10T10:51:20.593Z"
   },
   {
    "duration": 438,
    "start_time": "2021-07-10T10:51:20.944Z"
   },
   {
    "duration": 100,
    "start_time": "2021-07-10T10:51:21.384Z"
   },
   {
    "duration": 143,
    "start_time": "2021-07-10T10:51:21.486Z"
   },
   {
    "duration": 81,
    "start_time": "2021-07-10T10:51:21.631Z"
   },
   {
    "duration": 8,
    "start_time": "2021-07-10T10:51:21.714Z"
   },
   {
    "duration": 20,
    "start_time": "2021-07-10T10:51:21.723Z"
   },
   {
    "duration": 33,
    "start_time": "2021-07-10T10:51:21.745Z"
   },
   {
    "duration": 153,
    "start_time": "2021-07-10T10:51:21.780Z"
   },
   {
    "duration": 12,
    "start_time": "2021-07-10T10:51:21.935Z"
   },
   {
    "duration": 4,
    "start_time": "2021-07-10T10:51:21.949Z"
   },
   {
    "duration": 21,
    "start_time": "2021-07-10T10:51:21.955Z"
   },
   {
    "duration": 2420,
    "start_time": "2021-07-10T10:51:21.977Z"
   },
   {
    "duration": 73,
    "start_time": "2021-07-10T10:51:24.398Z"
   },
   {
    "duration": 38,
    "start_time": "2021-07-10T10:51:24.473Z"
   },
   {
    "duration": 65,
    "start_time": "2021-07-10T10:51:24.512Z"
   },
   {
    "duration": 12,
    "start_time": "2021-07-10T10:51:24.578Z"
   },
   {
    "duration": 13,
    "start_time": "2021-07-10T10:51:24.592Z"
   },
   {
    "duration": 35,
    "start_time": "2021-07-10T10:51:24.606Z"
   },
   {
    "duration": 35,
    "start_time": "2021-07-10T10:51:24.643Z"
   },
   {
    "duration": 9,
    "start_time": "2021-07-10T10:51:24.679Z"
   },
   {
    "duration": 153,
    "start_time": "2021-07-10T10:51:24.689Z"
   },
   {
    "duration": 7,
    "start_time": "2021-07-10T10:51:24.844Z"
   },
   {
    "duration": 328,
    "start_time": "2021-07-10T10:51:39.302Z"
   },
   {
    "duration": 11,
    "start_time": "2021-07-10T10:51:47.569Z"
   },
   {
    "duration": 9,
    "start_time": "2021-07-10T10:51:56.069Z"
   },
   {
    "duration": 24,
    "start_time": "2021-07-10T10:52:28.619Z"
   },
   {
    "duration": 9,
    "start_time": "2021-07-10T10:52:39.622Z"
   },
   {
    "duration": 8,
    "start_time": "2021-07-10T10:52:41.961Z"
   },
   {
    "duration": 8,
    "start_time": "2021-07-10T10:52:44.716Z"
   },
   {
    "duration": 9,
    "start_time": "2021-07-10T10:52:49.063Z"
   },
   {
    "duration": 4,
    "start_time": "2021-07-10T10:53:11.589Z"
   },
   {
    "duration": 1101,
    "start_time": "2021-07-10T10:53:17.577Z"
   },
   {
    "duration": 68,
    "start_time": "2021-07-10T10:53:18.680Z"
   },
   {
    "duration": 30,
    "start_time": "2021-07-10T10:53:18.750Z"
   },
   {
    "duration": 4,
    "start_time": "2021-07-10T10:53:18.781Z"
   },
   {
    "duration": 23,
    "start_time": "2021-07-10T10:53:18.787Z"
   },
   {
    "duration": 13,
    "start_time": "2021-07-10T10:53:18.811Z"
   },
   {
    "duration": 60,
    "start_time": "2021-07-10T10:53:18.826Z"
   },
   {
    "duration": 13,
    "start_time": "2021-07-10T10:53:18.887Z"
   },
   {
    "duration": 15,
    "start_time": "2021-07-10T10:53:18.902Z"
   },
   {
    "duration": 4,
    "start_time": "2021-07-10T10:53:18.919Z"
   },
   {
    "duration": 6,
    "start_time": "2021-07-10T10:53:18.940Z"
   },
   {
    "duration": 21,
    "start_time": "2021-07-10T10:53:18.948Z"
   },
   {
    "duration": 103,
    "start_time": "2021-07-10T10:53:18.970Z"
   },
   {
    "duration": 22,
    "start_time": "2021-07-10T10:53:19.075Z"
   },
   {
    "duration": 16,
    "start_time": "2021-07-10T10:53:19.099Z"
   },
   {
    "duration": 10,
    "start_time": "2021-07-10T10:53:19.117Z"
   },
   {
    "duration": 27,
    "start_time": "2021-07-10T10:53:19.129Z"
   },
   {
    "duration": 8,
    "start_time": "2021-07-10T10:53:19.157Z"
   },
   {
    "duration": 25,
    "start_time": "2021-07-10T10:53:19.166Z"
   },
   {
    "duration": 319,
    "start_time": "2021-07-10T10:53:19.192Z"
   },
   {
    "duration": 7,
    "start_time": "2021-07-10T10:53:19.512Z"
   },
   {
    "duration": 6,
    "start_time": "2021-07-10T10:53:19.522Z"
   },
   {
    "duration": 420,
    "start_time": "2021-07-10T10:53:19.541Z"
   },
   {
    "duration": 434,
    "start_time": "2021-07-10T10:53:19.962Z"
   },
   {
    "duration": 99,
    "start_time": "2021-07-10T10:53:20.397Z"
   },
   {
    "duration": 139,
    "start_time": "2021-07-10T10:53:20.497Z"
   },
   {
    "duration": 104,
    "start_time": "2021-07-10T10:53:20.637Z"
   },
   {
    "duration": 10,
    "start_time": "2021-07-10T10:53:20.743Z"
   },
   {
    "duration": 8,
    "start_time": "2021-07-10T10:53:20.754Z"
   },
   {
    "duration": 38,
    "start_time": "2021-07-10T10:53:20.764Z"
   },
   {
    "duration": 170,
    "start_time": "2021-07-10T10:53:20.803Z"
   },
   {
    "duration": 10,
    "start_time": "2021-07-10T10:53:20.975Z"
   },
   {
    "duration": 5,
    "start_time": "2021-07-10T10:53:20.987Z"
   },
   {
    "duration": 31,
    "start_time": "2021-07-10T10:53:20.993Z"
   },
   {
    "duration": 2436,
    "start_time": "2021-07-10T10:53:21.026Z"
   },
   {
    "duration": 65,
    "start_time": "2021-07-10T10:53:23.463Z"
   },
   {
    "duration": 47,
    "start_time": "2021-07-10T10:53:23.529Z"
   },
   {
    "duration": 40,
    "start_time": "2021-07-10T10:53:23.577Z"
   },
   {
    "duration": 33,
    "start_time": "2021-07-10T10:53:23.618Z"
   },
   {
    "duration": 12,
    "start_time": "2021-07-10T10:53:23.652Z"
   },
   {
    "duration": 13,
    "start_time": "2021-07-10T10:53:23.666Z"
   },
   {
    "duration": 35,
    "start_time": "2021-07-10T10:53:23.680Z"
   },
   {
    "duration": 29,
    "start_time": "2021-07-10T10:53:23.717Z"
   },
   {
    "duration": 171,
    "start_time": "2021-07-10T10:53:23.748Z"
   },
   {
    "duration": 22,
    "start_time": "2021-07-10T10:53:23.921Z"
   },
   {
    "duration": 21,
    "start_time": "2021-07-10T10:53:23.945Z"
   },
   {
    "duration": 20,
    "start_time": "2021-07-10T10:54:15.378Z"
   },
   {
    "duration": 12,
    "start_time": "2021-07-10T10:54:23.341Z"
   },
   {
    "duration": 1095,
    "start_time": "2021-07-10T10:56:35.980Z"
   },
   {
    "duration": 67,
    "start_time": "2021-07-10T10:56:37.077Z"
   },
   {
    "duration": 29,
    "start_time": "2021-07-10T10:56:37.147Z"
   },
   {
    "duration": 7,
    "start_time": "2021-07-10T10:56:37.178Z"
   },
   {
    "duration": 20,
    "start_time": "2021-07-10T10:56:37.187Z"
   },
   {
    "duration": 5,
    "start_time": "2021-07-10T10:56:37.209Z"
   },
   {
    "duration": 55,
    "start_time": "2021-07-10T10:56:37.216Z"
   },
   {
    "duration": 13,
    "start_time": "2021-07-10T10:56:37.272Z"
   },
   {
    "duration": 19,
    "start_time": "2021-07-10T10:56:37.288Z"
   },
   {
    "duration": 11,
    "start_time": "2021-07-10T10:56:37.309Z"
   },
   {
    "duration": 17,
    "start_time": "2021-07-10T10:56:37.322Z"
   },
   {
    "duration": 16,
    "start_time": "2021-07-10T10:56:37.341Z"
   },
   {
    "duration": 89,
    "start_time": "2021-07-10T10:56:37.359Z"
   },
   {
    "duration": 23,
    "start_time": "2021-07-10T10:56:37.450Z"
   },
   {
    "duration": 10,
    "start_time": "2021-07-10T10:56:37.475Z"
   },
   {
    "duration": 6,
    "start_time": "2021-07-10T10:56:37.486Z"
   },
   {
    "duration": 16,
    "start_time": "2021-07-10T10:56:37.494Z"
   },
   {
    "duration": 5,
    "start_time": "2021-07-10T10:56:37.512Z"
   },
   {
    "duration": 30,
    "start_time": "2021-07-10T10:56:37.519Z"
   },
   {
    "duration": 323,
    "start_time": "2021-07-10T10:56:37.551Z"
   },
   {
    "duration": 6,
    "start_time": "2021-07-10T10:56:37.876Z"
   },
   {
    "duration": 11,
    "start_time": "2021-07-10T10:56:37.884Z"
   },
   {
    "duration": 335,
    "start_time": "2021-07-10T10:56:37.896Z"
   },
   {
    "duration": 427,
    "start_time": "2021-07-10T10:56:38.232Z"
   },
   {
    "duration": 100,
    "start_time": "2021-07-10T10:56:38.661Z"
   },
   {
    "duration": 150,
    "start_time": "2021-07-10T10:56:38.762Z"
   },
   {
    "duration": 91,
    "start_time": "2021-07-10T10:56:38.915Z"
   },
   {
    "duration": 8,
    "start_time": "2021-07-10T10:56:39.008Z"
   },
   {
    "duration": 24,
    "start_time": "2021-07-10T10:56:39.018Z"
   },
   {
    "duration": 38,
    "start_time": "2021-07-10T10:56:39.043Z"
   },
   {
    "duration": 146,
    "start_time": "2021-07-10T10:56:39.082Z"
   },
   {
    "duration": 20,
    "start_time": "2021-07-10T10:56:39.229Z"
   },
   {
    "duration": 7,
    "start_time": "2021-07-10T10:56:39.251Z"
   },
   {
    "duration": 26,
    "start_time": "2021-07-10T10:56:39.260Z"
   },
   {
    "duration": 2455,
    "start_time": "2021-07-10T10:56:39.288Z"
   },
   {
    "duration": 64,
    "start_time": "2021-07-10T10:56:41.745Z"
   },
   {
    "duration": 58,
    "start_time": "2021-07-10T10:56:41.810Z"
   },
   {
    "duration": 42,
    "start_time": "2021-07-10T10:56:41.870Z"
   },
   {
    "duration": 13,
    "start_time": "2021-07-10T10:56:41.913Z"
   },
   {
    "duration": 16,
    "start_time": "2021-07-10T10:56:41.941Z"
   },
   {
    "duration": 13,
    "start_time": "2021-07-10T10:56:41.959Z"
   },
   {
    "duration": 36,
    "start_time": "2021-07-10T10:56:41.973Z"
   },
   {
    "duration": 36,
    "start_time": "2021-07-10T10:56:42.011Z"
   },
   {
    "duration": 146,
    "start_time": "2021-07-10T10:56:42.049Z"
   },
   {
    "duration": 3,
    "start_time": "2021-07-10T10:56:42.196Z"
   },
   {
    "duration": 11,
    "start_time": "2021-07-10T10:56:53.492Z"
   },
   {
    "duration": 13,
    "start_time": "2021-07-10T10:56:57.097Z"
   },
   {
    "duration": 22,
    "start_time": "2021-07-10T10:57:38.664Z"
   },
   {
    "duration": 11,
    "start_time": "2021-07-10T10:57:45.012Z"
   },
   {
    "duration": 23,
    "start_time": "2021-07-10T10:57:50.306Z"
   },
   {
    "duration": 21,
    "start_time": "2021-07-10T10:58:01.347Z"
   },
   {
    "duration": 1114,
    "start_time": "2021-07-10T10:58:38.235Z"
   },
   {
    "duration": 67,
    "start_time": "2021-07-10T10:58:39.351Z"
   },
   {
    "duration": 28,
    "start_time": "2021-07-10T10:58:39.420Z"
   },
   {
    "duration": 7,
    "start_time": "2021-07-10T10:58:39.450Z"
   },
   {
    "duration": 15,
    "start_time": "2021-07-10T10:58:39.458Z"
   },
   {
    "duration": 6,
    "start_time": "2021-07-10T10:58:39.474Z"
   },
   {
    "duration": 65,
    "start_time": "2021-07-10T10:58:39.481Z"
   },
   {
    "duration": 14,
    "start_time": "2021-07-10T10:58:39.548Z"
   },
   {
    "duration": 12,
    "start_time": "2021-07-10T10:58:39.564Z"
   },
   {
    "duration": 5,
    "start_time": "2021-07-10T10:58:39.578Z"
   },
   {
    "duration": 7,
    "start_time": "2021-07-10T10:58:39.585Z"
   },
   {
    "duration": 13,
    "start_time": "2021-07-10T10:58:39.594Z"
   },
   {
    "duration": 115,
    "start_time": "2021-07-10T10:58:39.608Z"
   },
   {
    "duration": 27,
    "start_time": "2021-07-10T10:58:39.725Z"
   },
   {
    "duration": 9,
    "start_time": "2021-07-10T10:58:39.753Z"
   },
   {
    "duration": 14,
    "start_time": "2021-07-10T10:58:39.764Z"
   },
   {
    "duration": 5,
    "start_time": "2021-07-10T10:58:39.780Z"
   },
   {
    "duration": 19,
    "start_time": "2021-07-10T10:58:39.786Z"
   },
   {
    "duration": 333,
    "start_time": "2021-07-10T10:58:39.807Z"
   },
   {
    "duration": 7,
    "start_time": "2021-07-10T10:58:40.142Z"
   },
   {
    "duration": 8,
    "start_time": "2021-07-10T10:58:40.150Z"
   },
   {
    "duration": 341,
    "start_time": "2021-07-10T10:58:40.159Z"
   },
   {
    "duration": 436,
    "start_time": "2021-07-10T10:58:40.504Z"
   },
   {
    "duration": 88,
    "start_time": "2021-07-10T10:58:40.942Z"
   },
   {
    "duration": 148,
    "start_time": "2021-07-10T10:58:41.041Z"
   },
   {
    "duration": 80,
    "start_time": "2021-07-10T10:58:41.191Z"
   },
   {
    "duration": 9,
    "start_time": "2021-07-10T10:58:41.273Z"
   },
   {
    "duration": 7,
    "start_time": "2021-07-10T10:58:41.284Z"
   },
   {
    "duration": 56,
    "start_time": "2021-07-10T10:58:41.293Z"
   },
   {
    "duration": 154,
    "start_time": "2021-07-10T10:58:41.350Z"
   },
   {
    "duration": 11,
    "start_time": "2021-07-10T10:58:41.506Z"
   },
   {
    "duration": 4,
    "start_time": "2021-07-10T10:58:41.519Z"
   },
   {
    "duration": 34,
    "start_time": "2021-07-10T10:58:41.524Z"
   },
   {
    "duration": 2490,
    "start_time": "2021-07-10T10:58:41.560Z"
   },
   {
    "duration": 65,
    "start_time": "2021-07-10T10:58:44.051Z"
   },
   {
    "duration": 55,
    "start_time": "2021-07-10T10:58:44.117Z"
   },
   {
    "duration": 37,
    "start_time": "2021-07-10T10:58:44.174Z"
   },
   {
    "duration": 29,
    "start_time": "2021-07-10T10:58:44.213Z"
   },
   {
    "duration": 13,
    "start_time": "2021-07-10T10:58:44.244Z"
   },
   {
    "duration": 14,
    "start_time": "2021-07-10T10:58:44.258Z"
   },
   {
    "duration": 35,
    "start_time": "2021-07-10T10:58:44.273Z"
   },
   {
    "duration": 34,
    "start_time": "2021-07-10T10:58:44.309Z"
   },
   {
    "duration": 148,
    "start_time": "2021-07-10T10:58:44.344Z"
   },
   {
    "duration": 12,
    "start_time": "2021-07-10T10:58:44.494Z"
   },
   {
    "duration": 35,
    "start_time": "2021-07-10T10:58:44.508Z"
   },
   {
    "duration": 411,
    "start_time": "2021-07-10T10:59:02.029Z"
   },
   {
    "duration": 21,
    "start_time": "2021-07-10T11:00:24.279Z"
   },
   {
    "duration": 9,
    "start_time": "2021-07-10T11:00:36.182Z"
   },
   {
    "duration": 7,
    "start_time": "2021-07-10T11:18:23.341Z"
   },
   {
    "duration": 18,
    "start_time": "2021-07-10T11:19:12.107Z"
   },
   {
    "duration": 23,
    "start_time": "2021-07-10T11:20:58.135Z"
   },
   {
    "duration": 17,
    "start_time": "2021-07-10T11:23:21.573Z"
   },
   {
    "duration": 18,
    "start_time": "2021-07-10T11:41:46.397Z"
   },
   {
    "duration": 19,
    "start_time": "2021-07-10T11:43:35.826Z"
   },
   {
    "duration": 12,
    "start_time": "2021-07-10T11:45:04.547Z"
   },
   {
    "duration": 9,
    "start_time": "2021-07-10T11:45:33.030Z"
   },
   {
    "duration": 10,
    "start_time": "2021-07-10T11:45:38.207Z"
   },
   {
    "duration": 11,
    "start_time": "2021-07-10T11:45:43.032Z"
   },
   {
    "duration": 14,
    "start_time": "2021-07-10T11:46:20.909Z"
   },
   {
    "duration": 3,
    "start_time": "2021-07-10T11:46:23.689Z"
   },
   {
    "duration": 5,
    "start_time": "2021-07-10T11:47:17.542Z"
   },
   {
    "duration": 19,
    "start_time": "2021-07-10T11:47:36.069Z"
   },
   {
    "duration": 4,
    "start_time": "2021-07-10T11:47:37.731Z"
   },
   {
    "duration": 1168,
    "start_time": "2021-07-10T11:52:11.861Z"
   },
   {
    "duration": 76,
    "start_time": "2021-07-10T11:52:13.031Z"
   },
   {
    "duration": 30,
    "start_time": "2021-07-10T11:52:13.109Z"
   },
   {
    "duration": 8,
    "start_time": "2021-07-10T11:52:13.141Z"
   },
   {
    "duration": 18,
    "start_time": "2021-07-10T11:52:13.151Z"
   },
   {
    "duration": 13,
    "start_time": "2021-07-10T11:52:13.171Z"
   },
   {
    "duration": 63,
    "start_time": "2021-07-10T11:52:13.186Z"
   },
   {
    "duration": 16,
    "start_time": "2021-07-10T11:52:13.252Z"
   },
   {
    "duration": 12,
    "start_time": "2021-07-10T11:52:13.269Z"
   },
   {
    "duration": 5,
    "start_time": "2021-07-10T11:52:13.282Z"
   },
   {
    "duration": 7,
    "start_time": "2021-07-10T11:52:13.289Z"
   },
   {
    "duration": 9,
    "start_time": "2021-07-10T11:52:13.297Z"
   },
   {
    "duration": 122,
    "start_time": "2021-07-10T11:52:13.308Z"
   },
   {
    "duration": 33,
    "start_time": "2021-07-10T11:52:13.431Z"
   },
   {
    "duration": 5,
    "start_time": "2021-07-10T11:52:13.465Z"
   },
   {
    "duration": 16,
    "start_time": "2021-07-10T11:52:13.471Z"
   },
   {
    "duration": 5,
    "start_time": "2021-07-10T11:52:13.489Z"
   },
   {
    "duration": 23,
    "start_time": "2021-07-10T11:52:13.496Z"
   },
   {
    "duration": 341,
    "start_time": "2021-07-10T11:52:13.521Z"
   },
   {
    "duration": 8,
    "start_time": "2021-07-10T11:52:13.865Z"
   },
   {
    "duration": 7,
    "start_time": "2021-07-10T11:52:13.875Z"
   },
   {
    "duration": 357,
    "start_time": "2021-07-10T11:52:13.884Z"
   },
   {
    "duration": 460,
    "start_time": "2021-07-10T11:52:14.245Z"
   },
   {
    "duration": 105,
    "start_time": "2021-07-10T11:52:14.707Z"
   },
   {
    "duration": 158,
    "start_time": "2021-07-10T11:52:14.814Z"
   },
   {
    "duration": 89,
    "start_time": "2021-07-10T11:52:14.974Z"
   },
   {
    "duration": 9,
    "start_time": "2021-07-10T11:52:15.065Z"
   },
   {
    "duration": 8,
    "start_time": "2021-07-10T11:52:15.076Z"
   },
   {
    "duration": 63,
    "start_time": "2021-07-10T11:52:15.085Z"
   },
   {
    "duration": 144,
    "start_time": "2021-07-10T11:52:15.150Z"
   },
   {
    "duration": 10,
    "start_time": "2021-07-10T11:52:15.296Z"
   },
   {
    "duration": 5,
    "start_time": "2021-07-10T11:52:15.307Z"
   },
   {
    "duration": 42,
    "start_time": "2021-07-10T11:52:15.313Z"
   },
   {
    "duration": 2547,
    "start_time": "2021-07-10T11:52:15.357Z"
   },
   {
    "duration": 77,
    "start_time": "2021-07-10T11:52:17.906Z"
   },
   {
    "duration": 37,
    "start_time": "2021-07-10T11:52:17.985Z"
   },
   {
    "duration": 54,
    "start_time": "2021-07-10T11:52:18.024Z"
   },
   {
    "duration": 12,
    "start_time": "2021-07-10T11:52:18.080Z"
   },
   {
    "duration": 13,
    "start_time": "2021-07-10T11:52:18.094Z"
   },
   {
    "duration": 42,
    "start_time": "2021-07-10T11:52:18.108Z"
   },
   {
    "duration": 36,
    "start_time": "2021-07-10T11:52:18.152Z"
   },
   {
    "duration": 9,
    "start_time": "2021-07-10T11:52:18.189Z"
   },
   {
    "duration": 156,
    "start_time": "2021-07-10T11:52:18.200Z"
   },
   {
    "duration": 18,
    "start_time": "2021-07-10T11:52:18.358Z"
   },
   {
    "duration": 18,
    "start_time": "2021-07-10T11:52:18.377Z"
   },
   {
    "duration": 9,
    "start_time": "2021-07-10T11:52:18.396Z"
   },
   {
    "duration": 3,
    "start_time": "2021-07-10T11:52:18.407Z"
   },
   {
    "duration": 38,
    "start_time": "2021-07-10T11:52:18.411Z"
   },
   {
    "duration": 18,
    "start_time": "2021-07-10T11:52:37.018Z"
   },
   {
    "duration": 16,
    "start_time": "2021-07-10T11:52:37.436Z"
   },
   {
    "duration": 4,
    "start_time": "2021-07-10T11:52:37.875Z"
   },
   {
    "duration": 19,
    "start_time": "2021-07-10T11:52:44.768Z"
   },
   {
    "duration": 10,
    "start_time": "2021-07-10T11:52:45.219Z"
   },
   {
    "duration": 3,
    "start_time": "2021-07-10T11:52:45.572Z"
   },
   {
    "duration": 19,
    "start_time": "2021-07-10T11:52:53.479Z"
   },
   {
    "duration": 13,
    "start_time": "2021-07-10T11:52:53.910Z"
   },
   {
    "duration": 3,
    "start_time": "2021-07-10T11:52:54.203Z"
   },
   {
    "duration": 5,
    "start_time": "2021-07-10T11:52:54.627Z"
   },
   {
    "duration": 18,
    "start_time": "2021-07-10T11:53:00.065Z"
   },
   {
    "duration": 18,
    "start_time": "2021-07-10T11:53:00.438Z"
   },
   {
    "duration": 3,
    "start_time": "2021-07-10T11:53:00.725Z"
   },
   {
    "duration": 14,
    "start_time": "2021-07-10T11:53:36.563Z"
   },
   {
    "duration": 1104,
    "start_time": "2021-07-10T12:06:48.002Z"
   },
   {
    "duration": 77,
    "start_time": "2021-07-10T12:06:49.108Z"
   },
   {
    "duration": 29,
    "start_time": "2021-07-10T12:06:49.187Z"
   },
   {
    "duration": 5,
    "start_time": "2021-07-10T12:06:49.218Z"
   },
   {
    "duration": 14,
    "start_time": "2021-07-10T12:06:49.225Z"
   },
   {
    "duration": 6,
    "start_time": "2021-07-10T12:06:49.241Z"
   },
   {
    "duration": 61,
    "start_time": "2021-07-10T12:06:49.250Z"
   },
   {
    "duration": 30,
    "start_time": "2021-07-10T12:06:49.312Z"
   },
   {
    "duration": 18,
    "start_time": "2021-07-10T12:06:49.346Z"
   },
   {
    "duration": 6,
    "start_time": "2021-07-10T12:06:49.366Z"
   },
   {
    "duration": 7,
    "start_time": "2021-07-10T12:06:49.374Z"
   },
   {
    "duration": 9,
    "start_time": "2021-07-10T12:06:49.383Z"
   },
   {
    "duration": 123,
    "start_time": "2021-07-10T12:06:49.394Z"
   },
   {
    "duration": 30,
    "start_time": "2021-07-10T12:06:49.519Z"
   },
   {
    "duration": 11,
    "start_time": "2021-07-10T12:06:49.551Z"
   },
   {
    "duration": 17,
    "start_time": "2021-07-10T12:06:49.567Z"
   },
   {
    "duration": 7,
    "start_time": "2021-07-10T12:06:49.585Z"
   },
   {
    "duration": 17,
    "start_time": "2021-07-10T12:06:49.593Z"
   },
   {
    "duration": 395,
    "start_time": "2021-07-10T12:06:49.611Z"
   },
   {
    "duration": 9,
    "start_time": "2021-07-10T12:06:50.008Z"
   },
   {
    "duration": 8,
    "start_time": "2021-07-10T12:06:50.019Z"
   },
   {
    "duration": 366,
    "start_time": "2021-07-10T12:06:50.041Z"
   },
   {
    "duration": 453,
    "start_time": "2021-07-10T12:06:50.409Z"
   },
   {
    "duration": 102,
    "start_time": "2021-07-10T12:06:50.864Z"
   },
   {
    "duration": 153,
    "start_time": "2021-07-10T12:06:50.968Z"
   },
   {
    "duration": 87,
    "start_time": "2021-07-10T12:06:51.122Z"
   },
   {
    "duration": 9,
    "start_time": "2021-07-10T12:06:51.213Z"
   },
   {
    "duration": 24,
    "start_time": "2021-07-10T12:06:51.224Z"
   },
   {
    "duration": 37,
    "start_time": "2021-07-10T12:06:51.250Z"
   },
   {
    "duration": 169,
    "start_time": "2021-07-10T12:06:51.289Z"
   },
   {
    "duration": 11,
    "start_time": "2021-07-10T12:06:51.460Z"
   },
   {
    "duration": 4,
    "start_time": "2021-07-10T12:06:51.473Z"
   },
   {
    "duration": 21,
    "start_time": "2021-07-10T12:06:51.479Z"
   },
   {
    "duration": 2796,
    "start_time": "2021-07-10T12:06:51.502Z"
   },
   {
    "duration": 87,
    "start_time": "2021-07-10T12:06:54.300Z"
   },
   {
    "duration": 59,
    "start_time": "2021-07-10T12:06:54.389Z"
   },
   {
    "duration": 41,
    "start_time": "2021-07-10T12:06:54.451Z"
   },
   {
    "duration": 14,
    "start_time": "2021-07-10T12:06:54.493Z"
   },
   {
    "duration": 14,
    "start_time": "2021-07-10T12:06:54.508Z"
   },
   {
    "duration": 34,
    "start_time": "2021-07-10T12:06:54.523Z"
   },
   {
    "duration": 37,
    "start_time": "2021-07-10T12:06:54.559Z"
   },
   {
    "duration": 10,
    "start_time": "2021-07-10T12:06:54.598Z"
   },
   {
    "duration": 183,
    "start_time": "2021-07-10T12:06:54.609Z"
   },
   {
    "duration": 20,
    "start_time": "2021-07-10T12:06:54.793Z"
   },
   {
    "duration": 50,
    "start_time": "2021-07-10T12:06:54.815Z"
   },
   {
    "duration": 12,
    "start_time": "2021-07-10T12:06:54.866Z"
   },
   {
    "duration": 14,
    "start_time": "2021-07-10T12:06:54.879Z"
   },
   {
    "duration": 10,
    "start_time": "2021-07-10T12:07:28.497Z"
   },
   {
    "duration": 23,
    "start_time": "2021-07-10T12:07:35.039Z"
   },
   {
    "duration": 4,
    "start_time": "2021-07-10T12:07:41.697Z"
   },
   {
    "duration": 13,
    "start_time": "2021-07-10T12:13:56.975Z"
   },
   {
    "duration": 10,
    "start_time": "2021-07-10T12:14:04.991Z"
   },
   {
    "duration": 19,
    "start_time": "2021-07-10T12:15:24.372Z"
   },
   {
    "duration": 13,
    "start_time": "2021-07-10T12:15:25.143Z"
   },
   {
    "duration": 4,
    "start_time": "2021-07-10T12:15:25.733Z"
   },
   {
    "duration": 16,
    "start_time": "2021-07-10T12:17:37.339Z"
   },
   {
    "duration": 336,
    "start_time": "2021-07-10T12:18:06.879Z"
   },
   {
    "duration": 4,
    "start_time": "2021-07-10T12:18:11.227Z"
   },
   {
    "duration": 17,
    "start_time": "2021-07-10T12:18:17.900Z"
   },
   {
    "duration": 3,
    "start_time": "2021-07-10T12:18:21.917Z"
   },
   {
    "duration": 7,
    "start_time": "2021-07-10T12:20:55.809Z"
   },
   {
    "duration": 8,
    "start_time": "2021-07-10T12:21:02.332Z"
   },
   {
    "duration": 8,
    "start_time": "2021-07-10T12:21:09.082Z"
   },
   {
    "duration": 4,
    "start_time": "2021-07-10T12:21:43.387Z"
   },
   {
    "duration": 18,
    "start_time": "2021-07-10T12:22:10.367Z"
   },
   {
    "duration": 9,
    "start_time": "2021-07-10T12:22:12.863Z"
   },
   {
    "duration": 3,
    "start_time": "2021-07-10T12:22:13.095Z"
   },
   {
    "duration": 3,
    "start_time": "2021-07-10T12:22:13.370Z"
   },
   {
    "duration": 3,
    "start_time": "2021-07-10T12:22:13.698Z"
   },
   {
    "duration": 4,
    "start_time": "2021-07-10T12:22:16.265Z"
   },
   {
    "duration": 21,
    "start_time": "2021-07-10T12:24:20.087Z"
   },
   {
    "duration": 11,
    "start_time": "2021-07-10T12:24:21.131Z"
   },
   {
    "duration": 4,
    "start_time": "2021-07-10T12:24:21.913Z"
   },
   {
    "duration": 4,
    "start_time": "2021-07-10T12:24:23.186Z"
   },
   {
    "duration": 3,
    "start_time": "2021-07-10T12:24:23.892Z"
   },
   {
    "duration": 25,
    "start_time": "2021-07-10T12:24:39.927Z"
   },
   {
    "duration": 17,
    "start_time": "2021-07-10T12:24:40.233Z"
   },
   {
    "duration": 4,
    "start_time": "2021-07-10T12:24:40.505Z"
   },
   {
    "duration": 4,
    "start_time": "2021-07-10T12:24:40.884Z"
   },
   {
    "duration": 4,
    "start_time": "2021-07-10T12:24:41.168Z"
   },
   {
    "duration": 13,
    "start_time": "2021-07-10T12:24:41.604Z"
   },
   {
    "duration": 14,
    "start_time": "2021-07-10T12:24:42.186Z"
   },
   {
    "duration": 8,
    "start_time": "2021-07-10T12:24:43.210Z"
   },
   {
    "duration": 21,
    "start_time": "2021-07-10T12:25:20.994Z"
   },
   {
    "duration": 11,
    "start_time": "2021-07-10T12:25:21.250Z"
   },
   {
    "duration": 3,
    "start_time": "2021-07-10T12:25:21.500Z"
   },
   {
    "duration": 18,
    "start_time": "2021-07-10T12:25:37.657Z"
   },
   {
    "duration": 10,
    "start_time": "2021-07-10T12:25:37.999Z"
   },
   {
    "duration": 4,
    "start_time": "2021-07-10T12:25:38.319Z"
   },
   {
    "duration": 19,
    "start_time": "2021-07-10T12:25:50.707Z"
   },
   {
    "duration": 16,
    "start_time": "2021-07-10T12:25:51.041Z"
   },
   {
    "duration": 8,
    "start_time": "2021-07-10T12:25:51.342Z"
   },
   {
    "duration": 18,
    "start_time": "2021-07-10T12:26:47.252Z"
   },
   {
    "duration": 4,
    "start_time": "2021-07-10T12:27:09.811Z"
   },
   {
    "duration": 1083,
    "start_time": "2021-07-10T14:29:08.489Z"
   },
   {
    "duration": 68,
    "start_time": "2021-07-10T14:29:09.574Z"
   },
   {
    "duration": 31,
    "start_time": "2021-07-10T14:29:09.644Z"
   },
   {
    "duration": 4,
    "start_time": "2021-07-10T14:29:09.677Z"
   },
   {
    "duration": 14,
    "start_time": "2021-07-10T14:29:09.683Z"
   },
   {
    "duration": 5,
    "start_time": "2021-07-10T14:29:09.699Z"
   },
   {
    "duration": 60,
    "start_time": "2021-07-10T14:29:09.706Z"
   },
   {
    "duration": 14,
    "start_time": "2021-07-10T14:29:09.768Z"
   },
   {
    "duration": 11,
    "start_time": "2021-07-10T14:29:09.785Z"
   },
   {
    "duration": 5,
    "start_time": "2021-07-10T14:29:09.799Z"
   },
   {
    "duration": 39,
    "start_time": "2021-07-10T14:29:09.805Z"
   },
   {
    "duration": 10,
    "start_time": "2021-07-10T14:29:09.845Z"
   },
   {
    "duration": 99,
    "start_time": "2021-07-10T14:29:09.857Z"
   },
   {
    "duration": 23,
    "start_time": "2021-07-10T14:29:09.958Z"
   },
   {
    "duration": 11,
    "start_time": "2021-07-10T14:29:09.982Z"
   },
   {
    "duration": 35,
    "start_time": "2021-07-10T14:29:09.994Z"
   },
   {
    "duration": 18,
    "start_time": "2021-07-10T14:29:10.031Z"
   },
   {
    "duration": 28,
    "start_time": "2021-07-10T14:29:10.051Z"
   },
   {
    "duration": 315,
    "start_time": "2021-07-10T14:29:10.081Z"
   },
   {
    "duration": 7,
    "start_time": "2021-07-10T14:29:10.398Z"
   },
   {
    "duration": 17,
    "start_time": "2021-07-10T14:29:10.407Z"
   },
   {
    "duration": 330,
    "start_time": "2021-07-10T14:29:10.426Z"
   },
   {
    "duration": 432,
    "start_time": "2021-07-10T14:29:10.758Z"
   },
   {
    "duration": 94,
    "start_time": "2021-07-10T14:29:11.192Z"
   },
   {
    "duration": 146,
    "start_time": "2021-07-10T14:29:11.288Z"
   },
   {
    "duration": 79,
    "start_time": "2021-07-10T14:29:11.435Z"
   },
   {
    "duration": 9,
    "start_time": "2021-07-10T14:29:11.517Z"
   },
   {
    "duration": 9,
    "start_time": "2021-07-10T14:29:11.542Z"
   },
   {
    "duration": 42,
    "start_time": "2021-07-10T14:29:11.553Z"
   },
   {
    "duration": 152,
    "start_time": "2021-07-10T14:29:11.596Z"
   },
   {
    "duration": 12,
    "start_time": "2021-07-10T14:29:11.750Z"
   },
   {
    "duration": 17,
    "start_time": "2021-07-10T14:29:11.764Z"
   },
   {
    "duration": 34,
    "start_time": "2021-07-10T14:29:11.783Z"
   },
   {
    "duration": 2442,
    "start_time": "2021-07-10T14:29:11.819Z"
   },
   {
    "duration": 64,
    "start_time": "2021-07-10T14:29:14.263Z"
   },
   {
    "duration": 39,
    "start_time": "2021-07-10T14:29:14.342Z"
   },
   {
    "duration": 39,
    "start_time": "2021-07-10T14:29:14.382Z"
   },
   {
    "duration": 30,
    "start_time": "2021-07-10T14:29:14.422Z"
   },
   {
    "duration": 13,
    "start_time": "2021-07-10T14:29:14.453Z"
   },
   {
    "duration": 12,
    "start_time": "2021-07-10T14:29:14.468Z"
   },
   {
    "duration": 36,
    "start_time": "2021-07-10T14:29:14.481Z"
   },
   {
    "duration": 9,
    "start_time": "2021-07-10T14:29:14.541Z"
   },
   {
    "duration": 153,
    "start_time": "2021-07-10T14:29:14.552Z"
   },
   {
    "duration": 17,
    "start_time": "2021-07-10T14:29:14.707Z"
   },
   {
    "duration": 39,
    "start_time": "2021-07-10T14:29:14.725Z"
   },
   {
    "duration": 12,
    "start_time": "2021-07-10T14:29:14.766Z"
   },
   {
    "duration": 4,
    "start_time": "2021-07-10T14:29:14.780Z"
   },
   {
    "duration": 6,
    "start_time": "2021-07-10T14:29:14.786Z"
   },
   {
    "duration": 5,
    "start_time": "2021-07-10T14:29:14.794Z"
   },
   {
    "duration": 43,
    "start_time": "2021-07-10T14:29:14.801Z"
   },
   {
    "duration": 14,
    "start_time": "2021-07-10T14:29:14.846Z"
   },
   {
    "duration": 7,
    "start_time": "2021-07-10T14:29:14.861Z"
   },
   {
    "duration": 13,
    "start_time": "2021-07-10T14:29:21.966Z"
   },
   {
    "duration": 14,
    "start_time": "2021-07-10T14:30:20.951Z"
   },
   {
    "duration": 14,
    "start_time": "2021-07-10T14:30:34.190Z"
   },
   {
    "duration": 326,
    "start_time": "2021-07-10T14:30:42.758Z"
   },
   {
    "duration": 14,
    "start_time": "2021-07-10T14:31:04.103Z"
   },
   {
    "duration": 13,
    "start_time": "2021-07-10T14:31:16.278Z"
   },
   {
    "duration": 14,
    "start_time": "2021-07-10T14:31:28.904Z"
   },
   {
    "duration": 4,
    "start_time": "2021-07-10T14:32:06.017Z"
   },
   {
    "duration": 23,
    "start_time": "2021-07-10T14:32:08.257Z"
   },
   {
    "duration": 8,
    "start_time": "2021-07-10T14:32:11.144Z"
   },
   {
    "duration": 10,
    "start_time": "2021-07-10T14:32:11.424Z"
   },
   {
    "duration": 10,
    "start_time": "2021-07-10T14:32:19.737Z"
   },
   {
    "duration": 267,
    "start_time": "2021-07-10T14:33:09.592Z"
   },
   {
    "duration": 12,
    "start_time": "2021-07-10T14:33:15.842Z"
   },
   {
    "duration": 9,
    "start_time": "2021-07-10T14:33:16.135Z"
   },
   {
    "duration": 11,
    "start_time": "2021-07-10T14:33:44.410Z"
   },
   {
    "duration": 8,
    "start_time": "2021-07-10T14:33:51.130Z"
   },
   {
    "duration": 11,
    "start_time": "2021-07-10T14:39:09.970Z"
   },
   {
    "duration": 11,
    "start_time": "2021-07-10T14:39:18.283Z"
   },
   {
    "duration": 11,
    "start_time": "2021-07-10T14:39:23.005Z"
   },
   {
    "duration": 10,
    "start_time": "2021-07-10T14:39:31.477Z"
   },
   {
    "duration": 18,
    "start_time": "2021-07-10T14:40:37.674Z"
   },
   {
    "duration": 6,
    "start_time": "2021-07-10T14:40:59.440Z"
   },
   {
    "duration": 1027,
    "start_time": "2021-07-10T14:41:29.085Z"
   },
   {
    "duration": 67,
    "start_time": "2021-07-10T14:41:30.114Z"
   },
   {
    "duration": 39,
    "start_time": "2021-07-10T14:41:30.183Z"
   },
   {
    "duration": 9,
    "start_time": "2021-07-10T14:41:30.224Z"
   },
   {
    "duration": 25,
    "start_time": "2021-07-10T14:41:30.234Z"
   },
   {
    "duration": 5,
    "start_time": "2021-07-10T14:41:30.261Z"
   },
   {
    "duration": 61,
    "start_time": "2021-07-10T14:41:30.268Z"
   },
   {
    "duration": 15,
    "start_time": "2021-07-10T14:41:30.331Z"
   },
   {
    "duration": 13,
    "start_time": "2021-07-10T14:41:30.348Z"
   },
   {
    "duration": 9,
    "start_time": "2021-07-10T14:41:30.362Z"
   },
   {
    "duration": 20,
    "start_time": "2021-07-10T14:41:30.373Z"
   },
   {
    "duration": 24,
    "start_time": "2021-07-10T14:41:30.394Z"
   },
   {
    "duration": 92,
    "start_time": "2021-07-10T14:41:30.420Z"
   },
   {
    "duration": 27,
    "start_time": "2021-07-10T14:41:30.514Z"
   },
   {
    "duration": 17,
    "start_time": "2021-07-10T14:41:30.543Z"
   },
   {
    "duration": 17,
    "start_time": "2021-07-10T14:41:30.561Z"
   },
   {
    "duration": 5,
    "start_time": "2021-07-10T14:41:30.579Z"
   },
   {
    "duration": 24,
    "start_time": "2021-07-10T14:41:30.586Z"
   },
   {
    "duration": 315,
    "start_time": "2021-07-10T14:41:30.611Z"
   },
   {
    "duration": 7,
    "start_time": "2021-07-10T14:41:30.928Z"
   },
   {
    "duration": 31,
    "start_time": "2021-07-10T14:41:30.941Z"
   },
   {
    "duration": 357,
    "start_time": "2021-07-10T14:41:30.973Z"
   },
   {
    "duration": 422,
    "start_time": "2021-07-10T14:41:31.332Z"
   },
   {
    "duration": 95,
    "start_time": "2021-07-10T14:41:31.756Z"
   },
   {
    "duration": 146,
    "start_time": "2021-07-10T14:41:31.852Z"
   },
   {
    "duration": 87,
    "start_time": "2021-07-10T14:41:32.000Z"
   },
   {
    "duration": 9,
    "start_time": "2021-07-10T14:41:32.088Z"
   },
   {
    "duration": 8,
    "start_time": "2021-07-10T14:41:32.099Z"
   },
   {
    "duration": 51,
    "start_time": "2021-07-10T14:41:32.109Z"
   },
   {
    "duration": 147,
    "start_time": "2021-07-10T14:41:32.162Z"
   },
   {
    "duration": 11,
    "start_time": "2021-07-10T14:41:32.311Z"
   },
   {
    "duration": 5,
    "start_time": "2021-07-10T14:41:32.323Z"
   },
   {
    "duration": 29,
    "start_time": "2021-07-10T14:41:32.329Z"
   },
   {
    "duration": 2494,
    "start_time": "2021-07-10T14:41:32.359Z"
   },
   {
    "duration": 66,
    "start_time": "2021-07-10T14:41:34.854Z"
   },
   {
    "duration": 54,
    "start_time": "2021-07-10T14:41:34.922Z"
   },
   {
    "duration": 38,
    "start_time": "2021-07-10T14:41:34.977Z"
   },
   {
    "duration": 26,
    "start_time": "2021-07-10T14:41:35.017Z"
   },
   {
    "duration": 16,
    "start_time": "2021-07-10T14:41:35.045Z"
   },
   {
    "duration": 15,
    "start_time": "2021-07-10T14:41:35.063Z"
   },
   {
    "duration": 63,
    "start_time": "2021-07-10T14:41:35.080Z"
   },
   {
    "duration": 11,
    "start_time": "2021-07-10T14:41:35.145Z"
   },
   {
    "duration": 154,
    "start_time": "2021-07-10T14:41:35.158Z"
   },
   {
    "duration": 334,
    "start_time": "2021-07-10T14:46:27.443Z"
   },
   {
    "duration": 20,
    "start_time": "2021-07-10T14:46:34.283Z"
   },
   {
    "duration": 9,
    "start_time": "2021-07-10T14:46:45.643Z"
   },
   {
    "duration": 11,
    "start_time": "2021-07-10T14:46:57.266Z"
   },
   {
    "duration": 10,
    "start_time": "2021-07-10T14:47:01.382Z"
   },
   {
    "duration": 1105,
    "start_time": "2021-07-10T14:47:13.709Z"
   },
   {
    "duration": 72,
    "start_time": "2021-07-10T14:47:14.816Z"
   },
   {
    "duration": 30,
    "start_time": "2021-07-10T14:47:14.890Z"
   },
   {
    "duration": 5,
    "start_time": "2021-07-10T14:47:14.922Z"
   },
   {
    "duration": 17,
    "start_time": "2021-07-10T14:47:14.929Z"
   },
   {
    "duration": 5,
    "start_time": "2021-07-10T14:47:14.947Z"
   },
   {
    "duration": 63,
    "start_time": "2021-07-10T14:47:14.953Z"
   },
   {
    "duration": 22,
    "start_time": "2021-07-10T14:47:15.018Z"
   },
   {
    "duration": 11,
    "start_time": "2021-07-10T14:47:15.043Z"
   },
   {
    "duration": 8,
    "start_time": "2021-07-10T14:47:15.056Z"
   },
   {
    "duration": 9,
    "start_time": "2021-07-10T14:47:15.065Z"
   },
   {
    "duration": 20,
    "start_time": "2021-07-10T14:47:15.075Z"
   },
   {
    "duration": 105,
    "start_time": "2021-07-10T14:47:15.096Z"
   },
   {
    "duration": 26,
    "start_time": "2021-07-10T14:47:15.202Z"
   },
   {
    "duration": 12,
    "start_time": "2021-07-10T14:47:15.230Z"
   },
   {
    "duration": 12,
    "start_time": "2021-07-10T14:47:15.243Z"
   },
   {
    "duration": 5,
    "start_time": "2021-07-10T14:47:15.257Z"
   },
   {
    "duration": 16,
    "start_time": "2021-07-10T14:47:15.263Z"
   },
   {
    "duration": 345,
    "start_time": "2021-07-10T14:47:15.280Z"
   },
   {
    "duration": 8,
    "start_time": "2021-07-10T14:47:15.626Z"
   },
   {
    "duration": 7,
    "start_time": "2021-07-10T14:47:15.640Z"
   },
   {
    "duration": 331,
    "start_time": "2021-07-10T14:47:15.648Z"
   },
   {
    "duration": 423,
    "start_time": "2021-07-10T14:47:15.980Z"
   },
   {
    "duration": 107,
    "start_time": "2021-07-10T14:47:16.404Z"
   },
   {
    "duration": 153,
    "start_time": "2021-07-10T14:47:16.512Z"
   },
   {
    "duration": 86,
    "start_time": "2021-07-10T14:47:16.667Z"
   },
   {
    "duration": 9,
    "start_time": "2021-07-10T14:47:16.756Z"
   },
   {
    "duration": 7,
    "start_time": "2021-07-10T14:47:16.766Z"
   },
   {
    "duration": 35,
    "start_time": "2021-07-10T14:47:16.775Z"
   },
   {
    "duration": 157,
    "start_time": "2021-07-10T14:47:16.812Z"
   },
   {
    "duration": 11,
    "start_time": "2021-07-10T14:47:16.971Z"
   },
   {
    "duration": 5,
    "start_time": "2021-07-10T14:47:16.983Z"
   },
   {
    "duration": 20,
    "start_time": "2021-07-10T14:47:16.990Z"
   },
   {
    "duration": 2403,
    "start_time": "2021-07-10T14:47:17.012Z"
   },
   {
    "duration": 71,
    "start_time": "2021-07-10T14:47:19.416Z"
   },
   {
    "duration": 37,
    "start_time": "2021-07-10T14:47:19.489Z"
   },
   {
    "duration": 44,
    "start_time": "2021-07-10T14:47:19.527Z"
   },
   {
    "duration": 12,
    "start_time": "2021-07-10T14:47:19.573Z"
   },
   {
    "duration": 13,
    "start_time": "2021-07-10T14:47:19.586Z"
   },
   {
    "duration": 12,
    "start_time": "2021-07-10T14:47:19.600Z"
   },
   {
    "duration": 59,
    "start_time": "2021-07-10T14:47:19.613Z"
   },
   {
    "duration": 8,
    "start_time": "2021-07-10T14:47:19.673Z"
   },
   {
    "duration": 151,
    "start_time": "2021-07-10T14:47:19.683Z"
   },
   {
    "duration": 10,
    "start_time": "2021-07-10T14:47:19.840Z"
   },
   {
    "duration": 1056,
    "start_time": "2021-07-10T14:47:52.531Z"
   },
   {
    "duration": 68,
    "start_time": "2021-07-10T14:47:53.588Z"
   },
   {
    "duration": 30,
    "start_time": "2021-07-10T14:47:53.657Z"
   },
   {
    "duration": 8,
    "start_time": "2021-07-10T14:47:53.689Z"
   },
   {
    "duration": 14,
    "start_time": "2021-07-10T14:47:53.698Z"
   },
   {
    "duration": 5,
    "start_time": "2021-07-10T14:47:53.713Z"
   },
   {
    "duration": 53,
    "start_time": "2021-07-10T14:47:53.720Z"
   },
   {
    "duration": 15,
    "start_time": "2021-07-10T14:47:53.775Z"
   },
   {
    "duration": 14,
    "start_time": "2021-07-10T14:47:53.792Z"
   },
   {
    "duration": 7,
    "start_time": "2021-07-10T14:47:53.808Z"
   },
   {
    "duration": 24,
    "start_time": "2021-07-10T14:47:53.817Z"
   },
   {
    "duration": 11,
    "start_time": "2021-07-10T14:47:53.842Z"
   },
   {
    "duration": 115,
    "start_time": "2021-07-10T14:47:53.855Z"
   },
   {
    "duration": 27,
    "start_time": "2021-07-10T14:47:53.972Z"
   },
   {
    "duration": 8,
    "start_time": "2021-07-10T14:47:54.001Z"
   },
   {
    "duration": 21,
    "start_time": "2021-07-10T14:47:54.011Z"
   },
   {
    "duration": 6,
    "start_time": "2021-07-10T14:47:54.041Z"
   },
   {
    "duration": 20,
    "start_time": "2021-07-10T14:47:54.049Z"
   },
   {
    "duration": 355,
    "start_time": "2021-07-10T14:47:54.071Z"
   },
   {
    "duration": 7,
    "start_time": "2021-07-10T14:47:54.428Z"
   },
   {
    "duration": 5,
    "start_time": "2021-07-10T14:47:54.440Z"
   },
   {
    "duration": 350,
    "start_time": "2021-07-10T14:47:54.446Z"
   },
   {
    "duration": 455,
    "start_time": "2021-07-10T14:47:54.800Z"
   },
   {
    "duration": 102,
    "start_time": "2021-07-10T14:47:55.257Z"
   },
   {
    "duration": 150,
    "start_time": "2021-07-10T14:47:55.360Z"
   },
   {
    "duration": 92,
    "start_time": "2021-07-10T14:47:55.513Z"
   },
   {
    "duration": 10,
    "start_time": "2021-07-10T14:47:55.607Z"
   },
   {
    "duration": 8,
    "start_time": "2021-07-10T14:47:55.618Z"
   },
   {
    "duration": 36,
    "start_time": "2021-07-10T14:47:55.641Z"
   },
   {
    "duration": 165,
    "start_time": "2021-07-10T14:47:55.679Z"
   },
   {
    "duration": 12,
    "start_time": "2021-07-10T14:47:55.845Z"
   },
   {
    "duration": 4,
    "start_time": "2021-07-10T14:47:55.859Z"
   },
   {
    "duration": 24,
    "start_time": "2021-07-10T14:47:55.865Z"
   },
   {
    "duration": 2529,
    "start_time": "2021-07-10T14:47:55.890Z"
   },
   {
    "duration": 77,
    "start_time": "2021-07-10T14:47:58.421Z"
   },
   {
    "duration": 49,
    "start_time": "2021-07-10T14:47:58.499Z"
   },
   {
    "duration": 42,
    "start_time": "2021-07-10T14:47:58.550Z"
   },
   {
    "duration": 14,
    "start_time": "2021-07-10T14:47:58.593Z"
   },
   {
    "duration": 35,
    "start_time": "2021-07-10T14:47:58.608Z"
   },
   {
    "duration": 15,
    "start_time": "2021-07-10T14:47:58.644Z"
   },
   {
    "duration": 40,
    "start_time": "2021-07-10T14:47:58.660Z"
   },
   {
    "duration": 9,
    "start_time": "2021-07-10T14:47:58.702Z"
   },
   {
    "duration": 179,
    "start_time": "2021-07-10T14:47:58.713Z"
   },
   {
    "duration": 12,
    "start_time": "2021-07-10T14:47:58.894Z"
   },
   {
    "duration": 1076,
    "start_time": "2021-07-10T14:48:15.899Z"
   },
   {
    "duration": 68,
    "start_time": "2021-07-10T14:48:16.976Z"
   },
   {
    "duration": 29,
    "start_time": "2021-07-10T14:48:17.046Z"
   },
   {
    "duration": 6,
    "start_time": "2021-07-10T14:48:17.077Z"
   },
   {
    "duration": 17,
    "start_time": "2021-07-10T14:48:17.084Z"
   },
   {
    "duration": 5,
    "start_time": "2021-07-10T14:48:17.103Z"
   },
   {
    "duration": 52,
    "start_time": "2021-07-10T14:48:17.109Z"
   },
   {
    "duration": 13,
    "start_time": "2021-07-10T14:48:17.163Z"
   },
   {
    "duration": 12,
    "start_time": "2021-07-10T14:48:17.179Z"
   },
   {
    "duration": 5,
    "start_time": "2021-07-10T14:48:17.193Z"
   },
   {
    "duration": 7,
    "start_time": "2021-07-10T14:48:17.200Z"
   },
   {
    "duration": 37,
    "start_time": "2021-07-10T14:48:17.208Z"
   },
   {
    "duration": 84,
    "start_time": "2021-07-10T14:48:17.246Z"
   },
   {
    "duration": 24,
    "start_time": "2021-07-10T14:48:17.340Z"
   },
   {
    "duration": 14,
    "start_time": "2021-07-10T14:48:17.366Z"
   },
   {
    "duration": 19,
    "start_time": "2021-07-10T14:48:17.381Z"
   },
   {
    "duration": 10,
    "start_time": "2021-07-10T14:48:17.402Z"
   },
   {
    "duration": 28,
    "start_time": "2021-07-10T14:48:17.413Z"
   },
   {
    "duration": 315,
    "start_time": "2021-07-10T14:48:17.443Z"
   },
   {
    "duration": 6,
    "start_time": "2021-07-10T14:48:17.760Z"
   },
   {
    "duration": 8,
    "start_time": "2021-07-10T14:48:17.767Z"
   },
   {
    "duration": 328,
    "start_time": "2021-07-10T14:48:17.777Z"
   },
   {
    "duration": 422,
    "start_time": "2021-07-10T14:48:18.107Z"
   },
   {
    "duration": 87,
    "start_time": "2021-07-10T14:48:18.531Z"
   },
   {
    "duration": 155,
    "start_time": "2021-07-10T14:48:18.619Z"
   },
   {
    "duration": 82,
    "start_time": "2021-07-10T14:48:18.776Z"
   },
   {
    "duration": 9,
    "start_time": "2021-07-10T14:48:18.862Z"
   },
   {
    "duration": 16,
    "start_time": "2021-07-10T14:48:18.873Z"
   },
   {
    "duration": 50,
    "start_time": "2021-07-10T14:48:18.891Z"
   },
   {
    "duration": 144,
    "start_time": "2021-07-10T14:48:18.942Z"
   },
   {
    "duration": 11,
    "start_time": "2021-07-10T14:48:19.088Z"
   },
   {
    "duration": 22,
    "start_time": "2021-07-10T14:48:19.101Z"
   },
   {
    "duration": 28,
    "start_time": "2021-07-10T14:48:19.124Z"
   },
   {
    "duration": 2607,
    "start_time": "2021-07-10T14:48:19.153Z"
   },
   {
    "duration": 63,
    "start_time": "2021-07-10T14:48:21.762Z"
   },
   {
    "duration": 51,
    "start_time": "2021-07-10T14:48:21.826Z"
   },
   {
    "duration": 37,
    "start_time": "2021-07-10T14:48:21.878Z"
   },
   {
    "duration": 30,
    "start_time": "2021-07-10T14:48:21.916Z"
   },
   {
    "duration": 12,
    "start_time": "2021-07-10T14:48:21.947Z"
   },
   {
    "duration": 12,
    "start_time": "2021-07-10T14:48:21.961Z"
   },
   {
    "duration": 36,
    "start_time": "2021-07-10T14:48:21.975Z"
   },
   {
    "duration": 34,
    "start_time": "2021-07-10T14:48:22.012Z"
   },
   {
    "duration": 151,
    "start_time": "2021-07-10T14:48:22.048Z"
   },
   {
    "duration": 9,
    "start_time": "2021-07-10T14:48:22.201Z"
   },
   {
    "duration": 1050,
    "start_time": "2021-07-10T14:48:32.623Z"
   },
   {
    "duration": 67,
    "start_time": "2021-07-10T14:48:33.674Z"
   },
   {
    "duration": 28,
    "start_time": "2021-07-10T14:48:33.743Z"
   },
   {
    "duration": 11,
    "start_time": "2021-07-10T14:48:33.773Z"
   },
   {
    "duration": 16,
    "start_time": "2021-07-10T14:48:33.786Z"
   },
   {
    "duration": 10,
    "start_time": "2021-07-10T14:48:33.804Z"
   },
   {
    "duration": 54,
    "start_time": "2021-07-10T14:48:33.816Z"
   },
   {
    "duration": 14,
    "start_time": "2021-07-10T14:48:33.872Z"
   },
   {
    "duration": 25,
    "start_time": "2021-07-10T14:48:33.888Z"
   },
   {
    "duration": 13,
    "start_time": "2021-07-10T14:48:33.915Z"
   },
   {
    "duration": 22,
    "start_time": "2021-07-10T14:48:33.930Z"
   },
   {
    "duration": 17,
    "start_time": "2021-07-10T14:48:33.954Z"
   },
   {
    "duration": 93,
    "start_time": "2021-07-10T14:48:33.972Z"
   },
   {
    "duration": 24,
    "start_time": "2021-07-10T14:48:34.066Z"
   },
   {
    "duration": 18,
    "start_time": "2021-07-10T14:48:34.091Z"
   },
   {
    "duration": 34,
    "start_time": "2021-07-10T14:48:34.110Z"
   },
   {
    "duration": 13,
    "start_time": "2021-07-10T14:48:34.146Z"
   },
   {
    "duration": 28,
    "start_time": "2021-07-10T14:48:34.161Z"
   },
   {
    "duration": 305,
    "start_time": "2021-07-10T14:48:34.191Z"
   },
   {
    "duration": 8,
    "start_time": "2021-07-10T14:48:34.498Z"
   },
   {
    "duration": 25,
    "start_time": "2021-07-10T14:48:34.507Z"
   },
   {
    "duration": 333,
    "start_time": "2021-07-10T14:48:34.533Z"
   },
   {
    "duration": 424,
    "start_time": "2021-07-10T14:48:34.867Z"
   },
   {
    "duration": 93,
    "start_time": "2021-07-10T14:48:35.292Z"
   },
   {
    "duration": 154,
    "start_time": "2021-07-10T14:48:35.386Z"
   },
   {
    "duration": 75,
    "start_time": "2021-07-10T14:48:35.542Z"
   },
   {
    "duration": 8,
    "start_time": "2021-07-10T14:48:35.620Z"
   },
   {
    "duration": 14,
    "start_time": "2021-07-10T14:48:35.641Z"
   },
   {
    "duration": 54,
    "start_time": "2021-07-10T14:48:35.656Z"
   },
   {
    "duration": 138,
    "start_time": "2021-07-10T14:48:35.712Z"
   },
   {
    "duration": 10,
    "start_time": "2021-07-10T14:48:35.852Z"
   },
   {
    "duration": 18,
    "start_time": "2021-07-10T14:48:35.863Z"
   },
   {
    "duration": 43,
    "start_time": "2021-07-10T14:48:35.882Z"
   },
   {
    "duration": 2426,
    "start_time": "2021-07-10T14:48:35.927Z"
   },
   {
    "duration": 62,
    "start_time": "2021-07-10T14:48:38.355Z"
   },
   {
    "duration": 49,
    "start_time": "2021-07-10T14:48:38.419Z"
   },
   {
    "duration": 38,
    "start_time": "2021-07-10T14:48:38.469Z"
   },
   {
    "duration": 13,
    "start_time": "2021-07-10T14:48:38.508Z"
   },
   {
    "duration": 30,
    "start_time": "2021-07-10T14:48:38.522Z"
   },
   {
    "duration": 11,
    "start_time": "2021-07-10T14:48:38.554Z"
   },
   {
    "duration": 38,
    "start_time": "2021-07-10T14:48:38.567Z"
   },
   {
    "duration": 9,
    "start_time": "2021-07-10T14:48:38.606Z"
   },
   {
    "duration": 168,
    "start_time": "2021-07-10T14:48:38.617Z"
   },
   {
    "duration": 10,
    "start_time": "2021-07-10T14:48:38.786Z"
   },
   {
    "duration": 1074,
    "start_time": "2021-07-10T14:48:49.314Z"
   },
   {
    "duration": 70,
    "start_time": "2021-07-10T14:48:50.390Z"
   },
   {
    "duration": 30,
    "start_time": "2021-07-10T14:48:50.463Z"
   },
   {
    "duration": 16,
    "start_time": "2021-07-10T14:48:50.495Z"
   },
   {
    "duration": 14,
    "start_time": "2021-07-10T14:48:50.513Z"
   },
   {
    "duration": 6,
    "start_time": "2021-07-10T14:48:50.529Z"
   },
   {
    "duration": 62,
    "start_time": "2021-07-10T14:48:50.537Z"
   },
   {
    "duration": 14,
    "start_time": "2021-07-10T14:48:50.602Z"
   },
   {
    "duration": 20,
    "start_time": "2021-07-10T14:48:50.619Z"
   },
   {
    "duration": 6,
    "start_time": "2021-07-10T14:48:50.641Z"
   },
   {
    "duration": 16,
    "start_time": "2021-07-10T14:48:50.649Z"
   },
   {
    "duration": 19,
    "start_time": "2021-07-10T14:48:50.667Z"
   },
   {
    "duration": 105,
    "start_time": "2021-07-10T14:48:50.688Z"
   },
   {
    "duration": 26,
    "start_time": "2021-07-10T14:48:50.796Z"
   },
   {
    "duration": 16,
    "start_time": "2021-07-10T14:48:50.824Z"
   },
   {
    "duration": 16,
    "start_time": "2021-07-10T14:48:50.842Z"
   },
   {
    "duration": 7,
    "start_time": "2021-07-10T14:48:50.860Z"
   },
   {
    "duration": 21,
    "start_time": "2021-07-10T14:48:50.869Z"
   },
   {
    "duration": 316,
    "start_time": "2021-07-10T14:48:50.891Z"
   },
   {
    "duration": 7,
    "start_time": "2021-07-10T14:48:51.208Z"
   },
   {
    "duration": 8,
    "start_time": "2021-07-10T14:48:51.217Z"
   },
   {
    "duration": 345,
    "start_time": "2021-07-10T14:48:51.227Z"
   },
   {
    "duration": 439,
    "start_time": "2021-07-10T14:48:51.575Z"
   },
   {
    "duration": 97,
    "start_time": "2021-07-10T14:48:52.015Z"
   },
   {
    "duration": 141,
    "start_time": "2021-07-10T14:48:52.113Z"
   },
   {
    "duration": 87,
    "start_time": "2021-07-10T14:48:52.255Z"
   },
   {
    "duration": 9,
    "start_time": "2021-07-10T14:48:52.344Z"
   },
   {
    "duration": 9,
    "start_time": "2021-07-10T14:48:52.354Z"
   },
   {
    "duration": 39,
    "start_time": "2021-07-10T14:48:52.364Z"
   },
   {
    "duration": 155,
    "start_time": "2021-07-10T14:48:52.405Z"
   },
   {
    "duration": 11,
    "start_time": "2021-07-10T14:48:52.562Z"
   },
   {
    "duration": 4,
    "start_time": "2021-07-10T14:48:52.575Z"
   },
   {
    "duration": 30,
    "start_time": "2021-07-10T14:48:52.581Z"
   },
   {
    "duration": 2590,
    "start_time": "2021-07-10T14:48:52.612Z"
   },
   {
    "duration": 74,
    "start_time": "2021-07-10T14:48:55.204Z"
   },
   {
    "duration": 37,
    "start_time": "2021-07-10T14:48:55.280Z"
   },
   {
    "duration": 50,
    "start_time": "2021-07-10T14:48:55.318Z"
   },
   {
    "duration": 12,
    "start_time": "2021-07-10T14:48:55.369Z"
   },
   {
    "duration": 25,
    "start_time": "2021-07-10T14:48:55.383Z"
   },
   {
    "duration": 13,
    "start_time": "2021-07-10T14:48:55.409Z"
   },
   {
    "duration": 49,
    "start_time": "2021-07-10T14:48:55.423Z"
   },
   {
    "duration": 8,
    "start_time": "2021-07-10T14:48:55.474Z"
   },
   {
    "duration": 151,
    "start_time": "2021-07-10T14:48:55.484Z"
   },
   {
    "duration": 13,
    "start_time": "2021-07-10T14:48:55.636Z"
   },
   {
    "duration": 1032,
    "start_time": "2021-07-10T14:49:04.849Z"
   },
   {
    "duration": 67,
    "start_time": "2021-07-10T14:49:05.883Z"
   },
   {
    "duration": 28,
    "start_time": "2021-07-10T14:49:05.952Z"
   },
   {
    "duration": 12,
    "start_time": "2021-07-10T14:49:05.982Z"
   },
   {
    "duration": 18,
    "start_time": "2021-07-10T14:49:05.996Z"
   },
   {
    "duration": 19,
    "start_time": "2021-07-10T14:49:06.015Z"
   },
   {
    "duration": 66,
    "start_time": "2021-07-10T14:49:06.035Z"
   },
   {
    "duration": 14,
    "start_time": "2021-07-10T14:49:06.103Z"
   },
   {
    "duration": 10,
    "start_time": "2021-07-10T14:49:06.119Z"
   },
   {
    "duration": 5,
    "start_time": "2021-07-10T14:49:06.131Z"
   },
   {
    "duration": 11,
    "start_time": "2021-07-10T14:49:06.140Z"
   },
   {
    "duration": 20,
    "start_time": "2021-07-10T14:49:06.152Z"
   },
   {
    "duration": 92,
    "start_time": "2021-07-10T14:49:06.174Z"
   },
   {
    "duration": 22,
    "start_time": "2021-07-10T14:49:06.268Z"
   },
   {
    "duration": 8,
    "start_time": "2021-07-10T14:49:06.292Z"
   },
   {
    "duration": 13,
    "start_time": "2021-07-10T14:49:06.302Z"
   },
   {
    "duration": 5,
    "start_time": "2021-07-10T14:49:06.317Z"
   },
   {
    "duration": 24,
    "start_time": "2021-07-10T14:49:06.323Z"
   },
   {
    "duration": 318,
    "start_time": "2021-07-10T14:49:06.349Z"
   },
   {
    "duration": 7,
    "start_time": "2021-07-10T14:49:06.668Z"
   },
   {
    "duration": 7,
    "start_time": "2021-07-10T14:49:06.677Z"
   },
   {
    "duration": 332,
    "start_time": "2021-07-10T14:49:06.685Z"
   },
   {
    "duration": 415,
    "start_time": "2021-07-10T14:49:07.019Z"
   },
   {
    "duration": 83,
    "start_time": "2021-07-10T14:49:07.436Z"
   },
   {
    "duration": 152,
    "start_time": "2021-07-10T14:49:07.521Z"
   },
   {
    "duration": 84,
    "start_time": "2021-07-10T14:49:07.675Z"
   },
   {
    "duration": 9,
    "start_time": "2021-07-10T14:49:07.762Z"
   },
   {
    "duration": 7,
    "start_time": "2021-07-10T14:49:07.773Z"
   },
   {
    "duration": 35,
    "start_time": "2021-07-10T14:49:07.782Z"
   },
   {
    "duration": 164,
    "start_time": "2021-07-10T14:49:07.818Z"
   },
   {
    "duration": 11,
    "start_time": "2021-07-10T14:49:07.984Z"
   },
   {
    "duration": 4,
    "start_time": "2021-07-10T14:49:07.996Z"
   },
   {
    "duration": 22,
    "start_time": "2021-07-10T14:49:08.001Z"
   },
   {
    "duration": 2612,
    "start_time": "2021-07-10T14:49:08.025Z"
   },
   {
    "duration": 62,
    "start_time": "2021-07-10T14:49:10.641Z"
   },
   {
    "duration": 51,
    "start_time": "2021-07-10T14:49:10.705Z"
   },
   {
    "duration": 37,
    "start_time": "2021-07-10T14:49:10.758Z"
   },
   {
    "duration": 13,
    "start_time": "2021-07-10T14:49:10.797Z"
   },
   {
    "duration": 37,
    "start_time": "2021-07-10T14:49:10.812Z"
   },
   {
    "duration": 15,
    "start_time": "2021-07-10T14:49:10.851Z"
   },
   {
    "duration": 37,
    "start_time": "2021-07-10T14:49:10.867Z"
   },
   {
    "duration": 9,
    "start_time": "2021-07-10T14:49:10.906Z"
   },
   {
    "duration": 166,
    "start_time": "2021-07-10T14:49:10.917Z"
   },
   {
    "duration": 11,
    "start_time": "2021-07-10T14:49:11.085Z"
   },
   {
    "duration": 349,
    "start_time": "2021-07-10T14:49:37.067Z"
   },
   {
    "duration": 248,
    "start_time": "2021-07-10T14:49:57.952Z"
   },
   {
    "duration": 263,
    "start_time": "2021-07-10T14:50:08.494Z"
   },
   {
    "duration": 19,
    "start_time": "2021-07-10T14:50:12.583Z"
   },
   {
    "duration": 10,
    "start_time": "2021-07-10T14:50:32.390Z"
   },
   {
    "duration": 11,
    "start_time": "2021-07-10T14:50:34.854Z"
   },
   {
    "duration": 1123,
    "start_time": "2021-07-10T14:50:43.149Z"
   },
   {
    "duration": 66,
    "start_time": "2021-07-10T14:50:44.273Z"
   },
   {
    "duration": 29,
    "start_time": "2021-07-10T14:50:44.341Z"
   },
   {
    "duration": 8,
    "start_time": "2021-07-10T14:50:44.372Z"
   },
   {
    "duration": 26,
    "start_time": "2021-07-10T14:50:44.382Z"
   },
   {
    "duration": 11,
    "start_time": "2021-07-10T14:50:44.409Z"
   },
   {
    "duration": 52,
    "start_time": "2021-07-10T14:50:44.422Z"
   },
   {
    "duration": 13,
    "start_time": "2021-07-10T14:50:44.476Z"
   },
   {
    "duration": 16,
    "start_time": "2021-07-10T14:50:44.491Z"
   },
   {
    "duration": 18,
    "start_time": "2021-07-10T14:50:44.508Z"
   },
   {
    "duration": 11,
    "start_time": "2021-07-10T14:50:44.527Z"
   },
   {
    "duration": 8,
    "start_time": "2021-07-10T14:50:44.540Z"
   },
   {
    "duration": 96,
    "start_time": "2021-07-10T14:50:44.549Z"
   },
   {
    "duration": 24,
    "start_time": "2021-07-10T14:50:44.646Z"
   },
   {
    "duration": 14,
    "start_time": "2021-07-10T14:50:44.672Z"
   },
   {
    "duration": 22,
    "start_time": "2021-07-10T14:50:44.687Z"
   },
   {
    "duration": 5,
    "start_time": "2021-07-10T14:50:44.711Z"
   },
   {
    "duration": 27,
    "start_time": "2021-07-10T14:50:44.718Z"
   },
   {
    "duration": 310,
    "start_time": "2021-07-10T14:50:44.747Z"
   },
   {
    "duration": 7,
    "start_time": "2021-07-10T14:50:45.059Z"
   },
   {
    "duration": 17,
    "start_time": "2021-07-10T14:50:45.067Z"
   },
   {
    "duration": 340,
    "start_time": "2021-07-10T14:50:45.086Z"
   },
   {
    "duration": 438,
    "start_time": "2021-07-10T14:50:45.429Z"
   },
   {
    "duration": 90,
    "start_time": "2021-07-10T14:50:45.869Z"
   },
   {
    "duration": 143,
    "start_time": "2021-07-10T14:50:45.961Z"
   },
   {
    "duration": 85,
    "start_time": "2021-07-10T14:50:46.105Z"
   },
   {
    "duration": 9,
    "start_time": "2021-07-10T14:50:46.192Z"
   },
   {
    "duration": 8,
    "start_time": "2021-07-10T14:50:46.202Z"
   },
   {
    "duration": 57,
    "start_time": "2021-07-10T14:50:46.211Z"
   },
   {
    "duration": 151,
    "start_time": "2021-07-10T14:50:46.269Z"
   },
   {
    "duration": 20,
    "start_time": "2021-07-10T14:50:46.422Z"
   },
   {
    "duration": 5,
    "start_time": "2021-07-10T14:50:46.443Z"
   },
   {
    "duration": 22,
    "start_time": "2021-07-10T14:50:46.449Z"
   },
   {
    "duration": 2475,
    "start_time": "2021-07-10T14:50:46.473Z"
   },
   {
    "duration": 106,
    "start_time": "2021-07-10T14:50:48.950Z"
   },
   {
    "duration": 51,
    "start_time": "2021-07-10T14:50:49.058Z"
   },
   {
    "duration": 69,
    "start_time": "2021-07-10T14:50:49.111Z"
   },
   {
    "duration": 17,
    "start_time": "2021-07-10T14:50:49.182Z"
   },
   {
    "duration": 17,
    "start_time": "2021-07-10T14:50:49.201Z"
   },
   {
    "duration": 30,
    "start_time": "2021-07-10T14:50:49.220Z"
   },
   {
    "duration": 34,
    "start_time": "2021-07-10T14:50:49.251Z"
   },
   {
    "duration": 8,
    "start_time": "2021-07-10T14:50:49.287Z"
   },
   {
    "duration": 158,
    "start_time": "2021-07-10T14:50:49.296Z"
   },
   {
    "duration": 10,
    "start_time": "2021-07-10T14:50:49.456Z"
   },
   {
    "duration": 29,
    "start_time": "2021-07-10T14:51:29.792Z"
   },
   {
    "duration": 335,
    "start_time": "2021-07-10T14:51:36.637Z"
   },
   {
    "duration": 29,
    "start_time": "2021-07-10T14:51:41.899Z"
   },
   {
    "duration": 526,
    "start_time": "2021-07-10T14:52:15.372Z"
   },
   {
    "duration": 30,
    "start_time": "2021-07-10T14:52:32.026Z"
   },
   {
    "duration": 30,
    "start_time": "2021-07-10T14:52:44.835Z"
   },
   {
    "duration": 293,
    "start_time": "2021-07-10T14:52:55.283Z"
   },
   {
    "duration": 271,
    "start_time": "2021-07-10T14:53:07.498Z"
   },
   {
    "duration": 30,
    "start_time": "2021-07-10T14:53:14.046Z"
   },
   {
    "duration": 282,
    "start_time": "2021-07-10T14:54:00.043Z"
   },
   {
    "duration": 272,
    "start_time": "2021-07-10T14:54:07.498Z"
   },
   {
    "duration": 31,
    "start_time": "2021-07-10T14:54:19.268Z"
   },
   {
    "duration": 32,
    "start_time": "2021-07-10T14:54:30.541Z"
   },
   {
    "duration": 32,
    "start_time": "2021-07-10T14:54:35.001Z"
   },
   {
    "duration": 32,
    "start_time": "2021-07-10T14:54:37.605Z"
   },
   {
    "duration": 1113,
    "start_time": "2021-07-10T14:54:42.742Z"
   },
   {
    "duration": 67,
    "start_time": "2021-07-10T14:54:43.857Z"
   },
   {
    "duration": 30,
    "start_time": "2021-07-10T14:54:43.925Z"
   },
   {
    "duration": 5,
    "start_time": "2021-07-10T14:54:43.957Z"
   },
   {
    "duration": 12,
    "start_time": "2021-07-10T14:54:43.964Z"
   },
   {
    "duration": 4,
    "start_time": "2021-07-10T14:54:43.979Z"
   },
   {
    "duration": 64,
    "start_time": "2021-07-10T14:54:43.985Z"
   },
   {
    "duration": 13,
    "start_time": "2021-07-10T14:54:44.051Z"
   },
   {
    "duration": 14,
    "start_time": "2021-07-10T14:54:44.066Z"
   },
   {
    "duration": 5,
    "start_time": "2021-07-10T14:54:44.082Z"
   },
   {
    "duration": 8,
    "start_time": "2021-07-10T14:54:44.088Z"
   },
   {
    "duration": 8,
    "start_time": "2021-07-10T14:54:44.097Z"
   },
   {
    "duration": 109,
    "start_time": "2021-07-10T14:54:44.107Z"
   },
   {
    "duration": 28,
    "start_time": "2021-07-10T14:54:44.217Z"
   },
   {
    "duration": 10,
    "start_time": "2021-07-10T14:54:44.246Z"
   },
   {
    "duration": 16,
    "start_time": "2021-07-10T14:54:44.257Z"
   },
   {
    "duration": 5,
    "start_time": "2021-07-10T14:54:44.275Z"
   },
   {
    "duration": 20,
    "start_time": "2021-07-10T14:54:44.281Z"
   },
   {
    "duration": 332,
    "start_time": "2021-07-10T14:54:44.302Z"
   },
   {
    "duration": 8,
    "start_time": "2021-07-10T14:54:44.635Z"
   },
   {
    "duration": 7,
    "start_time": "2021-07-10T14:54:44.644Z"
   },
   {
    "duration": 332,
    "start_time": "2021-07-10T14:54:44.653Z"
   },
   {
    "duration": 434,
    "start_time": "2021-07-10T14:54:44.986Z"
   },
   {
    "duration": 95,
    "start_time": "2021-07-10T14:54:45.422Z"
   },
   {
    "duration": 142,
    "start_time": "2021-07-10T14:54:45.518Z"
   },
   {
    "duration": 86,
    "start_time": "2021-07-10T14:54:45.661Z"
   },
   {
    "duration": 8,
    "start_time": "2021-07-10T14:54:45.750Z"
   },
   {
    "duration": 7,
    "start_time": "2021-07-10T14:54:45.760Z"
   },
   {
    "duration": 33,
    "start_time": "2021-07-10T14:54:45.769Z"
   },
   {
    "duration": 164,
    "start_time": "2021-07-10T14:54:45.803Z"
   },
   {
    "duration": 11,
    "start_time": "2021-07-10T14:54:45.969Z"
   },
   {
    "duration": 4,
    "start_time": "2021-07-10T14:54:45.981Z"
   },
   {
    "duration": 20,
    "start_time": "2021-07-10T14:54:45.987Z"
   },
   {
    "duration": 2518,
    "start_time": "2021-07-10T14:54:46.008Z"
   },
   {
    "duration": 72,
    "start_time": "2021-07-10T14:54:48.527Z"
   },
   {
    "duration": 47,
    "start_time": "2021-07-10T14:54:48.600Z"
   },
   {
    "duration": 37,
    "start_time": "2021-07-10T14:54:48.648Z"
   },
   {
    "duration": 12,
    "start_time": "2021-07-10T14:54:48.687Z"
   },
   {
    "duration": 12,
    "start_time": "2021-07-10T14:54:48.701Z"
   },
   {
    "duration": 33,
    "start_time": "2021-07-10T14:54:48.715Z"
   },
   {
    "duration": 34,
    "start_time": "2021-07-10T14:54:48.750Z"
   },
   {
    "duration": 8,
    "start_time": "2021-07-10T14:54:48.786Z"
   },
   {
    "duration": 164,
    "start_time": "2021-07-10T14:54:48.796Z"
   },
   {
    "duration": 10,
    "start_time": "2021-07-10T14:54:48.961Z"
   },
   {
    "duration": 43,
    "start_time": "2021-07-10T14:54:48.972Z"
   },
   {
    "duration": 1033,
    "start_time": "2021-07-10T14:55:49.955Z"
   },
   {
    "duration": 70,
    "start_time": "2021-07-10T14:55:50.990Z"
   },
   {
    "duration": 29,
    "start_time": "2021-07-10T14:55:51.062Z"
   },
   {
    "duration": 9,
    "start_time": "2021-07-10T14:55:51.093Z"
   },
   {
    "duration": 15,
    "start_time": "2021-07-10T14:55:51.103Z"
   },
   {
    "duration": 6,
    "start_time": "2021-07-10T14:55:51.120Z"
   },
   {
    "duration": 54,
    "start_time": "2021-07-10T14:55:51.128Z"
   },
   {
    "duration": 15,
    "start_time": "2021-07-10T14:55:51.185Z"
   },
   {
    "duration": 15,
    "start_time": "2021-07-10T14:55:51.202Z"
   },
   {
    "duration": 26,
    "start_time": "2021-07-10T14:55:51.219Z"
   },
   {
    "duration": 9,
    "start_time": "2021-07-10T14:55:51.247Z"
   },
   {
    "duration": 11,
    "start_time": "2021-07-10T14:55:51.258Z"
   },
   {
    "duration": 100,
    "start_time": "2021-07-10T14:55:51.270Z"
   },
   {
    "duration": 24,
    "start_time": "2021-07-10T14:55:51.372Z"
   },
   {
    "duration": 8,
    "start_time": "2021-07-10T14:55:51.398Z"
   },
   {
    "duration": 23,
    "start_time": "2021-07-10T14:55:51.407Z"
   },
   {
    "duration": 12,
    "start_time": "2021-07-10T14:55:51.432Z"
   },
   {
    "duration": 16,
    "start_time": "2021-07-10T14:55:51.446Z"
   },
   {
    "duration": 326,
    "start_time": "2021-07-10T14:55:51.463Z"
   },
   {
    "duration": 7,
    "start_time": "2021-07-10T14:55:51.790Z"
   },
   {
    "duration": 8,
    "start_time": "2021-07-10T14:55:51.798Z"
   },
   {
    "duration": 334,
    "start_time": "2021-07-10T14:55:51.808Z"
   },
   {
    "duration": 429,
    "start_time": "2021-07-10T14:55:52.146Z"
   },
   {
    "duration": 101,
    "start_time": "2021-07-10T14:55:52.577Z"
   },
   {
    "duration": 151,
    "start_time": "2021-07-10T14:55:52.680Z"
   },
   {
    "duration": 81,
    "start_time": "2021-07-10T14:55:52.833Z"
   },
   {
    "duration": 8,
    "start_time": "2021-07-10T14:55:52.916Z"
   },
   {
    "duration": 21,
    "start_time": "2021-07-10T14:55:52.925Z"
   },
   {
    "duration": 36,
    "start_time": "2021-07-10T14:55:52.947Z"
   },
   {
    "duration": 162,
    "start_time": "2021-07-10T14:55:52.985Z"
   },
   {
    "duration": 11,
    "start_time": "2021-07-10T14:55:53.148Z"
   },
   {
    "duration": 4,
    "start_time": "2021-07-10T14:55:53.161Z"
   },
   {
    "duration": 23,
    "start_time": "2021-07-10T14:55:53.167Z"
   },
   {
    "duration": 2698,
    "start_time": "2021-07-10T14:55:53.191Z"
   },
   {
    "duration": 78,
    "start_time": "2021-07-10T14:55:55.890Z"
   },
   {
    "duration": 40,
    "start_time": "2021-07-10T14:55:55.970Z"
   },
   {
    "duration": 58,
    "start_time": "2021-07-10T14:55:56.012Z"
   },
   {
    "duration": 13,
    "start_time": "2021-07-10T14:55:56.072Z"
   },
   {
    "duration": 13,
    "start_time": "2021-07-10T14:55:56.087Z"
   },
   {
    "duration": 13,
    "start_time": "2021-07-10T14:55:56.102Z"
   },
   {
    "duration": 40,
    "start_time": "2021-07-10T14:55:56.141Z"
   },
   {
    "duration": 9,
    "start_time": "2021-07-10T14:55:56.182Z"
   },
   {
    "duration": 167,
    "start_time": "2021-07-10T14:55:56.193Z"
   },
   {
    "duration": 10,
    "start_time": "2021-07-10T14:55:56.362Z"
   },
   {
    "duration": 32,
    "start_time": "2021-07-10T14:55:56.373Z"
   },
   {
    "duration": 11,
    "start_time": "2021-07-10T14:58:12.702Z"
   },
   {
    "duration": 10,
    "start_time": "2021-07-10T14:58:32.221Z"
   },
   {
    "duration": 13,
    "start_time": "2021-07-10T14:58:42.920Z"
   },
   {
    "duration": 9,
    "start_time": "2021-07-10T14:58:49.677Z"
   },
   {
    "duration": 89,
    "start_time": "2021-07-10T14:58:57.979Z"
   },
   {
    "duration": 13,
    "start_time": "2021-07-10T14:59:01.010Z"
   },
   {
    "duration": 13,
    "start_time": "2021-07-10T14:59:04.445Z"
   },
   {
    "duration": 4,
    "start_time": "2021-07-10T14:59:13.864Z"
   },
   {
    "duration": 4,
    "start_time": "2021-07-10T14:59:20.831Z"
   },
   {
    "duration": 4,
    "start_time": "2021-07-10T14:59:24.944Z"
   },
   {
    "duration": 4,
    "start_time": "2021-07-10T14:59:28.614Z"
   },
   {
    "duration": 5,
    "start_time": "2021-07-10T14:59:31.345Z"
   },
   {
    "duration": 6,
    "start_time": "2021-07-10T14:59:33.526Z"
   },
   {
    "duration": 5,
    "start_time": "2021-07-10T14:59:36.824Z"
   },
   {
    "duration": 4,
    "start_time": "2021-07-10T14:59:48.207Z"
   },
   {
    "duration": 9,
    "start_time": "2021-07-10T15:00:35.075Z"
   },
   {
    "duration": 5,
    "start_time": "2021-07-10T15:00:52.070Z"
   },
   {
    "duration": 5,
    "start_time": "2021-07-10T15:02:37.599Z"
   },
   {
    "duration": 5,
    "start_time": "2021-07-10T15:02:43.726Z"
   },
   {
    "duration": 9,
    "start_time": "2021-07-10T15:03:01.275Z"
   },
   {
    "duration": 5,
    "start_time": "2021-07-10T15:03:21.351Z"
   },
   {
    "duration": 8,
    "start_time": "2021-07-10T15:04:05.074Z"
   },
   {
    "duration": 12,
    "start_time": "2021-07-10T15:04:46.162Z"
   },
   {
    "duration": 14,
    "start_time": "2021-07-10T15:14:22.227Z"
   },
   {
    "duration": 16,
    "start_time": "2021-07-10T15:15:39.802Z"
   },
   {
    "duration": 15,
    "start_time": "2021-07-10T15:37:33.726Z"
   },
   {
    "duration": 6,
    "start_time": "2021-07-10T15:43:20.029Z"
   },
   {
    "duration": 8,
    "start_time": "2021-07-10T15:43:24.068Z"
   },
   {
    "duration": 16,
    "start_time": "2021-07-10T15:43:28.739Z"
   },
   {
    "duration": 8,
    "start_time": "2021-07-10T15:43:38.066Z"
   },
   {
    "duration": 10,
    "start_time": "2021-07-10T15:44:15.096Z"
   },
   {
    "duration": 349,
    "start_time": "2021-07-10T15:45:15.094Z"
   },
   {
    "duration": 5,
    "start_time": "2021-07-10T15:45:21.252Z"
   },
   {
    "duration": 5,
    "start_time": "2021-07-10T15:45:35.677Z"
   },
   {
    "duration": 257,
    "start_time": "2021-07-10T15:45:46.037Z"
   },
   {
    "duration": 7,
    "start_time": "2021-07-10T15:45:50.205Z"
   },
   {
    "duration": 6,
    "start_time": "2021-07-10T15:46:01.788Z"
   },
   {
    "duration": 5,
    "start_time": "2021-07-10T15:46:11.681Z"
   },
   {
    "duration": 6,
    "start_time": "2021-07-10T15:46:14.084Z"
   },
   {
    "duration": 6,
    "start_time": "2021-07-10T15:46:16.956Z"
   },
   {
    "duration": 6,
    "start_time": "2021-07-10T15:46:34.008Z"
   },
   {
    "duration": 5,
    "start_time": "2021-07-10T15:47:00.511Z"
   },
   {
    "duration": 5,
    "start_time": "2021-07-10T15:47:02.069Z"
   },
   {
    "duration": 5,
    "start_time": "2021-07-10T15:47:02.541Z"
   },
   {
    "duration": 5,
    "start_time": "2021-07-10T15:47:08.525Z"
   },
   {
    "duration": 6,
    "start_time": "2021-07-10T15:47:13.801Z"
   },
   {
    "duration": 4,
    "start_time": "2021-07-10T15:50:26.972Z"
   },
   {
    "duration": 4,
    "start_time": "2021-07-10T15:50:27.201Z"
   },
   {
    "duration": 4,
    "start_time": "2021-07-10T15:50:27.398Z"
   },
   {
    "duration": 4,
    "start_time": "2021-07-10T15:50:27.801Z"
   },
   {
    "duration": 7,
    "start_time": "2021-07-10T15:50:56.680Z"
   },
   {
    "duration": 3,
    "start_time": "2021-07-10T15:52:27.618Z"
   },
   {
    "duration": 8,
    "start_time": "2021-07-10T15:55:06.261Z"
   },
   {
    "duration": 3,
    "start_time": "2021-07-10T15:55:12.312Z"
   },
   {
    "duration": 257,
    "start_time": "2021-07-10T15:55:33.165Z"
   },
   {
    "duration": 8,
    "start_time": "2021-07-10T15:55:37.929Z"
   },
   {
    "duration": 7,
    "start_time": "2021-07-10T15:59:40.412Z"
   },
   {
    "duration": 12,
    "start_time": "2021-07-10T15:59:49.064Z"
   },
   {
    "duration": 12,
    "start_time": "2021-07-10T15:59:51.363Z"
   },
   {
    "duration": 5,
    "start_time": "2021-07-10T15:59:58.104Z"
   },
   {
    "duration": 6,
    "start_time": "2021-07-10T16:00:02.128Z"
   },
   {
    "duration": 252,
    "start_time": "2021-07-10T16:08:34.802Z"
   },
   {
    "duration": 7,
    "start_time": "2021-07-10T16:08:50.552Z"
   },
   {
    "duration": 5,
    "start_time": "2021-07-10T16:09:00.319Z"
   },
   {
    "duration": 3,
    "start_time": "2021-07-10T16:09:28.204Z"
   },
   {
    "duration": 5,
    "start_time": "2021-07-10T16:09:33.749Z"
   },
   {
    "duration": 3,
    "start_time": "2021-07-10T16:09:42.399Z"
   },
   {
    "duration": 4,
    "start_time": "2021-07-10T16:09:47.240Z"
   },
   {
    "duration": 6,
    "start_time": "2021-07-10T16:11:39.771Z"
   },
   {
    "duration": 258,
    "start_time": "2021-07-10T16:11:54.780Z"
   },
   {
    "duration": 3,
    "start_time": "2021-07-10T16:12:00.532Z"
   },
   {
    "duration": 3,
    "start_time": "2021-07-10T16:12:02.511Z"
   },
   {
    "duration": 1014,
    "start_time": "2021-07-10T16:12:15.675Z"
   },
   {
    "duration": 66,
    "start_time": "2021-07-10T16:12:16.691Z"
   },
   {
    "duration": 29,
    "start_time": "2021-07-10T16:12:16.759Z"
   },
   {
    "duration": 4,
    "start_time": "2021-07-10T16:12:16.790Z"
   },
   {
    "duration": 14,
    "start_time": "2021-07-10T16:12:16.795Z"
   },
   {
    "duration": 5,
    "start_time": "2021-07-10T16:12:16.810Z"
   },
   {
    "duration": 51,
    "start_time": "2021-07-10T16:12:16.817Z"
   },
   {
    "duration": 14,
    "start_time": "2021-07-10T16:12:16.870Z"
   },
   {
    "duration": 12,
    "start_time": "2021-07-10T16:12:16.886Z"
   },
   {
    "duration": 5,
    "start_time": "2021-07-10T16:12:16.900Z"
   },
   {
    "duration": 7,
    "start_time": "2021-07-10T16:12:16.907Z"
   },
   {
    "duration": 9,
    "start_time": "2021-07-10T16:12:16.940Z"
   },
   {
    "duration": 97,
    "start_time": "2021-07-10T16:12:16.951Z"
   },
   {
    "duration": 22,
    "start_time": "2021-07-10T16:12:17.050Z"
   },
   {
    "duration": 15,
    "start_time": "2021-07-10T16:12:17.074Z"
   },
   {
    "duration": 15,
    "start_time": "2021-07-10T16:12:17.091Z"
   },
   {
    "duration": 6,
    "start_time": "2021-07-10T16:12:17.107Z"
   },
   {
    "duration": 21,
    "start_time": "2021-07-10T16:12:17.114Z"
   },
   {
    "duration": 322,
    "start_time": "2021-07-10T16:12:17.136Z"
   },
   {
    "duration": 6,
    "start_time": "2021-07-10T16:12:17.460Z"
   },
   {
    "duration": 10,
    "start_time": "2021-07-10T16:12:17.468Z"
   },
   {
    "duration": 330,
    "start_time": "2021-07-10T16:12:17.480Z"
   },
   {
    "duration": 418,
    "start_time": "2021-07-10T16:12:17.814Z"
   },
   {
    "duration": 82,
    "start_time": "2021-07-10T16:12:18.240Z"
   },
   {
    "duration": 145,
    "start_time": "2021-07-10T16:12:18.324Z"
   },
   {
    "duration": 80,
    "start_time": "2021-07-10T16:12:18.470Z"
   },
   {
    "duration": 9,
    "start_time": "2021-07-10T16:12:18.551Z"
   },
   {
    "duration": 8,
    "start_time": "2021-07-10T16:12:18.561Z"
   },
   {
    "duration": 34,
    "start_time": "2021-07-10T16:12:18.570Z"
   },
   {
    "duration": 170,
    "start_time": "2021-07-10T16:12:18.606Z"
   },
   {
    "duration": 12,
    "start_time": "2021-07-10T16:12:18.777Z"
   },
   {
    "duration": 4,
    "start_time": "2021-07-10T16:12:18.790Z"
   },
   {
    "duration": 27,
    "start_time": "2021-07-10T16:12:18.796Z"
   },
   {
    "duration": 2705,
    "start_time": "2021-07-10T16:12:18.841Z"
   },
   {
    "duration": 82,
    "start_time": "2021-07-10T16:12:21.547Z"
   },
   {
    "duration": 37,
    "start_time": "2021-07-10T16:12:21.641Z"
   },
   {
    "duration": 41,
    "start_time": "2021-07-10T16:12:21.680Z"
   },
   {
    "duration": 29,
    "start_time": "2021-07-10T16:12:21.723Z"
   },
   {
    "duration": 12,
    "start_time": "2021-07-10T16:12:21.754Z"
   },
   {
    "duration": 13,
    "start_time": "2021-07-10T16:12:21.767Z"
   },
   {
    "duration": 35,
    "start_time": "2021-07-10T16:12:21.781Z"
   },
   {
    "duration": 10,
    "start_time": "2021-07-10T16:12:21.840Z"
   },
   {
    "duration": 153,
    "start_time": "2021-07-10T16:12:21.852Z"
   },
   {
    "duration": 12,
    "start_time": "2021-07-10T16:12:22.007Z"
   },
   {
    "duration": 26,
    "start_time": "2021-07-10T16:12:22.020Z"
   },
   {
    "duration": 17,
    "start_time": "2021-07-10T16:12:22.048Z"
   },
   {
    "duration": 11,
    "start_time": "2021-07-10T16:12:22.066Z"
   },
   {
    "duration": 37,
    "start_time": "2021-07-10T16:12:22.079Z"
   },
   {
    "duration": 8,
    "start_time": "2021-07-10T16:12:22.118Z"
   },
   {
    "duration": 9,
    "start_time": "2021-07-10T16:12:22.127Z"
   },
   {
    "duration": 8,
    "start_time": "2021-07-10T16:12:22.138Z"
   },
   {
    "duration": 7,
    "start_time": "2021-07-10T16:12:35.835Z"
   },
   {
    "duration": 3,
    "start_time": "2021-07-10T16:12:36.234Z"
   },
   {
    "duration": 4,
    "start_time": "2021-07-10T16:12:36.554Z"
   },
   {
    "duration": 1265,
    "start_time": "2021-07-10T16:12:43.619Z"
   },
   {
    "duration": 66,
    "start_time": "2021-07-10T16:12:44.885Z"
   },
   {
    "duration": 29,
    "start_time": "2021-07-10T16:12:44.953Z"
   },
   {
    "duration": 6,
    "start_time": "2021-07-10T16:12:44.984Z"
   },
   {
    "duration": 14,
    "start_time": "2021-07-10T16:12:44.991Z"
   },
   {
    "duration": 5,
    "start_time": "2021-07-10T16:12:45.007Z"
   },
   {
    "duration": 59,
    "start_time": "2021-07-10T16:12:45.013Z"
   },
   {
    "duration": 14,
    "start_time": "2021-07-10T16:12:45.074Z"
   },
   {
    "duration": 10,
    "start_time": "2021-07-10T16:12:45.089Z"
   },
   {
    "duration": 4,
    "start_time": "2021-07-10T16:12:45.101Z"
   },
   {
    "duration": 7,
    "start_time": "2021-07-10T16:12:45.107Z"
   },
   {
    "duration": 30,
    "start_time": "2021-07-10T16:12:45.115Z"
   },
   {
    "duration": 94,
    "start_time": "2021-07-10T16:12:45.146Z"
   },
   {
    "duration": 23,
    "start_time": "2021-07-10T16:12:45.242Z"
   },
   {
    "duration": 8,
    "start_time": "2021-07-10T16:12:45.267Z"
   },
   {
    "duration": 15,
    "start_time": "2021-07-10T16:12:45.276Z"
   },
   {
    "duration": 5,
    "start_time": "2021-07-10T16:12:45.292Z"
   },
   {
    "duration": 16,
    "start_time": "2021-07-10T16:12:45.298Z"
   },
   {
    "duration": 340,
    "start_time": "2021-07-10T16:12:45.316Z"
   },
   {
    "duration": 7,
    "start_time": "2021-07-10T16:12:45.658Z"
   },
   {
    "duration": 7,
    "start_time": "2021-07-10T16:12:45.666Z"
   },
   {
    "duration": 331,
    "start_time": "2021-07-10T16:12:45.675Z"
   },
   {
    "duration": 426,
    "start_time": "2021-07-10T16:12:46.009Z"
   },
   {
    "duration": 84,
    "start_time": "2021-07-10T16:12:46.441Z"
   },
   {
    "duration": 152,
    "start_time": "2021-07-10T16:12:46.527Z"
   },
   {
    "duration": 91,
    "start_time": "2021-07-10T16:12:46.682Z"
   },
   {
    "duration": 11,
    "start_time": "2021-07-10T16:12:46.775Z"
   },
   {
    "duration": 17,
    "start_time": "2021-07-10T16:12:46.787Z"
   },
   {
    "duration": 50,
    "start_time": "2021-07-10T16:12:46.806Z"
   },
   {
    "duration": 156,
    "start_time": "2021-07-10T16:12:46.857Z"
   },
   {
    "duration": 11,
    "start_time": "2021-07-10T16:12:47.015Z"
   },
   {
    "duration": 15,
    "start_time": "2021-07-10T16:12:47.027Z"
   },
   {
    "duration": 30,
    "start_time": "2021-07-10T16:12:47.043Z"
   },
   {
    "duration": 2534,
    "start_time": "2021-07-10T16:12:47.075Z"
   },
   {
    "duration": 72,
    "start_time": "2021-07-10T16:12:49.611Z"
   },
   {
    "duration": 37,
    "start_time": "2021-07-10T16:12:49.684Z"
   },
   {
    "duration": 48,
    "start_time": "2021-07-10T16:12:49.723Z"
   },
   {
    "duration": 12,
    "start_time": "2021-07-10T16:12:49.773Z"
   },
   {
    "duration": 12,
    "start_time": "2021-07-10T16:12:49.786Z"
   },
   {
    "duration": 12,
    "start_time": "2021-07-10T16:12:49.800Z"
   },
   {
    "duration": 60,
    "start_time": "2021-07-10T16:12:49.814Z"
   },
   {
    "duration": 9,
    "start_time": "2021-07-10T16:12:49.875Z"
   },
   {
    "duration": 157,
    "start_time": "2021-07-10T16:12:49.886Z"
   },
   {
    "duration": 12,
    "start_time": "2021-07-10T16:12:50.045Z"
   },
   {
    "duration": 13,
    "start_time": "2021-07-10T16:12:50.059Z"
   },
   {
    "duration": 15,
    "start_time": "2021-07-10T16:12:50.073Z"
   },
   {
    "duration": 10,
    "start_time": "2021-07-10T16:12:50.090Z"
   },
   {
    "duration": 39,
    "start_time": "2021-07-10T16:12:50.102Z"
   },
   {
    "duration": 8,
    "start_time": "2021-07-10T16:12:50.143Z"
   },
   {
    "duration": 9,
    "start_time": "2021-07-10T16:12:50.153Z"
   },
   {
    "duration": 7,
    "start_time": "2021-07-10T16:12:50.164Z"
   },
   {
    "duration": 6,
    "start_time": "2021-07-10T16:14:22.976Z"
   },
   {
    "duration": 3,
    "start_time": "2021-07-10T16:15:43.671Z"
   },
   {
    "duration": 3,
    "start_time": "2021-07-10T16:15:50.927Z"
   },
   {
    "duration": 3,
    "start_time": "2021-07-10T16:16:09.989Z"
   },
   {
    "duration": 3,
    "start_time": "2021-07-10T16:16:10.368Z"
   },
   {
    "duration": 1098,
    "start_time": "2021-07-10T16:16:15.566Z"
   },
   {
    "duration": 69,
    "start_time": "2021-07-10T16:16:16.666Z"
   },
   {
    "duration": 31,
    "start_time": "2021-07-10T16:16:16.741Z"
   },
   {
    "duration": 5,
    "start_time": "2021-07-10T16:16:16.773Z"
   },
   {
    "duration": 14,
    "start_time": "2021-07-10T16:16:16.780Z"
   },
   {
    "duration": 5,
    "start_time": "2021-07-10T16:16:16.796Z"
   },
   {
    "duration": 62,
    "start_time": "2021-07-10T16:16:16.805Z"
   },
   {
    "duration": 14,
    "start_time": "2021-07-10T16:16:16.869Z"
   },
   {
    "duration": 12,
    "start_time": "2021-07-10T16:16:16.885Z"
   },
   {
    "duration": 12,
    "start_time": "2021-07-10T16:16:16.898Z"
   },
   {
    "duration": 10,
    "start_time": "2021-07-10T16:16:16.912Z"
   },
   {
    "duration": 24,
    "start_time": "2021-07-10T16:16:16.923Z"
   },
   {
    "duration": 93,
    "start_time": "2021-07-10T16:16:16.949Z"
   },
   {
    "duration": 23,
    "start_time": "2021-07-10T16:16:17.044Z"
   },
   {
    "duration": 7,
    "start_time": "2021-07-10T16:16:17.069Z"
   },
   {
    "duration": 18,
    "start_time": "2021-07-10T16:16:17.077Z"
   },
   {
    "duration": 5,
    "start_time": "2021-07-10T16:16:17.097Z"
   },
   {
    "duration": 15,
    "start_time": "2021-07-10T16:16:17.104Z"
   },
   {
    "duration": 325,
    "start_time": "2021-07-10T16:16:17.121Z"
   },
   {
    "duration": 9,
    "start_time": "2021-07-10T16:16:17.448Z"
   },
   {
    "duration": 6,
    "start_time": "2021-07-10T16:16:17.459Z"
   },
   {
    "duration": 333,
    "start_time": "2021-07-10T16:16:17.469Z"
   },
   {
    "duration": 420,
    "start_time": "2021-07-10T16:16:17.804Z"
   },
   {
    "duration": 95,
    "start_time": "2021-07-10T16:16:18.225Z"
   },
   {
    "duration": 141,
    "start_time": "2021-07-10T16:16:18.322Z"
   },
   {
    "duration": 83,
    "start_time": "2021-07-10T16:16:18.464Z"
   },
   {
    "duration": 8,
    "start_time": "2021-07-10T16:16:18.549Z"
   },
   {
    "duration": 8,
    "start_time": "2021-07-10T16:16:18.558Z"
   },
   {
    "duration": 36,
    "start_time": "2021-07-10T16:16:18.567Z"
   },
   {
    "duration": 168,
    "start_time": "2021-07-10T16:16:18.604Z"
   },
   {
    "duration": 10,
    "start_time": "2021-07-10T16:16:18.774Z"
   },
   {
    "duration": 4,
    "start_time": "2021-07-10T16:16:18.786Z"
   },
   {
    "duration": 20,
    "start_time": "2021-07-10T16:16:18.791Z"
   },
   {
    "duration": 2527,
    "start_time": "2021-07-10T16:16:18.813Z"
   },
   {
    "duration": 65,
    "start_time": "2021-07-10T16:16:21.342Z"
   },
   {
    "duration": 55,
    "start_time": "2021-07-10T16:16:21.409Z"
   },
   {
    "duration": 37,
    "start_time": "2021-07-10T16:16:21.465Z"
   },
   {
    "duration": 12,
    "start_time": "2021-07-10T16:16:21.504Z"
   },
   {
    "duration": 29,
    "start_time": "2021-07-10T16:16:21.517Z"
   },
   {
    "duration": 15,
    "start_time": "2021-07-10T16:16:21.548Z"
   },
   {
    "duration": 37,
    "start_time": "2021-07-10T16:16:21.565Z"
   },
   {
    "duration": 9,
    "start_time": "2021-07-10T16:16:21.603Z"
   },
   {
    "duration": 172,
    "start_time": "2021-07-10T16:16:21.614Z"
   },
   {
    "duration": 11,
    "start_time": "2021-07-10T16:16:21.788Z"
   },
   {
    "duration": 15,
    "start_time": "2021-07-10T16:16:21.801Z"
   },
   {
    "duration": 40,
    "start_time": "2021-07-10T16:16:21.817Z"
   },
   {
    "duration": 13,
    "start_time": "2021-07-10T16:16:21.858Z"
   },
   {
    "duration": 10,
    "start_time": "2021-07-10T16:16:21.872Z"
   },
   {
    "duration": 10,
    "start_time": "2021-07-10T16:16:21.884Z"
   },
   {
    "duration": 11,
    "start_time": "2021-07-10T16:16:21.896Z"
   },
   {
    "duration": 13,
    "start_time": "2021-07-10T16:16:21.909Z"
   },
   {
    "duration": 1125,
    "start_time": "2021-07-10T16:19:51.966Z"
   },
   {
    "duration": 70,
    "start_time": "2021-07-10T16:19:53.093Z"
   },
   {
    "duration": 30,
    "start_time": "2021-07-10T16:19:53.165Z"
   },
   {
    "duration": 7,
    "start_time": "2021-07-10T16:19:53.196Z"
   },
   {
    "duration": 15,
    "start_time": "2021-07-10T16:19:53.204Z"
   },
   {
    "duration": 5,
    "start_time": "2021-07-10T16:19:53.221Z"
   },
   {
    "duration": 55,
    "start_time": "2021-07-10T16:19:53.227Z"
   },
   {
    "duration": 14,
    "start_time": "2021-07-10T16:19:53.284Z"
   },
   {
    "duration": 17,
    "start_time": "2021-07-10T16:19:53.300Z"
   },
   {
    "duration": 4,
    "start_time": "2021-07-10T16:19:53.319Z"
   },
   {
    "duration": 6,
    "start_time": "2021-07-10T16:19:53.341Z"
   },
   {
    "duration": 16,
    "start_time": "2021-07-10T16:19:53.349Z"
   },
   {
    "duration": 90,
    "start_time": "2021-07-10T16:19:53.367Z"
   },
   {
    "duration": 23,
    "start_time": "2021-07-10T16:19:53.459Z"
   },
   {
    "duration": 11,
    "start_time": "2021-07-10T16:19:53.484Z"
   },
   {
    "duration": 14,
    "start_time": "2021-07-10T16:19:53.497Z"
   },
   {
    "duration": 4,
    "start_time": "2021-07-10T16:19:53.513Z"
   },
   {
    "duration": 22,
    "start_time": "2021-07-10T16:19:53.519Z"
   },
   {
    "duration": 327,
    "start_time": "2021-07-10T16:19:53.543Z"
   },
   {
    "duration": 7,
    "start_time": "2021-07-10T16:19:53.872Z"
   },
   {
    "duration": 8,
    "start_time": "2021-07-10T16:19:53.881Z"
   },
   {
    "duration": 366,
    "start_time": "2021-07-10T16:19:53.891Z"
   },
   {
    "duration": 463,
    "start_time": "2021-07-10T16:19:54.259Z"
   },
   {
    "duration": 98,
    "start_time": "2021-07-10T16:19:54.724Z"
   },
   {
    "duration": 161,
    "start_time": "2021-07-10T16:19:54.824Z"
   },
   {
    "duration": 94,
    "start_time": "2021-07-10T16:19:54.986Z"
   },
   {
    "duration": 10,
    "start_time": "2021-07-10T16:19:55.083Z"
   },
   {
    "duration": 9,
    "start_time": "2021-07-10T16:19:55.095Z"
   },
   {
    "duration": 58,
    "start_time": "2021-07-10T16:19:55.105Z"
   },
   {
    "duration": 187,
    "start_time": "2021-07-10T16:19:55.165Z"
   },
   {
    "duration": 20,
    "start_time": "2021-07-10T16:19:55.354Z"
   },
   {
    "duration": 8,
    "start_time": "2021-07-10T16:19:55.376Z"
   },
   {
    "duration": 34,
    "start_time": "2021-07-10T16:19:55.386Z"
   },
   {
    "duration": 2532,
    "start_time": "2021-07-10T16:19:55.422Z"
   },
   {
    "duration": 64,
    "start_time": "2021-07-10T16:19:57.956Z"
   },
   {
    "duration": 54,
    "start_time": "2021-07-10T16:19:58.021Z"
   },
   {
    "duration": 38,
    "start_time": "2021-07-10T16:19:58.077Z"
   },
   {
    "duration": 25,
    "start_time": "2021-07-10T16:19:58.117Z"
   },
   {
    "duration": 13,
    "start_time": "2021-07-10T16:19:58.143Z"
   },
   {
    "duration": 12,
    "start_time": "2021-07-10T16:19:58.157Z"
   },
   {
    "duration": 34,
    "start_time": "2021-07-10T16:19:58.170Z"
   },
   {
    "duration": 36,
    "start_time": "2021-07-10T16:19:58.205Z"
   },
   {
    "duration": 148,
    "start_time": "2021-07-10T16:19:58.242Z"
   },
   {
    "duration": 11,
    "start_time": "2021-07-10T16:19:58.392Z"
   },
   {
    "duration": 12,
    "start_time": "2021-07-10T16:19:58.405Z"
   },
   {
    "duration": 26,
    "start_time": "2021-07-10T16:19:58.419Z"
   },
   {
    "duration": 9,
    "start_time": "2021-07-10T16:19:58.447Z"
   },
   {
    "duration": 6,
    "start_time": "2021-07-10T16:19:58.458Z"
   },
   {
    "duration": 9,
    "start_time": "2021-07-10T16:19:58.466Z"
   },
   {
    "duration": 5,
    "start_time": "2021-07-10T16:19:58.476Z"
   },
   {
    "duration": 6,
    "start_time": "2021-07-10T16:19:58.483Z"
   },
   {
    "duration": 338,
    "start_time": "2021-07-10T16:19:59.525Z"
   },
   {
    "duration": 11,
    "start_time": "2021-07-10T16:20:01.927Z"
   },
   {
    "duration": 7,
    "start_time": "2021-07-10T16:20:13.930Z"
   },
   {
    "duration": 9,
    "start_time": "2021-07-10T16:20:19.103Z"
   },
   {
    "duration": 7,
    "start_time": "2021-07-10T16:20:23.675Z"
   },
   {
    "duration": 2,
    "start_time": "2021-07-10T16:20:26.278Z"
   },
   {
    "duration": 3,
    "start_time": "2021-07-10T16:20:27.457Z"
   },
   {
    "duration": 3,
    "start_time": "2021-07-10T16:20:49.204Z"
   },
   {
    "duration": 4,
    "start_time": "2021-07-10T16:20:49.566Z"
   },
   {
    "duration": 1084,
    "start_time": "2021-07-10T16:20:55.490Z"
   },
   {
    "duration": 67,
    "start_time": "2021-07-10T16:20:56.575Z"
   },
   {
    "duration": 30,
    "start_time": "2021-07-10T16:20:56.644Z"
   },
   {
    "duration": 10,
    "start_time": "2021-07-10T16:20:56.675Z"
   },
   {
    "duration": 18,
    "start_time": "2021-07-10T16:20:56.687Z"
   },
   {
    "duration": 12,
    "start_time": "2021-07-10T16:20:56.707Z"
   },
   {
    "duration": 61,
    "start_time": "2021-07-10T16:20:56.721Z"
   },
   {
    "duration": 13,
    "start_time": "2021-07-10T16:20:56.785Z"
   },
   {
    "duration": 23,
    "start_time": "2021-07-10T16:20:56.800Z"
   },
   {
    "duration": 5,
    "start_time": "2021-07-10T16:20:56.824Z"
   },
   {
    "duration": 14,
    "start_time": "2021-07-10T16:20:56.831Z"
   },
   {
    "duration": 17,
    "start_time": "2021-07-10T16:20:56.847Z"
   },
   {
    "duration": 92,
    "start_time": "2021-07-10T16:20:56.865Z"
   },
   {
    "duration": 23,
    "start_time": "2021-07-10T16:20:56.958Z"
   },
   {
    "duration": 8,
    "start_time": "2021-07-10T16:20:56.982Z"
   },
   {
    "duration": 14,
    "start_time": "2021-07-10T16:20:56.992Z"
   },
   {
    "duration": 4,
    "start_time": "2021-07-10T16:20:57.008Z"
   },
   {
    "duration": 20,
    "start_time": "2021-07-10T16:20:57.014Z"
   },
   {
    "duration": 316,
    "start_time": "2021-07-10T16:20:57.041Z"
   },
   {
    "duration": 8,
    "start_time": "2021-07-10T16:20:57.359Z"
   },
   {
    "duration": 7,
    "start_time": "2021-07-10T16:20:57.369Z"
   },
   {
    "duration": 324,
    "start_time": "2021-07-10T16:20:57.378Z"
   },
   {
    "duration": 418,
    "start_time": "2021-07-10T16:20:57.707Z"
   },
   {
    "duration": 89,
    "start_time": "2021-07-10T16:20:58.128Z"
   },
   {
    "duration": 150,
    "start_time": "2021-07-10T16:20:58.219Z"
   },
   {
    "duration": 84,
    "start_time": "2021-07-10T16:20:58.371Z"
   },
   {
    "duration": 9,
    "start_time": "2021-07-10T16:20:58.457Z"
   },
   {
    "duration": 9,
    "start_time": "2021-07-10T16:20:58.467Z"
   },
   {
    "duration": 38,
    "start_time": "2021-07-10T16:20:58.477Z"
   },
   {
    "duration": 166,
    "start_time": "2021-07-10T16:20:58.517Z"
   },
   {
    "duration": 13,
    "start_time": "2021-07-10T16:20:58.684Z"
   },
   {
    "duration": 6,
    "start_time": "2021-07-10T16:20:58.699Z"
   },
   {
    "duration": 45,
    "start_time": "2021-07-10T16:20:58.707Z"
   },
   {
    "duration": 2606,
    "start_time": "2021-07-10T16:20:58.754Z"
   },
   {
    "duration": 79,
    "start_time": "2021-07-10T16:21:01.362Z"
   },
   {
    "duration": 39,
    "start_time": "2021-07-10T16:21:01.444Z"
   },
   {
    "duration": 39,
    "start_time": "2021-07-10T16:21:01.484Z"
   },
   {
    "duration": 14,
    "start_time": "2021-07-10T16:21:01.541Z"
   },
   {
    "duration": 13,
    "start_time": "2021-07-10T16:21:01.556Z"
   },
   {
    "duration": 12,
    "start_time": "2021-07-10T16:21:01.571Z"
   },
   {
    "duration": 59,
    "start_time": "2021-07-10T16:21:01.584Z"
   },
   {
    "duration": 9,
    "start_time": "2021-07-10T16:21:01.645Z"
   },
   {
    "duration": 150,
    "start_time": "2021-07-10T16:21:01.656Z"
   },
   {
    "duration": 11,
    "start_time": "2021-07-10T16:21:01.808Z"
   },
   {
    "duration": 26,
    "start_time": "2021-07-10T16:21:01.821Z"
   },
   {
    "duration": 15,
    "start_time": "2021-07-10T16:21:01.849Z"
   },
   {
    "duration": 9,
    "start_time": "2021-07-10T16:21:01.865Z"
   },
   {
    "duration": 7,
    "start_time": "2021-07-10T16:21:01.876Z"
   },
   {
    "duration": 6,
    "start_time": "2021-07-10T16:21:01.884Z"
   },
   {
    "duration": 5,
    "start_time": "2021-07-10T16:21:01.891Z"
   },
   {
    "duration": 6,
    "start_time": "2021-07-10T16:21:01.897Z"
   },
   {
    "duration": 3,
    "start_time": "2021-07-10T16:30:09.494Z"
   },
   {
    "duration": 6,
    "start_time": "2021-07-10T16:30:21.563Z"
   },
   {
    "duration": 848,
    "start_time": "2021-07-10T16:30:45.921Z"
   },
   {
    "duration": 3,
    "start_time": "2021-07-10T16:31:05.061Z"
   },
   {
    "duration": 4,
    "start_time": "2021-07-10T16:31:09.545Z"
   },
   {
    "duration": 4,
    "start_time": "2021-07-10T16:39:12.653Z"
   },
   {
    "duration": 3,
    "start_time": "2021-07-10T16:39:16.280Z"
   },
   {
    "duration": 243,
    "start_time": "2021-07-10T16:39:40.739Z"
   },
   {
    "duration": 3,
    "start_time": "2021-07-10T16:39:52.165Z"
   },
   {
    "duration": 256,
    "start_time": "2021-07-10T16:40:05.533Z"
   },
   {
    "duration": 4,
    "start_time": "2021-07-10T16:40:15.837Z"
   },
   {
    "duration": 1139,
    "start_time": "2021-07-10T16:58:28.439Z"
   },
   {
    "duration": 66,
    "start_time": "2021-07-10T16:58:29.580Z"
   },
   {
    "duration": 29,
    "start_time": "2021-07-10T16:58:29.648Z"
   },
   {
    "duration": 5,
    "start_time": "2021-07-10T16:58:29.679Z"
   },
   {
    "duration": 14,
    "start_time": "2021-07-10T16:58:29.686Z"
   },
   {
    "duration": 5,
    "start_time": "2021-07-10T16:58:29.701Z"
   },
   {
    "duration": 56,
    "start_time": "2021-07-10T16:58:29.708Z"
   },
   {
    "duration": 15,
    "start_time": "2021-07-10T16:58:29.767Z"
   },
   {
    "duration": 12,
    "start_time": "2021-07-10T16:58:29.785Z"
   },
   {
    "duration": 6,
    "start_time": "2021-07-10T16:58:29.798Z"
   },
   {
    "duration": 36,
    "start_time": "2021-07-10T16:58:29.806Z"
   },
   {
    "duration": 9,
    "start_time": "2021-07-10T16:58:29.844Z"
   },
   {
    "duration": 101,
    "start_time": "2021-07-10T16:58:29.855Z"
   },
   {
    "duration": 23,
    "start_time": "2021-07-10T16:58:29.958Z"
   },
   {
    "duration": 6,
    "start_time": "2021-07-10T16:58:29.982Z"
   },
   {
    "duration": 14,
    "start_time": "2021-07-10T16:58:29.990Z"
   },
   {
    "duration": 5,
    "start_time": "2021-07-10T16:58:30.006Z"
   },
   {
    "duration": 34,
    "start_time": "2021-07-10T16:58:30.013Z"
   },
   {
    "duration": 313,
    "start_time": "2021-07-10T16:58:30.049Z"
   },
   {
    "duration": 11,
    "start_time": "2021-07-10T16:58:30.363Z"
   },
   {
    "duration": 12,
    "start_time": "2021-07-10T16:58:30.376Z"
   },
   {
    "duration": 338,
    "start_time": "2021-07-10T16:58:30.391Z"
   },
   {
    "duration": 422,
    "start_time": "2021-07-10T16:58:30.741Z"
   },
   {
    "duration": 99,
    "start_time": "2021-07-10T16:58:31.166Z"
   },
   {
    "duration": 145,
    "start_time": "2021-07-10T16:58:31.267Z"
   },
   {
    "duration": 83,
    "start_time": "2021-07-10T16:58:31.413Z"
   },
   {
    "duration": 10,
    "start_time": "2021-07-10T16:58:31.498Z"
   },
   {
    "duration": 7,
    "start_time": "2021-07-10T16:58:31.510Z"
   },
   {
    "duration": 51,
    "start_time": "2021-07-10T16:58:31.519Z"
   },
   {
    "duration": 150,
    "start_time": "2021-07-10T16:58:31.572Z"
   },
   {
    "duration": 17,
    "start_time": "2021-07-10T16:58:31.724Z"
   },
   {
    "duration": 4,
    "start_time": "2021-07-10T16:58:31.743Z"
   },
   {
    "duration": 21,
    "start_time": "2021-07-10T16:58:31.749Z"
   },
   {
    "duration": 2423,
    "start_time": "2021-07-10T16:58:31.771Z"
   },
   {
    "duration": 71,
    "start_time": "2021-07-10T16:58:34.196Z"
   },
   {
    "duration": 43,
    "start_time": "2021-07-10T16:58:34.269Z"
   },
   {
    "duration": 53,
    "start_time": "2021-07-10T16:58:34.314Z"
   },
   {
    "duration": 13,
    "start_time": "2021-07-10T16:58:34.369Z"
   },
   {
    "duration": 13,
    "start_time": "2021-07-10T16:58:34.383Z"
   },
   {
    "duration": 12,
    "start_time": "2021-07-10T16:58:34.397Z"
   },
   {
    "duration": 58,
    "start_time": "2021-07-10T16:58:34.411Z"
   },
   {
    "duration": 9,
    "start_time": "2021-07-10T16:58:34.470Z"
   },
   {
    "duration": 150,
    "start_time": "2021-07-10T16:58:34.481Z"
   },
   {
    "duration": 16,
    "start_time": "2021-07-10T16:58:34.633Z"
   },
   {
    "duration": 13,
    "start_time": "2021-07-10T16:58:34.651Z"
   },
   {
    "duration": 20,
    "start_time": "2021-07-10T16:58:34.665Z"
   },
   {
    "duration": 10,
    "start_time": "2021-07-10T16:58:34.686Z"
   },
   {
    "duration": 6,
    "start_time": "2021-07-10T16:58:34.698Z"
   },
   {
    "duration": 6,
    "start_time": "2021-07-10T16:58:34.706Z"
   },
   {
    "duration": 340,
    "start_time": "2021-07-10T16:58:34.741Z"
   },
   {
    "duration": 12,
    "start_time": "2021-07-10T16:58:35.071Z"
   },
   {
    "duration": 11,
    "start_time": "2021-07-10T16:58:35.073Z"
   },
   {
    "duration": 10,
    "start_time": "2021-07-10T16:58:35.075Z"
   },
   {
    "duration": 1078,
    "start_time": "2021-07-10T16:58:46.483Z"
   },
   {
    "duration": 67,
    "start_time": "2021-07-10T16:58:47.563Z"
   },
   {
    "duration": 30,
    "start_time": "2021-07-10T16:58:47.632Z"
   },
   {
    "duration": 16,
    "start_time": "2021-07-10T16:58:47.664Z"
   },
   {
    "duration": 30,
    "start_time": "2021-07-10T16:58:47.682Z"
   },
   {
    "duration": 12,
    "start_time": "2021-07-10T16:58:47.714Z"
   },
   {
    "duration": 70,
    "start_time": "2021-07-10T16:58:47.728Z"
   },
   {
    "duration": 14,
    "start_time": "2021-07-10T16:58:47.801Z"
   },
   {
    "duration": 18,
    "start_time": "2021-07-10T16:58:47.817Z"
   },
   {
    "duration": 19,
    "start_time": "2021-07-10T16:58:47.837Z"
   },
   {
    "duration": 19,
    "start_time": "2021-07-10T16:58:47.857Z"
   },
   {
    "duration": 27,
    "start_time": "2021-07-10T16:58:47.877Z"
   },
   {
    "duration": 91,
    "start_time": "2021-07-10T16:58:47.905Z"
   },
   {
    "duration": 24,
    "start_time": "2021-07-10T16:58:47.998Z"
   },
   {
    "duration": 16,
    "start_time": "2021-07-10T16:58:48.023Z"
   },
   {
    "duration": 23,
    "start_time": "2021-07-10T16:58:48.041Z"
   },
   {
    "duration": 13,
    "start_time": "2021-07-10T16:58:48.066Z"
   },
   {
    "duration": 26,
    "start_time": "2021-07-10T16:58:48.081Z"
   },
   {
    "duration": 311,
    "start_time": "2021-07-10T16:58:48.109Z"
   },
   {
    "duration": 6,
    "start_time": "2021-07-10T16:58:48.422Z"
   },
   {
    "duration": 14,
    "start_time": "2021-07-10T16:58:48.430Z"
   },
   {
    "duration": 331,
    "start_time": "2021-07-10T16:58:48.445Z"
   },
   {
    "duration": 453,
    "start_time": "2021-07-10T16:58:48.779Z"
   },
   {
    "duration": 85,
    "start_time": "2021-07-10T16:58:49.234Z"
   },
   {
    "duration": 156,
    "start_time": "2021-07-10T16:58:49.321Z"
   },
   {
    "duration": 88,
    "start_time": "2021-07-10T16:58:49.479Z"
   },
   {
    "duration": 9,
    "start_time": "2021-07-10T16:58:49.569Z"
   },
   {
    "duration": 8,
    "start_time": "2021-07-10T16:58:49.579Z"
   },
   {
    "duration": 52,
    "start_time": "2021-07-10T16:58:49.589Z"
   },
   {
    "duration": 142,
    "start_time": "2021-07-10T16:58:49.642Z"
   },
   {
    "duration": 11,
    "start_time": "2021-07-10T16:58:49.786Z"
   },
   {
    "duration": 21,
    "start_time": "2021-07-10T16:58:49.799Z"
   },
   {
    "duration": 33,
    "start_time": "2021-07-10T16:58:49.821Z"
   },
   {
    "duration": 2851,
    "start_time": "2021-07-10T16:58:49.855Z"
   },
   {
    "duration": 74,
    "start_time": "2021-07-10T16:58:52.708Z"
   },
   {
    "duration": 38,
    "start_time": "2021-07-10T16:58:52.784Z"
   },
   {
    "duration": 47,
    "start_time": "2021-07-10T16:58:52.824Z"
   },
   {
    "duration": 13,
    "start_time": "2021-07-10T16:58:52.872Z"
   },
   {
    "duration": 13,
    "start_time": "2021-07-10T16:58:52.887Z"
   },
   {
    "duration": 13,
    "start_time": "2021-07-10T16:58:52.902Z"
   },
   {
    "duration": 59,
    "start_time": "2021-07-10T16:58:52.916Z"
   },
   {
    "duration": 9,
    "start_time": "2021-07-10T16:58:52.977Z"
   },
   {
    "duration": 157,
    "start_time": "2021-07-10T16:58:52.987Z"
   },
   {
    "duration": 12,
    "start_time": "2021-07-10T16:58:53.146Z"
   },
   {
    "duration": 14,
    "start_time": "2021-07-10T16:58:53.160Z"
   },
   {
    "duration": 15,
    "start_time": "2021-07-10T16:58:53.176Z"
   },
   {
    "duration": 18,
    "start_time": "2021-07-10T16:58:53.193Z"
   },
   {
    "duration": 32,
    "start_time": "2021-07-10T16:58:53.212Z"
   },
   {
    "duration": 6,
    "start_time": "2021-07-10T16:58:53.246Z"
   },
   {
    "duration": 19,
    "start_time": "2021-07-10T16:58:53.253Z"
   },
   {
    "duration": 25,
    "start_time": "2021-07-10T16:58:53.274Z"
   },
   {
    "duration": 9,
    "start_time": "2021-07-10T16:59:16.120Z"
   },
   {
    "duration": 5,
    "start_time": "2021-07-10T19:05:51.846Z"
   },
   {
    "duration": 2,
    "start_time": "2021-07-10T19:05:59.748Z"
   },
   {
    "duration": 4,
    "start_time": "2021-07-10T19:06:03.891Z"
   },
   {
    "duration": 7,
    "start_time": "2021-07-10T19:07:00.144Z"
   },
   {
    "duration": 23,
    "start_time": "2021-07-10T19:07:10.345Z"
   },
   {
    "duration": 83,
    "start_time": "2021-07-10T19:08:04.641Z"
   },
   {
    "duration": 9,
    "start_time": "2021-07-10T19:08:08.169Z"
   },
   {
    "duration": 9,
    "start_time": "2021-07-10T19:13:59.510Z"
   },
   {
    "duration": 4,
    "start_time": "2021-07-10T19:14:12.193Z"
   },
   {
    "duration": 21,
    "start_time": "2021-07-10T19:14:27.176Z"
   },
   {
    "duration": 20,
    "start_time": "2021-07-10T19:14:34.405Z"
   },
   {
    "duration": 18,
    "start_time": "2021-07-10T19:14:42.447Z"
   },
   {
    "duration": 4,
    "start_time": "2021-07-10T19:15:00.444Z"
   },
   {
    "duration": 20,
    "start_time": "2021-07-10T19:15:11.745Z"
   },
   {
    "duration": 15,
    "start_time": "2021-07-10T19:15:14.826Z"
   },
   {
    "duration": 1075,
    "start_time": "2021-07-10T20:03:01.904Z"
   },
   {
    "duration": 66,
    "start_time": "2021-07-10T20:03:02.980Z"
   },
   {
    "duration": 29,
    "start_time": "2021-07-10T20:03:03.048Z"
   },
   {
    "duration": 16,
    "start_time": "2021-07-10T20:03:03.079Z"
   },
   {
    "duration": 23,
    "start_time": "2021-07-10T20:03:03.097Z"
   },
   {
    "duration": 12,
    "start_time": "2021-07-10T20:03:03.121Z"
   },
   {
    "duration": 58,
    "start_time": "2021-07-10T20:03:03.135Z"
   },
   {
    "duration": 15,
    "start_time": "2021-07-10T20:03:03.195Z"
   },
   {
    "duration": 21,
    "start_time": "2021-07-10T20:03:03.211Z"
   },
   {
    "duration": 9,
    "start_time": "2021-07-10T20:03:03.234Z"
   },
   {
    "duration": 15,
    "start_time": "2021-07-10T20:03:03.244Z"
   },
   {
    "duration": 24,
    "start_time": "2021-07-10T20:03:03.260Z"
   },
   {
    "duration": 100,
    "start_time": "2021-07-10T20:03:03.285Z"
   },
   {
    "duration": 23,
    "start_time": "2021-07-10T20:03:03.387Z"
   },
   {
    "duration": 4,
    "start_time": "2021-07-10T20:03:03.412Z"
   },
   {
    "duration": 23,
    "start_time": "2021-07-10T20:03:03.417Z"
   },
   {
    "duration": 6,
    "start_time": "2021-07-10T20:03:03.442Z"
   },
   {
    "duration": 30,
    "start_time": "2021-07-10T20:03:03.449Z"
   },
   {
    "duration": 309,
    "start_time": "2021-07-10T20:03:03.480Z"
   },
   {
    "duration": 7,
    "start_time": "2021-07-10T20:03:03.791Z"
   },
   {
    "duration": 23,
    "start_time": "2021-07-10T20:03:03.800Z"
   },
   {
    "duration": 378,
    "start_time": "2021-07-10T20:03:03.825Z"
   },
   {
    "duration": 422,
    "start_time": "2021-07-10T20:03:04.206Z"
   },
   {
    "duration": 91,
    "start_time": "2021-07-10T20:03:04.629Z"
   },
   {
    "duration": 150,
    "start_time": "2021-07-10T20:03:04.721Z"
   },
   {
    "duration": 83,
    "start_time": "2021-07-10T20:03:04.873Z"
   },
   {
    "duration": 9,
    "start_time": "2021-07-10T20:03:04.958Z"
   },
   {
    "duration": 21,
    "start_time": "2021-07-10T20:03:04.968Z"
   },
   {
    "duration": 45,
    "start_time": "2021-07-10T20:03:04.990Z"
   },
   {
    "duration": 140,
    "start_time": "2021-07-10T20:03:05.037Z"
   },
   {
    "duration": 10,
    "start_time": "2021-07-10T20:03:05.180Z"
   },
   {
    "duration": 16,
    "start_time": "2021-07-10T20:03:05.192Z"
   },
   {
    "duration": 28,
    "start_time": "2021-07-10T20:03:05.209Z"
   },
   {
    "duration": 2470,
    "start_time": "2021-07-10T20:03:05.239Z"
   },
   {
    "duration": 74,
    "start_time": "2021-07-10T20:03:07.710Z"
   },
   {
    "duration": 38,
    "start_time": "2021-07-10T20:03:07.786Z"
   },
   {
    "duration": 51,
    "start_time": "2021-07-10T20:03:07.826Z"
   },
   {
    "duration": 12,
    "start_time": "2021-07-10T20:03:07.879Z"
   },
   {
    "duration": 12,
    "start_time": "2021-07-10T20:03:07.893Z"
   },
   {
    "duration": 35,
    "start_time": "2021-07-10T20:03:07.907Z"
   },
   {
    "duration": 37,
    "start_time": "2021-07-10T20:03:07.943Z"
   },
   {
    "duration": 9,
    "start_time": "2021-07-10T20:03:07.981Z"
   },
   {
    "duration": 261,
    "start_time": "2021-07-10T20:03:07.992Z"
   },
   {
    "duration": 12,
    "start_time": "2021-07-10T20:03:08.255Z"
   },
   {
    "duration": 14,
    "start_time": "2021-07-10T20:03:08.268Z"
   },
   {
    "duration": 15,
    "start_time": "2021-07-10T20:03:08.283Z"
   },
   {
    "duration": 9,
    "start_time": "2021-07-10T20:03:08.299Z"
   },
   {
    "duration": 35,
    "start_time": "2021-07-10T20:03:08.310Z"
   },
   {
    "duration": 6,
    "start_time": "2021-07-10T20:03:08.347Z"
   },
   {
    "duration": 5,
    "start_time": "2021-07-10T20:03:08.355Z"
   },
   {
    "duration": 6,
    "start_time": "2021-07-10T20:03:08.362Z"
   },
   {
    "duration": 16,
    "start_time": "2021-07-10T20:03:08.369Z"
   },
   {
    "duration": 13,
    "start_time": "2021-07-10T20:03:08.386Z"
   },
   {
    "duration": 18,
    "start_time": "2021-07-10T20:11:27.019Z"
   },
   {
    "duration": 18,
    "start_time": "2021-07-10T20:11:34.540Z"
   },
   {
    "duration": 1048,
    "start_time": "2021-07-11T09:24:28.471Z"
   },
   {
    "duration": 64,
    "start_time": "2021-07-11T09:24:29.521Z"
   },
   {
    "duration": 30,
    "start_time": "2021-07-11T09:24:29.588Z"
   },
   {
    "duration": 5,
    "start_time": "2021-07-11T09:24:29.619Z"
   },
   {
    "duration": 12,
    "start_time": "2021-07-11T09:24:29.625Z"
   },
   {
    "duration": 4,
    "start_time": "2021-07-11T09:24:29.638Z"
   },
   {
    "duration": 47,
    "start_time": "2021-07-11T09:24:29.644Z"
   },
   {
    "duration": 12,
    "start_time": "2021-07-11T09:24:29.693Z"
   },
   {
    "duration": 11,
    "start_time": "2021-07-11T09:24:29.706Z"
   },
   {
    "duration": 5,
    "start_time": "2021-07-11T09:24:29.718Z"
   },
   {
    "duration": 9,
    "start_time": "2021-07-11T09:24:29.724Z"
   },
   {
    "duration": 10,
    "start_time": "2021-07-11T09:24:29.734Z"
   },
   {
    "duration": 99,
    "start_time": "2021-07-11T09:24:29.746Z"
   },
   {
    "duration": 21,
    "start_time": "2021-07-11T09:24:29.847Z"
   },
   {
    "duration": 7,
    "start_time": "2021-07-11T09:24:29.870Z"
   },
   {
    "duration": 17,
    "start_time": "2021-07-11T09:24:29.879Z"
   },
   {
    "duration": 4,
    "start_time": "2021-07-11T09:24:29.898Z"
   },
   {
    "duration": 16,
    "start_time": "2021-07-11T09:24:29.904Z"
   },
   {
    "duration": 316,
    "start_time": "2021-07-11T09:24:29.921Z"
   },
   {
    "duration": 7,
    "start_time": "2021-07-11T09:24:30.238Z"
   },
   {
    "duration": 12,
    "start_time": "2021-07-11T09:24:30.246Z"
   },
   {
    "duration": 333,
    "start_time": "2021-07-11T09:24:30.260Z"
   },
   {
    "duration": 414,
    "start_time": "2021-07-11T09:24:30.597Z"
   },
   {
    "duration": 84,
    "start_time": "2021-07-11T09:24:31.013Z"
   },
   {
    "duration": 147,
    "start_time": "2021-07-11T09:24:31.099Z"
   },
   {
    "duration": 82,
    "start_time": "2021-07-11T09:24:31.248Z"
   },
   {
    "duration": 10,
    "start_time": "2021-07-11T09:24:31.331Z"
   },
   {
    "duration": 8,
    "start_time": "2021-07-11T09:24:31.343Z"
   },
   {
    "duration": 57,
    "start_time": "2021-07-11T09:24:31.353Z"
   },
   {
    "duration": 137,
    "start_time": "2021-07-11T09:24:31.411Z"
   },
   {
    "duration": 12,
    "start_time": "2021-07-11T09:24:31.550Z"
   },
   {
    "duration": 5,
    "start_time": "2021-07-11T09:24:31.563Z"
   },
   {
    "duration": 35,
    "start_time": "2021-07-11T09:24:31.570Z"
   },
   {
    "duration": 2403,
    "start_time": "2021-07-11T09:24:31.607Z"
   },
   {
    "duration": 60,
    "start_time": "2021-07-11T09:24:34.012Z"
   },
   {
    "duration": 50,
    "start_time": "2021-07-11T09:24:34.074Z"
   },
   {
    "duration": 35,
    "start_time": "2021-07-11T09:24:34.126Z"
   },
   {
    "duration": 33,
    "start_time": "2021-07-11T09:24:34.163Z"
   },
   {
    "duration": 12,
    "start_time": "2021-07-11T09:24:34.197Z"
   },
   {
    "duration": 12,
    "start_time": "2021-07-11T09:24:34.211Z"
   },
   {
    "duration": 33,
    "start_time": "2021-07-11T09:24:34.225Z"
   },
   {
    "duration": 34,
    "start_time": "2021-07-11T09:24:34.260Z"
   },
   {
    "duration": 138,
    "start_time": "2021-07-11T09:24:34.296Z"
   },
   {
    "duration": 11,
    "start_time": "2021-07-11T09:24:34.435Z"
   },
   {
    "duration": 12,
    "start_time": "2021-07-11T09:24:34.448Z"
   },
   {
    "duration": 30,
    "start_time": "2021-07-11T09:24:34.462Z"
   },
   {
    "duration": 7,
    "start_time": "2021-07-11T09:24:34.493Z"
   },
   {
    "duration": 6,
    "start_time": "2021-07-11T09:24:34.502Z"
   },
   {
    "duration": 5,
    "start_time": "2021-07-11T09:24:34.510Z"
   },
   {
    "duration": 5,
    "start_time": "2021-07-11T09:24:34.516Z"
   },
   {
    "duration": 9,
    "start_time": "2021-07-11T09:24:34.523Z"
   },
   {
    "duration": 22,
    "start_time": "2021-07-11T09:24:34.534Z"
   },
   {
    "duration": 37,
    "start_time": "2021-07-11T09:24:34.557Z"
   },
   {
    "duration": 14,
    "start_time": "2021-07-11T09:24:34.596Z"
   },
   {
    "duration": 18,
    "start_time": "2021-07-11T09:24:34.611Z"
   },
   {
    "duration": 20,
    "start_time": "2021-07-11T09:24:44.933Z"
   },
   {
    "duration": 7,
    "start_time": "2021-07-11T09:28:38.285Z"
   },
   {
    "duration": 89,
    "start_time": "2021-07-11T09:28:51.404Z"
   },
   {
    "duration": 14,
    "start_time": "2021-07-11T09:28:56.381Z"
   },
   {
    "duration": 8,
    "start_time": "2021-07-11T09:29:06.454Z"
   },
   {
    "duration": 9,
    "start_time": "2021-07-11T09:29:19.895Z"
   },
   {
    "duration": 302,
    "start_time": "2021-07-11T09:30:24.944Z"
   },
   {
    "duration": 7,
    "start_time": "2021-07-11T09:30:26.979Z"
   },
   {
    "duration": 134,
    "start_time": "2021-07-11T09:30:27.233Z"
   },
   {
    "duration": 162,
    "start_time": "2021-07-11T09:31:31.807Z"
   },
   {
    "duration": 234,
    "start_time": "2021-07-11T09:31:39.640Z"
   },
   {
    "duration": 76,
    "start_time": "2021-07-11T09:32:06.412Z"
   },
   {
    "duration": 208,
    "start_time": "2021-07-11T09:32:14.425Z"
   },
   {
    "duration": 5,
    "start_time": "2021-07-11T09:32:27.635Z"
   },
   {
    "duration": 4,
    "start_time": "2021-07-11T09:32:44.199Z"
   },
   {
    "duration": 14,
    "start_time": "2021-07-11T09:33:30.635Z"
   },
   {
    "duration": 19,
    "start_time": "2021-07-11T09:34:51.074Z"
   },
   {
    "duration": 8,
    "start_time": "2021-07-11T09:35:44.511Z"
   },
   {
    "duration": 4,
    "start_time": "2021-07-11T09:36:11.225Z"
   },
   {
    "duration": 625,
    "start_time": "2021-07-11T09:37:37.623Z"
   },
   {
    "duration": 246,
    "start_time": "2021-07-11T09:38:37.614Z"
   },
   {
    "duration": 12,
    "start_time": "2021-07-11T09:38:43.748Z"
   },
   {
    "duration": 12,
    "start_time": "2021-07-11T09:42:02.663Z"
   },
   {
    "duration": 13,
    "start_time": "2021-07-11T09:42:21.343Z"
   },
   {
    "duration": 295,
    "start_time": "2021-07-11T09:43:02.245Z"
   },
   {
    "duration": 4,
    "start_time": "2021-07-11T09:43:14.865Z"
   },
   {
    "duration": 6,
    "start_time": "2021-07-11T09:43:28.026Z"
   },
   {
    "duration": 13,
    "start_time": "2021-07-11T09:43:58.310Z"
   },
   {
    "duration": 13,
    "start_time": "2021-07-11T09:44:02.171Z"
   },
   {
    "duration": 11,
    "start_time": "2021-07-11T09:44:36.433Z"
   },
   {
    "duration": 13,
    "start_time": "2021-07-11T09:46:09.151Z"
   },
   {
    "duration": 5,
    "start_time": "2021-07-11T09:46:16.727Z"
   },
   {
    "duration": 5,
    "start_time": "2021-07-11T09:46:26.450Z"
   },
   {
    "duration": 5,
    "start_time": "2021-07-11T09:46:47.290Z"
   },
   {
    "duration": 4,
    "start_time": "2021-07-11T09:47:09.652Z"
   },
   {
    "duration": 5,
    "start_time": "2021-07-11T09:47:54.515Z"
   },
   {
    "duration": 5,
    "start_time": "2021-07-11T09:48:01.151Z"
   },
   {
    "duration": 14,
    "start_time": "2021-07-11T09:48:24.075Z"
   },
   {
    "duration": 8,
    "start_time": "2021-07-11T09:48:28.819Z"
   },
   {
    "duration": 9,
    "start_time": "2021-07-11T09:48:30.662Z"
   },
   {
    "duration": 7,
    "start_time": "2021-07-11T09:48:31.220Z"
   },
   {
    "duration": 14,
    "start_time": "2021-07-11T09:48:32.497Z"
   },
   {
    "duration": 5,
    "start_time": "2021-07-11T09:48:33.802Z"
   },
   {
    "duration": 82,
    "start_time": "2021-07-11T09:59:48.137Z"
   },
   {
    "duration": 87,
    "start_time": "2021-07-11T10:00:48.791Z"
   },
   {
    "duration": 85,
    "start_time": "2021-07-11T10:05:57.879Z"
   },
   {
    "duration": 188,
    "start_time": "2021-07-11T10:06:41.137Z"
   },
   {
    "duration": 10,
    "start_time": "2021-07-11T10:07:38.772Z"
   },
   {
    "duration": 9,
    "start_time": "2021-07-11T10:07:43.767Z"
   },
   {
    "duration": 7,
    "start_time": "2021-07-11T10:08:05.398Z"
   },
   {
    "duration": 12,
    "start_time": "2021-07-11T10:08:11.282Z"
   },
   {
    "duration": 10,
    "start_time": "2021-07-11T10:08:27.772Z"
   },
   {
    "duration": 170,
    "start_time": "2021-07-11T10:08:50.948Z"
   },
   {
    "duration": 248,
    "start_time": "2021-07-11T10:09:15.030Z"
   },
   {
    "duration": 185,
    "start_time": "2021-07-11T10:09:19.220Z"
   },
   {
    "duration": 8,
    "start_time": "2021-07-11T10:09:24.872Z"
   },
   {
    "duration": 219,
    "start_time": "2021-07-11T10:09:28.179Z"
   },
   {
    "duration": 12,
    "start_time": "2021-07-11T10:09:31.324Z"
   },
   {
    "duration": 194,
    "start_time": "2021-07-11T10:09:31.794Z"
   },
   {
    "duration": 9,
    "start_time": "2021-07-11T10:09:38.252Z"
   },
   {
    "duration": 8,
    "start_time": "2021-07-11T10:09:39.076Z"
   },
   {
    "duration": 171,
    "start_time": "2021-07-11T10:09:39.702Z"
   },
   {
    "duration": 11,
    "start_time": "2021-07-11T10:09:45.760Z"
   },
   {
    "duration": 9,
    "start_time": "2021-07-11T10:09:50.132Z"
   },
   {
    "duration": 254,
    "start_time": "2021-07-11T10:10:06.530Z"
   },
   {
    "duration": 10,
    "start_time": "2021-07-11T10:10:21.387Z"
   },
   {
    "duration": 9,
    "start_time": "2021-07-11T10:10:25.243Z"
   },
   {
    "duration": 74,
    "start_time": "2021-07-11T10:21:07.726Z"
   },
   {
    "duration": 79,
    "start_time": "2021-07-11T10:27:26.948Z"
   },
   {
    "duration": 5,
    "start_time": "2021-07-11T10:31:57.118Z"
   },
   {
    "duration": 74,
    "start_time": "2021-07-11T10:36:55.574Z"
   },
   {
    "duration": 170,
    "start_time": "2021-07-11T10:39:05.273Z"
   },
   {
    "duration": 412,
    "start_time": "2021-07-11T10:39:54.761Z"
   },
   {
    "duration": 261,
    "start_time": "2021-07-11T10:40:23.112Z"
   },
   {
    "duration": 159,
    "start_time": "2021-07-11T10:40:27.842Z"
   },
   {
    "duration": 166,
    "start_time": "2021-07-11T10:40:42.023Z"
   },
   {
    "duration": 244,
    "start_time": "2021-07-11T10:40:54.006Z"
   },
   {
    "duration": 216,
    "start_time": "2021-07-11T10:41:17.906Z"
   },
   {
    "duration": 195,
    "start_time": "2021-07-11T10:41:24.942Z"
   },
   {
    "duration": 177,
    "start_time": "2021-07-11T10:41:28.696Z"
   },
   {
    "duration": 180,
    "start_time": "2021-07-11T10:41:40.238Z"
   },
   {
    "duration": 177,
    "start_time": "2021-07-11T10:41:44.704Z"
   },
   {
    "duration": 183,
    "start_time": "2021-07-11T10:42:04.985Z"
   },
   {
    "duration": 193,
    "start_time": "2021-07-11T10:42:57.046Z"
   },
   {
    "duration": 194,
    "start_time": "2021-07-11T10:43:34.459Z"
   },
   {
    "duration": 80,
    "start_time": "2021-07-11T10:44:28.642Z"
   },
   {
    "duration": 13,
    "start_time": "2021-07-11T11:40:19.324Z"
   },
   {
    "duration": 12,
    "start_time": "2021-07-11T11:40:25.587Z"
   },
   {
    "duration": 13,
    "start_time": "2021-07-11T11:40:49.515Z"
   },
   {
    "duration": 1060,
    "start_time": "2021-07-11T12:09:58.169Z"
   },
   {
    "duration": 66,
    "start_time": "2021-07-11T12:09:59.231Z"
   },
   {
    "duration": 31,
    "start_time": "2021-07-11T12:09:59.299Z"
   },
   {
    "duration": 6,
    "start_time": "2021-07-11T12:09:59.332Z"
   },
   {
    "duration": 12,
    "start_time": "2021-07-11T12:09:59.340Z"
   },
   {
    "duration": 5,
    "start_time": "2021-07-11T12:09:59.354Z"
   },
   {
    "duration": 47,
    "start_time": "2021-07-11T12:09:59.361Z"
   },
   {
    "duration": 13,
    "start_time": "2021-07-11T12:09:59.411Z"
   },
   {
    "duration": 11,
    "start_time": "2021-07-11T12:09:59.426Z"
   },
   {
    "duration": 4,
    "start_time": "2021-07-11T12:09:59.439Z"
   },
   {
    "duration": 7,
    "start_time": "2021-07-11T12:09:59.445Z"
   },
   {
    "duration": 42,
    "start_time": "2021-07-11T12:09:59.453Z"
   },
   {
    "duration": 83,
    "start_time": "2021-07-11T12:09:59.496Z"
   },
   {
    "duration": 30,
    "start_time": "2021-07-11T12:09:59.581Z"
   },
   {
    "duration": 6,
    "start_time": "2021-07-11T12:09:59.613Z"
   },
   {
    "duration": 14,
    "start_time": "2021-07-11T12:09:59.621Z"
   },
   {
    "duration": 5,
    "start_time": "2021-07-11T12:09:59.636Z"
   },
   {
    "duration": 11,
    "start_time": "2021-07-11T12:09:59.643Z"
   },
   {
    "duration": 319,
    "start_time": "2021-07-11T12:09:59.656Z"
   },
   {
    "duration": 7,
    "start_time": "2021-07-11T12:09:59.976Z"
   },
   {
    "duration": 4,
    "start_time": "2021-07-11T12:09:59.991Z"
   },
   {
    "duration": 316,
    "start_time": "2021-07-11T12:09:59.997Z"
   },
   {
    "duration": 410,
    "start_time": "2021-07-11T12:10:00.316Z"
   },
   {
    "duration": 100,
    "start_time": "2021-07-11T12:10:00.728Z"
   },
   {
    "duration": 150,
    "start_time": "2021-07-11T12:10:00.830Z"
   },
   {
    "duration": 78,
    "start_time": "2021-07-11T12:10:00.982Z"
   },
   {
    "duration": 9,
    "start_time": "2021-07-11T12:10:01.062Z"
   },
   {
    "duration": 22,
    "start_time": "2021-07-11T12:10:01.072Z"
   },
   {
    "duration": 34,
    "start_time": "2021-07-11T12:10:01.096Z"
   },
   {
    "duration": 149,
    "start_time": "2021-07-11T12:10:01.131Z"
   },
   {
    "duration": 18,
    "start_time": "2021-07-11T12:10:01.281Z"
   },
   {
    "duration": 7,
    "start_time": "2021-07-11T12:10:01.300Z"
   },
   {
    "duration": 29,
    "start_time": "2021-07-11T12:10:01.308Z"
   },
   {
    "duration": 2342,
    "start_time": "2021-07-11T12:10:01.338Z"
   },
   {
    "duration": 63,
    "start_time": "2021-07-11T12:10:03.681Z"
   },
   {
    "duration": 193,
    "start_time": "2021-07-11T12:10:03.746Z"
   },
   {
    "duration": 36,
    "start_time": "2021-07-11T12:10:03.941Z"
   },
   {
    "duration": 42,
    "start_time": "2021-07-11T12:10:03.978Z"
   },
   {
    "duration": 11,
    "start_time": "2021-07-11T12:10:04.021Z"
   },
   {
    "duration": 10,
    "start_time": "2021-07-11T12:10:04.034Z"
   },
   {
    "duration": 10,
    "start_time": "2021-07-11T12:10:04.046Z"
   },
   {
    "duration": 62,
    "start_time": "2021-07-11T12:10:04.058Z"
   },
   {
    "duration": 8,
    "start_time": "2021-07-11T12:10:04.121Z"
   },
   {
    "duration": 139,
    "start_time": "2021-07-11T12:10:04.131Z"
   },
   {
    "duration": 20,
    "start_time": "2021-07-11T12:10:04.272Z"
   },
   {
    "duration": 14,
    "start_time": "2021-07-11T12:10:04.294Z"
   },
   {
    "duration": 15,
    "start_time": "2021-07-11T12:10:04.309Z"
   },
   {
    "duration": 9,
    "start_time": "2021-07-11T12:10:04.325Z"
   },
   {
    "duration": 7,
    "start_time": "2021-07-11T12:10:04.335Z"
   },
   {
    "duration": 7,
    "start_time": "2021-07-11T12:10:04.344Z"
   },
   {
    "duration": 6,
    "start_time": "2021-07-11T12:10:04.353Z"
   },
   {
    "duration": 33,
    "start_time": "2021-07-11T12:10:04.360Z"
   },
   {
    "duration": 9,
    "start_time": "2021-07-11T12:10:04.395Z"
   },
   {
    "duration": 5,
    "start_time": "2021-07-11T12:10:04.406Z"
   },
   {
    "duration": 14,
    "start_time": "2021-07-11T12:10:04.413Z"
   },
   {
    "duration": 4,
    "start_time": "2021-07-11T12:10:04.429Z"
   },
   {
    "duration": 1074,
    "start_time": "2021-07-11T12:11:00.450Z"
   },
   {
    "duration": 65,
    "start_time": "2021-07-11T12:11:01.526Z"
   },
   {
    "duration": 31,
    "start_time": "2021-07-11T12:11:01.593Z"
   },
   {
    "duration": 6,
    "start_time": "2021-07-11T12:11:01.625Z"
   },
   {
    "duration": 12,
    "start_time": "2021-07-11T12:11:01.632Z"
   },
   {
    "duration": 4,
    "start_time": "2021-07-11T12:11:01.646Z"
   },
   {
    "duration": 49,
    "start_time": "2021-07-11T12:11:01.652Z"
   },
   {
    "duration": 12,
    "start_time": "2021-07-11T12:11:01.703Z"
   },
   {
    "duration": 9,
    "start_time": "2021-07-11T12:11:01.717Z"
   },
   {
    "duration": 4,
    "start_time": "2021-07-11T12:11:01.728Z"
   },
   {
    "duration": 6,
    "start_time": "2021-07-11T12:11:01.733Z"
   },
   {
    "duration": 9,
    "start_time": "2021-07-11T12:11:01.741Z"
   },
   {
    "duration": 109,
    "start_time": "2021-07-11T12:11:01.752Z"
   },
   {
    "duration": 22,
    "start_time": "2021-07-11T12:11:01.862Z"
   },
   {
    "duration": 4,
    "start_time": "2021-07-11T12:11:01.891Z"
   },
   {
    "duration": 14,
    "start_time": "2021-07-11T12:11:01.896Z"
   },
   {
    "duration": 4,
    "start_time": "2021-07-11T12:11:01.912Z"
   },
   {
    "duration": 15,
    "start_time": "2021-07-11T12:11:01.918Z"
   },
   {
    "duration": 314,
    "start_time": "2021-07-11T12:11:01.934Z"
   },
   {
    "duration": 6,
    "start_time": "2021-07-11T12:11:02.250Z"
   },
   {
    "duration": 7,
    "start_time": "2021-07-11T12:11:02.257Z"
   },
   {
    "duration": 325,
    "start_time": "2021-07-11T12:11:02.265Z"
   },
   {
    "duration": 401,
    "start_time": "2021-07-11T12:11:02.593Z"
   },
   {
    "duration": 82,
    "start_time": "2021-07-11T12:11:02.996Z"
   },
   {
    "duration": 136,
    "start_time": "2021-07-11T12:11:03.091Z"
   },
   {
    "duration": 80,
    "start_time": "2021-07-11T12:11:03.228Z"
   },
   {
    "duration": 8,
    "start_time": "2021-07-11T12:11:03.309Z"
   },
   {
    "duration": 7,
    "start_time": "2021-07-11T12:11:03.319Z"
   },
   {
    "duration": 35,
    "start_time": "2021-07-11T12:11:03.327Z"
   },
   {
    "duration": 166,
    "start_time": "2021-07-11T12:11:03.364Z"
   },
   {
    "duration": 11,
    "start_time": "2021-07-11T12:11:03.532Z"
   },
   {
    "duration": 4,
    "start_time": "2021-07-11T12:11:03.544Z"
   },
   {
    "duration": 20,
    "start_time": "2021-07-11T12:11:03.550Z"
   },
   {
    "duration": 2364,
    "start_time": "2021-07-11T12:11:03.572Z"
   },
   {
    "duration": 70,
    "start_time": "2021-07-11T12:11:05.938Z"
   },
   {
    "duration": 195,
    "start_time": "2021-07-11T12:11:06.009Z"
   },
   {
    "duration": 37,
    "start_time": "2021-07-11T12:11:06.206Z"
   },
   {
    "duration": 55,
    "start_time": "2021-07-11T12:11:06.245Z"
   },
   {
    "duration": 13,
    "start_time": "2021-07-11T12:11:06.302Z"
   },
   {
    "duration": 13,
    "start_time": "2021-07-11T12:11:06.316Z"
   },
   {
    "duration": 13,
    "start_time": "2021-07-11T12:11:06.330Z"
   },
   {
    "duration": 63,
    "start_time": "2021-07-11T12:11:06.345Z"
   },
   {
    "duration": 10,
    "start_time": "2021-07-11T12:11:06.410Z"
   },
   {
    "duration": 148,
    "start_time": "2021-07-11T12:11:06.422Z"
   },
   {
    "duration": 22,
    "start_time": "2021-07-11T12:11:06.572Z"
   },
   {
    "duration": 12,
    "start_time": "2021-07-11T12:11:06.596Z"
   },
   {
    "duration": 13,
    "start_time": "2021-07-11T12:11:06.610Z"
   },
   {
    "duration": 8,
    "start_time": "2021-07-11T12:11:06.624Z"
   },
   {
    "duration": 6,
    "start_time": "2021-07-11T12:11:06.633Z"
   },
   {
    "duration": 6,
    "start_time": "2021-07-11T12:11:06.641Z"
   },
   {
    "duration": 7,
    "start_time": "2021-07-11T12:11:06.648Z"
   },
   {
    "duration": 8,
    "start_time": "2021-07-11T12:11:06.656Z"
   },
   {
    "duration": 31,
    "start_time": "2021-07-11T12:11:06.665Z"
   },
   {
    "duration": 5,
    "start_time": "2021-07-11T12:11:06.697Z"
   },
   {
    "duration": 15,
    "start_time": "2021-07-11T12:11:06.703Z"
   },
   {
    "duration": 4,
    "start_time": "2021-07-11T12:11:06.719Z"
   },
   {
    "duration": 313,
    "start_time": "2021-07-11T12:18:57.801Z"
   },
   {
    "duration": 259,
    "start_time": "2021-07-11T12:19:01.390Z"
   },
   {
    "duration": 241,
    "start_time": "2021-07-11T12:19:06.362Z"
   },
   {
    "duration": 24,
    "start_time": "2021-07-11T12:19:09.387Z"
   },
   {
    "duration": 41,
    "start_time": "2021-07-11T12:19:12.454Z"
   },
   {
    "duration": 36,
    "start_time": "2021-07-11T12:20:14.743Z"
   },
   {
    "duration": 32,
    "start_time": "2021-07-11T12:20:23.394Z"
   },
   {
    "duration": 32,
    "start_time": "2021-07-11T12:20:27.798Z"
   },
   {
    "duration": 251,
    "start_time": "2021-07-11T12:22:30.851Z"
   },
   {
    "duration": 82,
    "start_time": "2021-07-11T12:22:54.830Z"
   },
   {
    "duration": 239,
    "start_time": "2021-07-11T12:22:58.813Z"
   },
   {
    "duration": 246,
    "start_time": "2021-07-11T12:23:12.575Z"
   },
   {
    "duration": 246,
    "start_time": "2021-07-11T12:23:24.040Z"
   },
   {
    "duration": 38,
    "start_time": "2021-07-11T12:24:32.725Z"
   },
   {
    "duration": 37,
    "start_time": "2021-07-11T12:24:32.957Z"
   },
   {
    "duration": 13,
    "start_time": "2021-07-11T12:24:33.138Z"
   },
   {
    "duration": 13,
    "start_time": "2021-07-11T12:24:33.499Z"
   },
   {
    "duration": 13,
    "start_time": "2021-07-11T12:24:33.681Z"
   },
   {
    "duration": 36,
    "start_time": "2021-07-11T12:24:34.054Z"
   },
   {
    "duration": 10,
    "start_time": "2021-07-11T12:24:34.447Z"
   },
   {
    "duration": 134,
    "start_time": "2021-07-11T12:24:34.625Z"
   },
   {
    "duration": 76,
    "start_time": "2021-07-11T12:29:07.296Z"
   },
   {
    "duration": 76,
    "start_time": "2021-07-11T12:30:14.471Z"
   },
   {
    "duration": 85,
    "start_time": "2021-07-11T12:33:06.911Z"
   },
   {
    "duration": 5,
    "start_time": "2021-07-11T12:34:48.493Z"
   },
   {
    "duration": 4,
    "start_time": "2021-07-11T12:35:08.711Z"
   },
   {
    "duration": 5,
    "start_time": "2021-07-11T12:35:09.143Z"
   },
   {
    "duration": 4,
    "start_time": "2021-07-11T12:35:21.476Z"
   },
   {
    "duration": 4,
    "start_time": "2021-07-11T12:35:21.890Z"
   },
   {
    "duration": 4,
    "start_time": "2021-07-11T12:35:33.086Z"
   },
   {
    "duration": 5,
    "start_time": "2021-07-11T12:35:33.351Z"
   },
   {
    "duration": 3,
    "start_time": "2021-07-11T12:36:24.987Z"
   },
   {
    "duration": 246,
    "start_time": "2021-07-11T12:36:39.551Z"
   },
   {
    "duration": 3,
    "start_time": "2021-07-11T12:36:48.244Z"
   },
   {
    "duration": 234,
    "start_time": "2021-07-11T12:36:48.835Z"
   },
   {
    "duration": 4,
    "start_time": "2021-07-11T12:37:55.012Z"
   },
   {
    "duration": 4,
    "start_time": "2021-07-11T12:38:15.061Z"
   },
   {
    "duration": 3,
    "start_time": "2021-07-11T12:38:28.614Z"
   },
   {
    "duration": 4,
    "start_time": "2021-07-11T12:38:28.977Z"
   },
   {
    "duration": 4,
    "start_time": "2021-07-11T12:39:50.624Z"
   },
   {
    "duration": 4,
    "start_time": "2021-07-11T12:40:02.643Z"
   },
   {
    "duration": 4,
    "start_time": "2021-07-11T12:40:06.464Z"
   },
   {
    "duration": 5,
    "start_time": "2021-07-11T12:41:03.486Z"
   },
   {
    "duration": 5,
    "start_time": "2021-07-11T12:41:13.628Z"
   },
   {
    "duration": 5,
    "start_time": "2021-07-11T12:41:48.058Z"
   },
   {
    "duration": 6,
    "start_time": "2021-07-11T12:41:52.465Z"
   },
   {
    "duration": 231,
    "start_time": "2021-07-11T12:42:02.551Z"
   },
   {
    "duration": 246,
    "start_time": "2021-07-11T12:42:05.235Z"
   },
   {
    "duration": 5,
    "start_time": "2021-07-11T12:42:10.087Z"
   },
   {
    "duration": 3,
    "start_time": "2021-07-11T12:44:10.724Z"
   },
   {
    "duration": 226,
    "start_time": "2021-07-11T12:44:25.458Z"
   },
   {
    "duration": 5,
    "start_time": "2021-07-11T12:44:29.490Z"
   },
   {
    "duration": 5,
    "start_time": "2021-07-11T12:44:36.040Z"
   },
   {
    "duration": 4,
    "start_time": "2021-07-11T12:44:40.063Z"
   },
   {
    "duration": 8,
    "start_time": "2021-07-11T12:46:29.295Z"
   },
   {
    "duration": 6,
    "start_time": "2021-07-11T12:46:29.318Z"
   },
   {
    "duration": 1036,
    "start_time": "2021-07-11T12:46:45.986Z"
   },
   {
    "duration": 67,
    "start_time": "2021-07-11T12:46:47.024Z"
   },
   {
    "duration": 31,
    "start_time": "2021-07-11T12:46:47.093Z"
   },
   {
    "duration": 16,
    "start_time": "2021-07-11T12:46:47.126Z"
   },
   {
    "duration": 21,
    "start_time": "2021-07-11T12:46:47.143Z"
   },
   {
    "duration": 10,
    "start_time": "2021-07-11T12:46:47.166Z"
   },
   {
    "duration": 54,
    "start_time": "2021-07-11T12:46:47.177Z"
   },
   {
    "duration": 12,
    "start_time": "2021-07-11T12:46:47.233Z"
   },
   {
    "duration": 15,
    "start_time": "2021-07-11T12:46:47.247Z"
   },
   {
    "duration": 12,
    "start_time": "2021-07-11T12:46:47.263Z"
   },
   {
    "duration": 6,
    "start_time": "2021-07-11T12:46:47.276Z"
   },
   {
    "duration": 13,
    "start_time": "2021-07-11T12:46:47.284Z"
   },
   {
    "duration": 85,
    "start_time": "2021-07-11T12:46:47.298Z"
   },
   {
    "duration": 24,
    "start_time": "2021-07-11T12:46:47.385Z"
   },
   {
    "duration": 16,
    "start_time": "2021-07-11T12:46:47.411Z"
   },
   {
    "duration": 18,
    "start_time": "2021-07-11T12:46:47.429Z"
   },
   {
    "duration": 7,
    "start_time": "2021-07-11T12:46:47.448Z"
   },
   {
    "duration": 24,
    "start_time": "2021-07-11T12:46:47.457Z"
   },
   {
    "duration": 304,
    "start_time": "2021-07-11T12:46:47.483Z"
   },
   {
    "duration": 7,
    "start_time": "2021-07-11T12:46:47.788Z"
   },
   {
    "duration": 19,
    "start_time": "2021-07-11T12:46:47.797Z"
   },
   {
    "duration": 323,
    "start_time": "2021-07-11T12:46:47.818Z"
   },
   {
    "duration": 409,
    "start_time": "2021-07-11T12:46:48.144Z"
   },
   {
    "duration": 96,
    "start_time": "2021-07-11T12:46:48.556Z"
   },
   {
    "duration": 149,
    "start_time": "2021-07-11T12:46:48.653Z"
   },
   {
    "duration": 74,
    "start_time": "2021-07-11T12:46:48.803Z"
   },
   {
    "duration": 18,
    "start_time": "2021-07-11T12:46:48.878Z"
   },
   {
    "duration": 9,
    "start_time": "2021-07-11T12:46:48.897Z"
   },
   {
    "duration": 34,
    "start_time": "2021-07-11T12:46:48.908Z"
   },
   {
    "duration": 166,
    "start_time": "2021-07-11T12:46:48.944Z"
   },
   {
    "duration": 12,
    "start_time": "2021-07-11T12:46:49.112Z"
   },
   {
    "duration": 4,
    "start_time": "2021-07-11T12:46:49.126Z"
   },
   {
    "duration": 22,
    "start_time": "2021-07-11T12:46:49.132Z"
   },
   {
    "duration": 2369,
    "start_time": "2021-07-11T12:46:49.156Z"
   },
   {
    "duration": 71,
    "start_time": "2021-07-11T12:46:51.528Z"
   },
   {
    "duration": 196,
    "start_time": "2021-07-11T12:46:51.600Z"
   },
   {
    "duration": 37,
    "start_time": "2021-07-11T12:46:51.797Z"
   },
   {
    "duration": 38,
    "start_time": "2021-07-11T12:46:51.835Z"
   },
   {
    "duration": 28,
    "start_time": "2021-07-11T12:46:51.875Z"
   },
   {
    "duration": 13,
    "start_time": "2021-07-11T12:46:51.905Z"
   },
   {
    "duration": 13,
    "start_time": "2021-07-11T12:46:51.920Z"
   },
   {
    "duration": 65,
    "start_time": "2021-07-11T12:46:51.935Z"
   },
   {
    "duration": 10,
    "start_time": "2021-07-11T12:46:52.001Z"
   },
   {
    "duration": 172,
    "start_time": "2021-07-11T12:46:52.013Z"
   },
   {
    "duration": 11,
    "start_time": "2021-07-11T12:46:52.191Z"
   },
   {
    "duration": 13,
    "start_time": "2021-07-11T12:46:52.204Z"
   },
   {
    "duration": 14,
    "start_time": "2021-07-11T12:46:52.218Z"
   },
   {
    "duration": 7,
    "start_time": "2021-07-11T12:46:52.234Z"
   },
   {
    "duration": 8,
    "start_time": "2021-07-11T12:46:52.243Z"
   },
   {
    "duration": 10,
    "start_time": "2021-07-11T12:46:52.253Z"
   },
   {
    "duration": 28,
    "start_time": "2021-07-11T12:46:52.264Z"
   },
   {
    "duration": 303,
    "start_time": "2021-07-11T12:46:52.293Z"
   },
   {
    "duration": 21,
    "start_time": "2021-07-11T12:46:52.576Z"
   },
   {
    "duration": 19,
    "start_time": "2021-07-11T12:46:52.579Z"
   },
   {
    "duration": 20,
    "start_time": "2021-07-11T12:46:52.580Z"
   },
   {
    "duration": 5,
    "start_time": "2021-07-11T12:47:10.440Z"
   },
   {
    "duration": 7,
    "start_time": "2021-07-11T12:47:13.174Z"
   },
   {
    "duration": 6,
    "start_time": "2021-07-11T12:47:13.563Z"
   },
   {
    "duration": 13,
    "start_time": "2021-07-11T12:47:13.777Z"
   },
   {
    "duration": 5,
    "start_time": "2021-07-11T12:47:13.938Z"
   },
   {
    "duration": 1020,
    "start_time": "2021-07-11T12:47:26.401Z"
   },
   {
    "duration": 65,
    "start_time": "2021-07-11T12:47:27.423Z"
   },
   {
    "duration": 30,
    "start_time": "2021-07-11T12:47:27.490Z"
   },
   {
    "duration": 10,
    "start_time": "2021-07-11T12:47:27.522Z"
   },
   {
    "duration": 12,
    "start_time": "2021-07-11T12:47:27.534Z"
   },
   {
    "duration": 5,
    "start_time": "2021-07-11T12:47:27.547Z"
   },
   {
    "duration": 49,
    "start_time": "2021-07-11T12:47:27.553Z"
   },
   {
    "duration": 12,
    "start_time": "2021-07-11T12:47:27.604Z"
   },
   {
    "duration": 11,
    "start_time": "2021-07-11T12:47:27.618Z"
   },
   {
    "duration": 4,
    "start_time": "2021-07-11T12:47:27.631Z"
   },
   {
    "duration": 6,
    "start_time": "2021-07-11T12:47:27.637Z"
   },
   {
    "duration": 9,
    "start_time": "2021-07-11T12:47:27.645Z"
   },
   {
    "duration": 99,
    "start_time": "2021-07-11T12:47:27.656Z"
   },
   {
    "duration": 22,
    "start_time": "2021-07-11T12:47:27.756Z"
   },
   {
    "duration": 17,
    "start_time": "2021-07-11T12:47:27.779Z"
   },
   {
    "duration": 12,
    "start_time": "2021-07-11T12:47:27.797Z"
   },
   {
    "duration": 4,
    "start_time": "2021-07-11T12:47:27.811Z"
   },
   {
    "duration": 15,
    "start_time": "2021-07-11T12:47:27.816Z"
   },
   {
    "duration": 313,
    "start_time": "2021-07-11T12:47:27.832Z"
   },
   {
    "duration": 6,
    "start_time": "2021-07-11T12:47:28.147Z"
   },
   {
    "duration": 6,
    "start_time": "2021-07-11T12:47:28.154Z"
   },
   {
    "duration": 311,
    "start_time": "2021-07-11T12:47:28.162Z"
   },
   {
    "duration": 392,
    "start_time": "2021-07-11T12:47:28.475Z"
   },
   {
    "duration": 91,
    "start_time": "2021-07-11T12:47:28.869Z"
   },
   {
    "duration": 145,
    "start_time": "2021-07-11T12:47:28.962Z"
   },
   {
    "duration": 83,
    "start_time": "2021-07-11T12:47:29.108Z"
   },
   {
    "duration": 9,
    "start_time": "2021-07-11T12:47:29.194Z"
   },
   {
    "duration": 9,
    "start_time": "2021-07-11T12:47:29.205Z"
   },
   {
    "duration": 40,
    "start_time": "2021-07-11T12:47:29.215Z"
   },
   {
    "duration": 145,
    "start_time": "2021-07-11T12:47:29.256Z"
   },
   {
    "duration": 11,
    "start_time": "2021-07-11T12:47:29.402Z"
   },
   {
    "duration": 12,
    "start_time": "2021-07-11T12:47:29.414Z"
   },
   {
    "duration": 34,
    "start_time": "2021-07-11T12:47:29.428Z"
   },
   {
    "duration": 2306,
    "start_time": "2021-07-11T12:47:29.464Z"
   },
   {
    "duration": 66,
    "start_time": "2021-07-11T12:47:31.772Z"
   },
   {
    "duration": 195,
    "start_time": "2021-07-11T12:47:31.839Z"
   },
   {
    "duration": 37,
    "start_time": "2021-07-11T12:47:32.035Z"
   },
   {
    "duration": 47,
    "start_time": "2021-07-11T12:47:32.073Z"
   },
   {
    "duration": 12,
    "start_time": "2021-07-11T12:47:32.121Z"
   },
   {
    "duration": 16,
    "start_time": "2021-07-11T12:47:32.134Z"
   },
   {
    "duration": 13,
    "start_time": "2021-07-11T12:47:32.151Z"
   },
   {
    "duration": 54,
    "start_time": "2021-07-11T12:47:32.165Z"
   },
   {
    "duration": 9,
    "start_time": "2021-07-11T12:47:32.220Z"
   },
   {
    "duration": 144,
    "start_time": "2021-07-11T12:47:32.230Z"
   },
   {
    "duration": 18,
    "start_time": "2021-07-11T12:47:32.376Z"
   },
   {
    "duration": 14,
    "start_time": "2021-07-11T12:47:32.396Z"
   },
   {
    "duration": 14,
    "start_time": "2021-07-11T12:47:32.411Z"
   },
   {
    "duration": 8,
    "start_time": "2021-07-11T12:47:32.426Z"
   },
   {
    "duration": 7,
    "start_time": "2021-07-11T12:47:32.435Z"
   },
   {
    "duration": 12,
    "start_time": "2021-07-11T12:47:32.443Z"
   },
   {
    "duration": 13,
    "start_time": "2021-07-11T12:47:32.457Z"
   },
   {
    "duration": 7,
    "start_time": "2021-07-11T12:47:32.491Z"
   },
   {
    "duration": 9,
    "start_time": "2021-07-11T12:47:32.499Z"
   },
   {
    "duration": 17,
    "start_time": "2021-07-11T12:47:32.509Z"
   },
   {
    "duration": 9,
    "start_time": "2021-07-11T12:47:32.527Z"
   },
   {
    "duration": 1069,
    "start_time": "2021-07-11T12:48:05.956Z"
   },
   {
    "duration": 65,
    "start_time": "2021-07-11T12:48:07.026Z"
   },
   {
    "duration": 29,
    "start_time": "2021-07-11T12:48:07.093Z"
   },
   {
    "duration": 4,
    "start_time": "2021-07-11T12:48:07.124Z"
   },
   {
    "duration": 12,
    "start_time": "2021-07-11T12:48:07.129Z"
   },
   {
    "duration": 5,
    "start_time": "2021-07-11T12:48:07.143Z"
   },
   {
    "duration": 48,
    "start_time": "2021-07-11T12:48:07.149Z"
   },
   {
    "duration": 13,
    "start_time": "2021-07-11T12:48:07.199Z"
   },
   {
    "duration": 9,
    "start_time": "2021-07-11T12:48:07.214Z"
   },
   {
    "duration": 4,
    "start_time": "2021-07-11T12:48:07.224Z"
   },
   {
    "duration": 6,
    "start_time": "2021-07-11T12:48:07.230Z"
   },
   {
    "duration": 10,
    "start_time": "2021-07-11T12:48:07.237Z"
   },
   {
    "duration": 106,
    "start_time": "2021-07-11T12:48:07.248Z"
   },
   {
    "duration": 21,
    "start_time": "2021-07-11T12:48:07.356Z"
   },
   {
    "duration": 13,
    "start_time": "2021-07-11T12:48:07.378Z"
   },
   {
    "duration": 11,
    "start_time": "2021-07-11T12:48:07.393Z"
   },
   {
    "duration": 5,
    "start_time": "2021-07-11T12:48:07.406Z"
   },
   {
    "duration": 14,
    "start_time": "2021-07-11T12:48:07.413Z"
   },
   {
    "duration": 325,
    "start_time": "2021-07-11T12:48:07.428Z"
   },
   {
    "duration": 8,
    "start_time": "2021-07-11T12:48:07.754Z"
   },
   {
    "duration": 7,
    "start_time": "2021-07-11T12:48:07.764Z"
   },
   {
    "duration": 318,
    "start_time": "2021-07-11T12:48:07.773Z"
   },
   {
    "duration": 405,
    "start_time": "2021-07-11T12:48:08.095Z"
   },
   {
    "duration": 95,
    "start_time": "2021-07-11T12:48:08.502Z"
   },
   {
    "duration": 140,
    "start_time": "2021-07-11T12:48:08.599Z"
   },
   {
    "duration": 88,
    "start_time": "2021-07-11T12:48:08.740Z"
   },
   {
    "duration": 10,
    "start_time": "2021-07-11T12:48:08.830Z"
   },
   {
    "duration": 9,
    "start_time": "2021-07-11T12:48:08.841Z"
   },
   {
    "duration": 58,
    "start_time": "2021-07-11T12:48:08.852Z"
   },
   {
    "duration": 139,
    "start_time": "2021-07-11T12:48:08.912Z"
   },
   {
    "duration": 11,
    "start_time": "2021-07-11T12:48:09.052Z"
   },
   {
    "duration": 4,
    "start_time": "2021-07-11T12:48:09.064Z"
   },
   {
    "duration": 34,
    "start_time": "2021-07-11T12:48:09.069Z"
   },
   {
    "duration": 2490,
    "start_time": "2021-07-11T12:48:09.104Z"
   },
   {
    "duration": 59,
    "start_time": "2021-07-11T12:48:11.595Z"
   },
   {
    "duration": 201,
    "start_time": "2021-07-11T12:48:11.656Z"
   },
   {
    "duration": 41,
    "start_time": "2021-07-11T12:48:11.858Z"
   },
   {
    "duration": 35,
    "start_time": "2021-07-11T12:48:11.901Z"
   },
   {
    "duration": 12,
    "start_time": "2021-07-11T12:48:11.938Z"
   },
   {
    "duration": 12,
    "start_time": "2021-07-11T12:48:11.951Z"
   },
   {
    "duration": 36,
    "start_time": "2021-07-11T12:48:11.964Z"
   },
   {
    "duration": 33,
    "start_time": "2021-07-11T12:48:12.002Z"
   },
   {
    "duration": 8,
    "start_time": "2021-07-11T12:48:12.036Z"
   },
   {
    "duration": 151,
    "start_time": "2021-07-11T12:48:12.046Z"
   },
   {
    "duration": 11,
    "start_time": "2021-07-11T12:48:12.198Z"
   },
   {
    "duration": 12,
    "start_time": "2021-07-11T12:48:12.211Z"
   },
   {
    "duration": 13,
    "start_time": "2021-07-11T12:48:12.225Z"
   },
   {
    "duration": 7,
    "start_time": "2021-07-11T12:48:12.239Z"
   },
   {
    "duration": 6,
    "start_time": "2021-07-11T12:48:12.248Z"
   },
   {
    "duration": 37,
    "start_time": "2021-07-11T12:48:12.255Z"
   },
   {
    "duration": 7,
    "start_time": "2021-07-11T12:48:12.293Z"
   },
   {
    "duration": 7,
    "start_time": "2021-07-11T12:48:12.301Z"
   },
   {
    "duration": 8,
    "start_time": "2021-07-11T12:48:12.310Z"
   },
   {
    "duration": 16,
    "start_time": "2021-07-11T12:48:12.319Z"
   },
   {
    "duration": 4,
    "start_time": "2021-07-11T12:48:12.336Z"
   },
   {
    "duration": 3,
    "start_time": "2021-07-11T12:48:28.092Z"
   },
   {
    "duration": 9,
    "start_time": "2021-07-11T12:48:29.392Z"
   },
   {
    "duration": 6,
    "start_time": "2021-07-11T12:48:29.586Z"
   },
   {
    "duration": 14,
    "start_time": "2021-07-11T12:48:29.790Z"
   },
   {
    "duration": 5,
    "start_time": "2021-07-11T12:48:30.039Z"
   },
   {
    "duration": 1065,
    "start_time": "2021-07-11T12:48:36.363Z"
   },
   {
    "duration": 68,
    "start_time": "2021-07-11T12:48:37.429Z"
   },
   {
    "duration": 31,
    "start_time": "2021-07-11T12:48:37.500Z"
   },
   {
    "duration": 4,
    "start_time": "2021-07-11T12:48:37.533Z"
   },
   {
    "duration": 12,
    "start_time": "2021-07-11T12:48:37.538Z"
   },
   {
    "duration": 4,
    "start_time": "2021-07-11T12:48:37.552Z"
   },
   {
    "duration": 48,
    "start_time": "2021-07-11T12:48:37.558Z"
   },
   {
    "duration": 13,
    "start_time": "2021-07-11T12:48:37.608Z"
   },
   {
    "duration": 11,
    "start_time": "2021-07-11T12:48:37.623Z"
   },
   {
    "duration": 4,
    "start_time": "2021-07-11T12:48:37.636Z"
   },
   {
    "duration": 6,
    "start_time": "2021-07-11T12:48:37.642Z"
   },
   {
    "duration": 9,
    "start_time": "2021-07-11T12:48:37.650Z"
   },
   {
    "duration": 104,
    "start_time": "2021-07-11T12:48:37.660Z"
   },
   {
    "duration": 26,
    "start_time": "2021-07-11T12:48:37.766Z"
   },
   {
    "duration": 7,
    "start_time": "2021-07-11T12:48:37.794Z"
   },
   {
    "duration": 14,
    "start_time": "2021-07-11T12:48:37.802Z"
   },
   {
    "duration": 5,
    "start_time": "2021-07-11T12:48:37.818Z"
   },
   {
    "duration": 15,
    "start_time": "2021-07-11T12:48:37.824Z"
   },
   {
    "duration": 336,
    "start_time": "2021-07-11T12:48:37.841Z"
   },
   {
    "duration": 7,
    "start_time": "2021-07-11T12:48:38.178Z"
   },
   {
    "duration": 8,
    "start_time": "2021-07-11T12:48:38.186Z"
   },
   {
    "duration": 317,
    "start_time": "2021-07-11T12:48:38.196Z"
   },
   {
    "duration": 415,
    "start_time": "2021-07-11T12:48:38.516Z"
   },
   {
    "duration": 98,
    "start_time": "2021-07-11T12:48:38.934Z"
   },
   {
    "duration": 147,
    "start_time": "2021-07-11T12:48:39.034Z"
   },
   {
    "duration": 76,
    "start_time": "2021-07-11T12:48:39.191Z"
   },
   {
    "duration": 10,
    "start_time": "2021-07-11T12:48:39.269Z"
   },
   {
    "duration": 9,
    "start_time": "2021-07-11T12:48:39.292Z"
   },
   {
    "duration": 45,
    "start_time": "2021-07-11T12:48:39.303Z"
   },
   {
    "duration": 244,
    "start_time": "2021-07-11T12:48:39.350Z"
   },
   {
    "duration": 14,
    "start_time": "2021-07-11T12:48:39.596Z"
   },
   {
    "duration": 5,
    "start_time": "2021-07-11T12:48:39.612Z"
   },
   {
    "duration": 34,
    "start_time": "2021-07-11T12:48:39.618Z"
   },
   {
    "duration": 3928,
    "start_time": "2021-07-11T12:48:39.655Z"
   },
   {
    "duration": 122,
    "start_time": "2021-07-11T12:48:43.585Z"
   },
   {
    "duration": 205,
    "start_time": "2021-07-11T12:48:43.709Z"
   },
   {
    "duration": 39,
    "start_time": "2021-07-11T12:48:43.916Z"
   },
   {
    "duration": 53,
    "start_time": "2021-07-11T12:48:43.957Z"
   },
   {
    "duration": 13,
    "start_time": "2021-07-11T12:48:44.012Z"
   },
   {
    "duration": 13,
    "start_time": "2021-07-11T12:48:44.026Z"
   },
   {
    "duration": 12,
    "start_time": "2021-07-11T12:48:44.040Z"
   },
   {
    "duration": 59,
    "start_time": "2021-07-11T12:48:44.054Z"
   },
   {
    "duration": 14,
    "start_time": "2021-07-11T12:48:44.115Z"
   },
   {
    "duration": 151,
    "start_time": "2021-07-11T12:48:44.130Z"
   },
   {
    "duration": 16,
    "start_time": "2021-07-11T12:48:44.282Z"
   },
   {
    "duration": 13,
    "start_time": "2021-07-11T12:48:44.300Z"
   },
   {
    "duration": 15,
    "start_time": "2021-07-11T12:48:44.314Z"
   },
   {
    "duration": 9,
    "start_time": "2021-07-11T12:48:44.330Z"
   },
   {
    "duration": 7,
    "start_time": "2021-07-11T12:48:44.341Z"
   },
   {
    "duration": 44,
    "start_time": "2021-07-11T12:48:44.350Z"
   },
   {
    "duration": 9,
    "start_time": "2021-07-11T12:48:44.395Z"
   },
   {
    "duration": 9,
    "start_time": "2021-07-11T12:48:44.406Z"
   },
   {
    "duration": 5,
    "start_time": "2021-07-11T12:48:44.416Z"
   },
   {
    "duration": 13,
    "start_time": "2021-07-11T12:48:44.423Z"
   },
   {
    "duration": 4,
    "start_time": "2021-07-11T12:48:44.438Z"
   },
   {
    "duration": 4,
    "start_time": "2021-07-11T12:49:35.253Z"
   },
   {
    "duration": 1128,
    "start_time": "2021-07-11T12:49:41.313Z"
   },
   {
    "duration": 66,
    "start_time": "2021-07-11T12:49:42.442Z"
   },
   {
    "duration": 31,
    "start_time": "2021-07-11T12:49:42.510Z"
   },
   {
    "duration": 5,
    "start_time": "2021-07-11T12:49:42.543Z"
   },
   {
    "duration": 14,
    "start_time": "2021-07-11T12:49:42.549Z"
   },
   {
    "duration": 5,
    "start_time": "2021-07-11T12:49:42.564Z"
   },
   {
    "duration": 52,
    "start_time": "2021-07-11T12:49:42.571Z"
   },
   {
    "duration": 14,
    "start_time": "2021-07-11T12:49:42.624Z"
   },
   {
    "duration": 11,
    "start_time": "2021-07-11T12:49:42.641Z"
   },
   {
    "duration": 5,
    "start_time": "2021-07-11T12:49:42.654Z"
   },
   {
    "duration": 32,
    "start_time": "2021-07-11T12:49:42.661Z"
   },
   {
    "duration": 10,
    "start_time": "2021-07-11T12:49:42.694Z"
   },
   {
    "duration": 104,
    "start_time": "2021-07-11T12:49:42.705Z"
   },
   {
    "duration": 24,
    "start_time": "2021-07-11T12:49:42.811Z"
   },
   {
    "duration": 6,
    "start_time": "2021-07-11T12:49:42.838Z"
   },
   {
    "duration": 16,
    "start_time": "2021-07-11T12:49:42.845Z"
   },
   {
    "duration": 5,
    "start_time": "2021-07-11T12:49:42.863Z"
   },
   {
    "duration": 27,
    "start_time": "2021-07-11T12:49:42.869Z"
   },
   {
    "duration": 321,
    "start_time": "2021-07-11T12:49:42.897Z"
   },
   {
    "duration": 6,
    "start_time": "2021-07-11T12:49:43.220Z"
   },
   {
    "duration": 7,
    "start_time": "2021-07-11T12:49:43.228Z"
   },
   {
    "duration": 327,
    "start_time": "2021-07-11T12:49:43.237Z"
   },
   {
    "duration": 409,
    "start_time": "2021-07-11T12:49:43.565Z"
   },
   {
    "duration": 87,
    "start_time": "2021-07-11T12:49:43.976Z"
   },
   {
    "duration": 151,
    "start_time": "2021-07-11T12:49:44.064Z"
   },
   {
    "duration": 82,
    "start_time": "2021-07-11T12:49:44.217Z"
   },
   {
    "duration": 9,
    "start_time": "2021-07-11T12:49:44.303Z"
   },
   {
    "duration": 8,
    "start_time": "2021-07-11T12:49:44.313Z"
   },
   {
    "duration": 33,
    "start_time": "2021-07-11T12:49:44.322Z"
   },
   {
    "duration": 165,
    "start_time": "2021-07-11T12:49:44.357Z"
   },
   {
    "duration": 14,
    "start_time": "2021-07-11T12:49:44.524Z"
   },
   {
    "duration": 5,
    "start_time": "2021-07-11T12:49:44.539Z"
   },
   {
    "duration": 21,
    "start_time": "2021-07-11T12:49:44.546Z"
   },
   {
    "duration": 2434,
    "start_time": "2021-07-11T12:49:44.568Z"
   },
   {
    "duration": 62,
    "start_time": "2021-07-11T12:49:47.003Z"
   },
   {
    "duration": 206,
    "start_time": "2021-07-11T12:49:47.067Z"
   },
   {
    "duration": 46,
    "start_time": "2021-07-11T12:49:47.274Z"
   },
   {
    "duration": 36,
    "start_time": "2021-07-11T12:49:47.321Z"
   },
   {
    "duration": 12,
    "start_time": "2021-07-11T12:49:47.359Z"
   },
   {
    "duration": 29,
    "start_time": "2021-07-11T12:49:47.372Z"
   },
   {
    "duration": 13,
    "start_time": "2021-07-11T12:49:47.402Z"
   },
   {
    "duration": 34,
    "start_time": "2021-07-11T12:49:47.416Z"
   },
   {
    "duration": 9,
    "start_time": "2021-07-11T12:49:47.451Z"
   },
   {
    "duration": 171,
    "start_time": "2021-07-11T12:49:47.461Z"
   },
   {
    "duration": 12,
    "start_time": "2021-07-11T12:49:47.633Z"
   },
   {
    "duration": 13,
    "start_time": "2021-07-11T12:49:47.646Z"
   },
   {
    "duration": 32,
    "start_time": "2021-07-11T12:49:47.660Z"
   },
   {
    "duration": 8,
    "start_time": "2021-07-11T12:49:47.693Z"
   },
   {
    "duration": 7,
    "start_time": "2021-07-11T12:49:47.702Z"
   },
   {
    "duration": 7,
    "start_time": "2021-07-11T12:49:47.710Z"
   },
   {
    "duration": 5,
    "start_time": "2021-07-11T12:49:47.718Z"
   },
   {
    "duration": 8,
    "start_time": "2021-07-11T12:49:47.724Z"
   },
   {
    "duration": 6,
    "start_time": "2021-07-11T12:49:47.733Z"
   },
   {
    "duration": 15,
    "start_time": "2021-07-11T12:49:47.740Z"
   },
   {
    "duration": 3,
    "start_time": "2021-07-11T12:49:47.757Z"
   },
   {
    "duration": 1131,
    "start_time": "2021-07-11T12:50:17.405Z"
   },
   {
    "duration": 68,
    "start_time": "2021-07-11T12:50:18.538Z"
   },
   {
    "duration": 31,
    "start_time": "2021-07-11T12:50:18.608Z"
   },
   {
    "duration": 6,
    "start_time": "2021-07-11T12:50:18.641Z"
   },
   {
    "duration": 13,
    "start_time": "2021-07-11T12:50:18.648Z"
   },
   {
    "duration": 5,
    "start_time": "2021-07-11T12:50:18.662Z"
   },
   {
    "duration": 49,
    "start_time": "2021-07-11T12:50:18.669Z"
   },
   {
    "duration": 13,
    "start_time": "2021-07-11T12:50:18.720Z"
   },
   {
    "duration": 14,
    "start_time": "2021-07-11T12:50:18.735Z"
   },
   {
    "duration": 5,
    "start_time": "2021-07-11T12:50:18.751Z"
   },
   {
    "duration": 6,
    "start_time": "2021-07-11T12:50:18.757Z"
   },
   {
    "duration": 28,
    "start_time": "2021-07-11T12:50:18.765Z"
   },
   {
    "duration": 87,
    "start_time": "2021-07-11T12:50:18.794Z"
   },
   {
    "duration": 29,
    "start_time": "2021-07-11T12:50:18.882Z"
   },
   {
    "duration": 8,
    "start_time": "2021-07-11T12:50:18.913Z"
   },
   {
    "duration": 14,
    "start_time": "2021-07-11T12:50:18.923Z"
   },
   {
    "duration": 5,
    "start_time": "2021-07-11T12:50:18.938Z"
   },
   {
    "duration": 17,
    "start_time": "2021-07-11T12:50:18.944Z"
   },
   {
    "duration": 350,
    "start_time": "2021-07-11T12:50:18.963Z"
   },
   {
    "duration": 7,
    "start_time": "2021-07-11T12:50:19.315Z"
   },
   {
    "duration": 29,
    "start_time": "2021-07-11T12:50:19.323Z"
   },
   {
    "duration": 386,
    "start_time": "2021-07-11T12:50:19.354Z"
   },
   {
    "duration": 427,
    "start_time": "2021-07-11T12:50:19.741Z"
   },
   {
    "duration": 95,
    "start_time": "2021-07-11T12:50:20.170Z"
   },
   {
    "duration": 165,
    "start_time": "2021-07-11T12:50:20.266Z"
   },
   {
    "duration": 83,
    "start_time": "2021-07-11T12:50:20.433Z"
   },
   {
    "duration": 9,
    "start_time": "2021-07-11T12:50:20.520Z"
   },
   {
    "duration": 11,
    "start_time": "2021-07-11T12:50:20.531Z"
   },
   {
    "duration": 39,
    "start_time": "2021-07-11T12:50:20.543Z"
   },
   {
    "duration": 348,
    "start_time": "2021-07-11T12:50:20.584Z"
   },
   {
    "duration": 17,
    "start_time": "2021-07-11T12:50:20.934Z"
   },
   {
    "duration": 5,
    "start_time": "2021-07-11T12:50:20.953Z"
   },
   {
    "duration": 44,
    "start_time": "2021-07-11T12:50:20.960Z"
   },
   {
    "duration": 2472,
    "start_time": "2021-07-11T12:50:21.006Z"
   },
   {
    "duration": 76,
    "start_time": "2021-07-11T12:50:23.480Z"
   },
   {
    "duration": 210,
    "start_time": "2021-07-11T12:50:23.557Z"
   },
   {
    "duration": 47,
    "start_time": "2021-07-11T12:50:23.769Z"
   },
   {
    "duration": 40,
    "start_time": "2021-07-11T12:50:23.818Z"
   },
   {
    "duration": 33,
    "start_time": "2021-07-11T12:50:23.860Z"
   },
   {
    "duration": 15,
    "start_time": "2021-07-11T12:50:23.895Z"
   },
   {
    "duration": 14,
    "start_time": "2021-07-11T12:50:23.912Z"
   },
   {
    "duration": 36,
    "start_time": "2021-07-11T12:50:23.928Z"
   },
   {
    "duration": 35,
    "start_time": "2021-07-11T12:50:23.966Z"
   },
   {
    "duration": 156,
    "start_time": "2021-07-11T12:50:24.003Z"
   },
   {
    "duration": 12,
    "start_time": "2021-07-11T12:50:24.161Z"
   },
   {
    "duration": 26,
    "start_time": "2021-07-11T12:50:24.174Z"
   },
   {
    "duration": 19,
    "start_time": "2021-07-11T12:50:24.202Z"
   },
   {
    "duration": 9,
    "start_time": "2021-07-11T12:50:24.223Z"
   },
   {
    "duration": 8,
    "start_time": "2021-07-11T12:50:24.234Z"
   },
   {
    "duration": 7,
    "start_time": "2021-07-11T12:50:24.244Z"
   },
   {
    "duration": 80,
    "start_time": "2021-07-11T12:50:24.253Z"
   },
   {
    "duration": 57,
    "start_time": "2021-07-11T12:50:24.278Z"
   },
   {
    "duration": 57,
    "start_time": "2021-07-11T12:50:24.279Z"
   },
   {
    "duration": 56,
    "start_time": "2021-07-11T12:50:24.281Z"
   },
   {
    "duration": 45,
    "start_time": "2021-07-11T12:50:24.293Z"
   },
   {
    "duration": 3,
    "start_time": "2021-07-11T12:50:44.343Z"
   },
   {
    "duration": 7,
    "start_time": "2021-07-11T12:50:45.705Z"
   },
   {
    "duration": 6,
    "start_time": "2021-07-11T12:50:45.882Z"
   },
   {
    "duration": 14,
    "start_time": "2021-07-11T12:50:46.055Z"
   },
   {
    "duration": 5,
    "start_time": "2021-07-11T12:50:46.219Z"
   },
   {
    "duration": 1123,
    "start_time": "2021-07-11T12:50:52.136Z"
   },
   {
    "duration": 73,
    "start_time": "2021-07-11T12:50:53.261Z"
   },
   {
    "duration": 31,
    "start_time": "2021-07-11T12:50:53.336Z"
   },
   {
    "duration": 4,
    "start_time": "2021-07-11T12:50:53.368Z"
   },
   {
    "duration": 14,
    "start_time": "2021-07-11T12:50:53.373Z"
   },
   {
    "duration": 5,
    "start_time": "2021-07-11T12:50:53.389Z"
   },
   {
    "duration": 54,
    "start_time": "2021-07-11T12:50:53.395Z"
   },
   {
    "duration": 17,
    "start_time": "2021-07-11T12:50:53.451Z"
   },
   {
    "duration": 55,
    "start_time": "2021-07-11T12:50:53.469Z"
   },
   {
    "duration": 8,
    "start_time": "2021-07-11T12:50:53.525Z"
   },
   {
    "duration": 9,
    "start_time": "2021-07-11T12:50:53.535Z"
   },
   {
    "duration": 11,
    "start_time": "2021-07-11T12:50:53.545Z"
   },
   {
    "duration": 98,
    "start_time": "2021-07-11T12:50:53.557Z"
   },
   {
    "duration": 24,
    "start_time": "2021-07-11T12:50:53.657Z"
   },
   {
    "duration": 9,
    "start_time": "2021-07-11T12:50:53.683Z"
   },
   {
    "duration": 12,
    "start_time": "2021-07-11T12:50:53.694Z"
   },
   {
    "duration": 6,
    "start_time": "2021-07-11T12:50:53.707Z"
   },
   {
    "duration": 17,
    "start_time": "2021-07-11T12:50:53.714Z"
   },
   {
    "duration": 375,
    "start_time": "2021-07-11T12:50:53.733Z"
   },
   {
    "duration": 7,
    "start_time": "2021-07-11T12:50:54.110Z"
   },
   {
    "duration": 9,
    "start_time": "2021-07-11T12:50:54.119Z"
   },
   {
    "duration": 361,
    "start_time": "2021-07-11T12:50:54.129Z"
   },
   {
    "duration": 436,
    "start_time": "2021-07-11T12:50:54.494Z"
   },
   {
    "duration": 109,
    "start_time": "2021-07-11T12:50:54.933Z"
   },
   {
    "duration": 171,
    "start_time": "2021-07-11T12:50:55.044Z"
   },
   {
    "duration": 95,
    "start_time": "2021-07-11T12:50:55.217Z"
   },
   {
    "duration": 9,
    "start_time": "2021-07-11T12:50:55.314Z"
   },
   {
    "duration": 10,
    "start_time": "2021-07-11T12:50:55.325Z"
   },
   {
    "duration": 61,
    "start_time": "2021-07-11T12:50:55.337Z"
   },
   {
    "duration": 153,
    "start_time": "2021-07-11T12:50:55.400Z"
   },
   {
    "duration": 14,
    "start_time": "2021-07-11T12:50:55.555Z"
   },
   {
    "duration": 20,
    "start_time": "2021-07-11T12:50:55.571Z"
   },
   {
    "duration": 20,
    "start_time": "2021-07-11T12:50:55.593Z"
   },
   {
    "duration": 2465,
    "start_time": "2021-07-11T12:50:55.615Z"
   },
   {
    "duration": 62,
    "start_time": "2021-07-11T12:50:58.082Z"
   },
   {
    "duration": 284,
    "start_time": "2021-07-11T12:50:58.145Z"
   },
   {
    "duration": 38,
    "start_time": "2021-07-11T12:50:58.431Z"
   },
   {
    "duration": 48,
    "start_time": "2021-07-11T12:50:58.470Z"
   },
   {
    "duration": 15,
    "start_time": "2021-07-11T12:50:58.519Z"
   },
   {
    "duration": 14,
    "start_time": "2021-07-11T12:50:58.536Z"
   },
   {
    "duration": 43,
    "start_time": "2021-07-11T12:50:58.552Z"
   },
   {
    "duration": 34,
    "start_time": "2021-07-11T12:50:58.596Z"
   },
   {
    "duration": 8,
    "start_time": "2021-07-11T12:50:58.632Z"
   },
   {
    "duration": 154,
    "start_time": "2021-07-11T12:50:58.641Z"
   },
   {
    "duration": 12,
    "start_time": "2021-07-11T12:50:58.796Z"
   },
   {
    "duration": 14,
    "start_time": "2021-07-11T12:50:58.810Z"
   },
   {
    "duration": 15,
    "start_time": "2021-07-11T12:50:58.825Z"
   },
   {
    "duration": 9,
    "start_time": "2021-07-11T12:50:58.841Z"
   },
   {
    "duration": 40,
    "start_time": "2021-07-11T12:50:58.851Z"
   },
   {
    "duration": 8,
    "start_time": "2021-07-11T12:50:58.893Z"
   },
   {
    "duration": 5,
    "start_time": "2021-07-11T12:50:58.902Z"
   },
   {
    "duration": 9,
    "start_time": "2021-07-11T12:50:58.908Z"
   },
   {
    "duration": 7,
    "start_time": "2021-07-11T12:50:58.919Z"
   },
   {
    "duration": 17,
    "start_time": "2021-07-11T12:50:58.928Z"
   },
   {
    "duration": 5,
    "start_time": "2021-07-11T12:50:58.947Z"
   },
   {
    "duration": 15,
    "start_time": "2021-07-11T12:51:18.969Z"
   },
   {
    "duration": 5,
    "start_time": "2021-07-11T12:51:19.355Z"
   },
   {
    "duration": 1048,
    "start_time": "2021-07-11T12:51:25.290Z"
   },
   {
    "duration": 71,
    "start_time": "2021-07-11T12:51:26.339Z"
   },
   {
    "duration": 30,
    "start_time": "2021-07-11T12:51:26.412Z"
   },
   {
    "duration": 5,
    "start_time": "2021-07-11T12:51:26.444Z"
   },
   {
    "duration": 13,
    "start_time": "2021-07-11T12:51:26.450Z"
   },
   {
    "duration": 5,
    "start_time": "2021-07-11T12:51:26.464Z"
   },
   {
    "duration": 50,
    "start_time": "2021-07-11T12:51:26.471Z"
   },
   {
    "duration": 13,
    "start_time": "2021-07-11T12:51:26.523Z"
   },
   {
    "duration": 10,
    "start_time": "2021-07-11T12:51:26.538Z"
   },
   {
    "duration": 5,
    "start_time": "2021-07-11T12:51:26.550Z"
   },
   {
    "duration": 8,
    "start_time": "2021-07-11T12:51:26.556Z"
   },
   {
    "duration": 30,
    "start_time": "2021-07-11T12:51:26.565Z"
   },
   {
    "duration": 94,
    "start_time": "2021-07-11T12:51:26.597Z"
   },
   {
    "duration": 23,
    "start_time": "2021-07-11T12:51:26.693Z"
   },
   {
    "duration": 7,
    "start_time": "2021-07-11T12:51:26.718Z"
   },
   {
    "duration": 16,
    "start_time": "2021-07-11T12:51:26.726Z"
   },
   {
    "duration": 5,
    "start_time": "2021-07-11T12:51:26.743Z"
   },
   {
    "duration": 15,
    "start_time": "2021-07-11T12:51:26.750Z"
   },
   {
    "duration": 325,
    "start_time": "2021-07-11T12:51:26.766Z"
   },
   {
    "duration": 6,
    "start_time": "2021-07-11T12:51:27.093Z"
   },
   {
    "duration": 7,
    "start_time": "2021-07-11T12:51:27.101Z"
   },
   {
    "duration": 419,
    "start_time": "2021-07-11T12:51:27.110Z"
   },
   {
    "duration": 619,
    "start_time": "2021-07-11T12:51:27.531Z"
   },
   {
    "duration": 90,
    "start_time": "2021-07-11T12:51:28.152Z"
   },
   {
    "duration": 148,
    "start_time": "2021-07-11T12:51:28.244Z"
   },
   {
    "duration": 74,
    "start_time": "2021-07-11T12:51:28.394Z"
   },
   {
    "duration": 21,
    "start_time": "2021-07-11T12:51:28.471Z"
   },
   {
    "duration": 7,
    "start_time": "2021-07-11T12:51:28.494Z"
   },
   {
    "duration": 37,
    "start_time": "2021-07-11T12:51:28.503Z"
   },
   {
    "duration": 155,
    "start_time": "2021-07-11T12:51:28.541Z"
   },
   {
    "duration": 11,
    "start_time": "2021-07-11T12:51:28.697Z"
   },
   {
    "duration": 5,
    "start_time": "2021-07-11T12:51:28.709Z"
   },
   {
    "duration": 27,
    "start_time": "2021-07-11T12:51:28.715Z"
   },
   {
    "duration": 2357,
    "start_time": "2021-07-11T12:51:28.744Z"
   },
   {
    "duration": 63,
    "start_time": "2021-07-11T12:51:31.102Z"
   },
   {
    "duration": 205,
    "start_time": "2021-07-11T12:51:31.166Z"
   },
   {
    "duration": 46,
    "start_time": "2021-07-11T12:51:31.372Z"
   },
   {
    "duration": 37,
    "start_time": "2021-07-11T12:51:31.420Z"
   },
   {
    "duration": 13,
    "start_time": "2021-07-11T12:51:31.458Z"
   },
   {
    "duration": 30,
    "start_time": "2021-07-11T12:51:31.473Z"
   },
   {
    "duration": 13,
    "start_time": "2021-07-11T12:51:31.504Z"
   },
   {
    "duration": 35,
    "start_time": "2021-07-11T12:51:31.519Z"
   },
   {
    "duration": 8,
    "start_time": "2021-07-11T12:51:31.556Z"
   },
   {
    "duration": 167,
    "start_time": "2021-07-11T12:51:31.566Z"
   },
   {
    "duration": 12,
    "start_time": "2021-07-11T12:51:31.734Z"
   },
   {
    "duration": 13,
    "start_time": "2021-07-11T12:51:31.747Z"
   },
   {
    "duration": 30,
    "start_time": "2021-07-11T12:51:31.762Z"
   },
   {
    "duration": 8,
    "start_time": "2021-07-11T12:51:31.794Z"
   },
   {
    "duration": 6,
    "start_time": "2021-07-11T12:51:31.804Z"
   },
   {
    "duration": 6,
    "start_time": "2021-07-11T12:51:31.811Z"
   },
   {
    "duration": 7,
    "start_time": "2021-07-11T12:51:31.818Z"
   },
   {
    "duration": 14,
    "start_time": "2021-07-11T12:51:31.827Z"
   },
   {
    "duration": 6,
    "start_time": "2021-07-11T12:51:31.842Z"
   },
   {
    "duration": 16,
    "start_time": "2021-07-11T12:51:31.849Z"
   },
   {
    "duration": 4,
    "start_time": "2021-07-11T12:51:31.866Z"
   },
   {
    "duration": 5,
    "start_time": "2021-07-11T12:52:05.606Z"
   },
   {
    "duration": 6,
    "start_time": "2021-07-11T12:52:11.848Z"
   },
   {
    "duration": 5,
    "start_time": "2021-07-11T12:52:18.161Z"
   },
   {
    "duration": 3,
    "start_time": "2021-07-11T12:52:35.298Z"
   },
   {
    "duration": 8,
    "start_time": "2021-07-11T12:52:37.655Z"
   },
   {
    "duration": 7,
    "start_time": "2021-07-11T12:52:37.865Z"
   },
   {
    "duration": 13,
    "start_time": "2021-07-11T12:52:38.041Z"
   },
   {
    "duration": 5,
    "start_time": "2021-07-11T12:52:38.214Z"
   },
   {
    "duration": 1049,
    "start_time": "2021-07-11T12:52:43.483Z"
   },
   {
    "duration": 74,
    "start_time": "2021-07-11T12:52:44.534Z"
   },
   {
    "duration": 30,
    "start_time": "2021-07-11T12:52:44.610Z"
   },
   {
    "duration": 10,
    "start_time": "2021-07-11T12:52:44.641Z"
   },
   {
    "duration": 16,
    "start_time": "2021-07-11T12:52:44.652Z"
   },
   {
    "duration": 4,
    "start_time": "2021-07-11T12:52:44.670Z"
   },
   {
    "duration": 48,
    "start_time": "2021-07-11T12:52:44.675Z"
   },
   {
    "duration": 11,
    "start_time": "2021-07-11T12:52:44.726Z"
   },
   {
    "duration": 9,
    "start_time": "2021-07-11T12:52:44.739Z"
   },
   {
    "duration": 4,
    "start_time": "2021-07-11T12:52:44.750Z"
   },
   {
    "duration": 6,
    "start_time": "2021-07-11T12:52:44.755Z"
   },
   {
    "duration": 8,
    "start_time": "2021-07-11T12:52:44.762Z"
   },
   {
    "duration": 101,
    "start_time": "2021-07-11T12:52:44.771Z"
   },
   {
    "duration": 35,
    "start_time": "2021-07-11T12:52:44.874Z"
   },
   {
    "duration": 6,
    "start_time": "2021-07-11T12:52:44.911Z"
   },
   {
    "duration": 14,
    "start_time": "2021-07-11T12:52:44.919Z"
   },
   {
    "duration": 5,
    "start_time": "2021-07-11T12:52:44.934Z"
   },
   {
    "duration": 14,
    "start_time": "2021-07-11T12:52:44.940Z"
   },
   {
    "duration": 316,
    "start_time": "2021-07-11T12:52:44.956Z"
   },
   {
    "duration": 7,
    "start_time": "2021-07-11T12:52:45.273Z"
   },
   {
    "duration": 11,
    "start_time": "2021-07-11T12:52:45.281Z"
   },
   {
    "duration": 311,
    "start_time": "2021-07-11T12:52:45.294Z"
   },
   {
    "duration": 398,
    "start_time": "2021-07-11T12:52:45.608Z"
   },
   {
    "duration": 90,
    "start_time": "2021-07-11T12:52:46.008Z"
   },
   {
    "duration": 150,
    "start_time": "2021-07-11T12:52:46.099Z"
   },
   {
    "duration": 85,
    "start_time": "2021-07-11T12:52:46.251Z"
   },
   {
    "duration": 8,
    "start_time": "2021-07-11T12:52:46.338Z"
   },
   {
    "duration": 12,
    "start_time": "2021-07-11T12:52:46.347Z"
   },
   {
    "duration": 48,
    "start_time": "2021-07-11T12:52:46.361Z"
   },
   {
    "duration": 143,
    "start_time": "2021-07-11T12:52:46.410Z"
   },
   {
    "duration": 12,
    "start_time": "2021-07-11T12:52:46.555Z"
   },
   {
    "duration": 4,
    "start_time": "2021-07-11T12:52:46.569Z"
   },
   {
    "duration": 21,
    "start_time": "2021-07-11T12:52:46.591Z"
   },
   {
    "duration": 2409,
    "start_time": "2021-07-11T12:52:46.614Z"
   },
   {
    "duration": 71,
    "start_time": "2021-07-11T12:52:49.024Z"
   },
   {
    "duration": 202,
    "start_time": "2021-07-11T12:52:49.097Z"
   },
   {
    "duration": 37,
    "start_time": "2021-07-11T12:52:49.301Z"
   },
   {
    "duration": 36,
    "start_time": "2021-07-11T12:52:49.340Z"
   },
   {
    "duration": 26,
    "start_time": "2021-07-11T12:52:49.377Z"
   },
   {
    "duration": 12,
    "start_time": "2021-07-11T12:52:49.404Z"
   },
   {
    "duration": 12,
    "start_time": "2021-07-11T12:52:49.417Z"
   },
   {
    "duration": 34,
    "start_time": "2021-07-11T12:52:49.430Z"
   },
   {
    "duration": 34,
    "start_time": "2021-07-11T12:52:49.465Z"
   },
   {
    "duration": 151,
    "start_time": "2021-07-11T12:52:49.500Z"
   },
   {
    "duration": 11,
    "start_time": "2021-07-11T12:52:49.653Z"
   },
   {
    "duration": 26,
    "start_time": "2021-07-11T12:52:49.666Z"
   },
   {
    "duration": 15,
    "start_time": "2021-07-11T12:52:49.693Z"
   },
   {
    "duration": 8,
    "start_time": "2021-07-11T12:52:49.709Z"
   },
   {
    "duration": 7,
    "start_time": "2021-07-11T12:52:49.719Z"
   },
   {
    "duration": 6,
    "start_time": "2021-07-11T12:52:49.727Z"
   },
   {
    "duration": 4,
    "start_time": "2021-07-11T12:52:49.735Z"
   },
   {
    "duration": 12,
    "start_time": "2021-07-11T12:52:49.740Z"
   },
   {
    "duration": 7,
    "start_time": "2021-07-11T12:52:49.753Z"
   },
   {
    "duration": 36,
    "start_time": "2021-07-11T12:52:49.762Z"
   },
   {
    "duration": 4,
    "start_time": "2021-07-11T12:52:49.800Z"
   },
   {
    "duration": 1062,
    "start_time": "2021-07-11T12:52:58.174Z"
   },
   {
    "duration": 69,
    "start_time": "2021-07-11T12:52:59.237Z"
   },
   {
    "duration": 30,
    "start_time": "2021-07-11T12:52:59.309Z"
   },
   {
    "duration": 9,
    "start_time": "2021-07-11T12:52:59.341Z"
   },
   {
    "duration": 12,
    "start_time": "2021-07-11T12:52:59.352Z"
   },
   {
    "duration": 5,
    "start_time": "2021-07-11T12:52:59.365Z"
   },
   {
    "duration": 50,
    "start_time": "2021-07-11T12:52:59.372Z"
   },
   {
    "duration": 13,
    "start_time": "2021-07-11T12:52:59.424Z"
   },
   {
    "duration": 15,
    "start_time": "2021-07-11T12:52:59.439Z"
   },
   {
    "duration": 4,
    "start_time": "2021-07-11T12:52:59.456Z"
   },
   {
    "duration": 9,
    "start_time": "2021-07-11T12:52:59.462Z"
   },
   {
    "duration": 23,
    "start_time": "2021-07-11T12:52:59.473Z"
   },
   {
    "duration": 95,
    "start_time": "2021-07-11T12:52:59.497Z"
   },
   {
    "duration": 22,
    "start_time": "2021-07-11T12:52:59.593Z"
   },
   {
    "duration": 5,
    "start_time": "2021-07-11T12:52:59.617Z"
   },
   {
    "duration": 14,
    "start_time": "2021-07-11T12:52:59.623Z"
   },
   {
    "duration": 5,
    "start_time": "2021-07-11T12:52:59.638Z"
   },
   {
    "duration": 16,
    "start_time": "2021-07-11T12:52:59.644Z"
   },
   {
    "duration": 321,
    "start_time": "2021-07-11T12:52:59.661Z"
   },
   {
    "duration": 10,
    "start_time": "2021-07-11T12:52:59.984Z"
   },
   {
    "duration": 7,
    "start_time": "2021-07-11T12:52:59.995Z"
   },
   {
    "duration": 328,
    "start_time": "2021-07-11T12:53:00.004Z"
   },
   {
    "duration": 417,
    "start_time": "2021-07-11T12:53:00.334Z"
   },
   {
    "duration": 94,
    "start_time": "2021-07-11T12:53:00.753Z"
   },
   {
    "duration": 155,
    "start_time": "2021-07-11T12:53:00.849Z"
   },
   {
    "duration": 75,
    "start_time": "2021-07-11T12:53:01.006Z"
   },
   {
    "duration": 12,
    "start_time": "2021-07-11T12:53:01.092Z"
   },
   {
    "duration": 8,
    "start_time": "2021-07-11T12:53:01.107Z"
   },
   {
    "duration": 35,
    "start_time": "2021-07-11T12:53:01.116Z"
   },
   {
    "duration": 158,
    "start_time": "2021-07-11T12:53:01.153Z"
   },
   {
    "duration": 11,
    "start_time": "2021-07-11T12:53:01.312Z"
   },
   {
    "duration": 4,
    "start_time": "2021-07-11T12:53:01.324Z"
   },
   {
    "duration": 21,
    "start_time": "2021-07-11T12:53:01.330Z"
   },
   {
    "duration": 2427,
    "start_time": "2021-07-11T12:53:01.353Z"
   },
   {
    "duration": 63,
    "start_time": "2021-07-11T12:53:03.782Z"
   },
   {
    "duration": 206,
    "start_time": "2021-07-11T12:53:03.847Z"
   },
   {
    "duration": 51,
    "start_time": "2021-07-11T12:53:04.054Z"
   },
   {
    "duration": 37,
    "start_time": "2021-07-11T12:53:04.107Z"
   },
   {
    "duration": 13,
    "start_time": "2021-07-11T12:53:04.146Z"
   },
   {
    "duration": 34,
    "start_time": "2021-07-11T12:53:04.161Z"
   },
   {
    "duration": 13,
    "start_time": "2021-07-11T12:53:04.196Z"
   },
   {
    "duration": 34,
    "start_time": "2021-07-11T12:53:04.211Z"
   },
   {
    "duration": 10,
    "start_time": "2021-07-11T12:53:04.247Z"
   },
   {
    "duration": 163,
    "start_time": "2021-07-11T12:53:04.258Z"
   },
   {
    "duration": 11,
    "start_time": "2021-07-11T12:53:04.423Z"
   },
   {
    "duration": 19,
    "start_time": "2021-07-11T12:53:04.436Z"
   },
   {
    "duration": 14,
    "start_time": "2021-07-11T12:53:04.456Z"
   },
   {
    "duration": 26,
    "start_time": "2021-07-11T12:53:04.471Z"
   },
   {
    "duration": 10,
    "start_time": "2021-07-11T12:53:04.498Z"
   },
   {
    "duration": 12,
    "start_time": "2021-07-11T12:53:04.509Z"
   },
   {
    "duration": 11,
    "start_time": "2021-07-11T12:53:04.523Z"
   },
   {
    "duration": 14,
    "start_time": "2021-07-11T12:53:04.536Z"
   },
   {
    "duration": 11,
    "start_time": "2021-07-11T12:53:04.552Z"
   },
   {
    "duration": 16,
    "start_time": "2021-07-11T12:53:04.564Z"
   },
   {
    "duration": 4,
    "start_time": "2021-07-11T12:53:04.582Z"
   },
   {
    "duration": 348,
    "start_time": "2021-07-11T12:53:51.951Z"
   },
   {
    "duration": 4,
    "start_time": "2021-07-11T12:54:15.299Z"
   },
   {
    "duration": 1062,
    "start_time": "2021-07-11T12:54:23.669Z"
   },
   {
    "duration": 68,
    "start_time": "2021-07-11T12:54:24.733Z"
   },
   {
    "duration": 31,
    "start_time": "2021-07-11T12:54:24.803Z"
   },
   {
    "duration": 5,
    "start_time": "2021-07-11T12:54:24.836Z"
   },
   {
    "duration": 13,
    "start_time": "2021-07-11T12:54:24.842Z"
   },
   {
    "duration": 5,
    "start_time": "2021-07-11T12:54:24.856Z"
   },
   {
    "duration": 49,
    "start_time": "2021-07-11T12:54:24.862Z"
   },
   {
    "duration": 13,
    "start_time": "2021-07-11T12:54:24.914Z"
   },
   {
    "duration": 13,
    "start_time": "2021-07-11T12:54:24.928Z"
   },
   {
    "duration": 4,
    "start_time": "2021-07-11T12:54:24.943Z"
   },
   {
    "duration": 7,
    "start_time": "2021-07-11T12:54:24.949Z"
   },
   {
    "duration": 10,
    "start_time": "2021-07-11T12:54:24.958Z"
   },
   {
    "duration": 103,
    "start_time": "2021-07-11T12:54:24.969Z"
   },
   {
    "duration": 27,
    "start_time": "2021-07-11T12:54:25.074Z"
   },
   {
    "duration": 7,
    "start_time": "2021-07-11T12:54:25.102Z"
   },
   {
    "duration": 13,
    "start_time": "2021-07-11T12:54:25.110Z"
   },
   {
    "duration": 5,
    "start_time": "2021-07-11T12:54:25.124Z"
   },
   {
    "duration": 15,
    "start_time": "2021-07-11T12:54:25.130Z"
   },
   {
    "duration": 330,
    "start_time": "2021-07-11T12:54:25.147Z"
   },
   {
    "duration": 13,
    "start_time": "2021-07-11T12:54:25.479Z"
   },
   {
    "duration": 7,
    "start_time": "2021-07-11T12:54:25.493Z"
   },
   {
    "duration": 315,
    "start_time": "2021-07-11T12:54:25.501Z"
   },
   {
    "duration": 405,
    "start_time": "2021-07-11T12:54:25.819Z"
   },
   {
    "duration": 102,
    "start_time": "2021-07-11T12:54:26.226Z"
   },
   {
    "duration": 144,
    "start_time": "2021-07-11T12:54:26.330Z"
   },
   {
    "duration": 77,
    "start_time": "2021-07-11T12:54:26.476Z"
   },
   {
    "duration": 8,
    "start_time": "2021-07-11T12:54:26.555Z"
   },
   {
    "duration": 7,
    "start_time": "2021-07-11T12:54:26.565Z"
   },
   {
    "duration": 47,
    "start_time": "2021-07-11T12:54:26.574Z"
   },
   {
    "duration": 140,
    "start_time": "2021-07-11T12:54:26.623Z"
   },
   {
    "duration": 11,
    "start_time": "2021-07-11T12:54:26.765Z"
   },
   {
    "duration": 15,
    "start_time": "2021-07-11T12:54:26.778Z"
   },
   {
    "duration": 23,
    "start_time": "2021-07-11T12:54:26.795Z"
   },
   {
    "duration": 2402,
    "start_time": "2021-07-11T12:54:26.819Z"
   },
   {
    "duration": 70,
    "start_time": "2021-07-11T12:54:29.222Z"
   },
   {
    "duration": 196,
    "start_time": "2021-07-11T12:54:29.294Z"
   },
   {
    "duration": 40,
    "start_time": "2021-07-11T12:54:29.492Z"
   },
   {
    "duration": 37,
    "start_time": "2021-07-11T12:54:29.534Z"
   },
   {
    "duration": 30,
    "start_time": "2021-07-11T12:54:29.573Z"
   },
   {
    "duration": 14,
    "start_time": "2021-07-11T12:54:29.604Z"
   },
   {
    "duration": 13,
    "start_time": "2021-07-11T12:54:29.620Z"
   },
   {
    "duration": 62,
    "start_time": "2021-07-11T12:54:29.635Z"
   },
   {
    "duration": 10,
    "start_time": "2021-07-11T12:54:29.698Z"
   },
   {
    "duration": 158,
    "start_time": "2021-07-11T12:54:29.710Z"
   },
   {
    "duration": 22,
    "start_time": "2021-07-11T12:54:29.870Z"
   },
   {
    "duration": 14,
    "start_time": "2021-07-11T12:54:29.894Z"
   },
   {
    "duration": 15,
    "start_time": "2021-07-11T12:54:29.910Z"
   },
   {
    "duration": 7,
    "start_time": "2021-07-11T12:54:29.927Z"
   },
   {
    "duration": 10,
    "start_time": "2021-07-11T12:54:29.935Z"
   },
   {
    "duration": 7,
    "start_time": "2021-07-11T12:54:29.946Z"
   },
   {
    "duration": 5,
    "start_time": "2021-07-11T12:54:29.954Z"
   },
   {
    "duration": 32,
    "start_time": "2021-07-11T12:54:29.960Z"
   },
   {
    "duration": 7,
    "start_time": "2021-07-11T12:54:29.993Z"
   },
   {
    "duration": 18,
    "start_time": "2021-07-11T12:54:30.001Z"
   },
   {
    "duration": 4,
    "start_time": "2021-07-11T12:54:30.020Z"
   },
   {
    "duration": 13,
    "start_time": "2021-07-11T12:54:47.357Z"
   },
   {
    "duration": 311,
    "start_time": "2021-07-11T12:54:47.713Z"
   },
   {
    "duration": 1088,
    "start_time": "2021-07-11T12:55:00.746Z"
   },
   {
    "duration": 69,
    "start_time": "2021-07-11T12:55:01.835Z"
   },
   {
    "duration": 31,
    "start_time": "2021-07-11T12:55:01.906Z"
   },
   {
    "duration": 13,
    "start_time": "2021-07-11T12:55:01.939Z"
   },
   {
    "duration": 18,
    "start_time": "2021-07-11T12:55:01.954Z"
   },
   {
    "duration": 5,
    "start_time": "2021-07-11T12:55:01.974Z"
   },
   {
    "duration": 52,
    "start_time": "2021-07-11T12:55:01.980Z"
   },
   {
    "duration": 14,
    "start_time": "2021-07-11T12:55:02.034Z"
   },
   {
    "duration": 10,
    "start_time": "2021-07-11T12:55:02.050Z"
   },
   {
    "duration": 9,
    "start_time": "2021-07-11T12:55:02.061Z"
   },
   {
    "duration": 25,
    "start_time": "2021-07-11T12:55:02.071Z"
   },
   {
    "duration": 11,
    "start_time": "2021-07-11T12:55:02.097Z"
   },
   {
    "duration": 99,
    "start_time": "2021-07-11T12:55:02.109Z"
   },
   {
    "duration": 24,
    "start_time": "2021-07-11T12:55:02.209Z"
   },
   {
    "duration": 9,
    "start_time": "2021-07-11T12:55:02.235Z"
   },
   {
    "duration": 17,
    "start_time": "2021-07-11T12:55:02.246Z"
   },
   {
    "duration": 5,
    "start_time": "2021-07-11T12:55:02.264Z"
   },
   {
    "duration": 24,
    "start_time": "2021-07-11T12:55:02.271Z"
   },
   {
    "duration": 315,
    "start_time": "2021-07-11T12:55:02.296Z"
   },
   {
    "duration": 7,
    "start_time": "2021-07-11T12:55:02.612Z"
   },
   {
    "duration": 8,
    "start_time": "2021-07-11T12:55:02.620Z"
   },
   {
    "duration": 326,
    "start_time": "2021-07-11T12:55:02.630Z"
   },
   {
    "duration": 415,
    "start_time": "2021-07-11T12:55:02.960Z"
   },
   {
    "duration": 87,
    "start_time": "2021-07-11T12:55:03.377Z"
   },
   {
    "duration": 153,
    "start_time": "2021-07-11T12:55:03.465Z"
   },
   {
    "duration": 84,
    "start_time": "2021-07-11T12:55:03.620Z"
   },
   {
    "duration": 9,
    "start_time": "2021-07-11T12:55:03.706Z"
   },
   {
    "duration": 8,
    "start_time": "2021-07-11T12:55:03.717Z"
   },
   {
    "duration": 35,
    "start_time": "2021-07-11T12:55:03.726Z"
   },
   {
    "duration": 161,
    "start_time": "2021-07-11T12:55:03.763Z"
   },
   {
    "duration": 12,
    "start_time": "2021-07-11T12:55:03.925Z"
   },
   {
    "duration": 4,
    "start_time": "2021-07-11T12:55:03.938Z"
   },
   {
    "duration": 24,
    "start_time": "2021-07-11T12:55:03.944Z"
   },
   {
    "duration": 2463,
    "start_time": "2021-07-11T12:55:03.970Z"
   },
   {
    "duration": 70,
    "start_time": "2021-07-11T12:55:06.434Z"
   },
   {
    "duration": 196,
    "start_time": "2021-07-11T12:55:06.506Z"
   },
   {
    "duration": 37,
    "start_time": "2021-07-11T12:55:06.704Z"
   },
   {
    "duration": 53,
    "start_time": "2021-07-11T12:55:06.742Z"
   },
   {
    "duration": 12,
    "start_time": "2021-07-11T12:55:06.796Z"
   },
   {
    "duration": 12,
    "start_time": "2021-07-11T12:55:06.809Z"
   },
   {
    "duration": 11,
    "start_time": "2021-07-11T12:55:06.822Z"
   },
   {
    "duration": 57,
    "start_time": "2021-07-11T12:55:06.835Z"
   },
   {
    "duration": 9,
    "start_time": "2021-07-11T12:55:06.893Z"
   },
   {
    "duration": 144,
    "start_time": "2021-07-11T12:55:06.903Z"
   },
   {
    "duration": 12,
    "start_time": "2021-07-11T12:55:07.049Z"
   },
   {
    "duration": 13,
    "start_time": "2021-07-11T12:55:07.062Z"
   },
   {
    "duration": 25,
    "start_time": "2021-07-11T12:55:07.077Z"
   },
   {
    "duration": 7,
    "start_time": "2021-07-11T12:55:07.104Z"
   },
   {
    "duration": 6,
    "start_time": "2021-07-11T12:55:07.113Z"
   },
   {
    "duration": 10,
    "start_time": "2021-07-11T12:55:07.120Z"
   },
   {
    "duration": 5,
    "start_time": "2021-07-11T12:55:07.132Z"
   },
   {
    "duration": 10,
    "start_time": "2021-07-11T12:55:07.138Z"
   },
   {
    "duration": 8,
    "start_time": "2021-07-11T12:55:07.149Z"
   },
   {
    "duration": 34,
    "start_time": "2021-07-11T12:55:07.159Z"
   },
   {
    "duration": 323,
    "start_time": "2021-07-11T12:55:07.195Z"
   },
   {
    "duration": 18,
    "start_time": "2021-07-11T12:55:21.621Z"
   },
   {
    "duration": 4,
    "start_time": "2021-07-11T12:55:38.235Z"
   },
   {
    "duration": 1097,
    "start_time": "2021-07-11T12:55:48.475Z"
   },
   {
    "duration": 68,
    "start_time": "2021-07-11T12:55:49.573Z"
   },
   {
    "duration": 30,
    "start_time": "2021-07-11T12:55:49.643Z"
   },
   {
    "duration": 6,
    "start_time": "2021-07-11T12:55:49.674Z"
   },
   {
    "duration": 12,
    "start_time": "2021-07-11T12:55:49.681Z"
   },
   {
    "duration": 5,
    "start_time": "2021-07-11T12:55:49.695Z"
   },
   {
    "duration": 53,
    "start_time": "2021-07-11T12:55:49.702Z"
   },
   {
    "duration": 14,
    "start_time": "2021-07-11T12:55:49.757Z"
   },
   {
    "duration": 10,
    "start_time": "2021-07-11T12:55:49.792Z"
   },
   {
    "duration": 5,
    "start_time": "2021-07-11T12:55:49.803Z"
   },
   {
    "duration": 6,
    "start_time": "2021-07-11T12:55:49.809Z"
   },
   {
    "duration": 8,
    "start_time": "2021-07-11T12:55:49.817Z"
   },
   {
    "duration": 102,
    "start_time": "2021-07-11T12:55:49.826Z"
   },
   {
    "duration": 35,
    "start_time": "2021-07-11T12:55:49.930Z"
   },
   {
    "duration": 7,
    "start_time": "2021-07-11T12:55:49.967Z"
   },
   {
    "duration": 28,
    "start_time": "2021-07-11T12:55:49.976Z"
   },
   {
    "duration": 6,
    "start_time": "2021-07-11T12:55:50.006Z"
   },
   {
    "duration": 22,
    "start_time": "2021-07-11T12:55:50.014Z"
   },
   {
    "duration": 518,
    "start_time": "2021-07-11T12:55:50.037Z"
   },
   {
    "duration": 6,
    "start_time": "2021-07-11T12:55:50.557Z"
   },
   {
    "duration": 7,
    "start_time": "2021-07-11T12:55:50.565Z"
   },
   {
    "duration": 312,
    "start_time": "2021-07-11T12:55:50.573Z"
   },
   {
    "duration": 447,
    "start_time": "2021-07-11T12:55:50.892Z"
   },
   {
    "duration": 92,
    "start_time": "2021-07-11T12:55:51.341Z"
   },
   {
    "duration": 161,
    "start_time": "2021-07-11T12:55:51.434Z"
   },
   {
    "duration": 78,
    "start_time": "2021-07-11T12:55:51.596Z"
   },
   {
    "duration": 23,
    "start_time": "2021-07-11T12:55:51.676Z"
   },
   {
    "duration": 8,
    "start_time": "2021-07-11T12:55:51.700Z"
   },
   {
    "duration": 35,
    "start_time": "2021-07-11T12:55:51.710Z"
   },
   {
    "duration": 170,
    "start_time": "2021-07-11T12:55:51.747Z"
   },
   {
    "duration": 12,
    "start_time": "2021-07-11T12:55:51.919Z"
   },
   {
    "duration": 4,
    "start_time": "2021-07-11T12:55:51.932Z"
   },
   {
    "duration": 20,
    "start_time": "2021-07-11T12:55:51.938Z"
   },
   {
    "duration": 2670,
    "start_time": "2021-07-11T12:55:51.960Z"
   },
   {
    "duration": 74,
    "start_time": "2021-07-11T12:55:54.632Z"
   },
   {
    "duration": 206,
    "start_time": "2021-07-11T12:55:54.707Z"
   },
   {
    "duration": 43,
    "start_time": "2021-07-11T12:55:54.914Z"
   },
   {
    "duration": 59,
    "start_time": "2021-07-11T12:55:54.959Z"
   },
   {
    "duration": 13,
    "start_time": "2021-07-11T12:55:55.020Z"
   },
   {
    "duration": 12,
    "start_time": "2021-07-11T12:55:55.034Z"
   },
   {
    "duration": 12,
    "start_time": "2021-07-11T12:55:55.048Z"
   },
   {
    "duration": 58,
    "start_time": "2021-07-11T12:55:55.062Z"
   },
   {
    "duration": 9,
    "start_time": "2021-07-11T12:55:55.121Z"
   },
   {
    "duration": 147,
    "start_time": "2021-07-11T12:55:55.131Z"
   },
   {
    "duration": 16,
    "start_time": "2021-07-11T12:55:55.280Z"
   },
   {
    "duration": 16,
    "start_time": "2021-07-11T12:55:55.298Z"
   },
   {
    "duration": 16,
    "start_time": "2021-07-11T12:55:55.316Z"
   },
   {
    "duration": 7,
    "start_time": "2021-07-11T12:55:55.334Z"
   },
   {
    "duration": 11,
    "start_time": "2021-07-11T12:55:55.343Z"
   },
   {
    "duration": 36,
    "start_time": "2021-07-11T12:55:55.356Z"
   },
   {
    "duration": 5,
    "start_time": "2021-07-11T12:55:55.394Z"
   },
   {
    "duration": 15,
    "start_time": "2021-07-11T12:55:55.401Z"
   },
   {
    "duration": 7,
    "start_time": "2021-07-11T12:55:55.417Z"
   },
   {
    "duration": 25,
    "start_time": "2021-07-11T12:55:55.426Z"
   },
   {
    "duration": 38,
    "start_time": "2021-07-11T12:55:55.453Z"
   },
   {
    "duration": 364,
    "start_time": "2021-07-11T12:55:55.493Z"
   },
   {
    "duration": 6,
    "start_time": "2021-07-11T12:57:06.955Z"
   },
   {
    "duration": 992,
    "start_time": "2021-07-11T12:57:17.328Z"
   },
   {
    "duration": 67,
    "start_time": "2021-07-11T12:57:18.322Z"
   },
   {
    "duration": 30,
    "start_time": "2021-07-11T12:57:18.391Z"
   },
   {
    "duration": 6,
    "start_time": "2021-07-11T12:57:18.423Z"
   },
   {
    "duration": 18,
    "start_time": "2021-07-11T12:57:18.430Z"
   },
   {
    "duration": 11,
    "start_time": "2021-07-11T12:57:18.449Z"
   },
   {
    "duration": 52,
    "start_time": "2021-07-11T12:57:18.462Z"
   },
   {
    "duration": 14,
    "start_time": "2021-07-11T12:57:18.517Z"
   },
   {
    "duration": 18,
    "start_time": "2021-07-11T12:57:18.532Z"
   },
   {
    "duration": 6,
    "start_time": "2021-07-11T12:57:18.552Z"
   },
   {
    "duration": 18,
    "start_time": "2021-07-11T12:57:18.560Z"
   },
   {
    "duration": 22,
    "start_time": "2021-07-11T12:57:18.580Z"
   },
   {
    "duration": 147,
    "start_time": "2021-07-11T12:57:18.604Z"
   },
   {
    "duration": 38,
    "start_time": "2021-07-11T12:57:18.753Z"
   },
   {
    "duration": 8,
    "start_time": "2021-07-11T12:57:18.792Z"
   },
   {
    "duration": 17,
    "start_time": "2021-07-11T12:57:18.801Z"
   },
   {
    "duration": 6,
    "start_time": "2021-07-11T12:57:18.820Z"
   },
   {
    "duration": 19,
    "start_time": "2021-07-11T12:57:18.828Z"
   },
   {
    "duration": 482,
    "start_time": "2021-07-11T12:57:18.849Z"
   },
   {
    "duration": 10,
    "start_time": "2021-07-11T12:57:19.333Z"
   },
   {
    "duration": 9,
    "start_time": "2021-07-11T12:57:19.344Z"
   },
   {
    "duration": 320,
    "start_time": "2021-07-11T12:57:19.355Z"
   },
   {
    "duration": 414,
    "start_time": "2021-07-11T12:57:19.678Z"
   },
   {
    "duration": 84,
    "start_time": "2021-07-11T12:57:20.094Z"
   },
   {
    "duration": 155,
    "start_time": "2021-07-11T12:57:20.180Z"
   },
   {
    "duration": 78,
    "start_time": "2021-07-11T12:57:20.336Z"
   },
   {
    "duration": 9,
    "start_time": "2021-07-11T12:57:20.416Z"
   },
   {
    "duration": 8,
    "start_time": "2021-07-11T12:57:20.426Z"
   },
   {
    "duration": 56,
    "start_time": "2021-07-11T12:57:20.435Z"
   },
   {
    "duration": 147,
    "start_time": "2021-07-11T12:57:20.493Z"
   },
   {
    "duration": 12,
    "start_time": "2021-07-11T12:57:20.642Z"
   },
   {
    "duration": 5,
    "start_time": "2021-07-11T12:57:20.656Z"
   },
   {
    "duration": 41,
    "start_time": "2021-07-11T12:57:20.663Z"
   },
   {
    "duration": 2285,
    "start_time": "2021-07-11T12:57:20.706Z"
   },
   {
    "duration": 62,
    "start_time": "2021-07-11T12:57:22.992Z"
   },
   {
    "duration": 202,
    "start_time": "2021-07-11T12:57:23.055Z"
   },
   {
    "duration": 46,
    "start_time": "2021-07-11T12:57:23.258Z"
   },
   {
    "duration": 35,
    "start_time": "2021-07-11T12:57:23.306Z"
   },
   {
    "duration": 11,
    "start_time": "2021-07-11T12:57:23.343Z"
   },
   {
    "duration": 12,
    "start_time": "2021-07-11T12:57:23.356Z"
   },
   {
    "duration": 32,
    "start_time": "2021-07-11T12:57:23.369Z"
   },
   {
    "duration": 33,
    "start_time": "2021-07-11T12:57:23.403Z"
   },
   {
    "duration": 9,
    "start_time": "2021-07-11T12:57:23.437Z"
   },
   {
    "duration": 156,
    "start_time": "2021-07-11T12:57:23.447Z"
   },
   {
    "duration": 11,
    "start_time": "2021-07-11T12:57:23.605Z"
   },
   {
    "duration": 20,
    "start_time": "2021-07-11T12:57:23.617Z"
   },
   {
    "duration": 17,
    "start_time": "2021-07-11T12:57:23.638Z"
   },
   {
    "duration": 8,
    "start_time": "2021-07-11T12:57:23.657Z"
   },
   {
    "duration": 22,
    "start_time": "2021-07-11T12:57:23.666Z"
   },
   {
    "duration": 16,
    "start_time": "2021-07-11T12:57:23.689Z"
   },
   {
    "duration": 16,
    "start_time": "2021-07-11T12:57:23.706Z"
   },
   {
    "duration": 24,
    "start_time": "2021-07-11T12:57:23.723Z"
   },
   {
    "duration": 15,
    "start_time": "2021-07-11T12:57:23.749Z"
   },
   {
    "duration": 21,
    "start_time": "2021-07-11T12:57:23.765Z"
   },
   {
    "duration": 15,
    "start_time": "2021-07-11T12:57:23.787Z"
   },
   {
    "duration": 4,
    "start_time": "2021-07-11T12:57:23.804Z"
   },
   {
    "duration": 6,
    "start_time": "2021-07-11T12:58:38.805Z"
   },
   {
    "duration": 1017,
    "start_time": "2021-07-11T12:58:46.410Z"
   },
   {
    "duration": 68,
    "start_time": "2021-07-11T12:58:47.429Z"
   },
   {
    "duration": 30,
    "start_time": "2021-07-11T12:58:47.499Z"
   },
   {
    "duration": 4,
    "start_time": "2021-07-11T12:58:47.531Z"
   },
   {
    "duration": 13,
    "start_time": "2021-07-11T12:58:47.536Z"
   },
   {
    "duration": 6,
    "start_time": "2021-07-11T12:58:47.550Z"
   },
   {
    "duration": 49,
    "start_time": "2021-07-11T12:58:47.558Z"
   },
   {
    "duration": 15,
    "start_time": "2021-07-11T12:58:47.609Z"
   },
   {
    "duration": 12,
    "start_time": "2021-07-11T12:58:47.627Z"
   },
   {
    "duration": 5,
    "start_time": "2021-07-11T12:58:47.641Z"
   },
   {
    "duration": 7,
    "start_time": "2021-07-11T12:58:47.648Z"
   },
   {
    "duration": 38,
    "start_time": "2021-07-11T12:58:47.657Z"
   },
   {
    "duration": 88,
    "start_time": "2021-07-11T12:58:47.697Z"
   },
   {
    "duration": 23,
    "start_time": "2021-07-11T12:58:47.792Z"
   },
   {
    "duration": 7,
    "start_time": "2021-07-11T12:58:47.817Z"
   },
   {
    "duration": 20,
    "start_time": "2021-07-11T12:58:47.826Z"
   },
   {
    "duration": 5,
    "start_time": "2021-07-11T12:58:47.848Z"
   },
   {
    "duration": 16,
    "start_time": "2021-07-11T12:58:47.855Z"
   },
   {
    "duration": 319,
    "start_time": "2021-07-11T12:58:47.873Z"
   },
   {
    "duration": 7,
    "start_time": "2021-07-11T12:58:48.194Z"
   },
   {
    "duration": 7,
    "start_time": "2021-07-11T12:58:48.203Z"
   },
   {
    "duration": 512,
    "start_time": "2021-07-11T12:58:48.212Z"
   },
   {
    "duration": 676,
    "start_time": "2021-07-11T12:58:48.726Z"
   },
   {
    "duration": 135,
    "start_time": "2021-07-11T12:58:49.403Z"
   },
   {
    "duration": 206,
    "start_time": "2021-07-11T12:58:49.540Z"
   },
   {
    "duration": 118,
    "start_time": "2021-07-11T12:58:49.748Z"
   },
   {
    "duration": 12,
    "start_time": "2021-07-11T12:58:49.871Z"
   },
   {
    "duration": 10,
    "start_time": "2021-07-11T12:58:49.892Z"
   },
   {
    "duration": 44,
    "start_time": "2021-07-11T12:58:49.904Z"
   },
   {
    "duration": 222,
    "start_time": "2021-07-11T12:58:49.950Z"
   },
   {
    "duration": 24,
    "start_time": "2021-07-11T12:58:50.174Z"
   },
   {
    "duration": 5,
    "start_time": "2021-07-11T12:58:50.199Z"
   },
   {
    "duration": 27,
    "start_time": "2021-07-11T12:58:50.206Z"
   },
   {
    "duration": 4088,
    "start_time": "2021-07-11T12:58:50.235Z"
   },
   {
    "duration": 131,
    "start_time": "2021-07-11T12:58:54.325Z"
   },
   {
    "duration": 310,
    "start_time": "2021-07-11T12:58:54.458Z"
   },
   {
    "duration": 59,
    "start_time": "2021-07-11T12:58:54.770Z"
   },
   {
    "duration": 63,
    "start_time": "2021-07-11T12:58:54.831Z"
   },
   {
    "duration": 18,
    "start_time": "2021-07-11T12:58:54.896Z"
   },
   {
    "duration": 16,
    "start_time": "2021-07-11T12:58:54.916Z"
   },
   {
    "duration": 18,
    "start_time": "2021-07-11T12:58:54.934Z"
   },
   {
    "duration": 85,
    "start_time": "2021-07-11T12:58:54.954Z"
   },
   {
    "duration": 14,
    "start_time": "2021-07-11T12:58:55.041Z"
   },
   {
    "duration": 166,
    "start_time": "2021-07-11T12:58:55.058Z"
   },
   {
    "duration": 12,
    "start_time": "2021-07-11T12:58:55.226Z"
   },
   {
    "duration": 14,
    "start_time": "2021-07-11T12:58:55.239Z"
   },
   {
    "duration": 37,
    "start_time": "2021-07-11T12:58:55.254Z"
   },
   {
    "duration": 9,
    "start_time": "2021-07-11T12:58:55.293Z"
   },
   {
    "duration": 10,
    "start_time": "2021-07-11T12:58:55.303Z"
   },
   {
    "duration": 7,
    "start_time": "2021-07-11T12:58:55.315Z"
   },
   {
    "duration": 15,
    "start_time": "2021-07-11T12:58:55.323Z"
   },
   {
    "duration": 12,
    "start_time": "2021-07-11T12:58:55.339Z"
   },
   {
    "duration": 11,
    "start_time": "2021-07-11T12:58:55.352Z"
   },
   {
    "duration": 30,
    "start_time": "2021-07-11T12:58:55.365Z"
   },
   {
    "duration": 14,
    "start_time": "2021-07-11T12:58:55.396Z"
   },
   {
    "duration": 4,
    "start_time": "2021-07-11T12:58:55.411Z"
   },
   {
    "duration": 1096,
    "start_time": "2021-07-11T12:59:03.770Z"
   },
   {
    "duration": 68,
    "start_time": "2021-07-11T12:59:04.868Z"
   },
   {
    "duration": 31,
    "start_time": "2021-07-11T12:59:04.938Z"
   },
   {
    "duration": 5,
    "start_time": "2021-07-11T12:59:04.971Z"
   },
   {
    "duration": 12,
    "start_time": "2021-07-11T12:59:04.978Z"
   },
   {
    "duration": 5,
    "start_time": "2021-07-11T12:59:04.992Z"
   },
   {
    "duration": 50,
    "start_time": "2021-07-11T12:59:04.999Z"
   },
   {
    "duration": 12,
    "start_time": "2021-07-11T12:59:05.051Z"
   },
   {
    "duration": 27,
    "start_time": "2021-07-11T12:59:05.065Z"
   },
   {
    "duration": 12,
    "start_time": "2021-07-11T12:59:05.094Z"
   },
   {
    "duration": 11,
    "start_time": "2021-07-11T12:59:05.108Z"
   },
   {
    "duration": 17,
    "start_time": "2021-07-11T12:59:05.120Z"
   },
   {
    "duration": 87,
    "start_time": "2021-07-11T12:59:05.139Z"
   },
   {
    "duration": 22,
    "start_time": "2021-07-11T12:59:05.227Z"
   },
   {
    "duration": 12,
    "start_time": "2021-07-11T12:59:05.251Z"
   },
   {
    "duration": 18,
    "start_time": "2021-07-11T12:59:05.264Z"
   },
   {
    "duration": 14,
    "start_time": "2021-07-11T12:59:05.283Z"
   },
   {
    "duration": 20,
    "start_time": "2021-07-11T12:59:05.298Z"
   },
   {
    "duration": 307,
    "start_time": "2021-07-11T12:59:05.320Z"
   },
   {
    "duration": 6,
    "start_time": "2021-07-11T12:59:05.629Z"
   },
   {
    "duration": 10,
    "start_time": "2021-07-11T12:59:05.637Z"
   },
   {
    "duration": 317,
    "start_time": "2021-07-11T12:59:05.648Z"
   },
   {
    "duration": 410,
    "start_time": "2021-07-11T12:59:05.967Z"
   },
   {
    "duration": 87,
    "start_time": "2021-07-11T12:59:06.378Z"
   },
   {
    "duration": 150,
    "start_time": "2021-07-11T12:59:06.467Z"
   },
   {
    "duration": 81,
    "start_time": "2021-07-11T12:59:06.618Z"
   },
   {
    "duration": 8,
    "start_time": "2021-07-11T12:59:06.703Z"
   },
   {
    "duration": 7,
    "start_time": "2021-07-11T12:59:06.713Z"
   },
   {
    "duration": 34,
    "start_time": "2021-07-11T12:59:06.721Z"
   },
   {
    "duration": 195,
    "start_time": "2021-07-11T12:59:06.757Z"
   },
   {
    "duration": 11,
    "start_time": "2021-07-11T12:59:06.954Z"
   },
   {
    "duration": 4,
    "start_time": "2021-07-11T12:59:06.966Z"
   },
   {
    "duration": 20,
    "start_time": "2021-07-11T12:59:06.972Z"
   },
   {
    "duration": 2313,
    "start_time": "2021-07-11T12:59:06.993Z"
   },
   {
    "duration": 61,
    "start_time": "2021-07-11T12:59:09.307Z"
   },
   {
    "duration": 201,
    "start_time": "2021-07-11T12:59:09.370Z"
   },
   {
    "duration": 44,
    "start_time": "2021-07-11T12:59:09.573Z"
   },
   {
    "duration": 35,
    "start_time": "2021-07-11T12:59:09.619Z"
   },
   {
    "duration": 12,
    "start_time": "2021-07-11T12:59:09.655Z"
   },
   {
    "duration": 28,
    "start_time": "2021-07-11T12:59:09.668Z"
   },
   {
    "duration": 12,
    "start_time": "2021-07-11T12:59:09.698Z"
   },
   {
    "duration": 50,
    "start_time": "2021-07-11T12:59:09.711Z"
   },
   {
    "duration": 32,
    "start_time": "2021-07-11T12:59:09.763Z"
   },
   {
    "duration": 213,
    "start_time": "2021-07-11T12:59:09.797Z"
   },
   {
    "duration": 16,
    "start_time": "2021-07-11T12:59:10.012Z"
   },
   {
    "duration": 20,
    "start_time": "2021-07-11T12:59:10.030Z"
   },
   {
    "duration": 43,
    "start_time": "2021-07-11T12:59:10.052Z"
   },
   {
    "duration": 11,
    "start_time": "2021-07-11T12:59:10.097Z"
   },
   {
    "duration": 8,
    "start_time": "2021-07-11T12:59:10.110Z"
   },
   {
    "duration": 9,
    "start_time": "2021-07-11T12:59:10.120Z"
   },
   {
    "duration": 8,
    "start_time": "2021-07-11T12:59:10.130Z"
   },
   {
    "duration": 18,
    "start_time": "2021-07-11T12:59:10.140Z"
   },
   {
    "duration": 6,
    "start_time": "2021-07-11T12:59:10.160Z"
   },
   {
    "duration": 29,
    "start_time": "2021-07-11T12:59:10.167Z"
   },
   {
    "duration": 13,
    "start_time": "2021-07-11T12:59:10.198Z"
   },
   {
    "duration": 5,
    "start_time": "2021-07-11T12:59:10.212Z"
   },
   {
    "duration": 15,
    "start_time": "2021-07-11T13:00:29.074Z"
   },
   {
    "duration": 10,
    "start_time": "2021-07-11T13:01:39.587Z"
   },
   {
    "duration": 10,
    "start_time": "2021-07-11T13:01:49.355Z"
   },
   {
    "duration": 12,
    "start_time": "2021-07-11T13:01:56.625Z"
   },
   {
    "duration": 10,
    "start_time": "2021-07-11T13:02:00.843Z"
   },
   {
    "duration": 9,
    "start_time": "2021-07-11T13:02:33.380Z"
   },
   {
    "duration": 1042,
    "start_time": "2021-07-11T13:02:51.446Z"
   },
   {
    "duration": 68,
    "start_time": "2021-07-11T13:02:52.490Z"
   },
   {
    "duration": 31,
    "start_time": "2021-07-11T13:02:52.560Z"
   },
   {
    "duration": 5,
    "start_time": "2021-07-11T13:02:52.593Z"
   },
   {
    "duration": 11,
    "start_time": "2021-07-11T13:02:52.600Z"
   },
   {
    "duration": 6,
    "start_time": "2021-07-11T13:02:52.612Z"
   },
   {
    "duration": 72,
    "start_time": "2021-07-11T13:02:52.619Z"
   },
   {
    "duration": 14,
    "start_time": "2021-07-11T13:02:52.693Z"
   },
   {
    "duration": 10,
    "start_time": "2021-07-11T13:02:52.710Z"
   },
   {
    "duration": 4,
    "start_time": "2021-07-11T13:02:52.722Z"
   },
   {
    "duration": 8,
    "start_time": "2021-07-11T13:02:52.728Z"
   },
   {
    "duration": 8,
    "start_time": "2021-07-11T13:02:52.738Z"
   },
   {
    "duration": 121,
    "start_time": "2021-07-11T13:02:52.748Z"
   },
   {
    "duration": 33,
    "start_time": "2021-07-11T13:02:52.871Z"
   },
   {
    "duration": 9,
    "start_time": "2021-07-11T13:02:52.905Z"
   },
   {
    "duration": 17,
    "start_time": "2021-07-11T13:02:52.916Z"
   },
   {
    "duration": 6,
    "start_time": "2021-07-11T13:02:52.936Z"
   },
   {
    "duration": 20,
    "start_time": "2021-07-11T13:02:52.944Z"
   },
   {
    "duration": 548,
    "start_time": "2021-07-11T13:02:52.966Z"
   },
   {
    "duration": 10,
    "start_time": "2021-07-11T13:02:53.516Z"
   },
   {
    "duration": 8,
    "start_time": "2021-07-11T13:02:53.528Z"
   },
   {
    "duration": 557,
    "start_time": "2021-07-11T13:02:53.538Z"
   },
   {
    "duration": 459,
    "start_time": "2021-07-11T13:02:54.097Z"
   },
   {
    "duration": 98,
    "start_time": "2021-07-11T13:02:54.558Z"
   },
   {
    "duration": 162,
    "start_time": "2021-07-11T13:02:54.658Z"
   },
   {
    "duration": 88,
    "start_time": "2021-07-11T13:02:54.822Z"
   },
   {
    "duration": 10,
    "start_time": "2021-07-11T13:02:54.914Z"
   },
   {
    "duration": 9,
    "start_time": "2021-07-11T13:02:54.927Z"
   },
   {
    "duration": 63,
    "start_time": "2021-07-11T13:02:54.938Z"
   },
   {
    "duration": 160,
    "start_time": "2021-07-11T13:02:55.003Z"
   },
   {
    "duration": 12,
    "start_time": "2021-07-11T13:02:55.164Z"
   },
   {
    "duration": 13,
    "start_time": "2021-07-11T13:02:55.178Z"
   },
   {
    "duration": 24,
    "start_time": "2021-07-11T13:02:55.193Z"
   },
   {
    "duration": 2400,
    "start_time": "2021-07-11T13:02:55.219Z"
   },
   {
    "duration": 78,
    "start_time": "2021-07-11T13:02:57.620Z"
   },
   {
    "duration": 200,
    "start_time": "2021-07-11T13:02:57.699Z"
   },
   {
    "duration": 36,
    "start_time": "2021-07-11T13:02:57.900Z"
   },
   {
    "duration": 36,
    "start_time": "2021-07-11T13:02:57.938Z"
   },
   {
    "duration": 13,
    "start_time": "2021-07-11T13:02:57.991Z"
   },
   {
    "duration": 12,
    "start_time": "2021-07-11T13:02:58.005Z"
   },
   {
    "duration": 12,
    "start_time": "2021-07-11T13:02:58.018Z"
   },
   {
    "duration": 32,
    "start_time": "2021-07-11T13:02:58.032Z"
   },
   {
    "duration": 9,
    "start_time": "2021-07-11T13:02:58.091Z"
   },
   {
    "duration": 143,
    "start_time": "2021-07-11T13:02:58.102Z"
   },
   {
    "duration": 11,
    "start_time": "2021-07-11T13:02:58.247Z"
   },
   {
    "duration": 13,
    "start_time": "2021-07-11T13:02:58.260Z"
   },
   {
    "duration": 28,
    "start_time": "2021-07-11T13:02:58.274Z"
   },
   {
    "duration": 10,
    "start_time": "2021-07-11T13:02:58.303Z"
   },
   {
    "duration": 7,
    "start_time": "2021-07-11T13:02:58.314Z"
   },
   {
    "duration": 6,
    "start_time": "2021-07-11T13:02:58.322Z"
   },
   {
    "duration": 4,
    "start_time": "2021-07-11T13:02:58.329Z"
   },
   {
    "duration": 8,
    "start_time": "2021-07-11T13:02:58.334Z"
   },
   {
    "duration": 7,
    "start_time": "2021-07-11T13:02:58.343Z"
   },
   {
    "duration": 49,
    "start_time": "2021-07-11T13:02:58.351Z"
   },
   {
    "duration": 4,
    "start_time": "2021-07-11T13:02:58.402Z"
   },
   {
    "duration": 11,
    "start_time": "2021-07-11T13:02:58.408Z"
   },
   {
    "duration": 10,
    "start_time": "2021-07-11T13:03:10.010Z"
   },
   {
    "duration": 11,
    "start_time": "2021-07-11T13:04:26.209Z"
   },
   {
    "duration": 11,
    "start_time": "2021-07-11T13:04:45.933Z"
   },
   {
    "duration": 16,
    "start_time": "2021-07-11T13:07:26.735Z"
   },
   {
    "duration": 5,
    "start_time": "2021-07-11T13:07:27.013Z"
   },
   {
    "duration": 15,
    "start_time": "2021-07-11T13:07:29.340Z"
   },
   {
    "duration": 5,
    "start_time": "2021-07-11T13:07:29.622Z"
   },
   {
    "duration": 14,
    "start_time": "2021-07-11T13:07:44.472Z"
   },
   {
    "duration": 4,
    "start_time": "2021-07-11T13:07:44.727Z"
   },
   {
    "duration": 14,
    "start_time": "2021-07-11T13:07:52.207Z"
   },
   {
    "duration": 5,
    "start_time": "2021-07-11T13:07:53.017Z"
   },
   {
    "duration": 1070,
    "start_time": "2021-07-11T13:08:07.006Z"
   },
   {
    "duration": 66,
    "start_time": "2021-07-11T13:08:08.077Z"
   },
   {
    "duration": 31,
    "start_time": "2021-07-11T13:08:08.145Z"
   },
   {
    "duration": 4,
    "start_time": "2021-07-11T13:08:08.178Z"
   },
   {
    "duration": 12,
    "start_time": "2021-07-11T13:08:08.184Z"
   },
   {
    "duration": 4,
    "start_time": "2021-07-11T13:08:08.198Z"
   },
   {
    "duration": 47,
    "start_time": "2021-07-11T13:08:08.204Z"
   },
   {
    "duration": 12,
    "start_time": "2021-07-11T13:08:08.253Z"
   },
   {
    "duration": 25,
    "start_time": "2021-07-11T13:08:08.267Z"
   },
   {
    "duration": 6,
    "start_time": "2021-07-11T13:08:08.293Z"
   },
   {
    "duration": 7,
    "start_time": "2021-07-11T13:08:08.300Z"
   },
   {
    "duration": 7,
    "start_time": "2021-07-11T13:08:08.309Z"
   },
   {
    "duration": 104,
    "start_time": "2021-07-11T13:08:08.318Z"
   },
   {
    "duration": 22,
    "start_time": "2021-07-11T13:08:08.424Z"
   },
   {
    "duration": 8,
    "start_time": "2021-07-11T13:08:08.448Z"
   },
   {
    "duration": 17,
    "start_time": "2021-07-11T13:08:08.457Z"
   },
   {
    "duration": 16,
    "start_time": "2021-07-11T13:08:08.476Z"
   },
   {
    "duration": 13,
    "start_time": "2021-07-11T13:08:08.494Z"
   },
   {
    "duration": 511,
    "start_time": "2021-07-11T13:08:08.509Z"
   },
   {
    "duration": 10,
    "start_time": "2021-07-11T13:08:09.022Z"
   },
   {
    "duration": 8,
    "start_time": "2021-07-11T13:08:09.033Z"
   },
   {
    "duration": 513,
    "start_time": "2021-07-11T13:08:09.042Z"
   },
   {
    "duration": 663,
    "start_time": "2021-07-11T13:08:09.557Z"
   },
   {
    "duration": 142,
    "start_time": "2021-07-11T13:08:10.222Z"
   },
   {
    "duration": 199,
    "start_time": "2021-07-11T13:08:10.366Z"
   },
   {
    "duration": 114,
    "start_time": "2021-07-11T13:08:10.567Z"
   },
   {
    "duration": 12,
    "start_time": "2021-07-11T13:08:10.694Z"
   },
   {
    "duration": 9,
    "start_time": "2021-07-11T13:08:10.708Z"
   },
   {
    "duration": 43,
    "start_time": "2021-07-11T13:08:10.719Z"
   },
   {
    "duration": 155,
    "start_time": "2021-07-11T13:08:10.764Z"
   },
   {
    "duration": 12,
    "start_time": "2021-07-11T13:08:10.922Z"
   },
   {
    "duration": 9,
    "start_time": "2021-07-11T13:08:10.936Z"
   },
   {
    "duration": 28,
    "start_time": "2021-07-11T13:08:10.947Z"
   },
   {
    "duration": 2514,
    "start_time": "2021-07-11T13:08:10.977Z"
   },
   {
    "duration": 60,
    "start_time": "2021-07-11T13:08:13.493Z"
   },
   {
    "duration": 206,
    "start_time": "2021-07-11T13:08:13.554Z"
   },
   {
    "duration": 50,
    "start_time": "2021-07-11T13:08:13.762Z"
   },
   {
    "duration": 37,
    "start_time": "2021-07-11T13:08:13.814Z"
   },
   {
    "duration": 12,
    "start_time": "2021-07-11T13:08:13.852Z"
   },
   {
    "duration": 32,
    "start_time": "2021-07-11T13:08:13.865Z"
   },
   {
    "duration": 12,
    "start_time": "2021-07-11T13:08:13.898Z"
   },
   {
    "duration": 34,
    "start_time": "2021-07-11T13:08:13.911Z"
   },
   {
    "duration": 8,
    "start_time": "2021-07-11T13:08:13.946Z"
   },
   {
    "duration": 156,
    "start_time": "2021-07-11T13:08:13.956Z"
   },
   {
    "duration": 11,
    "start_time": "2021-07-11T13:08:14.113Z"
   },
   {
    "duration": 13,
    "start_time": "2021-07-11T13:08:14.126Z"
   },
   {
    "duration": 13,
    "start_time": "2021-07-11T13:08:14.140Z"
   },
   {
    "duration": 7,
    "start_time": "2021-07-11T13:08:14.155Z"
   },
   {
    "duration": 6,
    "start_time": "2021-07-11T13:08:14.191Z"
   },
   {
    "duration": 9,
    "start_time": "2021-07-11T13:08:14.199Z"
   },
   {
    "duration": 5,
    "start_time": "2021-07-11T13:08:14.209Z"
   },
   {
    "duration": 9,
    "start_time": "2021-07-11T13:08:14.215Z"
   },
   {
    "duration": 11,
    "start_time": "2021-07-11T13:08:14.225Z"
   },
   {
    "duration": 12,
    "start_time": "2021-07-11T13:08:14.237Z"
   },
   {
    "duration": 13,
    "start_time": "2021-07-11T13:08:14.251Z"
   },
   {
    "duration": 5,
    "start_time": "2021-07-11T13:08:14.265Z"
   },
   {
    "duration": 166,
    "start_time": "2021-07-11T13:28:46.339Z"
   },
   {
    "duration": 306,
    "start_time": "2021-07-11T13:29:07.456Z"
   },
   {
    "duration": 165,
    "start_time": "2021-07-11T13:29:28.048Z"
   },
   {
    "duration": 457,
    "start_time": "2021-07-11T13:29:35.576Z"
   },
   {
    "duration": 239,
    "start_time": "2021-07-11T13:29:40.463Z"
   },
   {
    "duration": 2,
    "start_time": "2021-07-11T15:59:26.464Z"
   },
   {
    "duration": 3,
    "start_time": "2021-07-11T15:59:37.280Z"
   },
   {
    "duration": 250,
    "start_time": "2021-07-11T15:59:54.692Z"
   },
   {
    "duration": 3,
    "start_time": "2021-07-11T16:00:16.542Z"
   },
   {
    "duration": 233,
    "start_time": "2021-07-11T16:00:38.677Z"
   },
   {
    "duration": 160,
    "start_time": "2021-07-11T16:00:42.936Z"
   },
   {
    "duration": 1498,
    "start_time": "2021-07-12T09:52:53.600Z"
   },
   {
    "duration": 279,
    "start_time": "2021-07-12T09:52:55.101Z"
   },
   {
    "duration": 31,
    "start_time": "2021-07-12T09:52:55.383Z"
   },
   {
    "duration": 6,
    "start_time": "2021-07-12T09:52:55.417Z"
   },
   {
    "duration": 19,
    "start_time": "2021-07-12T09:52:55.426Z"
   },
   {
    "duration": 8,
    "start_time": "2021-07-12T09:52:55.448Z"
   },
   {
    "duration": 113,
    "start_time": "2021-07-12T09:52:55.459Z"
   },
   {
    "duration": 36,
    "start_time": "2021-07-12T09:52:55.576Z"
   },
   {
    "duration": 18,
    "start_time": "2021-07-12T09:52:55.617Z"
   },
   {
    "duration": 7,
    "start_time": "2021-07-12T09:52:55.638Z"
   },
   {
    "duration": 12,
    "start_time": "2021-07-12T09:52:55.648Z"
   },
   {
    "duration": 54,
    "start_time": "2021-07-12T09:52:55.662Z"
   },
   {
    "duration": 144,
    "start_time": "2021-07-12T09:52:55.719Z"
   },
   {
    "duration": 46,
    "start_time": "2021-07-12T09:52:55.866Z"
   },
   {
    "duration": 12,
    "start_time": "2021-07-12T09:52:55.915Z"
   },
   {
    "duration": 21,
    "start_time": "2021-07-12T09:52:55.929Z"
   },
   {
    "duration": 9,
    "start_time": "2021-07-12T09:52:55.953Z"
   },
   {
    "duration": 46,
    "start_time": "2021-07-12T09:52:55.964Z"
   },
   {
    "duration": 500,
    "start_time": "2021-07-12T09:52:56.013Z"
   },
   {
    "duration": 11,
    "start_time": "2021-07-12T09:52:56.515Z"
   },
   {
    "duration": 14,
    "start_time": "2021-07-12T09:52:56.528Z"
   },
   {
    "duration": 341,
    "start_time": "2021-07-12T09:52:56.545Z"
   },
   {
    "duration": 794,
    "start_time": "2021-07-12T09:52:56.892Z"
   },
   {
    "duration": 172,
    "start_time": "2021-07-12T09:52:57.689Z"
   },
   {
    "duration": 153,
    "start_time": "2021-07-12T09:52:57.863Z"
   },
   {
    "duration": 218,
    "start_time": "2021-07-12T09:52:58.018Z"
   },
   {
    "duration": 14,
    "start_time": "2021-07-12T09:52:58.238Z"
   },
   {
    "duration": 11,
    "start_time": "2021-07-12T09:52:58.254Z"
   },
   {
    "duration": 78,
    "start_time": "2021-07-12T09:52:58.268Z"
   },
   {
    "duration": 272,
    "start_time": "2021-07-12T09:52:58.349Z"
   },
   {
    "duration": 17,
    "start_time": "2021-07-12T09:52:58.625Z"
   },
   {
    "duration": 7,
    "start_time": "2021-07-12T09:52:58.645Z"
   },
   {
    "duration": 61,
    "start_time": "2021-07-12T09:52:58.654Z"
   },
   {
    "duration": 4029,
    "start_time": "2021-07-12T09:52:58.717Z"
   },
   {
    "duration": 135,
    "start_time": "2021-07-12T09:53:02.748Z"
   },
   {
    "duration": 385,
    "start_time": "2021-07-12T09:53:02.885Z"
   },
   {
    "duration": 74,
    "start_time": "2021-07-12T09:53:03.272Z"
   },
   {
    "duration": 74,
    "start_time": "2021-07-12T09:53:03.348Z"
   },
   {
    "duration": 21,
    "start_time": "2021-07-12T09:53:03.424Z"
   },
   {
    "duration": 20,
    "start_time": "2021-07-12T09:53:03.447Z"
   },
   {
    "duration": 52,
    "start_time": "2021-07-12T09:53:03.469Z"
   },
   {
    "duration": 58,
    "start_time": "2021-07-12T09:53:03.524Z"
   },
   {
    "duration": 29,
    "start_time": "2021-07-12T09:53:03.585Z"
   },
   {
    "duration": 272,
    "start_time": "2021-07-12T09:53:03.617Z"
   },
   {
    "duration": 30,
    "start_time": "2021-07-12T09:53:03.892Z"
   },
   {
    "duration": 20,
    "start_time": "2021-07-12T09:53:03.924Z"
   },
   {
    "duration": 21,
    "start_time": "2021-07-12T09:53:03.947Z"
   },
   {
    "duration": 47,
    "start_time": "2021-07-12T09:53:03.970Z"
   },
   {
    "duration": 11,
    "start_time": "2021-07-12T09:53:04.019Z"
   },
   {
    "duration": 15,
    "start_time": "2021-07-12T09:53:04.032Z"
   },
   {
    "duration": 7,
    "start_time": "2021-07-12T09:53:04.049Z"
   },
   {
    "duration": 14,
    "start_time": "2021-07-12T09:53:04.059Z"
   },
   {
    "duration": 37,
    "start_time": "2021-07-12T09:53:04.076Z"
   },
   {
    "duration": 18,
    "start_time": "2021-07-12T09:53:04.116Z"
   },
   {
    "duration": 20,
    "start_time": "2021-07-12T09:53:04.137Z"
   },
   {
    "duration": 8,
    "start_time": "2021-07-12T09:53:04.159Z"
   },
   {
    "duration": 4,
    "start_time": "2021-07-12T09:54:38.842Z"
   },
   {
    "duration": 1488,
    "start_time": "2021-07-12T09:54:44.862Z"
   },
   {
    "duration": 95,
    "start_time": "2021-07-12T09:54:46.352Z"
   },
   {
    "duration": 30,
    "start_time": "2021-07-12T09:54:46.450Z"
   },
   {
    "duration": 7,
    "start_time": "2021-07-12T09:54:46.482Z"
   },
   {
    "duration": 29,
    "start_time": "2021-07-12T09:54:46.491Z"
   },
   {
    "duration": 7,
    "start_time": "2021-07-12T09:54:46.522Z"
   },
   {
    "duration": 107,
    "start_time": "2021-07-12T09:54:46.531Z"
   },
   {
    "duration": 34,
    "start_time": "2021-07-12T09:54:46.641Z"
   },
   {
    "duration": 34,
    "start_time": "2021-07-12T09:54:46.679Z"
   },
   {
    "duration": 11,
    "start_time": "2021-07-12T09:54:46.716Z"
   },
   {
    "duration": 16,
    "start_time": "2021-07-12T09:54:46.730Z"
   },
   {
    "duration": 19,
    "start_time": "2021-07-12T09:54:46.750Z"
   },
   {
    "duration": 180,
    "start_time": "2021-07-12T09:54:46.772Z"
   },
   {
    "duration": 38,
    "start_time": "2021-07-12T09:54:46.954Z"
   },
   {
    "duration": 20,
    "start_time": "2021-07-12T09:54:46.995Z"
   },
   {
    "duration": 23,
    "start_time": "2021-07-12T09:54:47.017Z"
   },
   {
    "duration": 8,
    "start_time": "2021-07-12T09:54:47.043Z"
   },
   {
    "duration": 29,
    "start_time": "2021-07-12T09:54:47.054Z"
   },
   {
    "duration": 524,
    "start_time": "2021-07-12T09:54:47.110Z"
   },
   {
    "duration": 11,
    "start_time": "2021-07-12T09:54:47.637Z"
   },
   {
    "duration": 15,
    "start_time": "2021-07-12T09:54:47.651Z"
   },
   {
    "duration": 350,
    "start_time": "2021-07-12T09:54:47.669Z"
   },
   {
    "duration": 809,
    "start_time": "2021-07-12T09:54:48.027Z"
   },
   {
    "duration": 179,
    "start_time": "2021-07-12T09:54:48.839Z"
   },
   {
    "duration": 153,
    "start_time": "2021-07-12T09:54:49.021Z"
   },
   {
    "duration": 222,
    "start_time": "2021-07-12T09:54:49.176Z"
   },
   {
    "duration": 17,
    "start_time": "2021-07-12T09:54:49.401Z"
   },
   {
    "duration": 15,
    "start_time": "2021-07-12T09:54:49.421Z"
   },
   {
    "duration": 91,
    "start_time": "2021-07-12T09:54:49.438Z"
   },
   {
    "duration": 273,
    "start_time": "2021-07-12T09:54:49.532Z"
   },
   {
    "duration": 19,
    "start_time": "2021-07-12T09:54:49.810Z"
   },
   {
    "duration": 9,
    "start_time": "2021-07-12T09:54:49.832Z"
   },
   {
    "duration": 65,
    "start_time": "2021-07-12T09:54:49.844Z"
   },
   {
    "duration": 4045,
    "start_time": "2021-07-12T09:54:49.911Z"
   },
   {
    "duration": 133,
    "start_time": "2021-07-12T09:54:53.958Z"
   },
   {
    "duration": 380,
    "start_time": "2021-07-12T09:54:54.093Z"
   },
   {
    "duration": 75,
    "start_time": "2021-07-12T09:54:54.475Z"
   },
   {
    "duration": 73,
    "start_time": "2021-07-12T09:54:54.552Z"
   },
   {
    "duration": 20,
    "start_time": "2021-07-12T09:54:54.627Z"
   },
   {
    "duration": 20,
    "start_time": "2021-07-12T09:54:54.649Z"
   },
   {
    "duration": 52,
    "start_time": "2021-07-12T09:54:54.672Z"
   },
   {
    "duration": 77,
    "start_time": "2021-07-12T09:54:54.726Z"
   },
   {
    "duration": 13,
    "start_time": "2021-07-12T09:54:54.806Z"
   },
   {
    "duration": 275,
    "start_time": "2021-07-12T09:54:54.822Z"
   },
   {
    "duration": 23,
    "start_time": "2021-07-12T09:54:55.100Z"
   },
   {
    "duration": 26,
    "start_time": "2021-07-12T09:54:55.125Z"
   },
   {
    "duration": 22,
    "start_time": "2021-07-12T09:54:55.154Z"
   },
   {
    "duration": 43,
    "start_time": "2021-07-12T09:54:55.178Z"
   },
   {
    "duration": 19,
    "start_time": "2021-07-12T09:54:55.223Z"
   },
   {
    "duration": 21,
    "start_time": "2021-07-12T09:54:55.245Z"
   },
   {
    "duration": 9,
    "start_time": "2021-07-12T09:54:55.269Z"
   },
   {
    "duration": 30,
    "start_time": "2021-07-12T09:54:55.280Z"
   },
   {
    "duration": 11,
    "start_time": "2021-07-12T09:54:55.312Z"
   },
   {
    "duration": 20,
    "start_time": "2021-07-12T09:54:55.326Z"
   },
   {
    "duration": 1497,
    "start_time": "2021-07-12T09:54:55.349Z"
   },
   {
    "duration": 93,
    "start_time": "2021-07-12T09:54:56.756Z"
   },
   {
    "duration": 339,
    "start_time": "2021-07-12T09:55:21.704Z"
   },
   {
    "duration": 338,
    "start_time": "2021-07-12T09:55:24.070Z"
   },
   {
    "duration": 29,
    "start_time": "2021-07-12T09:55:26.905Z"
   },
   {
    "duration": 1658,
    "start_time": "2021-07-12T09:55:40.976Z"
   },
   {
    "duration": 1556,
    "start_time": "2021-07-12T09:55:49.433Z"
   },
   {
    "duration": 96,
    "start_time": "2021-07-12T09:55:50.991Z"
   },
   {
    "duration": 22,
    "start_time": "2021-07-12T09:55:51.091Z"
   },
   {
    "duration": 7,
    "start_time": "2021-07-12T09:55:51.117Z"
   },
   {
    "duration": 22,
    "start_time": "2021-07-12T09:55:51.127Z"
   },
   {
    "duration": 8,
    "start_time": "2021-07-12T09:55:51.151Z"
   },
   {
    "duration": 117,
    "start_time": "2021-07-12T09:55:51.161Z"
   },
   {
    "duration": 36,
    "start_time": "2021-07-12T09:55:51.281Z"
   },
   {
    "duration": 15,
    "start_time": "2021-07-12T09:55:51.320Z"
   },
   {
    "duration": 9,
    "start_time": "2021-07-12T09:55:51.337Z"
   },
   {
    "duration": 12,
    "start_time": "2021-07-12T09:55:51.348Z"
   },
   {
    "duration": 14,
    "start_time": "2021-07-12T09:55:51.362Z"
   },
   {
    "duration": 186,
    "start_time": "2021-07-12T09:55:51.378Z"
   },
   {
    "duration": 44,
    "start_time": "2021-07-12T09:55:51.567Z"
   },
   {
    "duration": 7,
    "start_time": "2021-07-12T09:55:51.613Z"
   },
   {
    "duration": 20,
    "start_time": "2021-07-12T09:55:51.622Z"
   },
   {
    "duration": 8,
    "start_time": "2021-07-12T09:55:51.644Z"
   },
   {
    "duration": 57,
    "start_time": "2021-07-12T09:55:51.654Z"
   },
   {
    "duration": 511,
    "start_time": "2021-07-12T09:55:51.713Z"
   },
   {
    "duration": 12,
    "start_time": "2021-07-12T09:55:52.226Z"
   },
   {
    "duration": 15,
    "start_time": "2021-07-12T09:55:52.240Z"
   },
   {
    "duration": 354,
    "start_time": "2021-07-12T09:55:52.258Z"
   },
   {
    "duration": 818,
    "start_time": "2021-07-12T09:55:52.619Z"
   },
   {
    "duration": 173,
    "start_time": "2021-07-12T09:55:53.441Z"
   },
   {
    "duration": 159,
    "start_time": "2021-07-12T09:55:53.616Z"
   },
   {
    "duration": 233,
    "start_time": "2021-07-12T09:55:53.777Z"
   },
   {
    "duration": 13,
    "start_time": "2021-07-12T09:55:54.013Z"
   },
   {
    "duration": 15,
    "start_time": "2021-07-12T09:55:54.029Z"
   },
   {
    "duration": 93,
    "start_time": "2021-07-12T09:55:54.047Z"
   },
   {
    "duration": 281,
    "start_time": "2021-07-12T09:55:54.143Z"
   },
   {
    "duration": 18,
    "start_time": "2021-07-12T09:55:54.426Z"
   },
   {
    "duration": 7,
    "start_time": "2021-07-12T09:55:54.446Z"
   },
   {
    "duration": 63,
    "start_time": "2021-07-12T09:55:54.455Z"
   },
   {
    "duration": 4196,
    "start_time": "2021-07-12T09:55:54.520Z"
   },
   {
    "duration": 150,
    "start_time": "2021-07-12T09:55:58.719Z"
   },
   {
    "duration": 378,
    "start_time": "2021-07-12T09:55:58.871Z"
   },
   {
    "duration": 75,
    "start_time": "2021-07-12T09:55:59.251Z"
   },
   {
    "duration": 63,
    "start_time": "2021-07-12T09:55:59.328Z"
   },
   {
    "duration": 33,
    "start_time": "2021-07-12T09:55:59.394Z"
   },
   {
    "duration": 21,
    "start_time": "2021-07-12T09:55:59.430Z"
   },
   {
    "duration": 21,
    "start_time": "2021-07-12T09:55:59.453Z"
   },
   {
    "duration": 61,
    "start_time": "2021-07-12T09:55:59.510Z"
   },
   {
    "duration": 35,
    "start_time": "2021-07-12T09:55:59.574Z"
   },
   {
    "duration": 289,
    "start_time": "2021-07-12T09:55:59.612Z"
   },
   {
    "duration": 19,
    "start_time": "2021-07-12T09:55:59.908Z"
   },
   {
    "duration": 20,
    "start_time": "2021-07-12T09:55:59.930Z"
   },
   {
    "duration": 35,
    "start_time": "2021-07-12T09:55:59.953Z"
   },
   {
    "duration": 13,
    "start_time": "2021-07-12T09:56:00.009Z"
   },
   {
    "duration": 40,
    "start_time": "2021-07-12T09:56:00.024Z"
   },
   {
    "duration": 36,
    "start_time": "2021-07-12T09:56:00.067Z"
   },
   {
    "duration": 19,
    "start_time": "2021-07-12T09:56:00.106Z"
   },
   {
    "duration": 35,
    "start_time": "2021-07-12T09:56:00.128Z"
   },
   {
    "duration": 10,
    "start_time": "2021-07-12T09:56:00.165Z"
   },
   {
    "duration": 17,
    "start_time": "2021-07-12T09:56:00.178Z"
   },
   {
    "duration": 1872,
    "start_time": "2021-07-12T09:56:00.197Z"
   },
   {
    "duration": 73,
    "start_time": "2021-07-12T09:56:01.998Z"
   },
   {
    "duration": 6,
    "start_time": "2021-07-12T09:56:22.899Z"
   },
   {
    "duration": 5,
    "start_time": "2021-07-12T09:56:25.737Z"
   },
   {
    "duration": 1377,
    "start_time": "2021-07-12T09:56:31.985Z"
   },
   {
    "duration": 1499,
    "start_time": "2021-07-12T09:56:41.483Z"
   },
   {
    "duration": 5,
    "start_time": "2021-07-12T09:56:50.910Z"
   },
   {
    "duration": 11,
    "start_time": "2021-07-12T09:57:14.601Z"
   },
   {
    "duration": 6,
    "start_time": "2021-07-12T09:57:28.223Z"
   },
   {
    "duration": 396,
    "start_time": "2021-07-12T09:57:38.097Z"
   },
   {
    "duration": 333,
    "start_time": "2021-07-12T09:57:40.748Z"
   },
   {
    "duration": 344,
    "start_time": "2021-07-12T09:57:48.165Z"
   },
   {
    "duration": 343,
    "start_time": "2021-07-12T09:58:00.385Z"
   },
   {
    "duration": 4,
    "start_time": "2021-07-12T09:58:09.669Z"
   },
   {
    "duration": 9,
    "start_time": "2021-07-12T09:58:10.578Z"
   },
   {
    "duration": 11,
    "start_time": "2021-07-12T09:58:10.738Z"
   },
   {
    "duration": 16,
    "start_time": "2021-07-12T09:58:10.911Z"
   },
   {
    "duration": 5,
    "start_time": "2021-07-12T09:58:12.124Z"
   },
   {
    "duration": 6,
    "start_time": "2021-07-12T09:58:12.284Z"
   },
   {
    "duration": 1420,
    "start_time": "2021-07-12T09:58:12.472Z"
   },
   {
    "duration": 41,
    "start_time": "2021-07-12T09:58:13.854Z"
   },
   {
    "duration": 4,
    "start_time": "2021-07-12T09:58:42.270Z"
   },
   {
    "duration": 1576,
    "start_time": "2021-07-12T09:58:48.572Z"
   },
   {
    "duration": 98,
    "start_time": "2021-07-12T09:58:50.151Z"
   },
   {
    "duration": 29,
    "start_time": "2021-07-12T09:58:50.252Z"
   },
   {
    "duration": 13,
    "start_time": "2021-07-12T09:58:50.284Z"
   },
   {
    "duration": 23,
    "start_time": "2021-07-12T09:58:50.299Z"
   },
   {
    "duration": 8,
    "start_time": "2021-07-12T09:58:50.324Z"
   },
   {
    "duration": 106,
    "start_time": "2021-07-12T09:58:50.334Z"
   },
   {
    "duration": 23,
    "start_time": "2021-07-12T09:58:50.443Z"
   },
   {
    "duration": 40,
    "start_time": "2021-07-12T09:58:50.470Z"
   },
   {
    "duration": 8,
    "start_time": "2021-07-12T09:58:50.513Z"
   },
   {
    "duration": 18,
    "start_time": "2021-07-12T09:58:50.524Z"
   },
   {
    "duration": 17,
    "start_time": "2021-07-12T09:58:50.545Z"
   },
   {
    "duration": 161,
    "start_time": "2021-07-12T09:58:50.564Z"
   },
   {
    "duration": 40,
    "start_time": "2021-07-12T09:58:50.727Z"
   },
   {
    "duration": 10,
    "start_time": "2021-07-12T09:58:50.770Z"
   },
   {
    "duration": 44,
    "start_time": "2021-07-12T09:58:50.783Z"
   },
   {
    "duration": 10,
    "start_time": "2021-07-12T09:58:50.830Z"
   },
   {
    "duration": 25,
    "start_time": "2021-07-12T09:58:50.843Z"
   },
   {
    "duration": 541,
    "start_time": "2021-07-12T09:58:50.871Z"
   },
   {
    "duration": 12,
    "start_time": "2021-07-12T09:58:51.415Z"
   },
   {
    "duration": 13,
    "start_time": "2021-07-12T09:58:51.431Z"
   },
   {
    "duration": 340,
    "start_time": "2021-07-12T09:58:51.448Z"
   },
   {
    "duration": 877,
    "start_time": "2021-07-12T09:58:51.791Z"
   },
   {
    "duration": 185,
    "start_time": "2021-07-12T09:58:52.670Z"
   },
   {
    "duration": 155,
    "start_time": "2021-07-12T09:58:52.857Z"
   },
   {
    "duration": 254,
    "start_time": "2021-07-12T09:58:53.015Z"
   },
   {
    "duration": 32,
    "start_time": "2021-07-12T09:58:53.277Z"
   },
   {
    "duration": 15,
    "start_time": "2021-07-12T09:58:53.313Z"
   },
   {
    "duration": 85,
    "start_time": "2021-07-12T09:58:53.331Z"
   },
   {
    "duration": 280,
    "start_time": "2021-07-12T09:58:53.418Z"
   },
   {
    "duration": 20,
    "start_time": "2021-07-12T09:58:53.709Z"
   },
   {
    "duration": 8,
    "start_time": "2021-07-12T09:58:53.733Z"
   },
   {
    "duration": 70,
    "start_time": "2021-07-12T09:58:53.744Z"
   },
   {
    "duration": 3982,
    "start_time": "2021-07-12T09:58:53.816Z"
   },
   {
    "duration": 146,
    "start_time": "2021-07-12T09:58:57.800Z"
   },
   {
    "duration": 383,
    "start_time": "2021-07-12T09:58:57.949Z"
   },
   {
    "duration": 75,
    "start_time": "2021-07-12T09:58:58.335Z"
   },
   {
    "duration": 66,
    "start_time": "2021-07-12T09:58:58.413Z"
   },
   {
    "duration": 43,
    "start_time": "2021-07-12T09:58:58.482Z"
   },
   {
    "duration": 22,
    "start_time": "2021-07-12T09:58:58.528Z"
   },
   {
    "duration": 61,
    "start_time": "2021-07-12T09:58:58.553Z"
   },
   {
    "duration": 67,
    "start_time": "2021-07-12T09:58:58.617Z"
   },
   {
    "duration": 31,
    "start_time": "2021-07-12T09:58:58.687Z"
   },
   {
    "duration": 284,
    "start_time": "2021-07-12T09:58:58.720Z"
   },
   {
    "duration": 20,
    "start_time": "2021-07-12T09:58:59.009Z"
   },
   {
    "duration": 23,
    "start_time": "2021-07-12T09:58:59.032Z"
   },
   {
    "duration": 64,
    "start_time": "2021-07-12T09:58:59.058Z"
   },
   {
    "duration": 16,
    "start_time": "2021-07-12T09:58:59.125Z"
   },
   {
    "duration": 13,
    "start_time": "2021-07-12T09:58:59.144Z"
   },
   {
    "duration": 11,
    "start_time": "2021-07-12T09:58:59.159Z"
   },
   {
    "duration": 39,
    "start_time": "2021-07-12T09:58:59.172Z"
   },
   {
    "duration": 20,
    "start_time": "2021-07-12T09:58:59.213Z"
   },
   {
    "duration": 13,
    "start_time": "2021-07-12T09:58:59.236Z"
   },
   {
    "duration": 24,
    "start_time": "2021-07-12T09:58:59.251Z"
   },
   {
    "duration": 5,
    "start_time": "2021-07-12T09:58:59.277Z"
   },
   {
    "duration": 27,
    "start_time": "2021-07-12T09:58:59.285Z"
   },
   {
    "duration": 33,
    "start_time": "2021-07-12T09:58:59.314Z"
   },
   {
    "duration": 7,
    "start_time": "2021-07-12T09:58:59.349Z"
   },
   {
    "duration": 1598,
    "start_time": "2021-07-12T09:59:08.611Z"
   },
   {
    "duration": 96,
    "start_time": "2021-07-12T09:59:10.211Z"
   },
   {
    "duration": 29,
    "start_time": "2021-07-12T09:59:10.310Z"
   },
   {
    "duration": 16,
    "start_time": "2021-07-12T09:59:10.341Z"
   },
   {
    "duration": 21,
    "start_time": "2021-07-12T09:59:10.359Z"
   },
   {
    "duration": 8,
    "start_time": "2021-07-12T09:59:10.383Z"
   },
   {
    "duration": 91,
    "start_time": "2021-07-12T09:59:10.393Z"
   },
   {
    "duration": 39,
    "start_time": "2021-07-12T09:59:10.487Z"
   },
   {
    "duration": 18,
    "start_time": "2021-07-12T09:59:10.529Z"
   },
   {
    "duration": 8,
    "start_time": "2021-07-12T09:59:10.550Z"
   },
   {
    "duration": 13,
    "start_time": "2021-07-12T09:59:10.560Z"
   },
   {
    "duration": 13,
    "start_time": "2021-07-12T09:59:10.608Z"
   },
   {
    "duration": 161,
    "start_time": "2021-07-12T09:59:10.624Z"
   },
   {
    "duration": 44,
    "start_time": "2021-07-12T09:59:10.787Z"
   },
   {
    "duration": 7,
    "start_time": "2021-07-12T09:59:10.833Z"
   },
   {
    "duration": 25,
    "start_time": "2021-07-12T09:59:10.843Z"
   },
   {
    "duration": 9,
    "start_time": "2021-07-12T09:59:10.871Z"
   },
   {
    "duration": 23,
    "start_time": "2021-07-12T09:59:10.910Z"
   },
   {
    "duration": 524,
    "start_time": "2021-07-12T09:59:10.936Z"
   },
   {
    "duration": 11,
    "start_time": "2021-07-12T09:59:11.463Z"
   },
   {
    "duration": 13,
    "start_time": "2021-07-12T09:59:11.477Z"
   },
   {
    "duration": 343,
    "start_time": "2021-07-12T09:59:11.492Z"
   },
   {
    "duration": 886,
    "start_time": "2021-07-12T09:59:11.841Z"
   },
   {
    "duration": 170,
    "start_time": "2021-07-12T09:59:12.730Z"
   },
   {
    "duration": 219,
    "start_time": "2021-07-12T09:59:12.903Z"
   },
   {
    "duration": 243,
    "start_time": "2021-07-12T09:59:13.125Z"
   },
   {
    "duration": 14,
    "start_time": "2021-07-12T09:59:13.370Z"
   },
   {
    "duration": 31,
    "start_time": "2021-07-12T09:59:13.386Z"
   },
   {
    "duration": 51,
    "start_time": "2021-07-12T09:59:13.420Z"
   },
   {
    "duration": 313,
    "start_time": "2021-07-12T09:59:13.474Z"
   },
   {
    "duration": 27,
    "start_time": "2021-07-12T09:59:13.789Z"
   },
   {
    "duration": 7,
    "start_time": "2021-07-12T09:59:13.818Z"
   },
   {
    "duration": 34,
    "start_time": "2021-07-12T09:59:13.828Z"
   },
   {
    "duration": 4307,
    "start_time": "2021-07-12T09:59:13.865Z"
   },
   {
    "duration": 137,
    "start_time": "2021-07-12T09:59:18.175Z"
   },
   {
    "duration": 390,
    "start_time": "2021-07-12T09:59:18.314Z"
   },
   {
    "duration": 64,
    "start_time": "2021-07-12T09:59:18.709Z"
   },
   {
    "duration": 85,
    "start_time": "2021-07-12T09:59:18.775Z"
   },
   {
    "duration": 19,
    "start_time": "2021-07-12T09:59:18.862Z"
   },
   {
    "duration": 36,
    "start_time": "2021-07-12T09:59:18.884Z"
   },
   {
    "duration": 19,
    "start_time": "2021-07-12T09:59:18.922Z"
   },
   {
    "duration": 86,
    "start_time": "2021-07-12T09:59:18.944Z"
   },
   {
    "duration": 13,
    "start_time": "2021-07-12T09:59:19.032Z"
   },
   {
    "duration": 276,
    "start_time": "2021-07-12T09:59:19.048Z"
   },
   {
    "duration": 18,
    "start_time": "2021-07-12T09:59:19.326Z"
   },
   {
    "duration": 21,
    "start_time": "2021-07-12T09:59:19.346Z"
   },
   {
    "duration": 51,
    "start_time": "2021-07-12T09:59:19.370Z"
   },
   {
    "duration": 13,
    "start_time": "2021-07-12T09:59:19.423Z"
   },
   {
    "duration": 10,
    "start_time": "2021-07-12T09:59:19.438Z"
   },
   {
    "duration": 11,
    "start_time": "2021-07-12T09:59:19.451Z"
   },
   {
    "duration": 8,
    "start_time": "2021-07-12T09:59:19.464Z"
   },
   {
    "duration": 43,
    "start_time": "2021-07-12T09:59:19.474Z"
   },
   {
    "duration": 8,
    "start_time": "2021-07-12T09:59:19.519Z"
   },
   {
    "duration": 20,
    "start_time": "2021-07-12T09:59:19.529Z"
   },
   {
    "duration": 5,
    "start_time": "2021-07-12T09:59:19.551Z"
   },
   {
    "duration": 7,
    "start_time": "2021-07-12T09:59:19.558Z"
   },
   {
    "duration": 60,
    "start_time": "2021-07-12T09:59:19.567Z"
   },
   {
    "duration": 9,
    "start_time": "2021-07-12T09:59:19.630Z"
   },
   {
    "duration": 1540,
    "start_time": "2021-07-12T09:59:40.891Z"
   },
   {
    "duration": 99,
    "start_time": "2021-07-12T09:59:42.434Z"
   },
   {
    "duration": 30,
    "start_time": "2021-07-12T09:59:42.536Z"
   },
   {
    "duration": 5,
    "start_time": "2021-07-12T09:59:42.569Z"
   },
   {
    "duration": 36,
    "start_time": "2021-07-12T09:59:42.576Z"
   },
   {
    "duration": 8,
    "start_time": "2021-07-12T09:59:42.615Z"
   },
   {
    "duration": 97,
    "start_time": "2021-07-12T09:59:42.626Z"
   },
   {
    "duration": 23,
    "start_time": "2021-07-12T09:59:42.727Z"
   },
   {
    "duration": 19,
    "start_time": "2021-07-12T09:59:42.753Z"
   },
   {
    "duration": 38,
    "start_time": "2021-07-12T09:59:42.774Z"
   },
   {
    "duration": 11,
    "start_time": "2021-07-12T09:59:42.814Z"
   },
   {
    "duration": 12,
    "start_time": "2021-07-12T09:59:42.827Z"
   },
   {
    "duration": 174,
    "start_time": "2021-07-12T09:59:42.842Z"
   },
   {
    "duration": 39,
    "start_time": "2021-07-12T09:59:43.018Z"
   },
   {
    "duration": 9,
    "start_time": "2021-07-12T09:59:43.060Z"
   },
   {
    "duration": 41,
    "start_time": "2021-07-12T09:59:43.072Z"
   },
   {
    "duration": 8,
    "start_time": "2021-07-12T09:59:43.115Z"
   },
   {
    "duration": 25,
    "start_time": "2021-07-12T09:59:43.125Z"
   },
   {
    "duration": 517,
    "start_time": "2021-07-12T09:59:43.153Z"
   },
   {
    "duration": 11,
    "start_time": "2021-07-12T09:59:43.672Z"
   },
   {
    "duration": 26,
    "start_time": "2021-07-12T09:59:43.686Z"
   },
   {
    "duration": 340,
    "start_time": "2021-07-12T09:59:43.714Z"
   },
   {
    "duration": 804,
    "start_time": "2021-07-12T09:59:44.059Z"
   },
   {
    "duration": 172,
    "start_time": "2021-07-12T09:59:44.867Z"
   },
   {
    "duration": 155,
    "start_time": "2021-07-12T09:59:45.041Z"
   },
   {
    "duration": 223,
    "start_time": "2021-07-12T09:59:45.199Z"
   },
   {
    "duration": 14,
    "start_time": "2021-07-12T09:59:45.425Z"
   },
   {
    "duration": 12,
    "start_time": "2021-07-12T09:59:45.442Z"
   },
   {
    "duration": 89,
    "start_time": "2021-07-12T09:59:45.457Z"
   },
   {
    "duration": 273,
    "start_time": "2021-07-12T09:59:45.548Z"
   },
   {
    "duration": 17,
    "start_time": "2021-07-12T09:59:45.824Z"
   },
   {
    "duration": 6,
    "start_time": "2021-07-12T09:59:45.843Z"
   },
   {
    "duration": 64,
    "start_time": "2021-07-12T09:59:45.851Z"
   },
   {
    "duration": 3890,
    "start_time": "2021-07-12T09:59:45.918Z"
   },
   {
    "duration": 138,
    "start_time": "2021-07-12T09:59:49.812Z"
   },
   {
    "duration": 384,
    "start_time": "2021-07-12T09:59:49.954Z"
   },
   {
    "duration": 82,
    "start_time": "2021-07-12T09:59:50.341Z"
   },
   {
    "duration": 65,
    "start_time": "2021-07-12T09:59:50.426Z"
   },
   {
    "duration": 22,
    "start_time": "2021-07-12T09:59:50.510Z"
   },
   {
    "duration": 22,
    "start_time": "2021-07-12T09:59:50.535Z"
   },
   {
    "duration": 57,
    "start_time": "2021-07-12T09:59:50.559Z"
   },
   {
    "duration": 60,
    "start_time": "2021-07-12T09:59:50.618Z"
   },
   {
    "duration": 34,
    "start_time": "2021-07-12T09:59:50.680Z"
   },
   {
    "duration": 268,
    "start_time": "2021-07-12T09:59:50.716Z"
   },
   {
    "duration": 33,
    "start_time": "2021-07-12T09:59:50.987Z"
   },
   {
    "duration": 20,
    "start_time": "2021-07-12T09:59:51.022Z"
   },
   {
    "duration": 21,
    "start_time": "2021-07-12T09:59:51.044Z"
   },
   {
    "duration": 42,
    "start_time": "2021-07-12T09:59:51.068Z"
   },
   {
    "duration": 11,
    "start_time": "2021-07-12T09:59:51.112Z"
   },
   {
    "duration": 14,
    "start_time": "2021-07-12T09:59:51.125Z"
   },
   {
    "duration": 8,
    "start_time": "2021-07-12T09:59:51.142Z"
   },
   {
    "duration": 18,
    "start_time": "2021-07-12T09:59:51.153Z"
   },
   {
    "duration": 8,
    "start_time": "2021-07-12T09:59:51.173Z"
   },
   {
    "duration": 42,
    "start_time": "2021-07-12T09:59:51.184Z"
   },
   {
    "duration": 20,
    "start_time": "2021-07-12T09:59:51.229Z"
   },
   {
    "duration": 8,
    "start_time": "2021-07-12T09:59:51.251Z"
   },
   {
    "duration": 112,
    "start_time": "2021-07-13T09:46:08.032Z"
   },
   {
    "duration": 1995,
    "start_time": "2021-07-13T09:46:27.165Z"
   },
   {
    "duration": 934,
    "start_time": "2021-07-13T09:46:29.163Z"
   },
   {
    "duration": 57,
    "start_time": "2021-07-13T09:46:30.101Z"
   },
   {
    "duration": 6,
    "start_time": "2021-07-13T09:46:30.160Z"
   },
   {
    "duration": 40,
    "start_time": "2021-07-13T09:46:30.168Z"
   },
   {
    "duration": 9,
    "start_time": "2021-07-13T09:46:30.211Z"
   },
   {
    "duration": 109,
    "start_time": "2021-07-13T09:46:30.222Z"
   },
   {
    "duration": 22,
    "start_time": "2021-07-13T09:46:30.334Z"
   },
   {
    "duration": 39,
    "start_time": "2021-07-13T09:46:30.359Z"
   },
   {
    "duration": 13,
    "start_time": "2021-07-13T09:46:30.400Z"
   },
   {
    "duration": 22,
    "start_time": "2021-07-13T09:46:30.415Z"
   },
   {
    "duration": 20,
    "start_time": "2021-07-13T09:46:30.439Z"
   },
   {
    "duration": 172,
    "start_time": "2021-07-13T09:46:30.461Z"
   },
   {
    "duration": 37,
    "start_time": "2021-07-13T09:46:30.635Z"
   },
   {
    "duration": 17,
    "start_time": "2021-07-13T09:46:30.685Z"
   },
   {
    "duration": 27,
    "start_time": "2021-07-13T09:46:30.705Z"
   },
   {
    "duration": 9,
    "start_time": "2021-07-13T09:46:30.734Z"
   },
   {
    "duration": 41,
    "start_time": "2021-07-13T09:46:30.745Z"
   },
   {
    "duration": 531,
    "start_time": "2021-07-13T09:46:30.792Z"
   },
   {
    "duration": 11,
    "start_time": "2021-07-13T09:46:31.325Z"
   },
   {
    "duration": 17,
    "start_time": "2021-07-13T09:46:31.338Z"
   },
   {
    "duration": 836,
    "start_time": "2021-07-13T09:46:31.357Z"
   },
   {
    "duration": 4935,
    "start_time": "2021-07-13T09:46:27.264Z"
   },
   {
    "duration": 4923,
    "start_time": "2021-07-13T09:46:27.279Z"
   },
   {
    "duration": 4921,
    "start_time": "2021-07-13T09:46:27.283Z"
   },
   {
    "duration": 4916,
    "start_time": "2021-07-13T09:46:27.290Z"
   },
   {
    "duration": 4915,
    "start_time": "2021-07-13T09:46:27.293Z"
   },
   {
    "duration": 4915,
    "start_time": "2021-07-13T09:46:27.296Z"
   },
   {
    "duration": 4915,
    "start_time": "2021-07-13T09:46:27.298Z"
   },
   {
    "duration": 4914,
    "start_time": "2021-07-13T09:46:27.301Z"
   },
   {
    "duration": 4907,
    "start_time": "2021-07-13T09:46:27.310Z"
   },
   {
    "duration": 4906,
    "start_time": "2021-07-13T09:46:27.313Z"
   },
   {
    "duration": 4904,
    "start_time": "2021-07-13T09:46:27.316Z"
   },
   {
    "duration": 4902,
    "start_time": "2021-07-13T09:46:27.319Z"
   },
   {
    "duration": 4879,
    "start_time": "2021-07-13T09:46:27.344Z"
   },
   {
    "duration": 4873,
    "start_time": "2021-07-13T09:46:27.351Z"
   },
   {
    "duration": 4872,
    "start_time": "2021-07-13T09:46:27.354Z"
   },
   {
    "duration": 4871,
    "start_time": "2021-07-13T09:46:27.356Z"
   },
   {
    "duration": 4869,
    "start_time": "2021-07-13T09:46:27.359Z"
   },
   {
    "duration": 4868,
    "start_time": "2021-07-13T09:46:27.362Z"
   },
   {
    "duration": 4856,
    "start_time": "2021-07-13T09:46:27.375Z"
   },
   {
    "duration": 4906,
    "start_time": "2021-07-13T09:46:27.379Z"
   },
   {
    "duration": 4906,
    "start_time": "2021-07-13T09:46:27.381Z"
   },
   {
    "duration": 4899,
    "start_time": "2021-07-13T09:46:27.389Z"
   },
   {
    "duration": 4898,
    "start_time": "2021-07-13T09:46:27.392Z"
   },
   {
    "duration": 4895,
    "start_time": "2021-07-13T09:46:27.396Z"
   },
   {
    "duration": 4895,
    "start_time": "2021-07-13T09:46:27.398Z"
   },
   {
    "duration": 4895,
    "start_time": "2021-07-13T09:46:27.400Z"
   },
   {
    "duration": 4888,
    "start_time": "2021-07-13T09:46:27.410Z"
   },
   {
    "duration": 4884,
    "start_time": "2021-07-13T09:46:27.416Z"
   },
   {
    "duration": 4883,
    "start_time": "2021-07-13T09:46:27.419Z"
   },
   {
    "duration": 4882,
    "start_time": "2021-07-13T09:46:27.422Z"
   },
   {
    "duration": 4880,
    "start_time": "2021-07-13T09:46:27.426Z"
   },
   {
    "duration": 4877,
    "start_time": "2021-07-13T09:46:27.430Z"
   },
   {
    "duration": 4876,
    "start_time": "2021-07-13T09:46:27.433Z"
   },
   {
    "duration": 4875,
    "start_time": "2021-07-13T09:46:27.435Z"
   },
   {
    "duration": 1504,
    "start_time": "2021-07-13T09:46:43.612Z"
   },
   {
    "duration": 101,
    "start_time": "2021-07-13T09:46:45.118Z"
   },
   {
    "duration": 37,
    "start_time": "2021-07-13T09:46:45.221Z"
   },
   {
    "duration": 15,
    "start_time": "2021-07-13T09:46:45.260Z"
   },
   {
    "duration": 34,
    "start_time": "2021-07-13T09:46:45.278Z"
   },
   {
    "duration": 11,
    "start_time": "2021-07-13T09:46:45.314Z"
   },
   {
    "duration": 88,
    "start_time": "2021-07-13T09:46:45.327Z"
   },
   {
    "duration": 23,
    "start_time": "2021-07-13T09:46:45.419Z"
   },
   {
    "duration": 16,
    "start_time": "2021-07-13T09:46:45.445Z"
   },
   {
    "duration": 10,
    "start_time": "2021-07-13T09:46:45.486Z"
   },
   {
    "duration": 10,
    "start_time": "2021-07-13T09:46:45.500Z"
   },
   {
    "duration": 14,
    "start_time": "2021-07-13T09:46:45.512Z"
   },
   {
    "duration": 186,
    "start_time": "2021-07-13T09:46:45.528Z"
   },
   {
    "duration": 38,
    "start_time": "2021-07-13T09:46:45.716Z"
   },
   {
    "duration": 10,
    "start_time": "2021-07-13T09:46:45.757Z"
   },
   {
    "duration": 21,
    "start_time": "2021-07-13T09:46:45.787Z"
   },
   {
    "duration": 9,
    "start_time": "2021-07-13T09:46:45.810Z"
   },
   {
    "duration": 26,
    "start_time": "2021-07-13T09:46:45.821Z"
   },
   {
    "duration": 693,
    "start_time": "2021-07-13T09:46:45.849Z"
   },
   {
    "duration": 10,
    "start_time": "2021-07-13T09:46:46.544Z"
   },
   {
    "duration": 12,
    "start_time": "2021-07-13T09:46:46.557Z"
   },
   {
    "duration": 353,
    "start_time": "2021-07-13T09:46:46.572Z"
   },
   {
    "duration": 819,
    "start_time": "2021-07-13T09:46:46.930Z"
   },
   {
    "duration": 156,
    "start_time": "2021-07-13T09:46:47.752Z"
   },
   {
    "duration": 130,
    "start_time": "2021-07-13T09:46:47.911Z"
   },
   {
    "duration": 208,
    "start_time": "2021-07-13T09:46:48.044Z"
   },
   {
    "duration": 34,
    "start_time": "2021-07-13T09:46:48.255Z"
   },
   {
    "duration": 19,
    "start_time": "2021-07-13T09:46:48.292Z"
   },
   {
    "duration": 116,
    "start_time": "2021-07-13T09:46:48.314Z"
   },
   {
    "duration": 284,
    "start_time": "2021-07-13T09:46:48.433Z"
   },
   {
    "duration": 16,
    "start_time": "2021-07-13T09:46:48.719Z"
   },
   {
    "duration": 6,
    "start_time": "2021-07-13T09:46:48.738Z"
   },
   {
    "duration": 41,
    "start_time": "2021-07-13T09:46:48.746Z"
   },
   {
    "duration": 4302,
    "start_time": "2021-07-13T09:46:48.790Z"
   },
   {
    "duration": 124,
    "start_time": "2021-07-13T09:46:53.095Z"
   },
   {
    "duration": 371,
    "start_time": "2021-07-13T09:46:53.221Z"
   },
   {
    "duration": 63,
    "start_time": "2021-07-13T09:46:53.595Z"
   },
   {
    "duration": 65,
    "start_time": "2021-07-13T09:46:53.661Z"
   },
   {
    "duration": 19,
    "start_time": "2021-07-13T09:46:53.729Z"
   },
   {
    "duration": 20,
    "start_time": "2021-07-13T09:46:53.750Z"
   },
   {
    "duration": 33,
    "start_time": "2021-07-13T09:46:53.772Z"
   },
   {
    "duration": 60,
    "start_time": "2021-07-13T09:46:53.808Z"
   },
   {
    "duration": 30,
    "start_time": "2021-07-13T09:46:53.870Z"
   },
   {
    "duration": 228,
    "start_time": "2021-07-13T09:46:53.903Z"
   },
   {
    "duration": 17,
    "start_time": "2021-07-13T09:46:54.133Z"
   },
   {
    "duration": 20,
    "start_time": "2021-07-13T09:46:54.152Z"
   },
   {
    "duration": 28,
    "start_time": "2021-07-13T09:46:54.174Z"
   },
   {
    "duration": 13,
    "start_time": "2021-07-13T09:46:54.205Z"
   },
   {
    "duration": 10,
    "start_time": "2021-07-13T09:46:54.220Z"
   },
   {
    "duration": 14,
    "start_time": "2021-07-13T09:46:54.233Z"
   },
   {
    "duration": 15,
    "start_time": "2021-07-13T09:46:54.249Z"
   },
   {
    "duration": 33,
    "start_time": "2021-07-13T09:46:54.266Z"
   },
   {
    "duration": 8,
    "start_time": "2021-07-13T09:46:54.303Z"
   },
   {
    "duration": 22,
    "start_time": "2021-07-13T09:46:54.313Z"
   },
   {
    "duration": 18,
    "start_time": "2021-07-13T09:46:54.337Z"
   },
   {
    "duration": 7,
    "start_time": "2021-07-13T09:46:54.358Z"
   },
   {
    "duration": 17,
    "start_time": "2021-07-13T10:15:04.186Z"
   },
   {
    "duration": 13,
    "start_time": "2021-07-13T10:15:21.119Z"
   },
   {
    "duration": 898,
    "start_time": "2021-07-13T10:22:15.054Z"
   },
   {
    "duration": 13,
    "start_time": "2021-07-13T10:22:16.655Z"
   },
   {
    "duration": 8,
    "start_time": "2021-07-13T10:22:23.080Z"
   },
   {
    "duration": 16,
    "start_time": "2021-07-13T10:22:25.952Z"
   },
   {
    "duration": 291,
    "start_time": "2021-07-13T10:22:46.287Z"
   },
   {
    "duration": 13,
    "start_time": "2021-07-13T10:43:32.797Z"
   },
   {
    "duration": 30,
    "start_time": "2021-07-13T10:43:40.490Z"
   },
   {
    "duration": 1420,
    "start_time": "2021-07-13T11:12:20.525Z"
   },
   {
    "duration": 98,
    "start_time": "2021-07-13T11:12:21.947Z"
   },
   {
    "duration": 46,
    "start_time": "2021-07-13T11:12:22.048Z"
   },
   {
    "duration": 6,
    "start_time": "2021-07-13T11:12:22.096Z"
   },
   {
    "duration": 23,
    "start_time": "2021-07-13T11:12:22.105Z"
   },
   {
    "duration": 9,
    "start_time": "2021-07-13T11:12:22.130Z"
   },
   {
    "duration": 111,
    "start_time": "2021-07-13T11:12:22.141Z"
   },
   {
    "duration": 41,
    "start_time": "2021-07-13T11:12:22.258Z"
   },
   {
    "duration": 18,
    "start_time": "2021-07-13T11:12:22.302Z"
   },
   {
    "duration": 7,
    "start_time": "2021-07-13T11:12:22.322Z"
   },
   {
    "duration": 12,
    "start_time": "2021-07-13T11:12:22.331Z"
   },
   {
    "duration": 43,
    "start_time": "2021-07-13T11:12:22.345Z"
   },
   {
    "duration": 151,
    "start_time": "2021-07-13T11:12:22.390Z"
   },
   {
    "duration": 51,
    "start_time": "2021-07-13T11:12:22.544Z"
   },
   {
    "duration": 8,
    "start_time": "2021-07-13T11:12:22.597Z"
   },
   {
    "duration": 29,
    "start_time": "2021-07-13T11:12:22.608Z"
   },
   {
    "duration": 9,
    "start_time": "2021-07-13T11:12:22.640Z"
   },
   {
    "duration": 53,
    "start_time": "2021-07-13T11:12:22.652Z"
   },
   {
    "duration": 503,
    "start_time": "2021-07-13T11:12:22.708Z"
   },
   {
    "duration": 11,
    "start_time": "2021-07-13T11:12:23.213Z"
   },
   {
    "duration": 16,
    "start_time": "2021-07-13T11:12:23.226Z"
   },
   {
    "duration": 335,
    "start_time": "2021-07-13T11:12:23.244Z"
   },
   {
    "duration": 762,
    "start_time": "2021-07-13T11:12:23.589Z"
   },
   {
    "duration": 142,
    "start_time": "2021-07-13T11:12:24.354Z"
   },
   {
    "duration": 125,
    "start_time": "2021-07-13T11:12:24.498Z"
   },
   {
    "duration": 186,
    "start_time": "2021-07-13T11:12:24.625Z"
   },
   {
    "duration": 15,
    "start_time": "2021-07-13T11:12:24.813Z"
   },
   {
    "duration": 12,
    "start_time": "2021-07-13T11:12:24.830Z"
   },
   {
    "duration": 83,
    "start_time": "2021-07-13T11:12:24.844Z"
   },
   {
    "duration": 279,
    "start_time": "2021-07-13T11:12:24.929Z"
   },
   {
    "duration": 23,
    "start_time": "2021-07-13T11:12:25.211Z"
   },
   {
    "duration": 6,
    "start_time": "2021-07-13T11:12:25.236Z"
   },
   {
    "duration": 62,
    "start_time": "2021-07-13T11:12:25.245Z"
   },
   {
    "duration": 3924,
    "start_time": "2021-07-13T11:12:25.310Z"
   },
   {
    "duration": 127,
    "start_time": "2021-07-13T11:12:29.236Z"
   },
   {
    "duration": 361,
    "start_time": "2021-07-13T11:12:29.365Z"
   },
   {
    "duration": 75,
    "start_time": "2021-07-13T11:12:29.729Z"
   },
   {
    "duration": 63,
    "start_time": "2021-07-13T11:12:29.806Z"
   },
   {
    "duration": 19,
    "start_time": "2021-07-13T11:12:29.886Z"
   },
   {
    "duration": 19,
    "start_time": "2021-07-13T11:12:29.907Z"
   },
   {
    "duration": 19,
    "start_time": "2021-07-13T11:12:29.928Z"
   },
   {
    "duration": 90,
    "start_time": "2021-07-13T11:12:29.949Z"
   },
   {
    "duration": 12,
    "start_time": "2021-07-13T11:12:30.042Z"
   },
   {
    "duration": 283,
    "start_time": "2021-07-13T11:12:30.056Z"
   },
   {
    "duration": 23,
    "start_time": "2021-07-13T11:12:30.342Z"
   },
   {
    "duration": 37,
    "start_time": "2021-07-13T11:12:30.367Z"
   },
   {
    "duration": 24,
    "start_time": "2021-07-13T11:12:30.407Z"
   },
   {
    "duration": 51,
    "start_time": "2021-07-13T11:12:30.434Z"
   },
   {
    "duration": 10,
    "start_time": "2021-07-13T11:12:30.488Z"
   },
   {
    "duration": 22,
    "start_time": "2021-07-13T11:12:30.500Z"
   },
   {
    "duration": 15,
    "start_time": "2021-07-13T11:12:30.524Z"
   },
   {
    "duration": 20,
    "start_time": "2021-07-13T11:12:30.541Z"
   },
   {
    "duration": 25,
    "start_time": "2021-07-13T11:12:30.563Z"
   },
   {
    "duration": 47,
    "start_time": "2021-07-13T11:12:30.591Z"
   },
   {
    "duration": 20,
    "start_time": "2021-07-13T11:12:30.640Z"
   },
   {
    "duration": 24,
    "start_time": "2021-07-13T11:12:30.663Z"
   },
   {
    "duration": 1955,
    "start_time": "2021-07-13T14:32:32.858Z"
   },
   {
    "duration": 94,
    "start_time": "2021-07-13T14:32:34.816Z"
   },
   {
    "duration": 42,
    "start_time": "2021-07-13T14:32:34.914Z"
   },
   {
    "duration": 13,
    "start_time": "2021-07-13T14:32:34.959Z"
   },
   {
    "duration": 22,
    "start_time": "2021-07-13T14:32:34.974Z"
   },
   {
    "duration": 22,
    "start_time": "2021-07-13T14:32:34.998Z"
   },
   {
    "duration": 84,
    "start_time": "2021-07-13T14:32:35.022Z"
   },
   {
    "duration": 23,
    "start_time": "2021-07-13T14:32:35.110Z"
   },
   {
    "duration": 35,
    "start_time": "2021-07-13T14:32:35.136Z"
   },
   {
    "duration": 9,
    "start_time": "2021-07-13T14:32:35.174Z"
   },
   {
    "duration": 9,
    "start_time": "2021-07-13T14:32:35.186Z"
   },
   {
    "duration": 13,
    "start_time": "2021-07-13T14:32:35.197Z"
   },
   {
    "duration": 187,
    "start_time": "2021-07-13T14:32:35.212Z"
   },
   {
    "duration": 37,
    "start_time": "2021-07-13T14:32:35.402Z"
   },
   {
    "duration": 22,
    "start_time": "2021-07-13T14:32:35.441Z"
   },
   {
    "duration": 19,
    "start_time": "2021-07-13T14:32:35.466Z"
   },
   {
    "duration": 8,
    "start_time": "2021-07-13T14:32:35.487Z"
   },
   {
    "duration": 28,
    "start_time": "2021-07-13T14:32:35.497Z"
   },
   {
    "duration": 536,
    "start_time": "2021-07-13T14:32:35.527Z"
   },
   {
    "duration": 11,
    "start_time": "2021-07-13T14:32:36.065Z"
   },
   {
    "duration": 14,
    "start_time": "2021-07-13T14:32:36.078Z"
   },
   {
    "duration": 331,
    "start_time": "2021-07-13T14:32:36.095Z"
   },
   {
    "duration": 797,
    "start_time": "2021-07-13T14:32:36.430Z"
   },
   {
    "duration": 146,
    "start_time": "2021-07-13T14:32:37.229Z"
   },
   {
    "duration": 123,
    "start_time": "2021-07-13T14:32:37.378Z"
   },
   {
    "duration": 199,
    "start_time": "2021-07-13T14:32:37.503Z"
   },
   {
    "duration": 14,
    "start_time": "2021-07-13T14:32:37.705Z"
   },
   {
    "duration": 22,
    "start_time": "2021-07-13T14:32:41.240Z"
   },
   {
    "duration": 2534,
    "start_time": "2021-07-13T14:34:43.372Z"
   },
   {
    "duration": 6,
    "start_time": "2021-07-13T14:34:48.274Z"
   },
   {
    "duration": 105,
    "start_time": "2021-07-13T14:34:48.283Z"
   },
   {
    "duration": 32,
    "start_time": "2021-07-13T14:34:48.391Z"
   },
   {
    "duration": 5,
    "start_time": "2021-07-13T14:34:48.425Z"
   },
   {
    "duration": 19,
    "start_time": "2021-07-13T14:34:48.432Z"
   },
   {
    "duration": 9,
    "start_time": "2021-07-13T14:34:48.462Z"
   },
   {
    "duration": 97,
    "start_time": "2021-07-13T14:34:48.473Z"
   },
   {
    "duration": 24,
    "start_time": "2021-07-13T14:34:48.573Z"
   },
   {
    "duration": 17,
    "start_time": "2021-07-13T14:34:48.600Z"
   },
   {
    "duration": 8,
    "start_time": "2021-07-13T14:34:48.620Z"
   },
   {
    "duration": 5,
    "start_time": "2021-07-13T14:34:52.461Z"
   },
   {
    "duration": 88,
    "start_time": "2021-07-13T14:34:52.494Z"
   },
   {
    "duration": 35,
    "start_time": "2021-07-13T14:34:52.585Z"
   },
   {
    "duration": 5,
    "start_time": "2021-07-13T14:34:52.623Z"
   },
   {
    "duration": 33,
    "start_time": "2021-07-13T14:34:52.631Z"
   },
   {
    "duration": 8,
    "start_time": "2021-07-13T14:34:52.667Z"
   },
   {
    "duration": 97,
    "start_time": "2021-07-13T14:34:52.678Z"
   },
   {
    "duration": 26,
    "start_time": "2021-07-13T14:34:52.777Z"
   },
   {
    "duration": 17,
    "start_time": "2021-07-13T14:34:52.806Z"
   },
   {
    "duration": 41,
    "start_time": "2021-07-13T14:34:52.826Z"
   },
   {
    "duration": 301,
    "start_time": "2021-07-13T14:34:54.722Z"
   },
   {
    "duration": 10,
    "start_time": "2021-07-13T14:34:58.840Z"
   },
   {
    "duration": 1573,
    "start_time": "2021-07-13T14:35:10.632Z"
   },
   {
    "duration": 104,
    "start_time": "2021-07-13T14:35:12.207Z"
   },
   {
    "duration": 32,
    "start_time": "2021-07-13T14:35:12.315Z"
   },
   {
    "duration": 11,
    "start_time": "2021-07-13T14:35:12.351Z"
   },
   {
    "duration": 18,
    "start_time": "2021-07-13T14:35:12.365Z"
   },
   {
    "duration": 8,
    "start_time": "2021-07-13T14:35:12.386Z"
   },
   {
    "duration": 122,
    "start_time": "2021-07-13T14:35:12.396Z"
   },
   {
    "duration": 23,
    "start_time": "2021-07-13T14:35:12.522Z"
   },
   {
    "duration": 18,
    "start_time": "2021-07-13T14:35:12.563Z"
   },
   {
    "duration": 8,
    "start_time": "2021-07-13T14:35:12.584Z"
   },
   {
    "duration": 8,
    "start_time": "2021-07-13T14:35:12.595Z"
   },
   {
    "duration": 56,
    "start_time": "2021-07-13T14:35:12.606Z"
   },
   {
    "duration": 178,
    "start_time": "2021-07-13T14:35:12.665Z"
   },
   {
    "duration": 1609,
    "start_time": "2021-07-13T14:35:12.846Z"
   },
   {
    "duration": 71,
    "start_time": "2021-07-13T14:35:14.387Z"
   },
   {
    "duration": 71,
    "start_time": "2021-07-13T14:35:14.389Z"
   },
   {
    "duration": 69,
    "start_time": "2021-07-13T14:35:14.392Z"
   },
   {
    "duration": 68,
    "start_time": "2021-07-13T14:35:14.394Z"
   },
   {
    "duration": 69,
    "start_time": "2021-07-13T14:35:14.395Z"
   },
   {
    "duration": 8,
    "start_time": "2021-07-13T14:35:14.457Z"
   },
   {
    "duration": 7,
    "start_time": "2021-07-13T14:35:14.459Z"
   },
   {
    "duration": 8,
    "start_time": "2021-07-13T14:35:14.460Z"
   },
   {
    "duration": 8,
    "start_time": "2021-07-13T14:35:14.462Z"
   },
   {
    "duration": 8,
    "start_time": "2021-07-13T14:35:14.463Z"
   },
   {
    "duration": 8,
    "start_time": "2021-07-13T14:35:14.464Z"
   },
   {
    "duration": 7,
    "start_time": "2021-07-13T14:35:14.466Z"
   },
   {
    "duration": -72,
    "start_time": "2021-07-13T14:35:14.547Z"
   },
   {
    "duration": -72,
    "start_time": "2021-07-13T14:35:14.548Z"
   },
   {
    "duration": -72,
    "start_time": "2021-07-13T14:35:14.549Z"
   },
   {
    "duration": -72,
    "start_time": "2021-07-13T14:35:14.550Z"
   },
   {
    "duration": -72,
    "start_time": "2021-07-13T14:35:14.552Z"
   },
   {
    "duration": -73,
    "start_time": "2021-07-13T14:35:14.554Z"
   },
   {
    "duration": -73,
    "start_time": "2021-07-13T14:35:14.556Z"
   },
   {
    "duration": -73,
    "start_time": "2021-07-13T14:35:14.557Z"
   },
   {
    "duration": -141,
    "start_time": "2021-07-13T14:35:14.626Z"
   },
   {
    "duration": -141,
    "start_time": "2021-07-13T14:35:14.628Z"
   },
   {
    "duration": -142,
    "start_time": "2021-07-13T14:35:14.630Z"
   },
   {
    "duration": -144,
    "start_time": "2021-07-13T14:35:14.634Z"
   },
   {
    "duration": -287,
    "start_time": "2021-07-13T14:35:14.778Z"
   },
   {
    "duration": -291,
    "start_time": "2021-07-13T14:35:14.784Z"
   },
   {
    "duration": -291,
    "start_time": "2021-07-13T14:35:14.785Z"
   },
   {
    "duration": -291,
    "start_time": "2021-07-13T14:35:14.787Z"
   },
   {
    "duration": -296,
    "start_time": "2021-07-13T14:35:14.793Z"
   },
   {
    "duration": -297,
    "start_time": "2021-07-13T14:35:14.796Z"
   },
   {
    "duration": -297,
    "start_time": "2021-07-13T14:35:14.797Z"
   },
   {
    "duration": -298,
    "start_time": "2021-07-13T14:35:14.799Z"
   },
   {
    "duration": -346,
    "start_time": "2021-07-13T14:35:14.848Z"
   },
   {
    "duration": -349,
    "start_time": "2021-07-13T14:35:14.852Z"
   },
   {
    "duration": -293,
    "start_time": "2021-07-13T14:35:14.854Z"
   },
   {
    "duration": -300,
    "start_time": "2021-07-13T14:35:14.863Z"
   },
   {
    "duration": -303,
    "start_time": "2021-07-13T14:35:14.867Z"
   },
   {
    "duration": -304,
    "start_time": "2021-07-13T14:35:14.870Z"
   },
   {
    "duration": -354,
    "start_time": "2021-07-13T14:35:14.921Z"
   },
   {
    "duration": -367,
    "start_time": "2021-07-13T14:35:14.936Z"
   },
   {
    "duration": -370,
    "start_time": "2021-07-13T14:35:14.940Z"
   },
   {
    "duration": -377,
    "start_time": "2021-07-13T14:35:14.949Z"
   },
   {
    "duration": 5,
    "start_time": "2021-07-13T14:36:00.712Z"
   },
   {
    "duration": 7,
    "start_time": "2021-07-13T14:36:03.352Z"
   },
   {
    "duration": 127,
    "start_time": "2021-07-13T14:36:03.362Z"
   },
   {
    "duration": 33,
    "start_time": "2021-07-13T14:36:03.493Z"
   },
   {
    "duration": 5,
    "start_time": "2021-07-13T14:36:03.529Z"
   },
   {
    "duration": 41,
    "start_time": "2021-07-13T14:36:03.537Z"
   },
   {
    "duration": 22,
    "start_time": "2021-07-13T14:36:03.581Z"
   },
   {
    "duration": 91,
    "start_time": "2021-07-13T14:36:03.605Z"
   },
   {
    "duration": 33,
    "start_time": "2021-07-13T14:36:03.700Z"
   },
   {
    "duration": 33,
    "start_time": "2021-07-13T14:36:03.735Z"
   },
   {
    "duration": 11,
    "start_time": "2021-07-13T14:36:03.770Z"
   },
   {
    "duration": 16,
    "start_time": "2021-07-13T14:36:03.783Z"
   },
   {
    "duration": 73,
    "start_time": "2021-07-13T14:36:06.918Z"
   },
   {
    "duration": 1453,
    "start_time": "2021-07-13T14:36:13.975Z"
   },
   {
    "duration": 99,
    "start_time": "2021-07-13T14:36:15.431Z"
   },
   {
    "duration": 36,
    "start_time": "2021-07-13T14:36:15.534Z"
   },
   {
    "duration": 7,
    "start_time": "2021-07-13T14:36:15.574Z"
   },
   {
    "duration": 31,
    "start_time": "2021-07-13T14:36:15.584Z"
   },
   {
    "duration": 11,
    "start_time": "2021-07-13T14:36:15.619Z"
   },
   {
    "duration": 154,
    "start_time": "2021-07-13T14:36:15.633Z"
   },
   {
    "duration": 23,
    "start_time": "2021-07-13T14:36:15.790Z"
   },
   {
    "duration": 46,
    "start_time": "2021-07-13T14:36:15.818Z"
   },
   {
    "duration": 7,
    "start_time": "2021-07-13T14:36:15.867Z"
   },
   {
    "duration": 11,
    "start_time": "2021-07-13T14:36:15.877Z"
   },
   {
    "duration": 16,
    "start_time": "2021-07-13T14:36:15.890Z"
   },
   {
    "duration": 173,
    "start_time": "2021-07-13T14:36:15.909Z"
   },
   {
    "duration": 38,
    "start_time": "2021-07-13T14:36:16.084Z"
   },
   {
    "duration": 11,
    "start_time": "2021-07-13T14:36:16.124Z"
   },
   {
    "duration": 36,
    "start_time": "2021-07-13T14:36:16.138Z"
   },
   {
    "duration": 7,
    "start_time": "2021-07-13T14:36:16.177Z"
   },
   {
    "duration": 29,
    "start_time": "2021-07-13T14:36:16.187Z"
   },
   {
    "duration": 695,
    "start_time": "2021-07-13T14:36:16.218Z"
   },
   {
    "duration": 15,
    "start_time": "2021-07-13T14:36:16.916Z"
   },
   {
    "duration": 10,
    "start_time": "2021-07-13T14:36:16.933Z"
   },
   {
    "duration": 319,
    "start_time": "2021-07-13T14:36:16.962Z"
   },
   {
    "duration": 746,
    "start_time": "2021-07-13T14:36:17.283Z"
   },
   {
    "duration": 140,
    "start_time": "2021-07-13T14:36:18.031Z"
   },
   {
    "duration": 117,
    "start_time": "2021-07-13T14:36:18.173Z"
   },
   {
    "duration": 192,
    "start_time": "2021-07-13T14:36:18.293Z"
   },
   {
    "duration": 14,
    "start_time": "2021-07-13T14:36:18.493Z"
   },
   {
    "duration": 16,
    "start_time": "2021-07-13T14:36:18.510Z"
   },
   {
    "duration": 79,
    "start_time": "2021-07-13T14:36:18.528Z"
   },
   {
    "duration": 245,
    "start_time": "2021-07-13T14:36:18.610Z"
   },
   {
    "duration": 18,
    "start_time": "2021-07-13T14:36:18.857Z"
   },
   {
    "duration": 7,
    "start_time": "2021-07-13T14:36:18.877Z"
   },
   {
    "duration": 30,
    "start_time": "2021-07-13T14:36:18.887Z"
   },
   {
    "duration": 3868,
    "start_time": "2021-07-13T14:36:18.919Z"
   },
   {
    "duration": 133,
    "start_time": "2021-07-13T14:36:22.790Z"
   },
   {
    "duration": 374,
    "start_time": "2021-07-13T14:36:22.925Z"
   },
   {
    "duration": 76,
    "start_time": "2021-07-13T14:36:23.301Z"
   },
   {
    "duration": 64,
    "start_time": "2021-07-13T14:36:23.379Z"
   },
   {
    "duration": 32,
    "start_time": "2021-07-13T14:36:23.446Z"
   },
   {
    "duration": 20,
    "start_time": "2021-07-13T14:36:23.480Z"
   },
   {
    "duration": 20,
    "start_time": "2021-07-13T14:36:23.502Z"
   },
   {
    "duration": 92,
    "start_time": "2021-07-13T14:36:23.525Z"
   },
   {
    "duration": 13,
    "start_time": "2021-07-13T14:36:23.620Z"
   },
   {
    "duration": 244,
    "start_time": "2021-07-13T14:36:23.636Z"
   },
   {
    "duration": 17,
    "start_time": "2021-07-13T14:36:23.882Z"
   },
   {
    "duration": 22,
    "start_time": "2021-07-13T14:36:23.902Z"
   },
   {
    "duration": 58,
    "start_time": "2021-07-13T14:36:23.926Z"
   },
   {
    "duration": 18,
    "start_time": "2021-07-13T14:36:23.987Z"
   },
   {
    "duration": 15,
    "start_time": "2021-07-13T14:36:24.009Z"
   },
   {
    "duration": 42,
    "start_time": "2021-07-13T14:36:24.028Z"
   },
   {
    "duration": 21,
    "start_time": "2021-07-13T14:36:24.072Z"
   },
   {
    "duration": 23,
    "start_time": "2021-07-13T14:36:24.096Z"
   },
   {
    "duration": 23,
    "start_time": "2021-07-13T14:36:24.122Z"
   },
   {
    "duration": 27,
    "start_time": "2021-07-13T14:36:24.148Z"
   },
   {
    "duration": 22,
    "start_time": "2021-07-13T14:36:24.178Z"
   },
   {
    "duration": 7,
    "start_time": "2021-07-13T14:36:24.203Z"
   },
   {
    "duration": 11,
    "start_time": "2021-07-13T14:41:16.321Z"
   },
   {
    "duration": 16,
    "start_time": "2021-07-13T14:41:19.566Z"
   },
   {
    "duration": 18,
    "start_time": "2021-07-13T14:41:24.923Z"
   },
   {
    "duration": 17,
    "start_time": "2021-07-13T14:41:39.134Z"
   },
   {
    "duration": 313,
    "start_time": "2021-07-13T14:42:57.851Z"
   },
   {
    "duration": 9,
    "start_time": "2021-07-13T14:43:46.589Z"
   },
   {
    "duration": 14,
    "start_time": "2021-07-13T14:43:59.353Z"
   },
   {
    "duration": 19,
    "start_time": "2021-07-13T14:44:24.820Z"
   },
   {
    "duration": 12,
    "start_time": "2021-07-13T14:44:38.019Z"
   },
   {
    "duration": 11,
    "start_time": "2021-07-13T14:45:05.266Z"
   },
   {
    "duration": 17,
    "start_time": "2021-07-13T14:45:25.688Z"
   },
   {
    "duration": 26,
    "start_time": "2021-07-13T14:47:53.762Z"
   },
   {
    "duration": 25,
    "start_time": "2021-07-13T14:48:08.559Z"
   },
   {
    "duration": 18,
    "start_time": "2021-07-13T14:48:22.722Z"
   },
   {
    "duration": 26,
    "start_time": "2021-07-13T14:48:27.961Z"
   },
   {
    "duration": 17,
    "start_time": "2021-07-13T14:48:50.516Z"
   },
   {
    "duration": 27,
    "start_time": "2021-07-13T14:48:59.303Z"
   },
   {
    "duration": 5,
    "start_time": "2021-07-13T14:49:42.631Z"
   },
   {
    "duration": 19,
    "start_time": "2021-07-13T14:49:46.537Z"
   },
   {
    "duration": 16,
    "start_time": "2021-07-13T14:50:08.293Z"
   },
   {
    "duration": 15,
    "start_time": "2021-07-13T14:50:15.672Z"
   },
   {
    "duration": 10,
    "start_time": "2021-07-13T14:50:28.596Z"
   },
   {
    "duration": 18,
    "start_time": "2021-07-13T14:50:41.067Z"
   },
   {
    "duration": 19,
    "start_time": "2021-07-13T14:50:51.712Z"
   },
   {
    "duration": 18,
    "start_time": "2021-07-13T14:50:58.169Z"
   },
   {
    "duration": 14,
    "start_time": "2021-07-13T14:52:06.719Z"
   },
   {
    "duration": 289,
    "start_time": "2021-07-13T14:52:35.487Z"
   },
   {
    "duration": 334,
    "start_time": "2021-07-13T14:52:42.291Z"
   },
   {
    "duration": 333,
    "start_time": "2021-07-13T14:53:05.101Z"
   },
   {
    "duration": 315,
    "start_time": "2021-07-13T14:53:12.902Z"
   },
   {
    "duration": 419,
    "start_time": "2021-07-13T14:54:12.181Z"
   },
   {
    "duration": 436,
    "start_time": "2021-07-13T14:54:31.573Z"
   },
   {
    "duration": 125,
    "start_time": "2021-07-13T14:55:48.528Z"
   },
   {
    "duration": 383,
    "start_time": "2021-07-13T14:55:51.462Z"
   },
   {
    "duration": 517,
    "start_time": "2021-07-13T15:32:30.118Z"
   },
   {
    "duration": 332,
    "start_time": "2021-07-13T15:32:46.422Z"
   },
   {
    "duration": 42,
    "start_time": "2021-07-13T15:34:12.764Z"
   },
   {
    "duration": 17,
    "start_time": "2021-07-13T15:34:29.021Z"
   },
   {
    "duration": 1476,
    "start_time": "2021-07-13T15:34:34.678Z"
   },
   {
    "duration": 110,
    "start_time": "2021-07-13T15:34:36.157Z"
   },
   {
    "duration": 32,
    "start_time": "2021-07-13T15:34:36.271Z"
   },
   {
    "duration": 21,
    "start_time": "2021-07-13T15:34:36.306Z"
   },
   {
    "duration": 21,
    "start_time": "2021-07-13T15:34:36.329Z"
   },
   {
    "duration": 9,
    "start_time": "2021-07-13T15:34:36.353Z"
   },
   {
    "duration": 84,
    "start_time": "2021-07-13T15:34:36.365Z"
   },
   {
    "duration": 32,
    "start_time": "2021-07-13T15:34:36.451Z"
   },
   {
    "duration": 17,
    "start_time": "2021-07-13T15:34:36.488Z"
   },
   {
    "duration": 9,
    "start_time": "2021-07-13T15:34:36.508Z"
   },
   {
    "duration": 46,
    "start_time": "2021-07-13T15:34:36.519Z"
   },
   {
    "duration": 16,
    "start_time": "2021-07-13T15:34:36.567Z"
   },
   {
    "duration": 161,
    "start_time": "2021-07-13T15:34:36.586Z"
   },
   {
    "duration": 43,
    "start_time": "2021-07-13T15:34:36.749Z"
   },
   {
    "duration": 6,
    "start_time": "2021-07-13T15:34:36.795Z"
   },
   {
    "duration": 32,
    "start_time": "2021-07-13T15:34:36.804Z"
   },
   {
    "duration": 24,
    "start_time": "2021-07-13T15:34:36.839Z"
   },
   {
    "duration": 29,
    "start_time": "2021-07-13T15:34:36.866Z"
   },
   {
    "duration": 831,
    "start_time": "2021-07-13T15:34:36.898Z"
   },
   {
    "duration": 29,
    "start_time": "2021-07-13T15:34:37.733Z"
   },
   {
    "duration": 10,
    "start_time": "2021-07-13T15:34:37.765Z"
   },
   {
    "duration": 567,
    "start_time": "2021-07-13T15:34:37.778Z"
   },
   {
    "duration": 800,
    "start_time": "2021-07-13T15:34:38.348Z"
   },
   {
    "duration": 147,
    "start_time": "2021-07-13T15:34:39.150Z"
   },
   {
    "duration": 129,
    "start_time": "2021-07-13T15:34:39.299Z"
   },
   {
    "duration": 190,
    "start_time": "2021-07-13T15:34:39.431Z"
   },
   {
    "duration": 15,
    "start_time": "2021-07-13T15:34:39.626Z"
   },
   {
    "duration": 17,
    "start_time": "2021-07-13T15:34:39.663Z"
   },
   {
    "duration": 13,
    "start_time": "2021-07-13T15:34:39.682Z"
   },
   {
    "duration": 19,
    "start_time": "2021-07-13T15:34:39.698Z"
   },
   {
    "duration": 86,
    "start_time": "2021-07-13T15:34:39.719Z"
   },
   {
    "duration": 234,
    "start_time": "2021-07-13T15:34:39.807Z"
   },
   {
    "duration": 25,
    "start_time": "2021-07-13T15:34:40.044Z"
   },
   {
    "duration": 7,
    "start_time": "2021-07-13T15:34:40.072Z"
   },
   {
    "duration": 362,
    "start_time": "2021-07-13T15:34:40.081Z"
   },
   {
    "duration": 38,
    "start_time": "2021-07-13T15:34:40.446Z"
   },
   {
    "duration": 4014,
    "start_time": "2021-07-13T15:34:40.486Z"
   },
   {
    "duration": 143,
    "start_time": "2021-07-13T15:34:44.503Z"
   },
   {
    "duration": 376,
    "start_time": "2021-07-13T15:34:44.649Z"
   },
   {
    "duration": 74,
    "start_time": "2021-07-13T15:34:45.027Z"
   },
   {
    "duration": 72,
    "start_time": "2021-07-13T15:34:45.104Z"
   },
   {
    "duration": 21,
    "start_time": "2021-07-13T15:34:45.178Z"
   },
   {
    "duration": 19,
    "start_time": "2021-07-13T15:34:45.201Z"
   },
   {
    "duration": 49,
    "start_time": "2021-07-13T15:34:45.223Z"
   },
   {
    "duration": 59,
    "start_time": "2021-07-13T15:34:45.274Z"
   },
   {
    "duration": 30,
    "start_time": "2021-07-13T15:34:45.335Z"
   },
   {
    "duration": 234,
    "start_time": "2021-07-13T15:34:45.367Z"
   },
   {
    "duration": 16,
    "start_time": "2021-07-13T15:34:45.603Z"
   },
   {
    "duration": 31,
    "start_time": "2021-07-13T15:34:45.622Z"
   },
   {
    "duration": 19,
    "start_time": "2021-07-13T15:34:45.661Z"
   },
   {
    "duration": 25,
    "start_time": "2021-07-13T15:34:45.682Z"
   },
   {
    "duration": 16,
    "start_time": "2021-07-13T15:34:45.710Z"
   },
   {
    "duration": 39,
    "start_time": "2021-07-13T15:34:45.728Z"
   },
   {
    "duration": 14,
    "start_time": "2021-07-13T15:34:45.770Z"
   },
   {
    "duration": 22,
    "start_time": "2021-07-13T15:34:45.787Z"
   },
   {
    "duration": 25,
    "start_time": "2021-07-13T15:34:45.811Z"
   },
   {
    "duration": 24,
    "start_time": "2021-07-13T15:34:45.839Z"
   },
   {
    "duration": 38,
    "start_time": "2021-07-13T15:34:45.865Z"
   },
   {
    "duration": 28,
    "start_time": "2021-07-13T15:34:45.906Z"
   },
   {
    "duration": 19,
    "start_time": "2021-07-13T15:34:45.937Z"
   },
   {
    "duration": 1442,
    "start_time": "2021-07-13T15:36:43.078Z"
   },
   {
    "duration": 93,
    "start_time": "2021-07-13T15:36:44.523Z"
   },
   {
    "duration": 32,
    "start_time": "2021-07-13T15:36:44.620Z"
   },
   {
    "duration": 7,
    "start_time": "2021-07-13T15:36:44.655Z"
   },
   {
    "duration": 20,
    "start_time": "2021-07-13T15:36:44.664Z"
   },
   {
    "duration": 8,
    "start_time": "2021-07-13T15:36:44.686Z"
   },
   {
    "duration": 108,
    "start_time": "2021-07-13T15:36:44.696Z"
   },
   {
    "duration": 23,
    "start_time": "2021-07-13T15:36:44.808Z"
   },
   {
    "duration": 41,
    "start_time": "2021-07-13T15:36:44.834Z"
   },
   {
    "duration": 7,
    "start_time": "2021-07-13T15:36:44.878Z"
   },
   {
    "duration": 6,
    "start_time": "2021-07-13T15:36:44.888Z"
   },
   {
    "duration": 14,
    "start_time": "2021-07-13T15:36:44.897Z"
   },
   {
    "duration": 195,
    "start_time": "2021-07-13T15:36:44.913Z"
   },
   {
    "duration": 38,
    "start_time": "2021-07-13T15:36:45.110Z"
   },
   {
    "duration": 7,
    "start_time": "2021-07-13T15:36:45.162Z"
   },
   {
    "duration": 23,
    "start_time": "2021-07-13T15:36:45.171Z"
   },
   {
    "duration": 8,
    "start_time": "2021-07-13T15:36:45.196Z"
   },
   {
    "duration": 59,
    "start_time": "2021-07-13T15:36:45.207Z"
   },
   {
    "duration": 805,
    "start_time": "2021-07-13T15:36:45.268Z"
   },
   {
    "duration": 17,
    "start_time": "2021-07-13T15:36:46.076Z"
   },
   {
    "duration": 11,
    "start_time": "2021-07-13T15:36:46.095Z"
   },
   {
    "duration": 345,
    "start_time": "2021-07-13T15:36:46.109Z"
   },
   {
    "duration": 786,
    "start_time": "2021-07-13T15:36:46.459Z"
   },
   {
    "duration": 153,
    "start_time": "2021-07-13T15:36:47.248Z"
   },
   {
    "duration": 129,
    "start_time": "2021-07-13T15:36:47.403Z"
   },
   {
    "duration": 201,
    "start_time": "2021-07-13T15:36:47.534Z"
   },
   {
    "duration": 25,
    "start_time": "2021-07-13T15:36:47.738Z"
   },
   {
    "duration": 17,
    "start_time": "2021-07-13T15:36:47.765Z"
   },
   {
    "duration": 13,
    "start_time": "2021-07-13T15:36:47.785Z"
   },
   {
    "duration": 19,
    "start_time": "2021-07-13T15:36:47.800Z"
   },
   {
    "duration": 51,
    "start_time": "2021-07-13T15:36:47.862Z"
   },
   {
    "duration": 249,
    "start_time": "2021-07-13T15:36:47.916Z"
   },
   {
    "duration": 18,
    "start_time": "2021-07-13T15:36:48.168Z"
   },
   {
    "duration": 7,
    "start_time": "2021-07-13T15:36:48.188Z"
   },
   {
    "duration": 367,
    "start_time": "2021-07-13T15:36:48.198Z"
   },
   {
    "duration": 29,
    "start_time": "2021-07-13T15:36:48.568Z"
   },
   {
    "duration": 3915,
    "start_time": "2021-07-13T15:36:48.599Z"
   },
   {
    "duration": 296,
    "start_time": "2021-07-13T15:36:52.517Z"
   },
   {
    "duration": 417,
    "start_time": "2021-07-13T15:36:52.816Z"
   },
   {
    "duration": 34,
    "start_time": "2021-07-13T15:36:53.236Z"
   },
   {
    "duration": 64,
    "start_time": "2021-07-13T15:36:53.273Z"
   },
   {
    "duration": 83,
    "start_time": "2021-07-13T15:36:53.340Z"
   },
   {
    "duration": 47,
    "start_time": "2021-07-13T15:36:53.426Z"
   },
   {
    "duration": 27,
    "start_time": "2021-07-13T15:36:53.477Z"
   },
   {
    "duration": 27,
    "start_time": "2021-07-13T15:36:53.507Z"
   },
   {
    "duration": 101,
    "start_time": "2021-07-13T15:36:53.563Z"
   },
   {
    "duration": 21,
    "start_time": "2021-07-13T15:36:53.667Z"
   },
   {
    "duration": 375,
    "start_time": "2021-07-13T15:36:53.692Z"
   },
   {
    "duration": 24,
    "start_time": "2021-07-13T15:36:54.070Z"
   },
   {
    "duration": 29,
    "start_time": "2021-07-13T15:36:54.097Z"
   },
   {
    "duration": 60,
    "start_time": "2021-07-13T15:36:54.129Z"
   },
   {
    "duration": 19,
    "start_time": "2021-07-13T15:36:54.192Z"
   },
   {
    "duration": 15,
    "start_time": "2021-07-13T15:36:54.215Z"
   },
   {
    "duration": 15,
    "start_time": "2021-07-13T15:36:54.263Z"
   },
   {
    "duration": 8,
    "start_time": "2021-07-13T15:36:54.281Z"
   },
   {
    "duration": 22,
    "start_time": "2021-07-13T15:36:54.292Z"
   },
   {
    "duration": 8,
    "start_time": "2021-07-13T15:36:54.318Z"
   },
   {
    "duration": 59,
    "start_time": "2021-07-13T15:36:54.330Z"
   },
   {
    "duration": 17,
    "start_time": "2021-07-13T15:36:54.391Z"
   },
   {
    "duration": 8,
    "start_time": "2021-07-13T15:36:54.411Z"
   },
   {
    "duration": 1155,
    "start_time": "2021-07-14T07:18:53.958Z"
   },
   {
    "duration": 2472,
    "start_time": "2021-07-14T07:18:59.437Z"
   },
   {
    "duration": 101,
    "start_time": "2021-07-14T07:19:01.912Z"
   },
   {
    "duration": 28,
    "start_time": "2021-07-14T07:19:02.016Z"
   },
   {
    "duration": 5,
    "start_time": "2021-07-14T07:19:02.047Z"
   },
   {
    "duration": 32,
    "start_time": "2021-07-14T07:19:02.059Z"
   },
   {
    "duration": 14,
    "start_time": "2021-07-14T07:19:02.093Z"
   },
   {
    "duration": 88,
    "start_time": "2021-07-14T07:19:02.110Z"
   },
   {
    "duration": 21,
    "start_time": "2021-07-14T07:19:02.204Z"
   },
   {
    "duration": 41,
    "start_time": "2021-07-14T07:19:02.228Z"
   },
   {
    "duration": 10,
    "start_time": "2021-07-14T07:19:02.272Z"
   },
   {
    "duration": 7,
    "start_time": "2021-07-14T07:19:02.285Z"
   },
   {
    "duration": 20,
    "start_time": "2021-07-14T07:19:02.295Z"
   },
   {
    "duration": 207,
    "start_time": "2021-07-14T07:19:02.318Z"
   },
   {
    "duration": 44,
    "start_time": "2021-07-14T07:19:02.528Z"
   },
   {
    "duration": 11,
    "start_time": "2021-07-14T07:19:02.574Z"
   },
   {
    "duration": 20,
    "start_time": "2021-07-14T07:19:02.588Z"
   },
   {
    "duration": 16,
    "start_time": "2021-07-14T07:19:02.611Z"
   },
   {
    "duration": 54,
    "start_time": "2021-07-14T07:19:02.630Z"
   },
   {
    "duration": 477,
    "start_time": "2021-07-14T07:19:02.686Z"
   },
   {
    "duration": 12,
    "start_time": "2021-07-14T07:19:03.168Z"
   },
   {
    "duration": 14,
    "start_time": "2021-07-14T07:19:03.182Z"
   },
   {
    "duration": 205,
    "start_time": "2021-07-14T07:19:03.199Z"
   },
   {
    "duration": 619,
    "start_time": "2021-07-14T07:19:03.411Z"
   },
   {
    "duration": 156,
    "start_time": "2021-07-14T07:19:04.033Z"
   },
   {
    "duration": 165,
    "start_time": "2021-07-14T07:19:04.192Z"
   },
   {
    "duration": 150,
    "start_time": "2021-07-14T07:19:04.359Z"
   },
   {
    "duration": 13,
    "start_time": "2021-07-14T07:19:04.511Z"
   },
   {
    "duration": 48,
    "start_time": "2021-07-14T07:19:04.527Z"
   },
   {
    "duration": 14,
    "start_time": "2021-07-14T07:19:04.578Z"
   },
   {
    "duration": 29,
    "start_time": "2021-07-14T07:19:04.594Z"
   },
   {
    "duration": 56,
    "start_time": "2021-07-14T07:19:04.626Z"
   },
   {
    "duration": 175,
    "start_time": "2021-07-14T07:19:04.684Z"
   },
   {
    "duration": 16,
    "start_time": "2021-07-14T07:19:04.867Z"
   },
   {
    "duration": 6,
    "start_time": "2021-07-14T07:19:04.885Z"
   },
   {
    "duration": 263,
    "start_time": "2021-07-14T07:19:04.893Z"
   },
   {
    "duration": 39,
    "start_time": "2021-07-14T07:19:05.159Z"
   },
   {
    "duration": 1846,
    "start_time": "2021-07-14T07:19:05.200Z"
   },
   {
    "duration": 65,
    "start_time": "2021-07-14T07:19:07.048Z"
   },
   {
    "duration": 344,
    "start_time": "2021-07-14T07:19:07.116Z"
   },
   {
    "duration": 22,
    "start_time": "2021-07-14T07:19:07.468Z"
   },
   {
    "duration": 110,
    "start_time": "2021-07-14T07:19:07.493Z"
   },
   {
    "duration": 101,
    "start_time": "2021-07-14T07:19:07.606Z"
   },
   {
    "duration": 19,
    "start_time": "2021-07-14T07:19:07.710Z"
   },
   {
    "duration": 40,
    "start_time": "2021-07-14T07:19:07.731Z"
   },
   {
    "duration": 19,
    "start_time": "2021-07-14T07:19:07.773Z"
   },
   {
    "duration": 79,
    "start_time": "2021-07-14T07:19:07.794Z"
   },
   {
    "duration": 14,
    "start_time": "2021-07-14T07:19:07.876Z"
   },
   {
    "duration": 175,
    "start_time": "2021-07-14T07:19:07.892Z"
   },
   {
    "duration": 16,
    "start_time": "2021-07-14T07:19:08.069Z"
   },
   {
    "duration": 32,
    "start_time": "2021-07-14T07:19:08.088Z"
   },
   {
    "duration": 44,
    "start_time": "2021-07-14T07:19:08.123Z"
   },
   {
    "duration": 13,
    "start_time": "2021-07-14T07:19:08.170Z"
   },
   {
    "duration": 17,
    "start_time": "2021-07-14T07:19:08.185Z"
   },
   {
    "duration": 27,
    "start_time": "2021-07-14T07:19:08.204Z"
   },
   {
    "duration": 24,
    "start_time": "2021-07-14T07:19:08.233Z"
   },
   {
    "duration": 25,
    "start_time": "2021-07-14T07:19:08.259Z"
   },
   {
    "duration": 21,
    "start_time": "2021-07-14T07:19:08.286Z"
   },
   {
    "duration": 34,
    "start_time": "2021-07-14T07:19:08.309Z"
   },
   {
    "duration": 11,
    "start_time": "2021-07-14T07:19:08.346Z"
   },
   {
    "duration": 12,
    "start_time": "2021-07-14T07:19:08.359Z"
   }
  ],
  "kernelspec": {
   "display_name": "Python 3",
   "language": "python",
   "name": "python3"
  },
  "language_info": {
   "codemirror_mode": {
    "name": "ipython",
    "version": 3
   },
   "file_extension": ".py",
   "mimetype": "text/x-python",
   "name": "python",
   "nbconvert_exporter": "python",
   "pygments_lexer": "ipython3",
   "version": "3.8.8"
  },
  "toc": {
   "base_numbering": 1,
   "nav_menu": {},
   "number_sections": true,
   "sideBar": true,
   "skip_h1_title": true,
   "title_cell": "Table of Contents",
   "title_sidebar": "Contents",
   "toc_cell": false,
   "toc_position": {},
   "toc_section_display": true,
   "toc_window_display": false
  }
 },
 "nbformat": 4,
 "nbformat_minor": 2
}
