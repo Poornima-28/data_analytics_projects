{
 "cells": [
  {
   "cell_type": "markdown",
   "metadata": {},
   "source": [
    "## Project Description\n",
    "\n",
    "The gym chain model fitness is developing a customer interaction strategy based on analytical data. Their major problem in customer churn. To fight churn, Model Fitness has digitised a number of its customer profiles\n",
    "\n",
    "**Task: Analyse customer profiles and come up with customer retention strategy**\n",
    "\n",
    "### Data Description\n",
    "\n",
    "Current dataset fields:\n",
    "1. 'gender'\n",
    "2. 'Near_Location' — whether the user lives or works in the neighborhood where the gym is located\n",
    "3. 'Partner' — whether the user is an employee of a partner company (the gym has partner companies whose employees get discounts; in those cases the gym stores information on customers' employers)\n",
    "4. Promo_friends — whether the user originally signed up through a \"bring a friend\" offer (they used a friend's promo code when paying for their first membership)\n",
    "5. 'Phone' — whether the user provided their phone number\n",
    "6. 'Age'\n",
    "7. 'Lifetime' — the time (in months) since the customer first came to the gym\n",
    "\n",
    "Data from the log of visits and purchases and data on current membership status\n",
    "\n",
    "8. 'Contract_period' — 1 month, 3 months, 6 months, or 1 year\n",
    "9. 'Month_to_end_contract' — the months remaining until the contract expires\n",
    "10. 'Group_visits' — whether the user takes part in group sessions\n",
    "11. 'Avg_class_frequency_total' — average frequency of visits per week over the customer's lifetime\n",
    "12. 'Avg_class_frequency_current_month' — average frequency of visits per week over the preceding month\n",
    "13. 'Avg_additional_charges_total' — the total amount of money spent on other gym services: cafe, athletic goods, cosmetics, massages, etc."
   ]
  },
  {
   "cell_type": "code",
   "execution_count": 1,
   "metadata": {},
   "outputs": [],
   "source": [
    "# !pip install missingno\n",
    "# !pip install -U seaborn\n",
    "# !pip install -U scikit-learn==0.22.1\n",
    "# !pip install -U imbalanced-learn\n",
    "# !pip install --upgrade kneed"
   ]
  },
  {
   "cell_type": "code",
   "execution_count": 2,
   "metadata": {},
   "outputs": [],
   "source": [
    "#importing libraries\n",
    "\n",
    "import pandas as pd\n",
    "import numpy as np\n",
    "import matplotlib.pyplot as plt\n",
    "import seaborn as sns\n",
    "import missingno as msno\n",
    "\n",
    "from sklearn.preprocessing import StandardScaler\n",
    "from imblearn.over_sampling import SMOTE \n",
    "from sklearn.tree import DecisionTreeClassifier\n",
    "from sklearn.ensemble import RandomForestClassifier\n",
    "from sklearn.ensemble import GradientBoostingClassifier\n",
    "from sklearn.linear_model import LogisticRegression\n",
    "from sklearn.model_selection import train_test_split\n",
    "from kneed import KneeLocator\n",
    "from sklearn.cluster import KMeans\n",
    "from sklearn.metrics import silhouette_score\n",
    "from scipy.cluster.hierarchy import dendrogram, linkage\n",
    "from sklearn.preprocessing import normalize\n",
    "import scipy.cluster.hierarchy as shc\n",
    "from sklearn.cluster import AgglomerativeClustering\n",
    "from sklearn.metrics import roc_curve, recall_score, confusion_matrix, precision_score, f1_score, accuracy_score, classification_report\n",
    "\n",
    "plt.style.use('seaborn')"
   ]
  },
  {
   "cell_type": "code",
   "execution_count": 3,
   "metadata": {},
   "outputs": [
    {
     "data": {
      "text/html": [
       "<div>\n",
       "<style scoped>\n",
       "    .dataframe tbody tr th:only-of-type {\n",
       "        vertical-align: middle;\n",
       "    }\n",
       "\n",
       "    .dataframe tbody tr th {\n",
       "        vertical-align: top;\n",
       "    }\n",
       "\n",
       "    .dataframe thead th {\n",
       "        text-align: right;\n",
       "    }\n",
       "</style>\n",
       "<table border=\"1\" class=\"dataframe\">\n",
       "  <thead>\n",
       "    <tr style=\"text-align: right;\">\n",
       "      <th></th>\n",
       "      <th>gender</th>\n",
       "      <th>Near_Location</th>\n",
       "      <th>Partner</th>\n",
       "      <th>Promo_friends</th>\n",
       "      <th>Phone</th>\n",
       "      <th>Contract_period</th>\n",
       "      <th>Group_visits</th>\n",
       "      <th>Age</th>\n",
       "      <th>Avg_additional_charges_total</th>\n",
       "      <th>Month_to_end_contract</th>\n",
       "      <th>Lifetime</th>\n",
       "      <th>Avg_class_frequency_total</th>\n",
       "      <th>Avg_class_frequency_current_month</th>\n",
       "      <th>Churn</th>\n",
       "    </tr>\n",
       "  </thead>\n",
       "  <tbody>\n",
       "    <tr>\n",
       "      <th>0</th>\n",
       "      <td>1</td>\n",
       "      <td>1</td>\n",
       "      <td>1</td>\n",
       "      <td>1</td>\n",
       "      <td>0</td>\n",
       "      <td>6</td>\n",
       "      <td>1</td>\n",
       "      <td>29</td>\n",
       "      <td>14.227470</td>\n",
       "      <td>5.0</td>\n",
       "      <td>3</td>\n",
       "      <td>0.020398</td>\n",
       "      <td>0.000000</td>\n",
       "      <td>0</td>\n",
       "    </tr>\n",
       "    <tr>\n",
       "      <th>1</th>\n",
       "      <td>0</td>\n",
       "      <td>1</td>\n",
       "      <td>0</td>\n",
       "      <td>0</td>\n",
       "      <td>1</td>\n",
       "      <td>12</td>\n",
       "      <td>1</td>\n",
       "      <td>31</td>\n",
       "      <td>113.202938</td>\n",
       "      <td>12.0</td>\n",
       "      <td>7</td>\n",
       "      <td>1.922936</td>\n",
       "      <td>1.910244</td>\n",
       "      <td>0</td>\n",
       "    </tr>\n",
       "    <tr>\n",
       "      <th>2</th>\n",
       "      <td>0</td>\n",
       "      <td>1</td>\n",
       "      <td>1</td>\n",
       "      <td>0</td>\n",
       "      <td>1</td>\n",
       "      <td>1</td>\n",
       "      <td>0</td>\n",
       "      <td>28</td>\n",
       "      <td>129.448479</td>\n",
       "      <td>1.0</td>\n",
       "      <td>2</td>\n",
       "      <td>1.859098</td>\n",
       "      <td>1.736502</td>\n",
       "      <td>0</td>\n",
       "    </tr>\n",
       "    <tr>\n",
       "      <th>3</th>\n",
       "      <td>0</td>\n",
       "      <td>1</td>\n",
       "      <td>1</td>\n",
       "      <td>1</td>\n",
       "      <td>1</td>\n",
       "      <td>12</td>\n",
       "      <td>1</td>\n",
       "      <td>33</td>\n",
       "      <td>62.669863</td>\n",
       "      <td>12.0</td>\n",
       "      <td>2</td>\n",
       "      <td>3.205633</td>\n",
       "      <td>3.357215</td>\n",
       "      <td>0</td>\n",
       "    </tr>\n",
       "    <tr>\n",
       "      <th>4</th>\n",
       "      <td>1</td>\n",
       "      <td>1</td>\n",
       "      <td>1</td>\n",
       "      <td>1</td>\n",
       "      <td>1</td>\n",
       "      <td>1</td>\n",
       "      <td>0</td>\n",
       "      <td>26</td>\n",
       "      <td>198.362265</td>\n",
       "      <td>1.0</td>\n",
       "      <td>3</td>\n",
       "      <td>1.113884</td>\n",
       "      <td>1.120078</td>\n",
       "      <td>0</td>\n",
       "    </tr>\n",
       "  </tbody>\n",
       "</table>\n",
       "</div>"
      ],
      "text/plain": [
       "   gender  Near_Location  Partner  Promo_friends  Phone  Contract_period  \\\n",
       "0       1              1        1              1      0                6   \n",
       "1       0              1        0              0      1               12   \n",
       "2       0              1        1              0      1                1   \n",
       "3       0              1        1              1      1               12   \n",
       "4       1              1        1              1      1                1   \n",
       "\n",
       "   Group_visits  Age  Avg_additional_charges_total  Month_to_end_contract  \\\n",
       "0             1   29                     14.227470                    5.0   \n",
       "1             1   31                    113.202938                   12.0   \n",
       "2             0   28                    129.448479                    1.0   \n",
       "3             1   33                     62.669863                   12.0   \n",
       "4             0   26                    198.362265                    1.0   \n",
       "\n",
       "   Lifetime  Avg_class_frequency_total  Avg_class_frequency_current_month  \\\n",
       "0         3                   0.020398                           0.000000   \n",
       "1         7                   1.922936                           1.910244   \n",
       "2         2                   1.859098                           1.736502   \n",
       "3         2                   3.205633                           3.357215   \n",
       "4         3                   1.113884                           1.120078   \n",
       "\n",
       "   Churn  \n",
       "0      0  \n",
       "1      0  \n",
       "2      0  \n",
       "3      0  \n",
       "4      0  "
      ]
     },
     "execution_count": 3,
     "metadata": {},
     "output_type": "execute_result"
    }
   ],
   "source": [
    "#reading the file\n",
    "\n",
    "gym = pd.read_csv('gym_churn_us.csv')\n",
    "gym.head()"
   ]
  },
  {
   "cell_type": "code",
   "execution_count": 4,
   "metadata": {},
   "outputs": [
    {
     "data": {
      "text/plain": [
       "(4000, 14)"
      ]
     },
     "execution_count": 4,
     "metadata": {},
     "output_type": "execute_result"
    }
   ],
   "source": [
    "gym.shape"
   ]
  },
  {
   "cell_type": "code",
   "execution_count": 5,
   "metadata": {},
   "outputs": [
    {
     "data": {
      "text/plain": [
       "Index(['gender', 'near_location', 'partner', 'promo_friends', 'phone',\n",
       "       'contract_period', 'group_visits', 'age',\n",
       "       'avg_additional_charges_total', 'month_to_end_contract', 'lifetime',\n",
       "       'avg_class_frequency_total', 'avg_class_frequency_current_month',\n",
       "       'churn'],\n",
       "      dtype='object')"
      ]
     },
     "execution_count": 5,
     "metadata": {},
     "output_type": "execute_result"
    }
   ],
   "source": [
    "#lowercase all column names \n",
    "\n",
    "gym.columns = gym.columns.str.lower()\n",
    "gym.columns"
   ]
  },
  {
   "cell_type": "markdown",
   "metadata": {},
   "source": [
    "### Exploratory Data Analaysis"
   ]
  },
  {
   "cell_type": "code",
   "execution_count": 6,
   "metadata": {},
   "outputs": [
    {
     "name": "stdout",
     "output_type": "stream",
     "text": [
      "<class 'pandas.core.frame.DataFrame'>\n",
      "RangeIndex: 4000 entries, 0 to 3999\n",
      "Data columns (total 14 columns):\n",
      " #   Column                             Non-Null Count  Dtype  \n",
      "---  ------                             --------------  -----  \n",
      " 0   gender                             4000 non-null   int64  \n",
      " 1   near_location                      4000 non-null   int64  \n",
      " 2   partner                            4000 non-null   int64  \n",
      " 3   promo_friends                      4000 non-null   int64  \n",
      " 4   phone                              4000 non-null   int64  \n",
      " 5   contract_period                    4000 non-null   int64  \n",
      " 6   group_visits                       4000 non-null   int64  \n",
      " 7   age                                4000 non-null   int64  \n",
      " 8   avg_additional_charges_total       4000 non-null   float64\n",
      " 9   month_to_end_contract              4000 non-null   float64\n",
      " 10  lifetime                           4000 non-null   int64  \n",
      " 11  avg_class_frequency_total          4000 non-null   float64\n",
      " 12  avg_class_frequency_current_month  4000 non-null   float64\n",
      " 13  churn                              4000 non-null   int64  \n",
      "dtypes: float64(4), int64(10)\n",
      "memory usage: 437.6 KB\n"
     ]
    }
   ],
   "source": [
    "#General info\n",
    "\n",
    "gym.info()"
   ]
  },
  {
   "cell_type": "code",
   "execution_count": 7,
   "metadata": {},
   "outputs": [
    {
     "data": {
      "text/plain": [
       "<AxesSubplot:>"
      ]
     },
     "execution_count": 7,
     "metadata": {},
     "output_type": "execute_result"
    },
    {
     "data": {
      "image/png": "[encoded data removed]",
      "text/plain": [
       "<Figure size 1800x720 with 2 Axes>"
      ]
     },
     "metadata": {},
     "output_type": "display_data"
    }
   ],
   "source": [
    "msno.matrix(gym)"
   ]
  },
  {
   "cell_type": "markdown",
   "metadata": {},
   "source": [
    "> - Since all the bars are of equal lenght and there is no distorted pattern, it can be shown that there are no missing values in the dataset"
   ]
  },
  {
   "cell_type": "code",
   "execution_count": 8,
   "metadata": {},
   "outputs": [
    {
     "data": {
      "text/html": [
       "<div>\n",
       "<style scoped>\n",
       "    .dataframe tbody tr th:only-of-type {\n",
       "        vertical-align: middle;\n",
       "    }\n",
       "\n",
       "    .dataframe tbody tr th {\n",
       "        vertical-align: top;\n",
       "    }\n",
       "\n",
       "    .dataframe thead th {\n",
       "        text-align: right;\n",
       "    }\n",
       "</style>\n",
       "<table border=\"1\" class=\"dataframe\">\n",
       "  <thead>\n",
       "    <tr style=\"text-align: right;\">\n",
       "      <th></th>\n",
       "      <th>gender</th>\n",
       "      <th>near_location</th>\n",
       "      <th>partner</th>\n",
       "      <th>promo_friends</th>\n",
       "      <th>phone</th>\n",
       "      <th>contract_period</th>\n",
       "      <th>group_visits</th>\n",
       "      <th>age</th>\n",
       "      <th>avg_additional_charges_total</th>\n",
       "      <th>month_to_end_contract</th>\n",
       "      <th>lifetime</th>\n",
       "      <th>avg_class_frequency_total</th>\n",
       "      <th>avg_class_frequency_current_month</th>\n",
       "      <th>churn</th>\n",
       "    </tr>\n",
       "  </thead>\n",
       "  <tbody>\n",
       "    <tr>\n",
       "      <th>count</th>\n",
       "      <td>4000.000000</td>\n",
       "      <td>4000.000000</td>\n",
       "      <td>4000.000000</td>\n",
       "      <td>4000.000000</td>\n",
       "      <td>4000.000000</td>\n",
       "      <td>4000.000000</td>\n",
       "      <td>4000.000000</td>\n",
       "      <td>4000.000000</td>\n",
       "      <td>4000.000000</td>\n",
       "      <td>4000.000000</td>\n",
       "      <td>4000.000000</td>\n",
       "      <td>4000.000000</td>\n",
       "      <td>4000.000000</td>\n",
       "      <td>4000.000000</td>\n",
       "    </tr>\n",
       "    <tr>\n",
       "      <th>mean</th>\n",
       "      <td>0.510250</td>\n",
       "      <td>0.845250</td>\n",
       "      <td>0.486750</td>\n",
       "      <td>0.308500</td>\n",
       "      <td>0.903500</td>\n",
       "      <td>4.681250</td>\n",
       "      <td>0.412250</td>\n",
       "      <td>29.184250</td>\n",
       "      <td>146.943728</td>\n",
       "      <td>4.322750</td>\n",
       "      <td>3.724750</td>\n",
       "      <td>1.879020</td>\n",
       "      <td>1.767052</td>\n",
       "      <td>0.265250</td>\n",
       "    </tr>\n",
       "    <tr>\n",
       "      <th>std</th>\n",
       "      <td>0.499957</td>\n",
       "      <td>0.361711</td>\n",
       "      <td>0.499887</td>\n",
       "      <td>0.461932</td>\n",
       "      <td>0.295313</td>\n",
       "      <td>4.549706</td>\n",
       "      <td>0.492301</td>\n",
       "      <td>3.258367</td>\n",
       "      <td>96.355602</td>\n",
       "      <td>4.191297</td>\n",
       "      <td>3.749267</td>\n",
       "      <td>0.972245</td>\n",
       "      <td>1.052906</td>\n",
       "      <td>0.441521</td>\n",
       "    </tr>\n",
       "    <tr>\n",
       "      <th>min</th>\n",
       "      <td>0.000000</td>\n",
       "      <td>0.000000</td>\n",
       "      <td>0.000000</td>\n",
       "      <td>0.000000</td>\n",
       "      <td>0.000000</td>\n",
       "      <td>1.000000</td>\n",
       "      <td>0.000000</td>\n",
       "      <td>18.000000</td>\n",
       "      <td>0.148205</td>\n",
       "      <td>1.000000</td>\n",
       "      <td>0.000000</td>\n",
       "      <td>0.000000</td>\n",
       "      <td>0.000000</td>\n",
       "      <td>0.000000</td>\n",
       "    </tr>\n",
       "    <tr>\n",
       "      <th>25%</th>\n",
       "      <td>0.000000</td>\n",
       "      <td>1.000000</td>\n",
       "      <td>0.000000</td>\n",
       "      <td>0.000000</td>\n",
       "      <td>1.000000</td>\n",
       "      <td>1.000000</td>\n",
       "      <td>0.000000</td>\n",
       "      <td>27.000000</td>\n",
       "      <td>68.868830</td>\n",
       "      <td>1.000000</td>\n",
       "      <td>1.000000</td>\n",
       "      <td>1.180875</td>\n",
       "      <td>0.963003</td>\n",
       "      <td>0.000000</td>\n",
       "    </tr>\n",
       "    <tr>\n",
       "      <th>50%</th>\n",
       "      <td>1.000000</td>\n",
       "      <td>1.000000</td>\n",
       "      <td>0.000000</td>\n",
       "      <td>0.000000</td>\n",
       "      <td>1.000000</td>\n",
       "      <td>1.000000</td>\n",
       "      <td>0.000000</td>\n",
       "      <td>29.000000</td>\n",
       "      <td>136.220159</td>\n",
       "      <td>1.000000</td>\n",
       "      <td>3.000000</td>\n",
       "      <td>1.832768</td>\n",
       "      <td>1.719574</td>\n",
       "      <td>0.000000</td>\n",
       "    </tr>\n",
       "    <tr>\n",
       "      <th>75%</th>\n",
       "      <td>1.000000</td>\n",
       "      <td>1.000000</td>\n",
       "      <td>1.000000</td>\n",
       "      <td>1.000000</td>\n",
       "      <td>1.000000</td>\n",
       "      <td>6.000000</td>\n",
       "      <td>1.000000</td>\n",
       "      <td>31.000000</td>\n",
       "      <td>210.949625</td>\n",
       "      <td>6.000000</td>\n",
       "      <td>5.000000</td>\n",
       "      <td>2.536078</td>\n",
       "      <td>2.510336</td>\n",
       "      <td>1.000000</td>\n",
       "    </tr>\n",
       "    <tr>\n",
       "      <th>max</th>\n",
       "      <td>1.000000</td>\n",
       "      <td>1.000000</td>\n",
       "      <td>1.000000</td>\n",
       "      <td>1.000000</td>\n",
       "      <td>1.000000</td>\n",
       "      <td>12.000000</td>\n",
       "      <td>1.000000</td>\n",
       "      <td>41.000000</td>\n",
       "      <td>552.590740</td>\n",
       "      <td>12.000000</td>\n",
       "      <td>31.000000</td>\n",
       "      <td>6.023668</td>\n",
       "      <td>6.146783</td>\n",
       "      <td>1.000000</td>\n",
       "    </tr>\n",
       "  </tbody>\n",
       "</table>\n",
       "</div>"
      ],
      "text/plain": [
       "            gender  near_location      partner  promo_friends        phone  \\\n",
       "count  4000.000000    4000.000000  4000.000000    4000.000000  4000.000000   \n",
       "mean      0.510250       0.845250     0.486750       0.308500     0.903500   \n",
       "std       0.499957       0.361711     0.499887       0.461932     0.295313   \n",
       "min       0.000000       0.000000     0.000000       0.000000     0.000000   \n",
       "25%       0.000000       1.000000     0.000000       0.000000     1.000000   \n",
       "50%       1.000000       1.000000     0.000000       0.000000     1.000000   \n",
       "75%       1.000000       1.000000     1.000000       1.000000     1.000000   \n",
       "max       1.000000       1.000000     1.000000       1.000000     1.000000   \n",
       "\n",
       "       contract_period  group_visits          age  \\\n",
       "count      4000.000000   4000.000000  4000.000000   \n",
       "mean          4.681250      0.412250    29.184250   \n",
       "std           4.549706      0.492301     3.258367   \n",
       "min           1.000000      0.000000    18.000000   \n",
       "25%           1.000000      0.000000    27.000000   \n",
       "50%           1.000000      0.000000    29.000000   \n",
       "75%           6.000000      1.000000    31.000000   \n",
       "max          12.000000      1.000000    41.000000   \n",
       "\n",
       "       avg_additional_charges_total  month_to_end_contract     lifetime  \\\n",
       "count                   4000.000000            4000.000000  4000.000000   \n",
       "mean                     146.943728               4.322750     3.724750   \n",
       "std                       96.355602               4.191297     3.749267   \n",
       "min                        0.148205               1.000000     0.000000   \n",
       "25%                       68.868830               1.000000     1.000000   \n",
       "50%                      136.220159               1.000000     3.000000   \n",
       "75%                      210.949625               6.000000     5.000000   \n",
       "max                      552.590740              12.000000    31.000000   \n",
       "\n",
       "       avg_class_frequency_total  avg_class_frequency_current_month  \\\n",
       "count                4000.000000                        4000.000000   \n",
       "mean                    1.879020                           1.767052   \n",
       "std                     0.972245                           1.052906   \n",
       "min                     0.000000                           0.000000   \n",
       "25%                     1.180875                           0.963003   \n",
       "50%                     1.832768                           1.719574   \n",
       "75%                     2.536078                           2.510336   \n",
       "max                     6.023668                           6.146783   \n",
       "\n",
       "             churn  \n",
       "count  4000.000000  \n",
       "mean      0.265250  \n",
       "std       0.441521  \n",
       "min       0.000000  \n",
       "25%       0.000000  \n",
       "50%       0.000000  \n",
       "75%       1.000000  \n",
       "max       1.000000  "
      ]
     },
     "execution_count": 8,
     "metadata": {},
     "output_type": "execute_result"
    }
   ],
   "source": [
    "#Descriptive statistics\n",
    "\n",
    "gym.describe(include = 'all')"
   ]
  },
  {
   "cell_type": "code",
   "execution_count": 9,
   "metadata": {},
   "outputs": [
    {
     "data": {
      "text/html": [
       "<div>\n",
       "<style scoped>\n",
       "    .dataframe tbody tr th:only-of-type {\n",
       "        vertical-align: middle;\n",
       "    }\n",
       "\n",
       "    .dataframe tbody tr th {\n",
       "        vertical-align: top;\n",
       "    }\n",
       "\n",
       "    .dataframe thead th {\n",
       "        text-align: right;\n",
       "    }\n",
       "</style>\n",
       "<table border=\"1\" class=\"dataframe\">\n",
       "  <thead>\n",
       "    <tr style=\"text-align: right;\">\n",
       "      <th></th>\n",
       "      <th>gender</th>\n",
       "      <th>near_location</th>\n",
       "      <th>partner</th>\n",
       "      <th>promo_friends</th>\n",
       "      <th>phone</th>\n",
       "      <th>contract_period</th>\n",
       "      <th>group_visits</th>\n",
       "      <th>age</th>\n",
       "      <th>avg_additional_charges_total</th>\n",
       "      <th>month_to_end_contract</th>\n",
       "      <th>lifetime</th>\n",
       "      <th>avg_class_frequency_total</th>\n",
       "      <th>avg_class_frequency_current_month</th>\n",
       "    </tr>\n",
       "    <tr>\n",
       "      <th>churn</th>\n",
       "      <th></th>\n",
       "      <th></th>\n",
       "      <th></th>\n",
       "      <th></th>\n",
       "      <th></th>\n",
       "      <th></th>\n",
       "      <th></th>\n",
       "      <th></th>\n",
       "      <th></th>\n",
       "      <th></th>\n",
       "      <th></th>\n",
       "      <th></th>\n",
       "      <th></th>\n",
       "    </tr>\n",
       "  </thead>\n",
       "  <tbody>\n",
       "    <tr>\n",
       "      <th>0</th>\n",
       "      <td>0.510037</td>\n",
       "      <td>0.873086</td>\n",
       "      <td>0.534195</td>\n",
       "      <td>0.353522</td>\n",
       "      <td>0.903709</td>\n",
       "      <td>5.747193</td>\n",
       "      <td>0.464103</td>\n",
       "      <td>29.976523</td>\n",
       "      <td>158.445715</td>\n",
       "      <td>5.283089</td>\n",
       "      <td>4.711807</td>\n",
       "      <td>2.024876</td>\n",
       "      <td>2.027882</td>\n",
       "    </tr>\n",
       "    <tr>\n",
       "      <th>1</th>\n",
       "      <td>0.510839</td>\n",
       "      <td>0.768143</td>\n",
       "      <td>0.355325</td>\n",
       "      <td>0.183789</td>\n",
       "      <td>0.902922</td>\n",
       "      <td>1.728558</td>\n",
       "      <td>0.268615</td>\n",
       "      <td>26.989632</td>\n",
       "      <td>115.082899</td>\n",
       "      <td>1.662582</td>\n",
       "      <td>0.990575</td>\n",
       "      <td>1.474995</td>\n",
       "      <td>1.044546</td>\n",
       "    </tr>\n",
       "  </tbody>\n",
       "</table>\n",
       "</div>"
      ],
      "text/plain": [
       "         gender  near_location   partner  promo_friends     phone  \\\n",
       "churn                                                               \n",
       "0      0.510037       0.873086  0.534195       0.353522  0.903709   \n",
       "1      0.510839       0.768143  0.355325       0.183789  0.902922   \n",
       "\n",
       "       contract_period  group_visits        age  avg_additional_charges_total  \\\n",
       "churn                                                                           \n",
       "0             5.747193      0.464103  29.976523                    158.445715   \n",
       "1             1.728558      0.268615  26.989632                    115.082899   \n",
       "\n",
       "       month_to_end_contract  lifetime  avg_class_frequency_total  \\\n",
       "churn                                                               \n",
       "0                   5.283089  4.711807                   2.024876   \n",
       "1                   1.662582  0.990575                   1.474995   \n",
       "\n",
       "       avg_class_frequency_current_month  \n",
       "churn                                     \n",
       "0                               2.027882  \n",
       "1                               1.044546  "
      ]
     },
     "execution_count": 9,
     "metadata": {},
     "output_type": "execute_result"
    }
   ],
   "source": [
    "#mean values for both groups \n",
    "\n",
    "gym.groupby('churn').mean()"
   ]
  },
  {
   "cell_type": "markdown",
   "metadata": {},
   "source": [
    ">  - The mean of some of the features vary significantly between the two categories of customers whereas for some features its almost the same. This might give a hint on which features are of importance for churn prediction"
   ]
  },
  {
   "cell_type": "code",
   "execution_count": 10,
   "metadata": {
    "scrolled": false
   },
   "outputs": [
    {
     "data": {
      "image/png": "[encoded data removed]",
      "text/plain": [
       "<Figure size 401.625x360 with 1 Axes>"
      ]
     },
     "metadata": {},
     "output_type": "display_data"
    },
    {
     "data": {
      "image/png": "[encoded data removed]",
      "text/plain": [
       "<Figure size 401.625x360 with 1 Axes>"
      ]
     },
     "metadata": {},
     "output_type": "display_data"
    },
    {
     "data": {
      "image/png": "[encoded data removed]",
      "text/plain": [
       "<Figure size 401.625x360 with 1 Axes>"
      ]
     },
     "metadata": {},
     "output_type": "display_data"
    },
    {
     "data": {
      "image/png": "[encoded data removed]",
      "text/plain": [
       "<Figure size 401.625x360 with 1 Axes>"
      ]
     },
     "metadata": {},
     "output_type": "display_data"
    },
    {
     "data": {
      "image/png": "[encoded data removed]",
      "text/plain": [
       "<Figure size 401.625x360 with 1 Axes>"
      ]
     },
     "metadata": {},
     "output_type": "display_data"
    },
    {
     "data": {
      "image/png": "[encoded data removed]",
      "text/plain": [
       "<Figure size 401.625x360 with 1 Axes>"
      ]
     },
     "metadata": {},
     "output_type": "display_data"
    },
    {
     "data": {
      "image/png": "[encoded data removed]",
      "text/plain": [
       "<Figure size 401.625x360 with 1 Axes>"
      ]
     },
     "metadata": {},
     "output_type": "display_data"
    },
    {
     "data": {
      "image/png": "[encoded data removed]",
      "text/plain": [
       "<Figure size 401.625x360 with 1 Axes>"
      ]
     },
     "metadata": {},
     "output_type": "display_data"
    },
    {
     "data": {
      "image/png": "[encoded data removed]",
      "text/plain": [
       "<Figure size 401.625x360 with 1 Axes>"
      ]
     },
     "metadata": {},
     "output_type": "display_data"
    },
    {
     "data": {
      "image/png": "[encoded data removed]",
      "text/plain": [
       "<Figure size 401.625x360 with 1 Axes>"
      ]
     },
     "metadata": {},
     "output_type": "display_data"
    },
    {
     "data": {
      "image/png": "[encoded data removed]",
      "text/plain": [
       "<Figure size 401.625x360 with 1 Axes>"
      ]
     },
     "metadata": {},
     "output_type": "display_data"
    },
    {
     "data": {
      "image/png": "[encoded data removed]",
      "text/plain": [
       "<Figure size 401.625x360 with 1 Axes>"
      ]
     },
     "metadata": {},
     "output_type": "display_data"
    },
    {
     "data": {
      "image/png": "[encoded data removed]",
      "text/plain": [
       "<Figure size 401.625x360 with 1 Axes>"
      ]
     },
     "metadata": {},
     "output_type": "display_data"
    }
   ],
   "source": [
    "for i in gym.columns.drop('churn'):\n",
    "    sns.displot(gym, x=i, hue='churn', color = 'viridis')\n",
    "    plt.title(i + ' Distribution', fontsize= 16)"
   ]
  },
  {
   "cell_type": "markdown",
   "metadata": {},
   "source": [
    "> - Gender doesn’t have any impact on churn rate. About 70% of the customers who stay far away from the gym churned. \n",
    "The churn rate is more for those customers without any discounts\n",
    "> - Mostly new customers tend to churn. As lifetime increases, the churn rate decreases. \n",
    "> - Customers who do not participate in the group sessions churn more compared to the other category. \n",
    "> - Normally, the highest churn rate come from the customer aging between 26-28\n",
    "> - Customer who usually spend less on additional services churn. \n"
   ]
  },
  {
   "cell_type": "code",
   "execution_count": 11,
   "metadata": {},
   "outputs": [
    {
     "data": {
      "image/png": "[encoded data removed]",
      "text/plain": [
       "<Figure size 936x720 with 2 Axes>"
      ]
     },
     "metadata": {},
     "output_type": "display_data"
    }
   ],
   "source": [
    "cm = gym.corr()\n",
    "\n",
    "plt.figure(figsize=(13,10))\n",
    "sns.heatmap(cm, annot=True, square = True)\n",
    "plt.show()\n"
   ]
  },
  {
   "cell_type": "markdown",
   "metadata": {},
   "source": [
    "> - A threshold of 0.8 is considered. Since the columns contract_period correlates with month_to_end_contract and avg_class_frequency_current_month correlates with avg_class_frequency total, one of these columns can be removed to avoid problems during model building "
   ]
  },
  {
   "cell_type": "code",
   "execution_count": 12,
   "metadata": {},
   "outputs": [],
   "source": [
    "gym.drop(['month_to_end_contract','avg_class_frequency_current_month'],axis = 1, inplace = True)"
   ]
  },
  {
   "cell_type": "code",
   "execution_count": 13,
   "metadata": {},
   "outputs": [
    {
     "data": {
      "text/plain": [
       "(4000, 12)"
      ]
     },
     "execution_count": 13,
     "metadata": {},
     "output_type": "execute_result"
    }
   ],
   "source": [
    "gym.shape"
   ]
  },
  {
   "cell_type": "markdown",
   "metadata": {},
   "source": [
    "### Classification"
   ]
  },
  {
   "cell_type": "markdown",
   "metadata": {},
   "source": [
    "#### Models without smote"
   ]
  },
  {
   "cell_type": "code",
   "execution_count": 14,
   "metadata": {},
   "outputs": [],
   "source": [
    "# splitting data into train and test \n",
    "\n",
    "x = gym.drop('churn', axis = 1)\n",
    "y = gym.churn\n",
    "\n",
    "x_train , x_test, y_train, y_test = train_test_split(x,y,test_size = 0.2, random_state = 0)"
   ]
  },
  {
   "cell_type": "code",
   "execution_count": 15,
   "metadata": {},
   "outputs": [],
   "source": [
    "#Standardize all the variables \n",
    "\n",
    "scaler = StandardScaler()\n",
    "\n",
    "x_train_st = scaler.fit_transform(x_train)\n",
    "x_test_st = scaler.transform(x_test)"
   ]
  },
  {
   "cell_type": "code",
   "execution_count": 16,
   "metadata": {},
   "outputs": [],
   "source": [
    "models = [DecisionTreeClassifier(random_state = 0), RandomForestClassifier(random_state = 0), GradientBoostingClassifier(random_state = 0), LogisticRegression(random_state = 0)]"
   ]
  },
  {
   "cell_type": "code",
   "execution_count": 17,
   "metadata": {},
   "outputs": [],
   "source": [
    "def find_model(m,x_train,y_train,x_test,y_test):\n",
    "    model = m\n",
    "    model.fit(x_train_st, y_train)\n",
    "    \n",
    "    predictions = model.predict(x_test_st)\n",
    "    \n",
    "    \n",
    "    plt.figure(figsize=(4,3))\n",
    "    sns.heatmap(confusion_matrix(y_test, predictions),\n",
    "                annot=True,fmt = \"d\",linecolor=\"k\",linewidths=3)\n",
    "    plt.title(type(m).__name__, fontsize=16)\n",
    "    accuracy = accuracy_score(y_test, predictions)\n",
    "    precision = precision_score(y_test, predictions)\n",
    "    recall = recall_score(y_test, predictions)\n",
    "    f1score = f1_score(y_test, predictions)\n",
    "    \n",
    "    best_model[type(m).__name__] = f1score\n",
    "    \n",
    "    print(f\"{type(m).__name__}: \\n Accuracy :{accuracy},\\n precision :{precision},\\n recall : {recall},\\n F1 score : {f1score}\")\n",
    "    print('')\n",
    "    print('')"
   ]
  },
  {
   "cell_type": "code",
   "execution_count": 18,
   "metadata": {},
   "outputs": [
    {
     "name": "stdout",
     "output_type": "stream",
     "text": [
      "DecisionTreeClassifier: \n",
      " Accuracy :0.8275,\n",
      " precision :0.6351351351351351,\n",
      " recall : 0.7121212121212122,\n",
      " F1 score : 0.6714285714285715\n",
      "\n",
      "\n",
      "RandomForestClassifier: \n",
      " Accuracy :0.89,\n",
      " precision :0.7864583333333334,\n",
      " recall : 0.7626262626262627,\n",
      " F1 score : 0.7743589743589744\n",
      "\n",
      "\n",
      "GradientBoostingClassifier: \n",
      " Accuracy :0.89875,\n",
      " precision :0.8,\n",
      " recall : 0.7878787878787878,\n",
      " F1 score : 0.7938931297709925\n",
      "\n",
      "\n",
      "LogisticRegression: \n",
      " Accuracy :0.89875,\n",
      " precision :0.7881773399014779,\n",
      " recall : 0.8080808080808081,\n",
      " F1 score : 0.7980049875311721\n",
      "\n",
      "\n",
      "The best classifier according to F1 score is : LogisticRegression\n"
     ]
    },
    {
     "data": {
      "image/png": "[encoded data removed]",
      "text/plain": [
       "<Figure size 288x216 with 2 Axes>"
      ]
     },
     "metadata": {},
     "output_type": "display_data"
    },
    {
     "data": {
      "image/png": "[encoded data removed]",
      "text/plain": [
       "<Figure size 288x216 with 2 Axes>"
      ]
     },
     "metadata": {},
     "output_type": "display_data"
    },
    {
     "data": {
      "image/png": "[encoded data removed]",
      "text/plain": [
       "<Figure size 288x216 with 2 Axes>"
      ]
     },
     "metadata": {},
     "output_type": "display_data"
    },
    {
     "data": {
      "image/png": "[encoded data removed]",
      "text/plain": [
       "<Figure size 288x216 with 2 Axes>"
      ]
     },
     "metadata": {},
     "output_type": "display_data"
    }
   ],
   "source": [
    "best_model = {}\n",
    "\n",
    "for m in models:\n",
    "    find_model(m,x_train_st,y_train,x_test_st,y_test)\n",
    "\n",
    "print('The best classifier according to F1 score is : {}'.format(max(best_model, key=best_model.get)))"
   ]
  },
  {
   "cell_type": "markdown",
   "metadata": {},
   "source": [
    "> - Since we have a problem with class imbalance , accuracy is not considered to be a good measure for generalisation. \n",
    "Therefore the best alternative is F1 score \n",
    "> - Based on F1 score , the best results are given by LogisticRegression"
   ]
  },
  {
   "cell_type": "markdown",
   "metadata": {},
   "source": [
    "#### Models with smote"
   ]
  },
  {
   "cell_type": "code",
   "execution_count": 19,
   "metadata": {},
   "outputs": [],
   "source": [
    "sm = SMOTE(random_state=0)\n",
    "\n",
    "x_sm, y_sm = sm.fit_resample(x, y)"
   ]
  },
  {
   "cell_type": "code",
   "execution_count": 20,
   "metadata": {},
   "outputs": [
    {
     "data": {
      "text/plain": [
       "0    0.5\n",
       "1    0.5\n",
       "Name: churn, dtype: float64"
      ]
     },
     "execution_count": 20,
     "metadata": {},
     "output_type": "execute_result"
    }
   ],
   "source": [
    "y_sm.value_counts(normalize = True)"
   ]
  },
  {
   "cell_type": "code",
   "execution_count": 21,
   "metadata": {},
   "outputs": [],
   "source": [
    "x_train_sm, x_test_sm, y_train_sm, y_test_sm = train_test_split(x_sm, y_sm, test_size=0.20, random_state=0)"
   ]
  },
  {
   "cell_type": "code",
   "execution_count": 22,
   "metadata": {},
   "outputs": [],
   "source": [
    "x_train_sm_st = scaler.fit_transform(x_train_sm)\n",
    "x_test_sm_st = scaler.transform(x_test_sm)"
   ]
  },
  {
   "cell_type": "code",
   "execution_count": 23,
   "metadata": {},
   "outputs": [
    {
     "name": "stdout",
     "output_type": "stream",
     "text": [
      "DecisionTreeClassifier: \n",
      " Accuracy :0.8275,\n",
      " precision :0.6351351351351351,\n",
      " recall : 0.7121212121212122,\n",
      " F1 score : 0.6714285714285715\n",
      "\n",
      "\n",
      "RandomForestClassifier: \n",
      " Accuracy :0.89,\n",
      " precision :0.7864583333333334,\n",
      " recall : 0.7626262626262627,\n",
      " F1 score : 0.7743589743589744\n",
      "\n",
      "\n",
      "GradientBoostingClassifier: \n",
      " Accuracy :0.89875,\n",
      " precision :0.8,\n",
      " recall : 0.7878787878787878,\n",
      " F1 score : 0.7938931297709925\n",
      "\n",
      "\n",
      "LogisticRegression: \n",
      " Accuracy :0.89875,\n",
      " precision :0.7881773399014779,\n",
      " recall : 0.8080808080808081,\n",
      " F1 score : 0.7980049875311721\n",
      "\n",
      "\n",
      "The best classifier according to F1 score is : LogisticRegression\n"
     ]
    },
    {
     "data": {
      "image/png": "[encoded data removed]",
      "text/plain": [
       "<Figure size 288x216 with 2 Axes>"
      ]
     },
     "metadata": {},
     "output_type": "display_data"
    },
    {
     "data": {
      "image/png": "[encoded data removed]",
      "text/plain": [
       "<Figure size 288x216 with 2 Axes>"
      ]
     },
     "metadata": {},
     "output_type": "display_data"
    },
    {
     "data": {
      "image/png": "[encoded data removed]",
      "text/plain": [
       "<Figure size 288x216 with 2 Axes>"
      ]
     },
     "metadata": {},
     "output_type": "display_data"
    },
    {
     "data": {
      "image/png": "[encoded data removed]",
      "text/plain": [
       "<Figure size 288x216 with 2 Axes>"
      ]
     },
     "metadata": {},
     "output_type": "display_data"
    }
   ],
   "source": [
    "best_model = {}\n",
    "\n",
    "for m in models:\n",
    "    find_model(m,x_train_sm_st,y_train,x_test_sm_st,y_test)\n",
    "\n",
    "print('The best classifier according to F1 score is : {}'.format(max(best_model, key=best_model.get)))"
   ]
  },
  {
   "cell_type": "markdown",
   "metadata": {},
   "source": [
    "> - Using SMOTE , the minority class label was oversampled to address the class imbalance problem and then the models were trained again using the oversampled data. The results for some of the classifiers improved, although not significantly\n",
    "> - Since the classes are balanced, accuracy can be considered as a good measure to select the best classifier. In this case, Logisticregression and GradientBoostingClassifier both perfrom equally. However, based on f1 score, LogisticRegression turns out to be the best model"
   ]
  },
  {
   "cell_type": "markdown",
   "metadata": {},
   "source": [
    "### Clustering"
   ]
  },
  {
   "cell_type": "code",
   "execution_count": 24,
   "metadata": {},
   "outputs": [],
   "source": [
    "#droppin class labels\n",
    "features = gym.drop('churn',axis=1)\n",
    "true_label = gym.churn"
   ]
  },
  {
   "cell_type": "code",
   "execution_count": 25,
   "metadata": {},
   "outputs": [
    {
     "data": {
      "text/html": [
       "<div>\n",
       "<style scoped>\n",
       "    .dataframe tbody tr th:only-of-type {\n",
       "        vertical-align: middle;\n",
       "    }\n",
       "\n",
       "    .dataframe tbody tr th {\n",
       "        vertical-align: top;\n",
       "    }\n",
       "\n",
       "    .dataframe thead th {\n",
       "        text-align: right;\n",
       "    }\n",
       "</style>\n",
       "<table border=\"1\" class=\"dataframe\">\n",
       "  <thead>\n",
       "    <tr style=\"text-align: right;\">\n",
       "      <th></th>\n",
       "      <th>gender</th>\n",
       "      <th>near_location</th>\n",
       "      <th>partner</th>\n",
       "      <th>promo_friends</th>\n",
       "      <th>phone</th>\n",
       "      <th>contract_period</th>\n",
       "      <th>group_visits</th>\n",
       "      <th>age</th>\n",
       "      <th>avg_additional_charges_total</th>\n",
       "      <th>lifetime</th>\n",
       "      <th>avg_class_frequency_total</th>\n",
       "    </tr>\n",
       "  </thead>\n",
       "  <tbody>\n",
       "    <tr>\n",
       "      <th>0</th>\n",
       "      <td>0.030242</td>\n",
       "      <td>0.030242</td>\n",
       "      <td>0.030242</td>\n",
       "      <td>0.030242</td>\n",
       "      <td>0.000000</td>\n",
       "      <td>0.181450</td>\n",
       "      <td>0.030242</td>\n",
       "      <td>0.877009</td>\n",
       "      <td>0.430263</td>\n",
       "      <td>0.090725</td>\n",
       "      <td>0.000617</td>\n",
       "    </tr>\n",
       "    <tr>\n",
       "      <th>1</th>\n",
       "      <td>0.000000</td>\n",
       "      <td>0.008459</td>\n",
       "      <td>0.000000</td>\n",
       "      <td>0.000000</td>\n",
       "      <td>0.008459</td>\n",
       "      <td>0.101507</td>\n",
       "      <td>0.008459</td>\n",
       "      <td>0.262226</td>\n",
       "      <td>0.957574</td>\n",
       "      <td>0.059212</td>\n",
       "      <td>0.016266</td>\n",
       "    </tr>\n",
       "    <tr>\n",
       "      <th>2</th>\n",
       "      <td>0.000000</td>\n",
       "      <td>0.007548</td>\n",
       "      <td>0.007548</td>\n",
       "      <td>0.000000</td>\n",
       "      <td>0.007548</td>\n",
       "      <td>0.007548</td>\n",
       "      <td>0.000000</td>\n",
       "      <td>0.211344</td>\n",
       "      <td>0.977078</td>\n",
       "      <td>0.015096</td>\n",
       "      <td>0.014032</td>\n",
       "    </tr>\n",
       "    <tr>\n",
       "      <th>3</th>\n",
       "      <td>0.000000</td>\n",
       "      <td>0.013895</td>\n",
       "      <td>0.013895</td>\n",
       "      <td>0.013895</td>\n",
       "      <td>0.013895</td>\n",
       "      <td>0.166734</td>\n",
       "      <td>0.013895</td>\n",
       "      <td>0.458520</td>\n",
       "      <td>0.870769</td>\n",
       "      <td>0.027789</td>\n",
       "      <td>0.044541</td>\n",
       "    </tr>\n",
       "    <tr>\n",
       "      <th>4</th>\n",
       "      <td>0.004998</td>\n",
       "      <td>0.004998</td>\n",
       "      <td>0.004998</td>\n",
       "      <td>0.004998</td>\n",
       "      <td>0.004998</td>\n",
       "      <td>0.004998</td>\n",
       "      <td>0.000000</td>\n",
       "      <td>0.129935</td>\n",
       "      <td>0.991318</td>\n",
       "      <td>0.014993</td>\n",
       "      <td>0.005567</td>\n",
       "    </tr>\n",
       "  </tbody>\n",
       "</table>\n",
       "</div>"
      ],
      "text/plain": [
       "     gender  near_location   partner  promo_friends     phone  \\\n",
       "0  0.030242       0.030242  0.030242       0.030242  0.000000   \n",
       "1  0.000000       0.008459  0.000000       0.000000  0.008459   \n",
       "2  0.000000       0.007548  0.007548       0.000000  0.007548   \n",
       "3  0.000000       0.013895  0.013895       0.013895  0.013895   \n",
       "4  0.004998       0.004998  0.004998       0.004998  0.004998   \n",
       "\n",
       "   contract_period  group_visits       age  avg_additional_charges_total  \\\n",
       "0         0.181450      0.030242  0.877009                      0.430263   \n",
       "1         0.101507      0.008459  0.262226                      0.957574   \n",
       "2         0.007548      0.000000  0.211344                      0.977078   \n",
       "3         0.166734      0.013895  0.458520                      0.870769   \n",
       "4         0.004998      0.000000  0.129935                      0.991318   \n",
       "\n",
       "   lifetime  avg_class_frequency_total  \n",
       "0  0.090725                   0.000617  \n",
       "1  0.059212                   0.016266  \n",
       "2  0.015096                   0.014032  \n",
       "3  0.027789                   0.044541  \n",
       "4  0.014993                   0.005567  "
      ]
     },
     "execution_count": 25,
     "metadata": {},
     "output_type": "execute_result"
    }
   ],
   "source": [
    "data_scaled = normalize(features)\n",
    "data_scaled = pd.DataFrame(data_scaled, columns=features.columns)\n",
    "data_scaled.head()"
   ]
  },
  {
   "cell_type": "markdown",
   "metadata": {},
   "source": [
    "#### Hierarchical clustering "
   ]
  },
  {
   "cell_type": "code",
   "execution_count": 26,
   "metadata": {},
   "outputs": [],
   "source": [
    "# plt.figure(figsize=(10, 7))  \n",
    "# plt.title(\"Dendrograms\")  \n",
    "# dend = shc.dendrogram(shc.linkage(data_scaled, method='single'))"
   ]
  },
  {
   "cell_type": "code",
   "execution_count": 35,
   "metadata": {},
   "outputs": [
    {
     "data": {
      "text/plain": [
       "(200, 12)"
      ]
     },
     "execution_count": 35,
     "metadata": {},
     "output_type": "execute_result"
    }
   ],
   "source": [
    "sample = data_scaled.sample(n= 200,random_state = 0)\n",
    "\n",
    "sample.shape"
   ]
  },
  {
   "cell_type": "code",
   "execution_count": 36,
   "metadata": {},
   "outputs": [
    {
     "data": {
      "image/png": "[encoded data removed]",
      "text/plain": [
       "<Figure size 1080x504 with 1 Axes>"
      ]
     },
     "metadata": {},
     "output_type": "display_data"
    }
   ],
   "source": [
    "plt.figure(figsize=(15, 7))  \n",
    "plt.title(\"Dendrograms\")  \n",
    "dend = shc.dendrogram(shc.linkage(sample, method='single'))\n",
    "plt.axhline(y=0.5, color='r', linestyle='--')\n",
    "plt.show()"
   ]
  },
  {
   "cell_type": "markdown",
   "metadata": {},
   "source": [
    "> - A sample was drawn randomly from the dataset to plot a dendogram to find the number of clusters \n",
    "> - Based on the cut on the dendogram, 5 clusters are chosen for agglomerative hierarchical clustering "
   ]
  },
  {
   "cell_type": "markdown",
   "metadata": {},
   "source": [
    "#### K Means for n_clusters"
   ]
  },
  {
   "cell_type": "code",
   "execution_count": 29,
   "metadata": {},
   "outputs": [
    {
     "data": {
      "text/plain": [
       "KMeans(init='random', n_clusters=5, random_state=0)"
      ]
     },
     "execution_count": 29,
     "metadata": {},
     "output_type": "execute_result"
    }
   ],
   "source": [
    "kmeans = KMeans(init = 'random',n_init = 10,n_clusters = 5, random_state = 0)\n",
    "kmeans.fit(data_scaled)"
   ]
  },
  {
   "cell_type": "code",
   "execution_count": 30,
   "metadata": {},
   "outputs": [
    {
     "data": {
      "text/html": [
       "<div>\n",
       "<style scoped>\n",
       "    .dataframe tbody tr th:only-of-type {\n",
       "        vertical-align: middle;\n",
       "    }\n",
       "\n",
       "    .dataframe tbody tr th {\n",
       "        vertical-align: top;\n",
       "    }\n",
       "\n",
       "    .dataframe thead th {\n",
       "        text-align: right;\n",
       "    }\n",
       "</style>\n",
       "<table border=\"1\" class=\"dataframe\">\n",
       "  <thead>\n",
       "    <tr style=\"text-align: right;\">\n",
       "      <th></th>\n",
       "      <th>gender</th>\n",
       "      <th>near_location</th>\n",
       "      <th>partner</th>\n",
       "      <th>promo_friends</th>\n",
       "      <th>phone</th>\n",
       "      <th>contract_period</th>\n",
       "      <th>group_visits</th>\n",
       "      <th>age</th>\n",
       "      <th>avg_additional_charges_total</th>\n",
       "      <th>lifetime</th>\n",
       "      <th>avg_class_frequency_total</th>\n",
       "      <th>clusters</th>\n",
       "    </tr>\n",
       "  </thead>\n",
       "  <tbody>\n",
       "    <tr>\n",
       "      <th>0</th>\n",
       "      <td>0.030242</td>\n",
       "      <td>0.030242</td>\n",
       "      <td>0.030242</td>\n",
       "      <td>0.030242</td>\n",
       "      <td>0.000000</td>\n",
       "      <td>0.181450</td>\n",
       "      <td>0.030242</td>\n",
       "      <td>0.877009</td>\n",
       "      <td>0.430263</td>\n",
       "      <td>0.090725</td>\n",
       "      <td>0.000617</td>\n",
       "      <td>4</td>\n",
       "    </tr>\n",
       "    <tr>\n",
       "      <th>1</th>\n",
       "      <td>0.000000</td>\n",
       "      <td>0.008459</td>\n",
       "      <td>0.000000</td>\n",
       "      <td>0.000000</td>\n",
       "      <td>0.008459</td>\n",
       "      <td>0.101507</td>\n",
       "      <td>0.008459</td>\n",
       "      <td>0.262226</td>\n",
       "      <td>0.957574</td>\n",
       "      <td>0.059212</td>\n",
       "      <td>0.016266</td>\n",
       "      <td>0</td>\n",
       "    </tr>\n",
       "    <tr>\n",
       "      <th>2</th>\n",
       "      <td>0.000000</td>\n",
       "      <td>0.007548</td>\n",
       "      <td>0.007548</td>\n",
       "      <td>0.000000</td>\n",
       "      <td>0.007548</td>\n",
       "      <td>0.007548</td>\n",
       "      <td>0.000000</td>\n",
       "      <td>0.211344</td>\n",
       "      <td>0.977078</td>\n",
       "      <td>0.015096</td>\n",
       "      <td>0.014032</td>\n",
       "      <td>1</td>\n",
       "    </tr>\n",
       "    <tr>\n",
       "      <th>3</th>\n",
       "      <td>0.000000</td>\n",
       "      <td>0.013895</td>\n",
       "      <td>0.013895</td>\n",
       "      <td>0.013895</td>\n",
       "      <td>0.013895</td>\n",
       "      <td>0.166734</td>\n",
       "      <td>0.013895</td>\n",
       "      <td>0.458520</td>\n",
       "      <td>0.870769</td>\n",
       "      <td>0.027789</td>\n",
       "      <td>0.044541</td>\n",
       "      <td>3</td>\n",
       "    </tr>\n",
       "    <tr>\n",
       "      <th>4</th>\n",
       "      <td>0.004998</td>\n",
       "      <td>0.004998</td>\n",
       "      <td>0.004998</td>\n",
       "      <td>0.004998</td>\n",
       "      <td>0.004998</td>\n",
       "      <td>0.004998</td>\n",
       "      <td>0.000000</td>\n",
       "      <td>0.129935</td>\n",
       "      <td>0.991318</td>\n",
       "      <td>0.014993</td>\n",
       "      <td>0.005567</td>\n",
       "      <td>1</td>\n",
       "    </tr>\n",
       "  </tbody>\n",
       "</table>\n",
       "</div>"
      ],
      "text/plain": [
       "     gender  near_location   partner  promo_friends     phone  \\\n",
       "0  0.030242       0.030242  0.030242       0.030242  0.000000   \n",
       "1  0.000000       0.008459  0.000000       0.000000  0.008459   \n",
       "2  0.000000       0.007548  0.007548       0.000000  0.007548   \n",
       "3  0.000000       0.013895  0.013895       0.013895  0.013895   \n",
       "4  0.004998       0.004998  0.004998       0.004998  0.004998   \n",
       "\n",
       "   contract_period  group_visits       age  avg_additional_charges_total  \\\n",
       "0         0.181450      0.030242  0.877009                      0.430263   \n",
       "1         0.101507      0.008459  0.262226                      0.957574   \n",
       "2         0.007548      0.000000  0.211344                      0.977078   \n",
       "3         0.166734      0.013895  0.458520                      0.870769   \n",
       "4         0.004998      0.000000  0.129935                      0.991318   \n",
       "\n",
       "   lifetime  avg_class_frequency_total  clusters  \n",
       "0  0.090725                   0.000617         4  \n",
       "1  0.059212                   0.016266         0  \n",
       "2  0.015096                   0.014032         1  \n",
       "3  0.027789                   0.044541         3  \n",
       "4  0.014993                   0.005567         1  "
      ]
     },
     "execution_count": 30,
     "metadata": {},
     "output_type": "execute_result"
    }
   ],
   "source": [
    "data_scaled['clusters'] = kmeans.fit_predict(data_scaled)\n",
    "data_scaled.head()"
   ]
  },
  {
   "cell_type": "code",
   "execution_count": 31,
   "metadata": {},
   "outputs": [
    {
     "data": {
      "text/plain": [
       "38.44946840285159"
      ]
     },
     "execution_count": 31,
     "metadata": {},
     "output_type": "execute_result"
    }
   ],
   "source": [
    "# The lowest SSE value\n",
    "kmeans.inertia_"
   ]
  },
  {
   "cell_type": "code",
   "execution_count": 32,
   "metadata": {},
   "outputs": [
    {
     "data": {
      "text/html": [
       "<div>\n",
       "<style scoped>\n",
       "    .dataframe tbody tr th:only-of-type {\n",
       "        vertical-align: middle;\n",
       "    }\n",
       "\n",
       "    .dataframe tbody tr th {\n",
       "        vertical-align: top;\n",
       "    }\n",
       "\n",
       "    .dataframe thead th {\n",
       "        text-align: right;\n",
       "    }\n",
       "</style>\n",
       "<table border=\"1\" class=\"dataframe\">\n",
       "  <thead>\n",
       "    <tr style=\"text-align: right;\">\n",
       "      <th></th>\n",
       "      <th>gender</th>\n",
       "      <th>near_location</th>\n",
       "      <th>partner</th>\n",
       "      <th>promo_friends</th>\n",
       "      <th>phone</th>\n",
       "      <th>contract_period</th>\n",
       "      <th>group_visits</th>\n",
       "      <th>age</th>\n",
       "      <th>avg_additional_charges_total</th>\n",
       "      <th>lifetime</th>\n",
       "      <th>avg_class_frequency_total</th>\n",
       "    </tr>\n",
       "    <tr>\n",
       "      <th>clusters</th>\n",
       "      <th></th>\n",
       "      <th></th>\n",
       "      <th></th>\n",
       "      <th></th>\n",
       "      <th></th>\n",
       "      <th></th>\n",
       "      <th></th>\n",
       "      <th></th>\n",
       "      <th></th>\n",
       "      <th></th>\n",
       "      <th></th>\n",
       "    </tr>\n",
       "  </thead>\n",
       "  <tbody>\n",
       "    <tr>\n",
       "      <th>0</th>\n",
       "      <td>0.005003</td>\n",
       "      <td>0.008196</td>\n",
       "      <td>0.004480</td>\n",
       "      <td>0.002717</td>\n",
       "      <td>0.008743</td>\n",
       "      <td>0.041898</td>\n",
       "      <td>0.003950</td>\n",
       "      <td>0.282209</td>\n",
       "      <td>0.954303</td>\n",
       "      <td>0.035216</td>\n",
       "      <td>0.017975</td>\n",
       "    </tr>\n",
       "    <tr>\n",
       "      <th>1</th>\n",
       "      <td>0.002460</td>\n",
       "      <td>0.004099</td>\n",
       "      <td>0.002356</td>\n",
       "      <td>0.001529</td>\n",
       "      <td>0.004395</td>\n",
       "      <td>0.022808</td>\n",
       "      <td>0.002022</td>\n",
       "      <td>0.140101</td>\n",
       "      <td>0.988420</td>\n",
       "      <td>0.017844</td>\n",
       "      <td>0.009111</td>\n",
       "    </tr>\n",
       "    <tr>\n",
       "      <th>2</th>\n",
       "      <td>0.012789</td>\n",
       "      <td>0.020760</td>\n",
       "      <td>0.012829</td>\n",
       "      <td>0.006989</td>\n",
       "      <td>0.023498</td>\n",
       "      <td>0.100437</td>\n",
       "      <td>0.009769</td>\n",
       "      <td>0.746917</td>\n",
       "      <td>0.623463</td>\n",
       "      <td>0.089442</td>\n",
       "      <td>0.048962</td>\n",
       "    </tr>\n",
       "    <tr>\n",
       "      <th>3</th>\n",
       "      <td>0.008524</td>\n",
       "      <td>0.014467</td>\n",
       "      <td>0.008080</td>\n",
       "      <td>0.004788</td>\n",
       "      <td>0.015748</td>\n",
       "      <td>0.073546</td>\n",
       "      <td>0.006377</td>\n",
       "      <td>0.491158</td>\n",
       "      <td>0.856226</td>\n",
       "      <td>0.054587</td>\n",
       "      <td>0.030998</td>\n",
       "    </tr>\n",
       "    <tr>\n",
       "      <th>4</th>\n",
       "      <td>0.017215</td>\n",
       "      <td>0.025606</td>\n",
       "      <td>0.016400</td>\n",
       "      <td>0.010981</td>\n",
       "      <td>0.027788</td>\n",
       "      <td>0.136125</td>\n",
       "      <td>0.013584</td>\n",
       "      <td>0.929051</td>\n",
       "      <td>0.223195</td>\n",
       "      <td>0.111597</td>\n",
       "      <td>0.058237</td>\n",
       "    </tr>\n",
       "  </tbody>\n",
       "</table>\n",
       "</div>"
      ],
      "text/plain": [
       "            gender  near_location   partner  promo_friends     phone  \\\n",
       "clusters                                                               \n",
       "0         0.005003       0.008196  0.004480       0.002717  0.008743   \n",
       "1         0.002460       0.004099  0.002356       0.001529  0.004395   \n",
       "2         0.012789       0.020760  0.012829       0.006989  0.023498   \n",
       "3         0.008524       0.014467  0.008080       0.004788  0.015748   \n",
       "4         0.017215       0.025606  0.016400       0.010981  0.027788   \n",
       "\n",
       "          contract_period  group_visits       age  \\\n",
       "clusters                                            \n",
       "0                0.041898      0.003950  0.282209   \n",
       "1                0.022808      0.002022  0.140101   \n",
       "2                0.100437      0.009769  0.746917   \n",
       "3                0.073546      0.006377  0.491158   \n",
       "4                0.136125      0.013584  0.929051   \n",
       "\n",
       "          avg_additional_charges_total  lifetime  avg_class_frequency_total  \n",
       "clusters                                                                     \n",
       "0                             0.954303  0.035216                   0.017975  \n",
       "1                             0.988420  0.017844                   0.009111  \n",
       "2                             0.623463  0.089442                   0.048962  \n",
       "3                             0.856226  0.054587                   0.030998  \n",
       "4                             0.223195  0.111597                   0.058237  "
      ]
     },
     "execution_count": 32,
     "metadata": {},
     "output_type": "execute_result"
    }
   ],
   "source": [
    "data_scaled.groupby('clusters').mean()"
   ]
  },
  {
   "cell_type": "code",
   "execution_count": 33,
   "metadata": {
    "scrolled": false
   },
   "outputs": [
    {
     "data": {
      "image/png": "[encoded data removed]",
      "text/plain": [
       "<Figure size 402.875x360 with 1 Axes>"
      ]
     },
     "metadata": {},
     "output_type": "display_data"
    },
    {
     "data": {
      "image/png": "[encoded data removed]",
      "text/plain": [
       "<Figure size 402.875x360 with 1 Axes>"
      ]
     },
     "metadata": {},
     "output_type": "display_data"
    },
    {
     "data": {
      "image/png": "[encoded data removed]",
      "text/plain": [
       "<Figure size 402.875x360 with 1 Axes>"
      ]
     },
     "metadata": {},
     "output_type": "display_data"
    },
    {
     "data": {
      "image/png": "[encoded data removed]",
      "text/plain": [
       "<Figure size 402.875x360 with 1 Axes>"
      ]
     },
     "metadata": {},
     "output_type": "display_data"
    },
    {
     "data": {
      "image/png": "[encoded data removed]",
      "text/plain": [
       "<Figure size 402.875x360 with 1 Axes>"
      ]
     },
     "metadata": {},
     "output_type": "display_data"
    },
    {
     "data": {
      "image/png": "[encoded data removed]",
      "text/plain": [
       "<Figure size 402.875x360 with 1 Axes>"
      ]
     },
     "metadata": {},
     "output_type": "display_data"
    },
    {
     "data": {
      "image/png": "[encoded data removed]",
      "text/plain": [
       "<Figure size 402.875x360 with 1 Axes>"
      ]
     },
     "metadata": {},
     "output_type": "display_data"
    },
    {
     "data": {
      "image/png": "[encoded data removed]",
      "text/plain": [
       "<Figure size 402.875x360 with 1 Axes>"
      ]
     },
     "metadata": {},
     "output_type": "display_data"
    },
    {
     "data": {
      "image/png": "[encoded data removed]",
      "text/plain": [
       "<Figure size 402.875x360 with 1 Axes>"
      ]
     },
     "metadata": {},
     "output_type": "display_data"
    },
    {
     "data": {
      "image/png": "[encoded data removed]",
      "text/plain": [
       "<Figure size 402.875x360 with 1 Axes>"
      ]
     },
     "metadata": {},
     "output_type": "display_data"
    },
    {
     "data": {
      "image/png": "[encoded data removed]",
      "text/plain": [
       "<Figure size 402.875x360 with 1 Axes>"
      ]
     },
     "metadata": {},
     "output_type": "display_data"
    }
   ],
   "source": [
    "#Distribution of features \n",
    "\n",
    "for i in data_scaled.columns.drop('clusters'):\n",
    "    sns.displot(data_scaled, x=i, hue='clusters', palette = ['blue','grey','purple','green','yellow'])\n",
    "    plt.title(i + ' Distribution', fontsize= 16)\n"
   ]
  },
  {
   "cell_type": "markdown",
   "metadata": {},
   "source": [
    "> - Based on the distribution, it can be seen that the data points within a range fall under a single cluster"
   ]
  },
  {
   "cell_type": "code",
   "execution_count": 34,
   "metadata": {},
   "outputs": [
    {
     "data": {
      "text/html": [
       "<div>\n",
       "<style scoped>\n",
       "    .dataframe tbody tr th:only-of-type {\n",
       "        vertical-align: middle;\n",
       "    }\n",
       "\n",
       "    .dataframe tbody tr th {\n",
       "        vertical-align: top;\n",
       "    }\n",
       "\n",
       "    .dataframe thead th {\n",
       "        text-align: right;\n",
       "    }\n",
       "</style>\n",
       "<table border=\"1\" class=\"dataframe\">\n",
       "  <thead>\n",
       "    <tr style=\"text-align: right;\">\n",
       "      <th>churn</th>\n",
       "      <th>0</th>\n",
       "      <th>1</th>\n",
       "      <th>percentage</th>\n",
       "    </tr>\n",
       "    <tr>\n",
       "      <th>clusters</th>\n",
       "      <th></th>\n",
       "      <th></th>\n",
       "      <th></th>\n",
       "    </tr>\n",
       "  </thead>\n",
       "  <tbody>\n",
       "    <tr>\n",
       "      <th>1</th>\n",
       "      <td>1597</td>\n",
       "      <td>451</td>\n",
       "      <td>22.021484</td>\n",
       "    </tr>\n",
       "    <tr>\n",
       "      <th>0</th>\n",
       "      <td>667</td>\n",
       "      <td>287</td>\n",
       "      <td>30.083857</td>\n",
       "    </tr>\n",
       "    <tr>\n",
       "      <th>3</th>\n",
       "      <td>344</td>\n",
       "      <td>166</td>\n",
       "      <td>32.549020</td>\n",
       "    </tr>\n",
       "    <tr>\n",
       "      <th>2</th>\n",
       "      <td>175</td>\n",
       "      <td>85</td>\n",
       "      <td>32.692308</td>\n",
       "    </tr>\n",
       "    <tr>\n",
       "      <th>4</th>\n",
       "      <td>156</td>\n",
       "      <td>72</td>\n",
       "      <td>31.578947</td>\n",
       "    </tr>\n",
       "  </tbody>\n",
       "</table>\n",
       "</div>"
      ],
      "text/plain": [
       "churn        0    1  percentage\n",
       "clusters                       \n",
       "1         1597  451   22.021484\n",
       "0          667  287   30.083857\n",
       "3          344  166   32.549020\n",
       "2          175   85   32.692308\n",
       "4          156   72   31.578947"
      ]
     },
     "execution_count": 34,
     "metadata": {},
     "output_type": "execute_result"
    }
   ],
   "source": [
    "# churn rate for each cluster\n",
    "\n",
    "gym['clusters'] = data_scaled.clusters\n",
    "\n",
    "churn_rate = pd.crosstab(index = gym.clusters, columns = gym.churn).sort_values(1, ascending = False)\n",
    "churn_rate['percentage'] = churn_rate[1] / (churn_rate[0] + churn_rate[1]) *100\n",
    "churn_rate"
   ]
  },
  {
   "cell_type": "markdown",
   "metadata": {},
   "source": [
    "> - The churn rate for customers in cluster 4 is the highest followed by the customers in cluster 2. \n",
    "> - The loyal customer are in cluster 0"
   ]
  },
  {
   "cell_type": "markdown",
   "metadata": {},
   "source": [
    "### Conclusion\n",
    "\n",
    "- No missing values or duplicates found while preprocessing \n",
    "- Correlation matrix was plot and the features which correlated above a certain threshold was removed\n",
    "- The classes in the target varibale are unequal. So F1 score was taken as a selective measure. Without SMOTE logistic regression was the best model and with smote as well , although other classifier's performnace improved by a bit \n",
    "- Dendogram was ploted by taking sample from the dataset to find the number of clusters.\n",
    "- Kmean was performed to from 5 clusters of customers. Kmeans clusters all the customers withing a scale into the same cluster\n",
    "- Finally, churn rate for each of the clusters was calculated and it was found that customers belonging to cluster 4 and cluster 2 tend to chrun the most while the customer in cluster 1 are loyal\n",
    "\n",
    "\n",
    "### Recommendations\n",
    "\n",
    "- Since the customers in cluster 2 and 4 tend to churn , giving then some special discounts on services and some free sessions might help to retain customers \n",
    "- Normally cutsomers leave when they feel demotivated or bored of the gym. So adding new equpments and keeping one on one sessions might motivate the customers and also keep them going to try out new stuffs"
   ]
  },
  {
   "cell_type": "code",
   "execution_count": null,
   "metadata": {},
   "outputs": [],
   "source": []
  }
 ],
 "metadata": {
  "ExecuteTimeLog": [
   {
    "duration": 1437,
    "start_time": "2021-06-24T08:26:49.514Z"
   },
   {
    "duration": 25,
    "start_time": "2021-06-24T08:27:14.707Z"
   },
   {
    "duration": 41,
    "start_time": "2021-06-24T08:27:18.769Z"
   },
   {
    "duration": 10,
    "start_time": "2021-06-24T08:28:48.302Z"
   },
   {
    "duration": 5,
    "start_time": "2021-06-24T08:28:59.991Z"
   },
   {
    "duration": 72,
    "start_time": "2021-06-24T08:29:49.937Z"
   },
   {
    "duration": 8,
    "start_time": "2021-06-24T08:31:57.976Z"
   },
   {
    "duration": 71,
    "start_time": "2021-06-24T08:31:59.305Z"
   },
   {
    "duration": 465,
    "start_time": "2021-06-24T08:33:22.308Z"
   },
   {
    "duration": 307,
    "start_time": "2021-06-24T08:33:37.441Z"
   },
   {
    "duration": 289,
    "start_time": "2021-06-24T08:34:14.986Z"
   },
   {
    "duration": 290,
    "start_time": "2021-06-24T08:34:39.280Z"
   },
   {
    "duration": 310,
    "start_time": "2021-06-24T08:34:46.291Z"
   },
   {
    "duration": 297,
    "start_time": "2021-06-24T08:34:51.794Z"
   },
   {
    "duration": 353,
    "start_time": "2021-06-24T08:34:58.215Z"
   },
   {
    "duration": 27,
    "start_time": "2021-06-24T08:35:06.715Z"
   },
   {
    "duration": 313,
    "start_time": "2021-06-24T08:35:18.113Z"
   },
   {
    "duration": 317,
    "start_time": "2021-06-24T08:35:22.979Z"
   },
   {
    "duration": 294,
    "start_time": "2021-06-24T08:35:33.176Z"
   },
   {
    "duration": 320,
    "start_time": "2021-06-24T08:35:38.306Z"
   },
   {
    "duration": 270,
    "start_time": "2021-06-24T08:37:03.134Z"
   },
   {
    "duration": 26,
    "start_time": "2021-06-24T08:37:07.893Z"
   },
   {
    "duration": 25,
    "start_time": "2021-06-24T08:37:34.558Z"
   },
   {
    "duration": 25,
    "start_time": "2021-06-24T08:37:40.649Z"
   },
   {
    "duration": 111,
    "start_time": "2021-06-24T08:38:46.708Z"
   },
   {
    "duration": 8,
    "start_time": "2021-06-24T08:38:51.982Z"
   },
   {
    "duration": 23,
    "start_time": "2021-06-24T08:39:04.733Z"
   },
   {
    "duration": 22,
    "start_time": "2021-06-24T08:39:41.915Z"
   },
   {
    "duration": 312,
    "start_time": "2021-06-24T08:40:57.528Z"
   },
   {
    "duration": 339,
    "start_time": "2021-06-24T08:41:48.741Z"
   },
   {
    "duration": 347,
    "start_time": "2021-06-24T08:45:01.365Z"
   },
   {
    "duration": 418,
    "start_time": "2021-06-24T08:46:41.511Z"
   },
   {
    "duration": 423,
    "start_time": "2021-06-24T08:46:50.890Z"
   },
   {
    "duration": 407,
    "start_time": "2021-06-24T08:48:01.022Z"
   },
   {
    "duration": 883,
    "start_time": "2021-06-24T08:48:22.164Z"
   },
   {
    "duration": 1232,
    "start_time": "2021-06-24T08:48:37.837Z"
   },
   {
    "duration": 1266,
    "start_time": "2021-06-24T08:50:52.903Z"
   },
   {
    "duration": 1273,
    "start_time": "2021-06-24T08:51:09.256Z"
   },
   {
    "duration": 1270,
    "start_time": "2021-06-24T08:51:12.519Z"
   },
   {
    "duration": 1342,
    "start_time": "2021-06-24T08:51:26.635Z"
   },
   {
    "duration": 1611,
    "start_time": "2021-06-24T08:52:20.812Z"
   },
   {
    "duration": 1593,
    "start_time": "2021-06-24T08:52:29.269Z"
   },
   {
    "duration": 1662,
    "start_time": "2021-06-24T08:52:41.749Z"
   },
   {
    "duration": 2193,
    "start_time": "2021-06-24T08:53:12.116Z"
   },
   {
    "duration": 2560,
    "start_time": "2021-06-24T08:53:59.948Z"
   },
   {
    "duration": 745,
    "start_time": "2021-06-24T08:54:25.405Z"
   },
   {
    "duration": 123,
    "start_time": "2021-06-24T08:54:34.586Z"
   },
   {
    "duration": 2681,
    "start_time": "2021-06-24T08:54:39.317Z"
   },
   {
    "duration": 2736,
    "start_time": "2021-06-24T08:55:30.466Z"
   },
   {
    "duration": 2795,
    "start_time": "2021-06-24T08:55:33.628Z"
   },
   {
    "duration": 2893,
    "start_time": "2021-06-24T08:56:06.353Z"
   },
   {
    "duration": 2855,
    "start_time": "2021-06-24T08:57:33.325Z"
   },
   {
    "duration": 3654,
    "start_time": "2021-06-24T08:57:38.604Z"
   },
   {
    "duration": 3024,
    "start_time": "2021-06-24T08:57:44.848Z"
   },
   {
    "duration": 2892,
    "start_time": "2021-06-24T08:57:52.375Z"
   },
   {
    "duration": 2862,
    "start_time": "2021-06-24T08:57:59.766Z"
   },
   {
    "duration": 2879,
    "start_time": "2021-06-24T08:58:05.581Z"
   },
   {
    "duration": 903,
    "start_time": "2021-06-24T08:58:48.759Z"
   },
   {
    "duration": 766,
    "start_time": "2021-06-24T08:58:58.253Z"
   },
   {
    "duration": 3662,
    "start_time": "2021-06-24T08:59:10.827Z"
   },
   {
    "duration": 2852,
    "start_time": "2021-06-24T09:00:38.718Z"
   },
   {
    "duration": 2689,
    "start_time": "2021-06-24T09:00:54.270Z"
   },
   {
    "duration": 3276,
    "start_time": "2021-06-24T09:16:32.280Z"
   },
   {
    "duration": 4,
    "start_time": "2021-06-24T09:17:51.672Z"
   },
   {
    "duration": 13353,
    "start_time": "2021-06-24T09:18:19.709Z"
   },
   {
    "duration": 326,
    "start_time": "2021-06-24T09:20:48.264Z"
   },
   {
    "duration": 1178,
    "start_time": "2021-06-24T09:20:58.881Z"
   },
   {
    "duration": 1113,
    "start_time": "2021-06-24T09:21:14.206Z"
   },
   {
    "duration": 3,
    "start_time": "2021-06-24T09:21:24.690Z"
   },
   {
    "duration": 26,
    "start_time": "2021-06-24T09:22:08.624Z"
   },
   {
    "duration": 924,
    "start_time": "2021-06-24T09:22:48.296Z"
   },
   {
    "duration": 26,
    "start_time": "2021-06-24T09:22:56.591Z"
   },
   {
    "duration": 326,
    "start_time": "2021-06-24T09:23:31.741Z"
   },
   {
    "duration": 321,
    "start_time": "2021-06-24T09:23:38.118Z"
   },
   {
    "duration": 28,
    "start_time": "2021-06-24T09:24:05.317Z"
   },
   {
    "duration": 104,
    "start_time": "2021-06-24T09:29:33.643Z"
   },
   {
    "duration": 15,
    "start_time": "2021-06-24T09:29:38.899Z"
   },
   {
    "duration": 103,
    "start_time": "2021-06-24T09:30:15.872Z"
   },
   {
    "duration": 85,
    "start_time": "2021-06-24T09:30:22.700Z"
   },
   {
    "duration": 111,
    "start_time": "2021-06-24T09:30:26.227Z"
   },
   {
    "duration": 333,
    "start_time": "2021-06-24T09:30:35.927Z"
   },
   {
    "duration": 17,
    "start_time": "2021-06-24T09:30:41.249Z"
   },
   {
    "duration": 21,
    "start_time": "2021-06-24T09:31:14.289Z"
   },
   {
    "duration": 16,
    "start_time": "2021-06-24T09:31:19.691Z"
   },
   {
    "duration": 16,
    "start_time": "2021-06-24T09:31:48.285Z"
   },
   {
    "duration": 4,
    "start_time": "2021-06-24T09:32:36.858Z"
   },
   {
    "duration": 6,
    "start_time": "2021-06-24T09:32:53.771Z"
   },
   {
    "duration": 3,
    "start_time": "2021-06-24T09:33:29.529Z"
   },
   {
    "duration": 11,
    "start_time": "2021-06-24T09:33:53.110Z"
   },
   {
    "duration": 14,
    "start_time": "2021-06-24T09:34:24.966Z"
   },
   {
    "duration": 11,
    "start_time": "2021-06-24T09:34:31.772Z"
   },
   {
    "duration": 32,
    "start_time": "2021-06-24T09:46:04.479Z"
   },
   {
    "duration": 342,
    "start_time": "2021-06-24T09:46:10.926Z"
   },
   {
    "duration": 5,
    "start_time": "2021-06-24T09:46:16.411Z"
   },
   {
    "duration": 45,
    "start_time": "2021-06-24T09:46:16.419Z"
   },
   {
    "duration": 5,
    "start_time": "2021-06-24T09:46:16.467Z"
   },
   {
    "duration": 10,
    "start_time": "2021-06-24T09:46:16.475Z"
   },
   {
    "duration": 95,
    "start_time": "2021-06-24T09:46:16.488Z"
   },
   {
    "duration": 6,
    "start_time": "2021-06-24T09:46:16.585Z"
   },
   {
    "duration": 5,
    "start_time": "2021-06-24T09:46:16.594Z"
   },
   {
    "duration": 16,
    "start_time": "2021-06-24T09:46:16.601Z"
   },
   {
    "duration": 11,
    "start_time": "2021-06-24T09:46:16.620Z"
   },
   {
    "duration": 21,
    "start_time": "2021-06-24T09:46:16.668Z"
   },
   {
    "duration": 356,
    "start_time": "2021-06-24T09:46:16.692Z"
   },
   {
    "duration": 19,
    "start_time": "2021-06-24T09:46:31.961Z"
   },
   {
    "duration": 327,
    "start_time": "2021-06-24T09:46:33.058Z"
   },
   {
    "duration": 741,
    "start_time": "2021-06-24T09:47:00.670Z"
   },
   {
    "duration": 329,
    "start_time": "2021-06-24T09:47:15.945Z"
   },
   {
    "duration": 1515,
    "start_time": "2021-06-24T09:47:26.933Z"
   },
   {
    "duration": 44,
    "start_time": "2021-06-24T09:47:28.451Z"
   },
   {
    "duration": 6,
    "start_time": "2021-06-24T09:47:28.499Z"
   },
   {
    "duration": 13,
    "start_time": "2021-06-24T09:47:28.508Z"
   },
   {
    "duration": 107,
    "start_time": "2021-06-24T09:47:28.524Z"
   },
   {
    "duration": 6,
    "start_time": "2021-06-24T09:47:28.634Z"
   },
   {
    "duration": 25,
    "start_time": "2021-06-24T09:47:28.642Z"
   },
   {
    "duration": 16,
    "start_time": "2021-06-24T09:47:28.669Z"
   },
   {
    "duration": 10,
    "start_time": "2021-06-24T09:47:28.689Z"
   },
   {
    "duration": 18,
    "start_time": "2021-06-24T09:47:28.702Z"
   },
   {
    "duration": 370,
    "start_time": "2021-06-24T09:47:28.723Z"
   },
   {
    "duration": 4,
    "start_time": "2021-06-24T09:47:29.096Z"
   },
   {
    "duration": 29,
    "start_time": "2021-06-24T09:47:42.989Z"
   },
   {
    "duration": 32,
    "start_time": "2021-06-24T09:47:51.885Z"
   },
   {
    "duration": 6,
    "start_time": "2021-06-24T09:48:05.582Z"
   },
   {
    "duration": 29,
    "start_time": "2021-06-24T09:48:30.901Z"
   },
   {
    "duration": 26,
    "start_time": "2021-06-24T09:48:54.437Z"
   },
   {
    "duration": 8,
    "start_time": "2021-06-24T09:48:58.589Z"
   },
   {
    "duration": 27,
    "start_time": "2021-06-24T09:49:10.836Z"
   },
   {
    "duration": 8,
    "start_time": "2021-06-24T09:49:11.437Z"
   },
   {
    "duration": 325,
    "start_time": "2021-06-24T09:49:32.157Z"
   },
   {
    "duration": 265,
    "start_time": "2021-06-24T09:49:54.174Z"
   },
   {
    "duration": 768,
    "start_time": "2021-06-24T09:50:07.031Z"
   },
   {
    "duration": 263,
    "start_time": "2021-06-24T09:51:19.416Z"
   },
   {
    "duration": 260,
    "start_time": "2021-06-24T09:52:10.007Z"
   },
   {
    "duration": 287,
    "start_time": "2021-06-24T09:52:26.341Z"
   },
   {
    "duration": 345,
    "start_time": "2021-06-24T09:52:46.225Z"
   },
   {
    "duration": 635,
    "start_time": "2021-06-24T09:53:03.295Z"
   },
   {
    "duration": 250,
    "start_time": "2021-06-24T09:53:10.100Z"
   },
   {
    "duration": 265,
    "start_time": "2021-06-24T09:53:26.189Z"
   },
   {
    "duration": 266,
    "start_time": "2021-06-24T09:53:32.031Z"
   },
   {
    "duration": 622,
    "start_time": "2021-06-24T09:54:03.465Z"
   },
   {
    "duration": 271,
    "start_time": "2021-06-24T09:54:07.722Z"
   },
   {
    "duration": 553,
    "start_time": "2021-06-24T09:55:02.075Z"
   },
   {
    "duration": 535,
    "start_time": "2021-06-24T09:55:21.632Z"
   },
   {
    "duration": 802,
    "start_time": "2021-06-24T09:58:16.994Z"
   },
   {
    "duration": 905,
    "start_time": "2021-06-24T09:58:30.733Z"
   },
   {
    "duration": 798,
    "start_time": "2021-06-24T09:59:09.433Z"
   },
   {
    "duration": 800,
    "start_time": "2021-06-24T09:59:51.045Z"
   },
   {
    "duration": 1057,
    "start_time": "2021-06-24T10:00:41.515Z"
   },
   {
    "duration": 1404,
    "start_time": "2021-06-24T10:01:24.194Z"
   },
   {
    "duration": 1575,
    "start_time": "2021-06-24T10:03:08.890Z"
   },
   {
    "duration": 1504,
    "start_time": "2021-06-24T10:24:46.845Z"
   },
   {
    "duration": 46,
    "start_time": "2021-06-24T10:24:48.352Z"
   },
   {
    "duration": 6,
    "start_time": "2021-06-24T10:24:48.402Z"
   },
   {
    "duration": 14,
    "start_time": "2021-06-24T10:24:48.412Z"
   },
   {
    "duration": 100,
    "start_time": "2021-06-24T10:24:48.429Z"
   },
   {
    "duration": 8,
    "start_time": "2021-06-24T10:24:48.532Z"
   },
   {
    "duration": 28,
    "start_time": "2021-06-24T10:24:48.542Z"
   },
   {
    "duration": 16,
    "start_time": "2021-06-24T10:24:48.574Z"
   },
   {
    "duration": 14,
    "start_time": "2021-06-24T10:24:48.593Z"
   },
   {
    "duration": 59,
    "start_time": "2021-06-24T10:24:48.610Z"
   },
   {
    "duration": 1615,
    "start_time": "2021-06-24T10:24:48.672Z"
   },
   {
    "duration": 10,
    "start_time": "2021-06-24T10:24:50.290Z"
   },
   {
    "duration": 132044,
    "start_time": "2021-06-24T10:28:02.614Z"
   },
   {
    "duration": 524,
    "start_time": "2021-06-24T10:31:15.655Z"
   },
   {
    "duration": 817,
    "start_time": "2021-06-24T10:31:28.746Z"
   },
   {
    "duration": 750,
    "start_time": "2021-06-24T10:32:53.260Z"
   },
   {
    "duration": 914,
    "start_time": "2021-06-24T10:33:01.566Z"
   },
   {
    "duration": 836,
    "start_time": "2021-06-24T10:33:06.515Z"
   },
   {
    "duration": 72,
    "start_time": "2021-06-24T10:34:22.401Z"
   },
   {
    "duration": 403,
    "start_time": "2021-06-24T10:34:32.283Z"
   },
   {
    "duration": 349,
    "start_time": "2021-06-24T10:34:38.056Z"
   },
   {
    "duration": 77,
    "start_time": "2021-06-24T10:34:42.878Z"
   },
   {
    "duration": 457,
    "start_time": "2021-06-24T10:35:12.485Z"
   },
   {
    "duration": 349,
    "start_time": "2021-06-24T10:35:20.471Z"
   },
   {
    "duration": 73,
    "start_time": "2021-06-24T10:35:24.453Z"
   },
   {
    "duration": 329,
    "start_time": "2021-06-24T10:42:08.545Z"
   },
   {
    "duration": 6,
    "start_time": "2021-06-24T10:42:17.270Z"
   },
   {
    "duration": 323,
    "start_time": "2021-06-24T10:42:23.084Z"
   },
   {
    "duration": 292,
    "start_time": "2021-06-24T10:42:30.551Z"
   },
   {
    "duration": 5,
    "start_time": "2021-06-24T10:42:34.338Z"
   },
   {
    "duration": 41,
    "start_time": "2021-06-24T10:42:34.345Z"
   },
   {
    "duration": 5,
    "start_time": "2021-06-24T10:42:34.390Z"
   },
   {
    "duration": 10,
    "start_time": "2021-06-24T10:42:34.398Z"
   },
   {
    "duration": 97,
    "start_time": "2021-06-24T10:42:34.410Z"
   },
   {
    "duration": 6,
    "start_time": "2021-06-24T10:42:34.509Z"
   },
   {
    "duration": 6,
    "start_time": "2021-06-24T10:42:34.518Z"
   },
   {
    "duration": 40,
    "start_time": "2021-06-24T10:42:34.527Z"
   },
   {
    "duration": 11,
    "start_time": "2021-06-24T10:42:34.569Z"
   },
   {
    "duration": 20,
    "start_time": "2021-06-24T10:42:34.582Z"
   },
   {
    "duration": 979,
    "start_time": "2021-06-24T10:42:34.604Z"
   },
   {
    "duration": 6,
    "start_time": "2021-06-24T10:42:37.637Z"
   },
   {
    "duration": 307,
    "start_time": "2021-06-24T10:42:41.959Z"
   },
   {
    "duration": 23,
    "start_time": "2021-06-24T10:42:47.483Z"
   },
   {
    "duration": 6,
    "start_time": "2021-06-24T10:42:58.150Z"
   },
   {
    "duration": 309,
    "start_time": "2021-06-24T10:45:31.258Z"
   },
   {
    "duration": 345,
    "start_time": "2021-06-24T10:46:13.717Z"
   },
   {
    "duration": 273,
    "start_time": "2021-06-24T10:46:19.158Z"
   },
   {
    "duration": 5,
    "start_time": "2021-06-24T10:46:32.570Z"
   },
   {
    "duration": 13,
    "start_time": "2021-06-24T10:47:01.235Z"
   },
   {
    "duration": 14,
    "start_time": "2021-06-24T10:47:08.252Z"
   },
   {
    "duration": 9,
    "start_time": "2021-06-24T10:47:20.619Z"
   },
   {
    "duration": 1470,
    "start_time": "2021-06-24T12:33:29.179Z"
   },
   {
    "duration": 43,
    "start_time": "2021-06-24T12:33:30.652Z"
   },
   {
    "duration": 6,
    "start_time": "2021-06-24T12:33:30.698Z"
   },
   {
    "duration": 22,
    "start_time": "2021-06-24T12:33:30.706Z"
   },
   {
    "duration": 812,
    "start_time": "2021-06-24T12:33:38.789Z"
   },
   {
    "duration": 470,
    "start_time": "2021-06-24T12:34:49.221Z"
   },
   {
    "duration": 283,
    "start_time": "2021-06-24T12:35:11.250Z"
   },
   {
    "duration": 340,
    "start_time": "2021-06-24T12:35:22.839Z"
   },
   {
    "duration": 4651,
    "start_time": "2021-06-24T12:36:13.872Z"
   },
   {
    "duration": 20,
    "start_time": "2021-06-24T12:36:19.625Z"
   },
   {
    "duration": 43,
    "start_time": "2021-06-24T12:36:20.308Z"
   },
   {
    "duration": 5,
    "start_time": "2021-06-24T12:36:22.547Z"
   },
   {
    "duration": 11,
    "start_time": "2021-06-24T12:36:23.702Z"
   },
   {
    "duration": 1283,
    "start_time": "2021-06-24T12:36:24.169Z"
   },
   {
    "duration": 70,
    "start_time": "2021-06-24T12:38:48.223Z"
   },
   {
    "duration": 66,
    "start_time": "2021-06-24T12:39:05.041Z"
   },
   {
    "duration": 66,
    "start_time": "2021-06-24T12:39:08.049Z"
   },
   {
    "duration": 66,
    "start_time": "2021-06-24T12:39:25.686Z"
   },
   {
    "duration": 3048,
    "start_time": "2021-06-24T12:39:33.104Z"
   },
   {
    "duration": 1491,
    "start_time": "2021-06-24T12:39:36.155Z"
   },
   {
    "duration": 43,
    "start_time": "2021-06-24T12:39:37.649Z"
   },
   {
    "duration": 4,
    "start_time": "2021-06-24T12:39:37.695Z"
   },
   {
    "duration": 13,
    "start_time": "2021-06-24T12:39:37.702Z"
   },
   {
    "duration": 1339,
    "start_time": "2021-06-24T12:39:37.717Z"
   },
   {
    "duration": 69,
    "start_time": "2021-06-24T12:39:39.059Z"
   },
   {
    "duration": 7,
    "start_time": "2021-06-24T12:39:39.130Z"
   },
   {
    "duration": 28,
    "start_time": "2021-06-24T12:39:39.141Z"
   },
   {
    "duration": 16,
    "start_time": "2021-06-24T12:39:39.173Z"
   },
   {
    "duration": 12,
    "start_time": "2021-06-24T12:39:39.191Z"
   },
   {
    "duration": 23,
    "start_time": "2021-06-24T12:39:39.206Z"
   },
   {
    "duration": 821,
    "start_time": "2021-06-24T12:39:39.232Z"
   },
   {
    "duration": 16,
    "start_time": "2021-06-24T12:39:40.056Z"
   },
   {
    "duration": 8,
    "start_time": "2021-06-24T12:39:40.075Z"
   },
   {
    "duration": 15,
    "start_time": "2021-06-24T12:39:40.086Z"
   },
   {
    "duration": 4,
    "start_time": "2021-06-24T12:46:50.480Z"
   },
   {
    "duration": 420,
    "start_time": "2021-06-24T12:46:59.981Z"
   },
   {
    "duration": 12,
    "start_time": "2021-06-24T12:47:00.441Z"
   },
   {
    "duration": 4,
    "start_time": "2021-06-24T12:47:10.799Z"
   },
   {
    "duration": 36,
    "start_time": "2021-06-24T12:47:11.136Z"
   },
   {
    "duration": 6,
    "start_time": "2021-06-24T12:47:11.408Z"
   },
   {
    "duration": 6,
    "start_time": "2021-06-24T12:47:11.681Z"
   },
   {
    "duration": 10,
    "start_time": "2021-06-24T12:47:13.345Z"
   },
   {
    "duration": 1368,
    "start_time": "2021-06-24T12:47:13.821Z"
   },
   {
    "duration": 75,
    "start_time": "2021-06-24T12:47:15.192Z"
   },
   {
    "duration": 282,
    "start_time": "2021-06-24T12:47:15.473Z"
   },
   {
    "duration": 16,
    "start_time": "2021-06-24T12:47:17.978Z"
   },
   {
    "duration": 21,
    "start_time": "2021-06-24T12:47:28.020Z"
   },
   {
    "duration": 25,
    "start_time": "2021-06-24T12:47:43.925Z"
   },
   {
    "duration": 15,
    "start_time": "2021-06-24T12:47:47.481Z"
   },
   {
    "duration": 11,
    "start_time": "2021-06-24T12:47:49.260Z"
   },
   {
    "duration": 942,
    "start_time": "2021-06-24T12:49:06.187Z"
   },
   {
    "duration": 9,
    "start_time": "2021-06-24T12:49:16.751Z"
   },
   {
    "duration": 12,
    "start_time": "2021-06-24T12:49:48.943Z"
   },
   {
    "duration": 10,
    "start_time": "2021-06-24T12:49:49.607Z"
   },
   {
    "duration": 801,
    "start_time": "2021-06-24T12:49:53.239Z"
   },
   {
    "duration": 3238,
    "start_time": "2021-06-24T12:49:59.708Z"
   },
   {
    "duration": 5,
    "start_time": "2021-06-24T12:50:02.949Z"
   },
   {
    "duration": 55,
    "start_time": "2021-06-24T12:50:02.957Z"
   },
   {
    "duration": 5,
    "start_time": "2021-06-24T12:50:03.015Z"
   },
   {
    "duration": 15,
    "start_time": "2021-06-24T12:50:03.023Z"
   },
   {
    "duration": 21,
    "start_time": "2021-06-24T12:50:03.040Z"
   },
   {
    "duration": 1293,
    "start_time": "2021-06-24T12:50:03.064Z"
   },
   {
    "duration": 68,
    "start_time": "2021-06-24T12:50:04.368Z"
   },
   {
    "duration": 41,
    "start_time": "2021-06-24T12:50:04.439Z"
   },
   {
    "duration": 15,
    "start_time": "2021-06-24T12:50:04.483Z"
   },
   {
    "duration": 10,
    "start_time": "2021-06-24T12:50:06.484Z"
   },
   {
    "duration": 3082,
    "start_time": "2021-06-24T12:50:54.486Z"
   },
   {
    "duration": 6,
    "start_time": "2021-06-24T12:50:57.571Z"
   },
   {
    "duration": 45,
    "start_time": "2021-06-24T12:50:57.580Z"
   },
   {
    "duration": 5,
    "start_time": "2021-06-24T12:50:57.629Z"
   },
   {
    "duration": 8,
    "start_time": "2021-06-24T12:50:57.637Z"
   },
   {
    "duration": 10,
    "start_time": "2021-06-24T12:50:57.668Z"
   },
   {
    "duration": 1427,
    "start_time": "2021-06-24T12:50:57.680Z"
   },
   {
    "duration": 79,
    "start_time": "2021-06-24T12:50:59.110Z"
   },
   {
    "duration": 25,
    "start_time": "2021-06-24T12:50:59.194Z"
   },
   {
    "duration": 14,
    "start_time": "2021-06-24T12:50:59.221Z"
   },
   {
    "duration": 36,
    "start_time": "2021-06-24T12:54:22.622Z"
   },
   {
    "duration": 9,
    "start_time": "2021-06-24T12:54:30.995Z"
   },
   {
    "duration": 79,
    "start_time": "2021-06-24T12:54:49.207Z"
   },
   {
    "duration": 9,
    "start_time": "2021-06-24T12:56:24.763Z"
   },
   {
    "duration": 12,
    "start_time": "2021-06-24T13:03:08.362Z"
   },
   {
    "duration": 344,
    "start_time": "2021-06-24T13:03:40.463Z"
   },
   {
    "duration": 7,
    "start_time": "2021-06-24T13:03:44.580Z"
   },
   {
    "duration": 337,
    "start_time": "2021-06-24T13:03:44.843Z"
   },
   {
    "duration": 318,
    "start_time": "2021-06-24T13:06:26.808Z"
   },
   {
    "duration": 296,
    "start_time": "2021-06-24T13:06:32.927Z"
   },
   {
    "duration": 298,
    "start_time": "2021-06-24T13:06:36.549Z"
   },
   {
    "duration": 7810,
    "start_time": "2021-06-24T13:07:04.244Z"
   },
   {
    "duration": 335,
    "start_time": "2021-06-24T13:07:18.344Z"
   },
   {
    "duration": 324,
    "start_time": "2021-06-24T13:07:21.039Z"
   },
   {
    "duration": 6532,
    "start_time": "2021-06-24T13:07:31.948Z"
   },
   {
    "duration": 1426,
    "start_time": "2021-06-24T13:07:38.483Z"
   },
   {
    "duration": 43,
    "start_time": "2021-06-24T13:07:39.912Z"
   },
   {
    "duration": 9,
    "start_time": "2021-06-24T13:07:39.958Z"
   },
   {
    "duration": 5,
    "start_time": "2021-06-24T13:07:39.969Z"
   },
   {
    "duration": 12,
    "start_time": "2021-06-24T13:07:39.977Z"
   },
   {
    "duration": 1317,
    "start_time": "2021-06-24T13:07:39.992Z"
   },
   {
    "duration": 81,
    "start_time": "2021-06-24T13:07:41.312Z"
   },
   {
    "duration": 24,
    "start_time": "2021-06-24T13:07:41.397Z"
   },
   {
    "duration": 14,
    "start_time": "2021-06-24T13:07:41.424Z"
   },
   {
    "duration": 749,
    "start_time": "2021-06-24T13:07:41.441Z"
   },
   {
    "duration": -193,
    "start_time": "2021-06-24T13:07:42.386Z"
   },
   {
    "duration": -193,
    "start_time": "2021-06-24T13:07:42.387Z"
   },
   {
    "duration": -194,
    "start_time": "2021-06-24T13:07:42.389Z"
   },
   {
    "duration": -193,
    "start_time": "2021-06-24T13:07:42.390Z"
   },
   {
    "duration": 829,
    "start_time": "2021-06-24T13:09:17.898Z"
   },
   {
    "duration": 6947,
    "start_time": "2021-06-24T13:10:17.518Z"
   },
   {
    "duration": 5,
    "start_time": "2021-06-24T13:10:24.468Z"
   },
   {
    "duration": 44,
    "start_time": "2021-06-24T13:10:24.476Z"
   },
   {
    "duration": 4,
    "start_time": "2021-06-24T13:10:24.523Z"
   },
   {
    "duration": 9,
    "start_time": "2021-06-24T13:10:24.529Z"
   },
   {
    "duration": 32,
    "start_time": "2021-06-24T13:10:24.541Z"
   },
   {
    "duration": 1371,
    "start_time": "2021-06-24T13:10:24.575Z"
   },
   {
    "duration": 72,
    "start_time": "2021-06-24T13:10:25.948Z"
   },
   {
    "duration": 23,
    "start_time": "2021-06-24T13:10:26.023Z"
   },
   {
    "duration": 1888,
    "start_time": "2021-06-24T13:10:27.469Z"
   },
   {
    "duration": 1861,
    "start_time": "2021-06-24T13:10:47.863Z"
   },
   {
    "duration": 1853,
    "start_time": "2021-06-24T13:10:56.657Z"
   },
   {
    "duration": 337,
    "start_time": "2021-06-24T13:13:18.374Z"
   },
   {
    "duration": 13998,
    "start_time": "2021-06-24T13:18:31.329Z"
   },
   {
    "duration": 13819,
    "start_time": "2021-06-24T13:19:51.439Z"
   },
   {
    "duration": 315,
    "start_time": "2021-06-24T13:20:57.853Z"
   },
   {
    "duration": 356,
    "start_time": "2021-06-24T13:21:06.075Z"
   },
   {
    "duration": 13426,
    "start_time": "2021-06-24T13:21:14.218Z"
   },
   {
    "duration": 13394,
    "start_time": "2021-06-24T13:22:04.675Z"
   },
   {
    "duration": 14350,
    "start_time": "2021-06-24T13:24:51.960Z"
   },
   {
    "duration": 13602,
    "start_time": "2021-06-24T13:25:53.293Z"
   },
   {
    "duration": 13466,
    "start_time": "2021-06-24T13:26:41.280Z"
   },
   {
    "duration": 13484,
    "start_time": "2021-06-24T13:26:55.762Z"
   },
   {
    "duration": 297,
    "start_time": "2021-06-24T13:48:05.998Z"
   },
   {
    "duration": 6,
    "start_time": "2021-06-24T14:03:52.371Z"
   },
   {
    "duration": 321,
    "start_time": "2021-06-24T14:08:36.194Z"
   },
   {
    "duration": 6,
    "start_time": "2021-06-24T14:08:41.517Z"
   },
   {
    "duration": 376,
    "start_time": "2021-06-24T14:23:55.588Z"
   },
   {
    "duration": 9,
    "start_time": "2021-06-24T14:24:03.012Z"
   },
   {
    "duration": 10,
    "start_time": "2021-06-24T14:24:03.640Z"
   },
   {
    "duration": 7,
    "start_time": "2021-06-24T14:24:09.136Z"
   },
   {
    "duration": 26,
    "start_time": "2021-06-24T14:24:22.563Z"
   },
   {
    "duration": 4,
    "start_time": "2021-06-24T14:34:17.180Z"
   },
   {
    "duration": 1016,
    "start_time": "2021-06-24T14:46:18.036Z"
   },
   {
    "duration": 1976,
    "start_time": "2021-06-24T14:46:26.585Z"
   },
   {
    "duration": 517,
    "start_time": "2021-06-24T14:46:42.458Z"
   },
   {
    "duration": 2112,
    "start_time": "2021-06-24T14:47:16.313Z"
   },
   {
    "duration": 94,
    "start_time": "2021-06-24T14:48:28.600Z"
   },
   {
    "duration": 141,
    "start_time": "2021-06-24T14:48:38.352Z"
   },
   {
    "duration": 2217,
    "start_time": "2021-06-24T14:48:42.031Z"
   },
   {
    "duration": 639,
    "start_time": "2021-06-24T14:49:11.898Z"
   },
   {
    "duration": 2159,
    "start_time": "2021-06-24T14:50:05.542Z"
   },
   {
    "duration": 2154,
    "start_time": "2021-06-24T14:54:21.779Z"
   },
   {
    "duration": 2184,
    "start_time": "2021-06-24T14:54:33.625Z"
   },
   {
    "duration": 2277,
    "start_time": "2021-06-24T14:54:45.928Z"
   },
   {
    "duration": 2149,
    "start_time": "2021-06-24T14:55:05.654Z"
   },
   {
    "duration": 334,
    "start_time": "2021-06-24T14:55:49.150Z"
   },
   {
    "duration": 7,
    "start_time": "2021-06-24T14:55:55.657Z"
   },
   {
    "duration": 353,
    "start_time": "2021-06-24T14:58:09.661Z"
   },
   {
    "duration": 6,
    "start_time": "2021-06-24T14:58:16.128Z"
   },
   {
    "duration": 6,
    "start_time": "2021-06-24T14:58:26.799Z"
   },
   {
    "duration": 7,
    "start_time": "2021-06-24T14:58:29.450Z"
   },
   {
    "duration": 4,
    "start_time": "2021-06-24T14:58:32.187Z"
   },
   {
    "duration": 6,
    "start_time": "2021-06-24T14:58:35.851Z"
   },
   {
    "duration": 7,
    "start_time": "2021-06-24T14:58:40.943Z"
   },
   {
    "duration": 30,
    "start_time": "2021-06-24T14:58:41.293Z"
   },
   {
    "duration": 18,
    "start_time": "2021-06-24T14:59:16.899Z"
   },
   {
    "duration": 8,
    "start_time": "2021-06-24T14:59:32.542Z"
   },
   {
    "duration": 2094,
    "start_time": "2021-06-24T15:02:26.924Z"
   },
   {
    "duration": 2334,
    "start_time": "2021-06-24T15:03:08.719Z"
   },
   {
    "duration": 10,
    "start_time": "2021-06-24T16:07:06.067Z"
   },
   {
    "duration": 9,
    "start_time": "2021-06-24T16:07:07.178Z"
   },
   {
    "duration": 4,
    "start_time": "2021-06-24T16:07:07.552Z"
   },
   {
    "duration": 2183,
    "start_time": "2021-06-24T16:07:07.850Z"
   },
   {
    "duration": 2106,
    "start_time": "2021-06-24T16:10:09.799Z"
   },
   {
    "duration": 2038,
    "start_time": "2021-06-24T16:11:11.483Z"
   },
   {
    "duration": 2227,
    "start_time": "2021-06-24T16:11:21.987Z"
   },
   {
    "duration": 2501,
    "start_time": "2021-06-24T16:11:36.968Z"
   },
   {
    "duration": 2158,
    "start_time": "2021-06-24T16:13:13.365Z"
   },
   {
    "duration": 2218,
    "start_time": "2021-06-24T16:13:56.208Z"
   },
   {
    "duration": 300,
    "start_time": "2021-06-24T16:20:46.735Z"
   },
   {
    "duration": 108,
    "start_time": "2021-06-24T16:20:57.351Z"
   },
   {
    "duration": 19849,
    "start_time": "2021-06-24T16:20:59.762Z"
   },
   {
    "duration": 478,
    "start_time": "2021-06-24T16:21:23.543Z"
   },
   {
    "duration": 347,
    "start_time": "2021-06-24T16:21:34.948Z"
   },
   {
    "duration": 9812,
    "start_time": "2021-06-24T16:21:47.397Z"
   },
   {
    "duration": 294,
    "start_time": "2021-06-24T16:21:57.212Z"
   },
   {
    "duration": 11071,
    "start_time": "2021-06-24T16:22:40.932Z"
   },
   {
    "duration": 334,
    "start_time": "2021-06-24T16:22:52.007Z"
   },
   {
    "duration": 14381,
    "start_time": "2021-06-24T16:25:56.195Z"
   },
   {
    "duration": 283,
    "start_time": "2021-06-24T16:26:10.579Z"
   },
   {
    "duration": 17509,
    "start_time": "2021-06-24T16:26:52.593Z"
   },
   {
    "duration": 323,
    "start_time": "2021-06-24T16:27:10.104Z"
   },
   {
    "duration": 23690,
    "start_time": "2021-06-24T16:27:21.003Z"
   },
   {
    "duration": 2057,
    "start_time": "2021-06-24T16:27:44.696Z"
   },
   {
    "duration": 43,
    "start_time": "2021-06-24T16:27:46.756Z"
   },
   {
    "duration": 5,
    "start_time": "2021-06-24T16:27:46.801Z"
   },
   {
    "duration": 9,
    "start_time": "2021-06-24T16:27:46.808Z"
   },
   {
    "duration": 13,
    "start_time": "2021-06-24T16:27:46.819Z"
   },
   {
    "duration": 1320,
    "start_time": "2021-06-24T16:27:46.834Z"
   },
   {
    "duration": 72,
    "start_time": "2021-06-24T16:27:48.158Z"
   },
   {
    "duration": 49,
    "start_time": "2021-06-24T16:27:48.235Z"
   },
   {
    "duration": 13622,
    "start_time": "2021-06-24T16:27:48.286Z"
   },
   {
    "duration": 1867,
    "start_time": "2021-06-24T16:28:01.910Z"
   },
   {
    "duration": 6,
    "start_time": "2021-06-24T16:28:03.779Z"
   },
   {
    "duration": 254,
    "start_time": "2021-06-24T16:28:03.787Z"
   },
   {
    "duration": 12,
    "start_time": "2021-06-24T16:28:04.043Z"
   },
   {
    "duration": 16,
    "start_time": "2021-06-24T16:28:04.058Z"
   },
   {
    "duration": 4,
    "start_time": "2021-06-24T16:28:04.077Z"
   },
   {
    "duration": 2714,
    "start_time": "2021-06-24T16:28:04.084Z"
   },
   {
    "duration": 23,
    "start_time": "2021-06-24T16:28:17.632Z"
   },
   {
    "duration": 7,
    "start_time": "2021-06-24T16:28:54.954Z"
   },
   {
    "duration": 450,
    "start_time": "2021-06-24T16:40:37.491Z"
   },
   {
    "duration": 310,
    "start_time": "2021-06-24T16:40:58.183Z"
   },
   {
    "duration": 7,
    "start_time": "2021-06-24T16:40:59.588Z"
   },
   {
    "duration": 593,
    "start_time": "2021-06-24T16:40:59.806Z"
   },
   {
    "duration": 7,
    "start_time": "2021-06-24T16:42:15.577Z"
   },
   {
    "duration": 635,
    "start_time": "2021-06-24T16:42:15.844Z"
   },
   {
    "duration": 611,
    "start_time": "2021-06-24T16:43:00.443Z"
   },
   {
    "duration": 313,
    "start_time": "2021-06-24T16:43:26.492Z"
   },
   {
    "duration": 20276,
    "start_time": "2021-06-24T16:43:45.404Z"
   },
   {
    "duration": 7,
    "start_time": "2021-06-24T16:44:05.683Z"
   },
   {
    "duration": 51,
    "start_time": "2021-06-24T16:44:05.694Z"
   },
   {
    "duration": 5,
    "start_time": "2021-06-24T16:44:05.748Z"
   },
   {
    "duration": 8,
    "start_time": "2021-06-24T16:44:05.755Z"
   },
   {
    "duration": 15,
    "start_time": "2021-06-24T16:44:05.765Z"
   },
   {
    "duration": 1374,
    "start_time": "2021-06-24T16:44:05.783Z"
   },
   {
    "duration": 73,
    "start_time": "2021-06-24T16:44:07.159Z"
   },
   {
    "duration": 40,
    "start_time": "2021-06-24T16:44:07.236Z"
   },
   {
    "duration": 13883,
    "start_time": "2021-06-24T16:44:07.279Z"
   },
   {
    "duration": 1922,
    "start_time": "2021-06-24T16:44:21.167Z"
   },
   {
    "duration": 5,
    "start_time": "2021-06-24T16:44:23.092Z"
   },
   {
    "duration": 11,
    "start_time": "2021-06-24T16:44:23.100Z"
   },
   {
    "duration": 17,
    "start_time": "2021-06-24T16:44:23.114Z"
   },
   {
    "duration": 37,
    "start_time": "2021-06-24T16:44:23.133Z"
   },
   {
    "duration": 4,
    "start_time": "2021-06-24T16:44:23.172Z"
   },
   {
    "duration": 8,
    "start_time": "2021-06-24T16:44:39.877Z"
   },
   {
    "duration": 2693,
    "start_time": "2021-06-24T16:44:40.611Z"
   },
   {
    "duration": 20405,
    "start_time": "2021-06-24T16:45:01.160Z"
   },
   {
    "duration": 2072,
    "start_time": "2021-06-24T16:45:21.568Z"
   },
   {
    "duration": 43,
    "start_time": "2021-06-24T16:45:23.643Z"
   },
   {
    "duration": 5,
    "start_time": "2021-06-24T16:45:23.689Z"
   },
   {
    "duration": 8,
    "start_time": "2021-06-24T16:45:23.697Z"
   },
   {
    "duration": 10,
    "start_time": "2021-06-24T16:45:23.708Z"
   },
   {
    "duration": 1363,
    "start_time": "2021-06-24T16:45:23.721Z"
   },
   {
    "duration": 90,
    "start_time": "2021-06-24T16:45:25.090Z"
   },
   {
    "duration": 24,
    "start_time": "2021-06-24T16:45:25.183Z"
   },
   {
    "duration": 14516,
    "start_time": "2021-06-24T16:45:25.210Z"
   },
   {
    "duration": 1917,
    "start_time": "2021-06-24T16:45:39.729Z"
   },
   {
    "duration": 7,
    "start_time": "2021-06-24T16:45:41.648Z"
   },
   {
    "duration": 71,
    "start_time": "2021-06-24T16:45:41.666Z"
   },
   {
    "duration": 13,
    "start_time": "2021-06-24T16:45:41.740Z"
   },
   {
    "duration": 21,
    "start_time": "2021-06-24T16:45:41.755Z"
   },
   {
    "duration": 5,
    "start_time": "2021-06-24T16:45:41.779Z"
   },
   {
    "duration": 14,
    "start_time": "2021-06-24T16:45:41.787Z"
   },
   {
    "duration": 2826,
    "start_time": "2021-06-24T16:45:41.803Z"
   },
   {
    "duration": 39,
    "start_time": "2021-06-24T16:45:44.631Z"
   },
   {
    "duration": 8,
    "start_time": "2021-06-24T16:45:44.673Z"
   },
   {
    "duration": 20285,
    "start_time": "2021-06-24T16:46:47.033Z"
   },
   {
    "duration": 1980,
    "start_time": "2021-06-24T16:47:07.321Z"
   },
   {
    "duration": 43,
    "start_time": "2021-06-24T16:47:09.304Z"
   },
   {
    "duration": 5,
    "start_time": "2021-06-24T16:47:09.349Z"
   },
   {
    "duration": 7,
    "start_time": "2021-06-24T16:47:09.367Z"
   },
   {
    "duration": 12,
    "start_time": "2021-06-24T16:47:09.376Z"
   },
   {
    "duration": 1266,
    "start_time": "2021-06-24T16:47:09.390Z"
   },
   {
    "duration": 75,
    "start_time": "2021-06-24T16:47:10.659Z"
   },
   {
    "duration": 44,
    "start_time": "2021-06-24T16:47:10.736Z"
   },
   {
    "duration": 13964,
    "start_time": "2021-06-24T16:47:10.783Z"
   },
   {
    "duration": 1953,
    "start_time": "2021-06-24T16:47:24.749Z"
   },
   {
    "duration": 5,
    "start_time": "2021-06-24T16:47:26.705Z"
   },
   {
    "duration": 11,
    "start_time": "2021-06-24T16:47:26.712Z"
   },
   {
    "duration": 11,
    "start_time": "2021-06-24T16:47:26.725Z"
   },
   {
    "duration": 14,
    "start_time": "2021-06-24T16:47:26.738Z"
   },
   {
    "duration": 4,
    "start_time": "2021-06-24T16:47:26.755Z"
   },
   {
    "duration": 12,
    "start_time": "2021-06-24T16:47:26.761Z"
   },
   {
    "duration": 2945,
    "start_time": "2021-06-24T16:47:26.776Z"
   },
   {
    "duration": 25,
    "start_time": "2021-06-24T16:47:29.724Z"
   },
   {
    "duration": 22,
    "start_time": "2021-06-24T16:47:29.752Z"
   },
   {
    "duration": 24,
    "start_time": "2021-06-24T16:52:09.968Z"
   },
   {
    "duration": 8,
    "start_time": "2021-06-24T16:52:10.300Z"
   },
   {
    "duration": 23,
    "start_time": "2021-06-24T16:52:27.651Z"
   },
   {
    "duration": 8,
    "start_time": "2021-06-24T16:52:27.895Z"
   },
   {
    "duration": 21548,
    "start_time": "2021-06-24T16:52:37.244Z"
   },
   {
    "duration": 2372,
    "start_time": "2021-06-24T16:52:58.795Z"
   },
   {
    "duration": 43,
    "start_time": "2021-06-24T16:53:01.170Z"
   },
   {
    "duration": 5,
    "start_time": "2021-06-24T16:53:01.216Z"
   },
   {
    "duration": 21,
    "start_time": "2021-06-24T16:53:01.223Z"
   },
   {
    "duration": 22,
    "start_time": "2021-06-24T16:53:01.247Z"
   },
   {
    "duration": 1323,
    "start_time": "2021-06-24T16:53:01.271Z"
   },
   {
    "duration": 86,
    "start_time": "2021-06-24T16:53:02.599Z"
   },
   {
    "duration": 25,
    "start_time": "2021-06-24T16:53:02.689Z"
   },
   {
    "duration": 14235,
    "start_time": "2021-06-24T16:53:02.717Z"
   },
   {
    "duration": 1871,
    "start_time": "2021-06-24T16:53:16.954Z"
   },
   {
    "duration": 5,
    "start_time": "2021-06-24T16:53:18.828Z"
   },
   {
    "duration": 9,
    "start_time": "2021-06-24T16:53:18.836Z"
   },
   {
    "duration": 10,
    "start_time": "2021-06-24T16:53:18.867Z"
   },
   {
    "duration": 14,
    "start_time": "2021-06-24T16:53:18.879Z"
   },
   {
    "duration": 3,
    "start_time": "2021-06-24T16:53:18.896Z"
   },
   {
    "duration": 20,
    "start_time": "2021-06-24T16:53:18.901Z"
   },
   {
    "duration": 3004,
    "start_time": "2021-06-24T16:53:18.923Z"
   },
   {
    "duration": 37,
    "start_time": "2021-06-24T16:53:21.930Z"
   },
   {
    "duration": 8,
    "start_time": "2021-06-24T16:53:21.970Z"
   },
   {
    "duration": 23,
    "start_time": "2021-06-24T16:53:28.202Z"
   },
   {
    "duration": 13,
    "start_time": "2021-06-24T16:53:51.694Z"
   },
   {
    "duration": 757,
    "start_time": "2021-06-24T16:54:32.648Z"
   },
   {
    "duration": 20193,
    "start_time": "2021-06-24T16:54:52.097Z"
   },
   {
    "duration": 2746,
    "start_time": "2021-06-24T16:55:12.293Z"
   },
   {
    "duration": 43,
    "start_time": "2021-06-24T16:55:15.042Z"
   },
   {
    "duration": 5,
    "start_time": "2021-06-24T16:55:15.088Z"
   },
   {
    "duration": 8,
    "start_time": "2021-06-24T16:55:15.095Z"
   },
   {
    "duration": 16,
    "start_time": "2021-06-24T16:55:15.105Z"
   },
   {
    "duration": 1331,
    "start_time": "2021-06-24T16:55:15.123Z"
   },
   {
    "duration": 71,
    "start_time": "2021-06-24T16:55:16.456Z"
   },
   {
    "duration": 40,
    "start_time": "2021-06-24T16:55:16.531Z"
   },
   {
    "duration": 13838,
    "start_time": "2021-06-24T16:55:16.573Z"
   },
   {
    "duration": 1928,
    "start_time": "2021-06-24T16:55:30.414Z"
   },
   {
    "duration": 6,
    "start_time": "2021-06-24T16:55:32.344Z"
   },
   {
    "duration": 5,
    "start_time": "2021-06-24T16:55:32.367Z"
   },
   {
    "duration": 19,
    "start_time": "2021-06-24T16:55:32.374Z"
   },
   {
    "duration": 21,
    "start_time": "2021-06-24T16:55:32.395Z"
   },
   {
    "duration": 4,
    "start_time": "2021-06-24T16:55:32.419Z"
   },
   {
    "duration": 11,
    "start_time": "2021-06-24T16:55:32.425Z"
   },
   {
    "duration": 2652,
    "start_time": "2021-06-24T16:55:32.438Z"
   },
   {
    "duration": 23,
    "start_time": "2021-06-24T16:55:35.092Z"
   },
   {
    "duration": 7,
    "start_time": "2021-06-24T16:55:35.118Z"
   },
   {
    "duration": 42,
    "start_time": "2021-06-24T16:55:35.127Z"
   },
   {
    "duration": 797,
    "start_time": "2021-06-24T16:55:35.171Z"
   },
   {
    "duration": 714,
    "start_time": "2021-06-24T16:56:30.118Z"
   },
   {
    "duration": 8,
    "start_time": "2021-06-24T16:56:45.661Z"
   },
   {
    "duration": 20085,
    "start_time": "2021-06-24T16:56:51.709Z"
   },
   {
    "duration": 2041,
    "start_time": "2021-06-24T16:57:11.797Z"
   },
   {
    "duration": 43,
    "start_time": "2021-06-24T16:57:13.841Z"
   },
   {
    "duration": 5,
    "start_time": "2021-06-24T16:57:13.887Z"
   },
   {
    "duration": 14,
    "start_time": "2021-06-24T16:57:13.895Z"
   },
   {
    "duration": 11,
    "start_time": "2021-06-24T16:57:13.912Z"
   },
   {
    "duration": 1329,
    "start_time": "2021-06-24T16:57:13.925Z"
   },
   {
    "duration": 67,
    "start_time": "2021-06-24T16:57:15.256Z"
   },
   {
    "duration": 49,
    "start_time": "2021-06-24T16:57:15.329Z"
   },
   {
    "duration": 14195,
    "start_time": "2021-06-24T16:57:15.381Z"
   },
   {
    "duration": 1807,
    "start_time": "2021-06-24T16:57:29.578Z"
   },
   {
    "duration": 5,
    "start_time": "2021-06-24T16:57:31.387Z"
   },
   {
    "duration": 26,
    "start_time": "2021-06-24T16:57:31.394Z"
   },
   {
    "duration": 32,
    "start_time": "2021-06-24T16:57:31.422Z"
   },
   {
    "duration": 31,
    "start_time": "2021-06-24T16:57:31.456Z"
   },
   {
    "duration": 31,
    "start_time": "2021-06-24T16:57:31.489Z"
   },
   {
    "duration": 30,
    "start_time": "2021-06-24T16:57:31.523Z"
   },
   {
    "duration": 2748,
    "start_time": "2021-06-24T16:57:31.555Z"
   },
   {
    "duration": 24,
    "start_time": "2021-06-24T16:57:34.305Z"
   },
   {
    "duration": 9,
    "start_time": "2021-06-24T16:57:34.331Z"
   },
   {
    "duration": 39,
    "start_time": "2021-06-24T16:57:34.343Z"
   },
   {
    "duration": 3303,
    "start_time": "2021-06-24T16:57:34.385Z"
   },
   {
    "duration": 3031,
    "start_time": "2021-06-24T16:58:59.533Z"
   },
   {
    "duration": 3052,
    "start_time": "2021-06-24T17:00:58.773Z"
   },
   {
    "duration": 2700,
    "start_time": "2021-06-24T17:01:44.124Z"
   },
   {
    "duration": 286,
    "start_time": "2021-06-24T17:03:42.253Z"
   },
   {
    "duration": 9,
    "start_time": "2021-06-24T17:03:46.164Z"
   },
   {
    "duration": 10,
    "start_time": "2021-06-24T17:03:55.296Z"
   },
   {
    "duration": 743,
    "start_time": "2021-06-24T18:11:25.395Z"
   },
   {
    "duration": 5,
    "start_time": "2021-06-24T18:13:31.161Z"
   },
   {
    "duration": 25,
    "start_time": "2021-06-24T18:13:47.689Z"
   },
   {
    "duration": 6,
    "start_time": "2021-06-24T18:13:51.653Z"
   },
   {
    "duration": 11,
    "start_time": "2021-06-24T18:14:09.700Z"
   },
   {
    "duration": 6,
    "start_time": "2021-06-24T18:14:20.015Z"
   },
   {
    "duration": 321,
    "start_time": "2021-06-24T18:14:25.212Z"
   },
   {
    "duration": 292,
    "start_time": "2021-06-24T18:18:01.213Z"
   },
   {
    "duration": 341,
    "start_time": "2021-06-24T18:18:13.897Z"
   },
   {
    "duration": 25315,
    "start_time": "2021-06-24T18:18:42.988Z"
   },
   {
    "duration": 112,
    "start_time": "2021-06-24T18:19:10.339Z"
   },
   {
    "duration": 4,
    "start_time": "2021-06-24T18:19:16.580Z"
   },
   {
    "duration": 315,
    "start_time": "2021-06-24T18:20:56.842Z"
   },
   {
    "duration": 267,
    "start_time": "2021-06-24T18:21:03.955Z"
   },
   {
    "duration": 221,
    "start_time": "2021-06-24T18:22:14.361Z"
   },
   {
    "duration": 7,
    "start_time": "2021-06-24T18:22:23.432Z"
   },
   {
    "duration": 201,
    "start_time": "2021-06-24T18:22:25.392Z"
   },
   {
    "duration": 6,
    "start_time": "2021-06-24T18:23:00.689Z"
   },
   {
    "duration": 10,
    "start_time": "2021-06-24T18:26:38.278Z"
   },
   {
    "duration": 297,
    "start_time": "2021-06-24T18:26:57.987Z"
   },
   {
    "duration": 732,
    "start_time": "2021-06-24T18:27:48.663Z"
   },
   {
    "duration": 208,
    "start_time": "2021-06-24T18:27:52.178Z"
   },
   {
    "duration": 5,
    "start_time": "2021-06-24T18:27:52.403Z"
   },
   {
    "duration": 871,
    "start_time": "2021-06-24T18:27:52.657Z"
   },
   {
    "duration": 23672,
    "start_time": "2021-06-24T18:28:07.278Z"
   },
   {
    "duration": 2191,
    "start_time": "2021-06-24T18:28:30.953Z"
   },
   {
    "duration": 45,
    "start_time": "2021-06-24T18:28:33.148Z"
   },
   {
    "duration": 5,
    "start_time": "2021-06-24T18:28:33.195Z"
   },
   {
    "duration": 11,
    "start_time": "2021-06-24T18:28:33.203Z"
   },
   {
    "duration": 13,
    "start_time": "2021-06-24T18:28:33.216Z"
   },
   {
    "duration": 1330,
    "start_time": "2021-06-24T18:28:33.231Z"
   },
   {
    "duration": 65,
    "start_time": "2021-06-24T18:28:34.566Z"
   },
   {
    "duration": 39,
    "start_time": "2021-06-24T18:28:34.635Z"
   },
   {
    "duration": 13494,
    "start_time": "2021-06-24T18:28:34.677Z"
   },
   {
    "duration": 1915,
    "start_time": "2021-06-24T18:28:48.174Z"
   },
   {
    "duration": 6,
    "start_time": "2021-06-24T18:28:50.091Z"
   },
   {
    "duration": 916,
    "start_time": "2021-06-24T18:28:50.099Z"
   },
   {
    "duration": 324,
    "start_time": "2021-06-24T18:28:51.017Z"
   },
   {
    "duration": 132,
    "start_time": "2021-06-24T18:28:51.344Z"
   },
   {
    "duration": 5,
    "start_time": "2021-06-24T18:28:51.478Z"
   },
   {
    "duration": 8,
    "start_time": "2021-06-24T18:28:51.485Z"
   },
   {
    "duration": 2706,
    "start_time": "2021-06-24T18:28:51.495Z"
   },
   {
    "duration": 27,
    "start_time": "2021-06-24T18:28:54.204Z"
   },
   {
    "duration": 37,
    "start_time": "2021-06-24T18:28:54.234Z"
   },
   {
    "duration": 10,
    "start_time": "2021-06-24T18:28:54.274Z"
   },
   {
    "duration": 16,
    "start_time": "2021-06-24T18:28:54.287Z"
   },
   {
    "duration": 2870,
    "start_time": "2021-06-24T18:28:54.305Z"
   },
   {
    "duration": 6,
    "start_time": "2021-06-24T18:28:57.178Z"
   },
   {
    "duration": 19,
    "start_time": "2021-06-24T18:28:57.187Z"
   },
   {
    "duration": 227,
    "start_time": "2021-06-24T18:28:57.209Z"
   },
   {
    "duration": 5,
    "start_time": "2021-06-24T18:28:57.442Z"
   },
   {
    "duration": 658,
    "start_time": "2021-06-24T18:28:57.449Z"
   },
   {
    "duration": 329,
    "start_time": "2021-06-25T08:32:38.779Z"
   },
   {
    "duration": 36809,
    "start_time": "2021-06-25T08:32:42.741Z"
   },
   {
    "duration": 2298,
    "start_time": "2021-06-25T08:33:19.554Z"
   },
   {
    "duration": 62,
    "start_time": "2021-06-25T08:33:21.856Z"
   },
   {
    "duration": 6,
    "start_time": "2021-06-25T08:33:21.922Z"
   },
   {
    "duration": 28,
    "start_time": "2021-06-25T08:33:21.931Z"
   },
   {
    "duration": 15,
    "start_time": "2021-06-25T08:33:21.962Z"
   },
   {
    "duration": 1375,
    "start_time": "2021-06-25T08:33:21.980Z"
   },
   {
    "duration": 95,
    "start_time": "2021-06-25T08:33:23.361Z"
   },
   {
    "duration": 28,
    "start_time": "2021-06-25T08:33:23.461Z"
   },
   {
    "duration": 14858,
    "start_time": "2021-06-25T08:33:23.492Z"
   },
   {
    "duration": 2086,
    "start_time": "2021-06-25T08:33:38.352Z"
   },
   {
    "duration": 16,
    "start_time": "2021-06-25T08:33:40.441Z"
   },
   {
    "duration": 18,
    "start_time": "2021-06-25T08:33:40.460Z"
   },
   {
    "duration": 19,
    "start_time": "2021-06-25T08:33:40.481Z"
   },
   {
    "duration": 51,
    "start_time": "2021-06-25T08:33:40.503Z"
   },
   {
    "duration": 5,
    "start_time": "2021-06-25T08:33:40.558Z"
   },
   {
    "duration": 11,
    "start_time": "2021-06-25T08:33:40.567Z"
   },
   {
    "duration": 3245,
    "start_time": "2021-06-25T08:33:40.581Z"
   },
   {
    "duration": 37,
    "start_time": "2021-06-25T08:33:43.829Z"
   },
   {
    "duration": 8,
    "start_time": "2021-06-25T08:33:43.869Z"
   },
   {
    "duration": 12,
    "start_time": "2021-06-25T08:33:43.880Z"
   },
   {
    "duration": 23,
    "start_time": "2021-06-25T08:33:43.894Z"
   },
   {
    "duration": 3008,
    "start_time": "2021-06-25T08:33:43.922Z"
   },
   {
    "duration": 7,
    "start_time": "2021-06-25T08:33:46.934Z"
   },
   {
    "duration": 893,
    "start_time": "2021-06-25T08:33:46.956Z"
   },
   {
    "duration": 126,
    "start_time": "2021-06-25T08:39:48.871Z"
   },
   {
    "duration": 91,
    "start_time": "2021-06-25T08:39:56.319Z"
   },
   {
    "duration": 39,
    "start_time": "2021-06-25T08:39:56.566Z"
   },
   {
    "duration": 7,
    "start_time": "2021-06-25T08:40:04.508Z"
   },
   {
    "duration": 726,
    "start_time": "2021-06-25T08:40:21.988Z"
   },
   {
    "duration": 530,
    "start_time": "2021-06-25T08:40:33.337Z"
   },
   {
    "duration": 494,
    "start_time": "2021-06-25T08:41:05.070Z"
   },
   {
    "duration": 739,
    "start_time": "2021-06-25T08:41:33.431Z"
   },
   {
    "duration": 260,
    "start_time": "2021-06-25T08:43:15.446Z"
   },
   {
    "duration": 14,
    "start_time": "2021-06-25T08:43:31.312Z"
   },
   {
    "duration": 29,
    "start_time": "2021-06-25T08:43:39.047Z"
   },
   {
    "duration": 26,
    "start_time": "2021-06-25T08:43:44.472Z"
   },
   {
    "duration": 24,
    "start_time": "2021-06-25T08:43:58.597Z"
   },
   {
    "duration": 16,
    "start_time": "2021-06-25T08:44:06.767Z"
   },
   {
    "duration": 16,
    "start_time": "2021-06-25T08:44:12.455Z"
   },
   {
    "duration": 26,
    "start_time": "2021-06-25T08:44:18.943Z"
   },
   {
    "duration": 8,
    "start_time": "2021-06-25T08:44:58.117Z"
   },
   {
    "duration": 26,
    "start_time": "2021-06-25T08:45:33.662Z"
   },
   {
    "duration": 7,
    "start_time": "2021-06-25T08:46:29.859Z"
   },
   {
    "duration": 23419,
    "start_time": "2021-06-25T08:49:14.421Z"
   },
   {
    "duration": 2232,
    "start_time": "2021-06-25T08:49:37.844Z"
   },
   {
    "duration": 48,
    "start_time": "2021-06-25T08:49:40.079Z"
   },
   {
    "duration": 5,
    "start_time": "2021-06-25T08:49:40.130Z"
   },
   {
    "duration": 21,
    "start_time": "2021-06-25T08:49:40.138Z"
   },
   {
    "duration": 18,
    "start_time": "2021-06-25T08:49:40.161Z"
   },
   {
    "duration": 1367,
    "start_time": "2021-06-25T08:49:40.181Z"
   },
   {
    "duration": 68,
    "start_time": "2021-06-25T08:49:41.551Z"
   },
   {
    "duration": 52,
    "start_time": "2021-06-25T08:49:41.623Z"
   },
   {
    "duration": 13504,
    "start_time": "2021-06-25T08:49:41.679Z"
   },
   {
    "duration": 1986,
    "start_time": "2021-06-25T08:49:55.186Z"
   },
   {
    "duration": 6,
    "start_time": "2021-06-25T08:49:57.174Z"
   },
   {
    "duration": 12,
    "start_time": "2021-06-25T08:49:57.182Z"
   },
   {
    "duration": 11,
    "start_time": "2021-06-25T08:49:57.197Z"
   },
   {
    "duration": 54,
    "start_time": "2021-06-25T08:49:57.210Z"
   },
   {
    "duration": 5,
    "start_time": "2021-06-25T08:49:57.267Z"
   },
   {
    "duration": 9,
    "start_time": "2021-06-25T08:49:57.275Z"
   },
   {
    "duration": 2699,
    "start_time": "2021-06-25T08:49:57.286Z"
   },
   {
    "duration": 25,
    "start_time": "2021-06-25T08:49:59.987Z"
   },
   {
    "duration": 9,
    "start_time": "2021-06-25T08:50:00.014Z"
   },
   {
    "duration": 34,
    "start_time": "2021-06-25T08:50:00.026Z"
   },
   {
    "duration": 23,
    "start_time": "2021-06-25T08:50:00.062Z"
   },
   {
    "duration": 3012,
    "start_time": "2021-06-25T08:50:00.088Z"
   },
   {
    "duration": 5,
    "start_time": "2021-06-25T08:50:03.103Z"
   },
   {
    "duration": 53,
    "start_time": "2021-06-25T08:50:03.110Z"
   },
   {
    "duration": 124041,
    "start_time": "2021-06-25T08:50:03.166Z"
   },
   {
    "duration": 145325,
    "start_time": "2021-06-25T08:52:12.031Z"
   },
   {
    "duration": 3,
    "start_time": "2021-06-25T08:56:56.896Z"
   },
   {
    "duration": 280,
    "start_time": "2021-06-25T08:59:13.758Z"
   },
   {
    "duration": 1730,
    "start_time": "2021-06-25T08:59:19.426Z"
   },
   {
    "duration": 1418,
    "start_time": "2021-06-25T08:59:53.841Z"
   },
   {
    "duration": 23,
    "start_time": "2021-06-25T09:03:22.103Z"
   },
   {
    "duration": 266,
    "start_time": "2021-06-25T09:03:27.585Z"
   },
   {
    "duration": 27,
    "start_time": "2021-06-25T09:03:29.668Z"
   },
   {
    "duration": 1661,
    "start_time": "2021-06-25T09:04:10.860Z"
   },
   {
    "duration": 281,
    "start_time": "2021-06-25T09:04:16.778Z"
   },
   {
    "duration": 620,
    "start_time": "2021-06-25T09:04:21.440Z"
   },
   {
    "duration": 610,
    "start_time": "2021-06-25T09:04:52.746Z"
   },
   {
    "duration": 615,
    "start_time": "2021-06-25T09:05:11.452Z"
   },
   {
    "duration": 27,
    "start_time": "2021-06-25T09:05:21.490Z"
   },
   {
    "duration": 11,
    "start_time": "2021-06-25T09:05:28.019Z"
   },
   {
    "duration": 37,
    "start_time": "2021-06-25T09:05:43.511Z"
   },
   {
    "duration": 6,
    "start_time": "2021-06-25T09:12:16.388Z"
   },
   {
    "duration": 23,
    "start_time": "2021-06-25T09:16:53.147Z"
   },
   {
    "duration": 267,
    "start_time": "2021-06-25T09:18:57.484Z"
   },
   {
    "duration": 26712,
    "start_time": "2021-06-25T09:19:03.390Z"
   },
   {
    "duration": 701,
    "start_time": "2021-06-25T09:19:57.439Z"
   },
   {
    "duration": 15785,
    "start_time": "2021-06-25T09:21:26.783Z"
   },
   {
    "duration": 15840,
    "start_time": "2021-06-25T09:21:57.609Z"
   },
   {
    "duration": 261,
    "start_time": "2021-06-25T09:22:23.575Z"
   },
   {
    "duration": 252,
    "start_time": "2021-06-25T09:22:53.018Z"
   },
   {
    "duration": 23641,
    "start_time": "2021-06-25T09:23:04.428Z"
   },
   {
    "duration": 2163,
    "start_time": "2021-06-25T09:23:28.072Z"
   },
   {
    "duration": 47,
    "start_time": "2021-06-25T09:23:30.238Z"
   },
   {
    "duration": 6,
    "start_time": "2021-06-25T09:23:30.287Z"
   },
   {
    "duration": 28,
    "start_time": "2021-06-25T09:23:30.295Z"
   },
   {
    "duration": 33,
    "start_time": "2021-06-25T09:23:30.325Z"
   },
   {
    "duration": 1268,
    "start_time": "2021-06-25T09:23:30.360Z"
   },
   {
    "duration": 76,
    "start_time": "2021-06-25T09:23:31.631Z"
   },
   {
    "duration": 48,
    "start_time": "2021-06-25T09:23:31.712Z"
   },
   {
    "duration": 13676,
    "start_time": "2021-06-25T09:23:31.763Z"
   },
   {
    "duration": 1794,
    "start_time": "2021-06-25T09:23:45.442Z"
   },
   {
    "duration": 16,
    "start_time": "2021-06-25T09:23:47.238Z"
   },
   {
    "duration": 12,
    "start_time": "2021-06-25T09:23:47.257Z"
   },
   {
    "duration": 26,
    "start_time": "2021-06-25T09:23:47.272Z"
   },
   {
    "duration": 31,
    "start_time": "2021-06-25T09:23:47.301Z"
   },
   {
    "duration": 16,
    "start_time": "2021-06-25T09:23:47.335Z"
   },
   {
    "duration": 20,
    "start_time": "2021-06-25T09:23:47.353Z"
   },
   {
    "duration": 2730,
    "start_time": "2021-06-25T09:23:47.375Z"
   },
   {
    "duration": 23,
    "start_time": "2021-06-25T09:23:50.107Z"
   },
   {
    "duration": 25,
    "start_time": "2021-06-25T09:23:50.132Z"
   },
   {
    "duration": 10,
    "start_time": "2021-06-25T09:23:50.159Z"
   },
   {
    "duration": 17,
    "start_time": "2021-06-25T09:23:50.172Z"
   },
   {
    "duration": 2981,
    "start_time": "2021-06-25T09:23:50.192Z"
   },
   {
    "duration": 5,
    "start_time": "2021-06-25T09:23:53.176Z"
   },
   {
    "duration": 24,
    "start_time": "2021-06-25T09:23:53.184Z"
   },
   {
    "duration": 3,
    "start_time": "2021-06-25T09:23:53.210Z"
   },
   {
    "duration": 1938,
    "start_time": "2021-06-25T09:23:53.217Z"
   },
   {
    "duration": 1708,
    "start_time": "2021-06-25T09:23:55.157Z"
   },
   {
    "duration": 20,
    "start_time": "2021-06-25T09:23:56.868Z"
   },
   {
    "duration": 398,
    "start_time": "2021-06-25T09:23:56.890Z"
   },
   {
    "duration": 27847,
    "start_time": "2021-06-25T09:24:32.113Z"
   },
   {
    "duration": 28737,
    "start_time": "2021-06-25T09:26:06.612Z"
   },
   {
    "duration": 28963,
    "start_time": "2021-06-25T09:28:09.358Z"
   },
   {
    "duration": 26735,
    "start_time": "2021-06-25T09:29:15.082Z"
   },
   {
    "duration": 856,
    "start_time": "2021-06-25T09:33:15.870Z"
   },
   {
    "duration": 376,
    "start_time": "2021-06-25T09:33:19.483Z"
   },
   {
    "duration": 24,
    "start_time": "2021-06-25T09:33:33.688Z"
   },
   {
    "duration": 629,
    "start_time": "2021-06-25T09:34:38.135Z"
   },
   {
    "duration": 23742,
    "start_time": "2021-06-25T09:34:51.982Z"
   },
   {
    "duration": 2075,
    "start_time": "2021-06-25T09:35:15.727Z"
   },
   {
    "duration": 57,
    "start_time": "2021-06-25T09:35:17.810Z"
   },
   {
    "duration": 7,
    "start_time": "2021-06-25T09:35:17.871Z"
   },
   {
    "duration": 15,
    "start_time": "2021-06-25T09:35:17.881Z"
   },
   {
    "duration": 24,
    "start_time": "2021-06-25T09:35:17.899Z"
   },
   {
    "duration": 1275,
    "start_time": "2021-06-25T09:35:17.955Z"
   },
   {
    "duration": 82,
    "start_time": "2021-06-25T09:35:19.235Z"
   },
   {
    "duration": 48,
    "start_time": "2021-06-25T09:35:19.321Z"
   },
   {
    "duration": 14177,
    "start_time": "2021-06-25T09:35:19.372Z"
   },
   {
    "duration": 1909,
    "start_time": "2021-06-25T09:35:33.555Z"
   },
   {
    "duration": 6,
    "start_time": "2021-06-25T09:35:35.466Z"
   },
   {
    "duration": 9,
    "start_time": "2021-06-25T09:35:35.475Z"
   },
   {
    "duration": 10,
    "start_time": "2021-06-25T09:35:35.486Z"
   },
   {
    "duration": 58,
    "start_time": "2021-06-25T09:35:35.498Z"
   },
   {
    "duration": 4,
    "start_time": "2021-06-25T09:35:35.558Z"
   },
   {
    "duration": 17,
    "start_time": "2021-06-25T09:35:35.564Z"
   },
   {
    "duration": 2806,
    "start_time": "2021-06-25T09:35:35.583Z"
   },
   {
    "duration": 23,
    "start_time": "2021-06-25T09:35:38.391Z"
   },
   {
    "duration": 9,
    "start_time": "2021-06-25T09:35:38.417Z"
   },
   {
    "duration": 8,
    "start_time": "2021-06-25T09:35:38.454Z"
   },
   {
    "duration": 13,
    "start_time": "2021-06-25T09:35:38.465Z"
   },
   {
    "duration": 2873,
    "start_time": "2021-06-25T09:35:38.481Z"
   },
   {
    "duration": 5,
    "start_time": "2021-06-25T09:35:41.356Z"
   },
   {
    "duration": 25,
    "start_time": "2021-06-25T09:35:41.364Z"
   },
   {
    "duration": 3,
    "start_time": "2021-06-25T09:35:41.393Z"
   },
   {
    "duration": 1569,
    "start_time": "2021-06-25T09:35:41.398Z"
   },
   {
    "duration": 1715,
    "start_time": "2021-06-25T09:35:42.970Z"
   },
   {
    "duration": 212,
    "start_time": "2021-06-25T09:35:44.688Z"
   },
   {
    "duration": 26666,
    "start_time": "2021-06-25T09:35:44.903Z"
   },
   {
    "duration": 4,
    "start_time": "2021-06-25T09:37:44.837Z"
   },
   {
    "duration": 23841,
    "start_time": "2021-06-25T09:37:53.626Z"
   },
   {
    "duration": 2099,
    "start_time": "2021-06-25T09:38:17.470Z"
   },
   {
    "duration": 46,
    "start_time": "2021-06-25T09:38:19.572Z"
   },
   {
    "duration": 564,
    "start_time": "2021-06-25T09:38:19.620Z"
   },
   {
    "duration": 9,
    "start_time": "2021-06-25T09:38:20.187Z"
   },
   {
    "duration": 15,
    "start_time": "2021-06-25T09:38:20.199Z"
   },
   {
    "duration": 1246,
    "start_time": "2021-06-25T09:38:20.216Z"
   },
   {
    "duration": 63,
    "start_time": "2021-06-25T09:38:21.465Z"
   },
   {
    "duration": 23,
    "start_time": "2021-06-25T09:38:21.556Z"
   },
   {
    "duration": 13510,
    "start_time": "2021-06-25T09:38:21.582Z"
   },
   {
    "duration": 1821,
    "start_time": "2021-06-25T09:38:35.095Z"
   },
   {
    "duration": 5,
    "start_time": "2021-06-25T09:38:36.919Z"
   },
   {
    "duration": 27,
    "start_time": "2021-06-25T09:38:36.927Z"
   },
   {
    "duration": 10,
    "start_time": "2021-06-25T09:38:36.957Z"
   },
   {
    "duration": 18,
    "start_time": "2021-06-25T09:38:36.969Z"
   },
   {
    "duration": 4,
    "start_time": "2021-06-25T09:38:36.990Z"
   },
   {
    "duration": 8,
    "start_time": "2021-06-25T09:38:36.996Z"
   },
   {
    "duration": 2683,
    "start_time": "2021-06-25T09:38:37.006Z"
   },
   {
    "duration": 24,
    "start_time": "2021-06-25T09:38:39.692Z"
   },
   {
    "duration": 9,
    "start_time": "2021-06-25T09:38:39.719Z"
   },
   {
    "duration": 7,
    "start_time": "2021-06-25T09:38:39.755Z"
   },
   {
    "duration": 13,
    "start_time": "2021-06-25T09:38:39.765Z"
   },
   {
    "duration": 2843,
    "start_time": "2021-06-25T09:38:39.781Z"
   },
   {
    "duration": 6,
    "start_time": "2021-06-25T09:38:42.627Z"
   },
   {
    "duration": 39,
    "start_time": "2021-06-25T09:38:42.635Z"
   },
   {
    "duration": 3,
    "start_time": "2021-06-25T09:38:42.676Z"
   },
   {
    "duration": 1573,
    "start_time": "2021-06-25T09:38:42.683Z"
   },
   {
    "duration": 1697,
    "start_time": "2021-06-25T09:38:44.259Z"
   },
   {
    "duration": 23,
    "start_time": "2021-06-25T09:38:45.958Z"
   },
   {
    "duration": 26489,
    "start_time": "2021-06-25T09:38:45.983Z"
   },
   {
    "duration": 439,
    "start_time": "2021-06-25T09:45:25.140Z"
   },
   {
    "duration": 5,
    "start_time": "2021-06-25T09:45:30.636Z"
   },
   {
    "duration": 27,
    "start_time": "2021-06-25T09:45:33.555Z"
   },
   {
    "duration": 277,
    "start_time": "2021-06-25T09:46:03.828Z"
   },
   {
    "duration": 12,
    "start_time": "2021-06-25T09:46:08.308Z"
   },
   {
    "duration": 35,
    "start_time": "2021-06-25T09:47:12.661Z"
   },
   {
    "duration": 290,
    "start_time": "2021-06-25T09:51:35.031Z"
   },
   {
    "duration": 277,
    "start_time": "2021-06-25T09:51:41.524Z"
   },
   {
    "duration": 30,
    "start_time": "2021-06-25T09:51:46.851Z"
   },
   {
    "duration": 261,
    "start_time": "2021-06-25T09:52:02.974Z"
   },
   {
    "duration": 33,
    "start_time": "2021-06-25T09:52:07.297Z"
   },
   {
    "duration": 34,
    "start_time": "2021-06-25T09:52:29.429Z"
   },
   {
    "duration": 32,
    "start_time": "2021-06-25T09:52:36.873Z"
   },
   {
    "duration": 30,
    "start_time": "2021-06-25T09:53:12.214Z"
   },
   {
    "duration": 31,
    "start_time": "2021-06-25T09:53:57.530Z"
   },
   {
    "duration": 28,
    "start_time": "2021-06-25T09:54:37.331Z"
   },
   {
    "duration": 27,
    "start_time": "2021-06-25T09:54:43.128Z"
   },
   {
    "duration": 29,
    "start_time": "2021-06-25T09:54:46.958Z"
   },
   {
    "duration": 32,
    "start_time": "2021-06-25T09:55:23.513Z"
   },
   {
    "duration": 41,
    "start_time": "2021-06-25T09:55:54.480Z"
   },
   {
    "duration": 24,
    "start_time": "2021-06-25T09:56:14.255Z"
   },
   {
    "duration": 29,
    "start_time": "2021-06-25T09:56:21.703Z"
   },
   {
    "duration": 27,
    "start_time": "2021-06-25T09:56:59.167Z"
   },
   {
    "duration": 279,
    "start_time": "2021-06-25T09:57:03.959Z"
   },
   {
    "duration": 33,
    "start_time": "2021-06-25T09:57:08.013Z"
   },
   {
    "duration": 32,
    "start_time": "2021-06-25T09:57:30.494Z"
   },
   {
    "duration": 33,
    "start_time": "2021-06-25T09:57:47.429Z"
   },
   {
    "duration": 5,
    "start_time": "2021-06-25T10:02:31.085Z"
   },
   {
    "duration": 17281,
    "start_time": "2021-06-25T10:02:58.913Z"
   },
   {
    "duration": 27269,
    "start_time": "2021-06-25T10:03:37.054Z"
   },
   {
    "duration": 6,
    "start_time": "2021-06-25T10:14:41.877Z"
   },
   {
    "duration": 28,
    "start_time": "2021-06-25T10:14:47.224Z"
   },
   {
    "duration": 8,
    "start_time": "2021-06-25T10:14:55.337Z"
   },
   {
    "duration": 7,
    "start_time": "2021-06-25T10:16:11.291Z"
   },
   {
    "duration": 268,
    "start_time": "2021-06-25T10:16:12.037Z"
   },
   {
    "duration": 36012,
    "start_time": "2021-06-25T10:16:21.344Z"
   },
   {
    "duration": 7,
    "start_time": "2021-06-25T10:17:18.088Z"
   },
   {
    "duration": 7244,
    "start_time": "2021-06-25T10:17:18.500Z"
   },
   {
    "duration": 7112,
    "start_time": "2021-06-25T10:17:37.806Z"
   },
   {
    "duration": 7236,
    "start_time": "2021-06-25T10:19:02.176Z"
   },
   {
    "duration": 6924,
    "start_time": "2021-06-25T10:21:07.786Z"
   },
   {
    "duration": 6956,
    "start_time": "2021-06-25T10:22:07.543Z"
   },
   {
    "duration": 7,
    "start_time": "2021-06-25T10:22:31.009Z"
   },
   {
    "duration": 17824,
    "start_time": "2021-06-25T10:22:31.211Z"
   },
   {
    "duration": 19317,
    "start_time": "2021-06-25T10:22:58.653Z"
   },
   {
    "duration": 8,
    "start_time": "2021-06-25T10:23:30.125Z"
   },
   {
    "duration": 6973,
    "start_time": "2021-06-25T10:23:30.398Z"
   },
   {
    "duration": 8,
    "start_time": "2021-06-25T10:23:49.749Z"
   },
   {
    "duration": 7455,
    "start_time": "2021-06-25T10:23:50.020Z"
   },
   {
    "duration": 7597,
    "start_time": "2021-06-25T10:23:59.877Z"
   },
   {
    "duration": 8,
    "start_time": "2021-06-25T10:35:15.342Z"
   },
   {
    "duration": 22941,
    "start_time": "2021-06-25T10:36:47.389Z"
   },
   {
    "duration": 2310,
    "start_time": "2021-06-25T10:37:10.333Z"
   },
   {
    "duration": 46,
    "start_time": "2021-06-25T10:37:12.656Z"
   },
   {
    "duration": 5,
    "start_time": "2021-06-25T10:37:12.705Z"
   },
   {
    "duration": 10,
    "start_time": "2021-06-25T10:37:12.712Z"
   },
   {
    "duration": 12,
    "start_time": "2021-06-25T10:37:12.725Z"
   },
   {
    "duration": 1430,
    "start_time": "2021-06-25T10:37:12.740Z"
   },
   {
    "duration": 87,
    "start_time": "2021-06-25T10:37:14.173Z"
   },
   {
    "duration": 23,
    "start_time": "2021-06-25T10:37:14.264Z"
   },
   {
    "duration": 13385,
    "start_time": "2021-06-25T10:37:14.290Z"
   },
   {
    "duration": 1815,
    "start_time": "2021-06-25T10:37:27.678Z"
   },
   {
    "duration": 5,
    "start_time": "2021-06-25T10:37:29.496Z"
   },
   {
    "duration": 1219,
    "start_time": "2021-06-25T10:37:29.503Z"
   },
   {
    "duration": 845,
    "start_time": "2021-06-25T10:37:30.724Z"
   },
   {
    "duration": 280,
    "start_time": "2021-06-25T10:37:31.571Z"
   },
   {
    "duration": 11,
    "start_time": "2021-06-25T10:37:31.854Z"
   },
   {
    "duration": 26,
    "start_time": "2021-06-25T10:37:31.867Z"
   },
   {
    "duration": 2903,
    "start_time": "2021-06-25T10:37:31.895Z"
   },
   {
    "duration": 26,
    "start_time": "2021-06-25T10:37:34.801Z"
   },
   {
    "duration": 30,
    "start_time": "2021-06-25T10:37:34.830Z"
   },
   {
    "duration": 8,
    "start_time": "2021-06-25T10:37:34.862Z"
   },
   {
    "duration": 20,
    "start_time": "2021-06-25T10:37:34.872Z"
   },
   {
    "duration": 2835,
    "start_time": "2021-06-25T10:37:34.894Z"
   },
   {
    "duration": 5,
    "start_time": "2021-06-25T10:37:37.732Z"
   },
   {
    "duration": 22,
    "start_time": "2021-06-25T10:37:37.755Z"
   },
   {
    "duration": 2,
    "start_time": "2021-06-25T10:37:37.780Z"
   },
   {
    "duration": 8,
    "start_time": "2021-06-25T10:37:37.787Z"
   },
   {
    "duration": 6882,
    "start_time": "2021-06-25T10:37:37.797Z"
   },
   {
    "duration": 1476,
    "start_time": "2021-06-25T10:37:44.681Z"
   },
   {
    "duration": 1607,
    "start_time": "2021-06-25T10:37:46.160Z"
   },
   {
    "duration": 21,
    "start_time": "2021-06-25T10:37:47.769Z"
   },
   {
    "duration": 26227,
    "start_time": "2021-06-25T10:37:47.792Z"
   },
   {
    "duration": 46,
    "start_time": "2021-06-25T10:38:14.022Z"
   },
   {
    "duration": 3,
    "start_time": "2021-06-25T10:38:36.256Z"
   },
   {
    "duration": 7,
    "start_time": "2021-06-25T10:38:36.481Z"
   },
   {
    "duration": 6966,
    "start_time": "2021-06-25T10:38:36.706Z"
   },
   {
    "duration": 333,
    "start_time": "2021-06-25T13:14:54.538Z"
   },
   {
    "duration": 33871,
    "start_time": "2021-06-25T13:15:02.314Z"
   },
   {
    "duration": 2175,
    "start_time": "2021-06-25T13:15:36.188Z"
   },
   {
    "duration": 46,
    "start_time": "2021-06-25T13:15:38.366Z"
   },
   {
    "duration": 10,
    "start_time": "2021-06-25T13:15:38.416Z"
   },
   {
    "duration": 10,
    "start_time": "2021-06-25T13:15:38.429Z"
   },
   {
    "duration": 12,
    "start_time": "2021-06-25T13:15:38.442Z"
   },
   {
    "duration": 1332,
    "start_time": "2021-06-25T13:15:38.457Z"
   },
   {
    "duration": 77,
    "start_time": "2021-06-25T13:15:39.795Z"
   },
   {
    "duration": 26,
    "start_time": "2021-06-25T13:15:39.876Z"
   },
   {
    "duration": 14120,
    "start_time": "2021-06-25T13:15:39.924Z"
   },
   {
    "duration": 1820,
    "start_time": "2021-06-25T13:15:54.047Z"
   },
   {
    "duration": 6,
    "start_time": "2021-06-25T13:15:55.870Z"
   },
   {
    "duration": 9,
    "start_time": "2021-06-25T13:15:55.879Z"
   },
   {
    "duration": 37,
    "start_time": "2021-06-25T13:15:55.891Z"
   },
   {
    "duration": 14,
    "start_time": "2021-06-25T13:15:55.930Z"
   },
   {
    "duration": 5,
    "start_time": "2021-06-25T13:15:55.948Z"
   },
   {
    "duration": 10,
    "start_time": "2021-06-25T13:15:55.956Z"
   },
   {
    "duration": 2698,
    "start_time": "2021-06-25T13:15:55.968Z"
   },
   {
    "duration": 23,
    "start_time": "2021-06-25T13:15:58.668Z"
   },
   {
    "duration": 7,
    "start_time": "2021-06-25T13:15:58.694Z"
   },
   {
    "duration": 24,
    "start_time": "2021-06-25T13:15:58.704Z"
   },
   {
    "duration": 26,
    "start_time": "2021-06-25T13:15:58.730Z"
   },
   {
    "duration": 2919,
    "start_time": "2021-06-25T13:15:58.761Z"
   },
   {
    "duration": 5,
    "start_time": "2021-06-25T13:16:01.683Z"
   },
   {
    "duration": 1028,
    "start_time": "2021-06-25T13:16:01.690Z"
   },
   {
    "duration": 276,
    "start_time": "2021-06-25T13:16:02.721Z"
   },
   {
    "duration": 69,
    "start_time": "2021-06-25T13:16:03.000Z"
   },
   {
    "duration": 7068,
    "start_time": "2021-06-25T13:16:03.072Z"
   },
   {
    "duration": 1381,
    "start_time": "2021-06-25T13:16:10.143Z"
   },
   {
    "duration": 1411,
    "start_time": "2021-06-25T13:16:11.527Z"
   },
   {
    "duration": 22,
    "start_time": "2021-06-25T13:16:12.940Z"
   },
   {
    "duration": 27182,
    "start_time": "2021-06-25T13:16:12.964Z"
   },
   {
    "duration": 33,
    "start_time": "2021-06-25T13:16:40.149Z"
   },
   {
    "duration": 7,
    "start_time": "2021-06-25T13:16:40.185Z"
   },
   {
    "duration": 7133,
    "start_time": "2021-06-25T13:16:40.224Z"
   }
  ],
  "kernelspec": {
   "display_name": "Python 3",
   "language": "python",
   "name": "python3"
  },
  "language_info": {
   "codemirror_mode": {
    "name": "ipython",
    "version": 3
   },
   "file_extension": ".py",
   "mimetype": "text/x-python",
   "name": "python",
   "nbconvert_exporter": "python",
   "pygments_lexer": "ipython3",
   "version": "3.8.8"
  },
  "toc": {
   "base_numbering": 1,
   "nav_menu": {},
   "number_sections": true,
   "sideBar": true,
   "skip_h1_title": true,
   "title_cell": "Table of Contents",
   "title_sidebar": "Contents",
   "toc_cell": false,
   "toc_position": {},
   "toc_section_display": true,
   "toc_window_display": false
  }
 },
 "nbformat": 4,
 "nbformat_minor": 2
}
